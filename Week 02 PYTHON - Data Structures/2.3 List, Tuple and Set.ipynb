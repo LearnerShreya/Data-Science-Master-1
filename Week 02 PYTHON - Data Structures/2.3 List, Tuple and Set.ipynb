{
 "cells": [
  {
   "cell_type": "markdown",
   "id": "9ca3d634",
   "metadata": {},
   "source": [
    "### 💡 Tip:\n",
    "\n",
    "> Use `Shift + Tab` in Jupyter Notebook/VS Code to check method info or docstring.\n",
    "\n",
    "---\n",
    "\n",
    "### 🔹 **Common Data Structures in Python**\n",
    "\n",
    "> **List**, **Tuple**, and **Set** are three fundamental data structures used to store **collections of items** in Python.\n",
    "\n",
    "| Data Structure | Ordered | Mutable | Allows Duplicates | Indexable  | Keys/Values       | Unique Elements |\n",
    "| -------------- | ------- | ------- | ----------------- | ---------- | ----------------- | --------------- |\n",
    "| **List**       | ✅ Yes   | ✅ Yes   | ✅ Yes             | ✅ Yes      | ❌ No              | ❌ No            |\n",
    "| **Tuple**      | ✅ Yes   | ❌ No    | ✅ Yes             | ✅ Yes      | ❌ No              | ❌ No            |\n",
    "| **Set**        | ❌ No    | ✅ Yes   | ❌ No              | ❌ No       | ❌ No              | ✅ Yes           |\n",
    "| **Dictionary** | ✅ Yes\\* | ✅ Yes   | ✅ Values only     | ✅ (by key) | ✅ Key-Value Pairs | ✅ Keys only     |\n",
    "\n",
    "> 🔸 **Note**: From **Python 3.7+**, dictionaries maintain **insertion order** (so they're ordered by default now).\n",
    "\n",
    "---\n",
    "\n",
    "## 📌 **Ordered vs Unordered Data Structures**\n",
    "\n",
    "### 🔷 **Ordered (Indexing-based)**\n",
    "\n",
    "* Elements are stored in a **defined sequence**.\n",
    "* Access is based on **position/index**.\n",
    "* **Order is preserved** – the sequence remains the same as insertion.\n",
    "\n",
    "#### ✅ Examples:\n",
    "\n",
    "* **List** → `a = [10, 20, 30]`\n",
    "* **Tuple** → `t = (1, 2, 3)`\n",
    "* **Dictionary (Python 3.7+)** → `d = {'a': 1, 'b': 2}`\n",
    "\n",
    "#### ➕ Key Features:\n",
    "\n",
    "* Supports **indexing, slicing, iteration**.\n",
    "* Useful when **element position matters**.\n",
    "\n",
    "---\n",
    "\n",
    "### 🔷 **Unordered (Hash-based)**\n",
    "\n",
    "* No fixed position; elements are stored using **hashing**.\n",
    "* Access is based on **value or key**, not index.\n",
    "* The order **is not guaranteed** (though `dict` maintains insertion order in newer versions).\n",
    "\n",
    "#### ✅ Examples:\n",
    "\n",
    "* **Set** → `s = {3, 1, 2}`\n",
    "* **Dictionary (pre-3.7)** → Unordered by default\n",
    "\n",
    "#### ➕ Key Features:\n",
    "\n",
    "* Supports **fast lookup**.\n",
    "* Used when **uniqueness or fast search** is needed.\n",
    "\n",
    "---\n",
    "\n",
    "## 🔁 Example to Compare Ordered vs Unordered\n",
    "\n",
    "```python\n",
    "# Ordered\n",
    "lst = [1, 2, 3]\n",
    "print(lst[0])  # Output: 1 (predictable)\n",
    "\n",
    "# Unordered\n",
    "s = {3, 2, 1}\n",
    "print(s)       # Output could be {1, 2, 3} or any order (not predictable)\n",
    "```\n",
    "\n",
    "---\n",
    "\n",
    "## ✅ **List in Python**\n",
    "\n",
    "### 🔹 What is a List?\n",
    "\n",
    "* A **List** is a **primitive data type** in Python used to store **multiple items** in a **single variable**.\n",
    "* It can store **mixed data types**:\n",
    "\n",
    "  * Primitive types: `int`, `float`, `bool`, `str`, `complex`\n",
    "  * Non-primitive types: `list`, `tuple`, `set`, `dict`\n",
    "* Lists are:\n",
    "\n",
    "  * **Ordered** → elements have a fixed position\n",
    "  * **Mutable** → elements can be changed\n",
    "\n",
    "### 🔹 Examples:\n",
    "\n",
    "```python\n",
    "a = [1, \"hello\", 3.14, True, [5, 6], {'key': 'value'}]\n",
    "```\n",
    "\n",
    "---"
   ]
  },
  {
   "cell_type": "markdown",
   "id": "b2a90a3e",
   "metadata": {},
   "source": [
    "\n",
    "\n",
    "### 🔹 **List Functions (Mutable & Ordered)**\n",
    "\n",
    "| Function/Method         | Description                           | Example                | Notes                           |\n",
    "| ----------------------- | ------------------------------------- | ---------------------- | ------------------------------- |\n",
    "| `list[index]`           | Access element by position            | `a[0]`                 | 0-based indexing                |\n",
    "| `list[start:stop:step]` | Slice list                            | `a[1:4:2]`             | Returns a sublist               |\n",
    "| `len(list)`             | Count total elements                  | `len(a)`               | Returns integer                 |\n",
    "| `append(x)`             | Add one element at the end            | `a.append(5)`          | Adds as single item             |\n",
    "| `extend(iterable)`      | Add multiple elements (unwraps)       | `a.extend([6, 7])`     | Works like appending one by one |\n",
    "| `insert(i, x)`          | Insert at specific index              | `a.insert(2, 10)`      | Pushes existing elements right  |\n",
    "| `pop(i)`                | Removes & returns element at index    | `a.pop(1)`             | Default: last element           |\n",
    "| `remove(x)`             | Removes first occurrence of value `x` | `a.remove(3)`          | Error if not found              |\n",
    "| `clear()`               | Deletes all items                     | `a.clear()`            | List becomes empty              |\n",
    "| `sort()`                | Sorts list in ascending order         | `a.sort()`             | Changes original list           |\n",
    "| `sort(reverse=True)`    | Sorts list in descending order        | `a.sort(reverse=True)` | Use `sorted(a)` for new list    |\n",
    "| `reverse()`             | Reverses current order                | `a.reverse()`          | In-place reverse                |\n",
    "| `index(x)`              | Returns index of `x`                  | `a.index(10)`          | Only finds first match          |\n",
    "| `count(x)`              | Counts how many times `x` appears     | `a.count(5)`           | Returns 0 if not found          |\n",
    "| `copy()`                | Copies the list                       | `b = a.copy()`         | Avoids reference issues         |\n",
    "| `del list[i]`           | Deletes element at index `i`          | `del a[2]`             | Removes permanently             |\n",
    "| List comprehension      | Create or filter lists                | `[x*2 for x in a]`     | Powerful and clean              |\n",
    "\n",
    "---\n",
    "\n",
    "### 🔹 **Tuple Functions (Immutable & Ordered)**\n",
    "\n",
    "| Function/Method     | Description                      | Example         | Notes                         |\n",
    "| ------------------- | -------------------------------- | --------------- | ----------------------------- |\n",
    "| `tuple[index]`      | Access item by position          | `t[0]`          | Same as list                  |\n",
    "| `tuple[start:stop]` | Slice elements                   | `t[1:3]`        | Doesn't modify original       |\n",
    "| `len(tuple)`        | Total elements                   | `len(t)`        | Returns count                 |\n",
    "| `count(x)`          | Count how many times `x` appears | `t.count(2)`    | Returns integer               |\n",
    "| `index(x)`          | Returns index of first `x`       | `t.index(5)`    | Raises error if not found     |\n",
    "| `tuple + tuple`     | Concatenate                      | `(1, 2) + (3,)` | Returns new tuple             |\n",
    "| `tuple * n`         | Repeat tuple                     | `(1, 2) * 3`    | Creates longer repeated tuple |\n",
    "\n",
    "---\n",
    "\n",
    "### 🔹 **Set Functions (Mutable & Unordered)**\n",
    "\n",
    "| Function/Method            | Description                       | Example                       | Notes                     |      |\n",
    "| -------------------------- | --------------------------------- | ----------------------------- | ------------------------- | ---- |\n",
    "| `add(x)`                   | Add element                       | `s.add(5)`                    | Only unique items         |      |\n",
    "| `update(iterable)`         | Add multiple elements             | `s.update([6, 7])`            | Like `extend()`           |      |\n",
    "| `remove(x)`                | Remove `x`, error if not found    | `s.remove(3)`                 | Use `discard()` if unsure |      |\n",
    "| `discard(x)`               | Remove `x`, no error if not found | `s.discard(10)`               | Safer option              |      |\n",
    "| `pop()`                    | Remove & return a random item     | `s.pop()`                     | Set is unordered          |      |\n",
    "| `clear()`                  | Remove all items                  | `s.clear()`                   | Empties the set           |      |\n",
    "| `copy()`                   | Shallow copy of set               | `s2 = s.copy()`               | Independent set           |      |\n",
    "| `union(s2)`                | Combines elements                 | `s.union({8, 9})`             | Also \\`s                  | s2\\` |\n",
    "| `intersection(s2)`         | Common elements                   | `s.intersection({5, 6})`      | Also `s & s2`             |      |\n",
    "| `difference(s2)`           | Only in `s`, not in `s2`          | `s.difference({5})`           | Also `s - s2`             |      |\n",
    "| `symmetric_difference(s2)` | In either but not both            | `s.symmetric_difference({5})` | Also `s ^ s2`             |      |\n",
    "| `issubset(s2)`             | True if all `s` in `s2`           | `s.issubset({1,2,3,4})`       | Checks containment        |      |\n",
    "| `issuperset(s2)`           | True if `s` contains all of `s2`  | `s.issuperset({1,2})`         | Opposite of subset        |      |\n",
    "| `isdisjoint(s2)`           | True if no common elements        | `s.isdisjoint({10})`          | Returns boolean           |      |\n",
    "| Set comprehension          | Create new set                    | `{x for x in range(5)}`       | Fast and readable         |      |\n",
    "\n",
    "---\n",
    "\n",
    "### 🔹 **Dictionary Functions (Key-Value Store, Mutable)**\n",
    "\n",
    "| Function/Method        | Description                   | Example                      | Notes                       |\n",
    "| ---------------------- | ----------------------------- | ---------------------------- | --------------------------- |\n",
    "| `dict[key]`            | Get value by key              | `d['name']`                  | Error if key not found      |\n",
    "| `dict.get(key)`        | Safe key access               | `d.get('age')`               | Returns None if key missing |\n",
    "| `dict.keys()`          | Returns all keys              | `d.keys()`                   | Use `list()` to convert     |\n",
    "| `dict.values()`        | Returns all values            | `d.values()`                 | Use `list()` to convert     |\n",
    "| `dict.items()`         | Returns key-value pairs       | `d.items()`                  | In (key, value) format      |\n",
    "| `dict.update(d2)`      | Add/replace with another dict | `d.update({'age': 22})`      | Merges dictionaries         |\n",
    "| `dict.pop(key)`        | Remove key and return value   | `d.pop('age')`               | Key must exist              |\n",
    "| `dict.popitem()`       | Removes last inserted item    | `d.popitem()`                | Python 3.7+ maintains order |\n",
    "| `dict.clear()`         | Removes all items             | `d.clear()`                  | Becomes empty dictionary    |\n",
    "| `dict.copy()`          | Returns shallow copy          | `new = d.copy()`             | Useful for backup           |\n",
    "| `dict.setdefault(k,v)` | Gets value or sets default    | `d.setdefault('x', 10)`      | Adds only if key missing    |\n",
    "| `key in dict`          | Checks if key exists          | `'name' in d`                | Returns boolean             |\n",
    "| Dict comprehension     | Build dict from expression    | `{x: x*x for x in range(5)}` | Short & powerful            |\n",
    "\n",
    "\n",
    "### ✅ **Is `dict` ordered or unordered?**\n",
    "\n",
    "* ✅ **In Python 3.7 and above** (including Python 3.8, 3.9, 3.10...):\n",
    "\n",
    "  > **Dictionaries are ordered by default**.\n",
    "\n",
    "That means:\n",
    "\n",
    "* The **order in which you insert key-value pairs is preserved**.\n",
    "* If you do:\n",
    "\n",
    "  ```python\n",
    "  d = {'a': 1, 'b': 2, 'c': 3}\n",
    "  print(d)\n",
    "  ```\n",
    "\n",
    "  Output will be:\n",
    "\n",
    "  ```python\n",
    "  {'a': 1, 'b': 2, 'c': 3}\n",
    "  ```\n",
    "\n",
    "### 🔁 But earlier...\n",
    "\n",
    "* ❌ **Before Python 3.7**:\n",
    "\n",
    "  > Dictionaries were **unordered**, and insertion order was not guaranteed.\n"
   ]
  },
  {
   "cell_type": "code",
   "execution_count": 267,
   "id": "d9b3da03",
   "metadata": {},
   "outputs": [],
   "source": [
    "l = [1, 345, 45, \"sudh\", True, 5+7j, 345.456]"
   ]
  },
  {
   "cell_type": "code",
   "execution_count": 268,
   "id": "5f4c7730",
   "metadata": {},
   "outputs": [
    {
     "data": {
      "text/plain": [
       "list"
      ]
     },
     "execution_count": 268,
     "metadata": {},
     "output_type": "execute_result"
    }
   ],
   "source": [
    "type(l)"
   ]
  },
  {
   "cell_type": "code",
   "execution_count": 269,
   "id": "cf4104d9",
   "metadata": {},
   "outputs": [
    {
     "data": {
      "text/plain": [
       "1"
      ]
     },
     "execution_count": 269,
     "metadata": {},
     "output_type": "execute_result"
    }
   ],
   "source": [
    "l[0]"
   ]
  },
  {
   "cell_type": "code",
   "execution_count": 270,
   "id": "c00bd983",
   "metadata": {},
   "outputs": [
    {
     "data": {
      "text/plain": [
       "345"
      ]
     },
     "execution_count": 270,
     "metadata": {},
     "output_type": "execute_result"
    }
   ],
   "source": [
    "l[1]"
   ]
  },
  {
   "cell_type": "code",
   "execution_count": 271,
   "id": "5081ff3a",
   "metadata": {},
   "outputs": [
    {
     "data": {
      "text/plain": [
       "345.456"
      ]
     },
     "execution_count": 271,
     "metadata": {},
     "output_type": "execute_result"
    }
   ],
   "source": [
    "l[-1]"
   ]
  },
  {
   "cell_type": "code",
   "execution_count": 272,
   "id": "6b3c46f8",
   "metadata": {},
   "outputs": [
    {
     "ename": "IndexError",
     "evalue": "list index out of range",
     "output_type": "error",
     "traceback": [
      "\u001b[1;31m---------------------------------------------------------------------------\u001b[0m",
      "\u001b[1;31mIndexError\u001b[0m                                Traceback (most recent call last)",
      "Cell \u001b[1;32mIn[272], line 1\u001b[0m\n\u001b[1;32m----> 1\u001b[0m l[\u001b[38;5;241m90\u001b[39m]\n",
      "\u001b[1;31mIndexError\u001b[0m: list index out of range"
     ]
    }
   ],
   "source": [
    "l[90]"
   ]
  },
  {
   "cell_type": "code",
   "execution_count": 273,
   "id": "edbe1b94",
   "metadata": {},
   "outputs": [
    {
     "data": {
      "text/plain": [
       "[1, 345, 45, 'sudh', True, (5+7j), 345.456]"
      ]
     },
     "execution_count": 273,
     "metadata": {},
     "output_type": "execute_result"
    }
   ],
   "source": [
    "l"
   ]
  },
  {
   "cell_type": "code",
   "execution_count": 274,
   "id": "2e83a944",
   "metadata": {},
   "outputs": [
    {
     "data": {
      "text/plain": [
       "[1, 345, 45]"
      ]
     },
     "execution_count": 274,
     "metadata": {},
     "output_type": "execute_result"
    }
   ],
   "source": [
    "l[0:3]"
   ]
  },
  {
   "cell_type": "code",
   "execution_count": 275,
   "id": "6508e3e8",
   "metadata": {},
   "outputs": [
    {
     "data": {
      "text/plain": [
       "[345.456, (5+7j), True, 'sudh', 45, 345, 1]"
      ]
     },
     "execution_count": 275,
     "metadata": {},
     "output_type": "execute_result"
    }
   ],
   "source": [
    "l[::-1]"
   ]
  },
  {
   "cell_type": "code",
   "execution_count": 276,
   "id": "4b3102b3",
   "metadata": {},
   "outputs": [
    {
     "data": {
      "text/plain": [
       "[1, 345, 45, 'sudh', True, (5+7j), 345.456]"
      ]
     },
     "execution_count": 276,
     "metadata": {},
     "output_type": "execute_result"
    }
   ],
   "source": [
    "l"
   ]
  },
  {
   "cell_type": "markdown",
   "id": "8bbf6914",
   "metadata": {},
   "source": [
    "Find all even index data"
   ]
  },
  {
   "cell_type": "code",
   "execution_count": 277,
   "id": "6c331bd0",
   "metadata": {},
   "outputs": [
    {
     "data": {
      "text/plain": [
       "[1, 45, True, 345.456]"
      ]
     },
     "execution_count": 277,
     "metadata": {},
     "output_type": "execute_result"
    }
   ],
   "source": [
    "l[::2]"
   ]
  },
  {
   "cell_type": "markdown",
   "id": "578070e9",
   "metadata": {},
   "source": [
    "- 1 index 0\n",
    "- 345 index 1\n",
    "- 45 index 2\n",
    "- 'sudh' index 3\n",
    "- True index 4\n",
    "- (5+7j) index 5\n",
    "- 345.456 index 6"
   ]
  },
  {
   "cell_type": "code",
   "execution_count": 278,
   "id": "84da3b79",
   "metadata": {},
   "outputs": [],
   "source": [
    "s = \"pwskils\""
   ]
  },
  {
   "cell_type": "code",
   "execution_count": 279,
   "id": "bffac3d1",
   "metadata": {},
   "outputs": [
    {
     "ename": "TypeError",
     "evalue": "can only concatenate str (not \"int\") to str",
     "output_type": "error",
     "traceback": [
      "\u001b[1;31m---------------------------------------------------------------------------\u001b[0m",
      "\u001b[1;31mTypeError\u001b[0m                                 Traceback (most recent call last)",
      "Cell \u001b[1;32mIn[279], line 1\u001b[0m\n\u001b[1;32m----> 1\u001b[0m s \u001b[38;5;241m+\u001b[39m \u001b[38;5;241m5\u001b[39m\n",
      "\u001b[1;31mTypeError\u001b[0m: can only concatenate str (not \"int\") to str"
     ]
    }
   ],
   "source": [
    "s + 5 # string + int not possible"
   ]
  },
  {
   "cell_type": "markdown",
   "id": "ca11f8c9",
   "metadata": {},
   "source": [
    "concatenation of different data type is not possible . "
   ]
  },
  {
   "cell_type": "code",
   "execution_count": 280,
   "id": "be566447",
   "metadata": {},
   "outputs": [
    {
     "ename": "TypeError",
     "evalue": "unsupported operand type(s) for -: 'str' and 'int'",
     "output_type": "error",
     "traceback": [
      "\u001b[1;31m---------------------------------------------------------------------------\u001b[0m",
      "\u001b[1;31mTypeError\u001b[0m                                 Traceback (most recent call last)",
      "Cell \u001b[1;32mIn[280], line 1\u001b[0m\n\u001b[1;32m----> 1\u001b[0m s \u001b[38;5;241m-\u001b[39m \u001b[38;5;241m5\u001b[39m\n",
      "\u001b[1;31mTypeError\u001b[0m: unsupported operand type(s) for -: 'str' and 'int'"
     ]
    }
   ],
   "source": [
    "s - 5"
   ]
  },
  {
   "cell_type": "code",
   "execution_count": 281,
   "id": "d5f59f71",
   "metadata": {},
   "outputs": [
    {
     "ename": "TypeError",
     "evalue": "unsupported operand type(s) for /: 'str' and 'int'",
     "output_type": "error",
     "traceback": [
      "\u001b[1;31m---------------------------------------------------------------------------\u001b[0m",
      "\u001b[1;31mTypeError\u001b[0m                                 Traceback (most recent call last)",
      "Cell \u001b[1;32mIn[281], line 1\u001b[0m\n\u001b[1;32m----> 1\u001b[0m s\u001b[38;5;241m/\u001b[39m\u001b[38;5;241m5\u001b[39m\n",
      "\u001b[1;31mTypeError\u001b[0m: unsupported operand type(s) for /: 'str' and 'int'"
     ]
    }
   ],
   "source": [
    "s/5"
   ]
  },
  {
   "cell_type": "code",
   "execution_count": 282,
   "id": "f5129997",
   "metadata": {},
   "outputs": [
    {
     "data": {
      "text/plain": [
       "'pwskilspwskilspwskilspwskilspwskils'"
      ]
     },
     "execution_count": 282,
     "metadata": {},
     "output_type": "execute_result"
    }
   ],
   "source": [
    "s * 5"
   ]
  },
  {
   "cell_type": "code",
   "execution_count": 283,
   "id": "42593279",
   "metadata": {},
   "outputs": [
    {
     "data": {
      "text/plain": [
       "['p', 'w', 's', 'k', 'i', 'l', 's']"
      ]
     },
     "execution_count": 283,
     "metadata": {},
     "output_type": "execute_result"
    }
   ],
   "source": [
    "list(s)"
   ]
  },
  {
   "cell_type": "code",
   "execution_count": 284,
   "id": "2215182c",
   "metadata": {},
   "outputs": [
    {
     "data": {
      "text/plain": [
       "['p', 'w', 's', 'k', 'i', 'l', 's', 1, 345, 45, 'sudh', True, (5+7j), 345.456]"
      ]
     },
     "execution_count": 284,
     "metadata": {},
     "output_type": "execute_result"
    }
   ],
   "source": [
    "list(s) + l"
   ]
  },
  {
   "cell_type": "code",
   "execution_count": 285,
   "id": "90645fbb",
   "metadata": {},
   "outputs": [
    {
     "ename": "TypeError",
     "evalue": "can only concatenate str (not \"list\") to str",
     "output_type": "error",
     "traceback": [
      "\u001b[1;31m---------------------------------------------------------------------------\u001b[0m",
      "\u001b[1;31mTypeError\u001b[0m                                 Traceback (most recent call last)",
      "Cell \u001b[1;32mIn[285], line 1\u001b[0m\n\u001b[1;32m----> 1\u001b[0m s\u001b[38;5;241m+\u001b[39ml\n",
      "\u001b[1;31mTypeError\u001b[0m: can only concatenate str (not \"list\") to str"
     ]
    }
   ],
   "source": [
    "s+l"
   ]
  },
  {
   "cell_type": "code",
   "execution_count": 286,
   "id": "1408c63b",
   "metadata": {},
   "outputs": [
    {
     "data": {
      "text/plain": [
       "[1, 345, 45, 'sudh', True, (5+7j), 345.456]"
      ]
     },
     "execution_count": 286,
     "metadata": {},
     "output_type": "execute_result"
    }
   ],
   "source": [
    "l"
   ]
  },
  {
   "cell_type": "code",
   "execution_count": 287,
   "id": "0a374741",
   "metadata": {},
   "outputs": [
    {
     "data": {
      "text/plain": [
       "'sudh'"
      ]
     },
     "execution_count": 287,
     "metadata": {},
     "output_type": "execute_result"
    }
   ],
   "source": [
    "l[3]"
   ]
  },
  {
   "cell_type": "code",
   "execution_count": 288,
   "id": "7508d7f2",
   "metadata": {},
   "outputs": [
    {
     "data": {
      "text/plain": [
       "str"
      ]
     },
     "execution_count": 288,
     "metadata": {},
     "output_type": "execute_result"
    }
   ],
   "source": [
    "type(l[3])"
   ]
  },
  {
   "cell_type": "code",
   "execution_count": 289,
   "id": "d0ca8f47",
   "metadata": {},
   "outputs": [
    {
     "data": {
      "text/plain": [
       "'su'"
      ]
     },
     "execution_count": 289,
     "metadata": {},
     "output_type": "execute_result"
    }
   ],
   "source": [
    "l[3][0:2]    #indexing and slicing"
   ]
  },
  {
   "cell_type": "code",
   "execution_count": 290,
   "id": "f14b3faf",
   "metadata": {},
   "outputs": [
    {
     "data": {
      "text/plain": [
       "True"
      ]
     },
     "execution_count": 290,
     "metadata": {},
     "output_type": "execute_result"
    }
   ],
   "source": [
    "l[4]"
   ]
  },
  {
   "cell_type": "code",
   "execution_count": 291,
   "id": "c6221466",
   "metadata": {},
   "outputs": [
    {
     "data": {
      "text/plain": [
       "'Tr'"
      ]
     },
     "execution_count": 291,
     "metadata": {},
     "output_type": "execute_result"
    }
   ],
   "source": [
    "str(l[4])[0:2]  #typecating in string"
   ]
  },
  {
   "cell_type": "code",
   "execution_count": 292,
   "id": "d3b02e61",
   "metadata": {},
   "outputs": [
    {
     "ename": "TypeError",
     "evalue": "can only concatenate list (not \"int\") to list",
     "output_type": "error",
     "traceback": [
      "\u001b[1;31m---------------------------------------------------------------------------\u001b[0m",
      "\u001b[1;31mTypeError\u001b[0m                                 Traceback (most recent call last)",
      "Cell \u001b[1;32mIn[292], line 1\u001b[0m\n\u001b[1;32m----> 1\u001b[0m l\u001b[38;5;241m+\u001b[39m\u001b[38;5;241m5\u001b[39m\n",
      "\u001b[1;31mTypeError\u001b[0m: can only concatenate list (not \"int\") to list"
     ]
    }
   ],
   "source": [
    "l+5"
   ]
  },
  {
   "cell_type": "code",
   "execution_count": 293,
   "id": "edfe414a",
   "metadata": {},
   "outputs": [],
   "source": [
    "l1=[3,4,5]"
   ]
  },
  {
   "cell_type": "code",
   "execution_count": 294,
   "id": "e6cdfe80",
   "metadata": {},
   "outputs": [
    {
     "data": {
      "text/plain": [
       "[1, 345, 45, 'sudh', True, (5+7j), 345.456, 3, 4, 5]"
      ]
     },
     "execution_count": 294,
     "metadata": {},
     "output_type": "execute_result"
    }
   ],
   "source": [
    "l + l1"
   ]
  },
  {
   "cell_type": "code",
   "execution_count": 295,
   "id": "cfa1205e",
   "metadata": {},
   "outputs": [
    {
     "data": {
      "text/plain": [
       "[3, 4, 5, 3, 4, 5, 3, 4, 5]"
      ]
     },
     "execution_count": 295,
     "metadata": {},
     "output_type": "execute_result"
    }
   ],
   "source": [
    "l1 * 3"
   ]
  },
  {
   "cell_type": "code",
   "execution_count": 296,
   "id": "e461db88",
   "metadata": {},
   "outputs": [
    {
     "data": {
      "text/plain": [
       "[1, 345, 45, 'sudh', True, (5+7j), 345.456]"
      ]
     },
     "execution_count": 296,
     "metadata": {},
     "output_type": "execute_result"
    }
   ],
   "source": [
    "l"
   ]
  },
  {
   "cell_type": "code",
   "execution_count": 297,
   "id": "39103fc2",
   "metadata": {},
   "outputs": [
    {
     "data": {
      "text/plain": [
       "7"
      ]
     },
     "execution_count": 297,
     "metadata": {},
     "output_type": "execute_result"
    }
   ],
   "source": [
    "len(l)"
   ]
  },
  {
   "cell_type": "code",
   "execution_count": 298,
   "id": "08c06277",
   "metadata": {},
   "outputs": [
    {
     "data": {
      "text/plain": [
       "3"
      ]
     },
     "execution_count": 298,
     "metadata": {},
     "output_type": "execute_result"
    }
   ],
   "source": [
    "len(l1)"
   ]
  },
  {
   "cell_type": "code",
   "execution_count": 299,
   "id": "d5a211e4",
   "metadata": {},
   "outputs": [],
   "source": [
    "l.append(5)"
   ]
  },
  {
   "cell_type": "code",
   "execution_count": 300,
   "id": "5eab7320",
   "metadata": {},
   "outputs": [
    {
     "data": {
      "text/plain": [
       "[1, 345, 45, 'sudh', True, (5+7j), 345.456, 5]"
      ]
     },
     "execution_count": 300,
     "metadata": {},
     "output_type": "execute_result"
    }
   ],
   "source": [
    "l"
   ]
  },
  {
   "cell_type": "code",
   "execution_count": 301,
   "id": "420259ce",
   "metadata": {},
   "outputs": [
    {
     "data": {
      "text/plain": [
       "'pwskils'"
      ]
     },
     "execution_count": 301,
     "metadata": {},
     "output_type": "execute_result"
    }
   ],
   "source": [
    "s"
   ]
  },
  {
   "cell_type": "code",
   "execution_count": 302,
   "id": "fff8694f",
   "metadata": {},
   "outputs": [],
   "source": [
    "l.append(s)"
   ]
  },
  {
   "cell_type": "code",
   "execution_count": 303,
   "id": "eaeb6a0e",
   "metadata": {},
   "outputs": [
    {
     "data": {
      "text/plain": [
       "[1, 345, 45, 'sudh', True, (5+7j), 345.456, 5, 'pwskils']"
      ]
     },
     "execution_count": 303,
     "metadata": {},
     "output_type": "execute_result"
    }
   ],
   "source": [
    "l"
   ]
  },
  {
   "cell_type": "code",
   "execution_count": 304,
   "id": "61873084",
   "metadata": {},
   "outputs": [
    {
     "data": {
      "text/plain": [
       "[3, 4, 5]"
      ]
     },
     "execution_count": 304,
     "metadata": {},
     "output_type": "execute_result"
    }
   ],
   "source": [
    "l1"
   ]
  },
  {
   "cell_type": "code",
   "execution_count": 305,
   "id": "8ea8405f",
   "metadata": {},
   "outputs": [],
   "source": [
    "l.append(l1)"
   ]
  },
  {
   "cell_type": "code",
   "execution_count": 306,
   "id": "ddba57ff",
   "metadata": {},
   "outputs": [
    {
     "data": {
      "text/plain": [
       "[1, 345, 45, 'sudh', True, (5+7j), 345.456, 5, 'pwskils', [3, 4, 5]]"
      ]
     },
     "execution_count": 306,
     "metadata": {},
     "output_type": "execute_result"
    }
   ],
   "source": [
    "l"
   ]
  },
  {
   "cell_type": "code",
   "execution_count": 307,
   "id": "b400c3a0",
   "metadata": {},
   "outputs": [
    {
     "data": {
      "text/plain": [
       "[3, 4, 5]"
      ]
     },
     "execution_count": 307,
     "metadata": {},
     "output_type": "execute_result"
    }
   ],
   "source": [
    "l[-1]"
   ]
  },
  {
   "cell_type": "code",
   "execution_count": 308,
   "id": "b8b99cb1",
   "metadata": {},
   "outputs": [
    {
     "data": {
      "text/plain": [
       "4"
      ]
     },
     "execution_count": 308,
     "metadata": {},
     "output_type": "execute_result"
    }
   ],
   "source": [
    "l[-1][1]"
   ]
  },
  {
   "cell_type": "code",
   "execution_count": 309,
   "id": "aec40924",
   "metadata": {},
   "outputs": [
    {
     "ename": "TypeError",
     "evalue": "'int' object is not iterable",
     "output_type": "error",
     "traceback": [
      "\u001b[1;31m---------------------------------------------------------------------------\u001b[0m",
      "\u001b[1;31mTypeError\u001b[0m                                 Traceback (most recent call last)",
      "Cell \u001b[1;32mIn[309], line 1\u001b[0m\n\u001b[1;32m----> 1\u001b[0m l\u001b[38;5;241m.\u001b[39mextend(\u001b[38;5;241m4\u001b[39m)\n",
      "\u001b[1;31mTypeError\u001b[0m: 'int' object is not iterable"
     ]
    }
   ],
   "source": [
    "l.extend(4)"
   ]
  },
  {
   "cell_type": "code",
   "execution_count": 310,
   "id": "2f27a5f6",
   "metadata": {},
   "outputs": [],
   "source": [
    "l.extend(\"sudh\")"
   ]
  },
  {
   "cell_type": "code",
   "execution_count": 311,
   "id": "45510876",
   "metadata": {},
   "outputs": [
    {
     "data": {
      "text/plain": [
       "[1,\n",
       " 345,\n",
       " 45,\n",
       " 'sudh',\n",
       " True,\n",
       " (5+7j),\n",
       " 345.456,\n",
       " 5,\n",
       " 'pwskils',\n",
       " [3, 4, 5],\n",
       " 's',\n",
       " 'u',\n",
       " 'd',\n",
       " 'h']"
      ]
     },
     "execution_count": 311,
     "metadata": {},
     "output_type": "execute_result"
    }
   ],
   "source": [
    "l"
   ]
  },
  {
   "cell_type": "code",
   "execution_count": 312,
   "id": "f34d5b2e",
   "metadata": {},
   "outputs": [],
   "source": [
    "l.extend([3,4,5])"
   ]
  },
  {
   "cell_type": "code",
   "execution_count": 313,
   "id": "a2091a5b",
   "metadata": {},
   "outputs": [
    {
     "data": {
      "text/plain": [
       "[1,\n",
       " 345,\n",
       " 45,\n",
       " 'sudh',\n",
       " True,\n",
       " (5+7j),\n",
       " 345.456,\n",
       " 5,\n",
       " 'pwskils',\n",
       " [3, 4, 5],\n",
       " 's',\n",
       " 'u',\n",
       " 'd',\n",
       " 'h',\n",
       " 3,\n",
       " 4,\n",
       " 5]"
      ]
     },
     "execution_count": 313,
     "metadata": {},
     "output_type": "execute_result"
    }
   ],
   "source": [
    "l"
   ]
  },
  {
   "cell_type": "code",
   "execution_count": 314,
   "id": "9bdbdc12",
   "metadata": {},
   "outputs": [
    {
     "data": {
      "text/plain": [
       "[3, 4, 5]"
      ]
     },
     "execution_count": 314,
     "metadata": {},
     "output_type": "execute_result"
    }
   ],
   "source": [
    "l1"
   ]
  },
  {
   "cell_type": "code",
   "execution_count": 315,
   "id": "386cb72a",
   "metadata": {},
   "outputs": [],
   "source": [
    "l1.insert(1,\"sudh\")"
   ]
  },
  {
   "cell_type": "code",
   "execution_count": 316,
   "id": "13b186e4",
   "metadata": {},
   "outputs": [
    {
     "data": {
      "text/plain": [
       "[3, 'sudh', 4, 5]"
      ]
     },
     "execution_count": 316,
     "metadata": {},
     "output_type": "execute_result"
    }
   ],
   "source": [
    "l1"
   ]
  },
  {
   "cell_type": "code",
   "execution_count": 317,
   "id": "29ad701e",
   "metadata": {},
   "outputs": [],
   "source": [
    "l1.insert(2,[2,3,4])"
   ]
  },
  {
   "cell_type": "code",
   "execution_count": 318,
   "id": "b250b653",
   "metadata": {},
   "outputs": [
    {
     "data": {
      "text/plain": [
       "[3, 'sudh', [2, 3, 4], 4, 5]"
      ]
     },
     "execution_count": 318,
     "metadata": {},
     "output_type": "execute_result"
    }
   ],
   "source": [
    "l1"
   ]
  },
  {
   "cell_type": "code",
   "execution_count": 319,
   "id": "e99022f2",
   "metadata": {},
   "outputs": [],
   "source": [
    "l1.insert(-1,45)"
   ]
  },
  {
   "cell_type": "code",
   "execution_count": 320,
   "id": "54f1ec6d",
   "metadata": {},
   "outputs": [
    {
     "data": {
      "text/plain": [
       "[3, 'sudh', [2, 3, 4], 4, 45, 5]"
      ]
     },
     "execution_count": 320,
     "metadata": {},
     "output_type": "execute_result"
    }
   ],
   "source": [
    "l1       # 45 is at index -1 by shifting 5"
   ]
  },
  {
   "cell_type": "code",
   "execution_count": 321,
   "id": "6dd4fc4c",
   "metadata": {},
   "outputs": [
    {
     "data": {
      "text/plain": [
       "5"
      ]
     },
     "execution_count": 321,
     "metadata": {},
     "output_type": "execute_result"
    }
   ],
   "source": [
    "l1.pop()"
   ]
  },
  {
   "cell_type": "code",
   "execution_count": 322,
   "id": "10529f5a",
   "metadata": {},
   "outputs": [
    {
     "data": {
      "text/plain": [
       "[3, 'sudh', [2, 3, 4], 4, 45]"
      ]
     },
     "execution_count": 322,
     "metadata": {},
     "output_type": "execute_result"
    }
   ],
   "source": [
    "l1"
   ]
  },
  {
   "cell_type": "code",
   "execution_count": 323,
   "id": "c270ac19",
   "metadata": {},
   "outputs": [
    {
     "data": {
      "text/plain": [
       "45"
      ]
     },
     "execution_count": 323,
     "metadata": {},
     "output_type": "execute_result"
    }
   ],
   "source": [
    "l1.pop()"
   ]
  },
  {
   "cell_type": "code",
   "execution_count": 324,
   "id": "83cc0320",
   "metadata": {},
   "outputs": [
    {
     "data": {
      "text/plain": [
       "[2, 3, 4]"
      ]
     },
     "execution_count": 324,
     "metadata": {},
     "output_type": "execute_result"
    }
   ],
   "source": [
    "l1.pop(2)"
   ]
  },
  {
   "cell_type": "code",
   "execution_count": 325,
   "id": "68a4671d",
   "metadata": {},
   "outputs": [
    {
     "data": {
      "text/plain": [
       "[3, 'sudh', 4]"
      ]
     },
     "execution_count": 325,
     "metadata": {},
     "output_type": "execute_result"
    }
   ],
   "source": [
    "l1"
   ]
  },
  {
   "cell_type": "code",
   "execution_count": 326,
   "id": "d58d8984",
   "metadata": {},
   "outputs": [],
   "source": [
    "l1.remove(3)"
   ]
  },
  {
   "cell_type": "code",
   "execution_count": 327,
   "id": "d464fc85",
   "metadata": {},
   "outputs": [
    {
     "data": {
      "text/plain": [
       "['sudh', 4]"
      ]
     },
     "execution_count": 327,
     "metadata": {},
     "output_type": "execute_result"
    }
   ],
   "source": [
    "l1"
   ]
  },
  {
   "cell_type": "code",
   "execution_count": 328,
   "id": "7446f8b6",
   "metadata": {},
   "outputs": [],
   "source": [
    "l1.remove(4)"
   ]
  },
  {
   "cell_type": "code",
   "execution_count": 329,
   "id": "a3525fb4",
   "metadata": {},
   "outputs": [
    {
     "data": {
      "text/plain": [
       "['sudh']"
      ]
     },
     "execution_count": 329,
     "metadata": {},
     "output_type": "execute_result"
    }
   ],
   "source": [
    "l1"
   ]
  },
  {
   "cell_type": "code",
   "execution_count": 330,
   "id": "aac6175e",
   "metadata": {},
   "outputs": [
    {
     "ename": "ValueError",
     "evalue": "list.remove(x): x not in list",
     "output_type": "error",
     "traceback": [
      "\u001b[1;31m---------------------------------------------------------------------------\u001b[0m",
      "\u001b[1;31mValueError\u001b[0m                                Traceback (most recent call last)",
      "Cell \u001b[1;32mIn[330], line 1\u001b[0m\n\u001b[1;32m----> 1\u001b[0m l1\u001b[38;5;241m.\u001b[39mremove(\u001b[38;5;241m234\u001b[39m)\n",
      "\u001b[1;31mValueError\u001b[0m: list.remove(x): x not in list"
     ]
    }
   ],
   "source": [
    "l1.remove(234)"
   ]
  },
  {
   "cell_type": "code",
   "execution_count": 337,
   "id": "900312d8",
   "metadata": {},
   "outputs": [],
   "source": [
    "l2 = [2,\"sudh\",4, [5,6,7,8]]"
   ]
  },
  {
   "cell_type": "code",
   "execution_count": 338,
   "id": "db70f664",
   "metadata": {},
   "outputs": [],
   "source": [
    "l2[3].remove(6)"
   ]
  },
  {
   "cell_type": "code",
   "execution_count": 339,
   "id": "dada342e",
   "metadata": {},
   "outputs": [
    {
     "data": {
      "text/plain": [
       "[2, 'sudh', 4, [5, 7, 8]]"
      ]
     },
     "execution_count": 339,
     "metadata": {},
     "output_type": "execute_result"
    }
   ],
   "source": [
    "l2"
   ]
  },
  {
   "cell_type": "code",
   "execution_count": 340,
   "id": "321cf357",
   "metadata": {},
   "outputs": [
    {
     "ename": "AttributeError",
     "evalue": "'str' object has no attribute 'remove'",
     "output_type": "error",
     "traceback": [
      "\u001b[1;31m---------------------------------------------------------------------------\u001b[0m",
      "\u001b[1;31mAttributeError\u001b[0m                            Traceback (most recent call last)",
      "Cell \u001b[1;32mIn[340], line 1\u001b[0m\n\u001b[1;32m----> 1\u001b[0m l2[\u001b[38;5;241m1\u001b[39m]\u001b[38;5;241m.\u001b[39mremove(\u001b[38;5;124m\"\u001b[39m\u001b[38;5;124mu\u001b[39m\u001b[38;5;124m\"\u001b[39m)\n",
      "\u001b[1;31mAttributeError\u001b[0m: 'str' object has no attribute 'remove'"
     ]
    }
   ],
   "source": [
    "l2[1].remove(\"u\")"
   ]
  },
  {
   "cell_type": "code",
   "execution_count": 357,
   "id": "f56da360",
   "metadata": {},
   "outputs": [],
   "source": [
    "l3 = [2,3,3,4,1,9,8]"
   ]
  },
  {
   "cell_type": "code",
   "execution_count": 358,
   "id": "1cdbeee6",
   "metadata": {},
   "outputs": [],
   "source": [
    "l3.remove(3)"
   ]
  },
  {
   "cell_type": "code",
   "execution_count": 359,
   "id": "72bb140b",
   "metadata": {},
   "outputs": [
    {
     "data": {
      "text/plain": [
       "[2, 3, 4, 1, 9, 8]"
      ]
     },
     "execution_count": 359,
     "metadata": {},
     "output_type": "execute_result"
    }
   ],
   "source": [
    "l3"
   ]
  },
  {
   "cell_type": "code",
   "execution_count": 360,
   "id": "a19bb4a3",
   "metadata": {},
   "outputs": [
    {
     "data": {
      "text/plain": [
       "[8, 9, 1, 4, 3, 2]"
      ]
     },
     "execution_count": 360,
     "metadata": {},
     "output_type": "execute_result"
    }
   ],
   "source": [
    "l3[::-1]"
   ]
  },
  {
   "cell_type": "code",
   "execution_count": 361,
   "id": "207f5560",
   "metadata": {},
   "outputs": [
    {
     "data": {
      "text/plain": [
       "[2, 3, 4, 1, 9, 8]"
      ]
     },
     "execution_count": 361,
     "metadata": {},
     "output_type": "execute_result"
    }
   ],
   "source": [
    "l3"
   ]
  },
  {
   "cell_type": "code",
   "execution_count": 362,
   "id": "44064ef0",
   "metadata": {},
   "outputs": [
    {
     "data": {
      "text/plain": [
       "[[5, 7, 8], 4, 'sudh', 2]"
      ]
     },
     "execution_count": 362,
     "metadata": {},
     "output_type": "execute_result"
    }
   ],
   "source": [
    "l2"
   ]
  },
  {
   "cell_type": "code",
   "execution_count": 363,
   "id": "5723c988",
   "metadata": {},
   "outputs": [],
   "source": [
    "l2.reverse()"
   ]
  },
  {
   "cell_type": "code",
   "execution_count": 364,
   "id": "f2a6095b",
   "metadata": {},
   "outputs": [
    {
     "data": {
      "text/plain": [
       "[2, 'sudh', 4, [5, 7, 8]]"
      ]
     },
     "execution_count": 364,
     "metadata": {},
     "output_type": "execute_result"
    }
   ],
   "source": [
    "l2"
   ]
  },
  {
   "cell_type": "code",
   "execution_count": 365,
   "id": "90d45a55",
   "metadata": {},
   "outputs": [
    {
     "data": {
      "text/plain": [
       "[2, 'sudh', 4, [5, 7, 8]]"
      ]
     },
     "execution_count": 365,
     "metadata": {},
     "output_type": "execute_result"
    }
   ],
   "source": [
    "l2"
   ]
  },
  {
   "cell_type": "markdown",
   "id": "7b499c6d",
   "metadata": {},
   "source": [
    "- difference b/w both reverse function and reverse indesing\n",
    "- reverse function is permanent"
   ]
  },
  {
   "cell_type": "code",
   "execution_count": 366,
   "id": "2a2a386c",
   "metadata": {},
   "outputs": [
    {
     "ename": "TypeError",
     "evalue": "'<' not supported between instances of 'str' and 'int'",
     "output_type": "error",
     "traceback": [
      "\u001b[1;31m---------------------------------------------------------------------------\u001b[0m",
      "\u001b[1;31mTypeError\u001b[0m                                 Traceback (most recent call last)",
      "Cell \u001b[1;32mIn[366], line 1\u001b[0m\n\u001b[1;32m----> 1\u001b[0m l2\u001b[38;5;241m.\u001b[39msort()\n",
      "\u001b[1;31mTypeError\u001b[0m: '<' not supported between instances of 'str' and 'int'"
     ]
    }
   ],
   "source": [
    "l2.sort()"
   ]
  },
  {
   "cell_type": "code",
   "execution_count": 367,
   "id": "a4a61633",
   "metadata": {},
   "outputs": [
    {
     "data": {
      "text/plain": [
       "[2, 3, 4, 1, 9, 8]"
      ]
     },
     "execution_count": 367,
     "metadata": {},
     "output_type": "execute_result"
    }
   ],
   "source": [
    "l3"
   ]
  },
  {
   "cell_type": "code",
   "execution_count": 369,
   "id": "a91fdb51",
   "metadata": {},
   "outputs": [],
   "source": [
    "l3.sort()"
   ]
  },
  {
   "cell_type": "markdown",
   "id": "8e99c04f",
   "metadata": {},
   "source": [
    "l3"
   ]
  },
  {
   "cell_type": "code",
   "execution_count": 370,
   "id": "29e823e1",
   "metadata": {},
   "outputs": [
    {
     "data": {
      "text/plain": [
       "[1, 2, 3, 4, 8, 9]"
      ]
     },
     "execution_count": 370,
     "metadata": {},
     "output_type": "execute_result"
    }
   ],
   "source": [
    "l3"
   ]
  },
  {
   "cell_type": "code",
   "execution_count": 19,
   "id": "fbc0eac8",
   "metadata": {},
   "outputs": [],
   "source": [
    "l4 = [\"job\", \"business\", \"life\", \"investing\"]"
   ]
  },
  {
   "cell_type": "code",
   "execution_count": 20,
   "id": "09538487",
   "metadata": {},
   "outputs": [],
   "source": [
    "l4.sort()"
   ]
  },
  {
   "cell_type": "code",
   "execution_count": 21,
   "id": "09ffccef",
   "metadata": {},
   "outputs": [
    {
     "data": {
      "text/plain": [
       "['business', 'investing', 'job', 'life']"
      ]
     },
     "execution_count": 21,
     "metadata": {},
     "output_type": "execute_result"
    }
   ],
   "source": [
    "l4"
   ]
  },
  {
   "cell_type": "code",
   "execution_count": 22,
   "id": "0df801e9",
   "metadata": {},
   "outputs": [],
   "source": [
    "l4.sort(reverse=True)"
   ]
  },
  {
   "cell_type": "code",
   "execution_count": 23,
   "id": "408a7391",
   "metadata": {},
   "outputs": [
    {
     "data": {
      "text/plain": [
       "['life', 'job', 'investing', 'business']"
      ]
     },
     "execution_count": 23,
     "metadata": {},
     "output_type": "execute_result"
    }
   ],
   "source": [
    "l4"
   ]
  },
  {
   "cell_type": "code",
   "execution_count": 25,
   "id": "4129cb6f",
   "metadata": {},
   "outputs": [
    {
     "data": {
      "text/plain": [
       "1"
      ]
     },
     "execution_count": 25,
     "metadata": {},
     "output_type": "execute_result"
    }
   ],
   "source": [
    "l4.index('job')"
   ]
  },
  {
   "cell_type": "code",
   "execution_count": 26,
   "id": "0f1f95bc",
   "metadata": {},
   "outputs": [
    {
     "data": {
      "text/plain": [
       "0"
      ]
     },
     "execution_count": 26,
     "metadata": {},
     "output_type": "execute_result"
    }
   ],
   "source": [
    "l4.index('life')"
   ]
  },
  {
   "cell_type": "code",
   "execution_count": 27,
   "id": "ed4d99f3",
   "metadata": {},
   "outputs": [
    {
     "data": {
      "text/plain": [
       "3"
      ]
     },
     "execution_count": 27,
     "metadata": {},
     "output_type": "execute_result"
    }
   ],
   "source": [
    "l4.index('business')"
   ]
  },
  {
   "cell_type": "code",
   "execution_count": 28,
   "id": "2429cb2e",
   "metadata": {},
   "outputs": [
    {
     "data": {
      "text/plain": [
       "1"
      ]
     },
     "execution_count": 28,
     "metadata": {},
     "output_type": "execute_result"
    }
   ],
   "source": [
    "l4.count(\"job\")"
   ]
  },
  {
   "cell_type": "code",
   "execution_count": 29,
   "id": "5fc5503f",
   "metadata": {},
   "outputs": [
    {
     "data": {
      "text/plain": [
       "1"
      ]
     },
     "execution_count": 29,
     "metadata": {},
     "output_type": "execute_result"
    }
   ],
   "source": [
    "l4.count(\"life\")"
   ]
  },
  {
   "cell_type": "code",
   "execution_count": 30,
   "id": "2d3fe751",
   "metadata": {},
   "outputs": [],
   "source": [
    "s = \"sudh\""
   ]
  },
  {
   "cell_type": "code",
   "execution_count": 31,
   "id": "8fc5d218",
   "metadata": {},
   "outputs": [],
   "source": [
    "l5 = [3,4,5,6]"
   ]
  },
  {
   "cell_type": "code",
   "execution_count": 32,
   "id": "daa0398d",
   "metadata": {},
   "outputs": [
    {
     "data": {
      "text/plain": [
       "'s'"
      ]
     },
     "execution_count": 32,
     "metadata": {},
     "output_type": "execute_result"
    }
   ],
   "source": [
    "s[0]"
   ]
  },
  {
   "cell_type": "code",
   "execution_count": 37,
   "id": "19acd84d",
   "metadata": {},
   "outputs": [
    {
     "ename": "TypeError",
     "evalue": "'str' object does not support item assignment",
     "output_type": "error",
     "traceback": [
      "\u001b[1;31m---------------------------------------------------------------------------\u001b[0m",
      "\u001b[1;31mTypeError\u001b[0m                                 Traceback (most recent call last)",
      "Cell \u001b[1;32mIn[37], line 1\u001b[0m\n\u001b[1;32m----> 1\u001b[0m s[\u001b[38;5;241m0\u001b[39m] \u001b[38;5;241m=\u001b[39m \u001b[38;5;124m'\u001b[39m\u001b[38;5;124ma\u001b[39m\u001b[38;5;124m'\u001b[39m\n",
      "\u001b[1;31mTypeError\u001b[0m: 'str' object does not support item assignment"
     ]
    }
   ],
   "source": [
    "s[0] = 'a'         # immutable"
   ]
  },
  {
   "cell_type": "code",
   "execution_count": 38,
   "id": "33b14707",
   "metadata": {},
   "outputs": [
    {
     "data": {
      "text/plain": [
       "300"
      ]
     },
     "execution_count": 38,
     "metadata": {},
     "output_type": "execute_result"
    }
   ],
   "source": [
    "l5[0]"
   ]
  },
  {
   "cell_type": "code",
   "execution_count": 40,
   "id": "d07ffa12",
   "metadata": {},
   "outputs": [],
   "source": [
    "l5[0] = 300        # mutable      # permanent changes happens"
   ]
  },
  {
   "cell_type": "code",
   "execution_count": 41,
   "id": "e7696740",
   "metadata": {},
   "outputs": [
    {
     "data": {
      "text/plain": [
       "[300, 4, 5, 6]"
      ]
     },
     "execution_count": 41,
     "metadata": {},
     "output_type": "execute_result"
    }
   ],
   "source": [
    "l5"
   ]
  },
  {
   "cell_type": "code",
   "execution_count": 42,
   "id": "36194a08",
   "metadata": {},
   "outputs": [
    {
     "data": {
      "text/plain": [
       "'sudh'"
      ]
     },
     "execution_count": 42,
     "metadata": {},
     "output_type": "execute_result"
    }
   ],
   "source": [
    "s"
   ]
  },
  {
   "cell_type": "code",
   "execution_count": 44,
   "id": "a721353c",
   "metadata": {},
   "outputs": [
    {
     "data": {
      "text/plain": [
       "'audh'"
      ]
     },
     "execution_count": 44,
     "metadata": {},
     "output_type": "execute_result"
    }
   ],
   "source": [
    "s.replace('s','a')            # temprorary changes   # store in a new memory location"
   ]
  },
  {
   "cell_type": "code",
   "execution_count": 45,
   "id": "023a9a62",
   "metadata": {},
   "outputs": [
    {
     "data": {
      "text/plain": [
       "'sudh'"
      ]
     },
     "execution_count": 45,
     "metadata": {},
     "output_type": "execute_result"
    }
   ],
   "source": [
    "s"
   ]
  },
  {
   "cell_type": "code",
   "execution_count": 50,
   "id": "82daeed2",
   "metadata": {},
   "outputs": [],
   "source": [
    "t = (2,3,4,5,\"sudh\", 45.56, False, 45+457j, [3,4,5])"
   ]
  },
  {
   "cell_type": "code",
   "execution_count": 51,
   "id": "fbc4a96c",
   "metadata": {},
   "outputs": [
    {
     "data": {
      "text/plain": [
       "(2, 3, 4, 5, 'sudh', 45.56, False, (45+457j), [3, 4, 5])"
      ]
     },
     "execution_count": 51,
     "metadata": {},
     "output_type": "execute_result"
    }
   ],
   "source": [
    "t"
   ]
  },
  {
   "cell_type": "code",
   "execution_count": 52,
   "id": "8f76e6ab",
   "metadata": {},
   "outputs": [
    {
     "data": {
      "text/plain": [
       "tuple"
      ]
     },
     "execution_count": 52,
     "metadata": {},
     "output_type": "execute_result"
    }
   ],
   "source": [
    "type(t)"
   ]
  },
  {
   "cell_type": "code",
   "execution_count": 53,
   "id": "131a4e21",
   "metadata": {},
   "outputs": [
    {
     "data": {
      "text/plain": [
       "9"
      ]
     },
     "execution_count": 53,
     "metadata": {},
     "output_type": "execute_result"
    }
   ],
   "source": [
    "len(t)"
   ]
  },
  {
   "cell_type": "code",
   "execution_count": 54,
   "id": "b2a9ba15",
   "metadata": {},
   "outputs": [
    {
     "data": {
      "text/plain": [
       "2"
      ]
     },
     "execution_count": 54,
     "metadata": {},
     "output_type": "execute_result"
    }
   ],
   "source": [
    "t[0]"
   ]
  },
  {
   "cell_type": "code",
   "execution_count": 55,
   "id": "b7f0b650",
   "metadata": {},
   "outputs": [
    {
     "data": {
      "text/plain": [
       "[3, 4, 5]"
      ]
     },
     "execution_count": 55,
     "metadata": {},
     "output_type": "execute_result"
    }
   ],
   "source": [
    "t[-1]"
   ]
  },
  {
   "cell_type": "code",
   "execution_count": 56,
   "id": "cae3a305",
   "metadata": {},
   "outputs": [
    {
     "data": {
      "text/plain": [
       "([3, 4, 5], (45+457j), False, 45.56, 'sudh', 5, 4, 3, 2)"
      ]
     },
     "execution_count": 56,
     "metadata": {},
     "output_type": "execute_result"
    }
   ],
   "source": [
    "t[::-1]"
   ]
  },
  {
   "cell_type": "code",
   "execution_count": 57,
   "id": "0ab824e2",
   "metadata": {},
   "outputs": [
    {
     "data": {
      "text/plain": [
       "['life', 'job', 'investing', 'business']"
      ]
     },
     "execution_count": 57,
     "metadata": {},
     "output_type": "execute_result"
    }
   ],
   "source": [
    "l4"
   ]
  },
  {
   "cell_type": "code",
   "execution_count": 58,
   "id": "6f7bbbdf",
   "metadata": {},
   "outputs": [],
   "source": [
    "l4[0] = 23424                                # mutable"
   ]
  },
  {
   "cell_type": "code",
   "execution_count": 59,
   "id": "472111f0",
   "metadata": {},
   "outputs": [
    {
     "data": {
      "text/plain": [
       "[23424, 'job', 'investing', 'business']"
      ]
     },
     "execution_count": 59,
     "metadata": {},
     "output_type": "execute_result"
    }
   ],
   "source": [
    "l4"
   ]
  },
  {
   "cell_type": "code",
   "execution_count": 60,
   "id": "4082ee82",
   "metadata": {},
   "outputs": [
    {
     "data": {
      "text/plain": [
       "(2, 3, 4, 5, 'sudh', 45.56, False, (45+457j), [3, 4, 5])"
      ]
     },
     "execution_count": 60,
     "metadata": {},
     "output_type": "execute_result"
    }
   ],
   "source": [
    "t"
   ]
  },
  {
   "cell_type": "code",
   "execution_count": 61,
   "id": "5aea5171",
   "metadata": {},
   "outputs": [
    {
     "ename": "TypeError",
     "evalue": "'tuple' object does not support item assignment",
     "output_type": "error",
     "traceback": [
      "\u001b[1;31m---------------------------------------------------------------------------\u001b[0m",
      "\u001b[1;31mTypeError\u001b[0m                                 Traceback (most recent call last)",
      "Cell \u001b[1;32mIn[61], line 1\u001b[0m\n\u001b[1;32m----> 1\u001b[0m t[\u001b[38;5;241m0\u001b[39m] \u001b[38;5;241m=\u001b[39m \u001b[38;5;124m\"\u001b[39m\u001b[38;5;124msudh\u001b[39m\u001b[38;5;124m\"\u001b[39m\n",
      "\u001b[1;31mTypeError\u001b[0m: 'tuple' object does not support item assignment"
     ]
    }
   ],
   "source": [
    "t[0] = \"sudh\"                                 # immutable"
   ]
  },
  {
   "cell_type": "markdown",
   "id": "2cc8f60b",
   "metadata": {},
   "source": [
    "Both List and Tuple are collection list but the difference is mutability\n",
    "- Tuple is used to store password\n",
    "- where new memory location is assigned insted to permanantly changing existing memory location"
   ]
  },
  {
   "cell_type": "code",
   "execution_count": 63,
   "id": "eb2d9624",
   "metadata": {},
   "outputs": [
    {
     "data": {
      "text/plain": [
       "([3, 4, 5], (45+457j), False, 45.56, 'sudh', 5, 4, 3, 2)"
      ]
     },
     "execution_count": 63,
     "metadata": {},
     "output_type": "execute_result"
    }
   ],
   "source": [
    "t[::-1]        # new object is created insted of changing existing"
   ]
  },
  {
   "cell_type": "code",
   "execution_count": 64,
   "id": "73fc522c",
   "metadata": {},
   "outputs": [
    {
     "data": {
      "text/plain": [
       "(2, 3, 4, 5, 'sudh', 45.56, False, (45+457j), [3, 4, 5])"
      ]
     },
     "execution_count": 64,
     "metadata": {},
     "output_type": "execute_result"
    }
   ],
   "source": [
    "t"
   ]
  },
  {
   "cell_type": "code",
   "execution_count": 66,
   "id": "945b0001",
   "metadata": {},
   "outputs": [
    {
     "data": {
      "text/plain": [
       "1"
      ]
     },
     "execution_count": 66,
     "metadata": {},
     "output_type": "execute_result"
    }
   ],
   "source": [
    "t.count(5)"
   ]
  },
  {
   "cell_type": "code",
   "execution_count": 67,
   "id": "629d7141",
   "metadata": {},
   "outputs": [
    {
     "data": {
      "text/plain": [
       "0"
      ]
     },
     "execution_count": 67,
     "metadata": {},
     "output_type": "execute_result"
    }
   ],
   "source": [
    "t.count(50)"
   ]
  },
  {
   "cell_type": "code",
   "execution_count": 68,
   "id": "fded45c5",
   "metadata": {},
   "outputs": [
    {
     "data": {
      "text/plain": [
       "6"
      ]
     },
     "execution_count": 68,
     "metadata": {},
     "output_type": "execute_result"
    }
   ],
   "source": [
    "t.index(False)"
   ]
  },
  {
   "cell_type": "code",
   "execution_count": 69,
   "id": "e8f082d0",
   "metadata": {},
   "outputs": [
    {
     "data": {
      "text/plain": [
       "(2, 3, 4, 5, 'sudh', 45.56, False, (45+457j), [3, 4, 5])"
      ]
     },
     "execution_count": 69,
     "metadata": {},
     "output_type": "execute_result"
    }
   ],
   "source": [
    "t"
   ]
  },
  {
   "cell_type": "code",
   "execution_count": 70,
   "id": "9887dd69",
   "metadata": {},
   "outputs": [],
   "source": [
    "s1 = {}"
   ]
  },
  {
   "cell_type": "code",
   "execution_count": 71,
   "id": "54543013",
   "metadata": {},
   "outputs": [
    {
     "data": {
      "text/plain": [
       "dict"
      ]
     },
     "execution_count": 71,
     "metadata": {},
     "output_type": "execute_result"
    }
   ],
   "source": [
    "type(s1)"
   ]
  },
  {
   "cell_type": "code",
   "execution_count": 72,
   "id": "b7a3c16f",
   "metadata": {},
   "outputs": [],
   "source": [
    "s2 = {2,3,4,55,6}"
   ]
  },
  {
   "cell_type": "code",
   "execution_count": 73,
   "id": "6f1fc7e9",
   "metadata": {},
   "outputs": [
    {
     "data": {
      "text/plain": [
       "set"
      ]
     },
     "execution_count": 73,
     "metadata": {},
     "output_type": "execute_result"
    }
   ],
   "source": [
    "type(s2)"
   ]
  },
  {
   "cell_type": "code",
   "execution_count": 74,
   "id": "ae2ef26b",
   "metadata": {},
   "outputs": [],
   "source": [
    "s3 = {324, 456, 456, \"sudh\", 45+45j, 34.465}"
   ]
  },
  {
   "cell_type": "code",
   "execution_count": 77,
   "id": "b8382413",
   "metadata": {},
   "outputs": [
    {
     "ename": "TypeError",
     "evalue": "unhashable type: 'list'",
     "output_type": "error",
     "traceback": [
      "\u001b[1;31m---------------------------------------------------------------------------\u001b[0m",
      "\u001b[1;31mTypeError\u001b[0m                                 Traceback (most recent call last)",
      "Cell \u001b[1;32mIn[77], line 1\u001b[0m\n\u001b[1;32m----> 1\u001b[0m s3 \u001b[38;5;241m=\u001b[39m {\u001b[38;5;241m324\u001b[39m, \u001b[38;5;241m456\u001b[39m, \u001b[38;5;241m456\u001b[39m, \u001b[38;5;124m\"\u001b[39m\u001b[38;5;124msudh\u001b[39m\u001b[38;5;124m\"\u001b[39m, \u001b[38;5;241m45\u001b[39m\u001b[38;5;241m+\u001b[39m\u001b[38;5;241m45\u001b[39mj, \u001b[38;5;241m34.465\u001b[39m, [\u001b[38;5;241m3\u001b[39m,\u001b[38;5;241m4\u001b[39m,\u001b[38;5;241m5\u001b[39m]}\n",
      "\u001b[1;31mTypeError\u001b[0m: unhashable type: 'list'"
     ]
    }
   ],
   "source": [
    "s3 = {324, 456, 456, \"sudh\", 45+45j, 34.465, [3,4,5]}    # only immutable objects/entity are acceptable in set"
   ]
  },
  {
   "cell_type": "code",
   "execution_count": 78,
   "id": "000bd09b",
   "metadata": {},
   "outputs": [],
   "source": [
    "s3 = {324, 456, 456, \"sudh\", 45+45j, 34.465, (3,4,5)}"
   ]
  },
  {
   "cell_type": "code",
   "execution_count": 79,
   "id": "6d1275e8",
   "metadata": {},
   "outputs": [],
   "source": [
    "s4 = {2,3,4,5,6,2,2,3,4,5,3,2,1,2,3,4,5,6,1,2,2,3}"
   ]
  },
  {
   "cell_type": "code",
   "execution_count": 80,
   "id": "06551625",
   "metadata": {},
   "outputs": [
    {
     "data": {
      "text/plain": [
       "{1, 2, 3, 4, 5, 6}"
      ]
     },
     "execution_count": 80,
     "metadata": {},
     "output_type": "execute_result"
    }
   ],
   "source": [
    "s4"
   ]
  },
  {
   "cell_type": "code",
   "execution_count": 81,
   "id": "41d4ff66",
   "metadata": {},
   "outputs": [],
   "source": [
    "s4 = {2,3,4,5,6,2,2,3,4,5,3,2,1,2,3,4,5,6,1,2,2,3, \"sudh\",\"Sudh\"}"
   ]
  },
  {
   "cell_type": "code",
   "execution_count": 82,
   "id": "6cdeefbe",
   "metadata": {},
   "outputs": [
    {
     "data": {
      "text/plain": [
       "{1, 2, 3, 4, 5, 6, 'Sudh', 'sudh'}"
      ]
     },
     "execution_count": 82,
     "metadata": {},
     "output_type": "execute_result"
    }
   ],
   "source": [
    "s4         # Python are case sensitive "
   ]
  },
  {
   "cell_type": "code",
   "execution_count": 12,
   "id": "7f8423d7",
   "metadata": {},
   "outputs": [],
   "source": [
    "l6 = [2,3,4,5,6,2,2,3,4,5,3,2,1,2,3,4,5,6,1,2,2,3, \"sudh\",\"Sudh\"]"
   ]
  },
  {
   "cell_type": "code",
   "execution_count": 13,
   "id": "7f2897c9",
   "metadata": {},
   "outputs": [
    {
     "data": {
      "text/plain": [
       "[2,\n",
       " 3,\n",
       " 4,\n",
       " 5,\n",
       " 6,\n",
       " 2,\n",
       " 2,\n",
       " 3,\n",
       " 4,\n",
       " 5,\n",
       " 3,\n",
       " 2,\n",
       " 1,\n",
       " 2,\n",
       " 3,\n",
       " 4,\n",
       " 5,\n",
       " 6,\n",
       " 1,\n",
       " 2,\n",
       " 2,\n",
       " 3,\n",
       " 'sudh',\n",
       " 'Sudh']"
      ]
     },
     "execution_count": 13,
     "metadata": {},
     "output_type": "execute_result"
    }
   ],
   "source": [
    "l6"
   ]
  },
  {
   "cell_type": "code",
   "execution_count": 14,
   "id": "8f86b5af",
   "metadata": {},
   "outputs": [
    {
     "data": {
      "text/plain": [
       "{1, 2, 3, 4, 5, 6, 'Sudh', 'sudh'}"
      ]
     },
     "execution_count": 14,
     "metadata": {},
     "output_type": "execute_result"
    }
   ],
   "source": [
    "set(l6)"
   ]
  },
  {
   "cell_type": "code",
   "execution_count": 18,
   "id": "a60ad5b3",
   "metadata": {},
   "outputs": [
    {
     "data": {
      "text/plain": [
       "[2,\n",
       " 3,\n",
       " 4,\n",
       " 5,\n",
       " 6,\n",
       " 2,\n",
       " 2,\n",
       " 3,\n",
       " 4,\n",
       " 5,\n",
       " 3,\n",
       " 2,\n",
       " 1,\n",
       " 2,\n",
       " 3,\n",
       " 4,\n",
       " 5,\n",
       " 6,\n",
       " 1,\n",
       " 2,\n",
       " 2,\n",
       " 3,\n",
       " 'sudh',\n",
       " 'Sudh']"
      ]
     },
     "execution_count": 18,
     "metadata": {},
     "output_type": "execute_result"
    }
   ],
   "source": [
    "l6"
   ]
  },
  {
   "cell_type": "code",
   "execution_count": 17,
   "id": "e18dd2ff",
   "metadata": {},
   "outputs": [],
   "source": [
    "l6 = [2,3,4,5,6,2,2,3,4,5,3,2,1,2,3,4,5,6,1,2,2,3, \"sudh\",\"Sudh\"]"
   ]
  },
  {
   "cell_type": "code",
   "execution_count": 19,
   "id": "9ff9385c",
   "metadata": {},
   "outputs": [
    {
     "data": {
      "text/plain": [
       "[2,\n",
       " 3,\n",
       " 4,\n",
       " 5,\n",
       " 6,\n",
       " 2,\n",
       " 2,\n",
       " 3,\n",
       " 4,\n",
       " 5,\n",
       " 3,\n",
       " 2,\n",
       " 1,\n",
       " 2,\n",
       " 3,\n",
       " 4,\n",
       " 5,\n",
       " 6,\n",
       " 1,\n",
       " 2,\n",
       " 2,\n",
       " 3,\n",
       " 'sudh',\n",
       " 'Sudh']"
      ]
     },
     "execution_count": 19,
     "metadata": {},
     "output_type": "execute_result"
    }
   ],
   "source": [
    "l6"
   ]
  },
  {
   "cell_type": "code",
   "execution_count": 21,
   "id": "cb58a829",
   "metadata": {},
   "outputs": [],
   "source": [
    "l6 = list(set(l6))        # function for deleting repeated data"
   ]
  },
  {
   "cell_type": "code",
   "execution_count": 16,
   "id": "1133c05b",
   "metadata": {},
   "outputs": [
    {
     "data": {
      "text/plain": [
       "[1, 2, 3, 4, 5, 6, 'Sudh', 'sudh']"
      ]
     },
     "execution_count": 16,
     "metadata": {},
     "output_type": "execute_result"
    }
   ],
   "source": [
    "l6"
   ]
  },
  {
   "cell_type": "code",
   "execution_count": 20,
   "id": "b317299e",
   "metadata": {},
   "outputs": [
    {
     "data": {
      "text/plain": [
       "[2,\n",
       " 3,\n",
       " 4,\n",
       " 5,\n",
       " 6,\n",
       " 2,\n",
       " 2,\n",
       " 3,\n",
       " 4,\n",
       " 5,\n",
       " 3,\n",
       " 2,\n",
       " 1,\n",
       " 2,\n",
       " 3,\n",
       " 4,\n",
       " 5,\n",
       " 6,\n",
       " 1,\n",
       " 2,\n",
       " 2,\n",
       " 3,\n",
       " 'sudh',\n",
       " 'Sudh']"
      ]
     },
     "execution_count": 20,
     "metadata": {},
     "output_type": "execute_result"
    }
   ],
   "source": [
    "l6"
   ]
  },
  {
   "cell_type": "code",
   "execution_count": 22,
   "id": "559e4859",
   "metadata": {},
   "outputs": [],
   "source": [
    "l6 = set(l6)"
   ]
  },
  {
   "cell_type": "code",
   "execution_count": 23,
   "id": "f959bd59",
   "metadata": {},
   "outputs": [
    {
     "data": {
      "text/plain": [
       "{1, 2, 3, 4, 5, 6, 'Sudh', 'sudh'}"
      ]
     },
     "execution_count": 23,
     "metadata": {},
     "output_type": "execute_result"
    }
   ],
   "source": [
    "l6"
   ]
  },
  {
   "cell_type": "code",
   "execution_count": 24,
   "id": "7e7ea964",
   "metadata": {},
   "outputs": [],
   "source": [
    "s5 = {234, 45, 23, 12, 567, 45,2, 789, 234, \"abc\", 456, 342, 23}"
   ]
  },
  {
   "cell_type": "code",
   "execution_count": 25,
   "id": "7c714d8b",
   "metadata": {},
   "outputs": [
    {
     "data": {
      "text/plain": [
       "{12, 2, 23, 234, 342, 45, 456, 567, 789, 'abc'}"
      ]
     },
     "execution_count": 25,
     "metadata": {},
     "output_type": "execute_result"
    }
   ],
   "source": [
    "s5               # not in an arranged order"
   ]
  },
  {
   "cell_type": "code",
   "execution_count": 26,
   "id": "c344cf34",
   "metadata": {},
   "outputs": [
    {
     "ename": "TypeError",
     "evalue": "'set' object is not subscriptable",
     "output_type": "error",
     "traceback": [
      "\u001b[1;31m---------------------------------------------------------------------------\u001b[0m",
      "\u001b[1;31mTypeError\u001b[0m                                 Traceback (most recent call last)",
      "Cell \u001b[1;32mIn[26], line 1\u001b[0m\n\u001b[1;32m----> 1\u001b[0m s5[\u001b[38;5;241m0\u001b[39m]\n",
      "\u001b[1;31mTypeError\u001b[0m: 'set' object is not subscriptable"
     ]
    }
   ],
   "source": [
    "s5[0]"
   ]
  },
  {
   "cell_type": "code",
   "execution_count": 27,
   "id": "334b57d6",
   "metadata": {},
   "outputs": [
    {
     "ename": "TypeError",
     "evalue": "'set' object is not subscriptable",
     "output_type": "error",
     "traceback": [
      "\u001b[1;31m---------------------------------------------------------------------------\u001b[0m",
      "\u001b[1;31mTypeError\u001b[0m                                 Traceback (most recent call last)",
      "Cell \u001b[1;32mIn[27], line 1\u001b[0m\n\u001b[1;32m----> 1\u001b[0m s5[::\u001b[38;5;241m-\u001b[39m\u001b[38;5;241m1\u001b[39m]\n",
      "\u001b[1;31mTypeError\u001b[0m: 'set' object is not subscriptable"
     ]
    }
   ],
   "source": [
    "s5[::-1]"
   ]
  },
  {
   "cell_type": "code",
   "execution_count": 28,
   "id": "c07ce039",
   "metadata": {},
   "outputs": [],
   "source": [
    "s5.add(4)"
   ]
  },
  {
   "cell_type": "code",
   "execution_count": 29,
   "id": "7c895e16",
   "metadata": {},
   "outputs": [
    {
     "data": {
      "text/plain": [
       "{12, 2, 23, 234, 342, 4, 45, 456, 567, 789, 'abc'}"
      ]
     },
     "execution_count": 29,
     "metadata": {},
     "output_type": "execute_result"
    }
   ],
   "source": [
    "s5"
   ]
  },
  {
   "cell_type": "code",
   "execution_count": 30,
   "id": "f39c4dac",
   "metadata": {},
   "outputs": [],
   "source": [
    "s5.remove(2)"
   ]
  },
  {
   "cell_type": "code",
   "execution_count": 31,
   "id": "bd8de682",
   "metadata": {},
   "outputs": [
    {
     "data": {
      "text/plain": [
       "{12, 23, 234, 342, 4, 45, 456, 567, 789, 'abc'}"
      ]
     },
     "execution_count": 31,
     "metadata": {},
     "output_type": "execute_result"
    }
   ],
   "source": [
    "s5"
   ]
  }
 ],
 "metadata": {
  "kernelspec": {
   "display_name": "Python 3 (ipykernel)",
   "language": "python",
   "name": "python3"
  },
  "language_info": {
   "codemirror_mode": {
    "name": "ipython",
    "version": 3
   },
   "file_extension": ".py",
   "mimetype": "text/x-python",
   "name": "python",
   "nbconvert_exporter": "python",
   "pygments_lexer": "ipython3",
   "version": "3.11.4"
  }
 },
 "nbformat": 4,
 "nbformat_minor": 5
}
