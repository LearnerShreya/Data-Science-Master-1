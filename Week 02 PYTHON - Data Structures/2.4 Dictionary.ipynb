{
 "cells": [
  {
   "cell_type": "markdown",
   "id": "681392ae",
   "metadata": {},
   "source": [
    "> Real dictionary : word and meaning  \n",
    "> Python Dictionary : key and value pair\n",
    "\n",
    "## ✅ **Dictionary (dict) in Python**\n",
    "\n",
    "### 🔹 What is a Dictionary?\n",
    "\n",
    "* A **Dictionary** is a built-in data structure used to store **key-value pairs**.\n",
    "* Each **key** is unique and maps to a **value**.\n",
    "* Values can be of **any data type**, including other dictionaries, lists, tuples, sets, etc.\n",
    "* Dictionaries are:\n",
    "\n",
    "  * **Ordered** (from Python 3.7+) → keys maintain insertion order\n",
    "  * **Mutable** → keys and values can be added, changed, or removed\n",
    "  * Keys must be **immutable** types (like strings, numbers, or tuples)\n",
    "  * Values can be **any type**\n",
    "\n",
    "### 🔹 Examples:\n",
    "\n",
    "```python\n",
    "d = {\n",
    "    'name': 'Shreya',\n",
    "    'age': 21,\n",
    "    'skills': ['Python', 'Data Science'],\n",
    "    'is_student': True\n",
    "}\n",
    "```\n",
    "\n",
    "---\n",
    "\n",
    "### 🔹 Key Features\n",
    "\n",
    "* Access values by keys: `d['name']` → `'Shreya'`\n",
    "* Add or update items: `d['location'] = 'India'`\n",
    "* Remove items: `d.pop('age')`\n",
    "* Keys are unique; if you assign the same key again, it updates the value.\n",
    "\n",
    "---\n",
    "\n",
    "### 🔹 **Dictionary Functions (Key-Value Store, Mutable)**\n",
    "\n",
    "| Function/Method        | Description                   | Example                      | Notes                       |\n",
    "| ---------------------- | ----------------------------- | ---------------------------- | --------------------------- |\n",
    "| `dict[key]`            | Get value by key              | `d['name']`                  | Error if key not found      |\n",
    "| `dict.get(key)`        | Safe key access               | `d.get('age')`               | Returns None if key missing |\n",
    "| `dict.keys()`          | Returns all keys              | `d.keys()`                   | Use `list()` to convert     |\n",
    "| `dict.values()`        | Returns all values            | `d.values()`                 | Use `list()` to convert     |\n",
    "| `dict.items()`         | Returns key-value pairs       | `d.items()`                  | In (key, value) format      |\n",
    "| `dict.update(d2)`      | Add/replace with another dict | `d.update({'age': 22})`      | Merges dictionaries         |\n",
    "| `dict.pop(key)`        | Remove key and return value   | `d.pop('age')`               | Key must exist              |\n",
    "| `dict.popitem()`       | Removes last inserted item    | `d.popitem()`                | Python 3.7+ maintains order |\n",
    "| `dict.clear()`         | Removes all items             | `d.clear()`                  | Becomes empty dictionary    |\n",
    "| `dict.copy()`          | Returns shallow copy          | `new = d.copy()`             | Useful for backup           |\n",
    "| `dict.setdefault(k,v)` | Gets value or sets default    | `d.setdefault('x', 10)`      | Adds only if key missing    |\n",
    "| `key in dict`          | Checks if key exists          | `'name' in d`                | Returns boolean             |\n",
    "| Dict comprehension     | Build dict from expression    | `{x: x*x for x in range(5)}` | Short & powerful            |\n",
    "\n",
    "\n",
    "### ✅ **Is `dict` ordered or unordered?**\n",
    "\n",
    "* ✅ **In Python 3.7 and above** (including Python 3.8, 3.9, 3.10...):\n",
    "\n",
    "  > **Dictionaries are ordered by default**.\n",
    "\n",
    "That means:\n",
    "\n",
    "* The **order in which you insert key-value pairs is preserved**.\n",
    "* If you do:\n",
    "\n",
    "  ```python\n",
    "  d = {'a': 1, 'b': 2, 'c': 3}\n",
    "  print(d)\n",
    "  ```\n",
    "\n",
    "  Output will be:\n",
    "\n",
    "  ```python\n",
    "  {'a': 1, 'b': 2, 'c': 3}\n",
    "  ```\n",
    "\n",
    "### 🔁 But earlier...\n",
    "\n",
    "* ❌ **Before Python 3.7**:\n",
    "\n",
    "  > Dictionaries were **unordered**, and insertion order was not guaranteed.\n"
   ]
  },
  {
   "cell_type": "code",
   "execution_count": 1,
   "id": "d0c6f85a",
   "metadata": {},
   "outputs": [],
   "source": [
    "d = {}"
   ]
  },
  {
   "cell_type": "code",
   "execution_count": 2,
   "id": "4fde077b",
   "metadata": {},
   "outputs": [
    {
     "data": {
      "text/plain": [
       "dict"
      ]
     },
     "execution_count": 2,
     "metadata": {},
     "output_type": "execute_result"
    }
   ],
   "source": [
    "type(d)"
   ]
  },
  {
   "cell_type": "code",
   "execution_count": 3,
   "id": "03ce2927",
   "metadata": {},
   "outputs": [],
   "source": [
    "y = {2,3,4}"
   ]
  },
  {
   "cell_type": "code",
   "execution_count": 4,
   "id": "c71c5501",
   "metadata": {},
   "outputs": [
    {
     "data": {
      "text/plain": [
       "set"
      ]
     },
     "execution_count": 4,
     "metadata": {},
     "output_type": "execute_result"
    }
   ],
   "source": [
    "type(y)"
   ]
  },
  {
   "cell_type": "code",
   "execution_count": 5,
   "id": "870f83df",
   "metadata": {},
   "outputs": [],
   "source": [
    "d1 = {\"key\":\"sudh\"}"
   ]
  },
  {
   "cell_type": "code",
   "execution_count": 6,
   "id": "2a46dcc1",
   "metadata": {},
   "outputs": [
    {
     "data": {
      "text/plain": [
       "{'key': 'sudh'}"
      ]
     },
     "execution_count": 6,
     "metadata": {},
     "output_type": "execute_result"
    }
   ],
   "source": [
    "d1"
   ]
  },
  {
   "cell_type": "code",
   "execution_count": 7,
   "id": "cc16059d",
   "metadata": {},
   "outputs": [],
   "source": [
    "d2 = {\"name\":\"shreya\",\"email\":\"ss@gmail.com\",\"number\":334534}"
   ]
  },
  {
   "cell_type": "code",
   "execution_count": 8,
   "id": "084b22ec",
   "metadata": {},
   "outputs": [
    {
     "data": {
      "text/plain": [
       "{'name': 'shreya', 'email': 'ss@gmail.com', 'number': 334534}"
      ]
     },
     "execution_count": 8,
     "metadata": {},
     "output_type": "execute_result"
    }
   ],
   "source": [
    "d2"
   ]
  },
  {
   "cell_type": "code",
   "execution_count": 9,
   "id": "252a2948",
   "metadata": {},
   "outputs": [],
   "source": [
    "d3 = {234:\"sudh\"}"
   ]
  },
  {
   "cell_type": "code",
   "execution_count": 10,
   "id": "76731107",
   "metadata": {},
   "outputs": [
    {
     "data": {
      "text/plain": [
       "{234: 'sudh'}"
      ]
     },
     "execution_count": 10,
     "metadata": {},
     "output_type": "execute_result"
    }
   ],
   "source": [
    "d3"
   ]
  },
  {
   "cell_type": "code",
   "execution_count": 11,
   "id": "fb97c664",
   "metadata": {},
   "outputs": [
    {
     "ename": "SyntaxError",
     "evalue": "invalid syntax (639560357.py, line 1)",
     "output_type": "error",
     "traceback": [
      "\u001b[1;36m  Cell \u001b[1;32mIn[11], line 1\u001b[1;36m\u001b[0m\n\u001b[1;33m    d3 = {234:\"sudh\", @:\"kumar\"}\u001b[0m\n\u001b[1;37m                      ^\u001b[0m\n\u001b[1;31mSyntaxError\u001b[0m\u001b[1;31m:\u001b[0m invalid syntax\n"
     ]
    }
   ],
   "source": [
    "d3 = {234:\"sudh\", @:\"kumar\"}"
   ]
  },
  {
   "cell_type": "code",
   "execution_count": null,
   "id": "d9ff6510",
   "metadata": {},
   "outputs": [
    {
     "ename": "NameError",
     "evalue": "name '_wer' is not defined",
     "output_type": "error",
     "traceback": [
      "\u001b[1;31m---------------------------------------------------------------------------\u001b[0m",
      "\u001b[1;31mNameError\u001b[0m                                 Traceback (most recent call last)",
      "Cell \u001b[1;32mIn[17], line 1\u001b[0m\n\u001b[1;32m----> 1\u001b[0m d3 \u001b[38;5;241m=\u001b[39m {\u001b[38;5;241m234\u001b[39m:\u001b[38;5;124m\"\u001b[39m\u001b[38;5;124msudh\u001b[39m\u001b[38;5;124m\"\u001b[39m, _wer:\u001b[38;5;124m\"\u001b[39m\u001b[38;5;124mkumar\u001b[39m\u001b[38;5;124m\"\u001b[39m}\n",
      "\u001b[1;31mNameError\u001b[0m: name '_wer' is not defined"
     ]
    }
   ],
   "source": [
    "d3 = {234:\"sudh\", _wer:\"kumar\"}         # special case symbol is not allowed"
   ]
  },
  {
   "cell_type": "code",
   "execution_count": null,
   "id": "7b126819",
   "metadata": {},
   "outputs": [],
   "source": [
    "d3 = {234:\"sudh\", \"_wer\" :\"kumar\" , True:23434}  "
   ]
  },
  {
   "cell_type": "code",
   "execution_count": null,
   "id": "f41bf7d1",
   "metadata": {},
   "outputs": [
    {
     "data": {
      "text/plain": [
       "{234: 'sudh', '_wer': 'kumar', True: 23434}"
      ]
     },
     "execution_count": 19,
     "metadata": {},
     "output_type": "execute_result"
    }
   ],
   "source": [
    "d3"
   ]
  },
  {
   "cell_type": "code",
   "execution_count": null,
   "id": "c7961bb7",
   "metadata": {},
   "outputs": [
    {
     "data": {
      "text/plain": [
       "'sudh'"
      ]
     },
     "execution_count": 20,
     "metadata": {},
     "output_type": "execute_result"
    }
   ],
   "source": [
    "d3[234]"
   ]
  },
  {
   "cell_type": "code",
   "execution_count": null,
   "id": "40901bf2",
   "metadata": {},
   "outputs": [
    {
     "data": {
      "text/plain": [
       "23434"
      ]
     },
     "execution_count": 21,
     "metadata": {},
     "output_type": "execute_result"
    }
   ],
   "source": [
    "d3[True]"
   ]
  },
  {
   "cell_type": "code",
   "execution_count": null,
   "id": "2c0f7c02",
   "metadata": {},
   "outputs": [
    {
     "data": {
      "text/plain": [
       "23434"
      ]
     },
     "execution_count": 22,
     "metadata": {},
     "output_type": "execute_result"
    }
   ],
   "source": [
    "d3[1]        # True = 1"
   ]
  },
  {
   "cell_type": "code",
   "execution_count": null,
   "id": "c8253f85",
   "metadata": {},
   "outputs": [
    {
     "ename": "KeyError",
     "evalue": "0",
     "output_type": "error",
     "traceback": [
      "\u001b[1;31m---------------------------------------------------------------------------\u001b[0m",
      "\u001b[1;31mKeyError\u001b[0m                                  Traceback (most recent call last)",
      "Cell \u001b[1;32mIn[23], line 1\u001b[0m\n\u001b[1;32m----> 1\u001b[0m d3[\u001b[38;5;241m0\u001b[39m]\n",
      "\u001b[1;31mKeyError\u001b[0m: 0"
     ]
    }
   ],
   "source": [
    "d3[0]"
   ]
  },
  {
   "cell_type": "code",
   "execution_count": null,
   "id": "7baa0528",
   "metadata": {},
   "outputs": [],
   "source": [
    "d4 = {'name':'sudh','mail_id':\"ss@gmail.com\",\"name\":\"Sudhanshu\"}"
   ]
  },
  {
   "cell_type": "code",
   "execution_count": null,
   "id": "6cb77448",
   "metadata": {},
   "outputs": [
    {
     "data": {
      "text/plain": [
       "'Sudhanshu'"
      ]
     },
     "execution_count": 25,
     "metadata": {},
     "output_type": "execute_result"
    }
   ],
   "source": [
    "d4[\"name\"]           # in case of dictionary key should be unique if not overwritten is performed with updated value"
   ]
  },
  {
   "cell_type": "code",
   "execution_count": null,
   "id": "e34b1780",
   "metadata": {},
   "outputs": [],
   "source": [
    "d5 = {\"company\":\"pwskills\", \"courses\":[\"web dev\", \"Data Science\", \"java with dsa system design\"]}"
   ]
  },
  {
   "cell_type": "code",
   "execution_count": null,
   "id": "187897b9",
   "metadata": {},
   "outputs": [
    {
     "data": {
      "text/plain": [
       "['web dev', 'Data Science', 'java with dsa system design']"
      ]
     },
     "execution_count": 27,
     "metadata": {},
     "output_type": "execute_result"
    }
   ],
   "source": [
    "d5['courses']"
   ]
  },
  {
   "cell_type": "code",
   "execution_count": null,
   "id": "3f6f374e",
   "metadata": {},
   "outputs": [
    {
     "data": {
      "text/plain": [
       "'Data Science'"
      ]
     },
     "execution_count": 28,
     "metadata": {},
     "output_type": "execute_result"
    }
   ],
   "source": [
    "d5['courses'][1]"
   ]
  },
  {
   "cell_type": "code",
   "execution_count": null,
   "id": "16b18e28",
   "metadata": {},
   "outputs": [],
   "source": [
    "d6 = {\"number\":[2,34,3,34,34], \"assignment\":(1,2,3,4,5,6), \"launch_date\":{28,12,14}, \"class_time\":{\"web_dev\":8, \"Data Science Master\":8, \"Java with DSA and system design\":7}}"
   ]
  },
  {
   "cell_type": "code",
   "execution_count": null,
   "id": "8e28b1d8",
   "metadata": {},
   "outputs": [
    {
     "data": {
      "text/plain": [
       "{'number': [2, 34, 3, 34, 34],\n",
       " 'assignment': (1, 2, 3, 4, 5, 6),\n",
       " 'launch_date': {12, 14, 28},\n",
       " 'class_time': {'web_dev': 8,\n",
       "  'Data Science Master': 8,\n",
       "  'Java with DSA and system design': 7}}"
      ]
     },
     "execution_count": 30,
     "metadata": {},
     "output_type": "execute_result"
    }
   ],
   "source": [
    "d6"
   ]
  },
  {
   "cell_type": "code",
   "execution_count": null,
   "id": "65127a82",
   "metadata": {},
   "outputs": [
    {
     "data": {
      "text/plain": [
       "7"
      ]
     },
     "execution_count": 31,
     "metadata": {},
     "output_type": "execute_result"
    }
   ],
   "source": [
    "d6[\"class_time\"][\"Java with DSA and system design\"]"
   ]
  },
  {
   "cell_type": "code",
   "execution_count": null,
   "id": "93e4b736",
   "metadata": {},
   "outputs": [
    {
     "data": {
      "text/plain": [
       "{'number': [2, 34, 3, 34, 34],\n",
       " 'assignment': (1, 2, 3, 4, 5, 6),\n",
       " 'launch_date': {12, 14, 28},\n",
       " 'class_time': {'web_dev': 8,\n",
       "  'Data Science Master': 8,\n",
       "  'Java with DSA and system design': 7}}"
      ]
     },
     "execution_count": 32,
     "metadata": {},
     "output_type": "execute_result"
    }
   ],
   "source": [
    "d6"
   ]
  },
  {
   "cell_type": "code",
   "execution_count": null,
   "id": "77d3e1a3",
   "metadata": {},
   "outputs": [],
   "source": [
    "d6['mentor'] = [\"sudhanshu\", \"krish\",\"anurag\",\"hyder\"]"
   ]
  },
  {
   "cell_type": "code",
   "execution_count": null,
   "id": "138d9ae0",
   "metadata": {},
   "outputs": [
    {
     "data": {
      "text/plain": [
       "{'number': [2, 34, 3, 34, 34],\n",
       " 'assignment': (1, 2, 3, 4, 5, 6),\n",
       " 'launch_date': {12, 14, 28},\n",
       " 'class_time': {'web_dev': 8,\n",
       "  'Data Science Master': 8,\n",
       "  'Java with DSA and system design': 7},\n",
       " 'mentor': ['sudhanshu', 'krish', 'anurag', 'hyder']}"
      ]
     },
     "execution_count": 34,
     "metadata": {},
     "output_type": "execute_result"
    }
   ],
   "source": [
    "d6"
   ]
  },
  {
   "cell_type": "code",
   "execution_count": null,
   "id": "78a34e29",
   "metadata": {},
   "outputs": [],
   "source": [
    "del d6['number']"
   ]
  },
  {
   "cell_type": "code",
   "execution_count": null,
   "id": "ece08469",
   "metadata": {},
   "outputs": [
    {
     "data": {
      "text/plain": [
       "{'assignment': (1, 2, 3, 4, 5, 6),\n",
       " 'launch_date': {12, 14, 28},\n",
       " 'class_time': {'web_dev': 8,\n",
       "  'Data Science Master': 8,\n",
       "  'Java with DSA and system design': 7},\n",
       " 'mentor': ['sudhanshu', 'krish', 'anurag', 'hyder']}"
      ]
     },
     "execution_count": 37,
     "metadata": {},
     "output_type": "execute_result"
    }
   ],
   "source": [
    "d6"
   ]
  },
  {
   "cell_type": "code",
   "execution_count": null,
   "id": "700ecc2a",
   "metadata": {},
   "outputs": [
    {
     "data": {
      "text/plain": [
       "dict_keys(['assignment', 'launch_date', 'class_time', 'mentor'])"
      ]
     },
     "execution_count": 39,
     "metadata": {},
     "output_type": "execute_result"
    }
   ],
   "source": [
    "d6.keys()"
   ]
  },
  {
   "cell_type": "code",
   "execution_count": null,
   "id": "6342b582",
   "metadata": {},
   "outputs": [
    {
     "data": {
      "text/plain": [
       "['assignment', 'launch_date', 'class_time', 'mentor']"
      ]
     },
     "execution_count": 40,
     "metadata": {},
     "output_type": "execute_result"
    }
   ],
   "source": [
    "list(d6.keys())"
   ]
  },
  {
   "cell_type": "code",
   "execution_count": null,
   "id": "bccaa8a2",
   "metadata": {},
   "outputs": [
    {
     "data": {
      "text/plain": [
       "[(1, 2, 3, 4, 5, 6),\n",
       " {12, 14, 28},\n",
       " {'web_dev': 8,\n",
       "  'Data Science Master': 8,\n",
       "  'Java with DSA and system design': 7},\n",
       " ['sudhanshu', 'krish', 'anurag', 'hyder']]"
      ]
     },
     "execution_count": 41,
     "metadata": {},
     "output_type": "execute_result"
    }
   ],
   "source": [
    "list(d6.values())"
   ]
  },
  {
   "cell_type": "code",
   "execution_count": null,
   "id": "6e5da48c",
   "metadata": {},
   "outputs": [
    {
     "data": {
      "text/plain": [
       "[('assignment', (1, 2, 3, 4, 5, 6)),\n",
       " ('launch_date', {12, 14, 28}),\n",
       " ('class_time',\n",
       "  {'web_dev': 8,\n",
       "   'Data Science Master': 8,\n",
       "   'Java with DSA and system design': 7}),\n",
       " ('mentor', ['sudhanshu', 'krish', 'anurag', 'hyder'])]"
      ]
     },
     "execution_count": 44,
     "metadata": {},
     "output_type": "execute_result"
    }
   ],
   "source": [
    "list(d6.items())"
   ]
  },
  {
   "cell_type": "code",
   "execution_count": null,
   "id": "6134bfe9",
   "metadata": {},
   "outputs": [
    {
     "data": {
      "text/plain": [
       "(1, 2, 3, 4, 5, 6)"
      ]
     },
     "execution_count": 46,
     "metadata": {},
     "output_type": "execute_result"
    }
   ],
   "source": [
    "d6.pop('assignment')"
   ]
  },
  {
   "cell_type": "code",
   "execution_count": null,
   "id": "601a94d7",
   "metadata": {},
   "outputs": [
    {
     "data": {
      "text/plain": [
       "{'launch_date': {12, 14, 28},\n",
       " 'class_time': {'web_dev': 8,\n",
       "  'Data Science Master': 8,\n",
       "  'Java with DSA and system design': 7},\n",
       " 'mentor': ['sudhanshu', 'krish', 'anurag', 'hyder']}"
      ]
     },
     "execution_count": 47,
     "metadata": {},
     "output_type": "execute_result"
    }
   ],
   "source": [
    "d6"
   ]
  },
  {
   "cell_type": "code",
   "execution_count": null,
   "id": "e648da02",
   "metadata": {},
   "outputs": [
    {
     "ename": "TypeError",
     "evalue": "pop expected at least 1 argument, got 0",
     "output_type": "error",
     "traceback": [
      "\u001b[1;31m---------------------------------------------------------------------------\u001b[0m",
      "\u001b[1;31mTypeError\u001b[0m                                 Traceback (most recent call last)",
      "Cell \u001b[1;32mIn[48], line 1\u001b[0m\n\u001b[1;32m----> 1\u001b[0m d6\u001b[38;5;241m.\u001b[39mpop()\n",
      "\u001b[1;31mTypeError\u001b[0m: pop expected at least 1 argument, got 0"
     ]
    }
   ],
   "source": [
    "d6.pop()"
   ]
  },
  {
   "cell_type": "markdown",
   "id": "326ec67e",
   "metadata": {},
   "source": [
    "# Statement"
   ]
  },
  {
   "cell_type": "markdown",
   "id": "c4361d2e",
   "metadata": {},
   "source": [
    "**Indentation** : In other language we uses curly braces but in Python we uses indentation to show continuity of a program"
   ]
  },
  {
   "cell_type": "code",
   "execution_count": null,
   "id": "c473972a",
   "metadata": {},
   "outputs": [
    {
     "ename": "NameError",
     "evalue": "name 'marks' is not defined",
     "output_type": "error",
     "traceback": [
      "\u001b[1;31m---------------------------------------------------------------------------\u001b[0m",
      "\u001b[1;31mNameError\u001b[0m                                 Traceback (most recent call last)",
      "Cell \u001b[1;32mIn[50], line 1\u001b[0m\n\u001b[1;32m----> 1\u001b[0m \u001b[38;5;28;01mif\u001b[39;00m marks \u001b[38;5;241m>\u001b[39m\u001b[38;5;241m=\u001b[39m \u001b[38;5;241m80\u001b[39m:\n\u001b[0;32m      2\u001b[0m     \u001b[38;5;28mprint\u001b[39m(\u001b[38;5;124m\"\u001b[39m\u001b[38;5;124mYou will be a part of A0 batch\u001b[39m\u001b[38;5;124m\"\u001b[39m)\n\u001b[0;32m      3\u001b[0m \u001b[38;5;28;01melif\u001b[39;00m marks \u001b[38;5;241m>\u001b[39m\u001b[38;5;241m=\u001b[39m \u001b[38;5;241m60\u001b[39m \u001b[38;5;129;01mand\u001b[39;00m marks \u001b[38;5;241m<\u001b[39m \u001b[38;5;241m80\u001b[39m:\n",
      "\u001b[1;31mNameError\u001b[0m: name 'marks' is not defined"
     ]
    }
   ],
   "source": [
    "if marks >= 80:\n",
    "    print(\"You will be a part of A0 batch\")\n",
    "elif marks >= 60 and marks < 80:\n",
    "    print(\"You will be part of A1 batch\")\n",
    "elif marks >= 40 and marks < 60:\n",
    "    print(\"You will be part of A2 batch\")\n",
    "else :\n",
    "    print(\"You will be part of A3 batch\")"
   ]
  },
  {
   "cell_type": "code",
   "execution_count": null,
   "id": "7ab0872d",
   "metadata": {},
   "outputs": [
    {
     "name": "stdout",
     "output_type": "stream",
     "text": [
      "You will be a part of A0 batch\n"
     ]
    }
   ],
   "source": [
    "marks = 90\n",
    "if marks >= 80:\n",
    "    print(\"You will be a part of A0 batch\")\n",
    "elif marks >= 60 and marks < 80:\n",
    "    print(\"You will be part of A1 batch\")\n",
    "elif marks >= 40 and marks < 60:\n",
    "    print(\"You will be part of A2 batch\")\n",
    "else :\n",
    "    print(\"You will be part of A3 batch\")"
   ]
  },
  {
   "cell_type": "code",
   "execution_count": null,
   "id": "620cc34e",
   "metadata": {},
   "outputs": [
    {
     "name": "stdout",
     "output_type": "stream",
     "text": [
      "You will be part of A1 batch\n"
     ]
    }
   ],
   "source": [
    "marks = 65\n",
    "if marks >= 80:\n",
    "    print(\"You will be a part of A0 batch\")\n",
    "elif marks >= 60 and marks < 80:\n",
    "    print(\"You will be part of A1 batch\")\n",
    "elif marks >= 40 and marks < 60:\n",
    "    print(\"You will be part of A2 batch\")\n",
    "else :\n",
    "    print(\"You will be part of A3 batch\")"
   ]
  },
  {
   "cell_type": "code",
   "execution_count": null,
   "id": "26b37bb8",
   "metadata": {},
   "outputs": [
    {
     "name": "stdout",
     "output_type": "stream",
     "text": [
      "20\n"
     ]
    },
    {
     "ename": "TypeError",
     "evalue": "'>=' not supported between instances of 'str' and 'int'",
     "output_type": "error",
     "traceback": [
      "\u001b[1;31m---------------------------------------------------------------------------\u001b[0m",
      "\u001b[1;31mTypeError\u001b[0m                                 Traceback (most recent call last)",
      "Cell \u001b[1;32mIn[1], line 2\u001b[0m\n\u001b[0;32m      1\u001b[0m marks \u001b[38;5;241m=\u001b[39m (\u001b[38;5;28minput\u001b[39m())\n\u001b[1;32m----> 2\u001b[0m \u001b[38;5;28;01mif\u001b[39;00m marks \u001b[38;5;241m>\u001b[39m\u001b[38;5;241m=\u001b[39m \u001b[38;5;241m80\u001b[39m:\n\u001b[0;32m      3\u001b[0m     \u001b[38;5;28mprint\u001b[39m(\u001b[38;5;124m\"\u001b[39m\u001b[38;5;124mYou will be a part of A0 batch\u001b[39m\u001b[38;5;124m\"\u001b[39m)\n\u001b[0;32m      4\u001b[0m \u001b[38;5;28;01melif\u001b[39;00m marks \u001b[38;5;241m>\u001b[39m\u001b[38;5;241m=\u001b[39m \u001b[38;5;241m60\u001b[39m \u001b[38;5;129;01mand\u001b[39;00m marks \u001b[38;5;241m<\u001b[39m \u001b[38;5;241m80\u001b[39m:\n",
      "\u001b[1;31mTypeError\u001b[0m: '>=' not supported between instances of 'str' and 'int'"
     ]
    }
   ],
   "source": [
    "marks = (input())\n",
    "if marks >= 80:\n",
    "    print(\"You will be a part of A0 batch\")\n",
    "elif marks >= 60 and marks < 80:\n",
    "    print(\"You will be part of A1 batch\")\n",
    "elif marks >= 40 and marks < 60:\n",
    "    print(\"You will be part of A2 batch\")\n",
    "else :\n",
    "    print(\"You will be part of A3 batch\")"
   ]
  },
  {
   "cell_type": "markdown",
   "id": "0d382c54",
   "metadata": {},
   "source": [
    "- valid between values of the same data type or between compatible data types.\n",
    "- convert the string \"10\" to an integer using int(), allowing us to perform a valid comparison with the integer value."
   ]
  },
  {
   "cell_type": "code",
   "execution_count": null,
   "id": "7fb203a6",
   "metadata": {},
   "outputs": [
    {
     "name": "stdout",
     "output_type": "stream",
     "text": [
      "Enter your marks 80\n"
     ]
    },
    {
     "ename": "TypeError",
     "evalue": "'>=' not supported between instances of 'str' and 'int'",
     "output_type": "error",
     "traceback": [
      "\u001b[1;31m---------------------------------------------------------------------------\u001b[0m",
      "\u001b[1;31mTypeError\u001b[0m                                 Traceback (most recent call last)",
      "Cell \u001b[1;32mIn[83], line 2\u001b[0m\n\u001b[0;32m      1\u001b[0m marks \u001b[38;5;241m=\u001b[39m \u001b[38;5;28minput\u001b[39m(\u001b[38;5;124m\"\u001b[39m\u001b[38;5;124mEnter your marks \u001b[39m\u001b[38;5;124m\"\u001b[39m)\n\u001b[1;32m----> 2\u001b[0m \u001b[38;5;28;01mif\u001b[39;00m marks \u001b[38;5;241m>\u001b[39m\u001b[38;5;241m=\u001b[39m \u001b[38;5;241m80\u001b[39m:\n\u001b[0;32m      3\u001b[0m     \u001b[38;5;28mprint\u001b[39m(\u001b[38;5;124m\"\u001b[39m\u001b[38;5;124mYou will be a part of A0 batch\u001b[39m\u001b[38;5;124m\"\u001b[39m)\n\u001b[0;32m      4\u001b[0m \u001b[38;5;28;01melif\u001b[39;00m marks \u001b[38;5;241m>\u001b[39m\u001b[38;5;241m=\u001b[39m \u001b[38;5;241m60\u001b[39m \u001b[38;5;129;01mand\u001b[39;00m marks \u001b[38;5;241m<\u001b[39m \u001b[38;5;241m80\u001b[39m:\n",
      "\u001b[1;31mTypeError\u001b[0m: '>=' not supported between instances of 'str' and 'int'"
     ]
    }
   ],
   "source": [
    "marks = input(\"Enter your marks \")\n",
    "if marks >= 80:\n",
    "    print(\"You will be a part of A0 batch\")\n",
    "elif marks >= 60 and marks < 80:\n",
    "    print(\"You will be part of A1 batch\")\n",
    "elif marks >= 40 and marks < 60:\n",
    "    print(\"You will be part of A2 batch\")\n",
    "else :\n",
    "    print(\"You will be part of A3 batch\")"
   ]
  },
  {
   "cell_type": "code",
   "execution_count": null,
   "id": "e06b8529",
   "metadata": {},
   "outputs": [
    {
     "data": {
      "text/plain": [
       "str"
      ]
     },
     "execution_count": 84,
     "metadata": {},
     "output_type": "execute_result"
    }
   ],
   "source": [
    "type(marks)"
   ]
  },
  {
   "cell_type": "code",
   "execution_count": null,
   "id": "ed805fcc",
   "metadata": {},
   "outputs": [
    {
     "name": "stdout",
     "output_type": "stream",
     "text": [
      "Enter your marks 45\n"
     ]
    }
   ],
   "source": [
    "marks = input(\"Enter your marks \")"
   ]
  },
  {
   "cell_type": "code",
   "execution_count": null,
   "id": "b78b70b3",
   "metadata": {},
   "outputs": [
    {
     "data": {
      "text/plain": [
       "str"
      ]
     },
     "execution_count": 77,
     "metadata": {},
     "output_type": "execute_result"
    }
   ],
   "source": [
    "type(marks)"
   ]
  },
  {
   "cell_type": "code",
   "execution_count": null,
   "id": "75a80004",
   "metadata": {},
   "outputs": [
    {
     "name": "stdout",
     "output_type": "stream",
     "text": [
      "Enter your marks 50\n"
     ]
    }
   ],
   "source": [
    "marks = int(input(\"Enter your marks \"))"
   ]
  },
  {
   "cell_type": "code",
   "execution_count": null,
   "id": "9444ec06",
   "metadata": {},
   "outputs": [
    {
     "data": {
      "text/plain": [
       "int"
      ]
     },
     "execution_count": 79,
     "metadata": {},
     "output_type": "execute_result"
    }
   ],
   "source": [
    "type(marks)"
   ]
  },
  {
   "cell_type": "code",
   "execution_count": null,
   "id": "55313c34",
   "metadata": {},
   "outputs": [
    {
     "name": "stdout",
     "output_type": "stream",
     "text": [
      "Enter your marks 60\n"
     ]
    }
   ],
   "source": [
    "marks = float(input(\"Enter your marks \"))"
   ]
  },
  {
   "cell_type": "code",
   "execution_count": null,
   "id": "68b84bbb",
   "metadata": {},
   "outputs": [
    {
     "data": {
      "text/plain": [
       "float"
      ]
     },
     "execution_count": 81,
     "metadata": {},
     "output_type": "execute_result"
    }
   ],
   "source": [
    "type(marks)"
   ]
  },
  {
   "cell_type": "code",
   "execution_count": null,
   "id": "04b952ea",
   "metadata": {},
   "outputs": [
    {
     "name": "stdout",
     "output_type": "stream",
     "text": [
      "Enter your marks 70\n",
      "You will be part of A1 batch\n"
     ]
    }
   ],
   "source": [
    "marks = int(input(\"Enter your marks \"))\n",
    "if marks >= 80:\n",
    "    print(\"You will be a part of A0 batch\")\n",
    "elif marks >= 60 and marks < 80:\n",
    "    print(\"You will be part of A1 batch\")\n",
    "elif marks >= 40 and marks < 60:\n",
    "    print(\"You will be part of A2 batch\")\n",
    "else :\n",
    "    print(\"You will be part of A3 batch\")"
   ]
  },
  {
   "cell_type": "code",
   "execution_count": null,
   "id": "35491406",
   "metadata": {},
   "outputs": [
    {
     "name": "stdout",
     "output_type": "stream",
     "text": [
      "Enter Price2000\n",
      "I will not buy\n"
     ]
    }
   ],
   "source": [
    "price = int(input(\"Enter Price\"))\n",
    "if price > 1000:\n",
    "    print(\"I will not buy\")\n",
    "else:\n",
    "    print(\"I will buy\")"
   ]
  },
  {
   "cell_type": "code",
   "execution_count": null,
   "id": "b042d010",
   "metadata": {},
   "outputs": [
    {
     "name": "stdout",
     "output_type": "stream",
     "text": [
      "Enter Price200\n"
     ]
    }
   ],
   "source": [
    "price = int(input(\"Enter Price\"))\n",
    "if price > 1000:\n",
    "    print(\"I will not buy\")"
   ]
  },
  {
   "cell_type": "code",
   "execution_count": null,
   "id": "1e18560d",
   "metadata": {},
   "outputs": [
    {
     "name": "stdout",
     "output_type": "stream",
     "text": [
      "Enter Price 100\n",
      "I will buy\n"
     ]
    }
   ],
   "source": [
    "price = int(input(\"Enter Price \"))\n",
    "if price > 1000:\n",
    "    print(\"I will not buy\")\n",
    "    if price > 5000:                                         # nested if else\n",
    "        print(\"Price is too much\")\n",
    "    elif price < 2000:                                         # nested if else\n",
    "        print(\"It's Okay\")\n",
    "elif price < 1000:\n",
    "    print(\"I will buy\")\n",
    "else:\n",
    "    print(\"Not interestes\")"
   ]
  },
  {
   "cell_type": "markdown",
   "id": "b29615fe",
   "metadata": {},
   "source": [
    "## LOOP"
   ]
  },
  {
   "cell_type": "code",
   "execution_count": null,
   "id": "d0879ac3",
   "metadata": {},
   "outputs": [],
   "source": [
    "l = [1,2,3,4,5,6,7,8]      # add =1 in each elements"
   ]
  },
  {
   "cell_type": "code",
   "execution_count": null,
   "id": "f60a9321",
   "metadata": {},
   "outputs": [
    {
     "name": "stdout",
     "output_type": "stream",
     "text": [
      "1\n",
      "2\n",
      "3\n",
      "4\n",
      "5\n",
      "6\n",
      "7\n",
      "8\n"
     ]
    }
   ],
   "source": [
    "for i in l:\n",
    "    print(i)"
   ]
  },
  {
   "cell_type": "code",
   "execution_count": null,
   "id": "b6f957a1",
   "metadata": {},
   "outputs": [
    {
     "name": "stdout",
     "output_type": "stream",
     "text": [
      "[1, 2, 3, 4, 5, 6, 7, 8]\n",
      "[1, 2, 3, 4, 5, 6, 7, 8]\n",
      "[1, 2, 3, 4, 5, 6, 7, 8]\n",
      "[1, 2, 3, 4, 5, 6, 7, 8]\n",
      "[1, 2, 3, 4, 5, 6, 7, 8]\n",
      "[1, 2, 3, 4, 5, 6, 7, 8]\n",
      "[1, 2, 3, 4, 5, 6, 7, 8]\n",
      "[1, 2, 3, 4, 5, 6, 7, 8]\n"
     ]
    }
   ],
   "source": [
    "for i in l:\n",
    "    print(l)"
   ]
  },
  {
   "cell_type": "code",
   "execution_count": null,
   "id": "4a28e05b",
   "metadata": {},
   "outputs": [
    {
     "name": "stdout",
     "output_type": "stream",
     "text": [
      "2\n",
      "3\n",
      "4\n",
      "5\n",
      "6\n",
      "7\n",
      "8\n",
      "9\n"
     ]
    }
   ],
   "source": [
    "for i in l:\n",
    "    print(i+1)"
   ]
  },
  {
   "cell_type": "code",
   "execution_count": null,
   "id": "f848ee38",
   "metadata": {},
   "outputs": [
    {
     "name": "stdout",
     "output_type": "stream",
     "text": [
      "2\n",
      "3\n",
      "4\n",
      "5\n",
      "6\n",
      "7\n",
      "8\n",
      "9\n"
     ]
    },
    {
     "data": {
      "text/plain": [
       "[2, 3, 4, 5, 6, 7, 8, 9]"
      ]
     },
     "execution_count": 13,
     "metadata": {},
     "output_type": "execute_result"
    }
   ],
   "source": [
    "l1 = []\n",
    "for i in l:\n",
    "    print(i+1)\n",
    "    l1.append(i+1)\n",
    "l1"
   ]
  },
  {
   "cell_type": "code",
   "execution_count": null,
   "id": "260fe86c",
   "metadata": {},
   "outputs": [
    {
     "data": {
      "text/plain": [
       "['sudh', 'kumar', 'Pwskills', 'courses']"
      ]
     },
     "execution_count": 21,
     "metadata": {},
     "output_type": "execute_result"
    }
   ],
   "source": [
    "l"
   ]
  },
  {
   "cell_type": "code",
   "execution_count": null,
   "id": "6e760ca4",
   "metadata": {},
   "outputs": [],
   "source": [
    "l = [\"sudh\", \"kumar\", \"Pwskills\", \"courses\"]"
   ]
  },
  {
   "cell_type": "code",
   "execution_count": null,
   "id": "cab3d7e5",
   "metadata": {},
   "outputs": [
    {
     "name": "stdout",
     "output_type": "stream",
     "text": [
      "sudh\n",
      "kumar\n",
      "Pwskills\n",
      "courses\n"
     ]
    }
   ],
   "source": [
    "l1 = []\n",
    "for i in l:\n",
    "    print(i)\n",
    "    l1.append(i.upper())"
   ]
  },
  {
   "cell_type": "code",
   "execution_count": null,
   "id": "9ab04ada",
   "metadata": {},
   "outputs": [
    {
     "data": {
      "text/plain": [
       "['SUDH', 'KUMAR', 'PWSKILLS', 'COURSES']"
      ]
     },
     "execution_count": 26,
     "metadata": {},
     "output_type": "execute_result"
    }
   ],
   "source": [
    "l1"
   ]
  },
  {
   "cell_type": "code",
   "execution_count": null,
   "id": "ba44f3e5",
   "metadata": {},
   "outputs": [],
   "source": [
    "l = [1,2,3,4,4,\"sudh\", \"kumar\", 324, 34.456,\"abc\"]"
   ]
  },
  {
   "cell_type": "code",
   "execution_count": null,
   "id": "13322af4",
   "metadata": {},
   "outputs": [],
   "source": [
    "l1_num = []\n",
    "l2_str = []\n",
    "for i in l:\n",
    "    if type(i) == int or type(i) == float :\n",
    "        l1_num.append(i)\n",
    "    else:\n",
    "        l2_str.append(i)"
   ]
  },
  {
   "cell_type": "code",
   "execution_count": null,
   "id": "e4fcc73d",
   "metadata": {},
   "outputs": [
    {
     "data": {
      "text/plain": [
       "[1, 2, 3, 4, 4, 324, 34.456]"
      ]
     },
     "execution_count": 33,
     "metadata": {},
     "output_type": "execute_result"
    }
   ],
   "source": [
    "l1_num"
   ]
  },
  {
   "cell_type": "code",
   "execution_count": null,
   "id": "4eb0b8b4",
   "metadata": {},
   "outputs": [
    {
     "data": {
      "text/plain": [
       "['sudh', 'kumar', 'abc']"
      ]
     },
     "execution_count": 34,
     "metadata": {},
     "output_type": "execute_result"
    }
   ],
   "source": [
    "l2_str"
   ]
  },
  {
   "cell_type": "code",
   "execution_count": null,
   "id": "1239385c",
   "metadata": {},
   "outputs": [],
   "source": [
    "l1_num = []  # Create an empty list to store numerical values\n",
    "l2_str = []  # Create an empty list to store non-numerical values\n",
    "\n",
    "for i in l:  # Iterate through each element 'i' in the list 'l'\n",
    "    if type(i) == int or type(i) == float:  # Check if the type of 'i' is int or float\n",
    "        l1_num.append(i)  # If 'i' is a number, add it to the numerical list 'l1_num'\n",
    "    else:\n",
    "        l2_str.append(i)  # If 'i' is not a number, add it to the non-numerical list 'l2_str'\n"
   ]
  },
  {
   "cell_type": "code",
   "execution_count": null,
   "id": "84013ae5",
   "metadata": {},
   "outputs": [],
   "source": []
  }
 ],
 "metadata": {
  "kernelspec": {
   "display_name": "Python 3",
   "language": "python",
   "name": "python3"
  },
  "language_info": {
   "codemirror_mode": {
    "name": "ipython",
    "version": 3
   },
   "file_extension": ".py",
   "mimetype": "text/x-python",
   "name": "python",
   "nbconvert_exporter": "python",
   "pygments_lexer": "ipython3",
   "version": "3.13.0"
  }
 },
 "nbformat": 4,
 "nbformat_minor": 5
}
