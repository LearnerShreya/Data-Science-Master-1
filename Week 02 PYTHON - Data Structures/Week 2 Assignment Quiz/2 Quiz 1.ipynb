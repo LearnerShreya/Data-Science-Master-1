{
 "cells": [
  {
   "cell_type": "markdown",
   "metadata": {},
   "source": [
    "# Quiz: PYTHON - Data Structures\n",
    "\n",
    "---\n",
    "\n",
    "### Question 1\n",
    "**Which operator is used for exponentiation in Python?**\n",
    "\n",
    "- `*`\n",
    "- `^`\n",
    "- `**`  ✔️\n",
    "- `//`\n",
    "\n",
    "**Explanation:** The `**` operator is used for exponentiation in Python. For example, `2 ** 3` will result in `8`, as it calculates 2 raised to the power of 3.\n",
    "\n",
    "---\n",
    "\n",
    "### Question 2\n",
    "**What is the result of the following expression in Python? `10 % 3`**\n",
    "\n",
    "- `0`\n",
    "- `1`  ✔️\n",
    "- `2`\n",
    "- `3`\n",
    "\n",
    "**Explanation:** The `%` operator is the modulus operator in Python, which returns the remainder when the left operand is divided by the right operand. In this case, `10` divided by `3` gives a quotient of `3` with a remainder of `1`.\n",
    "\n",
    "---\n",
    "\n",
    "### Question 3\n",
    "**Which comparison operator is used to check for inequality in Python?**\n",
    "\n",
    "- `!=`  ✔️\n",
    "- `==`\n",
    "- `<=`\n",
    "- `>=`\n",
    "\n",
    "**Explanation:** The `!=` operator is used to check for inequality in Python. It returns `True` if the two operands are not equal, and `False` if they are equal.\n",
    "\n",
    "---\n",
    "\n",
    "### Question 4\n",
    "**What is the output of the following code snippet?**\n",
    "```python\n",
    "x = 5\n",
    "y = 2\n",
    "\n",
    "if x > y:\n",
    "    print(\"x is greater than y\")\n",
    "elif x < y:\n",
    "    print(\"x is less than y\")\n",
    "else:\n",
    "    print(\"x is equal to y\")"
   ]
  },
  {
   "cell_type": "markdown",
   "metadata": {},
   "source": [
    "- x is greater than y ✔️\n",
    "- x is less than y\n",
    "- x is equal to y\n",
    "- The code will produce an error.\n",
    "\n",
    "**Explanation:** Since x is greater than y (5 > 2), the condition x > y is True, and the corresponding code block will be executed. Hence, the output will be \"x is greater than y.\"\n",
    "\n",
    "---\n"
   ]
  },
  {
   "cell_type": "markdown",
   "metadata": {},
   "source": [
    "### Question 5\n",
    "**Which loop is suitable when the number of iterations is unknown in advance?**\n",
    "\n",
    "- `while loop`  ✔️\n",
    "- `for loop`\n",
    "- `break statement`\n",
    "- `continue statement`\n",
    "\n",
    "**Explanation:** The `while` loop is suitable when the number of iterations is unknown in advance. It repeatedly executes a block of code as long as the specified condition is true. The loop continues until the condition becomes false.\n",
    "\n",
    "---\n",
    "\n",
    "### Question 6\n",
    "**What is the purpose of the break statement in Python?**\n",
    "\n",
    "- It terminates the execution of the current iteration and proceeds to the next iteration.\n",
    "- It terminates the entire loop and resumes the execution from the next statement after the loop.  ✔️\n",
    "- It skips the current iteration and proceeds to the next iteration.\n",
    "- It is used for comparing values and returning the Boolean result.\n",
    "\n",
    "**Explanation:** The `break` statement is used to prematurely terminate a loop. When encountered, it immediately exits the loop and resumes the execution from the next statement after the loop.\n",
    "\n",
    "---\n",
    "\n",
    "### Question 7\n",
    "**What is the output of the following code snippet?**\n",
    "```python\n",
    "for i in range(5):\n",
    "    if i == 2:\n",
    "        continue\n",
    "    print(i)\n"
   ]
  },
  {
   "cell_type": "markdown",
   "metadata": {},
   "source": [
    "- `0 1 3 4`  ✔️\n",
    "- `0 1 2 3 4`\n",
    "- `0 1 2`\n",
    "- `2 3 4`\n",
    "\n",
    "**Explanation:** The code uses a `for` loop to iterate over the values from `0` to `4`. When `i` is equal to `2`, the `continue` statement skips the rest of the loop iteration, so `2` is not printed.\n"
   ]
  },
  {
   "cell_type": "markdown",
   "metadata": {},
   "source": [
    "---"
   ]
  }
 ],
 "metadata": {
  "language_info": {
   "name": "python"
  }
 },
 "nbformat": 4,
 "nbformat_minor": 2
}
