{
 "cells": [
  {
   "cell_type": "markdown",
   "id": "49604cc5",
   "metadata": {},
   "source": [
    "# Soft Skills\n",
    "1. **Communication**\n",
    "2. **Confidence**\n",
    "3. **Networking**\n",
    "\n",
    "# Other\n",
    "1. **GitHub**\n",
    "2. **LinkedIn**\n",
    "3. **Projects**\n",
    "\n",
    "# Data Domains\n",
    "Data Science, Data Analytics, and Big Data are domains where we primarily work on model building, forecasting, detection, or recognition.\n",
    "\n",
    "## Data Science\n",
    "Key Skills:\n",
    "1. **Python**\n",
    "2. **Statistics**\n",
    "3. **Machine Learning**\n",
    "4. **Deep Learning**\n",
    "5. **Computer Vision**\n",
    "6. **Natural Language Processing (NLP)**\n",
    "7. **Projects**\n",
    "\n",
    "## Data Analytics\n",
    "Key Skills:\n",
    "1. **Python**\n",
    "2. **Statistics**\n",
    "3. **Dashboarding Tools** (Power BI, Tableau)\n",
    "4. **Advanced Excel**\n",
    "5. **SQL**\n",
    "6. **Projects**\n",
    "\n",
    "## Big Data\n",
    "Key Skills:\n",
    "1. **Hadoop**\n",
    "2. **Hive**\n",
    "3. **HBase**\n",
    "4. **Kafka**\n",
    "5. **Spark**\n",
    "6. **Oozie**\n",
    "\n",
    "## Data Pipeline\n",
    "**Big Data → Data Science → Data Analytics**\n",
    "\n",
    "## AI Relation\n",
    "**AI <=> Data Science**\n"
   ]
  }
 ],
 "metadata": {
  "kernelspec": {
   "display_name": "Python 3 (ipykernel)",
   "language": "python",
   "name": "python3"
  },
  "language_info": {
   "codemirror_mode": {
    "name": "ipython",
    "version": 3
   },
   "file_extension": ".py",
   "mimetype": "text/x-python",
   "name": "python",
   "nbconvert_exporter": "python",
   "pygments_lexer": "ipython3",
   "version": "3.11.4"
  }
 },
 "nbformat": 4,
 "nbformat_minor": 5
}
