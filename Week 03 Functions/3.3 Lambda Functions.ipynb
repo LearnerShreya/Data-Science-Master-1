{
 "cells": [
  {
   "cell_type": "markdown",
   "id": "d007434d",
   "metadata": {},
   "source": [
    "\n",
    "# 🔹 **Lambda Functions in Python**\n",
    "\n",
    "A **lambda function** is a **small, one-line anonymous function**.\n",
    "\n",
    "We use it when we need a **quick and simple function**, especially when defining a full function with `def` feels too much for a small task.\n",
    "\n",
    "### ✅ **Syntax**\n",
    "\n",
    "> **`lambda arguments: expression`**\n",
    "\n",
    "**Breakdown:**\n",
    "\n",
    "* `lambda` → keyword to create the function\n",
    "* `arguments` → like inputs/parameters\n",
    "* `expression` → the logic that returns a value (just one line)\n",
    "\n",
    "### 🔸 Basic Example – Add Two Numbers\n",
    "\n",
    "```python\n",
    "add = lambda x, y: x + y\n",
    "add(2, 3)  # Output: 5\n",
    "```\n",
    "\n",
    "Here:\n",
    "\n",
    "* `lambda x, y: x + y` → adds two numbers\n",
    "* We assign it to `add` and use it like a normal function.\n",
    "\n",
    "\n",
    "### 🔸 One More – Square a Number\n",
    "\n",
    "```python\n",
    "square = lambda x: x ** 2\n",
    "square(4)  # Output: 16\n",
    "```\n",
    "\n",
    "### ✅ **When Should We Use Lambda?**\n",
    "\n",
    "We use `lambda` functions when we want:\n",
    "\n",
    "* A **quick, throwaway function**\n",
    "* To pass logic into other functions like:\n",
    "\n",
    "  * `map()` – apply a function to all items\n",
    "  * `filter()` – select items based on condition\n",
    "  * `sorted()` – sort using custom logic\n",
    "  * `reduce()` – apply rolling computation (needs `functools`)\n",
    "\n",
    "### 🔸 Example with `sorted()`\n",
    "\n",
    "```python\n",
    "students = [(\"Shreya\", 92), (\"Aman\", 85), (\"Riya\", 95)]\n",
    "# Sort by marks (2nd item in each tuple)\n",
    "sorted_list = sorted(students, key=lambda x: x[1])\n",
    "print(sorted_list)\n",
    "```\n",
    "\n",
    "**Output:**\n",
    "\n",
    "```\n",
    "[('Aman', 85), ('Shreya', 92), ('Riya', 95)]\n",
    "```\n",
    "\n",
    "### 🔸 Bonus: Directly Calling a Lambda\n",
    "\n",
    "> **`print((lambda x, y: x + y)(2, 3))  # Output: 5`**\n",
    "\n",
    "Here, we’re defining and calling the lambda function **in one line** — useful for quick tasks!\n",
    "\n",
    "### 📝 Key Takeaways\n",
    "\n",
    "✅ Lambda functions are:\n",
    "\n",
    "* **Anonymous** (no name)\n",
    "* **One-liners** (only one expression allowed)\n",
    "* Great for **short, quick-use logic**\n",
    "* Not meant for complex multi-line operations\n",
    "\n",
    "---\n"
   ]
  },
  {
   "cell_type": "code",
   "execution_count": 53,
   "id": "0a5050b6",
   "metadata": {},
   "outputs": [
    {
     "name": "stdout",
     "output_type": "stream",
     "text": [
      "['kiwi', 'pear', 'apple', 'banana']\n"
     ]
    }
   ],
   "source": [
    "\n",
    "names = ['apple', 'banana', 'kiwi', 'pear']\n",
    "sorted_names = sorted(names, key=lambda x: len(x))\n",
    "print(sorted_names)  # Output: ['kiwi', 'pear', 'apple', 'banana']"
   ]
  },
  {
   "cell_type": "code",
   "execution_count": 54,
   "id": "2e2b30cb",
   "metadata": {},
   "outputs": [
    {
     "data": {
      "text/plain": [
       "12"
      ]
     },
     "execution_count": 54,
     "metadata": {},
     "output_type": "execute_result"
    }
   ],
   "source": [
    "add = lambda x, y: x + y\n",
    "add(6, 6)"
   ]
  },
  {
   "cell_type": "code",
   "execution_count": 55,
   "id": "02d60582",
   "metadata": {},
   "outputs": [
    {
     "name": "stdout",
     "output_type": "stream",
     "text": [
      "10\n",
      "12\n",
      "14\n"
     ]
    }
   ],
   "source": [
    "# Named function for adding two numbers\n",
    "def ad(x, y):\n",
    "    return x + y\n",
    "fun = ad(5, 5)\n",
    "print(fun)\n",
    "\n",
    "# Equivalent lambda function\n",
    "\n",
    "add = lambda x, y: x + y\n",
    "result = add(6, 6)\n",
    "print(result)  # Output: 8\n",
    "\n",
    "# Or\n",
    "\n",
    "print((lambda x, y : x+y) (7, 7))"
   ]
  },
  {
   "cell_type": "code",
   "execution_count": 56,
   "id": "aca21d6a",
   "metadata": {},
   "outputs": [],
   "source": [
    "n = 3\n",
    "p = 2"
   ]
  },
  {
   "cell_type": "code",
   "execution_count": 57,
   "id": "ef87e97d",
   "metadata": {},
   "outputs": [],
   "source": [
    "def test(n,p):\n",
    "    return n**p"
   ]
  },
  {
   "cell_type": "code",
   "execution_count": 58,
   "id": "6d28a072",
   "metadata": {},
   "outputs": [
    {
     "data": {
      "text/plain": [
       "9"
      ]
     },
     "execution_count": 58,
     "metadata": {},
     "output_type": "execute_result"
    }
   ],
   "source": [
    "test(3,2)"
   ]
  },
  {
   "cell_type": "code",
   "execution_count": 59,
   "id": "5910d78c",
   "metadata": {},
   "outputs": [
    {
     "data": {
      "text/plain": [
       "<function __main__.<lambda>(n, p)>"
      ]
     },
     "execution_count": 59,
     "metadata": {},
     "output_type": "execute_result"
    }
   ],
   "source": [
    "lambda n,p :n**p"
   ]
  },
  {
   "cell_type": "code",
   "execution_count": 60,
   "id": "f2348c01",
   "metadata": {},
   "outputs": [],
   "source": [
    "a = lambda n,p :n**p"
   ]
  },
  {
   "cell_type": "code",
   "execution_count": 61,
   "id": "0e426804",
   "metadata": {},
   "outputs": [
    {
     "data": {
      "text/plain": [
       "9"
      ]
     },
     "execution_count": 61,
     "metadata": {},
     "output_type": "execute_result"
    }
   ],
   "source": [
    "a(3,2)"
   ]
  },
  {
   "cell_type": "code",
   "execution_count": 62,
   "id": "632ed6fc",
   "metadata": {},
   "outputs": [],
   "source": [
    "add = lambda x,y : x+y"
   ]
  },
  {
   "cell_type": "code",
   "execution_count": 63,
   "id": "a728d877",
   "metadata": {},
   "outputs": [
    {
     "data": {
      "text/plain": [
       "9"
      ]
     },
     "execution_count": 63,
     "metadata": {},
     "output_type": "execute_result"
    }
   ],
   "source": [
    "add(4,5)"
   ]
  },
  {
   "cell_type": "code",
   "execution_count": 64,
   "id": "a164c5ea",
   "metadata": {},
   "outputs": [],
   "source": [
    "c_to_f = lambda c : (9/5)*c + 32"
   ]
  },
  {
   "cell_type": "code",
   "execution_count": 65,
   "id": "c6d926fc",
   "metadata": {},
   "outputs": [
    {
     "data": {
      "text/plain": [
       "113.0"
      ]
     },
     "execution_count": 65,
     "metadata": {},
     "output_type": "execute_result"
    }
   ],
   "source": [
    "c_to_f(45)"
   ]
  },
  {
   "cell_type": "code",
   "execution_count": 66,
   "id": "1191f328",
   "metadata": {},
   "outputs": [],
   "source": [
    "finding_max = lambda x,y : x if x>y else y"
   ]
  },
  {
   "cell_type": "code",
   "execution_count": 67,
   "id": "c8dc843e",
   "metadata": {},
   "outputs": [
    {
     "data": {
      "text/plain": [
       "34"
      ]
     },
     "execution_count": 67,
     "metadata": {},
     "output_type": "execute_result"
    }
   ],
   "source": [
    "finding_max(34,23)"
   ]
  },
  {
   "cell_type": "code",
   "execution_count": 68,
   "id": "e15306bb",
   "metadata": {},
   "outputs": [],
   "source": [
    "s = \"pwskills\""
   ]
  },
  {
   "cell_type": "code",
   "execution_count": 69,
   "id": "7ebc1123",
   "metadata": {},
   "outputs": [],
   "source": [
    "find_len = lambda s : len(s)"
   ]
  },
  {
   "cell_type": "code",
   "execution_count": 70,
   "id": "7323841f",
   "metadata": {},
   "outputs": [
    {
     "data": {
      "text/plain": [
       "8"
      ]
     },
     "execution_count": 70,
     "metadata": {},
     "output_type": "execute_result"
    }
   ],
   "source": [
    "find_len(s)"
   ]
  }
 ],
 "metadata": {
  "kernelspec": {
   "display_name": "Python 3",
   "language": "python",
   "name": "python3"
  },
  "language_info": {
   "codemirror_mode": {
    "name": "ipython",
    "version": 3
   },
   "file_extension": ".py",
   "mimetype": "text/x-python",
   "name": "python",
   "nbconvert_exporter": "python",
   "pygments_lexer": "ipython3",
   "version": "3.13.0"
  }
 },
 "nbformat": 4,
 "nbformat_minor": 5
}
