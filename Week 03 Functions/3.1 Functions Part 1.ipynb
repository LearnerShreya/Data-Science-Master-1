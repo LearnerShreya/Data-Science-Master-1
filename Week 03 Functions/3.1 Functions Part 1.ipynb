{
 "cells": [
  {
   "cell_type": "markdown",
   "id": "06614126",
   "metadata": {},
   "source": [
    "\n",
    "# ✅ Python Functions \n",
    "\n",
    "Functions help you **reuse code** and keep your programs **organized and clean**. Here's everything you need to know:\n",
    "\n",
    "---\n",
    "\n",
    "### 🔹 1. **Defining a Function**\n",
    "\n",
    "Use `def` followed by a function name and parameters in parentheses.\n",
    "\n",
    "```python\n",
    "def greet(name):\n",
    "    print(f\"Hello, {name}!\")\n",
    "```\n",
    "\n",
    "---\n",
    "\n",
    "### 🔹 2. **Calling a Function**\n",
    "\n",
    "Just write the function name followed by parentheses and pass required values.\n",
    "\n",
    "```python\n",
    "greet(\"Shreya\")  # Output: Hello, Shreya!\n",
    "```\n",
    "\n",
    "---\n",
    "\n",
    "### 🔹 3. **Return Statement**\n",
    "\n",
    "Use `return` to give back a result from the function.\n",
    "\n",
    "```python\n",
    "def add(a, b):\n",
    "    return a + b\n",
    "\n",
    "result = add(3, 4)  # result = 7\n",
    "```\n",
    "\n",
    "---\n",
    "\n",
    "### 🔹 4. **Default Parameters**\n",
    "\n",
    "Assign a default value to avoid errors when no argument is passed.\n",
    "\n",
    "```python\n",
    "def greet(name=\"Guest\"):\n",
    "    print(f\"Hello, {name}!\")\n",
    "\n",
    "greet()          # Hello, Guest!\n",
    "greet(\"Shreya\")  # Hello, Shreya!\n",
    "```\n",
    "\n",
    "---\n",
    "\n",
    "### 🔹 5. **Arbitrary Arguments**\n",
    "\n",
    "#### 👉 `*args` → multiple **positional** arguments (as tuple) (For Non-keyword Arguments)\n",
    "- Use `*args` when you want to pass multiple arguments into a function without specifying the number of arguments.\n",
    "- It collects extra arguments as a tuple.\n",
    "```python\n",
    "def total(*args):\n",
    "    return sum(args)\n",
    "\n",
    "print(total(2, 4, 6))  # Output: 12\n",
    "```\n",
    "\n",
    "#### 👉 `**kwargs` → multiple **keyword** arguments (as dictionary) (For Keyword Arguments)\n",
    "- Use `**kwargs` to pass multiple key-value pairs (like a dictionary) into a function.\n",
    "- It collects extra keyword arguments as a dictionary.\n",
    "```python\n",
    "def details(**kwargs):\n",
    "    for key, value in kwargs.items():\n",
    "        print(f\"{key}: {value}\")\n",
    "\n",
    "details(name=\"Shreya\", age=20)\n",
    "# Output:\n",
    "# name: Shreya\n",
    "# age: 20\n",
    "```\n",
    "\n",
    "#### ✅ Combine both:\n",
    "\n",
    "```python\n",
    "def show_all(*args, **kwargs):\n",
    "    print(\"Args:\", args)\n",
    "    print(\"Kwargs:\", kwargs)\n",
    "\n",
    "show_all(1, 2, 3, name=\"Shreya\", city=\"Banka\")\n",
    "# Output:\n",
    "# Args: (1, 2, 3)\n",
    "# Kwargs: {'name': 'Shreya', 'city': 'Banka'}\n",
    "```\n",
    "\n",
    "---\n",
    "\n",
    "### 🔹 6. **Lambda Functions**\n",
    "\n",
    "One-line anonymous functions – used for simple operations.\n",
    "\n",
    "```python\n",
    "add = lambda x, y: x + y\n",
    "print(add(2, 3))  # Output: 5\n",
    "```\n",
    "\n",
    "---\n",
    "\n",
    "### 🔹 7. **The `pass` Statement**\n",
    "\n",
    "Use it as a placeholder if you haven’t written the function logic yet.\n",
    "\n",
    "```python\n",
    "def feature_coming_soon():\n",
    "    pass  # Code will be added later\n",
    "```\n",
    "\n",
    "---\n",
    "\n",
    "### 🔹 8. **Variable Scope**\n",
    "\n",
    "Scope decides where variables can be accessed:\n",
    "\n",
    "* **Global Variable** → defined outside all functions\n",
    "* **Local Variable** → defined inside a function\n",
    "\n",
    "```python\n",
    "x = 10  # Global\n",
    "\n",
    "def func():\n",
    "    y = 5  # Local\n",
    "    print(x + y)\n",
    "\n",
    "func()  # Output: 15\n",
    "```\n",
    "\n",
    "---\n",
    "\n",
    "### 🔁 Quick Summary\n",
    "\n",
    "| Concept       | Use Case Example                      |\n",
    "| ------------- | ------------------------------------- |\n",
    "| `def`         | Define a function                     |\n",
    "| `return`      | Return a result from the function     |\n",
    "| Default Param | `def greet(name=\"Guest\")`             |\n",
    "| `*args`       | Handles multiple positional arguments |\n",
    "| `**kwargs`    | Handles multiple keyword arguments    |\n",
    "| `lambda`      | One-line anonymous function           |\n",
    "| `pass`        | Placeholder for future code           |\n",
    "| Scope         | Global vs Local variables             |\n",
    "\n",
    "---"
   ]
  },
  {
   "cell_type": "code",
   "execution_count": 2,
   "id": "618a1ae2",
   "metadata": {},
   "outputs": [
    {
     "name": "stdout",
     "output_type": "stream",
     "text": [
      "this is my print\n"
     ]
    }
   ],
   "source": [
    "print(\"this is my print\")"
   ]
  },
  {
   "cell_type": "code",
   "execution_count": 3,
   "id": "692d3008",
   "metadata": {},
   "outputs": [],
   "source": [
    "l = [324,45,45,45]"
   ]
  },
  {
   "cell_type": "code",
   "execution_count": 4,
   "id": "e40f4b40",
   "metadata": {},
   "outputs": [
    {
     "data": {
      "text/plain": [
       "4"
      ]
     },
     "execution_count": 4,
     "metadata": {},
     "output_type": "execute_result"
    }
   ],
   "source": [
    "len(l)"
   ]
  },
  {
   "cell_type": "code",
   "execution_count": 5,
   "id": "f5d57086",
   "metadata": {},
   "outputs": [
    {
     "data": {
      "text/plain": [
       "list"
      ]
     },
     "execution_count": 5,
     "metadata": {},
     "output_type": "execute_result"
    }
   ],
   "source": [
    "type(l)"
   ]
  },
  {
   "cell_type": "code",
   "execution_count": 6,
   "id": "c51e59fb",
   "metadata": {},
   "outputs": [],
   "source": [
    "def test():\n",
    "    pass"
   ]
  },
  {
   "cell_type": "code",
   "execution_count": 7,
   "id": "38a5f59d",
   "metadata": {},
   "outputs": [],
   "source": [
    "def test1():\n",
    "    print(\"this is my very very first function\")"
   ]
  },
  {
   "cell_type": "code",
   "execution_count": 8,
   "id": "975b87f5",
   "metadata": {},
   "outputs": [
    {
     "name": "stdout",
     "output_type": "stream",
     "text": [
      "this is my very very first function\n"
     ]
    }
   ],
   "source": [
    "test1()"
   ]
  },
  {
   "cell_type": "code",
   "execution_count": 9,
   "id": "f1313489",
   "metadata": {},
   "outputs": [
    {
     "name": "stdout",
     "output_type": "stream",
     "text": [
      "this is my very very first function\n"
     ]
    },
    {
     "ename": "TypeError",
     "evalue": "unsupported operand type(s) for +: 'NoneType' and 'str'",
     "output_type": "error",
     "traceback": [
      "\u001b[1;31m---------------------------------------------------------------------------\u001b[0m",
      "\u001b[1;31mTypeError\u001b[0m                                 Traceback (most recent call last)",
      "Cell \u001b[1;32mIn[9], line 1\u001b[0m\n\u001b[1;32m----> 1\u001b[0m \u001b[43mtest1\u001b[49m\u001b[43m(\u001b[49m\u001b[43m)\u001b[49m\u001b[43m \u001b[49m\u001b[38;5;241;43m+\u001b[39;49m\u001b[43m \u001b[49m\u001b[38;5;124;43m\"\u001b[39;49m\u001b[38;5;124;43msudh\u001b[39;49m\u001b[38;5;124;43m\"\u001b[39;49m               \u001b[38;5;66;03m# It seems like print is returning string type DataType but print return None type DataType \u001b[39;00m\n\u001b[0;32m      2\u001b[0m \u001b[38;5;66;03m# concetanation of None & String DataType is not possible\u001b[39;00m\n",
      "\u001b[1;31mTypeError\u001b[0m: unsupported operand type(s) for +: 'NoneType' and 'str'"
     ]
    }
   ],
   "source": [
    "test1() + \"sudh\"               # It seems like print is returning string type DataType but print return None type DataType \n",
    "# concetanation of None & String DataType is not possible"
   ]
  },
  {
   "cell_type": "code",
   "execution_count": null,
   "id": "9e9f7606",
   "metadata": {},
   "outputs": [],
   "source": [
    "def test2():\n",
    "    return \"this is my very first return \""
   ]
  },
  {
   "cell_type": "code",
   "execution_count": null,
   "id": "815fbc68",
   "metadata": {},
   "outputs": [],
   "source": [
    "test2()"
   ]
  },
  {
   "cell_type": "code",
   "execution_count": null,
   "id": "01f398a9",
   "metadata": {},
   "outputs": [],
   "source": [
    "test2() + \"sudh\""
   ]
  },
  {
   "cell_type": "code",
   "execution_count": null,
   "id": "20c9f4d8",
   "metadata": {},
   "outputs": [],
   "source": [
    "def test3() :\n",
    "\n",
    "        return \"sudh\" , 23, 345.56 , [1,2,3,3]"
   ]
  },
  {
   "cell_type": "code",
   "execution_count": null,
   "id": "1bc0acc3",
   "metadata": {},
   "outputs": [],
   "source": [
    "test3()"
   ]
  },
  {
   "cell_type": "code",
   "execution_count": null,
   "id": "8e21a439",
   "metadata": {},
   "outputs": [],
   "source": [
    "a,b,c,d = test3()"
   ]
  },
  {
   "cell_type": "code",
   "execution_count": null,
   "id": "889970f9",
   "metadata": {},
   "outputs": [],
   "source": [
    "a"
   ]
  },
  {
   "cell_type": "code",
   "execution_count": null,
   "id": "b373c9ad",
   "metadata": {},
   "outputs": [],
   "source": [
    "b"
   ]
  },
  {
   "cell_type": "code",
   "execution_count": null,
   "id": "a95ef6fa",
   "metadata": {},
   "outputs": [],
   "source": [
    "c"
   ]
  },
  {
   "cell_type": "code",
   "execution_count": null,
   "id": "d9c515d4",
   "metadata": {},
   "outputs": [],
   "source": [
    "d"
   ]
  },
  {
   "cell_type": "code",
   "execution_count": null,
   "id": "a9a10225",
   "metadata": {},
   "outputs": [],
   "source": [
    "a = 1\n",
    "b = 4"
   ]
  },
  {
   "cell_type": "code",
   "execution_count": null,
   "id": "055380a3",
   "metadata": {},
   "outputs": [],
   "source": [
    "a , b = 1,4"
   ]
  },
  {
   "cell_type": "code",
   "execution_count": null,
   "id": "002ad14c",
   "metadata": {},
   "outputs": [],
   "source": [
    "def test4():\n",
    "    a = 5+6/7\n",
    "    return a"
   ]
  },
  {
   "cell_type": "code",
   "execution_count": null,
   "id": "4c0349f1",
   "metadata": {},
   "outputs": [],
   "source": [
    "test4()"
   ]
  },
  {
   "cell_type": "code",
   "execution_count": null,
   "id": "891c0f06",
   "metadata": {},
   "outputs": [],
   "source": [
    "def test5(a, b ,c):\n",
    "    d = a+b/c\n",
    "    return d"
   ]
  },
  {
   "cell_type": "code",
   "execution_count": null,
   "id": "5804c858",
   "metadata": {
    "scrolled": true
   },
   "outputs": [],
   "source": [
    "test5()"
   ]
  },
  {
   "cell_type": "code",
   "execution_count": null,
   "id": "fda3bac1",
   "metadata": {},
   "outputs": [],
   "source": [
    "test5(2,5,8)"
   ]
  },
  {
   "cell_type": "code",
   "execution_count": null,
   "id": "64548a55",
   "metadata": {},
   "outputs": [],
   "source": [
    "def test6(a,b):\n",
    "    return a+b"
   ]
  },
  {
   "cell_type": "code",
   "execution_count": null,
   "id": "5f6e36ef",
   "metadata": {},
   "outputs": [],
   "source": [
    "test6(3,4)"
   ]
  },
  {
   "cell_type": "code",
   "execution_count": null,
   "id": "525c70d8",
   "metadata": {},
   "outputs": [],
   "source": [
    "test6(\"sudh\" , \" kumar\")"
   ]
  },
  {
   "cell_type": "code",
   "execution_count": null,
   "id": "ae597da6",
   "metadata": {},
   "outputs": [],
   "source": [
    "test6([1,2,3,4,5] , [4,5,6])"
   ]
  },
  {
   "cell_type": "code",
   "execution_count": null,
   "id": "a90e32e5",
   "metadata": {},
   "outputs": [],
   "source": [
    "l = [1,2,3,4,\"sudh\" , \"kumar\" ,[1,2,3,4,5,6]]"
   ]
  },
  {
   "cell_type": "code",
   "execution_count": null,
   "id": "96ff42b1",
   "metadata": {},
   "outputs": [],
   "source": [
    "l1 = []\n",
    "for i in l :\n",
    "    if type(i) == int or type(i) == float :\n",
    "        l1.append(i)"
   ]
  },
  {
   "cell_type": "code",
   "execution_count": null,
   "id": "103f0a8e",
   "metadata": {},
   "outputs": [],
   "source": [
    "l1"
   ]
  },
  {
   "cell_type": "code",
   "execution_count": null,
   "id": "2971d2df",
   "metadata": {},
   "outputs": [],
   "source": [
    "def test7(l):\n",
    "    l1 = []\n",
    "    for i in l :\n",
    "        if type(i) == int or type(i) == float :\n",
    "            l1.append(i)\n",
    "    return l1"
   ]
  },
  {
   "cell_type": "code",
   "execution_count": null,
   "id": "769e2d1c",
   "metadata": {},
   "outputs": [],
   "source": [
    "l1"
   ]
  },
  {
   "cell_type": "code",
   "execution_count": null,
   "id": "e30f3fc1",
   "metadata": {},
   "outputs": [],
   "source": [
    "test7(l)"
   ]
  },
  {
   "cell_type": "code",
   "execution_count": null,
   "id": "8847c9b5",
   "metadata": {},
   "outputs": [],
   "source": [
    "l"
   ]
  },
  {
   "cell_type": "code",
   "execution_count": null,
   "id": "8e040f43",
   "metadata": {},
   "outputs": [],
   "source": [
    "l = [1,2,3,4, 'sudh', 'kumar', [1,2,3,4,5,6]]"
   ]
  },
  {
   "cell_type": "code",
   "execution_count": null,
   "id": "33874da6",
   "metadata": {},
   "outputs": [],
   "source": [
    "l"
   ]
  },
  {
   "cell_type": "code",
   "execution_count": null,
   "id": "03c7b6dc",
   "metadata": {},
   "outputs": [],
   "source": [
    "def test8(a):\n",
    "    l= []\n",
    "    for i in a :\n",
    "        if type(i) == list:\n",
    "            for j in i :\n",
    "                l.append(j)\n",
    "        else :\n",
    "            if type(i) == int or type(i) == float:\n",
    "                l.append(i)\n",
    "    return l"
   ]
  },
  {
   "cell_type": "code",
   "execution_count": null,
   "id": "b870b71e",
   "metadata": {},
   "outputs": [],
   "source": [
    "test8(l)"
   ]
  },
  {
   "cell_type": "code",
   "execution_count": null,
   "id": "04a7c396",
   "metadata": {},
   "outputs": [],
   "source": [
    "l"
   ]
  },
  {
   "cell_type": "code",
   "execution_count": null,
   "id": "2491b7fd",
   "metadata": {},
   "outputs": [],
   "source": [
    "test8()"
   ]
  },
  {
   "cell_type": "code",
   "execution_count": null,
   "id": "955d87f7",
   "metadata": {},
   "outputs": [],
   "source": [
    "def test9(a) :  \n",
    "    \"\"\"this is my function to extract num data from list\"\"\"\n",
    "\n",
    "    l= []\n",
    "    for i in a :\n",
    "        if type(i) == list:\n",
    "            for j in i :\n",
    "                l.append(j)\n",
    "        else :\n",
    "            if type(i) == int or type(i) == float :\n",
    "                l.append(i)\n",
    "    return l\n"
   ]
  },
  {
   "cell_type": "code",
   "execution_count": null,
   "id": "0a187324",
   "metadata": {},
   "outputs": [],
   "source": [
    "test9()"
   ]
  },
  {
   "cell_type": "code",
   "execution_count": null,
   "id": "baf46dd3",
   "metadata": {},
   "outputs": [],
   "source": [
    "def test10(a,b):\n",
    "    return a+b"
   ]
  },
  {
   "cell_type": "code",
   "execution_count": null,
   "id": "9fffced9",
   "metadata": {},
   "outputs": [],
   "source": [
    "def test11(*args):\n",
    "    return args"
   ]
  },
  {
   "cell_type": "code",
   "execution_count": null,
   "id": "5de94e14",
   "metadata": {},
   "outputs": [],
   "source": [
    "test11()"
   ]
  },
  {
   "cell_type": "code",
   "execution_count": null,
   "id": "0e9c9684",
   "metadata": {},
   "outputs": [],
   "source": [
    "type(test11())"
   ]
  },
  {
   "cell_type": "code",
   "execution_count": null,
   "id": "2e572484",
   "metadata": {},
   "outputs": [],
   "source": [
    "test11(1,2,3)"
   ]
  },
  {
   "cell_type": "code",
   "execution_count": null,
   "id": "007858f6",
   "metadata": {},
   "outputs": [],
   "source": [
    "test11(1,2,3,\"sudh\" , \"kumar\" , [1,2,3,4,4])"
   ]
  },
  {
   "cell_type": "code",
   "execution_count": null,
   "id": "6e7dd287",
   "metadata": {},
   "outputs": [],
   "source": [
    "def test12(*sudh):         # * allow to pass multiple input\n",
    "    return sudh"
   ]
  },
  {
   "cell_type": "code",
   "execution_count": null,
   "id": "d415e435",
   "metadata": {},
   "outputs": [],
   "source": [
    "test12(1,2,34,4)"
   ]
  },
  {
   "cell_type": "code",
   "execution_count": null,
   "id": "150c2073",
   "metadata": {},
   "outputs": [],
   "source": [
    "def test13(*args , a) :\n",
    "    return args , a"
   ]
  },
  {
   "cell_type": "code",
   "execution_count": null,
   "id": "8f44e850",
   "metadata": {},
   "outputs": [],
   "source": [
    "test13(1,2,3,4)"
   ]
  },
  {
   "cell_type": "code",
   "execution_count": null,
   "id": "f461162a",
   "metadata": {},
   "outputs": [],
   "source": [
    "test13(1,2,3,4 , a = 23)"
   ]
  },
  {
   "cell_type": "code",
   "execution_count": null,
   "id": "32e9d899",
   "metadata": {},
   "outputs": [],
   "source": [
    "def test14(c,d,a = 23 , b = 1 ):\n",
    "    return a,b,c,d"
   ]
  },
  {
   "cell_type": "code",
   "execution_count": null,
   "id": "6bd3ee10",
   "metadata": {},
   "outputs": [],
   "source": [
    "test14()"
   ]
  },
  {
   "cell_type": "code",
   "execution_count": null,
   "id": "158e9a52",
   "metadata": {},
   "outputs": [],
   "source": [
    "test14(3,4)"
   ]
  },
  {
   "cell_type": "code",
   "execution_count": null,
   "id": "4fc99ee3",
   "metadata": {},
   "outputs": [],
   "source": [
    "test14(2,5 , a = 2342)"
   ]
  },
  {
   "cell_type": "code",
   "execution_count": null,
   "id": "cd09258a",
   "metadata": {},
   "outputs": [],
   "source": [
    "def test15(**kwargs):\n",
    "    return kwargs"
   ]
  },
  {
   "cell_type": "code",
   "execution_count": null,
   "id": "b8fb92ea",
   "metadata": {},
   "outputs": [
    {
     "data": {
      "text/plain": [
       "{}"
      ]
     },
     "execution_count": 124,
     "metadata": {},
     "output_type": "execute_result"
    }
   ],
   "source": [
    "test15()"
   ]
  },
  {
   "cell_type": "code",
   "execution_count": null,
   "id": "718cdf2d",
   "metadata": {},
   "outputs": [
    {
     "data": {
      "text/plain": [
       "dict"
      ]
     },
     "execution_count": 125,
     "metadata": {},
     "output_type": "execute_result"
    }
   ],
   "source": [
    "type(test15())"
   ]
  },
  {
   "cell_type": "code",
   "execution_count": null,
   "id": "91a87dbf",
   "metadata": {},
   "outputs": [
    {
     "data": {
      "text/plain": [
       "{'a': [1, 2, 3, 4], 'b': 'sudh', 'c': 23.45}"
      ]
     },
     "execution_count": 126,
     "metadata": {},
     "output_type": "execute_result"
    }
   ],
   "source": [
    "test15(a = [1,2,3,4] , b = \"sudh\" , c = 23.45 )"
   ]
  },
  {
   "cell_type": "markdown",
   "id": "9972ff6d",
   "metadata": {},
   "source": [
    "\n",
    "\n",
    "# ✅ Difference Between **Parameter** and **Argument** in Python\n",
    "\n",
    "Understanding the difference between **parameters** and **arguments** is essential when working with functions in Python.\n",
    "\n",
    "---\n",
    "\n",
    "### 🔹 What is a **Parameter**?\n",
    "\n",
    "* A **parameter** is a **placeholder variable** listed in the **function definition**.\n",
    "* It defines what type of data a function **expects to receive**.\n",
    "* Parameters are used **only when defining** a function.\n",
    "\n",
    "🧠 Think of it as: “What does the function need to do its job?”\n",
    "\n",
    "```python\n",
    "def add_numbers(x, y):  # x and y are parameters\n",
    "    return x + y\n",
    "```\n",
    "\n",
    "In the above example, `x` and `y` are parameters — they don’t hold any values yet.\n",
    "\n",
    "---\n",
    "\n",
    "### 🔹 What is an **Argument**?\n",
    "\n",
    "* An **argument** is the **actual value** passed to a function when it's **called**.\n",
    "* Arguments replace parameters during the function's execution.\n",
    "* You provide arguments in the function **call**.\n",
    "\n",
    "🧠 Think of it as: “What value am I giving to the function?”\n",
    "\n",
    "```python\n",
    "result = add_numbers(3, 5)  # 3 and 5 are arguments\n",
    "```\n",
    "\n",
    "Here, `3` and `5` are the arguments being passed into the function `add_numbers`.\n",
    "\n",
    "---\n",
    "\n",
    "### 🔄 Summary of the Difference\n",
    "\n",
    "| 🔸 Feature           | 🔹 Parameter                               | 🔹 Argument                                |\n",
    "| -------------------- | ------------------------------------------ | ------------------------------------------ |\n",
    "| **Definition**       | Variable used in a function **definition** | Actual value passed in a **function call** |\n",
    "| **Purpose**          | Acts as a placeholder for input values     | Provides real data for the function        |\n",
    "| **Where it Appears** | Inside function header (`def func(x, y)`)  | Inside function call (`func(1, 2)`)        |\n",
    "| **Type**             | Formal (declared)                          | Actual (supplied)                          |\n",
    "\n",
    "---\n",
    "\n",
    "### ✅ Complete Example\n",
    "\n",
    "```python\n",
    "def add(x, y):  # x and y → parameters\n",
    "    \"\"\"Returns the sum of two numbers.\"\"\"\n",
    "    return x + y\n",
    "\n",
    "result = add(1, 2)  # 1 and 2 → arguments\n",
    "print(result)       # Output: 3\n",
    "```\n",
    "\n",
    "---\n",
    "\n",
    "### 📝 Key Takeaways\n",
    "\n",
    "* **Parameters** define what inputs a function **can** take.\n",
    "* **Arguments** are the **actual inputs** you give during a function call.\n",
    "* You can think of parameters as **\"questions\"** and arguments as the **\"answers.\"**\n",
    "* Although people often use the terms interchangeably, they have **technical differences** worth knowing — especially in interviews or coding interviews.\n",
    "\n",
    "---\n"
   ]
  },
  {
   "cell_type": "markdown",
   "id": "7ca97193",
   "metadata": {},
   "source": [
    "\n",
    "---\n",
    "\n",
    "## 🔹 Difference Between `char` and `string`\n",
    "\n",
    "In programming, both `char` and `string` are used to work with characters, but they serve **different purposes**:\n",
    "\n",
    "### ✅ **`char`**\n",
    "\n",
    "* A **primitive data type**.\n",
    "* Stores **a single character**.\n",
    "* Written inside **single quotes** (`' '`).\n",
    "* Takes **less memory** (typically 1 or 2 bytes).\n",
    "\n",
    "✅ **Examples:**\n",
    "\n",
    "```python\n",
    "char1 = 'a'\n",
    "char2 = 'Z'\n",
    "char3 = '9'\n",
    "```\n",
    "\n",
    "---\n",
    "\n",
    "### ✅ **`string`**\n",
    "\n",
    "* A **reference (non-primitive) data type**.\n",
    "* Stores a **sequence of characters**.\n",
    "* Written inside **double quotes** (`\" \"`).\n",
    "* Internally, it’s like an array/list of characters.\n",
    "\n",
    "✅ **Examples:**\n",
    "\n",
    "```python\n",
    "string1 = \"a\"\n",
    "string2 = \"Hello\"\n",
    "string3 = \"Python 3.11\"\n",
    "```\n",
    "\n",
    "---\n",
    "\n",
    "## 📊 Comparison Table\n",
    "\n",
    "| Feature              | `char`                | `string`                       |\n",
    "| -------------------- | --------------------- | ------------------------------ |\n",
    "| **Type**             | Primitive             | Reference                      |\n",
    "| **Stores**           | Single character      | Sequence of characters         |\n",
    "| **Quotes**           | Single quotes (`'a'`) | Double quotes (`\"a\"`, `\"abc\"`) |\n",
    "| **Memory usage**     | Less (1–2 bytes)      | More (depends on length)       |\n",
    "| **Mutable (Python)** | Immutable             | Immutable                      |\n",
    "\n",
    "---\n",
    "\n",
    "## 🧪 Code Example in Python\n",
    "\n",
    "```python\n",
    "# Character (technically still a string of length 1 in Python)\n",
    "char_variable = 'a'      # single character\n",
    "\n",
    "# String\n",
    "string_variable = \"Hello, world!\"  # sequence of characters\n",
    "\n",
    "print(\"Char:\", char_variable)\n",
    "print(\"String:\", string_variable)\n",
    "```\n",
    "\n",
    "**Output:**\n",
    "\n",
    "```\n",
    "Char: a\n",
    "String: Hello, world!\n",
    "```\n",
    "\n",
    "> 💡 **Note:** In Python, there is no distinct `char` type like in C/C++/Java. A character like `'a'` is actually a string of length 1.\n",
    "\n",
    "---\n",
    "\n",
    "## 🎯 When to Use What?\n",
    "\n",
    "| Use Case                             | Use `char`     | Use `string`           |\n",
    "| ------------------------------------ | -------------- | ---------------------- |\n",
    "| Single letters or punctuation        | ✅ Yes          | Can also be used       |\n",
    "| Full words, sentences, or paragraphs | ❌ Not suitable | ✅ Ideal                |\n",
    "| Storing names, addresses, URLs, etc. | ❌ Not suitable | ✅ Ideal                |\n",
    "| Comparing one letter (e.g., `'y'`)   | ✅ Yes          | ✅ if treated carefully |\n",
    "\n",
    "---\n",
    "\n",
    "## 📝 Summary\n",
    "\n",
    "* Use `char` when you're dealing with **just one character**.\n",
    "* Use `string` when you're working with **multiple characters or full text**.\n",
    "* In Python, all characters are technically strings of length 1.\n",
    "\n",
    "---"
   ]
  }
 ],
 "metadata": {
  "kernelspec": {
   "display_name": "Python 3",
   "language": "python",
   "name": "python3"
  },
  "language_info": {
   "codemirror_mode": {
    "name": "ipython",
    "version": 3
   },
   "file_extension": ".py",
   "mimetype": "text/x-python",
   "name": "python",
   "nbconvert_exporter": "python",
   "pygments_lexer": "ipython3",
   "version": "3.13.0"
  }
 },
 "nbformat": 4,
 "nbformat_minor": 5
}
