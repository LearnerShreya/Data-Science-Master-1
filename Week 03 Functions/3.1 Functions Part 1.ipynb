{
 "cells": [
  {
   "cell_type": "markdown",
   "id": "06614126",
   "metadata": {},
   "source": [
    "\n",
    "# ✅ Python Functions \n",
    "\n",
    "A **function** is a **block of reusable code** that performs a specific task.\n",
    "It allows us to **organize**, **reuse**, and **simplify** our programs.\n",
    "\n",
    "---\n",
    "\n",
    "### 🔹 **Function Definition Syntax**\n",
    "\n",
    "```python\n",
    "def function_name(parameters):\n",
    "    # code block\n",
    "    return result  # (optional)\n",
    "```\n",
    "\n",
    "---\n",
    "\n",
    "### 🔹 **Parts of a Function**\n",
    "\n",
    "| Part                | Description                                           |\n",
    "| ------------------- | ----------------------------------------------------- |\n",
    "| `def`               | Keyword used to define a function                     |\n",
    "| `function_name`     | The name we give to our function                      |\n",
    "| `parameters`        | Inputs the function can take (optional)               |\n",
    "| `:`                 | Marks the beginning of the function body              |\n",
    "| Code Block          | The actual task the function performs (indented code) |\n",
    "| `return` (optional) | Sends back a result to where the function was called  |\n",
    "\n",
    "\n",
    "---\n",
    "\n",
    "### 🔹 1. **Defining a Function**\n",
    "\n",
    "Use `def` followed by a function name and parameters in parentheses.\n",
    "\n",
    "```python\n",
    "def greet(name):\n",
    "    print(f\"Hello, {name}!\")\n",
    "```\n",
    "\n",
    "---\n",
    "\n",
    "### 🔹 2. **Calling a Function**\n",
    "\n",
    "Just write the function name followed by parentheses and pass required values.\n",
    "\n",
    "```python\n",
    "greet(\"Shreya\")  # Output: Hello, Shreya!\n",
    "```\n",
    "\n",
    "---\n",
    "\n",
    "### 🔹 3. **Return Statement**\n",
    "\n",
    "Use `return` to give back a result from the function.\n",
    "\n",
    "```python\n",
    "def add(a, b):\n",
    "    return a + b\n",
    "\n",
    "result = add(3, 4)  # result = 7\n",
    "```\n",
    "\n",
    "---\n",
    "\n",
    "### 🔹 4. **Default Parameters**\n",
    "\n",
    "Assign a default value to avoid errors when no argument is passed.\n",
    "\n",
    "```python\n",
    "def greet(name=\"Guest\"):\n",
    "    print(f\"Hello, {name}!\")\n",
    "\n",
    "greet()          # Hello, Guest!\n",
    "greet(\"Shreya\")  # Hello, Shreya!\n",
    "```\n",
    "\n",
    "---\n",
    "\n",
    "### 🔹 5. **Arbitrary Arguments**\n",
    "\n",
    "When defining functions, sometimes we may not know how many arguments we'll need to pass.  \n",
    "In such cases, Python provides two special symbols:\n",
    "\n",
    "\n",
    "### 👉 `*args` → Multiple **Positional** Arguments (Non-keyword)\n",
    "\n",
    "* We use `*args` when we want to pass an **unknown number of positional arguments** to a function.\n",
    "* Python collects them into a **tuple**.\n",
    "\n",
    "```python\n",
    "def total(*args):\n",
    "    return sum(args)\n",
    "\n",
    "total(2, 4, 6)  # Output: 12\n",
    "```\n",
    "\n",
    "Here, `2`, `4`, and `6` are passed as positional arguments, and `args` receives them as a tuple: `(2, 4, 6)`.\n",
    "\n",
    "\n",
    "### 👉 `**kwargs` → Multiple **Keyword** Arguments\n",
    "\n",
    "* We use `**kwargs` when we want to pass an **unknown number of keyword arguments** (i.e., name=value pairs).\n",
    "* Python collects them into a **dictionary**.\n",
    "\n",
    "```python\n",
    "def details(**kwargs):\n",
    "    for key, value in kwargs.items():\n",
    "        print(f\"{key}: {value}\")\n",
    "\n",
    "details(name=\"Shreya\", age=20)\n",
    "```\n",
    "\n",
    "**Output:**\n",
    "\n",
    "```\n",
    "name: Shreya  \n",
    "age: 20\n",
    "```\n",
    "\n",
    "Here, `kwargs` becomes `{'name': 'Shreya', 'age': 20}`.\n",
    "\n",
    "\n",
    "### ✅ Using Both `*args` and `**kwargs` Together\n",
    "\n",
    "We can also use both in the same function to accept **any number of positional and keyword arguments**.\n",
    "\n",
    "```python\n",
    "def show_all(*args, **kwargs):\n",
    "    print(\"Args:\", args)\n",
    "    print(\"Kwargs:\", kwargs)\n",
    "\n",
    "show_all(1, 2, 3, name=\"Shreya\", city=\"Banka\")\n",
    "```\n",
    "\n",
    "**Output:**\n",
    "\n",
    "```\n",
    "Args: (1, 2, 3)  \n",
    "Kwargs: {'name': 'Shreya', 'city': 'Banka'}\n",
    "```\n",
    "\n",
    "📝 Key Takeaway:\n",
    "\n",
    "| Symbol     | Accepts                                | Collected As |\n",
    "| ---------- | -------------------------------------- | ------------ |\n",
    "| `*args`    | Any number of **positional** arguments | Tuple        |\n",
    "| `**kwargs` | Any number of **keyword** arguments    | Dictionary   |\n",
    "\n",
    "This flexibility allows us to write **dynamic and versatile functions**!\n",
    "\n",
    "\n",
    "---\n",
    "\n",
    "### 🔹 6. **Lambda Functions in Python**\n",
    "\n",
    "A **lambda function** is a **small, one-line anonymous function**.\n",
    "\n",
    "We use it when we need a **quick and simple function**, especially when defining a full function with `def` feels too much for a small task.\n",
    "\n",
    "### ✅ **Syntax**\n",
    "\n",
    "```python\n",
    "lambda arguments: expression\n",
    "```\n",
    "\n",
    "**Breakdown:**\n",
    "\n",
    "* `lambda` → keyword to create the function\n",
    "* `arguments` → like inputs/parameters\n",
    "* `expression` → the logic that returns a value (just one line)\n",
    "\n",
    "### 🔸 Basic Example – Add Two Numbers\n",
    "\n",
    "```python\n",
    "add = lambda x, y: x + y\n",
    "add(2, 3)  # Output: 5\n",
    "```\n",
    "\n",
    "Here:\n",
    "\n",
    "* `lambda x, y: x + y` → adds two numbers\n",
    "* We assign it to `add` and use it like a normal function.\n",
    "\n",
    "\n",
    "### 🔸 One More – Square a Number\n",
    "\n",
    "```python\n",
    "square = lambda x: x ** 2\n",
    "square(4)  # Output: 16\n",
    "```\n",
    "\n",
    "### ✅ **When Should We Use Lambda?**\n",
    "\n",
    "We use `lambda` functions when we want:\n",
    "\n",
    "* A **quick, throwaway function**\n",
    "* To pass logic into other functions like:\n",
    "\n",
    "  * `map()` – apply a function to all items\n",
    "  * `filter()` – select items based on condition\n",
    "  * `sorted()` – sort using custom logic\n",
    "  * `reduce()` – apply rolling computation (needs `functools`)\n",
    "\n",
    "### 🔸 Example with `sorted()`\n",
    "\n",
    "```python\n",
    "students = [(\"Shreya\", 92), (\"Aman\", 85), (\"Riya\", 95)]\n",
    "# Sort by marks (2nd item in each tuple)\n",
    "sorted_list = sorted(students, key=lambda x: x[1])\n",
    "print(sorted_list)\n",
    "```\n",
    "\n",
    "**Output:**\n",
    "\n",
    "```\n",
    "[('Aman', 85), ('Shreya', 92), ('Riya', 95)]\n",
    "```\n",
    "\n",
    "### 🔸 Bonus: Directly Calling a Lambda\n",
    "\n",
    "```python\n",
    "print((lambda x, y: x + y)(2, 3))  # Output: 5\n",
    "```\n",
    "\n",
    "Here, we’re defining and calling the lambda function **in one line** — useful for quick tasks!\n",
    "\n",
    "### 📝 Key Takeaways\n",
    "\n",
    "✅ Lambda functions are:\n",
    "\n",
    "* **Anonymous** (no name)\n",
    "* **One-liners** (only one expression allowed)\n",
    "* Great for **short, quick-use logic**\n",
    "* Not meant for complex multi-line operations\n",
    "\n",
    "---\n",
    "\n",
    "### 🔹 7. **The `pass` Statement**\n",
    "\n",
    "Use it as a placeholder if you haven’t written the function logic yet.\n",
    "\n",
    "```python\n",
    "def feature_coming_soon():\n",
    "    pass  # Code will be added later\n",
    "```\n",
    "\n",
    "---\n",
    "\n",
    "### 🔹 8. **Variable Scope**\n",
    "\n",
    "Scope decides where variables can be accessed:\n",
    "\n",
    "* **Global Variable** → defined outside all functions\n",
    "* **Local Variable** → defined inside a function\n",
    "\n",
    "```python\n",
    "x = 10  # Global\n",
    "\n",
    "def func():\n",
    "    y = 5  # Local\n",
    "    print(x + y)\n",
    "\n",
    "func()  # Output: 15\n",
    "```\n",
    "\n",
    "---\n",
    "\n",
    "### 🔁 Quick Summary\n",
    "\n",
    "| Concept       | Use Case Example                      |\n",
    "| ------------- | ------------------------------------- |\n",
    "| `def`         | Define a function                     |\n",
    "| `return`      | Return a result from the function     |\n",
    "| Default Param | `def greet(name=\"Guest\")`             |\n",
    "| `*args`       | Handles multiple positional arguments |\n",
    "| `**kwargs`    | Handles multiple keyword arguments    |\n",
    "| `lambda`      | One-line anonymous function           |\n",
    "| `pass`        | Placeholder for future code           |\n",
    "| Scope         | Global vs Local variables             |\n",
    "\n",
    "---"
   ]
  },
  {
   "cell_type": "code",
   "execution_count": 319,
   "id": "b28b2a98",
   "metadata": {},
   "outputs": [
    {
     "data": {
      "text/plain": [
       "7"
      ]
     },
     "execution_count": 319,
     "metadata": {},
     "output_type": "execute_result"
    }
   ],
   "source": [
    "def add(a, b):\n",
    "    return a + b\n",
    "\n",
    "add(3, 4)  # result = 7\n",
    "# result = add(3, 4)  # result = 7\n",
    "# result"
   ]
  },
  {
   "cell_type": "code",
   "execution_count": 320,
   "id": "fe4edc38",
   "metadata": {},
   "outputs": [
    {
     "name": "stdout",
     "output_type": "stream",
     "text": [
      "12\n"
     ]
    }
   ],
   "source": [
    "def total(*args):\n",
    "    return sum(args)\n",
    "\n",
    "total(2, 4, 6)  # Output: 12\n",
    "print(total(2, 4, 6))  # Output: 12"
   ]
  },
  {
   "cell_type": "code",
   "execution_count": 321,
   "id": "4a094d40",
   "metadata": {},
   "outputs": [
    {
     "name": "stdout",
     "output_type": "stream",
     "text": [
      "2 3\n"
     ]
    }
   ],
   "source": [
    "lambda x, y: x + y\n",
    "print(2, 3)  # Output: 5 ❌"
   ]
  },
  {
   "cell_type": "code",
   "execution_count": 322,
   "id": "654e07b7",
   "metadata": {},
   "outputs": [
    {
     "name": "stdout",
     "output_type": "stream",
     "text": [
      "<function <lambda> at 0x0000019C372C5760>\n"
     ]
    }
   ],
   "source": [
    "print(lambda x, y : x+y (2,3))"
   ]
  },
  {
   "cell_type": "code",
   "execution_count": 323,
   "id": "5d7e95d4",
   "metadata": {},
   "outputs": [
    {
     "name": "stdout",
     "output_type": "stream",
     "text": [
      "5\n"
     ]
    }
   ],
   "source": [
    "print((lambda x, y : x+y) (2,3))      # Output: 5"
   ]
  },
  {
   "cell_type": "code",
   "execution_count": 324,
   "id": "687c11ab",
   "metadata": {},
   "outputs": [
    {
     "name": "stdout",
     "output_type": "stream",
     "text": [
      "5\n"
     ]
    }
   ],
   "source": [
    "add = lambda x, y: x + y\n",
    "print(add(2, 3))  # Output: 5"
   ]
  },
  {
   "cell_type": "markdown",
   "id": "7ba20fe6",
   "metadata": {},
   "source": [
    "\n",
    "---\n",
    "\n",
    "## 🔹 Difference Between `char` and `string`\n",
    "\n",
    "In programming, both `char` and `string` are used to work with characters, but they serve **different purposes**:\n",
    "\n",
    "### ✅ **`char`**\n",
    "\n",
    "* A **primitive data type**.\n",
    "* Stores **a single character**.\n",
    "* Written inside **single quotes** (`' '`).\n",
    "* Takes **less memory** (typically 1 or 2 bytes).\n",
    "\n",
    "✅ **Examples:**\n",
    "\n",
    "```python\n",
    "char1 = 'a'\n",
    "char2 = 'Z'\n",
    "char3 = '9'\n",
    "```\n",
    "\n",
    "---\n",
    "\n",
    "### ✅ **`string`**\n",
    "\n",
    "* A **reference (non-primitive) data type**.\n",
    "* Stores a **sequence of characters**.\n",
    "* Written inside **double quotes** (`\" \"`).\n",
    "* Internally, it’s like an array/list of characters.\n",
    "\n",
    "✅ **Examples:**\n",
    "\n",
    "```python\n",
    "string1 = \"a\"\n",
    "string2 = \"Hello\"\n",
    "string3 = \"Python 3.11\"\n",
    "```\n",
    "\n",
    "---\n",
    "\n",
    "## 📊 Comparison Table\n",
    "\n",
    "| Feature              | `char`                | `string`                       |\n",
    "| -------------------- | --------------------- | ------------------------------ |\n",
    "| **Type**             | Primitive             | Reference                      |\n",
    "| **Stores**           | Single character      | Sequence of characters         |\n",
    "| **Quotes**           | Single quotes (`'a'`) | Double quotes (`\"a\"`, `\"abc\"`) |\n",
    "| **Memory usage**     | Less (1–2 bytes)      | More (depends on length)       |\n",
    "| **Mutable (Python)** | Immutable             | Immutable                      |\n",
    "\n",
    "---\n",
    "\n",
    "## 🧪 Code Example in Python\n",
    "\n",
    "```python\n",
    "# Character (technically still a string of length 1 in Python)\n",
    "char_variable = 'a'      # single character\n",
    "\n",
    "# String\n",
    "string_variable = \"Hello, world!\"  # sequence of characters\n",
    "\n",
    "print(\"Char:\", char_variable)\n",
    "print(\"String:\", string_variable)\n",
    "```\n",
    "\n",
    "**Output:**\n",
    "\n",
    "```\n",
    "Char: a\n",
    "String: Hello, world!\n",
    "```\n",
    "\n",
    "> 💡 **Note:** In Python, there is no distinct `char` type like in C/C++/Java. A character like `'a'` is actually a string of length 1.\n",
    "\n",
    "---\n",
    "\n",
    "## 🎯 When to Use What?\n",
    "\n",
    "| Use Case                             | Use `char`     | Use `string`           |\n",
    "| ------------------------------------ | -------------- | ---------------------- |\n",
    "| Single letters or punctuation        | ✅ Yes          | Can also be used       |\n",
    "| Full words, sentences, or paragraphs | ❌ Not suitable | ✅ Ideal                |\n",
    "| Storing names, addresses, URLs, etc. | ❌ Not suitable | ✅ Ideal                |\n",
    "| Comparing one letter (e.g., `'y'`)   | ✅ Yes          | ✅ if treated carefully |\n",
    "\n",
    "---\n",
    "\n",
    "## 📝 Summary\n",
    "\n",
    "* Use `char` when you're dealing with **just one character**.\n",
    "* Use `string` when you're working with **multiple characters or full text**.\n",
    "* In Python, all characters are technically strings of length 1.\n",
    "\n",
    "---"
   ]
  },
  {
   "cell_type": "markdown",
   "id": "8be438e7",
   "metadata": {},
   "source": [
    "\n",
    "\n",
    "# ✅ Difference Between **Parameter** and **Argument** in Python\n",
    "\n",
    "Understanding the difference between **parameters** and **arguments** is essential when working with functions in Python.\n",
    "\n",
    "---\n",
    "\n",
    "### 🔹 What is a **Parameter**?\n",
    "\n",
    "* A **parameter** is a **placeholder variable** listed in the **function definition**.\n",
    "* It defines what type of data a function **expects to receive**.\n",
    "* Parameters are used **only when defining** a function.\n",
    "\n",
    "🧠 Think of it as: “What does the function need to do its job?”\n",
    "\n",
    "```python\n",
    "def add_numbers(x, y):  # x and y are parameters\n",
    "    return x + y\n",
    "```\n",
    "\n",
    "In the above example, `x` and `y` are parameters — they don’t hold any values yet.\n",
    "\n",
    "---\n",
    "\n",
    "### 🔹 What is an **Argument**?\n",
    "\n",
    "* An **argument** is the **actual value** passed to a function when it's **called**.\n",
    "* Arguments replace parameters during the function's execution.\n",
    "* You provide arguments in the function **call**.\n",
    "\n",
    "🧠 Think of it as: “What value am I giving to the function?”\n",
    "\n",
    "```python\n",
    "result = add_numbers(3, 5)  # 3 and 5 are arguments\n",
    "```\n",
    "\n",
    "Here, `3` and `5` are the arguments being passed into the function `add_numbers`.\n",
    "\n",
    "---\n",
    "\n",
    "### 🔄 Summary of the Difference\n",
    "\n",
    "| 🔸 Feature           | 🔹 Parameter                               | 🔹 Argument                                |\n",
    "| -------------------- | ------------------------------------------ | ------------------------------------------ |\n",
    "| **Definition**       | Variable used in a function **definition** | Actual value passed in a **function call** |\n",
    "| **Purpose**          | Acts as a placeholder for input values     | Provides real data for the function        |\n",
    "| **Where it Appears** | Inside function header (`def func(x, y)`)  | Inside function call (`func(1, 2)`)        |\n",
    "| **Type**             | Formal (declared)                          | Actual (supplied)                          |\n",
    "\n",
    "---\n",
    "\n",
    "### ✅ Complete Example\n",
    "\n",
    "```python\n",
    "def add(x, y):  # x and y → parameters\n",
    "    \"\"\"Returns the sum of two numbers.\"\"\"\n",
    "    return x + y\n",
    "\n",
    "result = add(1, 2)  # 1 and 2 → arguments\n",
    "print(result)       # Output: 3\n",
    "```\n",
    "\n",
    "---\n",
    "\n",
    "### 📝 Key Takeaways\n",
    "\n",
    "* **Parameters** define what inputs a function **can** take.\n",
    "* **Arguments** are the **actual inputs** you give during a function call.\n",
    "* You can think of parameters as **\"questions\"** and arguments as the **\"answers.\"**\n",
    "* Although people often use the terms interchangeably, they have **technical differences** worth knowing — especially in interviews or coding interviews.\n",
    "\n",
    "---\n"
   ]
  },
  {
   "cell_type": "code",
   "execution_count": 334,
   "id": "b32cc466",
   "metadata": {},
   "outputs": [
    {
     "name": "stdout",
     "output_type": "stream",
     "text": [
      "Hello, I am announcing!\n",
      "Result1: None\n",
      "Result2: Hello, I am a note you can use!\n",
      "Hello, I am a note you can use! and some extra text\n"
     ]
    }
   ],
   "source": [
    "def announce():\n",
    "    print(\"Hello, I am announcing!\")\n",
    "\n",
    "def give_note():\n",
    "    return \"Hello, I am a note you can use!\"\n",
    "\n",
    "result1 = announce()  # Prints message, but result1 is None\n",
    "result2 = give_note() # Does not print immediately, but returns string\n",
    "\n",
    "print(\"Result1:\", result1)  # Output: Result1: None\n",
    "print(\"Result2:\", result2)  # Output: Result2: Hello, I am a note you can use!\n",
    "\n",
    "# Trying to combine result1 (None) with string causes error:\n",
    "# result1 + \" text\"   # TypeError!\n",
    "\n",
    "# Combining result2 (string) with string works fine:\n",
    "print(result2 + \" and some extra text\")\n"
   ]
  },
  {
   "cell_type": "markdown",
   "id": "9245e002",
   "metadata": {},
   "source": [
    "\n",
    "---\n",
    "\n",
    "## Understanding `print()` vs `return` in Python Functions\n",
    "\n",
    "---\n",
    "\n",
    "### 🔹 The Problem with Your Code\n",
    "\n",
    "```python\n",
    "def test1():\n",
    "    print(\"this is my very very first function\")\n",
    "\n",
    "test1()\n",
    "\n",
    "test1() + \"sudh\"  # This line causes an error\n",
    "```\n",
    "\n",
    "---\n",
    "\n",
    "### ✅ What’s Happening Here?\n",
    "\n",
    "1. When we call `test1()`, it **prints** the message:\n",
    "\n",
    "```\n",
    "this is my very very first function\n",
    "```\n",
    "\n",
    "2. But the function does **not return any value**, so Python **automatically returns `None`**.\n",
    "\n",
    "3. When you try to do:\n",
    "\n",
    "```python\n",
    "test1() + \"sudh\"\n",
    "```\n",
    "\n",
    "This is like trying to do:\n",
    "\n",
    "```python\n",
    "None + \"sudh\"\n",
    "```\n",
    "\n",
    "Which raises an error because:\n",
    "\n",
    "* You **cannot add** (`+`) a `NoneType` and a `string` together.\n",
    "* Python shows this error:\n",
    "  `TypeError: unsupported operand type(s) for +: 'NoneType' and 'str'`\n",
    "\n",
    "---\n",
    "\n",
    "### 🔹 Why Does This Happen?\n",
    "\n",
    "* **`print()`** only **displays a message on the screen**.\n",
    "* It **does not send anything back** to the place where the function was called.\n",
    "* By default, if there is no `return` statement, Python returns `None`.\n",
    "\n",
    "---\n",
    "\n",
    "### 🔹 The Simple Analogy\n",
    "\n",
    "| Action    | What It Is Like                                                                           |\n",
    "| --------- | ----------------------------------------------------------------------------------------- |\n",
    "| `print()` | Announcing something aloud to a room — everyone hears it, but no one gets a note to keep. |\n",
    "| `return`  | Passing a note to someone — they can keep it, save it, or use it later.                   |\n",
    "\n",
    "---\n",
    "\n",
    "### 🔹 Example to Clarify\n",
    "\n",
    "```python\n",
    "def announce():\n",
    "    print(\"Hello, I am announcing!\")\n",
    "\n",
    "def give_note():\n",
    "    return \"Hello, I am a note you can use!\"\n",
    "\n",
    "result1 = announce()  # Prints message, but result1 is None\n",
    "result2 = give_note() # Does not print immediately, but returns string\n",
    "\n",
    "print(\"Result1:\", result1)  # Output: Result1: None\n",
    "print(\"Result2:\", result2)  # Output: Result2: Hello, I am a note you can use!\n",
    "\n",
    "# Trying to combine result1 (None) with string causes error:\n",
    "# result1 + \" text\"   # TypeError!\n",
    "\n",
    "# Combining result2 (string) with string works fine:\n",
    "print(result2 + \" and some extra text\")\n",
    "```\n",
    "\n",
    "---\n",
    "\n",
    "### 🔹 How to Fix Your Code\n",
    "\n",
    "If you want to **combine the function output with a string**, the function must **return** a string:\n",
    "\n",
    "```python\n",
    "def test1():\n",
    "    return \"this is my very very first function\"\n",
    "\n",
    "print(test1())             # Prints the returned string\n",
    "print(test1() + \" sudh\")   # Works because both are strings\n",
    "```\n",
    "\n",
    "---\n",
    "\n",
    "### 🔹 Summary Table\n",
    "\n",
    "| Function Output Type | What Happens When Called                  | Can You Use the Output Later?                                 |\n",
    "| -------------------- | ----------------------------------------- | ------------------------------------------------------------- |\n",
    "| Uses `print()` only  | Message appears on screen; returns `None` | No, you can’t use the result in expressions or concatenations |\n",
    "| Uses `return`        | No immediate print; sends value back      | Yes, you can save, combine, or reuse the returned value       |\n",
    "\n",
    "---\n",
    "\n",
    "### Final Note\n",
    "\n",
    "* Use `print()` when you want to **show something to the user immediately** (for debugging or display).\n",
    "* Use `return` when your function needs to **give back a value** to the rest of your program for further use.\n",
    "\n",
    "---"
   ]
  },
  {
   "cell_type": "code",
   "execution_count": 335,
   "id": "618a1ae2",
   "metadata": {},
   "outputs": [
    {
     "name": "stdout",
     "output_type": "stream",
     "text": [
      "this is my print\n"
     ]
    }
   ],
   "source": [
    "print(\"this is my print\")"
   ]
  },
  {
   "cell_type": "code",
   "execution_count": 336,
   "id": "692d3008",
   "metadata": {},
   "outputs": [],
   "source": [
    "l = [324,45,45,45]"
   ]
  },
  {
   "cell_type": "code",
   "execution_count": 337,
   "id": "e40f4b40",
   "metadata": {},
   "outputs": [
    {
     "data": {
      "text/plain": [
       "4"
      ]
     },
     "execution_count": 337,
     "metadata": {},
     "output_type": "execute_result"
    }
   ],
   "source": [
    "len(l)"
   ]
  },
  {
   "cell_type": "code",
   "execution_count": 338,
   "id": "f5d57086",
   "metadata": {},
   "outputs": [
    {
     "data": {
      "text/plain": [
       "list"
      ]
     },
     "execution_count": 338,
     "metadata": {},
     "output_type": "execute_result"
    }
   ],
   "source": [
    "type(l)"
   ]
  },
  {
   "cell_type": "code",
   "execution_count": 339,
   "id": "c51e59fb",
   "metadata": {},
   "outputs": [],
   "source": [
    "def test():\n",
    "    pass"
   ]
  },
  {
   "cell_type": "code",
   "execution_count": 340,
   "id": "38a5f59d",
   "metadata": {},
   "outputs": [],
   "source": [
    "def test1():\n",
    "    print(\"this is my very very first function\")"
   ]
  },
  {
   "cell_type": "code",
   "execution_count": 341,
   "id": "975b87f5",
   "metadata": {},
   "outputs": [
    {
     "name": "stdout",
     "output_type": "stream",
     "text": [
      "this is my very very first function\n"
     ]
    }
   ],
   "source": [
    "test1()"
   ]
  },
  {
   "cell_type": "code",
   "execution_count": 342,
   "id": "f1313489",
   "metadata": {},
   "outputs": [
    {
     "name": "stdout",
     "output_type": "stream",
     "text": [
      "this is my very very first function\n"
     ]
    },
    {
     "ename": "TypeError",
     "evalue": "unsupported operand type(s) for +: 'NoneType' and 'str'",
     "output_type": "error",
     "traceback": [
      "\u001b[1;31m---------------------------------------------------------------------------\u001b[0m",
      "\u001b[1;31mTypeError\u001b[0m                                 Traceback (most recent call last)",
      "Cell \u001b[1;32mIn[342], line 1\u001b[0m\n\u001b[1;32m----> 1\u001b[0m \u001b[43mtest1\u001b[49m\u001b[43m(\u001b[49m\u001b[43m)\u001b[49m\u001b[43m \u001b[49m\u001b[38;5;241;43m+\u001b[39;49m\u001b[43m \u001b[49m\u001b[38;5;124;43m\"\u001b[39;49m\u001b[38;5;124;43msudh\u001b[39;49m\u001b[38;5;124;43m\"\u001b[39;49m               \u001b[38;5;66;03m# It seems like print is returning string type DataType but print return None type DataType \u001b[39;00m\n\u001b[0;32m      2\u001b[0m \u001b[38;5;66;03m# concetanation of None & String DataType is not possible\u001b[39;00m\n",
      "\u001b[1;31mTypeError\u001b[0m: unsupported operand type(s) for +: 'NoneType' and 'str'"
     ]
    }
   ],
   "source": [
    "test1() + \"sudh\"               # It seems like print is returning string type DataType but print return None type DataType \n",
    "# concetanation of None & String DataType is not possible"
   ]
  },
  {
   "cell_type": "code",
   "execution_count": 343,
   "id": "9e9f7606",
   "metadata": {},
   "outputs": [],
   "source": [
    "def test2():\n",
    "    return \"this is my very first return \""
   ]
  },
  {
   "cell_type": "code",
   "execution_count": 344,
   "id": "815fbc68",
   "metadata": {},
   "outputs": [
    {
     "data": {
      "text/plain": [
       "'this is my very first return '"
      ]
     },
     "execution_count": 344,
     "metadata": {},
     "output_type": "execute_result"
    }
   ],
   "source": [
    "test2()"
   ]
  },
  {
   "cell_type": "code",
   "execution_count": 345,
   "id": "01f398a9",
   "metadata": {},
   "outputs": [
    {
     "data": {
      "text/plain": [
       "'this is my very first return sudh'"
      ]
     },
     "execution_count": 345,
     "metadata": {},
     "output_type": "execute_result"
    }
   ],
   "source": [
    "test2() + \"sudh\""
   ]
  },
  {
   "cell_type": "code",
   "execution_count": 346,
   "id": "20c9f4d8",
   "metadata": {},
   "outputs": [],
   "source": [
    "def test3() :\n",
    "\n",
    "        return \"sudh\" , 23, 345.56 , [1,2,3,3]"
   ]
  },
  {
   "cell_type": "code",
   "execution_count": 347,
   "id": "1bc0acc3",
   "metadata": {},
   "outputs": [
    {
     "data": {
      "text/plain": [
       "('sudh', 23, 345.56, [1, 2, 3, 3])"
      ]
     },
     "execution_count": 347,
     "metadata": {},
     "output_type": "execute_result"
    }
   ],
   "source": [
    "test3()"
   ]
  },
  {
   "cell_type": "code",
   "execution_count": 348,
   "id": "8e21a439",
   "metadata": {},
   "outputs": [],
   "source": [
    "a,b,c,d = test3()"
   ]
  },
  {
   "cell_type": "code",
   "execution_count": 349,
   "id": "889970f9",
   "metadata": {},
   "outputs": [
    {
     "data": {
      "text/plain": [
       "'sudh'"
      ]
     },
     "execution_count": 349,
     "metadata": {},
     "output_type": "execute_result"
    }
   ],
   "source": [
    "a"
   ]
  },
  {
   "cell_type": "code",
   "execution_count": 350,
   "id": "b373c9ad",
   "metadata": {},
   "outputs": [
    {
     "data": {
      "text/plain": [
       "23"
      ]
     },
     "execution_count": 350,
     "metadata": {},
     "output_type": "execute_result"
    }
   ],
   "source": [
    "b"
   ]
  },
  {
   "cell_type": "code",
   "execution_count": 351,
   "id": "a95ef6fa",
   "metadata": {},
   "outputs": [
    {
     "data": {
      "text/plain": [
       "345.56"
      ]
     },
     "execution_count": 351,
     "metadata": {},
     "output_type": "execute_result"
    }
   ],
   "source": [
    "c"
   ]
  },
  {
   "cell_type": "code",
   "execution_count": 352,
   "id": "d9c515d4",
   "metadata": {},
   "outputs": [
    {
     "data": {
      "text/plain": [
       "[1, 2, 3, 3]"
      ]
     },
     "execution_count": 352,
     "metadata": {},
     "output_type": "execute_result"
    }
   ],
   "source": [
    "d"
   ]
  },
  {
   "cell_type": "code",
   "execution_count": 353,
   "id": "a9a10225",
   "metadata": {},
   "outputs": [],
   "source": [
    "a = 1\n",
    "b = 4"
   ]
  },
  {
   "cell_type": "code",
   "execution_count": 354,
   "id": "055380a3",
   "metadata": {},
   "outputs": [],
   "source": [
    "a , b = 1,4"
   ]
  },
  {
   "cell_type": "code",
   "execution_count": 355,
   "id": "002ad14c",
   "metadata": {},
   "outputs": [],
   "source": [
    "def test4():\n",
    "    a = 5+6/7\n",
    "    return a"
   ]
  },
  {
   "cell_type": "code",
   "execution_count": 356,
   "id": "4c0349f1",
   "metadata": {},
   "outputs": [
    {
     "data": {
      "text/plain": [
       "5.857142857142857"
      ]
     },
     "execution_count": 356,
     "metadata": {},
     "output_type": "execute_result"
    }
   ],
   "source": [
    "test4()"
   ]
  },
  {
   "cell_type": "code",
   "execution_count": 357,
   "id": "891c0f06",
   "metadata": {},
   "outputs": [],
   "source": [
    "def test5(a, b, c):\n",
    "    d = a+b/c\n",
    "    return d"
   ]
  },
  {
   "cell_type": "code",
   "execution_count": 358,
   "id": "5804c858",
   "metadata": {
    "scrolled": true
   },
   "outputs": [
    {
     "ename": "TypeError",
     "evalue": "test5() missing 3 required positional arguments: 'a', 'b', and 'c'",
     "output_type": "error",
     "traceback": [
      "\u001b[1;31m---------------------------------------------------------------------------\u001b[0m",
      "\u001b[1;31mTypeError\u001b[0m                                 Traceback (most recent call last)",
      "Cell \u001b[1;32mIn[358], line 1\u001b[0m\n\u001b[1;32m----> 1\u001b[0m \u001b[43mtest5\u001b[49m\u001b[43m(\u001b[49m\u001b[43m)\u001b[49m\n",
      "\u001b[1;31mTypeError\u001b[0m: test5() missing 3 required positional arguments: 'a', 'b', and 'c'"
     ]
    }
   ],
   "source": [
    "test5()"
   ]
  },
  {
   "cell_type": "code",
   "execution_count": 359,
   "id": "fda3bac1",
   "metadata": {},
   "outputs": [
    {
     "data": {
      "text/plain": [
       "2.625"
      ]
     },
     "execution_count": 359,
     "metadata": {},
     "output_type": "execute_result"
    }
   ],
   "source": [
    "test5(2,5,8)"
   ]
  },
  {
   "cell_type": "code",
   "execution_count": 360,
   "id": "64548a55",
   "metadata": {},
   "outputs": [],
   "source": [
    "def test6(a,b):\n",
    "    return a+b"
   ]
  },
  {
   "cell_type": "code",
   "execution_count": 361,
   "id": "5f6e36ef",
   "metadata": {},
   "outputs": [
    {
     "data": {
      "text/plain": [
       "7"
      ]
     },
     "execution_count": 361,
     "metadata": {},
     "output_type": "execute_result"
    }
   ],
   "source": [
    "test6(3,4)"
   ]
  },
  {
   "cell_type": "code",
   "execution_count": 362,
   "id": "525c70d8",
   "metadata": {},
   "outputs": [
    {
     "data": {
      "text/plain": [
       "'sudh kumar'"
      ]
     },
     "execution_count": 362,
     "metadata": {},
     "output_type": "execute_result"
    }
   ],
   "source": [
    "test6(\"sudh\" , \" kumar\")"
   ]
  },
  {
   "cell_type": "code",
   "execution_count": 363,
   "id": "ae597da6",
   "metadata": {},
   "outputs": [
    {
     "data": {
      "text/plain": [
       "[1, 2, 3, 4, 5, 4, 5, 6]"
      ]
     },
     "execution_count": 363,
     "metadata": {},
     "output_type": "execute_result"
    }
   ],
   "source": [
    "test6([1,2,3,4,5] , [4,5,6])"
   ]
  },
  {
   "cell_type": "code",
   "execution_count": 364,
   "id": "a90e32e5",
   "metadata": {},
   "outputs": [],
   "source": [
    "l = [1,2,3,4,\"sudh\" , \"kumar\" ,[1,2,3,4,5,6]]"
   ]
  },
  {
   "cell_type": "code",
   "execution_count": 365,
   "id": "96ff42b1",
   "metadata": {},
   "outputs": [],
   "source": [
    "l1 = []\n",
    "for i in l :\n",
    "    if type(i) == int or type(i) == float :\n",
    "        l1.append(i)"
   ]
  },
  {
   "cell_type": "code",
   "execution_count": 366,
   "id": "103f0a8e",
   "metadata": {},
   "outputs": [
    {
     "data": {
      "text/plain": [
       "[1, 2, 3, 4]"
      ]
     },
     "execution_count": 366,
     "metadata": {},
     "output_type": "execute_result"
    }
   ],
   "source": [
    "l1"
   ]
  },
  {
   "cell_type": "code",
   "execution_count": 367,
   "id": "2971d2df",
   "metadata": {},
   "outputs": [],
   "source": [
    "def test7(l):\n",
    "    l1 = []\n",
    "    for i in l :\n",
    "        if type(i) == int or type(i) == float :\n",
    "            l1.append(i)\n",
    "    return l1"
   ]
  },
  {
   "cell_type": "code",
   "execution_count": 368,
   "id": "769e2d1c",
   "metadata": {},
   "outputs": [
    {
     "data": {
      "text/plain": [
       "[1, 2, 3, 4]"
      ]
     },
     "execution_count": 368,
     "metadata": {},
     "output_type": "execute_result"
    }
   ],
   "source": [
    "l1"
   ]
  },
  {
   "cell_type": "code",
   "execution_count": 369,
   "id": "e30f3fc1",
   "metadata": {},
   "outputs": [
    {
     "data": {
      "text/plain": [
       "[1, 2, 3, 4]"
      ]
     },
     "execution_count": 369,
     "metadata": {},
     "output_type": "execute_result"
    }
   ],
   "source": [
    "test7(l)"
   ]
  },
  {
   "cell_type": "code",
   "execution_count": 370,
   "id": "8847c9b5",
   "metadata": {},
   "outputs": [
    {
     "data": {
      "text/plain": [
       "[1, 2, 3, 4, 'sudh', 'kumar', [1, 2, 3, 4, 5, 6]]"
      ]
     },
     "execution_count": 370,
     "metadata": {},
     "output_type": "execute_result"
    }
   ],
   "source": [
    "l"
   ]
  },
  {
   "cell_type": "code",
   "execution_count": 371,
   "id": "8e040f43",
   "metadata": {},
   "outputs": [],
   "source": [
    "l = [1,2,3,4, 'sudh', 'kumar', [1,2,3,4,5,6]]"
   ]
  },
  {
   "cell_type": "code",
   "execution_count": 372,
   "id": "33874da6",
   "metadata": {},
   "outputs": [
    {
     "data": {
      "text/plain": [
       "[1, 2, 3, 4, 'sudh', 'kumar', [1, 2, 3, 4, 5, 6]]"
      ]
     },
     "execution_count": 372,
     "metadata": {},
     "output_type": "execute_result"
    }
   ],
   "source": [
    "l"
   ]
  },
  {
   "cell_type": "code",
   "execution_count": 378,
   "id": "03c7b6dc",
   "metadata": {},
   "outputs": [],
   "source": [
    "def test8(a):\n",
    "    l= []\n",
    "    for i in a :\n",
    "        if type(i) == list:\n",
    "            for j in i :\n",
    "                l.append(j)\n",
    "        else :\n",
    "            if type(i) == int or type(i) == float:\n",
    "                l.append(i)\n",
    "    return l"
   ]
  },
  {
   "cell_type": "code",
   "execution_count": null,
   "id": "b870b71e",
   "metadata": {},
   "outputs": [
    {
     "data": {
      "text/plain": [
       "[1, 2, 3, 4, 1, 2, 3, 4, 5, 6]"
      ]
     },
     "execution_count": 379,
     "metadata": {},
     "output_type": "execute_result"
    }
   ],
   "source": [
    "test8(l)"
   ]
  },
  {
   "cell_type": "code",
   "execution_count": 380,
   "id": "04a7c396",
   "metadata": {},
   "outputs": [
    {
     "data": {
      "text/plain": [
       "[1, 2, 3, 4, 'sudh', 'kumar', [1, 2, 3, 4, 5, 6]]"
      ]
     },
     "execution_count": 380,
     "metadata": {},
     "output_type": "execute_result"
    }
   ],
   "source": [
    "l"
   ]
  },
  {
   "cell_type": "code",
   "execution_count": 381,
   "id": "2491b7fd",
   "metadata": {},
   "outputs": [
    {
     "ename": "TypeError",
     "evalue": "test8() missing 1 required positional argument: 'a'",
     "output_type": "error",
     "traceback": [
      "\u001b[1;31m---------------------------------------------------------------------------\u001b[0m",
      "\u001b[1;31mTypeError\u001b[0m                                 Traceback (most recent call last)",
      "Cell \u001b[1;32mIn[381], line 1\u001b[0m\n\u001b[1;32m----> 1\u001b[0m \u001b[43mtest8\u001b[49m\u001b[43m(\u001b[49m\u001b[43m)\u001b[49m\n",
      "\u001b[1;31mTypeError\u001b[0m: test8() missing 1 required positional argument: 'a'"
     ]
    }
   ],
   "source": [
    "test8()"
   ]
  },
  {
   "cell_type": "code",
   "execution_count": 382,
   "id": "955d87f7",
   "metadata": {},
   "outputs": [],
   "source": [
    "def test9(a) :  \n",
    "    \"\"\"this is my function to extract num data from list\"\"\"\n",
    "\n",
    "    l= []\n",
    "    for i in a :\n",
    "        if type(i) == list:\n",
    "            for j in i :\n",
    "                l.append(j)\n",
    "        else :\n",
    "            if type(i) == int or type(i) == float :\n",
    "                l.append(i)\n",
    "    return l\n"
   ]
  },
  {
   "cell_type": "code",
   "execution_count": 383,
   "id": "0a187324",
   "metadata": {},
   "outputs": [
    {
     "ename": "TypeError",
     "evalue": "test9() missing 1 required positional argument: 'a'",
     "output_type": "error",
     "traceback": [
      "\u001b[1;31m---------------------------------------------------------------------------\u001b[0m",
      "\u001b[1;31mTypeError\u001b[0m                                 Traceback (most recent call last)",
      "Cell \u001b[1;32mIn[383], line 1\u001b[0m\n\u001b[1;32m----> 1\u001b[0m \u001b[43mtest9\u001b[49m\u001b[43m(\u001b[49m\u001b[43m)\u001b[49m\n",
      "\u001b[1;31mTypeError\u001b[0m: test9() missing 1 required positional argument: 'a'"
     ]
    }
   ],
   "source": [
    "test9()"
   ]
  },
  {
   "cell_type": "code",
   "execution_count": 384,
   "id": "baf46dd3",
   "metadata": {},
   "outputs": [],
   "source": [
    "def test10(a,b):\n",
    "    return a+b"
   ]
  },
  {
   "cell_type": "code",
   "execution_count": 385,
   "id": "9fffced9",
   "metadata": {},
   "outputs": [],
   "source": [
    "def test11(*args):\n",
    "    return args"
   ]
  },
  {
   "cell_type": "code",
   "execution_count": 386,
   "id": "5de94e14",
   "metadata": {},
   "outputs": [
    {
     "data": {
      "text/plain": [
       "()"
      ]
     },
     "execution_count": 386,
     "metadata": {},
     "output_type": "execute_result"
    }
   ],
   "source": [
    "test11()"
   ]
  },
  {
   "cell_type": "code",
   "execution_count": 387,
   "id": "0e9c9684",
   "metadata": {},
   "outputs": [
    {
     "data": {
      "text/plain": [
       "tuple"
      ]
     },
     "execution_count": 387,
     "metadata": {},
     "output_type": "execute_result"
    }
   ],
   "source": [
    "type(test11())"
   ]
  },
  {
   "cell_type": "code",
   "execution_count": 388,
   "id": "2e572484",
   "metadata": {},
   "outputs": [
    {
     "data": {
      "text/plain": [
       "(1, 2, 3)"
      ]
     },
     "execution_count": 388,
     "metadata": {},
     "output_type": "execute_result"
    }
   ],
   "source": [
    "test11(1,2,3)"
   ]
  },
  {
   "cell_type": "code",
   "execution_count": 389,
   "id": "007858f6",
   "metadata": {},
   "outputs": [
    {
     "data": {
      "text/plain": [
       "(1, 2, 3, 'sudh', 'kumar', [1, 2, 3, 4, 4])"
      ]
     },
     "execution_count": 389,
     "metadata": {},
     "output_type": "execute_result"
    }
   ],
   "source": [
    "test11(1,2,3,\"sudh\" , \"kumar\" , [1,2,3,4,4])"
   ]
  },
  {
   "cell_type": "code",
   "execution_count": 390,
   "id": "6e7dd287",
   "metadata": {},
   "outputs": [],
   "source": [
    "def test12(*sudh):         # * allow to pass multiple input\n",
    "    return sudh"
   ]
  },
  {
   "cell_type": "code",
   "execution_count": 391,
   "id": "d415e435",
   "metadata": {},
   "outputs": [
    {
     "data": {
      "text/plain": [
       "(1, 2, 34, 4)"
      ]
     },
     "execution_count": 391,
     "metadata": {},
     "output_type": "execute_result"
    }
   ],
   "source": [
    "test12(1,2,34,4)"
   ]
  },
  {
   "cell_type": "code",
   "execution_count": 392,
   "id": "150c2073",
   "metadata": {},
   "outputs": [],
   "source": [
    "def test13(*args , a) :\n",
    "    return args , a"
   ]
  },
  {
   "cell_type": "code",
   "execution_count": 393,
   "id": "8f44e850",
   "metadata": {},
   "outputs": [
    {
     "ename": "TypeError",
     "evalue": "test13() missing 1 required keyword-only argument: 'a'",
     "output_type": "error",
     "traceback": [
      "\u001b[1;31m---------------------------------------------------------------------------\u001b[0m",
      "\u001b[1;31mTypeError\u001b[0m                                 Traceback (most recent call last)",
      "Cell \u001b[1;32mIn[393], line 1\u001b[0m\n\u001b[1;32m----> 1\u001b[0m \u001b[43mtest13\u001b[49m\u001b[43m(\u001b[49m\u001b[38;5;241;43m1\u001b[39;49m\u001b[43m,\u001b[49m\u001b[38;5;241;43m2\u001b[39;49m\u001b[43m,\u001b[49m\u001b[38;5;241;43m3\u001b[39;49m\u001b[43m,\u001b[49m\u001b[38;5;241;43m4\u001b[39;49m\u001b[43m)\u001b[49m\n",
      "\u001b[1;31mTypeError\u001b[0m: test13() missing 1 required keyword-only argument: 'a'"
     ]
    }
   ],
   "source": [
    "test13(1,2,3,4)"
   ]
  },
  {
   "cell_type": "code",
   "execution_count": null,
   "id": "f461162a",
   "metadata": {},
   "outputs": [
    {
     "data": {
      "text/plain": [
       "((1, 2, 3, 4), 23)"
      ]
     },
     "execution_count": 310,
     "metadata": {},
     "output_type": "execute_result"
    }
   ],
   "source": [
    "test13(1,2,3,4 , a = 23)"
   ]
  },
  {
   "cell_type": "code",
   "execution_count": null,
   "id": "32e9d899",
   "metadata": {},
   "outputs": [],
   "source": [
    "def test14(c,d,a = 23 , b = 1 ):\n",
    "    return a,b,c,d"
   ]
  },
  {
   "cell_type": "code",
   "execution_count": null,
   "id": "6bd3ee10",
   "metadata": {},
   "outputs": [
    {
     "ename": "TypeError",
     "evalue": "test14() missing 2 required positional arguments: 'c' and 'd'",
     "output_type": "error",
     "traceback": [
      "\u001b[1;31m---------------------------------------------------------------------------\u001b[0m",
      "\u001b[1;31mTypeError\u001b[0m                                 Traceback (most recent call last)",
      "Cell \u001b[1;32mIn[312], line 1\u001b[0m\n\u001b[1;32m----> 1\u001b[0m \u001b[43mtest14\u001b[49m\u001b[43m(\u001b[49m\u001b[43m)\u001b[49m\n",
      "\u001b[1;31mTypeError\u001b[0m: test14() missing 2 required positional arguments: 'c' and 'd'"
     ]
    }
   ],
   "source": [
    "test14()"
   ]
  },
  {
   "cell_type": "code",
   "execution_count": null,
   "id": "158e9a52",
   "metadata": {},
   "outputs": [
    {
     "data": {
      "text/plain": [
       "(23, 1, 3, 4)"
      ]
     },
     "execution_count": 313,
     "metadata": {},
     "output_type": "execute_result"
    }
   ],
   "source": [
    "test14(3,4)"
   ]
  },
  {
   "cell_type": "code",
   "execution_count": null,
   "id": "4fc99ee3",
   "metadata": {},
   "outputs": [
    {
     "data": {
      "text/plain": [
       "(2342, 1, 2, 5)"
      ]
     },
     "execution_count": 314,
     "metadata": {},
     "output_type": "execute_result"
    }
   ],
   "source": [
    "test14(2,5 , a = 2342)"
   ]
  },
  {
   "cell_type": "code",
   "execution_count": null,
   "id": "cd09258a",
   "metadata": {},
   "outputs": [],
   "source": [
    "def test15(**kwargs):\n",
    "    return kwargs"
   ]
  },
  {
   "cell_type": "code",
   "execution_count": null,
   "id": "b8fb92ea",
   "metadata": {},
   "outputs": [
    {
     "data": {
      "text/plain": [
       "{}"
      ]
     },
     "execution_count": 316,
     "metadata": {},
     "output_type": "execute_result"
    }
   ],
   "source": [
    "test15()"
   ]
  },
  {
   "cell_type": "code",
   "execution_count": null,
   "id": "718cdf2d",
   "metadata": {},
   "outputs": [
    {
     "data": {
      "text/plain": [
       "dict"
      ]
     },
     "execution_count": 317,
     "metadata": {},
     "output_type": "execute_result"
    }
   ],
   "source": [
    "type(test15())"
   ]
  },
  {
   "cell_type": "code",
   "execution_count": null,
   "id": "91a87dbf",
   "metadata": {},
   "outputs": [
    {
     "data": {
      "text/plain": [
       "{'a': [1, 2, 3, 4], 'b': 'sudh', 'c': 23.45}"
      ]
     },
     "execution_count": 318,
     "metadata": {},
     "output_type": "execute_result"
    }
   ],
   "source": [
    "test15(a = [1,2,3,4] , b = \"sudh\" , c = 23.45 )"
   ]
  }
 ],
 "metadata": {
  "kernelspec": {
   "display_name": "Python 3",
   "language": "python",
   "name": "python3"
  },
  "language_info": {
   "codemirror_mode": {
    "name": "ipython",
    "version": 3
   },
   "file_extension": ".py",
   "mimetype": "text/x-python",
   "name": "python",
   "nbconvert_exporter": "python",
   "pygments_lexer": "ipython3",
   "version": "3.13.0"
  }
 },
 "nbformat": 4,
 "nbformat_minor": 5
}
