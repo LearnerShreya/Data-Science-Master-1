{
 "cells": [
  {
   "cell_type": "markdown",
   "id": "921836b6",
   "metadata": {},
   "source": [
    "\n",
    "### 🔷 1. `map()` – Apply Function to All Items\n",
    "\n",
    "#### ✅ What it does:\n",
    "\n",
    "Applies a **function** to **each item** in an **iterable** (like a list) and returns a new **map object** (which we can convert to a list).\n",
    "\n",
    "#### 🧠 Think like:\n",
    "\n",
    "*\"We want to **change every item** in this list using a rule (function).”*\n",
    "\n",
    "#### 📌 Syntax:\n",
    "\n",
    "> **` map(function, iterable) `**\n",
    "\n",
    "\n",
    "#### 🎯 Example:\n",
    "\n",
    "```python\n",
    "nums = [1, 2, 3, 4]\n",
    "squared = list(map(lambda x: x**2, nums))\n",
    "print(squared)  # Output: [1, 4, 9, 16]\n",
    "```\n",
    "\n",
    "---\n",
    "\n",
    "### 🔷 2. `filter()` – Pick Only Matching Items\n",
    "\n",
    "#### ✅ What it does:\n",
    "\n",
    "Applies a **function that returns True/False** to **each item**, and **keeps only those where the function returns True**.\n",
    "\n",
    "#### 🧠 Think like:\n",
    "\n",
    "*\"We want to **filter out** items from a list based on some condition.”*\n",
    "\n",
    "#### 📌 Syntax:\n",
    "\n",
    "> **`filter(function, iterable)`**\n",
    "\n",
    "#### 🎯 Example:\n",
    "\n",
    "```python\n",
    "nums = [1, 2, 3, 4, 5]\n",
    "evens = list(filter(lambda x: x % 2 == 0, nums))\n",
    "print(evens)  # Output: [2, 4]\n",
    "```\n",
    "\n",
    "---\n",
    "\n",
    "### 🔷 3. `reduce()` – Combine All Items into One\n",
    "\n",
    "#### ✅ What it does:\n",
    "\n",
    "Applies a function to **pairs of items**, reducing the iterable to **a single result**.\n",
    "\n",
    "#### ⚠️ Note: We must **import** it from `functools`.\n",
    "\n",
    "#### 🧠 Think like:\n",
    "\n",
    "*\"We want to **combine everything** into one value using a rule.”*\n",
    "\n",
    "#### 📌 Syntax:\n",
    "\n",
    "> **`from functools import reduce`**  \n",
    "> **`reduce(function, iterable)`**\n",
    "\n",
    "\n",
    "#### 🎯 Example:\n",
    "\n",
    "```python\n",
    "from functools import reduce\n",
    "nums = [1, 2, 3, 4]\n",
    "product = reduce(lambda x, y: x * y, nums)\n",
    "print(product)  # Output: 24 (1×2×3×4)\n",
    "```\n",
    "\n",
    "---\n",
    "\n",
    "### 🔁 Quick Comparison:\n",
    "\n",
    "| Function   | Purpose                    | Input           | Output               | Function Type         |\n",
    "| ---------- | -------------------------- | --------------- | -------------------- | --------------------- |\n",
    "| `map()`    | Transform each item        | function + list | map object → list    | All items used        |\n",
    "| `filter()` | Filter items by condition  | function + list | filter object → list | Some items used       |\n",
    "| `reduce()` | Combine all items into one | function + list | single value         | Pairs used repeatedly |\n",
    "\n",
    "---\n",
    "\n",
    "### 🧠 Bonus Tip:\n",
    "\n",
    "All 3 are often used with **`lambda`** for quick inline functions.\n",
    "\n",
    "---\n"
   ]
  },
  {
   "cell_type": "code",
   "execution_count": 1,
   "id": "588918fa",
   "metadata": {},
   "outputs": [
    {
     "name": "stdout",
     "output_type": "stream",
     "text": [
      "[1, 4, 9, 16]\n"
     ]
    }
   ],
   "source": [
    "nums = [1, 2, 3, 4]\n",
    "squared = list(map(lambda x: x**2, nums))\n",
    "print(squared)  # Output: [1, 4, 9, 16]"
   ]
  },
  {
   "cell_type": "code",
   "execution_count": 2,
   "id": "5d61cca0",
   "metadata": {},
   "outputs": [
    {
     "name": "stdout",
     "output_type": "stream",
     "text": [
      "[2, 4]\n"
     ]
    }
   ],
   "source": [
    "nums = [1, 2, 3, 4, 5]\n",
    "evens = list(filter(lambda x: x % 2 == 0, nums))\n",
    "print(evens)  # Output: [2, 4]"
   ]
  },
  {
   "cell_type": "code",
   "execution_count": 3,
   "id": "dee35bf8",
   "metadata": {},
   "outputs": [
    {
     "name": "stdout",
     "output_type": "stream",
     "text": [
      "24\n"
     ]
    }
   ],
   "source": [
    "from functools import reduce\n",
    "nums = [1, 2, 3, 4]\n",
    "product = reduce(lambda x, y: x * y, nums)\n",
    "print(product)  # Output: 24 (1×2×3×4)"
   ]
  },
  {
   "cell_type": "code",
   "execution_count": 4,
   "id": "4434f54b",
   "metadata": {},
   "outputs": [],
   "source": [
    "l = [2,3,4,5,6]"
   ]
  },
  {
   "cell_type": "code",
   "execution_count": 16,
   "id": "ad058f00",
   "metadata": {},
   "outputs": [],
   "source": [
    "def test(l):\n",
    "    l1 = []\n",
    "    for i in l:\n",
    "        l1.append(i**2)\n",
    "    return l1"
   ]
  },
  {
   "cell_type": "code",
   "execution_count": 17,
   "id": "5a57e7c5",
   "metadata": {},
   "outputs": [
    {
     "data": {
      "text/plain": [
       "[4, 9, 16, 25, 36]"
      ]
     },
     "execution_count": 17,
     "metadata": {},
     "output_type": "execute_result"
    }
   ],
   "source": [
    "test(l)"
   ]
  },
  {
   "cell_type": "code",
   "execution_count": 21,
   "id": "b2600625",
   "metadata": {},
   "outputs": [
    {
     "data": {
      "text/plain": [
       "[2, 3, 4, 5, 6]"
      ]
     },
     "execution_count": 21,
     "metadata": {},
     "output_type": "execute_result"
    }
   ],
   "source": [
    "l"
   ]
  },
  {
   "cell_type": "code",
   "execution_count": null,
   "id": "3ad64d44",
   "metadata": {},
   "outputs": [],
   "source": [
    "def test(l):\n",
    "    l1 = []\n",
    "    for i in l:\n",
    "        l1.append(i**2)\n",
    "        return l1          # indented"
   ]
  },
  {
   "cell_type": "code",
   "execution_count": 23,
   "id": "cf6afb97",
   "metadata": {},
   "outputs": [
    {
     "data": {
      "text/plain": [
       "[4]"
      ]
     },
     "execution_count": 23,
     "metadata": {},
     "output_type": "execute_result"
    }
   ],
   "source": [
    "test(l)"
   ]
  },
  {
   "cell_type": "markdown",
   "id": "0f2852db",
   "metadata": {},
   "source": [
    "\n",
    "\n",
    "### ✅ Version 1:\n",
    "\n",
    "```python\n",
    "l1 = []  # Global variable\n",
    "\n",
    "def test(l):\n",
    "    for i in l:\n",
    "        l1.append(i**2)\n",
    "    return l1\n",
    "```\n",
    "\n",
    "#### 🔍 What's happening?\n",
    "\n",
    "* `l1` is defined **outside** the function — it's a **global variable**.\n",
    "* Each time we call `test()`, we are **adding to the same list `l1`**.\n",
    "* So the result of the second call will **include** results from the **first call**, and so on.\n",
    "* This can cause **unexpected behavior** (like duplicates or wrong output over multiple calls).\n",
    "\n",
    "#### 🎯 Example:\n",
    "\n",
    "```python\n",
    "test([1, 2])    # [1, 4]\n",
    "test([3])       # [1, 4, 9] ← appends to same l1 again!\n",
    "```\n",
    "\n",
    "---\n",
    "\n",
    "### ✅ Version 2:\n",
    "\n",
    "```python\n",
    "def test(l):\n",
    "    l1 = []  # Local variable\n",
    "    for i in l:\n",
    "        l1.append(i**2)\n",
    "    return l1\n",
    "```\n",
    "\n",
    "#### 🔍 What's happening?\n",
    "\n",
    "* `l1` is defined **inside** the function — it's a **local variable**.\n",
    "* Every time we call `test()`, a **fresh new list** `l1` is created.\n",
    "* No interference from previous calls. Output is **clean and predictable**.\n",
    "\n",
    "#### 🎯 Example:\n",
    "\n",
    "```python\n",
    "test([1, 2])    # [1, 4]\n",
    "test([3])       # [9]\n",
    "```\n",
    "\n",
    "---\n",
    "\n",
    "### 🚨 Summary:\n",
    "\n",
    "| Feature        | Version 1                     | Version 2                 |\n",
    "| -------------- | ----------------------------- | ------------------------- |\n",
    "| `l1` defined   | Outside (Global)              | Inside (Local)            |\n",
    "| Memory reused? | ✅ Yes – shared list           | ❌ No – new list each time |\n",
    "| Risk of bugs   | High – accumulates old values | Low – safe and clean      |\n",
    "| Recommended?   | ❌ No                          | ✅ Yes                     |\n",
    "\n",
    "---\n",
    "\n",
    "### ✅ **Conclusion**:\n",
    "\n",
    "We should **always prefer Version 2**, where variables are **local** inside the function unless we have a very specific reason to use a global variable.\n"
   ]
  },
  {
   "cell_type": "code",
   "execution_count": 20,
   "id": "8ca94f05",
   "metadata": {},
   "outputs": [
    {
     "ename": "TypeError",
     "evalue": "map() must have at least two arguments.",
     "output_type": "error",
     "traceback": [
      "\u001b[1;31m---------------------------------------------------------------------------\u001b[0m",
      "\u001b[1;31mTypeError\u001b[0m                                 Traceback (most recent call last)",
      "Cell \u001b[1;32mIn[20], line 1\u001b[0m\n\u001b[1;32m----> 1\u001b[0m \u001b[38;5;28;43mmap\u001b[39;49m\u001b[43m(\u001b[49m\u001b[43m)\u001b[49m\n",
      "\u001b[1;31mTypeError\u001b[0m: map() must have at least two arguments."
     ]
    }
   ],
   "source": [
    "map()"
   ]
  },
  {
   "cell_type": "code",
   "execution_count": null,
   "id": "f6e20e7d",
   "metadata": {},
   "outputs": [],
   "source": [
    "def sq(x):\n",
    "    return x**2"
   ]
  },
  {
   "cell_type": "code",
   "execution_count": null,
   "id": "c200113f",
   "metadata": {},
   "outputs": [
    {
     "data": {
      "text/plain": [
       "<map at 0x2304738a1a0>"
      ]
     },
     "execution_count": 9,
     "metadata": {},
     "output_type": "execute_result"
    }
   ],
   "source": [
    "map(sq,l)"
   ]
  },
  {
   "cell_type": "code",
   "execution_count": null,
   "id": "68e716ec",
   "metadata": {},
   "outputs": [
    {
     "data": {
      "text/plain": [
       "[4, 9, 16, 25, 36]"
      ]
     },
     "execution_count": 10,
     "metadata": {},
     "output_type": "execute_result"
    }
   ],
   "source": [
    "list(map(sq, l))"
   ]
  },
  {
   "cell_type": "code",
   "execution_count": null,
   "id": "7ba5cb7f",
   "metadata": {},
   "outputs": [
    {
     "data": {
      "text/plain": [
       "[4, 9, 16, 25, 36]"
      ]
     },
     "execution_count": 11,
     "metadata": {},
     "output_type": "execute_result"
    }
   ],
   "source": [
    "list(map(lambda x : x**2, l))"
   ]
  },
  {
   "cell_type": "code",
   "execution_count": null,
   "id": "ec99e5d6",
   "metadata": {},
   "outputs": [
    {
     "data": {
      "text/plain": [
       "[7, 9, 11, 13, 15]"
      ]
     },
     "execution_count": 15,
     "metadata": {},
     "output_type": "execute_result"
    }
   ],
   "source": [
    "l1 = [1,2,3,4,5]\n",
    "l2 = [6,7,8,9,10]\n",
    "\n",
    "list(map(lambda x,y : x+y , l1, l2))"
   ]
  },
  {
   "cell_type": "code",
   "execution_count": null,
   "id": "173f78c7",
   "metadata": {},
   "outputs": [],
   "source": [
    "def add(x,y):\n",
    "    return x+y"
   ]
  },
  {
   "cell_type": "code",
   "execution_count": null,
   "id": "6727d238",
   "metadata": {},
   "outputs": [
    {
     "data": {
      "text/plain": [
       "[7, 9, 11, 13, 15]"
      ]
     },
     "execution_count": 17,
     "metadata": {},
     "output_type": "execute_result"
    }
   ],
   "source": [
    "list(map(add , l1, l2))"
   ]
  },
  {
   "cell_type": "code",
   "execution_count": null,
   "id": "a913a664",
   "metadata": {},
   "outputs": [
    {
     "data": {
      "text/plain": [
       "['P', 'W', 'S', 'K', 'I', 'L', 'L', 'S']"
      ]
     },
     "execution_count": 18,
     "metadata": {},
     "output_type": "execute_result"
    }
   ],
   "source": [
    "s = \"pwskills\"\n",
    "list(map(lambda s : s.upper(),s))"
   ]
  },
  {
   "cell_type": "code",
   "execution_count": null,
   "id": "c903aadc",
   "metadata": {},
   "outputs": [],
   "source": [
    "from functools import reduce"
   ]
  },
  {
   "cell_type": "code",
   "execution_count": null,
   "id": "8994566c",
   "metadata": {},
   "outputs": [],
   "source": [
    "l = [1,2,3,3,4,5]"
   ]
  },
  {
   "cell_type": "code",
   "execution_count": null,
   "id": "d44da464",
   "metadata": {},
   "outputs": [
    {
     "data": {
      "text/plain": [
       "18"
      ]
     },
     "execution_count": 30,
     "metadata": {},
     "output_type": "execute_result"
    }
   ],
   "source": [
    "reduce(lambda x,y : x+y,l)"
   ]
  },
  {
   "cell_type": "code",
   "execution_count": null,
   "id": "aa9f90db",
   "metadata": {},
   "outputs": [
    {
     "ename": "TypeError",
     "evalue": "<lambda>() missing 1 required positional argument: 'z'",
     "output_type": "error",
     "traceback": [
      "\u001b[1;31m---------------------------------------------------------------------------\u001b[0m",
      "\u001b[1;31mTypeError\u001b[0m                                 Traceback (most recent call last)",
      "Cell \u001b[1;32mIn[31], line 1\u001b[0m\n\u001b[1;32m----> 1\u001b[0m \u001b[43mreduce\u001b[49m\u001b[43m(\u001b[49m\u001b[38;5;28;43;01mlambda\u001b[39;49;00m\u001b[43m \u001b[49m\u001b[43mx\u001b[49m\u001b[43m,\u001b[49m\u001b[43my\u001b[49m\u001b[43m,\u001b[49m\u001b[43mz\u001b[49m\u001b[43m \u001b[49m\u001b[43m:\u001b[49m\u001b[43m \u001b[49m\u001b[43mx\u001b[49m\u001b[38;5;241;43m+\u001b[39;49m\u001b[43my\u001b[49m\u001b[38;5;241;43m+\u001b[39;49m\u001b[43mz\u001b[49m\u001b[43m \u001b[49m\u001b[43m,\u001b[49m\u001b[43ml\u001b[49m\u001b[43m)\u001b[49m\n",
      "\u001b[1;31mTypeError\u001b[0m: <lambda>() missing 1 required positional argument: 'z'"
     ]
    }
   ],
   "source": [
    "reduce(lambda x,y,z : x+y+z ,l)"
   ]
  },
  {
   "cell_type": "code",
   "execution_count": null,
   "id": "f7e37947",
   "metadata": {},
   "outputs": [
    {
     "ename": "TypeError",
     "evalue": "reduce() of empty iterable with no initial value",
     "output_type": "error",
     "traceback": [
      "\u001b[1;31m---------------------------------------------------------------------------\u001b[0m",
      "\u001b[1;31mTypeError\u001b[0m                                 Traceback (most recent call last)",
      "Cell \u001b[1;32mIn[32], line 1\u001b[0m\n\u001b[1;32m----> 1\u001b[0m \u001b[43mreduce\u001b[49m\u001b[43m(\u001b[49m\u001b[38;5;28;43;01mlambda\u001b[39;49;00m\u001b[43m \u001b[49m\u001b[43mx\u001b[49m\u001b[43m,\u001b[49m\u001b[43my\u001b[49m\u001b[43m \u001b[49m\u001b[43m:\u001b[49m\u001b[43m \u001b[49m\u001b[43mx\u001b[49m\u001b[38;5;241;43m+\u001b[39;49m\u001b[43my\u001b[49m\u001b[43m,\u001b[49m\u001b[43m \u001b[49m\u001b[43m[\u001b[49m\u001b[43m]\u001b[49m\u001b[43m)\u001b[49m\n",
      "\u001b[1;31mTypeError\u001b[0m: reduce() of empty iterable with no initial value"
     ]
    }
   ],
   "source": [
    "reduce(lambda x,y : x+y, [])"
   ]
  },
  {
   "cell_type": "code",
   "execution_count": null,
   "id": "0974a737",
   "metadata": {},
   "outputs": [
    {
     "data": {
      "text/plain": [
       "1"
      ]
     },
     "execution_count": 33,
     "metadata": {},
     "output_type": "execute_result"
    }
   ],
   "source": [
    "reduce(lambda x,y : x+y, [1])"
   ]
  },
  {
   "cell_type": "code",
   "execution_count": null,
   "id": "16c0ccbc",
   "metadata": {},
   "outputs": [
    {
     "data": {
      "text/plain": [
       "360"
      ]
     },
     "execution_count": 34,
     "metadata": {},
     "output_type": "execute_result"
    }
   ],
   "source": [
    "reduce(lambda x,y : x*y,l)"
   ]
  },
  {
   "cell_type": "code",
   "execution_count": null,
   "id": "02b9ea13",
   "metadata": {},
   "outputs": [
    {
     "data": {
      "text/plain": [
       "[1, 2, 3, 3, 4, 5]"
      ]
     },
     "execution_count": 35,
     "metadata": {},
     "output_type": "execute_result"
    }
   ],
   "source": [
    "l"
   ]
  },
  {
   "cell_type": "code",
   "execution_count": null,
   "id": "e2aefbcd",
   "metadata": {},
   "outputs": [
    {
     "data": {
      "text/plain": [
       "5"
      ]
     },
     "execution_count": 36,
     "metadata": {},
     "output_type": "execute_result"
    }
   ],
   "source": [
    "reduce(lambda x,y : x if x>y else y, l)"
   ]
  },
  {
   "cell_type": "code",
   "execution_count": null,
   "id": "4c2dc655",
   "metadata": {},
   "outputs": [
    {
     "data": {
      "text/plain": [
       "[1, 2, 3, 3, 4, 5]"
      ]
     },
     "execution_count": 36,
     "metadata": {},
     "output_type": "execute_result"
    }
   ],
   "source": [
    "l"
   ]
  },
  {
   "cell_type": "code",
   "execution_count": null,
   "id": "23736072",
   "metadata": {},
   "outputs": [
    {
     "data": {
      "text/plain": [
       "[2, 4]"
      ]
     },
     "execution_count": 37,
     "metadata": {},
     "output_type": "execute_result"
    }
   ],
   "source": [
    "list(filter(lambda x : x % 2 == 0, l))"
   ]
  },
  {
   "cell_type": "code",
   "execution_count": null,
   "id": "e63584ca",
   "metadata": {},
   "outputs": [
    {
     "data": {
      "text/plain": [
       "[1, 3, 3, 5]"
      ]
     },
     "execution_count": 39,
     "metadata": {},
     "output_type": "execute_result"
    }
   ],
   "source": [
    "list(filter(lambda x : x % 2 != 0, l))"
   ]
  },
  {
   "cell_type": "code",
   "execution_count": null,
   "id": "18cdc5c6",
   "metadata": {},
   "outputs": [],
   "source": [
    "l1 = [-3, 4, 5, 6, -1, -5]"
   ]
  },
  {
   "cell_type": "code",
   "execution_count": null,
   "id": "1a8f651d",
   "metadata": {},
   "outputs": [
    {
     "data": {
      "text/plain": [
       "[-3, -1, -5]"
      ]
     },
     "execution_count": 41,
     "metadata": {},
     "output_type": "execute_result"
    }
   ],
   "source": [
    "list(filter(lambda x : x<0 , l1))"
   ]
  },
  {
   "cell_type": "code",
   "execution_count": null,
   "id": "312e41a0",
   "metadata": {},
   "outputs": [
    {
     "data": {
      "text/plain": [
       "[4, 5, 6]"
      ]
     },
     "execution_count": 42,
     "metadata": {},
     "output_type": "execute_result"
    }
   ],
   "source": [
    "list(filter(lambda x : x>0 , l1))"
   ]
  },
  {
   "cell_type": "code",
   "execution_count": null,
   "id": "f9fdc44f",
   "metadata": {},
   "outputs": [],
   "source": [
    "l2 = [\"sudh\", \"pwskills\", \"kumar\", \"bengalore\", \"krish\"]"
   ]
  },
  {
   "cell_type": "code",
   "execution_count": null,
   "id": "8448c017",
   "metadata": {},
   "outputs": [
    {
     "data": {
      "text/plain": [
       "['sudh', 'kumar', 'krish']"
      ]
     },
     "execution_count": 51,
     "metadata": {},
     "output_type": "execute_result"
    }
   ],
   "source": [
    "list(filter(lambda x : len(x)<6, l2))"
   ]
  }
 ],
 "metadata": {
  "kernelspec": {
   "display_name": "Python 3",
   "language": "python",
   "name": "python3"
  },
  "language_info": {
   "codemirror_mode": {
    "name": "ipython",
    "version": 3
   },
   "file_extension": ".py",
   "mimetype": "text/x-python",
   "name": "python",
   "nbconvert_exporter": "python",
   "pygments_lexer": "ipython3",
   "version": "3.13.0"
  }
 },
 "nbformat": 4,
 "nbformat_minor": 5
}
