{
 "cells": [
  {
   "cell_type": "markdown",
   "id": "f38f3cbc",
   "metadata": {},
   "source": [
    "- Generator Function\n",
    "- iterator\n",
    "- iterable"
   ]
  },
  {
   "cell_type": "markdown",
   "id": "50fcaf08",
   "metadata": {},
   "source": [
    "\n",
    "* By default, a **string** is **iterable**, but it is **not an iterator**.\n",
    "* To get an **iterator** from a string, you use the `iter()` function on the string.\n",
    "* An **`int` object is not iterable**, so you cannot loop over it or convert it to an iterator.\n"
   ]
  },
  {
   "cell_type": "markdown",
   "id": "615c12ed",
   "metadata": {},
   "source": [
    "\n",
    "---\n",
    "\n",
    "# **Generator Function vs Iterator vs Iterable**\n",
    "\n",
    "---\n",
    "\n",
    "## 1. **Iterable**\n",
    "\n",
    "### 🔹 What is an Iterable?\n",
    "\n",
    "* **Definition:** An iterable is any Python object that **can be looped over** (iterated). It contains elements but does **not** produce them one by one by itself.\n",
    "* **How it works internally:** It implements the special method `__iter__()`, which returns an **iterator** object.\n",
    "* **Examples:** Lists, tuples, strings, dictionaries, sets, and even generators are iterables.\n",
    "* **Usage:** You can pass an iterable directly to a `for` loop or use it with functions like `list()`, `sum()`, etc.\n",
    "\n",
    "### 🔹 Why Iterable?\n",
    "\n",
    "* To provide a uniform interface to access elements sequentially without exposing the internal structure.\n",
    "* To allow Python’s `for` loops and other constructs to work seamlessly with different container types.\n",
    "\n",
    "### 🔹 Example of Iterable:\n",
    "\n",
    "```python\n",
    "my_list = [10, 20, 30]  # List is iterable\n",
    "\n",
    "for item in my_list:    # Under the hood, Python calls iter(my_list) to get iterator\n",
    "    print(item)\n",
    "```\n",
    "\n",
    "---\n",
    "\n",
    "## 2. **Iterator**\n",
    "\n",
    "### 🔹 What is an Iterator?\n",
    "\n",
    "* **Definition:** An iterator is an object that **fetches elements one at a time** from an iterable.\n",
    "* **Key methods it implements:**\n",
    "\n",
    "  * `__iter__()` — returns the iterator object itself. This makes the iterator also an iterable.\n",
    "  * `__next__()` — returns the next element. Raises `StopIteration` when no elements are left.\n",
    "* **Creation:** You get an iterator by calling `iter()` on an iterable.\n",
    "* **Manual usage:** You can use the `next()` function to get items one by one.\n",
    "\n",
    "### 🔹 Why Iterator?\n",
    "\n",
    "* To **control traversal** over data, allowing lazy evaluation (process one item at a time).\n",
    "* Useful when dealing with large data where loading all elements at once is not feasible.\n",
    "* Provides a consistent interface to access elements sequentially.\n",
    "\n",
    "### 🔹 Example of Iterator:\n",
    "\n",
    "```python\n",
    "my_list = [10, 20, 30]\n",
    "my_iter = iter(my_list)  # Create an iterator\n",
    "\n",
    "print(next(my_iter))     # Output: 10\n",
    "print(next(my_iter))     # Output: 20\n",
    "print(next(my_iter))     # Output: 30\n",
    "# next(my_iter) now would raise StopIteration\n",
    "```\n",
    "\n",
    "---\n",
    "\n",
    "## 3. **Generator Function**\n",
    "\n",
    "### 🔹 What is a Generator Function?\n",
    "\n",
    "* A **special function** defined like a normal function but uses the `yield` keyword **instead of `return`**.\n",
    "* It **produces a generator object**, which is a kind of iterator.\n",
    "* When called, it does **not** run the code immediately but returns a generator object.\n",
    "* Each call to `next()` on the generator resumes the function from where it last yielded and continues until it hits the next `yield` or finishes.\n",
    "\n",
    "### 🔹 Why Generator Functions?\n",
    "\n",
    "* **Memory efficiency:** Generates values **on the fly** without storing the entire sequence in memory.\n",
    "* **Lazy evaluation:** Useful when working with large or infinite sequences.\n",
    "* **Simplifies iterator creation:** Writing a generator function is much easier than creating a class with `__iter__()` and `__next__()`.\n",
    "\n",
    "### 🔹 Example of Generator Function:\n",
    "\n",
    "```python\n",
    "def count_up_to(n):\n",
    "    i = 1\n",
    "    while i <= n:\n",
    "        yield i    # Produces i and pauses\n",
    "        i += 1\n",
    "\n",
    "gen = count_up_to(3)   # gen is a generator object (iterator)\n",
    "\n",
    "print(next(gen))       # Output: 1\n",
    "print(next(gen))       # Output: 2\n",
    "print(next(gen))       # Output: 3\n",
    "```\n",
    "\n",
    "---\n",
    "\n",
    "## How do **Iterable**, **Iterator**, and **Generator Function** relate?\n",
    "\n",
    "| Concept                | What it Is                          | How it Works                           | Example                   | Role in Looping                 |\n",
    "| ---------------------- | ----------------------------------- | -------------------------------------- | ------------------------- | ------------------------------- |\n",
    "| **Iterable**           | Container with elements             | Has `__iter__()` that returns iterator | List, string, dict        | You can loop over it with `for` |\n",
    "| **Iterator**           | Object that iterates over elements  | Has `__next__()` and `__iter__()`      | `iter(my_list)`           | `next()` fetches next element   |\n",
    "| **Generator Function** | Function producing generator object | Uses `yield` to produce values lazily  | Custom generator function | Automatically creates iterator  |\n",
    "\n",
    "---\n",
    "\n",
    "## Everyday Analogy (Best for Intuition):\n",
    "\n",
    "| Term                   | Analogy           | Explanation                             |\n",
    "| ---------------------- | ----------------- | --------------------------------------- |\n",
    "| **Iterable**           | A Book            | Has all pages ready                     |\n",
    "| **Iterator**           | Bookmark          | Keeps track of which page you're on     |\n",
    "| **Generator Function** | A special printer | Prints pages only when you ask for them |\n",
    "\n",
    "---\n",
    "\n",
    "## Complete Example Demonstrating All:\n",
    "\n",
    "```python\n",
    "# Iterable: List\n",
    "my_list = [100, 200, 300]\n",
    "\n",
    "# Get Iterator from Iterable\n",
    "my_iterator = iter(my_list)\n",
    "\n",
    "print(next(my_iterator))  # 100\n",
    "print(next(my_iterator))  # 200\n",
    "\n",
    "# Generator Function creating Generator (which is also an Iterator)\n",
    "def simple_gen():\n",
    "    yield 'A'\n",
    "    yield 'B'\n",
    "    yield 'C'\n",
    "\n",
    "gen_obj = simple_gen()\n",
    "\n",
    "print(next(gen_obj))      # 'A'\n",
    "print(next(gen_obj))      # 'B'\n",
    "```\n",
    "\n",
    "---\n",
    "\n",
    "## Summary:\n",
    "\n",
    "| Concept            | Summary                                                                                                                 |\n",
    "| ------------------ | ----------------------------------------------------------------------------------------------------------------------- |\n",
    "| Iterable           | Any object you can loop over (`for` works on it). Has `__iter__()`.                                                     |\n",
    "| Iterator           | Object that goes through elements one-by-one. Has `__next__()`. Created from an iterable using `iter()`.                |\n",
    "| Generator Function | Special function that yields values one at a time. Returns a generator object (an iterator). Memory efficient and lazy. |\n",
    "\n",
    "---\n"
   ]
  },
  {
   "cell_type": "markdown",
   "id": "efa3d94a",
   "metadata": {},
   "source": [
    "\n",
    "\n",
    "---\n",
    "\n",
    "## 🍨 Understanding Generator Function, Iterator, and Iterable — The Ice Cream Sundae Story\n",
    "\n",
    "---\n",
    "\n",
    "### Generator Function — *The Ice Cream Maker*\n",
    "\n",
    "Imagine you’re at an ice cream shop and want a sundae. The **ice cream maker** is like a **generator function**:\n",
    "\n",
    "* It doesn’t make all the sundaes at once. Instead, it waits for you to ask.\n",
    "* When you say, **“Make me a sundae!”**, it makes **one sundae** and hands it to you right away — this is like the generator’s `yield` producing a value.\n",
    "* You can keep asking for sundaes one by one, and it will keep making them until it runs out of ingredients or you stop asking.\n",
    "\n",
    "---\n",
    "\n",
    "### Iterator — *Your Friend Helping You Eat*\n",
    "\n",
    "Now, you have a friend helping you eat those sundaes — this friend is like an **iterator**:\n",
    "\n",
    "* Your friend **remembers how many sundaes you’ve already eaten** and how many are left.\n",
    "* Every time you say, **“Give me the next bite!”**, your friend hands you the next piece — similar to calling the iterator’s `next()` method.\n",
    "* When the sundae is finished, your friend tells you, **“No more sundaes left!”** — this is like the iterator signaling the end by raising `StopIteration`.\n",
    "\n",
    "---\n",
    "\n",
    "### Iterable — *The Sundae Menu*\n",
    "\n",
    "Finally, there’s the **menu listing all the sundaes available** — that’s the **iterable**:\n",
    "\n",
    "* The menu itself doesn’t serve sundaes, but it **knows how many sundaes there are and where to find them**.\n",
    "* To enjoy the sundaes from the menu, you first ask your friend (the iterator) to start serving by saying **“Give me an iterator!”** — that’s like calling the `iter()` function on the iterable.\n",
    "* Then, your friend can give you one sundae at a time using `next()`.\n",
    "\n",
    "---\n",
    "\n",
    "### Quick Summary:\n",
    "\n",
    "| Term               | Ice Cream Analogy                        | Programming Concept                                      |\n",
    "| ------------------ | ---------------------------------------- | -------------------------------------------------------- |\n",
    "| Generator Function | Ice cream maker making sundaes on demand | Function using `yield` to produce values lazily          |\n",
    "| Iterator           | Friend who serves and tracks the sundaes | Object with `__next__()` method to get items one by one  |\n",
    "| Iterable           | Menu listing available sundaes           | Collection that can return an iterator with `__iter__()` |\n",
    "\n",
    "---\n"
   ]
  },
  {
   "cell_type": "code",
   "execution_count": 10,
   "id": "d570f399",
   "metadata": {},
   "outputs": [
    {
     "data": {
      "text/plain": [
       "range(0, 10)"
      ]
     },
     "execution_count": 10,
     "metadata": {},
     "output_type": "execute_result"
    }
   ],
   "source": [
    "range(10)"
   ]
  },
  {
   "cell_type": "code",
   "execution_count": 11,
   "id": "d2313dbe",
   "metadata": {},
   "outputs": [
    {
     "name": "stdout",
     "output_type": "stream",
     "text": [
      "0\n",
      "1\n",
      "2\n",
      "3\n",
      "4\n",
      "5\n",
      "6\n",
      "7\n",
      "8\n",
      "9\n"
     ]
    }
   ],
   "source": [
    "for i in range(10):\n",
    "    print(i)"
   ]
  },
  {
   "cell_type": "code",
   "execution_count": 12,
   "id": "0b265fd0",
   "metadata": {},
   "outputs": [
    {
     "data": {
      "text/plain": [
       "<generator object test_fib at 0x0000021D45E5D380>"
      ]
     },
     "execution_count": 12,
     "metadata": {},
     "output_type": "execute_result"
    }
   ],
   "source": [
    "def test_fib(n):\n",
    "    a,b = 0,1\n",
    "    for i in range(n):\n",
    "        yield a\n",
    "        a,b = b, a+b\n",
    "test_fib(10)"
   ]
  },
  {
   "cell_type": "code",
   "execution_count": 13,
   "id": "8d3400de",
   "metadata": {},
   "outputs": [
    {
     "name": "stdout",
     "output_type": "stream",
     "text": [
      "0\n",
      "1\n",
      "1\n",
      "2\n",
      "3\n",
      "5\n",
      "8\n",
      "13\n",
      "21\n",
      "34\n"
     ]
    }
   ],
   "source": [
    "for i in test_fib(10):\n",
    "    print(i)"
   ]
  },
  {
   "cell_type": "code",
   "execution_count": 14,
   "id": "3af95510",
   "metadata": {},
   "outputs": [],
   "source": [
    "def test_fib1():\n",
    "    a,b = 0,1\n",
    "    while True:\n",
    "        yield a\n",
    "        a,b = b, a+b"
   ]
  },
  {
   "cell_type": "code",
   "execution_count": 15,
   "id": "eeed8e74",
   "metadata": {},
   "outputs": [],
   "source": [
    "fib = test_fib1()"
   ]
  },
  {
   "cell_type": "code",
   "execution_count": 16,
   "id": "20616097",
   "metadata": {},
   "outputs": [
    {
     "data": {
      "text/plain": [
       "generator"
      ]
     },
     "execution_count": 16,
     "metadata": {},
     "output_type": "execute_result"
    }
   ],
   "source": [
    "type(fib)"
   ]
  },
  {
   "cell_type": "code",
   "execution_count": 17,
   "id": "ea12bcff",
   "metadata": {},
   "outputs": [
    {
     "name": "stdout",
     "output_type": "stream",
     "text": [
      "0\n",
      "1\n",
      "1\n",
      "2\n",
      "3\n",
      "5\n",
      "8\n",
      "13\n",
      "21\n",
      "34\n"
     ]
    }
   ],
   "source": [
    "for i in range(10):\n",
    "    print(next(fib))"
   ]
  },
  {
   "cell_type": "code",
   "execution_count": 18,
   "id": "e967652f",
   "metadata": {},
   "outputs": [],
   "source": [
    "s = \"sudh\""
   ]
  },
  {
   "cell_type": "code",
   "execution_count": 19,
   "id": "0a65aae6",
   "metadata": {},
   "outputs": [
    {
     "name": "stdout",
     "output_type": "stream",
     "text": [
      "s\n",
      "u\n",
      "d\n",
      "h\n"
     ]
    }
   ],
   "source": [
    "for i in s:\n",
    "    print(i)"
   ]
  },
  {
   "cell_type": "code",
   "execution_count": 20,
   "id": "0117bc5d",
   "metadata": {},
   "outputs": [
    {
     "data": {
      "text/plain": [
       "'sudh'"
      ]
     },
     "execution_count": 20,
     "metadata": {},
     "output_type": "execute_result"
    }
   ],
   "source": [
    "s"
   ]
  },
  {
   "cell_type": "code",
   "execution_count": 21,
   "id": "1d9f0067",
   "metadata": {},
   "outputs": [
    {
     "ename": "TypeError",
     "evalue": "'str' object is not an iterator",
     "output_type": "error",
     "traceback": [
      "\u001b[1;31m---------------------------------------------------------------------------\u001b[0m",
      "\u001b[1;31mTypeError\u001b[0m                                 Traceback (most recent call last)",
      "Cell \u001b[1;32mIn[21], line 1\u001b[0m\n\u001b[1;32m----> 1\u001b[0m \u001b[38;5;28;43mnext\u001b[39;49m\u001b[43m(\u001b[49m\u001b[43ms\u001b[49m\u001b[43m)\u001b[49m\n",
      "\u001b[1;31mTypeError\u001b[0m: 'str' object is not an iterator"
     ]
    }
   ],
   "source": [
    "next(s)"
   ]
  },
  {
   "cell_type": "code",
   "execution_count": null,
   "id": "bfa6dc50",
   "metadata": {},
   "outputs": [],
   "source": [
    "s1 = iter(s)"
   ]
  },
  {
   "cell_type": "code",
   "execution_count": null,
   "id": "089fd7b5",
   "metadata": {},
   "outputs": [
    {
     "data": {
      "text/plain": [
       "'s'"
      ]
     },
     "execution_count": 31,
     "metadata": {},
     "output_type": "execute_result"
    }
   ],
   "source": [
    "next(s1)"
   ]
  },
  {
   "cell_type": "code",
   "execution_count": null,
   "id": "45a63c43",
   "metadata": {},
   "outputs": [
    {
     "data": {
      "text/plain": [
       "'u'"
      ]
     },
     "execution_count": 32,
     "metadata": {},
     "output_type": "execute_result"
    }
   ],
   "source": [
    "next(s1)"
   ]
  },
  {
   "cell_type": "code",
   "execution_count": null,
   "id": "273a86ed",
   "metadata": {},
   "outputs": [
    {
     "data": {
      "text/plain": [
       "'d'"
      ]
     },
     "execution_count": 33,
     "metadata": {},
     "output_type": "execute_result"
    }
   ],
   "source": [
    "next(s1)"
   ]
  },
  {
   "cell_type": "code",
   "execution_count": null,
   "id": "acbee283",
   "metadata": {},
   "outputs": [
    {
     "data": {
      "text/plain": [
       "'h'"
      ]
     },
     "execution_count": 34,
     "metadata": {},
     "output_type": "execute_result"
    }
   ],
   "source": [
    "next(s1)"
   ]
  },
  {
   "cell_type": "code",
   "execution_count": null,
   "id": "58951fe4",
   "metadata": {},
   "outputs": [
    {
     "ename": "StopIteration",
     "evalue": "",
     "output_type": "error",
     "traceback": [
      "\u001b[1;31m---------------------------------------------------------------------------\u001b[0m",
      "\u001b[1;31mStopIteration\u001b[0m                             Traceback (most recent call last)",
      "Cell \u001b[1;32mIn[35], line 1\u001b[0m\n\u001b[1;32m----> 1\u001b[0m \u001b[38;5;28;43mnext\u001b[39;49m\u001b[43m(\u001b[49m\u001b[43ms1\u001b[49m\u001b[43m)\u001b[49m\n",
      "\u001b[1;31mStopIteration\u001b[0m: "
     ]
    }
   ],
   "source": [
    "next(s1)"
   ]
  },
  {
   "cell_type": "code",
   "execution_count": null,
   "id": "88c515ad",
   "metadata": {},
   "outputs": [
    {
     "data": {
      "text/plain": [
       "str"
      ]
     },
     "execution_count": 36,
     "metadata": {},
     "output_type": "execute_result"
    }
   ],
   "source": [
    "type(s)"
   ]
  },
  {
   "cell_type": "code",
   "execution_count": null,
   "id": "0ff490dc",
   "metadata": {},
   "outputs": [
    {
     "data": {
      "text/plain": [
       "str_ascii_iterator"
      ]
     },
     "execution_count": 37,
     "metadata": {},
     "output_type": "execute_result"
    }
   ],
   "source": [
    "type(s1)"
   ]
  },
  {
   "cell_type": "code",
   "execution_count": null,
   "id": "ff8fd065",
   "metadata": {},
   "outputs": [
    {
     "ename": "TypeError",
     "evalue": "'int' object is not an iterator",
     "output_type": "error",
     "traceback": [
      "\u001b[1;31m---------------------------------------------------------------------------\u001b[0m",
      "\u001b[1;31mTypeError\u001b[0m                                 Traceback (most recent call last)",
      "Cell \u001b[1;32mIn[38], line 1\u001b[0m\n\u001b[1;32m----> 1\u001b[0m \u001b[38;5;28;43mnext\u001b[39;49m\u001b[43m(\u001b[49m\u001b[38;5;241;43m45\u001b[39;49m\u001b[43m)\u001b[49m\n",
      "\u001b[1;31mTypeError\u001b[0m: 'int' object is not an iterator"
     ]
    }
   ],
   "source": [
    "next(45)"
   ]
  },
  {
   "cell_type": "code",
   "execution_count": null,
   "id": "7e9d259c",
   "metadata": {},
   "outputs": [
    {
     "ename": "TypeError",
     "evalue": "'int' object is not iterable",
     "output_type": "error",
     "traceback": [
      "\u001b[1;31m---------------------------------------------------------------------------\u001b[0m",
      "\u001b[1;31mTypeError\u001b[0m                                 Traceback (most recent call last)",
      "Cell \u001b[1;32mIn[39], line 1\u001b[0m\n\u001b[1;32m----> 1\u001b[0m \u001b[38;5;28;43miter\u001b[39;49m\u001b[43m(\u001b[49m\u001b[38;5;241;43m45\u001b[39;49m\u001b[43m)\u001b[49m\n",
      "\u001b[1;31mTypeError\u001b[0m: 'int' object is not iterable"
     ]
    }
   ],
   "source": [
    "iter(45)"
   ]
  },
  {
   "cell_type": "code",
   "execution_count": null,
   "id": "0555a6d9",
   "metadata": {},
   "outputs": [],
   "source": [
    "def count_test(n):\n",
    "    count = 1\n",
    "    while count < n :\n",
    "        yield count\n",
    "        count = count + 1"
   ]
  },
  {
   "cell_type": "code",
   "execution_count": null,
   "id": "9efd8489",
   "metadata": {},
   "outputs": [],
   "source": [
    "c = count_test(5)"
   ]
  },
  {
   "cell_type": "code",
   "execution_count": null,
   "id": "bab8469e",
   "metadata": {},
   "outputs": [
    {
     "name": "stdout",
     "output_type": "stream",
     "text": [
      "1\n",
      "2\n",
      "3\n",
      "4\n"
     ]
    }
   ],
   "source": [
    "for i in c:\n",
    "    print(i)"
   ]
  },
  {
   "cell_type": "code",
   "execution_count": null,
   "id": "b310aafd",
   "metadata": {},
   "outputs": [],
   "source": [
    "def count_test(n):\n",
    "    count = 1\n",
    "    while count <= n :\n",
    "        yield count\n",
    "        count = count + 1"
   ]
  },
  {
   "cell_type": "code",
   "execution_count": null,
   "id": "617030cd",
   "metadata": {},
   "outputs": [],
   "source": [
    "c = count_test(5)"
   ]
  },
  {
   "cell_type": "code",
   "execution_count": null,
   "id": "c41e0a19",
   "metadata": {},
   "outputs": [
    {
     "name": "stdout",
     "output_type": "stream",
     "text": [
      "1\n",
      "2\n",
      "3\n",
      "4\n",
      "5\n"
     ]
    }
   ],
   "source": [
    "for i in c:\n",
    "    print(i)"
   ]
  },
  {
   "cell_type": "markdown",
   "id": "f49ee2cd",
   "metadata": {},
   "source": []
  }
 ],
 "metadata": {
  "kernelspec": {
   "display_name": "Python 3",
   "language": "python",
   "name": "python3"
  },
  "language_info": {
   "codemirror_mode": {
    "name": "ipython",
    "version": 3
   },
   "file_extension": ".py",
   "mimetype": "text/x-python",
   "name": "python",
   "nbconvert_exporter": "python",
   "pygments_lexer": "ipython3",
   "version": "3.13.0"
  }
 },
 "nbformat": 4,
 "nbformat_minor": 5
}
