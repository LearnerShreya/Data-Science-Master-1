{
 "cells": [
  {
   "cell_type": "markdown",
   "id": "06614126",
   "metadata": {},
   "source": [
    "### Python Functions - Key Details\n",
    "\n",
    "#### 1. **Function Definition**\n",
    "Use `def` to define a function.\n",
    "\n",
    "```python\n",
    "def function_name(parameters):\n",
    "    pass  # Optional code block\n",
    "```\n",
    "\n",
    "#### 2. **Calling a Function**\n",
    "Invoke the function by its name with parentheses.\n",
    "\n",
    "```python\n",
    "function_name(arguments)\n",
    "```\n",
    "\n",
    "#### 3. **Return Statement**\n",
    "Use `return` to exit a function and return a value.\n",
    "\n",
    "```python\n",
    "def add(a, b):\n",
    "    return a + b\n",
    "```\n",
    "\n",
    "#### 4. **Default Parameters**\n",
    "Provide default values for parameters.\n",
    "\n",
    "```python\n",
    "def greet(name=\"Guest\"):\n",
    "    print(f\"Hello, {name}!\")\n",
    "```\n",
    "\n",
    "#### 5. **Arbitrary Arguments**\n",
    "- `*args` for multiple arguments.\n",
    "- `**kwargs` for keyword arguments.\n",
    "\n",
    "```python\n",
    "def sum_all(*args):\n",
    "    return sum(args)\n",
    "```\n",
    "\n",
    "#### 6. **Lambda Functions**\n",
    "Anonymous, single-expression functions.\n",
    "\n",
    "```python\n",
    "add = lambda x, y: x + y\n",
    "```\n",
    "\n",
    "#### 7. **Pass Statement**\n",
    "Use `pass` as a placeholder for empty function bodies.\n",
    "\n",
    "```python\n",
    "def my_function():\n",
    "    pass\n",
    "```\n",
    "\n",
    "#### 8. **Scope**\n",
    "- **Local**: Variables inside a function.\n",
    "- **Global**: Accessible throughout unless overridden.\n",
    "\n",
    "```python\n",
    "x = 10  # Global\n",
    "\n",
    "def my_function():\n",
    "    y = 5  # Local\n",
    "    pass\n",
    "```"
   ]
  },
  {
   "cell_type": "markdown",
   "id": "badea2bc",
   "metadata": {},
   "source": [
    "## Notes on `*args` and `**kwargs`\n",
    "\n",
    "#### 1. **`*args` (For Non-keyword Arguments)**\n",
    "- Use `*args` when you want to pass multiple arguments into a function without specifying the number of arguments.\n",
    "- It collects extra arguments as a tuple.\n",
    "\n",
    "```python\n",
    "def example(*args):\n",
    "    for arg in args:\n",
    "        print(arg)\n",
    "\n",
    "example(1, 2, 3)  # Outputs: 1, 2, 3\n",
    "```\n",
    "\n",
    "#### 2. **`**kwargs` (For Keyword Arguments)**\n",
    "- Use `**kwargs` to pass multiple key-value pairs (like a dictionary) into a function.\n",
    "- It collects extra keyword arguments as a dictionary.\n",
    "\n",
    "```python\n",
    "def example(**kwargs):\n",
    "    for key, value in kwargs.items():\n",
    "        print(f\"{key}: {value}\")\n",
    "\n",
    "example(name=\"Shreya\", age=20)\n",
    "# Outputs:\n",
    "# name: Shreya\n",
    "# age: 20\n",
    "```\n",
    "\n",
    "#### **Using Both `*args` and `**kwargs`**\n",
    "- You can combine both to handle any number of positional and keyword arguments.\n",
    "\n",
    "```python\n",
    "def example(*args, **kwargs):\n",
    "    print(\"Positional args:\", args)\n",
    "    print(\"Keyword args:\", kwargs)\n",
    "\n",
    "example(1, 2, name=\"Shreya\", age=20)\n",
    "# Outputs:\n",
    "# Positional args: (1, 2)\n",
    "# Keyword args: {'name': 'Shreya', 'age': 20}\n",
    "```\n",
    "\n",
    "In summary:\n",
    "- `*args` lets you pass multiple positional arguments (as a tuple).\n",
    "- `**kwargs` lets you pass multiple keyword arguments (as a dictionary)."
   ]
  },
  {
   "cell_type": "code",
   "execution_count": null,
   "id": "618a1ae2",
   "metadata": {},
   "outputs": [],
   "source": [
    "print(\"this is my print\")"
   ]
  },
  {
   "cell_type": "code",
   "execution_count": 95,
   "id": "692d3008",
   "metadata": {},
   "outputs": [],
   "source": [
    "l = [324,45,45,45]"
   ]
  },
  {
   "cell_type": "code",
   "execution_count": null,
   "id": "e40f4b40",
   "metadata": {},
   "outputs": [],
   "source": [
    "len(l)"
   ]
  },
  {
   "cell_type": "code",
   "execution_count": null,
   "id": "f5d57086",
   "metadata": {},
   "outputs": [],
   "source": [
    "type(l)"
   ]
  },
  {
   "cell_type": "code",
   "execution_count": 98,
   "id": "c51e59fb",
   "metadata": {},
   "outputs": [],
   "source": [
    "def test():\n",
    "    pass"
   ]
  },
  {
   "cell_type": "code",
   "execution_count": 99,
   "id": "38a5f59d",
   "metadata": {},
   "outputs": [],
   "source": [
    "def test1():\n",
    "    print(\"this is my very very first function\")"
   ]
  },
  {
   "cell_type": "code",
   "execution_count": null,
   "id": "975b87f5",
   "metadata": {},
   "outputs": [],
   "source": [
    "test1()"
   ]
  },
  {
   "cell_type": "code",
   "execution_count": null,
   "id": "f1313489",
   "metadata": {},
   "outputs": [],
   "source": [
    "test1() + \"sudh\"               # It seems like print is returning string type DataType but print return None type DataType \n",
    "# concetanation of None & String DataType is not possible"
   ]
  },
  {
   "cell_type": "code",
   "execution_count": 10,
   "id": "9e9f7606",
   "metadata": {},
   "outputs": [],
   "source": [
    "def test2():\n",
    "    return \"this is my very first return \""
   ]
  },
  {
   "cell_type": "code",
   "execution_count": null,
   "id": "815fbc68",
   "metadata": {},
   "outputs": [],
   "source": [
    "test2()"
   ]
  },
  {
   "cell_type": "code",
   "execution_count": null,
   "id": "01f398a9",
   "metadata": {},
   "outputs": [],
   "source": [
    "test2() + \"sudh\""
   ]
  },
  {
   "cell_type": "code",
   "execution_count": 16,
   "id": "20c9f4d8",
   "metadata": {},
   "outputs": [],
   "source": [
    "def test3() :\n",
    "\n",
    "        return \"sudh\" , 23, 345.56 , [1,2,3,3]"
   ]
  },
  {
   "cell_type": "code",
   "execution_count": null,
   "id": "1bc0acc3",
   "metadata": {},
   "outputs": [],
   "source": [
    "test3()"
   ]
  },
  {
   "cell_type": "code",
   "execution_count": 18,
   "id": "8e21a439",
   "metadata": {},
   "outputs": [],
   "source": [
    "a,b,c,d = test3()"
   ]
  },
  {
   "cell_type": "code",
   "execution_count": null,
   "id": "889970f9",
   "metadata": {},
   "outputs": [],
   "source": [
    "a"
   ]
  },
  {
   "cell_type": "code",
   "execution_count": null,
   "id": "b373c9ad",
   "metadata": {},
   "outputs": [],
   "source": [
    "b"
   ]
  },
  {
   "cell_type": "code",
   "execution_count": null,
   "id": "a95ef6fa",
   "metadata": {},
   "outputs": [],
   "source": [
    "c"
   ]
  },
  {
   "cell_type": "code",
   "execution_count": null,
   "id": "d9c515d4",
   "metadata": {},
   "outputs": [],
   "source": [
    "d"
   ]
  },
  {
   "cell_type": "code",
   "execution_count": 23,
   "id": "a9a10225",
   "metadata": {},
   "outputs": [],
   "source": [
    "a = 1\n",
    "b = 4"
   ]
  },
  {
   "cell_type": "code",
   "execution_count": 24,
   "id": "055380a3",
   "metadata": {},
   "outputs": [],
   "source": [
    "a , b = 1,4"
   ]
  },
  {
   "cell_type": "code",
   "execution_count": 25,
   "id": "002ad14c",
   "metadata": {},
   "outputs": [],
   "source": [
    "def test4():\n",
    "    a = 5+6/7\n",
    "    return a"
   ]
  },
  {
   "cell_type": "code",
   "execution_count": null,
   "id": "4c0349f1",
   "metadata": {},
   "outputs": [],
   "source": [
    "test4()"
   ]
  },
  {
   "cell_type": "code",
   "execution_count": 27,
   "id": "891c0f06",
   "metadata": {},
   "outputs": [],
   "source": [
    "def test5(a, b ,c):\n",
    "    d = a+b/c\n",
    "    return d"
   ]
  },
  {
   "cell_type": "code",
   "execution_count": null,
   "id": "5804c858",
   "metadata": {
    "scrolled": true
   },
   "outputs": [],
   "source": [
    "test5()"
   ]
  },
  {
   "cell_type": "code",
   "execution_count": null,
   "id": "fda3bac1",
   "metadata": {},
   "outputs": [],
   "source": [
    "test5(2,5,8)"
   ]
  },
  {
   "cell_type": "code",
   "execution_count": 30,
   "id": "64548a55",
   "metadata": {},
   "outputs": [],
   "source": [
    "def test6(a,b):\n",
    "    return a+b"
   ]
  },
  {
   "cell_type": "code",
   "execution_count": null,
   "id": "5f6e36ef",
   "metadata": {},
   "outputs": [],
   "source": [
    "test6(3,4)"
   ]
  },
  {
   "cell_type": "code",
   "execution_count": null,
   "id": "525c70d8",
   "metadata": {},
   "outputs": [],
   "source": [
    "test6(\"sudh\" , \" kumar\")"
   ]
  },
  {
   "cell_type": "code",
   "execution_count": null,
   "id": "ae597da6",
   "metadata": {},
   "outputs": [],
   "source": [
    "test6([1,2,3,4,5] , [4,5,6])"
   ]
  },
  {
   "cell_type": "code",
   "execution_count": 34,
   "id": "a90e32e5",
   "metadata": {},
   "outputs": [],
   "source": [
    "l = [1,2,3,4,\"sudh\" , \"kumar\" ,[1,2,3,4,5,6]]"
   ]
  },
  {
   "cell_type": "code",
   "execution_count": 35,
   "id": "96ff42b1",
   "metadata": {},
   "outputs": [],
   "source": [
    "l1 = []\n",
    "for i in l :\n",
    "    if type(i) == int or type(i) == float :\n",
    "        l1.append(i)"
   ]
  },
  {
   "cell_type": "code",
   "execution_count": null,
   "id": "103f0a8e",
   "metadata": {},
   "outputs": [],
   "source": [
    "l1"
   ]
  },
  {
   "cell_type": "code",
   "execution_count": 37,
   "id": "2971d2df",
   "metadata": {},
   "outputs": [],
   "source": [
    "def test7(l):\n",
    "    l1 = []\n",
    "    for i in l :\n",
    "        if type(i) == int or type(i) == float :\n",
    "            l1.append(i)\n",
    "    return l1"
   ]
  },
  {
   "cell_type": "code",
   "execution_count": null,
   "id": "769e2d1c",
   "metadata": {},
   "outputs": [],
   "source": [
    "l1"
   ]
  },
  {
   "cell_type": "code",
   "execution_count": null,
   "id": "e30f3fc1",
   "metadata": {},
   "outputs": [],
   "source": [
    "test7(l)"
   ]
  },
  {
   "cell_type": "code",
   "execution_count": null,
   "id": "8847c9b5",
   "metadata": {},
   "outputs": [],
   "source": [
    "l"
   ]
  },
  {
   "cell_type": "code",
   "execution_count": 64,
   "id": "8e040f43",
   "metadata": {},
   "outputs": [],
   "source": [
    "l = [1,2,3,4, 'sudh', 'kumar', [1,2,3,4,5,6]]"
   ]
  },
  {
   "cell_type": "code",
   "execution_count": null,
   "id": "33874da6",
   "metadata": {},
   "outputs": [],
   "source": [
    "l"
   ]
  },
  {
   "cell_type": "code",
   "execution_count": 71,
   "id": "03c7b6dc",
   "metadata": {},
   "outputs": [],
   "source": [
    "def test8(a):\n",
    "    l= []\n",
    "    for i in a :\n",
    "        if type(i) == list:\n",
    "            for j in i :\n",
    "                l.append(j)\n",
    "        else :\n",
    "            if type(i) == int or type(i) == float:\n",
    "                l.append(i)\n",
    "    return l"
   ]
  },
  {
   "cell_type": "code",
   "execution_count": null,
   "id": "b870b71e",
   "metadata": {},
   "outputs": [],
   "source": [
    "test8(l)"
   ]
  },
  {
   "cell_type": "code",
   "execution_count": null,
   "id": "04a7c396",
   "metadata": {},
   "outputs": [],
   "source": [
    "l"
   ]
  },
  {
   "cell_type": "code",
   "execution_count": null,
   "id": "2491b7fd",
   "metadata": {},
   "outputs": [],
   "source": [
    "test8()"
   ]
  },
  {
   "cell_type": "code",
   "execution_count": 109,
   "id": "955d87f7",
   "metadata": {},
   "outputs": [],
   "source": [
    "def test9(a) :  \n",
    "    \"\"\"this is my function to extract num data from list\"\"\"\n",
    "\n",
    "    l= []\n",
    "    for i in a :\n",
    "        if type(i) == list:\n",
    "            for j in i :\n",
    "                l.append(j)\n",
    "        else :\n",
    "            if type(i) == int or type(i) == float :\n",
    "                l.append(i)\n",
    "    return l\n"
   ]
  },
  {
   "cell_type": "code",
   "execution_count": null,
   "id": "0a187324",
   "metadata": {},
   "outputs": [],
   "source": [
    "test9()"
   ]
  },
  {
   "cell_type": "code",
   "execution_count": 111,
   "id": "baf46dd3",
   "metadata": {},
   "outputs": [],
   "source": [
    "def test10(a,b):\n",
    "    return a+b"
   ]
  },
  {
   "cell_type": "code",
   "execution_count": 112,
   "id": "9fffced9",
   "metadata": {},
   "outputs": [],
   "source": [
    "def test11(*args):\n",
    "    return args"
   ]
  },
  {
   "cell_type": "code",
   "execution_count": null,
   "id": "5de94e14",
   "metadata": {},
   "outputs": [],
   "source": [
    "test11()"
   ]
  },
  {
   "cell_type": "code",
   "execution_count": null,
   "id": "0e9c9684",
   "metadata": {},
   "outputs": [],
   "source": [
    "type(test11())"
   ]
  },
  {
   "cell_type": "code",
   "execution_count": null,
   "id": "2e572484",
   "metadata": {},
   "outputs": [],
   "source": [
    "test11(1,2,3)"
   ]
  },
  {
   "cell_type": "code",
   "execution_count": null,
   "id": "007858f6",
   "metadata": {},
   "outputs": [],
   "source": [
    "test11(1,2,3,\"sudh\" , \"kumar\" , [1,2,3,4,4])"
   ]
  },
  {
   "cell_type": "code",
   "execution_count": 112,
   "id": "6e7dd287",
   "metadata": {},
   "outputs": [],
   "source": [
    "def test12(*sudh):         # * allow to pass multiple input\n",
    "    return sudh"
   ]
  },
  {
   "cell_type": "code",
   "execution_count": null,
   "id": "d415e435",
   "metadata": {},
   "outputs": [],
   "source": [
    "test12(1,2,34,4)"
   ]
  },
  {
   "cell_type": "code",
   "execution_count": 117,
   "id": "150c2073",
   "metadata": {},
   "outputs": [],
   "source": [
    "def test13(*args , a) :\n",
    "    return args , a"
   ]
  },
  {
   "cell_type": "code",
   "execution_count": null,
   "id": "8f44e850",
   "metadata": {},
   "outputs": [],
   "source": [
    "test13(1,2,3,4)"
   ]
  },
  {
   "cell_type": "code",
   "execution_count": null,
   "id": "f461162a",
   "metadata": {},
   "outputs": [],
   "source": [
    "test13(1,2,3,4 , a = 23)"
   ]
  },
  {
   "cell_type": "code",
   "execution_count": 120,
   "id": "32e9d899",
   "metadata": {},
   "outputs": [],
   "source": [
    "def test14(c,d,a = 23 , b = 1 ):\n",
    "    return a,b,c,d"
   ]
  },
  {
   "cell_type": "code",
   "execution_count": null,
   "id": "6bd3ee10",
   "metadata": {},
   "outputs": [],
   "source": [
    "test14()"
   ]
  },
  {
   "cell_type": "code",
   "execution_count": null,
   "id": "158e9a52",
   "metadata": {},
   "outputs": [],
   "source": [
    "test14(3,4)"
   ]
  },
  {
   "cell_type": "code",
   "execution_count": null,
   "id": "4fc99ee3",
   "metadata": {},
   "outputs": [],
   "source": [
    "test14(2,5 , a = 2342)"
   ]
  },
  {
   "cell_type": "code",
   "execution_count": 123,
   "id": "cd09258a",
   "metadata": {},
   "outputs": [],
   "source": [
    "def test15(**kwargs):\n",
    "    return kwargs"
   ]
  },
  {
   "cell_type": "code",
   "execution_count": 124,
   "id": "b8fb92ea",
   "metadata": {},
   "outputs": [
    {
     "data": {
      "text/plain": [
       "{}"
      ]
     },
     "execution_count": 124,
     "metadata": {},
     "output_type": "execute_result"
    }
   ],
   "source": [
    "test15()"
   ]
  },
  {
   "cell_type": "code",
   "execution_count": 125,
   "id": "718cdf2d",
   "metadata": {},
   "outputs": [
    {
     "data": {
      "text/plain": [
       "dict"
      ]
     },
     "execution_count": 125,
     "metadata": {},
     "output_type": "execute_result"
    }
   ],
   "source": [
    "type(test15())"
   ]
  },
  {
   "cell_type": "code",
   "execution_count": 126,
   "id": "91a87dbf",
   "metadata": {},
   "outputs": [
    {
     "data": {
      "text/plain": [
       "{'a': [1, 2, 3, 4], 'b': 'sudh', 'c': 23.45}"
      ]
     },
     "execution_count": 126,
     "metadata": {},
     "output_type": "execute_result"
    }
   ],
   "source": [
    "test15(a = [1,2,3,4] , b = \"sudh\" , c = 23.45 )"
   ]
  },
  {
   "cell_type": "markdown",
   "id": "9972ff6d",
   "metadata": {},
   "source": [
    "### Parameter:\n",
    "\n",
    "- A parameter is a variable or placeholder in a function or method definition. It is used to define what kind of information a function expects to receive when it is called.\n",
    "- Parameters serve as the formal definition of the input values that a function requires to perform its task. They act as placeholders for the actual values (arguments) that will be passed to the function.\n",
    "- Parameters are used when you declare a function, and they specify the types and names of the values the function will accept.\n",
    "\n",
    "**Example in Python:**"
   ]
  },
  {
   "cell_type": "code",
   "execution_count": 125,
   "id": "773ce0a4",
   "metadata": {},
   "outputs": [],
   "source": [
    "def add_numbers(x, y):  # \"x\" and \"y\" are parameters\n",
    "    result = x + y\n",
    "    return result"
   ]
  },
  {
   "cell_type": "markdown",
   "id": "9632cdcb",
   "metadata": {},
   "source": [
    "### Argument:\n",
    "\n",
    "- An argument is an actual value that is passed to a function or method when it is called. Arguments are the concrete data that you supply to a function to work with.\n",
    "- When you call a function, you provide arguments to match the parameters specified in the function's definition.\n",
    "- The values you pass as arguments are used as input for the function's computations.\n",
    "\n",
    "**Example in Python:**"
   ]
  },
  {
   "cell_type": "code",
   "execution_count": 3,
   "id": "d15c60f2",
   "metadata": {},
   "outputs": [],
   "source": [
    "result = add_numbers(3, 5)  # \"3\" and \"5\" are arguments"
   ]
  },
  {
   "cell_type": "markdown",
   "id": "e0430b0b",
   "metadata": {},
   "source": [
    "To summarize, parameters are placeholders in a function's definition that define what kind of data a function can accept, while arguments are the actual data you provide to a function when you call it. The purpose of parameters is to specify the expectations of a function, and arguments fulfill those expectations when invoking the function."
   ]
  },
  {
   "cell_type": "markdown",
   "id": "f90caed5",
   "metadata": {},
   "source": [
    "A parameter is a variable in the definition of a function or method. It is a placeholder for the data that will be passed to the function when it is called.\n",
    "\n",
    "An argument is the actual value that is passed to a function or method when it is called.\n",
    "\n",
    "In other words, a parameter is a variable that is defined in the function header, and an argument is a value that is passed to the function when it is called.\n",
    "\n",
    "Here is an example in Python:"
   ]
  },
  {
   "cell_type": "code",
   "execution_count": null,
   "id": "1cfe24a7",
   "metadata": {},
   "outputs": [],
   "source": [
    "def add(x, y):\n",
    "  \"\"\"Returns the sum of two numbers.\"\"\"\n",
    "  return x + y\n",
    "\n",
    "# Call the function with two arguments:**\n",
    "result = add(1, 2)\n",
    "\n",
    "# Print the result:**\n",
    "print(result)"
   ]
  },
  {
   "cell_type": "markdown",
   "id": "0e7fbba2",
   "metadata": {},
   "source": [
    "In this example, the x and y parameters are defined in the function header, and the 1 and 2 arguments are passed to the function when it is called.\n",
    "\n",
    "The following table summarizes the key difference between parameters and arguments:\n",
    "\n",
    "| Parameter | Argument |\n",
    "|---|---|---|\n",
    "| Variable defined in the function header | Actual value passed to the function when it is called |\n",
    "| Placeholder for data that will be passed to the function | Concrete value that is passed to the function |\n",
    "\n",
    "Parameters and arguments are often used interchangeably, especially in informal contexts. However, it is important to understand the difference between the two terms, especially when writing and reading code."
   ]
  },
  {
   "cell_type": "markdown",
   "id": "7ca97193",
   "metadata": {},
   "source": [
    "The main difference between `char` and `string` is that `char` is a primitive data type that represents a single character, while `string` is a reference type that represents a sequence of characters.\n",
    "\n",
    "**char**\n",
    "\n",
    "* A primitive data type that represents a single character.\n",
    "* Can be represented using single quotes (').\n",
    "* Examples: `'a'`, `'b'`, `'c'`\n",
    "\n",
    "**string**\n",
    "\n",
    "* A reference type that represents a sequence of characters.\n",
    "* Can be represented using double quotes (\").\n",
    "* Examples: `\"a\"`, `\"Hello, world!\"`, `\"12345\"`\n",
    "\n",
    "Here is a table that summarizes the key differences between `char` and `string`:\n",
    "\n",
    "| Property | char | string |\n",
    "|---|---|---|\n",
    "| Data type | Primitive | Reference |\n",
    "| Number of characters | Single character | Sequence of characters |\n",
    "| Representation | Single quotes (') | Double quotes (\") |\n",
    "\n",
    "**Examples**\n",
    "\n",
    "Here are some examples of how to use `char` and `string` in Python:\n",
    "\n",
    "```python\n",
    "# Declare a char variable\n",
    "char_variable = 'a'\n",
    "\n",
    "# Declare a string variable\n",
    "string_variable = \"Hello, world!\"\n",
    "\n",
    "# Print the value of the char variable\n",
    "print(char_variable)\n",
    "\n",
    "# Print the value of the string variable\n",
    "print(string_variable)\n",
    "```\n",
    "\n",
    "Output:\n",
    "\n",
    "```\n",
    "a\n",
    "Hello, world!\n",
    "```\n",
    "\n",
    "**When to use char vs string**\n",
    "\n",
    "In general, you should use `char` when you need to represent a single character, and you should use `string` when you need to represent a sequence of characters.\n",
    "\n",
    "Here are some specific examples:\n",
    "\n",
    "* Use `char` to represent a single character, such as a space, a comma, or a period.\n",
    "* Use `string` to represent a word, a sentence, or a paragraph of text.\n",
    "* Use `string` to represent a path to a file, a URL, or an email address.\n",
    "\n",
    "**Conclusion**\n",
    "\n",
    "`char` and `string` are two different data types that are used to represent characters and sequences of characters, respectively. It is important to understand the difference between the two data types so that you can use them correctly in your code."
   ]
  },
  {
   "cell_type": "code",
   "execution_count": null,
   "id": "715f86a8",
   "metadata": {},
   "outputs": [],
   "source": []
  }
 ],
 "metadata": {
  "kernelspec": {
   "display_name": "Python 3 (ipykernel)",
   "language": "python",
   "name": "python3"
  },
  "language_info": {
   "codemirror_mode": {
    "name": "ipython",
    "version": 3
   },
   "file_extension": ".py",
   "mimetype": "text/x-python",
   "name": "python",
   "nbconvert_exporter": "python",
   "pygments_lexer": "ipython3",
   "version": "3.12.2"
  }
 },
 "nbformat": 4,
 "nbformat_minor": 5
}
