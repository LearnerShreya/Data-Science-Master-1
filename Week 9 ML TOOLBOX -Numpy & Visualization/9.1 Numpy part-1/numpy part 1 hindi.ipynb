{
 "cells": [
  {
   "cell_type": "code",
   "execution_count": 368,
   "id": "bb5f01f5-4f36-4e90-a4f1-24b7d3889725",
   "metadata": {},
   "outputs": [],
   "source": [
    "import numpy as np"
   ]
  },
  {
   "cell_type": "code",
   "execution_count": 369,
   "id": "f634285d-a871-49b9-b766-76d57a6f378a",
   "metadata": {},
   "outputs": [],
   "source": [
    "l = [1,2,3,4]"
   ]
  },
  {
   "cell_type": "code",
   "execution_count": 370,
   "id": "6857265b-0124-4fec-aee0-74c0b0c105f7",
   "metadata": {},
   "outputs": [],
   "source": [
    "ar = np.array(l)"
   ]
  },
  {
   "cell_type": "code",
   "execution_count": 371,
   "id": "7402cc20-1cc2-4433-9fef-ed47f71e85b0",
   "metadata": {},
   "outputs": [
    {
     "data": {
      "text/plain": [
       "array([1, 2, 3, 4])"
      ]
     },
     "execution_count": 371,
     "metadata": {},
     "output_type": "execute_result"
    }
   ],
   "source": [
    "ar"
   ]
  },
  {
   "cell_type": "code",
   "execution_count": 372,
   "id": "18a6c69f-24e3-4614-88c3-5c5bfe62bbfc",
   "metadata": {},
   "outputs": [
    {
     "data": {
      "text/plain": [
       "numpy.ndarray"
      ]
     },
     "execution_count": 372,
     "metadata": {},
     "output_type": "execute_result"
    }
   ],
   "source": [
    "type(ar)"
   ]
  },
  {
   "cell_type": "code",
   "execution_count": 373,
   "id": "0b30a3c2-efd8-4f59-bc12-88eb44dee98e",
   "metadata": {},
   "outputs": [
    {
     "data": {
      "text/plain": [
       "array([[1, 2],\n",
       "       [3, 4]])"
      ]
     },
     "execution_count": 373,
     "metadata": {},
     "output_type": "execute_result"
    }
   ],
   "source": [
    "np.array([[1,2] ,[3,4]])"
   ]
  },
  {
   "cell_type": "code",
   "execution_count": 374,
   "id": "79e702b8-dbc6-4548-80d0-734c8579de9e",
   "metadata": {},
   "outputs": [
    {
     "data": {
      "text/plain": [
       "array([1, 2, 3, 4])"
      ]
     },
     "execution_count": 374,
     "metadata": {},
     "output_type": "execute_result"
    }
   ],
   "source": [
    "np.asarray(l)"
   ]
  },
  {
   "cell_type": "code",
   "execution_count": 375,
   "id": "3915cb9b-f264-4495-a9c4-c25d18f64c60",
   "metadata": {},
   "outputs": [],
   "source": [
    "a= [2,3,4]"
   ]
  },
  {
   "cell_type": "code",
   "execution_count": 376,
   "id": "31b88237-5e24-4154-9c64-916c0a9fd6c0",
   "metadata": {},
   "outputs": [
    {
     "data": {
      "text/plain": [
       "array([2, 3, 4])"
      ]
     },
     "execution_count": 376,
     "metadata": {},
     "output_type": "execute_result"
    }
   ],
   "source": [
    "np.asanyarray(a)"
   ]
  },
  {
   "cell_type": "code",
   "execution_count": 377,
   "id": "b6cddc4f-d960-4925-a553-623b0a8ff541",
   "metadata": {},
   "outputs": [],
   "source": [
    "b = np.matrix(l)"
   ]
  },
  {
   "cell_type": "code",
   "execution_count": 378,
   "id": "7c9464fb-06a8-4c16-aebe-761f96979974",
   "metadata": {},
   "outputs": [
    {
     "data": {
      "text/plain": [
       "matrix([[1, 2, 3, 4]])"
      ]
     },
     "execution_count": 378,
     "metadata": {},
     "output_type": "execute_result"
    }
   ],
   "source": [
    "b"
   ]
  },
  {
   "cell_type": "code",
   "execution_count": 379,
   "id": "51cedef8-ff07-48cd-a1eb-35ac18f991c7",
   "metadata": {},
   "outputs": [
    {
     "data": {
      "text/plain": [
       "matrix([[1, 2, 3, 4]])"
      ]
     },
     "execution_count": 379,
     "metadata": {},
     "output_type": "execute_result"
    }
   ],
   "source": [
    "np.asanyarray(b)"
   ]
  },
  {
   "cell_type": "code",
   "execution_count": 380,
   "id": "ad27ec1e-c010-4bb8-a278-6125a81fb91c",
   "metadata": {},
   "outputs": [],
   "source": [
    "a = np.array(l)"
   ]
  },
  {
   "cell_type": "code",
   "execution_count": 381,
   "id": "3db65dc5-fa99-4f0a-89d7-1f6eaf775b05",
   "metadata": {},
   "outputs": [
    {
     "data": {
      "text/plain": [
       "array([1, 2, 3, 4])"
      ]
     },
     "execution_count": 381,
     "metadata": {},
     "output_type": "execute_result"
    }
   ],
   "source": [
    "a\n"
   ]
  },
  {
   "cell_type": "code",
   "execution_count": 382,
   "id": "ff3d2a1d-b052-4db3-99d6-a3501a75d027",
   "metadata": {},
   "outputs": [],
   "source": [
    "# shallow copy\n",
    "c = a  "
   ]
  },
  {
   "cell_type": "code",
   "execution_count": 383,
   "id": "642648bb-33b0-4c5d-a0bc-b1784a6a5771",
   "metadata": {},
   "outputs": [
    {
     "data": {
      "text/plain": [
       "array([1, 2, 3, 4])"
      ]
     },
     "execution_count": 383,
     "metadata": {},
     "output_type": "execute_result"
    }
   ],
   "source": [
    "c"
   ]
  },
  {
   "cell_type": "code",
   "execution_count": 384,
   "id": "2dee9b26-17af-4401-bf74-a48888d973c8",
   "metadata": {},
   "outputs": [
    {
     "data": {
      "text/plain": [
       "array([1, 2, 3, 4])"
      ]
     },
     "execution_count": 384,
     "metadata": {},
     "output_type": "execute_result"
    }
   ],
   "source": [
    "a"
   ]
  },
  {
   "cell_type": "code",
   "execution_count": 385,
   "id": "dd679803-09e1-453a-b908-590fe870373a",
   "metadata": {},
   "outputs": [],
   "source": [
    "c[0] = 100"
   ]
  },
  {
   "cell_type": "code",
   "execution_count": 386,
   "id": "d0cd8ae4-1236-44d5-8b46-2adbecfaa10e",
   "metadata": {},
   "outputs": [
    {
     "data": {
      "text/plain": [
       "array([100,   2,   3,   4])"
      ]
     },
     "execution_count": 386,
     "metadata": {},
     "output_type": "execute_result"
    }
   ],
   "source": [
    "c"
   ]
  },
  {
   "cell_type": "code",
   "execution_count": 387,
   "id": "97a614a1-8294-4fdc-b987-11f7da36d097",
   "metadata": {},
   "outputs": [
    {
     "data": {
      "text/plain": [
       "array([100,   2,   3,   4])"
      ]
     },
     "execution_count": 387,
     "metadata": {},
     "output_type": "execute_result"
    }
   ],
   "source": [
    "a"
   ]
  },
  {
   "cell_type": "code",
   "execution_count": 388,
   "id": "6017d819-96e2-4627-aa03-92899e0683d1",
   "metadata": {},
   "outputs": [],
   "source": [
    "# deep copy\n",
    "d = np.copy(a)"
   ]
  },
  {
   "cell_type": "code",
   "execution_count": 389,
   "id": "a13b8fe3-a407-416d-841f-713485253d3a",
   "metadata": {},
   "outputs": [
    {
     "data": {
      "text/plain": [
       "array([100,   2,   3,   4])"
      ]
     },
     "execution_count": 389,
     "metadata": {},
     "output_type": "execute_result"
    }
   ],
   "source": [
    "d"
   ]
  },
  {
   "cell_type": "code",
   "execution_count": 390,
   "id": "74102a9e-8530-4897-a8c4-7a71920d90c6",
   "metadata": {},
   "outputs": [
    {
     "data": {
      "text/plain": [
       "array([100,   2,   3,   4])"
      ]
     },
     "execution_count": 390,
     "metadata": {},
     "output_type": "execute_result"
    }
   ],
   "source": [
    "a"
   ]
  },
  {
   "cell_type": "code",
   "execution_count": 391,
   "id": "a38ddfd1-82f7-4b34-94aa-99aa36206e4e",
   "metadata": {},
   "outputs": [],
   "source": [
    "a[1] = 400"
   ]
  },
  {
   "cell_type": "code",
   "execution_count": 392,
   "id": "7d685d0f-ee2f-4e31-9380-401958edf2cd",
   "metadata": {},
   "outputs": [
    {
     "data": {
      "text/plain": [
       "array([100, 400,   3,   4])"
      ]
     },
     "execution_count": 392,
     "metadata": {},
     "output_type": "execute_result"
    }
   ],
   "source": [
    "a"
   ]
  },
  {
   "cell_type": "code",
   "execution_count": 393,
   "id": "1ac4a42b-0d23-4406-ab20-fd96f2851abe",
   "metadata": {},
   "outputs": [
    {
     "data": {
      "text/plain": [
       "array([100,   2,   3,   4])"
      ]
     },
     "execution_count": 393,
     "metadata": {},
     "output_type": "execute_result"
    }
   ],
   "source": [
    "d"
   ]
  },
  {
   "cell_type": "code",
   "execution_count": 394,
   "id": "ecb07af1-ae2b-4e17-85d0-11260b35f4c1",
   "metadata": {},
   "outputs": [
    {
     "data": {
      "text/plain": [
       "array([[ True, False, False],\n",
       "       [False,  True, False],\n",
       "       [False, False,  True]])"
      ]
     },
     "execution_count": 394,
     "metadata": {},
     "output_type": "execute_result"
    }
   ],
   "source": [
    "np.fromfunction(lambda i, j : i==j , (3,3))"
   ]
  },
  {
   "cell_type": "code",
   "execution_count": 395,
   "id": "3ddba112-515e-406e-bb4a-30630a81e8a9",
   "metadata": {},
   "outputs": [
    {
     "data": {
      "text/plain": [
       "array([[0., 0., 0.],\n",
       "       [0., 1., 2.],\n",
       "       [0., 2., 4.]])"
      ]
     },
     "execution_count": 395,
     "metadata": {},
     "output_type": "execute_result"
    }
   ],
   "source": [
    "np.fromfunction(lambda i, j : i*j , (3,3))"
   ]
  },
  {
   "cell_type": "code",
   "execution_count": 396,
   "id": "f7920ace-5c90-45a6-9e84-0de6c0c2fee8",
   "metadata": {},
   "outputs": [],
   "source": [
    "iterable = (i*i for i in range(5))"
   ]
  },
  {
   "cell_type": "code",
   "execution_count": 397,
   "id": "2625a660-2f8d-4620-8e3c-59dc58137077",
   "metadata": {},
   "outputs": [
    {
     "data": {
      "text/plain": [
       "array([ 0.,  1.,  4.,  9., 16.])"
      ]
     },
     "execution_count": 397,
     "metadata": {},
     "output_type": "execute_result"
    }
   ],
   "source": [
    "np.fromiter(iterable,float)"
   ]
  },
  {
   "cell_type": "code",
   "execution_count": 398,
   "id": "c2478390-df95-48b1-a255-9fdc9a65b24b",
   "metadata": {},
   "outputs": [
    {
     "data": {
      "text/plain": [
       "array([234., 234.])"
      ]
     },
     "execution_count": 398,
     "metadata": {},
     "output_type": "execute_result"
    }
   ],
   "source": [
    "np.fromstring('234 234' , sep= ' ')"
   ]
  },
  {
   "cell_type": "code",
   "execution_count": 399,
   "id": "fbf7e044-35f2-4279-88f1-0c72e4922a72",
   "metadata": {},
   "outputs": [
    {
     "data": {
      "text/plain": [
       "array([4., 5.])"
      ]
     },
     "execution_count": 399,
     "metadata": {},
     "output_type": "execute_result"
    }
   ],
   "source": [
    "np.fromstring('4,5' , sep= ',')"
   ]
  },
  {
   "cell_type": "code",
   "execution_count": 400,
   "id": "b99a8507-2782-4bfd-9bd2-24720366d9eb",
   "metadata": {},
   "outputs": [],
   "source": [
    "#Numpy - Data Types."
   ]
  },
  {
   "cell_type": "code",
   "execution_count": 401,
   "id": "2413012c-1feb-49fd-88d5-ba14dd5fab8d",
   "metadata": {},
   "outputs": [],
   "source": [
    "l = [2,3,4,5,6]"
   ]
  },
  {
   "cell_type": "code",
   "execution_count": 402,
   "id": "bf598728-6398-4991-baa6-18a0b34b48f6",
   "metadata": {},
   "outputs": [],
   "source": [
    "ar = np.array(l)"
   ]
  },
  {
   "cell_type": "code",
   "execution_count": 403,
   "id": "57fe1427-583e-48ca-adc8-c8beb5641931",
   "metadata": {},
   "outputs": [
    {
     "data": {
      "text/plain": [
       "array([2, 3, 4, 5, 6])"
      ]
     },
     "execution_count": 403,
     "metadata": {},
     "output_type": "execute_result"
    }
   ],
   "source": [
    "ar"
   ]
  },
  {
   "cell_type": "code",
   "execution_count": 404,
   "id": "aa9b5aa2-6c7a-4805-9130-b75a6456991c",
   "metadata": {},
   "outputs": [
    {
     "data": {
      "text/plain": [
       "1"
      ]
     },
     "execution_count": 404,
     "metadata": {},
     "output_type": "execute_result"
    }
   ],
   "source": [
    "ar.ndim"
   ]
  },
  {
   "cell_type": "code",
   "execution_count": 405,
   "id": "b2e28e1a-69f2-49c2-9390-1d99f735b26d",
   "metadata": {},
   "outputs": [],
   "source": [
    "ar2 = np.array([[1,2,3,4] , [2,3,4,5]])"
   ]
  },
  {
   "cell_type": "code",
   "execution_count": 406,
   "id": "546a23ff-27a7-4cb5-bef8-c431d8505e6d",
   "metadata": {},
   "outputs": [
    {
     "data": {
      "text/plain": [
       "array([[1, 2, 3, 4],\n",
       "       [2, 3, 4, 5]])"
      ]
     },
     "execution_count": 406,
     "metadata": {},
     "output_type": "execute_result"
    }
   ],
   "source": [
    "ar2"
   ]
  },
  {
   "cell_type": "code",
   "execution_count": 407,
   "id": "a69d96c2-7345-483e-9063-127bbdab0a37",
   "metadata": {},
   "outputs": [
    {
     "data": {
      "text/plain": [
       "2"
      ]
     },
     "execution_count": 407,
     "metadata": {},
     "output_type": "execute_result"
    }
   ],
   "source": [
    "ar2.ndim"
   ]
  },
  {
   "cell_type": "code",
   "execution_count": 408,
   "id": "fda20167-4f95-42f9-8846-8c2f0726287c",
   "metadata": {},
   "outputs": [
    {
     "data": {
      "text/plain": [
       "5"
      ]
     },
     "execution_count": 408,
     "metadata": {},
     "output_type": "execute_result"
    }
   ],
   "source": [
    "ar.size"
   ]
  },
  {
   "cell_type": "code",
   "execution_count": 409,
   "id": "fd802008-0428-48b2-b3b4-bff11f059298",
   "metadata": {},
   "outputs": [
    {
     "data": {
      "text/plain": [
       "8"
      ]
     },
     "execution_count": 409,
     "metadata": {},
     "output_type": "execute_result"
    }
   ],
   "source": [
    "ar2.size"
   ]
  },
  {
   "cell_type": "code",
   "execution_count": 410,
   "id": "04aae56c-ed8c-4538-85c8-d8ecf2f5d940",
   "metadata": {},
   "outputs": [
    {
     "data": {
      "text/plain": [
       "array([2, 3, 4, 5, 6])"
      ]
     },
     "execution_count": 410,
     "metadata": {},
     "output_type": "execute_result"
    }
   ],
   "source": [
    "ar"
   ]
  },
  {
   "cell_type": "code",
   "execution_count": 411,
   "id": "aebe1f2a-f153-4d9d-b09e-04f41ecbf987",
   "metadata": {},
   "outputs": [
    {
     "data": {
      "text/plain": [
       "array([[1, 2, 3, 4],\n",
       "       [2, 3, 4, 5]])"
      ]
     },
     "execution_count": 411,
     "metadata": {},
     "output_type": "execute_result"
    }
   ],
   "source": [
    "ar2"
   ]
  },
  {
   "cell_type": "code",
   "execution_count": 412,
   "id": "6c9e6eb4-7044-4c70-9847-c7de69c71881",
   "metadata": {},
   "outputs": [
    {
     "data": {
      "text/plain": [
       "(5,)"
      ]
     },
     "execution_count": 412,
     "metadata": {},
     "output_type": "execute_result"
    }
   ],
   "source": [
    "ar.shape"
   ]
  },
  {
   "cell_type": "code",
   "execution_count": 413,
   "id": "467ad9d2-e87e-4ba5-8701-2687fad85555",
   "metadata": {},
   "outputs": [
    {
     "data": {
      "text/plain": [
       "(2, 4)"
      ]
     },
     "execution_count": 413,
     "metadata": {},
     "output_type": "execute_result"
    }
   ],
   "source": [
    "ar2.shape"
   ]
  },
  {
   "cell_type": "code",
   "execution_count": 414,
   "id": "297867d1-f7c6-499b-b504-6efd5a225ebb",
   "metadata": {},
   "outputs": [
    {
     "data": {
      "text/plain": [
       "dtype('int64')"
      ]
     },
     "execution_count": 414,
     "metadata": {},
     "output_type": "execute_result"
    }
   ],
   "source": [
    "ar.dtype"
   ]
  },
  {
   "cell_type": "code",
   "execution_count": 415,
   "id": "69408639-5c50-42c1-b860-1bd7d07ad121",
   "metadata": {},
   "outputs": [
    {
     "data": {
      "text/plain": [
       "dtype('int64')"
      ]
     },
     "execution_count": 415,
     "metadata": {},
     "output_type": "execute_result"
    }
   ],
   "source": [
    "ar2.dtype\n"
   ]
  },
  {
   "cell_type": "code",
   "execution_count": 416,
   "id": "f854481b-8b0b-4f23-8485-51996e72962b",
   "metadata": {},
   "outputs": [],
   "source": [
    "ar22 = np.array([(1.4,45,45) , (23,45,66)])"
   ]
  },
  {
   "cell_type": "code",
   "execution_count": 417,
   "id": "d7974c33-ad51-4a3f-8b73-566af19d49b7",
   "metadata": {},
   "outputs": [
    {
     "data": {
      "text/plain": [
       "array([[ 1.4, 45. , 45. ],\n",
       "       [23. , 45. , 66. ]])"
      ]
     },
     "execution_count": 417,
     "metadata": {},
     "output_type": "execute_result"
    }
   ],
   "source": [
    "ar22"
   ]
  },
  {
   "cell_type": "code",
   "execution_count": 418,
   "id": "70214aa5-6876-4f7d-85be-5dbd4485c514",
   "metadata": {},
   "outputs": [
    {
     "data": {
      "text/plain": [
       "dtype('float64')"
      ]
     },
     "execution_count": 418,
     "metadata": {},
     "output_type": "execute_result"
    }
   ],
   "source": [
    "ar22.dtype"
   ]
  },
  {
   "cell_type": "code",
   "execution_count": 419,
   "id": "374d8f0f-ea8e-42a6-85d8-aa477cfdc3ba",
   "metadata": {},
   "outputs": [
    {
     "data": {
      "text/plain": [
       "[0, 1, 2, 3, 4]"
      ]
     },
     "execution_count": 419,
     "metadata": {},
     "output_type": "execute_result"
    }
   ],
   "source": [
    "list(range(5))"
   ]
  },
  {
   "cell_type": "code",
   "execution_count": 420,
   "id": "e490c758-c9a1-46a6-b23a-e3b54f155fe9",
   "metadata": {},
   "outputs": [
    {
     "ename": "TypeError",
     "evalue": "'float' object cannot be interpreted as an integer",
     "output_type": "error",
     "traceback": [
      "\u001b[1;31m---------------------------------------------------------------------------\u001b[0m",
      "\u001b[1;31mTypeError\u001b[0m                                 Traceback (most recent call last)",
      "Cell \u001b[1;32mIn[420], line 1\u001b[0m\n\u001b[1;32m----> 1\u001b[0m \u001b[38;5;28mlist\u001b[39m(\u001b[38;5;28;43mrange\u001b[39;49m\u001b[43m(\u001b[49m\u001b[38;5;241;43m0.1\u001b[39;49m\u001b[43m \u001b[49m\u001b[43m,\u001b[49m\u001b[38;5;241;43m5\u001b[39;49m\u001b[43m)\u001b[49m)\n",
      "\u001b[1;31mTypeError\u001b[0m: 'float' object cannot be interpreted as an integer"
     ]
    }
   ],
   "source": [
    "list(range(0.1 ,5))"
   ]
  },
  {
   "cell_type": "code",
   "execution_count": 61,
   "id": "05eba3b5-9bc9-4e65-a96a-bbd458c50253",
   "metadata": {},
   "outputs": [
    {
     "data": {
      "text/plain": [
       "array([2.3, 3.3, 4.3, 5.3])"
      ]
     },
     "execution_count": 61,
     "metadata": {},
     "output_type": "execute_result"
    }
   ],
   "source": [
    "np.arange(2.3,5.6)"
   ]
  },
  {
   "cell_type": "code",
   "execution_count": 63,
   "id": "9920f6ad-81d1-476a-912a-f970e844f12a",
   "metadata": {},
   "outputs": [
    {
     "data": {
      "text/plain": [
       "[2.3,\n",
       " 2.5999999999999996,\n",
       " 2.8999999999999995,\n",
       " 3.1999999999999993,\n",
       " 3.499999999999999,\n",
       " 3.799999999999999,\n",
       " 4.099999999999999,\n",
       " 4.399999999999999,\n",
       " 4.699999999999998,\n",
       " 4.999999999999998,\n",
       " 5.299999999999998]"
      ]
     },
     "execution_count": 63,
     "metadata": {},
     "output_type": "execute_result"
    }
   ],
   "source": [
    "list(np.arange(2.3,5.6,.3))"
   ]
  },
  {
   "cell_type": "code",
   "execution_count": 65,
   "id": "69fd7045-e1f9-4832-80f3-5428d4c6f507",
   "metadata": {},
   "outputs": [
    {
     "data": {
      "text/plain": [
       "array([1.        , 1.44444444, 1.88888889, 2.33333333, 2.77777778,\n",
       "       3.22222222, 3.66666667, 4.11111111, 4.55555556, 5.        ])"
      ]
     },
     "execution_count": 65,
     "metadata": {},
     "output_type": "execute_result"
    }
   ],
   "source": [
    "np.linspace(1,5,10)"
   ]
  },
  {
   "cell_type": "code",
   "execution_count": 66,
   "id": "9840e771-f84c-43a4-bc1e-c948bd5545f7",
   "metadata": {},
   "outputs": [
    {
     "data": {
      "text/plain": [
       "array([0., 0., 0., 0., 0.])"
      ]
     },
     "execution_count": 66,
     "metadata": {},
     "output_type": "execute_result"
    }
   ],
   "source": [
    "np.zeros(5)"
   ]
  },
  {
   "cell_type": "code",
   "execution_count": 67,
   "id": "664e6162-ef45-4957-81e5-df238ff4a02d",
   "metadata": {},
   "outputs": [
    {
     "data": {
      "text/plain": [
       "array([[0., 0., 0., 0.],\n",
       "       [0., 0., 0., 0.],\n",
       "       [0., 0., 0., 0.]])"
      ]
     },
     "execution_count": 67,
     "metadata": {},
     "output_type": "execute_result"
    }
   ],
   "source": [
    "np.zeros((3,4))"
   ]
  },
  {
   "cell_type": "code",
   "execution_count": 68,
   "id": "8bccecd9-e2bd-45df-9a23-282ba8140ea9",
   "metadata": {},
   "outputs": [
    {
     "data": {
      "text/plain": [
       "array([[[0., 0.],\n",
       "        [0., 0.],\n",
       "        [0., 0.],\n",
       "        [0., 0.]],\n",
       "\n",
       "       [[0., 0.],\n",
       "        [0., 0.],\n",
       "        [0., 0.],\n",
       "        [0., 0.]],\n",
       "\n",
       "       [[0., 0.],\n",
       "        [0., 0.],\n",
       "        [0., 0.],\n",
       "        [0., 0.]]])"
      ]
     },
     "execution_count": 68,
     "metadata": {},
     "output_type": "execute_result"
    }
   ],
   "source": [
    "np.zeros((3,4,2))"
   ]
  },
  {
   "cell_type": "code",
   "execution_count": 112,
   "id": "8c7ec3ec-414b-4b38-9335-29b4f222bdc7",
   "metadata": {},
   "outputs": [],
   "source": [
    "ar4 = np.zeros((3,4,2,3))"
   ]
  },
  {
   "cell_type": "code",
   "execution_count": 114,
   "id": "186260c6-2a16-4489-a608-655340fddc73",
   "metadata": {},
   "outputs": [
    {
     "data": {
      "text/plain": [
       "4"
      ]
     },
     "execution_count": 114,
     "metadata": {},
     "output_type": "execute_result"
    }
   ],
   "source": [
    "ar4.ndim\n"
   ]
  },
  {
   "cell_type": "code",
   "execution_count": 73,
   "id": "5012dc58-c2bb-4ccf-b454-329c3c1cdcd3",
   "metadata": {},
   "outputs": [
    {
     "data": {
      "text/plain": [
       "array([[[[0., 0., 0.],\n",
       "         [0., 0., 0.]],\n",
       "\n",
       "        [[0., 0., 0.],\n",
       "         [0., 0., 0.]],\n",
       "\n",
       "        [[0., 0., 0.],\n",
       "         [0., 0., 0.]],\n",
       "\n",
       "        [[0., 0., 0.],\n",
       "         [0., 0., 0.]]],\n",
       "\n",
       "\n",
       "       [[[0., 0., 0.],\n",
       "         [0., 0., 0.]],\n",
       "\n",
       "        [[0., 0., 0.],\n",
       "         [0., 0., 0.]],\n",
       "\n",
       "        [[0., 0., 0.],\n",
       "         [0., 0., 0.]],\n",
       "\n",
       "        [[0., 0., 0.],\n",
       "         [0., 0., 0.]]],\n",
       "\n",
       "\n",
       "       [[[0., 0., 0.],\n",
       "         [0., 0., 0.]],\n",
       "\n",
       "        [[0., 0., 0.],\n",
       "         [0., 0., 0.]],\n",
       "\n",
       "        [[0., 0., 0.],\n",
       "         [0., 0., 0.]],\n",
       "\n",
       "        [[0., 0., 0.],\n",
       "         [0., 0., 0.]]]])"
      ]
     },
     "execution_count": 73,
     "metadata": {},
     "output_type": "execute_result"
    }
   ],
   "source": [
    "ar4"
   ]
  },
  {
   "cell_type": "code",
   "execution_count": 54,
   "id": "31e0cd68-cf95-4d5e-b9ab-d0ace97bc3c7",
   "metadata": {},
   "outputs": [
    {
     "data": {
      "text/plain": [
       "array([1., 1., 1., 1.])"
      ]
     },
     "execution_count": 54,
     "metadata": {},
     "output_type": "execute_result"
    }
   ],
   "source": [
    "np.ones(4)"
   ]
  },
  {
   "cell_type": "code",
   "execution_count": 55,
   "id": "b741630a-5c7b-48d4-9964-abd706bcb1ac",
   "metadata": {},
   "outputs": [
    {
     "data": {
      "text/plain": [
       "array([[1., 1., 1.],\n",
       "       [1., 1., 1.]])"
      ]
     },
     "execution_count": 55,
     "metadata": {},
     "output_type": "execute_result"
    }
   ],
   "source": [
    "np.ones((2,3))"
   ]
  },
  {
   "cell_type": "code",
   "execution_count": 56,
   "id": "3bce7a48-5228-4d73-af2d-bea6912fe0f7",
   "metadata": {},
   "outputs": [],
   "source": [
    "on =np.ones((2,3,2))"
   ]
  },
  {
   "cell_type": "code",
   "execution_count": 57,
   "id": "2f752447-cfed-44b9-b77e-08c29d2b1ab3",
   "metadata": {},
   "outputs": [
    {
     "data": {
      "text/plain": [
       "array([[[6., 6.],\n",
       "        [6., 6.],\n",
       "        [6., 6.]],\n",
       "\n",
       "       [[6., 6.],\n",
       "        [6., 6.],\n",
       "        [6., 6.]]])"
      ]
     },
     "execution_count": 57,
     "metadata": {},
     "output_type": "execute_result"
    }
   ],
   "source": [
    "on + 5\n"
   ]
  },
  {
   "cell_type": "code",
   "execution_count": 4,
   "id": "5a06e023-b4be-42bb-b3b5-fcf134ee14e7",
   "metadata": {},
   "outputs": [
    {
     "ename": "NameError",
     "evalue": "name 'on' is not defined",
     "output_type": "error",
     "traceback": [
      "\u001b[1;31m---------------------------------------------------------------------------\u001b[0m",
      "\u001b[1;31mNameError\u001b[0m                                 Traceback (most recent call last)",
      "Cell \u001b[1;32mIn[4], line 1\u001b[0m\n\u001b[1;32m----> 1\u001b[0m \u001b[43mon\u001b[49m \u001b[38;5;241m*\u001b[39m\u001b[38;5;241m4\u001b[39m\n",
      "\u001b[1;31mNameError\u001b[0m: name 'on' is not defined"
     ]
    }
   ],
   "source": [
    "on *4\n"
   ]
  },
  {
   "cell_type": "code",
   "execution_count": 219,
   "id": "9d09ebdb-af46-4b2d-b830-65dade59a6d7",
   "metadata": {},
   "outputs": [
    {
     "data": {
      "text/plain": [
       "array([[0., 0., 0., 1., 1., 1.],\n",
       "       [2., 2., 2., 0., 1., 2.],\n",
       "       [0., 1., 2., 0., 1., 2.]])"
      ]
     },
     "execution_count": 219,
     "metadata": {},
     "output_type": "execute_result"
    }
   ],
   "source": [
    "np.empty((3,6))"
   ]
  },
  {
   "cell_type": "code",
   "execution_count": 220,
   "id": "d96a21e9-9536-48c2-abb1-8baf5122e228",
   "metadata": {},
   "outputs": [
    {
     "data": {
      "text/plain": [
       "array([[1., 0., 0., 0.],\n",
       "       [0., 1., 0., 0.],\n",
       "       [0., 0., 1., 0.],\n",
       "       [0., 0., 0., 1.]])"
      ]
     },
     "execution_count": 220,
     "metadata": {},
     "output_type": "execute_result"
    }
   ],
   "source": [
    "np.eye(4)"
   ]
  },
  {
   "cell_type": "code",
   "execution_count": 61,
   "id": "e47af07d-7951-4606-a1a3-1f41c0a07199",
   "metadata": {},
   "outputs": [
    {
     "data": {
      "text/plain": [
       "array([2.        , 2.10526316, 2.21052632, 2.31578947, 2.42105263,\n",
       "       2.52631579, 2.63157895, 2.73684211, 2.84210526, 2.94736842,\n",
       "       3.05263158, 3.15789474, 3.26315789, 3.36842105, 3.47368421,\n",
       "       3.57894737, 3.68421053, 3.78947368, 3.89473684, 4.        ])"
      ]
     },
     "execution_count": 61,
     "metadata": {},
     "output_type": "execute_result"
    }
   ],
   "source": [
    "np.linspace(2,4 , 20)"
   ]
  },
  {
   "cell_type": "code",
   "execution_count": 62,
   "id": "4d88d65f-7dd4-4873-932b-7b820ec6df59",
   "metadata": {},
   "outputs": [
    {
     "data": {
      "text/plain": [
       "array([ 4.        ,  5.0396842 ,  6.34960421,  8.        , 10.0793684 ,\n",
       "       12.69920842, 16.        , 20.1587368 , 25.39841683, 32.        ])"
      ]
     },
     "execution_count": 62,
     "metadata": {},
     "output_type": "execute_result"
    }
   ],
   "source": [
    "np.logspace(2,5 , 10, base = 2)"
   ]
  },
  {
   "cell_type": "code",
   "execution_count": 222,
   "id": "aee8101d-4b08-41f6-89c6-bc73c8c54e3a",
   "metadata": {},
   "outputs": [],
   "source": [
    "arr = np.random.randn(3,4)"
   ]
  },
  {
   "cell_type": "code",
   "execution_count": 223,
   "id": "26edb298",
   "metadata": {},
   "outputs": [
    {
     "data": {
      "text/plain": [
       "array([[ 0.02022771,  0.04557534,  0.20909306, -0.03982665],\n",
       "       [ 0.32116559, -0.02867694, -0.11644587,  0.12169271],\n",
       "       [-0.34817654, -0.34489423, -1.42212152,  1.12837025]])"
      ]
     },
     "execution_count": 223,
     "metadata": {},
     "output_type": "execute_result"
    }
   ],
   "source": [
    "arr"
   ]
  },
  {
   "cell_type": "code",
   "execution_count": 237,
   "id": "6d92bb61-b5ca-4b70-90a8-cdeaf08bbaf1",
   "metadata": {},
   "outputs": [],
   "source": [
    "import pandas as pd "
   ]
  },
  {
   "cell_type": "code",
   "execution_count": 238,
   "id": "dbcf4067-1e75-4c0a-b422-1e0f795cad3f",
   "metadata": {},
   "outputs": [
    {
     "data": {
      "text/html": [
       "<div>\n",
       "<style scoped>\n",
       "    .dataframe tbody tr th:only-of-type {\n",
       "        vertical-align: middle;\n",
       "    }\n",
       "\n",
       "    .dataframe tbody tr th {\n",
       "        vertical-align: top;\n",
       "    }\n",
       "\n",
       "    .dataframe thead th {\n",
       "        text-align: right;\n",
       "    }\n",
       "</style>\n",
       "<table border=\"1\" class=\"dataframe\">\n",
       "  <thead>\n",
       "    <tr style=\"text-align: right;\">\n",
       "      <th></th>\n",
       "      <th>0</th>\n",
       "      <th>1</th>\n",
       "      <th>2</th>\n",
       "      <th>3</th>\n",
       "    </tr>\n",
       "  </thead>\n",
       "  <tbody>\n",
       "    <tr>\n",
       "      <th>0</th>\n",
       "      <td>0.523439</td>\n",
       "      <td>0.959825</td>\n",
       "      <td>0.465625</td>\n",
       "      <td>0.530199</td>\n",
       "    </tr>\n",
       "    <tr>\n",
       "      <th>1</th>\n",
       "      <td>0.902563</td>\n",
       "      <td>0.689487</td>\n",
       "      <td>0.981573</td>\n",
       "      <td>0.898253</td>\n",
       "    </tr>\n",
       "    <tr>\n",
       "      <th>2</th>\n",
       "      <td>0.234122</td>\n",
       "      <td>0.058002</td>\n",
       "      <td>0.206483</td>\n",
       "      <td>0.556551</td>\n",
       "    </tr>\n",
       "  </tbody>\n",
       "</table>\n",
       "</div>"
      ],
      "text/plain": [
       "          0         1         2         3\n",
       "0  0.523439  0.959825  0.465625  0.530199\n",
       "1  0.902563  0.689487  0.981573  0.898253\n",
       "2  0.234122  0.058002  0.206483  0.556551"
      ]
     },
     "execution_count": 238,
     "metadata": {},
     "output_type": "execute_result"
    }
   ],
   "source": [
    "pd.DataFrame(arr)"
   ]
  },
  {
   "cell_type": "code",
   "execution_count": 239,
   "id": "af7b32b9-31fd-4b93-aa83-cb929c8f99c2",
   "metadata": {},
   "outputs": [
    {
     "data": {
      "text/plain": [
       "array([[0.90988031, 0.64576085, 0.1115675 , 0.74637656],\n",
       "       [0.29043192, 0.99778466, 0.85289505, 0.11042707],\n",
       "       [0.31623516, 0.12855106, 0.0610391 , 0.98181871]])"
      ]
     },
     "execution_count": 239,
     "metadata": {},
     "output_type": "execute_result"
    }
   ],
   "source": [
    "np.random.rand(3,4)"
   ]
  },
  {
   "cell_type": "code",
   "execution_count": 240,
   "id": "e47dd21e",
   "metadata": {},
   "outputs": [
    {
     "data": {
      "text/plain": [
       "array([[ 16,  65,  98, 101],\n",
       "       [ 43,  92,  58,  33],\n",
       "       [104,  53, 105,  65]], dtype=int32)"
      ]
     },
     "execution_count": 240,
     "metadata": {},
     "output_type": "execute_result"
    }
   ],
   "source": [
    "np.random.randint(1,110 , (3,4))"
   ]
  },
  {
   "cell_type": "code",
   "execution_count": null,
   "id": "d26797d6",
   "metadata": {},
   "outputs": [
    {
     "data": {
      "text/html": [
       "<div>\n",
       "<style scoped>\n",
       "    .dataframe tbody tr th:only-of-type {\n",
       "        vertical-align: middle;\n",
       "    }\n",
       "\n",
       "    .dataframe tbody tr th {\n",
       "        vertical-align: top;\n",
       "    }\n",
       "\n",
       "    .dataframe thead th {\n",
       "        text-align: right;\n",
       "    }\n",
       "</style>\n",
       "<table border=\"1\" class=\"dataframe\">\n",
       "  <thead>\n",
       "    <tr style=\"text-align: right;\">\n",
       "      <th></th>\n",
       "      <th>0</th>\n",
       "      <th>1</th>\n",
       "      <th>2</th>\n",
       "      <th>3</th>\n",
       "      <th>4</th>\n",
       "      <th>5</th>\n",
       "      <th>6</th>\n",
       "      <th>7</th>\n",
       "      <th>8</th>\n",
       "      <th>9</th>\n",
       "      <th>...</th>\n",
       "      <th>390</th>\n",
       "      <th>391</th>\n",
       "      <th>392</th>\n",
       "      <th>393</th>\n",
       "      <th>394</th>\n",
       "      <th>395</th>\n",
       "      <th>396</th>\n",
       "      <th>397</th>\n",
       "      <th>398</th>\n",
       "      <th>399</th>\n",
       "    </tr>\n",
       "  </thead>\n",
       "  <tbody>\n",
       "    <tr>\n",
       "      <th>0</th>\n",
       "      <td>43</td>\n",
       "      <td>107</td>\n",
       "      <td>18</td>\n",
       "      <td>79</td>\n",
       "      <td>48</td>\n",
       "      <td>16</td>\n",
       "      <td>83</td>\n",
       "      <td>20</td>\n",
       "      <td>23</td>\n",
       "      <td>94</td>\n",
       "      <td>...</td>\n",
       "      <td>39</td>\n",
       "      <td>65</td>\n",
       "      <td>72</td>\n",
       "      <td>11</td>\n",
       "      <td>1</td>\n",
       "      <td>29</td>\n",
       "      <td>69</td>\n",
       "      <td>42</td>\n",
       "      <td>29</td>\n",
       "      <td>29</td>\n",
       "    </tr>\n",
       "    <tr>\n",
       "      <th>1</th>\n",
       "      <td>48</td>\n",
       "      <td>93</td>\n",
       "      <td>34</td>\n",
       "      <td>42</td>\n",
       "      <td>33</td>\n",
       "      <td>8</td>\n",
       "      <td>79</td>\n",
       "      <td>98</td>\n",
       "      <td>25</td>\n",
       "      <td>36</td>\n",
       "      <td>...</td>\n",
       "      <td>34</td>\n",
       "      <td>79</td>\n",
       "      <td>43</td>\n",
       "      <td>35</td>\n",
       "      <td>53</td>\n",
       "      <td>69</td>\n",
       "      <td>29</td>\n",
       "      <td>55</td>\n",
       "      <td>64</td>\n",
       "      <td>56</td>\n",
       "    </tr>\n",
       "    <tr>\n",
       "      <th>2</th>\n",
       "      <td>67</td>\n",
       "      <td>42</td>\n",
       "      <td>77</td>\n",
       "      <td>80</td>\n",
       "      <td>85</td>\n",
       "      <td>96</td>\n",
       "      <td>39</td>\n",
       "      <td>106</td>\n",
       "      <td>94</td>\n",
       "      <td>36</td>\n",
       "      <td>...</td>\n",
       "      <td>108</td>\n",
       "      <td>43</td>\n",
       "      <td>59</td>\n",
       "      <td>1</td>\n",
       "      <td>62</td>\n",
       "      <td>73</td>\n",
       "      <td>109</td>\n",
       "      <td>95</td>\n",
       "      <td>97</td>\n",
       "      <td>11</td>\n",
       "    </tr>\n",
       "    <tr>\n",
       "      <th>3</th>\n",
       "      <td>40</td>\n",
       "      <td>31</td>\n",
       "      <td>7</td>\n",
       "      <td>108</td>\n",
       "      <td>40</td>\n",
       "      <td>86</td>\n",
       "      <td>37</td>\n",
       "      <td>41</td>\n",
       "      <td>7</td>\n",
       "      <td>108</td>\n",
       "      <td>...</td>\n",
       "      <td>48</td>\n",
       "      <td>58</td>\n",
       "      <td>69</td>\n",
       "      <td>4</td>\n",
       "      <td>84</td>\n",
       "      <td>89</td>\n",
       "      <td>35</td>\n",
       "      <td>87</td>\n",
       "      <td>106</td>\n",
       "      <td>57</td>\n",
       "    </tr>\n",
       "    <tr>\n",
       "      <th>4</th>\n",
       "      <td>15</td>\n",
       "      <td>46</td>\n",
       "      <td>95</td>\n",
       "      <td>98</td>\n",
       "      <td>106</td>\n",
       "      <td>75</td>\n",
       "      <td>97</td>\n",
       "      <td>58</td>\n",
       "      <td>44</td>\n",
       "      <td>94</td>\n",
       "      <td>...</td>\n",
       "      <td>11</td>\n",
       "      <td>105</td>\n",
       "      <td>55</td>\n",
       "      <td>69</td>\n",
       "      <td>77</td>\n",
       "      <td>15</td>\n",
       "      <td>71</td>\n",
       "      <td>34</td>\n",
       "      <td>44</td>\n",
       "      <td>57</td>\n",
       "    </tr>\n",
       "    <tr>\n",
       "      <th>...</th>\n",
       "      <td>...</td>\n",
       "      <td>...</td>\n",
       "      <td>...</td>\n",
       "      <td>...</td>\n",
       "      <td>...</td>\n",
       "      <td>...</td>\n",
       "      <td>...</td>\n",
       "      <td>...</td>\n",
       "      <td>...</td>\n",
       "      <td>...</td>\n",
       "      <td>...</td>\n",
       "      <td>...</td>\n",
       "      <td>...</td>\n",
       "      <td>...</td>\n",
       "      <td>...</td>\n",
       "      <td>...</td>\n",
       "      <td>...</td>\n",
       "      <td>...</td>\n",
       "      <td>...</td>\n",
       "      <td>...</td>\n",
       "      <td>...</td>\n",
       "    </tr>\n",
       "    <tr>\n",
       "      <th>295</th>\n",
       "      <td>76</td>\n",
       "      <td>99</td>\n",
       "      <td>70</td>\n",
       "      <td>80</td>\n",
       "      <td>61</td>\n",
       "      <td>3</td>\n",
       "      <td>77</td>\n",
       "      <td>103</td>\n",
       "      <td>106</td>\n",
       "      <td>85</td>\n",
       "      <td>...</td>\n",
       "      <td>83</td>\n",
       "      <td>42</td>\n",
       "      <td>22</td>\n",
       "      <td>37</td>\n",
       "      <td>40</td>\n",
       "      <td>13</td>\n",
       "      <td>50</td>\n",
       "      <td>100</td>\n",
       "      <td>74</td>\n",
       "      <td>103</td>\n",
       "    </tr>\n",
       "    <tr>\n",
       "      <th>296</th>\n",
       "      <td>51</td>\n",
       "      <td>68</td>\n",
       "      <td>39</td>\n",
       "      <td>96</td>\n",
       "      <td>67</td>\n",
       "      <td>63</td>\n",
       "      <td>41</td>\n",
       "      <td>73</td>\n",
       "      <td>35</td>\n",
       "      <td>76</td>\n",
       "      <td>...</td>\n",
       "      <td>71</td>\n",
       "      <td>24</td>\n",
       "      <td>55</td>\n",
       "      <td>95</td>\n",
       "      <td>31</td>\n",
       "      <td>109</td>\n",
       "      <td>82</td>\n",
       "      <td>11</td>\n",
       "      <td>71</td>\n",
       "      <td>109</td>\n",
       "    </tr>\n",
       "    <tr>\n",
       "      <th>297</th>\n",
       "      <td>100</td>\n",
       "      <td>64</td>\n",
       "      <td>78</td>\n",
       "      <td>45</td>\n",
       "      <td>73</td>\n",
       "      <td>20</td>\n",
       "      <td>105</td>\n",
       "      <td>85</td>\n",
       "      <td>77</td>\n",
       "      <td>30</td>\n",
       "      <td>...</td>\n",
       "      <td>5</td>\n",
       "      <td>99</td>\n",
       "      <td>15</td>\n",
       "      <td>64</td>\n",
       "      <td>10</td>\n",
       "      <td>36</td>\n",
       "      <td>41</td>\n",
       "      <td>7</td>\n",
       "      <td>98</td>\n",
       "      <td>32</td>\n",
       "    </tr>\n",
       "    <tr>\n",
       "      <th>298</th>\n",
       "      <td>68</td>\n",
       "      <td>99</td>\n",
       "      <td>26</td>\n",
       "      <td>4</td>\n",
       "      <td>32</td>\n",
       "      <td>85</td>\n",
       "      <td>59</td>\n",
       "      <td>43</td>\n",
       "      <td>86</td>\n",
       "      <td>16</td>\n",
       "      <td>...</td>\n",
       "      <td>23</td>\n",
       "      <td>34</td>\n",
       "      <td>42</td>\n",
       "      <td>32</td>\n",
       "      <td>56</td>\n",
       "      <td>62</td>\n",
       "      <td>88</td>\n",
       "      <td>83</td>\n",
       "      <td>16</td>\n",
       "      <td>59</td>\n",
       "    </tr>\n",
       "    <tr>\n",
       "      <th>299</th>\n",
       "      <td>64</td>\n",
       "      <td>60</td>\n",
       "      <td>14</td>\n",
       "      <td>71</td>\n",
       "      <td>15</td>\n",
       "      <td>81</td>\n",
       "      <td>26</td>\n",
       "      <td>92</td>\n",
       "      <td>17</td>\n",
       "      <td>39</td>\n",
       "      <td>...</td>\n",
       "      <td>15</td>\n",
       "      <td>10</td>\n",
       "      <td>71</td>\n",
       "      <td>47</td>\n",
       "      <td>65</td>\n",
       "      <td>94</td>\n",
       "      <td>50</td>\n",
       "      <td>80</td>\n",
       "      <td>46</td>\n",
       "      <td>26</td>\n",
       "    </tr>\n",
       "  </tbody>\n",
       "</table>\n",
       "<p>300 rows × 400 columns</p>\n",
       "</div>"
      ],
      "text/plain": [
       "     0    1    2    3    4    5    6    7    8    9    ...  390  391  392  \\\n",
       "0     43  107   18   79   48   16   83   20   23   94  ...   39   65   72   \n",
       "1     48   93   34   42   33    8   79   98   25   36  ...   34   79   43   \n",
       "2     67   42   77   80   85   96   39  106   94   36  ...  108   43   59   \n",
       "3     40   31    7  108   40   86   37   41    7  108  ...   48   58   69   \n",
       "4     15   46   95   98  106   75   97   58   44   94  ...   11  105   55   \n",
       "..   ...  ...  ...  ...  ...  ...  ...  ...  ...  ...  ...  ...  ...  ...   \n",
       "295   76   99   70   80   61    3   77  103  106   85  ...   83   42   22   \n",
       "296   51   68   39   96   67   63   41   73   35   76  ...   71   24   55   \n",
       "297  100   64   78   45   73   20  105   85   77   30  ...    5   99   15   \n",
       "298   68   99   26    4   32   85   59   43   86   16  ...   23   34   42   \n",
       "299   64   60   14   71   15   81   26   92   17   39  ...   15   10   71   \n",
       "\n",
       "     393  394  395  396  397  398  399  \n",
       "0     11    1   29   69   42   29   29  \n",
       "1     35   53   69   29   55   64   56  \n",
       "2      1   62   73  109   95   97   11  \n",
       "3      4   84   89   35   87  106   57  \n",
       "4     69   77   15   71   34   44   57  \n",
       "..   ...  ...  ...  ...  ...  ...  ...  \n",
       "295   37   40   13   50  100   74  103  \n",
       "296   95   31  109   82   11   71  109  \n",
       "297   64   10   36   41    7   98   32  \n",
       "298   32   56   62   88   83   16   59  \n",
       "299   47   65   94   50   80   46   26  \n",
       "\n",
       "[300 rows x 400 columns]"
      ]
     },
     "execution_count": 241,
     "metadata": {},
     "output_type": "execute_result"
    }
   ],
   "source": [
    "pd.DataFrame(np.random.randint(1,110 , (300,400)))"
   ]
  },
  {
   "cell_type": "code",
   "execution_count": 242,
   "id": "941e27b3-b9ef-4224-8bdc-7a9afe4dcc00",
   "metadata": {},
   "outputs": [],
   "source": [
    "pd.DataFrame(np.random.randint(1,110 , (300,400))).to_csv('test.csv')"
   ]
  },
  {
   "cell_type": "code",
   "execution_count": 243,
   "id": "dfa812c4-8c83-40ef-9f2e-15a48862a9e8",
   "metadata": {},
   "outputs": [],
   "source": [
    "arr = np.random.rand(3,4)"
   ]
  },
  {
   "cell_type": "code",
   "execution_count": 244,
   "id": "924094e5-5b37-470e-b24e-1c1d1ca58ebc",
   "metadata": {},
   "outputs": [
    {
     "data": {
      "text/plain": [
       "array([[0.69263701, 0.66246303, 0.53744454, 0.26857821],\n",
       "       [0.92622509, 0.3381813 , 0.68776456, 0.6370894 ],\n",
       "       [0.64441556, 0.00733947, 0.58373032, 0.67374131]])"
      ]
     },
     "execution_count": 244,
     "metadata": {},
     "output_type": "execute_result"
    }
   ],
   "source": [
    "arr"
   ]
  },
  {
   "cell_type": "code",
   "execution_count": 245,
   "id": "443822b9-b252-4be8-a3f7-590d97616a29",
   "metadata": {},
   "outputs": [
    {
     "data": {
      "text/plain": [
       "array([[0.69263701, 0.66246303],\n",
       "       [0.53744454, 0.26857821],\n",
       "       [0.92622509, 0.3381813 ],\n",
       "       [0.68776456, 0.6370894 ],\n",
       "       [0.64441556, 0.00733947],\n",
       "       [0.58373032, 0.67374131]])"
      ]
     },
     "execution_count": 245,
     "metadata": {},
     "output_type": "execute_result"
    }
   ],
   "source": [
    "arr.reshape(6,-1)"
   ]
  },
  {
   "cell_type": "code",
   "execution_count": 246,
   "id": "683660de-3236-44a2-acec-28734e94677d",
   "metadata": {},
   "outputs": [],
   "source": [
    "arr1 = arr.reshape(6,-134353553435)"
   ]
  },
  {
   "cell_type": "code",
   "execution_count": 247,
   "id": "4d6919b5-9369-4052-be18-895148800908",
   "metadata": {},
   "outputs": [
    {
     "data": {
      "text/plain": [
       "array([[0.69263701, 0.66246303],\n",
       "       [0.53744454, 0.26857821],\n",
       "       [0.92622509, 0.3381813 ],\n",
       "       [0.68776456, 0.6370894 ],\n",
       "       [0.64441556, 0.00733947],\n",
       "       [0.58373032, 0.67374131]])"
      ]
     },
     "execution_count": 247,
     "metadata": {},
     "output_type": "execute_result"
    }
   ],
   "source": [
    "arr1"
   ]
  },
  {
   "cell_type": "code",
   "execution_count": 248,
   "id": "c789b201-52a4-4263-865c-fd088910e367",
   "metadata": {},
   "outputs": [
    {
     "data": {
      "text/plain": [
       "np.float64(0.2685782120071377)"
      ]
     },
     "execution_count": 248,
     "metadata": {},
     "output_type": "execute_result"
    }
   ],
   "source": [
    "arr1[1][1]"
   ]
  },
  {
   "cell_type": "code",
   "execution_count": 249,
   "id": "e8723959",
   "metadata": {},
   "outputs": [
    {
     "data": {
      "text/plain": [
       "array([[0.92622509, 0.3381813 ],\n",
       "       [0.68776456, 0.6370894 ],\n",
       "       [0.64441556, 0.00733947]])"
      ]
     },
     "execution_count": 249,
     "metadata": {},
     "output_type": "execute_result"
    }
   ],
   "source": [
    "arr1[2:5]"
   ]
  },
  {
   "cell_type": "code",
   "execution_count": 74,
   "id": "071194b0-b65f-4bed-8317-e692032c3316",
   "metadata": {},
   "outputs": [
    {
     "data": {
      "text/plain": [
       "array([0.11261271, 0.88517468, 0.95834463])"
      ]
     },
     "execution_count": 74,
     "metadata": {},
     "output_type": "execute_result"
    }
   ],
   "source": [
    "arr1[2:5,1]"
   ]
  },
  {
   "cell_type": "code",
   "execution_count": 75,
   "id": "a56fc792-c12a-409f-85bb-b997ec848ee7",
   "metadata": {},
   "outputs": [],
   "source": [
    "arr = np.random.randint(1,100 , (5,5))"
   ]
  },
  {
   "cell_type": "code",
   "execution_count": 76,
   "id": "a0f7dd58-668d-48e4-9ba4-4986909abfc0",
   "metadata": {},
   "outputs": [
    {
     "data": {
      "text/plain": [
       "array([[80, 92, 12, 85, 96],\n",
       "       [64, 26,  4, 97, 81],\n",
       "       [ 3, 48, 90, 71,  7],\n",
       "       [16, 94, 66, 73, 18],\n",
       "       [ 9, 87, 75, 60, 52]], dtype=int32)"
      ]
     },
     "execution_count": 76,
     "metadata": {},
     "output_type": "execute_result"
    }
   ],
   "source": [
    "arr"
   ]
  },
  {
   "cell_type": "code",
   "execution_count": 77,
   "id": "7aad19ec-6d3f-480d-aa0c-df4ca1291733",
   "metadata": {},
   "outputs": [
    {
     "data": {
      "text/plain": [
       "array([80, 92, 85, 96, 64, 97, 81, 90, 71, 94, 66, 73, 87, 75, 60, 52],\n",
       "      dtype=int32)"
      ]
     },
     "execution_count": 77,
     "metadata": {},
     "output_type": "execute_result"
    }
   ],
   "source": [
    "arr[arr>50]"
   ]
  },
  {
   "cell_type": "code",
   "execution_count": 78,
   "id": "1b02ca52-b1b3-4fa8-bd93-3717816e7591",
   "metadata": {},
   "outputs": [
    {
     "data": {
      "text/plain": [
       "array([[80, 92, 12, 85, 96],\n",
       "       [64, 26,  4, 97, 81],\n",
       "       [ 3, 48, 90, 71,  7],\n",
       "       [16, 94, 66, 73, 18],\n",
       "       [ 9, 87, 75, 60, 52]], dtype=int32)"
      ]
     },
     "execution_count": 78,
     "metadata": {},
     "output_type": "execute_result"
    }
   ],
   "source": [
    "arr"
   ]
  },
  {
   "cell_type": "code",
   "execution_count": 79,
   "id": "041505cb-20f5-447c-b058-0d62f2f472e7",
   "metadata": {},
   "outputs": [
    {
     "data": {
      "text/plain": [
       "array([[48, 90],\n",
       "       [94, 66]], dtype=int32)"
      ]
     },
     "execution_count": 79,
     "metadata": {},
     "output_type": "execute_result"
    }
   ],
   "source": [
    "arr[2:4 , [1,2]]"
   ]
  },
  {
   "cell_type": "code",
   "execution_count": 80,
   "id": "d3541d0c-c152-4cff-8a3f-a94a14be769a",
   "metadata": {},
   "outputs": [],
   "source": [
    "arr[0][0] = 5000"
   ]
  },
  {
   "cell_type": "code",
   "execution_count": 81,
   "id": "655696e2-9f75-4fbc-9dda-79c5a934a1a7",
   "metadata": {},
   "outputs": [
    {
     "data": {
      "text/plain": [
       "array([[5000,   92,   12,   85,   96],\n",
       "       [  64,   26,    4,   97,   81],\n",
       "       [   3,   48,   90,   71,    7],\n",
       "       [  16,   94,   66,   73,   18],\n",
       "       [   9,   87,   75,   60,   52]], dtype=int32)"
      ]
     },
     "execution_count": 81,
     "metadata": {},
     "output_type": "execute_result"
    }
   ],
   "source": [
    "arr"
   ]
  },
  {
   "cell_type": "code",
   "execution_count": 356,
   "id": "c9b54bc7-a24f-428a-963e-22d7f06de522",
   "metadata": {},
   "outputs": [],
   "source": [
    "arr1 = np.random.randint(1,3 , (3,3))\n",
    "arr2 = np.random.randint(1,3 , (3,3))"
   ]
  },
  {
   "cell_type": "code",
   "execution_count": 357,
   "id": "9abc3bd0-459c-4d26-be84-786959e4f220",
   "metadata": {},
   "outputs": [
    {
     "data": {
      "text/plain": [
       "array([[1, 2, 1],\n",
       "       [2, 1, 2],\n",
       "       [2, 1, 2]], dtype=int32)"
      ]
     },
     "execution_count": 357,
     "metadata": {},
     "output_type": "execute_result"
    }
   ],
   "source": [
    "arr1"
   ]
  },
  {
   "cell_type": "code",
   "execution_count": 358,
   "id": "42603651-479b-442e-8768-229cb3309e5c",
   "metadata": {},
   "outputs": [
    {
     "data": {
      "text/plain": [
       "array([[2, 2, 2],\n",
       "       [1, 2, 1],\n",
       "       [2, 1, 2]], dtype=int32)"
      ]
     },
     "execution_count": 358,
     "metadata": {},
     "output_type": "execute_result"
    }
   ],
   "source": [
    "arr2\n"
   ]
  },
  {
   "cell_type": "code",
   "execution_count": 359,
   "id": "b3fc7365-7c4d-42e8-bf94-9ba5b1983cb7",
   "metadata": {},
   "outputs": [
    {
     "data": {
      "text/plain": [
       "array([[3, 4, 3],\n",
       "       [3, 3, 3],\n",
       "       [4, 2, 4]], dtype=int32)"
      ]
     },
     "execution_count": 359,
     "metadata": {},
     "output_type": "execute_result"
    }
   ],
   "source": [
    "arr1+arr2"
   ]
  },
  {
   "cell_type": "code",
   "execution_count": 360,
   "id": "84f07dc1-0f29-46a9-bdd8-695d7060ebe9",
   "metadata": {},
   "outputs": [
    {
     "data": {
      "text/plain": [
       "array([[-1,  0, -1],\n",
       "       [ 1, -1,  1],\n",
       "       [ 0,  0,  0]], dtype=int32)"
      ]
     },
     "execution_count": 360,
     "metadata": {},
     "output_type": "execute_result"
    }
   ],
   "source": [
    "arr1-arr2"
   ]
  },
  {
   "cell_type": "code",
   "execution_count": 87,
   "id": "49a34c34-2fcc-45c8-a1c9-6ebe6e993dca",
   "metadata": {},
   "outputs": [
    {
     "data": {
      "text/plain": [
       "array([[1. , 1. , 2. ],\n",
       "       [1. , 0.5, 1. ],\n",
       "       [2. , 1. , 1. ]])"
      ]
     },
     "execution_count": 87,
     "metadata": {},
     "output_type": "execute_result"
    }
   ],
   "source": [
    "arr1/arr2"
   ]
  },
  {
   "cell_type": "code",
   "execution_count": 361,
   "id": "0ed674d1-a1f3-45f2-bd44-c4e9bb2fd458",
   "metadata": {},
   "outputs": [
    {
     "data": {
      "text/plain": [
       "array([[2, 4, 2],\n",
       "       [2, 2, 2],\n",
       "       [4, 1, 4]], dtype=int32)"
      ]
     },
     "execution_count": 361,
     "metadata": {},
     "output_type": "execute_result"
    }
   ],
   "source": [
    "arr1 * arr2"
   ]
  },
  {
   "cell_type": "code",
   "execution_count": 362,
   "id": "e1e9fa53-7a19-4941-9f42-70012fdaf9b5",
   "metadata": {},
   "outputs": [
    {
     "data": {
      "text/plain": [
       "array([[1, 2, 1],\n",
       "       [2, 1, 2],\n",
       "       [2, 1, 2]], dtype=int32)"
      ]
     },
     "execution_count": 362,
     "metadata": {},
     "output_type": "execute_result"
    }
   ],
   "source": [
    "arr1"
   ]
  },
  {
   "cell_type": "code",
   "execution_count": 363,
   "id": "80becb6c-b940-4ff3-bd8d-39d1209905bf",
   "metadata": {},
   "outputs": [
    {
     "data": {
      "text/plain": [
       "array([[2, 2, 2],\n",
       "       [1, 2, 1],\n",
       "       [2, 1, 2]], dtype=int32)"
      ]
     },
     "execution_count": 363,
     "metadata": {},
     "output_type": "execute_result"
    }
   ],
   "source": [
    "arr2"
   ]
  },
  {
   "cell_type": "code",
   "execution_count": 364,
   "id": "c6f5a6ab-db3a-4517-836f-86cc61f12c32",
   "metadata": {},
   "outputs": [
    {
     "data": {
      "text/plain": [
       "array([[6, 7, 6],\n",
       "       [9, 8, 9],\n",
       "       [9, 8, 9]], dtype=int32)"
      ]
     },
     "execution_count": 364,
     "metadata": {},
     "output_type": "execute_result"
    }
   ],
   "source": [
    "arr1@arr2"
   ]
  },
  {
   "cell_type": "code",
   "execution_count": 365,
   "id": "0187979b-c3aa-4993-9811-cba5a0997765",
   "metadata": {},
   "outputs": [
    {
     "name": "stderr",
     "output_type": "stream",
     "text": [
      "C:\\Users\\singh\\AppData\\Local\\Temp\\ipykernel_3188\\1510032488.py:1: RuntimeWarning: divide by zero encountered in divide\n",
      "  arr1/0\n"
     ]
    },
    {
     "data": {
      "text/plain": [
       "array([[inf, inf, inf],\n",
       "       [inf, inf, inf],\n",
       "       [inf, inf, inf]])"
      ]
     },
     "execution_count": 365,
     "metadata": {},
     "output_type": "execute_result"
    }
   ],
   "source": [
    "arr1/0"
   ]
  },
  {
   "cell_type": "code",
   "execution_count": 93,
   "id": "8a089e96-7b2d-4bcd-bcb3-e9476a91a8a3",
   "metadata": {},
   "outputs": [
    {
     "data": {
      "text/plain": [
       "array([[101, 101, 102],\n",
       "       [101, 101, 102],\n",
       "       [102, 101, 101]], dtype=int32)"
      ]
     },
     "execution_count": 93,
     "metadata": {},
     "output_type": "execute_result"
    }
   ],
   "source": [
    "arr1 +100"
   ]
  },
  {
   "cell_type": "code",
   "execution_count": 94,
   "id": "d8f20089-ae42-4a3b-be56-d040ad68ad6d",
   "metadata": {},
   "outputs": [
    {
     "data": {
      "text/plain": [
       "array([[1, 1, 4],\n",
       "       [1, 1, 4],\n",
       "       [4, 1, 1]], dtype=int32)"
      ]
     },
     "execution_count": 94,
     "metadata": {},
     "output_type": "execute_result"
    }
   ],
   "source": [
    "arr1**2"
   ]
  },
  {
   "cell_type": "code",
   "execution_count": 95,
   "id": "5b535a52-008f-4f43-9682-5607b9380262",
   "metadata": {},
   "outputs": [],
   "source": [
    "#Numpy – Broadcasting."
   ]
  },
  {
   "cell_type": "code",
   "execution_count": 96,
   "id": "578eed9d-f5fb-4484-8fd3-3496760bbf7e",
   "metadata": {},
   "outputs": [],
   "source": [
    "arr =np.zeros((4,4))"
   ]
  },
  {
   "cell_type": "code",
   "execution_count": 97,
   "id": "74344e7d-dee9-4bb0-a32e-be2d3a87275f",
   "metadata": {},
   "outputs": [
    {
     "data": {
      "text/plain": [
       "array([[0., 0., 0., 0.],\n",
       "       [0., 0., 0., 0.],\n",
       "       [0., 0., 0., 0.],\n",
       "       [0., 0., 0., 0.]])"
      ]
     },
     "execution_count": 97,
     "metadata": {},
     "output_type": "execute_result"
    }
   ],
   "source": [
    "arr"
   ]
  },
  {
   "cell_type": "code",
   "execution_count": 98,
   "id": "04141898-8d4c-4762-8db5-be03144c425b",
   "metadata": {},
   "outputs": [],
   "source": [
    "row = np.array([1,2,3,4])"
   ]
  },
  {
   "cell_type": "code",
   "execution_count": 99,
   "id": "79f7cd0d-f475-4b00-9b66-453961437308",
   "metadata": {},
   "outputs": [
    {
     "data": {
      "text/plain": [
       "(4,)"
      ]
     },
     "execution_count": 99,
     "metadata": {},
     "output_type": "execute_result"
    }
   ],
   "source": [
    "row.shape"
   ]
  },
  {
   "cell_type": "code",
   "execution_count": 100,
   "id": "d13ca14f-64e6-46b3-9561-9cbf0c1ec17b",
   "metadata": {},
   "outputs": [
    {
     "data": {
      "text/plain": [
       "array([[1., 2., 3., 4.],\n",
       "       [1., 2., 3., 4.],\n",
       "       [1., 2., 3., 4.],\n",
       "       [1., 2., 3., 4.]])"
      ]
     },
     "execution_count": 100,
     "metadata": {},
     "output_type": "execute_result"
    }
   ],
   "source": [
    "arr + row"
   ]
  },
  {
   "cell_type": "code",
   "execution_count": 101,
   "id": "0c4b72e2-64c8-4659-a65a-34544818e145",
   "metadata": {},
   "outputs": [
    {
     "data": {
      "text/plain": [
       "array([1, 2, 3, 4])"
      ]
     },
     "execution_count": 101,
     "metadata": {},
     "output_type": "execute_result"
    }
   ],
   "source": [
    "row.T"
   ]
  },
  {
   "cell_type": "code",
   "execution_count": 422,
   "id": "2426c44c-356f-469e-bffc-228861927a38",
   "metadata": {},
   "outputs": [],
   "source": [
    "col = np.array([[1,2,3,4]])"
   ]
  },
  {
   "cell_type": "code",
   "execution_count": 423,
   "id": "58a756e2",
   "metadata": {},
   "outputs": [
    {
     "data": {
      "text/plain": [
       "array([[1],\n",
       "       [2],\n",
       "       [3],\n",
       "       [4]])"
      ]
     },
     "execution_count": 423,
     "metadata": {},
     "output_type": "execute_result"
    }
   ],
   "source": [
    "col.T"
   ]
  },
  {
   "cell_type": "code",
   "execution_count": 103,
   "id": "9a5521e6-8934-48f9-b1ac-c46a95785b6d",
   "metadata": {},
   "outputs": [
    {
     "data": {
      "text/plain": [
       "array([[1., 1., 1., 1.],\n",
       "       [2., 2., 2., 2.],\n",
       "       [3., 3., 3., 3.],\n",
       "       [4., 4., 4., 4.]])"
      ]
     },
     "execution_count": 103,
     "metadata": {},
     "output_type": "execute_result"
    }
   ],
   "source": [
    "col.T + arr"
   ]
  },
  {
   "cell_type": "code",
   "execution_count": 104,
   "id": "cda4baa8-72fc-4bb4-9294-eb48cb58c4ba",
   "metadata": {},
   "outputs": [
    {
     "data": {
      "text/plain": [
       "array([[1, 2, 3, 4]])"
      ]
     },
     "execution_count": 104,
     "metadata": {},
     "output_type": "execute_result"
    }
   ],
   "source": [
    "col"
   ]
  },
  {
   "cell_type": "code",
   "execution_count": 105,
   "id": "91b60593-5434-4928-a375-72f5eb65a639",
   "metadata": {},
   "outputs": [
    {
     "data": {
      "text/plain": [
       "array([[0., 0., 0., 0.],\n",
       "       [0., 0., 0., 0.],\n",
       "       [0., 0., 0., 0.],\n",
       "       [0., 0., 0., 0.]])"
      ]
     },
     "execution_count": 105,
     "metadata": {},
     "output_type": "execute_result"
    }
   ],
   "source": [
    "arr"
   ]
  },
  {
   "cell_type": "code",
   "execution_count": 106,
   "id": "e68aec4e-63a2-46fa-b9e8-912183489fc7",
   "metadata": {},
   "outputs": [],
   "source": [
    "arr1 = np.random.randint(1,4 , (3,4))"
   ]
  },
  {
   "cell_type": "code",
   "execution_count": 107,
   "id": "8d628304-70c6-4034-bc1c-c64130b9eae6",
   "metadata": {},
   "outputs": [
    {
     "data": {
      "text/plain": [
       "array([[1, 2, 1, 2],\n",
       "       [3, 2, 2, 2],\n",
       "       [2, 1, 3, 3]], dtype=int32)"
      ]
     },
     "execution_count": 107,
     "metadata": {},
     "output_type": "execute_result"
    }
   ],
   "source": [
    "arr1"
   ]
  },
  {
   "cell_type": "code",
   "execution_count": 108,
   "id": "0b3dc448-a57f-4e7d-8e8a-e6318a6330d3",
   "metadata": {},
   "outputs": [
    {
     "data": {
      "text/plain": [
       "array([[1.        , 1.41421356, 1.        , 1.41421356],\n",
       "       [1.73205081, 1.41421356, 1.41421356, 1.41421356],\n",
       "       [1.41421356, 1.        , 1.73205081, 1.73205081]])"
      ]
     },
     "execution_count": 108,
     "metadata": {},
     "output_type": "execute_result"
    }
   ],
   "source": [
    "np.sqrt(arr1)"
   ]
  },
  {
   "cell_type": "code",
   "execution_count": 109,
   "id": "67746c9a-49b1-4446-94e2-0f1c7de8a9fa",
   "metadata": {},
   "outputs": [
    {
     "data": {
      "text/plain": [
       "array([[ 2.71828183,  7.3890561 ,  2.71828183,  7.3890561 ],\n",
       "       [20.08553692,  7.3890561 ,  7.3890561 ,  7.3890561 ],\n",
       "       [ 7.3890561 ,  2.71828183, 20.08553692, 20.08553692]])"
      ]
     },
     "execution_count": 109,
     "metadata": {},
     "output_type": "execute_result"
    }
   ],
   "source": [
    "np.exp(arr1)"
   ]
  },
  {
   "cell_type": "code",
   "execution_count": 110,
   "id": "e7023b99-dd77-45ba-b34b-39a0676d7086",
   "metadata": {},
   "outputs": [
    {
     "data": {
      "text/plain": [
       "array([[0.        , 0.30103   , 0.        , 0.30103   ],\n",
       "       [0.47712125, 0.30103   , 0.30103   , 0.30103   ],\n",
       "       [0.30103   , 0.        , 0.47712125, 0.47712125]])"
      ]
     },
     "execution_count": 110,
     "metadata": {},
     "output_type": "execute_result"
    }
   ],
   "source": [
    "np.log10(arr1)"
   ]
  },
  {
   "cell_type": "code",
   "execution_count": null,
   "id": "93b77190",
   "metadata": {},
   "outputs": [],
   "source": []
  }
 ],
 "metadata": {
  "kernelspec": {
   "display_name": "Python 3",
   "language": "python",
   "name": "python3"
  },
  "language_info": {
   "codemirror_mode": {
    "name": "ipython",
    "version": 3
   },
   "file_extension": ".py",
   "mimetype": "text/x-python",
   "name": "python",
   "nbconvert_exporter": "python",
   "pygments_lexer": "ipython3",
   "version": "3.13.0"
  }
 },
 "nbformat": 4,
 "nbformat_minor": 5
}
