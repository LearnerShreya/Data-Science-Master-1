{
 "cells": [
  {
   "cell_type": "code",
   "execution_count": 1,
   "id": "1890f2f5-6c16-4566-96a3-380acb9259e6",
   "metadata": {},
   "outputs": [],
   "source": [
    "#Numpy - Array Manipulation."
   ]
  },
  {
   "cell_type": "code",
   "execution_count": 2,
   "id": "dba4df9f-2c20-4ce4-a433-ef64cad090d0",
   "metadata": {},
   "outputs": [],
   "source": [
    "import numpy as np"
   ]
  },
  {
   "cell_type": "code",
   "execution_count": 3,
   "id": "5632259c-dc2a-4f2a-9b61-7f383ea33a1b",
   "metadata": {},
   "outputs": [],
   "source": [
    "arr = np.random.randint(1,10 , (3,4))"
   ]
  },
  {
   "cell_type": "code",
   "execution_count": 4,
   "id": "eee2bbe4-55eb-41ec-9fad-e56bc005a6b3",
   "metadata": {},
   "outputs": [
    {
     "data": {
      "text/plain": [
       "array([[3, 2, 1, 1],\n",
       "       [6, 8, 6, 5],\n",
       "       [1, 3, 8, 9]], dtype=int32)"
      ]
     },
     "execution_count": 4,
     "metadata": {},
     "output_type": "execute_result"
    }
   ],
   "source": [
    "arr"
   ]
  },
  {
   "cell_type": "code",
   "execution_count": 5,
   "id": "d55d33e1-985f-4070-97d2-8eacf70b2ff8",
   "metadata": {},
   "outputs": [
    {
     "data": {
      "text/plain": [
       "array([[3, 2],\n",
       "       [1, 1],\n",
       "       [6, 8],\n",
       "       [6, 5],\n",
       "       [1, 3],\n",
       "       [8, 9]], dtype=int32)"
      ]
     },
     "execution_count": 5,
     "metadata": {},
     "output_type": "execute_result"
    }
   ],
   "source": [
    "arr.reshape(6,2)"
   ]
  },
  {
   "cell_type": "code",
   "execution_count": 6,
   "id": "09cb23cc-8b83-467b-827d-dfbfa8b634c3",
   "metadata": {},
   "outputs": [
    {
     "data": {
      "text/plain": [
       "array([[3, 2, 1, 1, 6, 8],\n",
       "       [6, 5, 1, 3, 8, 9]], dtype=int32)"
      ]
     },
     "execution_count": 6,
     "metadata": {},
     "output_type": "execute_result"
    }
   ],
   "source": [
    "arr.reshape(2,6)"
   ]
  },
  {
   "cell_type": "code",
   "execution_count": 7,
   "id": "77eac4b6-d3c2-4a93-8c2f-bb711417539b",
   "metadata": {},
   "outputs": [
    {
     "data": {
      "text/plain": [
       "array([[3, 2, 1, 1, 6, 8],\n",
       "       [6, 5, 1, 3, 8, 9]], dtype=int32)"
      ]
     },
     "execution_count": 7,
     "metadata": {},
     "output_type": "execute_result"
    }
   ],
   "source": [
    "arr.reshape(2,-242342)"
   ]
  },
  {
   "cell_type": "code",
   "execution_count": 8,
   "id": "43be7e8d-cc68-4191-baad-4bf94af48189",
   "metadata": {},
   "outputs": [
    {
     "data": {
      "text/plain": [
       "array([[3, 6, 1],\n",
       "       [2, 8, 3],\n",
       "       [1, 6, 8],\n",
       "       [1, 5, 9]], dtype=int32)"
      ]
     },
     "execution_count": 8,
     "metadata": {},
     "output_type": "execute_result"
    }
   ],
   "source": [
    "arr.T"
   ]
  },
  {
   "cell_type": "code",
   "execution_count": 9,
   "id": "9c1b0a47-41c2-4f36-8750-9603ba7a3a15",
   "metadata": {},
   "outputs": [
    {
     "data": {
      "text/plain": [
       "array([[3, 2, 1, 1],\n",
       "       [6, 8, 6, 5],\n",
       "       [1, 3, 8, 9]], dtype=int32)"
      ]
     },
     "execution_count": 9,
     "metadata": {},
     "output_type": "execute_result"
    }
   ],
   "source": [
    "arr"
   ]
  },
  {
   "cell_type": "code",
   "execution_count": 10,
   "id": "2fd29656-e8be-431a-af9c-7dbaf4e39571",
   "metadata": {},
   "outputs": [
    {
     "data": {
      "text/plain": [
       "array([3, 2, 1, 1, 6, 8, 6, 5, 1, 3, 8, 9], dtype=int32)"
      ]
     },
     "execution_count": 10,
     "metadata": {},
     "output_type": "execute_result"
    }
   ],
   "source": [
    "arr.flatten()"
   ]
  },
  {
   "cell_type": "code",
   "execution_count": 11,
   "id": "6f7862fc-ec30-47dc-bce8-b5101301205c",
   "metadata": {},
   "outputs": [],
   "source": [
    "arr1 = np.array([1,2,3,3,4])"
   ]
  },
  {
   "cell_type": "code",
   "execution_count": 12,
   "id": "15357b1f-eff7-4453-89e8-3948f925c481",
   "metadata": {},
   "outputs": [
    {
     "data": {
      "text/plain": [
       "1"
      ]
     },
     "execution_count": 12,
     "metadata": {},
     "output_type": "execute_result"
    }
   ],
   "source": [
    "arr1.ndim"
   ]
  },
  {
   "cell_type": "code",
   "execution_count": 13,
   "id": "828fbacd-05dd-4ec7-9a9f-be474c13eff5",
   "metadata": {},
   "outputs": [
    {
     "data": {
      "text/plain": [
       "array([[1],\n",
       "       [2],\n",
       "       [3],\n",
       "       [3],\n",
       "       [4]])"
      ]
     },
     "execution_count": 13,
     "metadata": {},
     "output_type": "execute_result"
    }
   ],
   "source": [
    "np.expand_dims(arr1 ,axis=1)"
   ]
  },
  {
   "cell_type": "code",
   "execution_count": 14,
   "id": "581f2a02-7a94-46cf-ad50-89256379696e",
   "metadata": {},
   "outputs": [
    {
     "data": {
      "text/plain": [
       "array([[1, 2, 3, 3, 4]])"
      ]
     },
     "execution_count": 14,
     "metadata": {},
     "output_type": "execute_result"
    }
   ],
   "source": [
    "np.expand_dims(arr1 ,axis=0)"
   ]
  },
  {
   "cell_type": "code",
   "execution_count": 15,
   "id": "c5da4146-1911-4cb2-aed2-3adcb693bb51",
   "metadata": {},
   "outputs": [
    {
     "data": {
      "text/plain": [
       "array([[3, 2, 1, 1],\n",
       "       [6, 8, 6, 5],\n",
       "       [1, 3, 8, 9]], dtype=int32)"
      ]
     },
     "execution_count": 15,
     "metadata": {},
     "output_type": "execute_result"
    }
   ],
   "source": [
    "arr"
   ]
  },
  {
   "cell_type": "code",
   "execution_count": 16,
   "id": "cb422a7e-f8c2-4df6-b7e0-56dc63a7c116",
   "metadata": {},
   "outputs": [
    {
     "data": {
      "text/plain": [
       "array([[3, 2, 1, 1],\n",
       "       [6, 8, 6, 5],\n",
       "       [1, 3, 8, 9]], dtype=int32)"
      ]
     },
     "execution_count": 16,
     "metadata": {},
     "output_type": "execute_result"
    }
   ],
   "source": [
    "np.squeeze(arr)"
   ]
  },
  {
   "cell_type": "code",
   "execution_count": 17,
   "id": "482a100e-261c-4a52-b7af-fc34c9dc8487",
   "metadata": {},
   "outputs": [],
   "source": [
    "data = np.array([[1] , [2] , [3]])"
   ]
  },
  {
   "cell_type": "code",
   "execution_count": 18,
   "id": "2e0329cd-c448-499f-a364-f4fbd2653fa8",
   "metadata": {},
   "outputs": [
    {
     "data": {
      "text/plain": [
       "array([[1],\n",
       "       [2],\n",
       "       [3]])"
      ]
     },
     "execution_count": 18,
     "metadata": {},
     "output_type": "execute_result"
    }
   ],
   "source": [
    "data"
   ]
  },
  {
   "cell_type": "code",
   "execution_count": 19,
   "id": "927de255-bce2-4de3-9814-46ec3c7a4ef1",
   "metadata": {},
   "outputs": [
    {
     "data": {
      "text/plain": [
       "array([1, 2, 3])"
      ]
     },
     "execution_count": 19,
     "metadata": {},
     "output_type": "execute_result"
    }
   ],
   "source": [
    "np.squeeze(data)"
   ]
  },
  {
   "cell_type": "code",
   "execution_count": 20,
   "id": "25033fa3-39c5-4f5b-a18e-822fa164aff2",
   "metadata": {},
   "outputs": [
    {
     "data": {
      "text/plain": [
       "array([1, 2, 3, 3, 4])"
      ]
     },
     "execution_count": 20,
     "metadata": {},
     "output_type": "execute_result"
    }
   ],
   "source": [
    "arr1"
   ]
  },
  {
   "cell_type": "code",
   "execution_count": 21,
   "id": "791c67b7-bafc-489f-8ff9-b27ace034515",
   "metadata": {},
   "outputs": [
    {
     "data": {
      "text/plain": [
       "array([1, 1, 1, 2, 2, 2, 3, 3, 3, 3, 3, 3, 4, 4, 4])"
      ]
     },
     "execution_count": 21,
     "metadata": {},
     "output_type": "execute_result"
    }
   ],
   "source": [
    "np.repeat(arr1, 3)"
   ]
  },
  {
   "cell_type": "code",
   "execution_count": 22,
   "id": "4ed5803c-fcb2-4112-83dc-e4a7cf80051f",
   "metadata": {},
   "outputs": [
    {
     "data": {
      "text/plain": [
       "array([3, 3, 4, 1, 2])"
      ]
     },
     "execution_count": 22,
     "metadata": {},
     "output_type": "execute_result"
    }
   ],
   "source": [
    "np.roll(arr1 , 3)"
   ]
  },
  {
   "cell_type": "code",
   "execution_count": 23,
   "id": "06c351b0-3b5e-45aa-adcb-0b6f527f1ad4",
   "metadata": {},
   "outputs": [
    {
     "data": {
      "text/plain": [
       "array([1, 2, 3, 3, 4])"
      ]
     },
     "execution_count": 23,
     "metadata": {},
     "output_type": "execute_result"
    }
   ],
   "source": [
    "arr1"
   ]
  },
  {
   "cell_type": "code",
   "execution_count": 24,
   "id": "9da0c1eb-9542-4359-8c82-1ae43e0d8d70",
   "metadata": {},
   "outputs": [
    {
     "data": {
      "text/plain": [
       "array([[1, 0, 0, 0, 0],\n",
       "       [0, 2, 0, 0, 0],\n",
       "       [0, 0, 3, 0, 0],\n",
       "       [0, 0, 0, 3, 0],\n",
       "       [0, 0, 0, 0, 4]])"
      ]
     },
     "execution_count": 24,
     "metadata": {},
     "output_type": "execute_result"
    }
   ],
   "source": [
    "np.diag(arr1)"
   ]
  },
  {
   "cell_type": "code",
   "execution_count": 25,
   "id": "087bc54f-ac68-4e4e-80a6-b90971b1efc7",
   "metadata": {},
   "outputs": [],
   "source": [
    "# Numpy - Binary Operators."
   ]
  },
  {
   "cell_type": "code",
   "execution_count": 26,
   "id": "4743e781-a032-4b5c-97f9-6790a1475387",
   "metadata": {},
   "outputs": [],
   "source": [
    "arr1 = np.random.randint(1,10 , (3,4))"
   ]
  },
  {
   "cell_type": "code",
   "execution_count": 27,
   "id": "0de34a3b-bb40-438d-8bdd-a50567fd0802",
   "metadata": {},
   "outputs": [],
   "source": [
    "arr2 = np.random.randint(1,10 , (3,4))"
   ]
  },
  {
   "cell_type": "code",
   "execution_count": 28,
   "id": "f365ba96-128e-4d6d-939d-ead1d78b2218",
   "metadata": {},
   "outputs": [
    {
     "data": {
      "text/plain": [
       "array([[1, 3, 9, 6],\n",
       "       [7, 6, 6, 6],\n",
       "       [6, 1, 6, 7]], dtype=int32)"
      ]
     },
     "execution_count": 28,
     "metadata": {},
     "output_type": "execute_result"
    }
   ],
   "source": [
    "arr1"
   ]
  },
  {
   "cell_type": "code",
   "execution_count": 29,
   "id": "bb34436b-4a9d-4eaa-909c-507052b60928",
   "metadata": {},
   "outputs": [
    {
     "data": {
      "text/plain": [
       "array([[8, 2, 1, 6],\n",
       "       [2, 9, 9, 4],\n",
       "       [8, 6, 2, 1]], dtype=int32)"
      ]
     },
     "execution_count": 29,
     "metadata": {},
     "output_type": "execute_result"
    }
   ],
   "source": [
    "arr2"
   ]
  },
  {
   "cell_type": "code",
   "execution_count": 30,
   "id": "2aaa971a-c8b8-4389-bcce-e5ac95233df2",
   "metadata": {},
   "outputs": [
    {
     "data": {
      "text/plain": [
       "array([[ 9,  5, 10, 12],\n",
       "       [ 9, 15, 15, 10],\n",
       "       [14,  7,  8,  8]], dtype=int32)"
      ]
     },
     "execution_count": 30,
     "metadata": {},
     "output_type": "execute_result"
    }
   ],
   "source": [
    "arr1+arr2"
   ]
  },
  {
   "cell_type": "code",
   "execution_count": 31,
   "id": "64bf4340-0f54-4c1b-92a4-25258f707440",
   "metadata": {},
   "outputs": [
    {
     "data": {
      "text/plain": [
       "array([[ 8,  6,  9, 36],\n",
       "       [14, 54, 54, 24],\n",
       "       [48,  6, 12,  7]], dtype=int32)"
      ]
     },
     "execution_count": 31,
     "metadata": {},
     "output_type": "execute_result"
    }
   ],
   "source": [
    "arr1*arr2"
   ]
  },
  {
   "cell_type": "code",
   "execution_count": 32,
   "id": "9cada9db-d70b-4fc7-a799-113eea5feffc",
   "metadata": {},
   "outputs": [
    {
     "data": {
      "text/plain": [
       "array([[0.125     , 1.5       , 9.        , 1.        ],\n",
       "       [3.5       , 0.66666667, 0.66666667, 1.5       ],\n",
       "       [0.75      , 0.16666667, 3.        , 7.        ]])"
      ]
     },
     "execution_count": 32,
     "metadata": {},
     "output_type": "execute_result"
    }
   ],
   "source": [
    "arr1/arr2"
   ]
  },
  {
   "cell_type": "code",
   "execution_count": 33,
   "id": "7aa1aa01-9430-49a6-8512-a1c4659f3239",
   "metadata": {},
   "outputs": [
    {
     "data": {
      "text/plain": [
       "array([[-7,  1,  8,  0],\n",
       "       [ 5, -3, -3,  2],\n",
       "       [-2, -5,  4,  6]], dtype=int32)"
      ]
     },
     "execution_count": 33,
     "metadata": {},
     "output_type": "execute_result"
    }
   ],
   "source": [
    "arr1-arr2"
   ]
  },
  {
   "cell_type": "code",
   "execution_count": 34,
   "id": "ae169e7d-614c-4413-9dc0-4e8c4f549b65",
   "metadata": {},
   "outputs": [
    {
     "data": {
      "text/plain": [
       "array([[1, 1, 0, 0],\n",
       "       [1, 6, 6, 2],\n",
       "       [6, 1, 0, 0]], dtype=int32)"
      ]
     },
     "execution_count": 34,
     "metadata": {},
     "output_type": "execute_result"
    }
   ],
   "source": [
    "arr1%arr2"
   ]
  },
  {
   "cell_type": "code",
   "execution_count": 35,
   "id": "de5cdebb-db94-4214-abee-e700ada41404",
   "metadata": {},
   "outputs": [
    {
     "data": {
      "text/plain": [
       "array([[       1,        9,        9,    46656],\n",
       "       [      49, 10077696, 10077696,     1296],\n",
       "       [ 1679616,        1,       36,        7]], dtype=int32)"
      ]
     },
     "execution_count": 35,
     "metadata": {},
     "output_type": "execute_result"
    }
   ],
   "source": [
    "arr1 ** arr2"
   ]
  },
  {
   "cell_type": "code",
   "execution_count": 36,
   "id": "ba653204-07f5-48da-a72f-f509378710eb",
   "metadata": {},
   "outputs": [
    {
     "data": {
      "text/plain": [
       "array([[0, 2, 1, 6],\n",
       "       [2, 0, 0, 4],\n",
       "       [0, 0, 2, 1]], dtype=int32)"
      ]
     },
     "execution_count": 36,
     "metadata": {},
     "output_type": "execute_result"
    }
   ],
   "source": [
    "arr1 & arr2"
   ]
  },
  {
   "cell_type": "code",
   "execution_count": 37,
   "id": "ad37e291-4287-4b68-9ab6-601fc32b4956",
   "metadata": {},
   "outputs": [
    {
     "data": {
      "text/plain": [
       "array([[1, 3, 9, 6],\n",
       "       [7, 6, 6, 6],\n",
       "       [6, 1, 6, 7]], dtype=int32)"
      ]
     },
     "execution_count": 37,
     "metadata": {},
     "output_type": "execute_result"
    }
   ],
   "source": [
    "arr1"
   ]
  },
  {
   "cell_type": "code",
   "execution_count": 38,
   "id": "485c49a1-042f-4b25-b9c4-f8700428940f",
   "metadata": {},
   "outputs": [
    {
     "data": {
      "text/plain": [
       "array([[8, 2, 1, 6],\n",
       "       [2, 9, 9, 4],\n",
       "       [8, 6, 2, 1]], dtype=int32)"
      ]
     },
     "execution_count": 38,
     "metadata": {},
     "output_type": "execute_result"
    }
   ],
   "source": [
    "arr2"
   ]
  },
  {
   "cell_type": "code",
   "execution_count": 39,
   "id": "89b215f8-56fd-4120-bea1-7f7f9d0a38b9",
   "metadata": {},
   "outputs": [
    {
     "data": {
      "text/plain": [
       "array([[ -2,  -4, -10,  -7],\n",
       "       [ -8,  -7,  -7,  -7],\n",
       "       [ -7,  -2,  -7,  -8]], dtype=int32)"
      ]
     },
     "execution_count": 39,
     "metadata": {},
     "output_type": "execute_result"
    }
   ],
   "source": [
    "~arr1"
   ]
  },
  {
   "cell_type": "code",
   "execution_count": 40,
   "id": "7e510c77-ee13-4d69-9471-44299248149c",
   "metadata": {},
   "outputs": [
    {
     "data": {
      "text/plain": [
       "array([[ 9,  3,  9,  6],\n",
       "       [ 7, 15, 15,  6],\n",
       "       [14,  7,  6,  7]], dtype=int32)"
      ]
     },
     "execution_count": 40,
     "metadata": {},
     "output_type": "execute_result"
    }
   ],
   "source": [
    "arr1|arr2"
   ]
  },
  {
   "cell_type": "code",
   "execution_count": 41,
   "id": "10a1f04d-2d64-4354-8f7a-089f70f21ab8",
   "metadata": {},
   "outputs": [
    {
     "data": {
      "text/plain": [
       "array([[False,  True,  True, False],\n",
       "       [ True, False, False,  True],\n",
       "       [False, False,  True,  True]])"
      ]
     },
     "execution_count": 41,
     "metadata": {},
     "output_type": "execute_result"
    }
   ],
   "source": [
    "arr1>arr2"
   ]
  },
  {
   "cell_type": "code",
   "execution_count": 42,
   "id": "0c577286-be78-48f5-84fb-701aa8a66710",
   "metadata": {},
   "outputs": [],
   "source": [
    "#Numpy - String Functions."
   ]
  },
  {
   "cell_type": "code",
   "execution_count": 43,
   "id": "311e0074-51cc-4ce0-935e-995426b974da",
   "metadata": {},
   "outputs": [],
   "source": [
    "arr = np.array(['sudh' , \"Kumar\"])"
   ]
  },
  {
   "cell_type": "code",
   "execution_count": 44,
   "id": "7a85b714-022c-4604-9f81-b0810abc39b7",
   "metadata": {},
   "outputs": [
    {
     "data": {
      "text/plain": [
       "array(['sudh', 'Kumar'], dtype='<U5')"
      ]
     },
     "execution_count": 44,
     "metadata": {},
     "output_type": "execute_result"
    }
   ],
   "source": [
    "arr"
   ]
  },
  {
   "cell_type": "code",
   "execution_count": 45,
   "id": "2920b441-c446-4d67-a92e-f17047b01881",
   "metadata": {},
   "outputs": [
    {
     "data": {
      "text/plain": [
       "array(['SUDH', 'KUMAR'], dtype='<U5')"
      ]
     },
     "execution_count": 45,
     "metadata": {},
     "output_type": "execute_result"
    }
   ],
   "source": [
    "np.char.upper(arr)"
   ]
  },
  {
   "cell_type": "code",
   "execution_count": 46,
   "id": "3643e8c8-1ef6-438b-9944-a66d408f58f7",
   "metadata": {},
   "outputs": [
    {
     "data": {
      "text/plain": [
       "array(['Sudh', 'Kumar'], dtype='<U5')"
      ]
     },
     "execution_count": 46,
     "metadata": {},
     "output_type": "execute_result"
    }
   ],
   "source": [
    "np.char.title(arr)"
   ]
  },
  {
   "cell_type": "code",
   "execution_count": 47,
   "id": "15e4a766-26e6-4635-a820-af64a00accd7",
   "metadata": {},
   "outputs": [
    {
     "data": {
      "text/plain": [
       "array(['Sudh', 'Kumar'], dtype='<U5')"
      ]
     },
     "execution_count": 47,
     "metadata": {},
     "output_type": "execute_result"
    }
   ],
   "source": [
    "np.char.capitalize(arr)"
   ]
  },
  {
   "cell_type": "code",
   "execution_count": 48,
   "id": "4be60b9e-a4ac-43a7-bd7a-c5cf4c3f1f29",
   "metadata": {},
   "outputs": [],
   "source": [
    "# Numpy - Mathematical Functions."
   ]
  },
  {
   "cell_type": "code",
   "execution_count": 49,
   "id": "96bd5e25-ba4c-4f1f-89b9-e5fe6e8c6ae8",
   "metadata": {},
   "outputs": [
    {
     "data": {
      "text/plain": [
       "array([[1, 3, 9, 6],\n",
       "       [7, 6, 6, 6],\n",
       "       [6, 1, 6, 7]], dtype=int32)"
      ]
     },
     "execution_count": 49,
     "metadata": {},
     "output_type": "execute_result"
    }
   ],
   "source": [
    "arr1"
   ]
  },
  {
   "cell_type": "code",
   "execution_count": 50,
   "id": "0a1777e8-0b03-4fd8-9424-3dc1541eef3f",
   "metadata": {},
   "outputs": [
    {
     "data": {
      "text/plain": [
       "array([[ 0.84147098,  0.14112001,  0.41211849, -0.2794155 ],\n",
       "       [ 0.6569866 , -0.2794155 , -0.2794155 , -0.2794155 ],\n",
       "       [-0.2794155 ,  0.84147098, -0.2794155 ,  0.6569866 ]])"
      ]
     },
     "execution_count": 50,
     "metadata": {},
     "output_type": "execute_result"
    }
   ],
   "source": [
    "np.sin(arr1)"
   ]
  },
  {
   "cell_type": "code",
   "execution_count": 51,
   "id": "64c4b08b-6a26-41a9-851b-6c9656904bad",
   "metadata": {},
   "outputs": [
    {
     "data": {
      "text/plain": [
       "array([[ 0.54030231, -0.9899925 , -0.91113026,  0.96017029],\n",
       "       [ 0.75390225,  0.96017029,  0.96017029,  0.96017029],\n",
       "       [ 0.96017029,  0.54030231,  0.96017029,  0.75390225]])"
      ]
     },
     "execution_count": 51,
     "metadata": {},
     "output_type": "execute_result"
    }
   ],
   "source": [
    "np.cos(arr1)"
   ]
  },
  {
   "cell_type": "code",
   "execution_count": 52,
   "id": "70e50bc7-d0d2-4900-a442-9dcd0caf2186",
   "metadata": {},
   "outputs": [
    {
     "data": {
      "text/plain": [
       "array([[ 1.55740772, -0.14254654, -0.45231566, -0.29100619],\n",
       "       [ 0.87144798, -0.29100619, -0.29100619, -0.29100619],\n",
       "       [-0.29100619,  1.55740772, -0.29100619,  0.87144798]])"
      ]
     },
     "execution_count": 52,
     "metadata": {},
     "output_type": "execute_result"
    }
   ],
   "source": [
    "np.tan(arr1)"
   ]
  },
  {
   "cell_type": "code",
   "execution_count": 53,
   "id": "f6b6ac01-ca6a-4fce-b51c-6f95fb528c31",
   "metadata": {},
   "outputs": [
    {
     "data": {
      "text/plain": [
       "array([[0.76159416, 0.99505475, 0.99999997, 0.99998771],\n",
       "       [0.99999834, 0.99998771, 0.99998771, 0.99998771],\n",
       "       [0.99998771, 0.76159416, 0.99998771, 0.99999834]])"
      ]
     },
     "execution_count": 53,
     "metadata": {},
     "output_type": "execute_result"
    }
   ],
   "source": [
    "np.tanh(arr1)"
   ]
  },
  {
   "cell_type": "code",
   "execution_count": 54,
   "id": "20f6a349-a0e1-463e-990c-b243f053b25f",
   "metadata": {},
   "outputs": [
    {
     "data": {
      "text/plain": [
       "array([[0.        , 0.47712125, 0.95424251, 0.77815125],\n",
       "       [0.84509804, 0.77815125, 0.77815125, 0.77815125],\n",
       "       [0.77815125, 0.        , 0.77815125, 0.84509804]])"
      ]
     },
     "execution_count": 54,
     "metadata": {},
     "output_type": "execute_result"
    }
   ],
   "source": [
    "np.log10(arr1)"
   ]
  },
  {
   "cell_type": "code",
   "execution_count": 55,
   "id": "dea1ff7b-1373-462f-95ca-e04cedb7216a",
   "metadata": {},
   "outputs": [
    {
     "data": {
      "text/plain": [
       "array([[2.71828183e+00, 2.00855369e+01, 8.10308393e+03, 4.03428793e+02],\n",
       "       [1.09663316e+03, 4.03428793e+02, 4.03428793e+02, 4.03428793e+02],\n",
       "       [4.03428793e+02, 2.71828183e+00, 4.03428793e+02, 1.09663316e+03]])"
      ]
     },
     "execution_count": 55,
     "metadata": {},
     "output_type": "execute_result"
    }
   ],
   "source": [
    "np.exp(arr1)"
   ]
  },
  {
   "cell_type": "code",
   "execution_count": 56,
   "id": "d4d635ec-b87c-47bd-a5e7-77a9b992c075",
   "metadata": {},
   "outputs": [
    {
     "data": {
      "text/plain": [
       "array([[1.        , 1.73205081, 3.        , 2.44948974],\n",
       "       [2.64575131, 2.44948974, 2.44948974, 2.44948974],\n",
       "       [2.44948974, 1.        , 2.44948974, 2.64575131]])"
      ]
     },
     "execution_count": 56,
     "metadata": {},
     "output_type": "execute_result"
    }
   ],
   "source": [
    "np.sqrt(arr1)"
   ]
  },
  {
   "cell_type": "code",
   "execution_count": 57,
   "id": "26fc3c49-dfc4-4282-ad9e-3e219f5d2888",
   "metadata": {},
   "outputs": [
    {
     "data": {
      "text/plain": [
       "array([[ 1,  9, 81, 36],\n",
       "       [49, 36, 36, 36],\n",
       "       [36,  1, 36, 49]], dtype=int32)"
      ]
     },
     "execution_count": 57,
     "metadata": {},
     "output_type": "execute_result"
    }
   ],
   "source": [
    "np.power(arr1,2)"
   ]
  },
  {
   "cell_type": "code",
   "execution_count": 58,
   "id": "7854a41f-3a4d-48b2-8356-a1eff2c1f49c",
   "metadata": {},
   "outputs": [
    {
     "data": {
      "text/plain": [
       "np.float64(5.333333333333333)"
      ]
     },
     "execution_count": 58,
     "metadata": {},
     "output_type": "execute_result"
    }
   ],
   "source": [
    "np.mean(arr1)"
   ]
  },
  {
   "cell_type": "code",
   "execution_count": 59,
   "id": "47964225-57df-46ed-abb4-f09d0554b774",
   "metadata": {},
   "outputs": [
    {
     "data": {
      "text/plain": [
       "np.float64(6.0)"
      ]
     },
     "execution_count": 59,
     "metadata": {},
     "output_type": "execute_result"
    }
   ],
   "source": [
    "np.median(arr1)"
   ]
  },
  {
   "cell_type": "code",
   "execution_count": 60,
   "id": "ef6a5b39-9466-4a1e-a0b1-3d0bde8d9314",
   "metadata": {},
   "outputs": [
    {
     "data": {
      "text/plain": [
       "np.float64(2.321398046197353)"
      ]
     },
     "execution_count": 60,
     "metadata": {},
     "output_type": "execute_result"
    }
   ],
   "source": [
    "np.std(arr1)"
   ]
  },
  {
   "cell_type": "code",
   "execution_count": 61,
   "id": "9fb70efd-6272-484f-9fd8-d578198e8832",
   "metadata": {},
   "outputs": [
    {
     "data": {
      "text/plain": [
       "np.float64(5.388888888888888)"
      ]
     },
     "execution_count": 61,
     "metadata": {},
     "output_type": "execute_result"
    }
   ],
   "source": [
    "np.var(arr1)"
   ]
  },
  {
   "cell_type": "code",
   "execution_count": 62,
   "id": "d8835b5e-0b5b-4e2e-826c-47fdf357266a",
   "metadata": {},
   "outputs": [
    {
     "data": {
      "text/plain": [
       "np.int32(1)"
      ]
     },
     "execution_count": 62,
     "metadata": {},
     "output_type": "execute_result"
    }
   ],
   "source": [
    "np.min(arr1)"
   ]
  },
  {
   "cell_type": "code",
   "execution_count": 63,
   "id": "6648b623-f9f1-4fb9-9596-41bf22c32635",
   "metadata": {},
   "outputs": [
    {
     "data": {
      "text/plain": [
       "np.int32(9)"
      ]
     },
     "execution_count": 63,
     "metadata": {},
     "output_type": "execute_result"
    }
   ],
   "source": [
    "np.max(arr1)"
   ]
  }
 ],
 "metadata": {
  "kernelspec": {
   "display_name": "Python 3",
   "language": "python",
   "name": "python3"
  },
  "language_info": {
   "codemirror_mode": {
    "name": "ipython",
    "version": 3
   },
   "file_extension": ".py",
   "mimetype": "text/x-python",
   "name": "python",
   "nbconvert_exporter": "python",
   "pygments_lexer": "ipython3",
   "version": "3.13.0"
  }
 },
 "nbformat": 4,
 "nbformat_minor": 5
}
