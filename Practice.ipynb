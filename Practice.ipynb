{
 "cells": [
  {
   "cell_type": "markdown",
   "id": "78889c50",
   "metadata": {},
   "source": [
    "# IT LAB Practical"
   ]
  },
  {
   "cell_type": "markdown",
   "id": "ae810212",
   "metadata": {},
   "source": [
    "## 1"
   ]
  },
  {
   "cell_type": "code",
   "execution_count": null,
   "id": "0386e711",
   "metadata": {},
   "outputs": [],
   "source": [
    "# Function to perform addition\n",
    "def add(x, y):\n",
    "    return x + y\n",
    "\n",
    "# Function to perform subtraction\n",
    "def subtract(x, y):\n",
    "    return x - y\n",
    "\n",
    "# Function to perform multiplication\n",
    "def multiply(x, y):\n",
    "    return x * y\n",
    "\n",
    "# Function to perform division\n",
    "def divide(x, y):\n",
    "    if y == 0:\n",
    "        return \"Cannot divide by zero\"\n",
    "    return x / y\n",
    "\n",
    "# Function to perform exponentiation\n",
    "def exponent(x, y):\n",
    "    return x ** y\n",
    "\n",
    "# Get user input for two numbers\n",
    "try:\n",
    "    num1 = float(input(\"Enter the first number: \"))\n",
    "    num2 = float(input(\"Enter the second number: \"))\n",
    "except ValueError:\n",
    "    print(\"Invalid input. Please enter valid numbers.\")\n",
    "else:\n",
    "    # Perform operations and display results\n",
    "    print(\"Sum: \", add(num1, num2))\n",
    "    print(\"Subtraction: \", subtract(num1, num2))\n",
    "    print(\"Multiplication: \", multiply(num1, num2))\n",
    "    print(\"Division: \", divide(num1, num2))\n",
    "    print(\"Exponent: \", exponent(num1, num2))\n"
   ]
  },
  {
   "cell_type": "markdown",
   "id": "e5d15589",
   "metadata": {},
   "source": [
    "## 2"
   ]
  },
  {
   "cell_type": "code",
   "execution_count": 7,
   "id": "4f0fd1d3",
   "metadata": {},
   "outputs": [
    {
     "name": "stdout",
     "output_type": "stream",
     "text": [
      "Enter the shape (circle, rectangle, triangle, square, trapezium, parallelogram): circle\n",
      "Enter the radius of the circle: 4\n",
      "The area of the circle is: 50.26548245743669\n"
     ]
    }
   ],
   "source": [
    "import math\n",
    "\n",
    "# Function to compute the area of a circle\n",
    "def circle_area(radius):\n",
    "    return math.pi * radius ** 2\n",
    "\n",
    "# Function to compute the area of a rectangle\n",
    "def rectangle_area(length, width):\n",
    "    return length * width\n",
    "\n",
    "# Function to compute the area of a triangle\n",
    "def triangle_area(base, height):\n",
    "    return 0.5 * base * height\n",
    "\n",
    "# Function to compute the area of a square\n",
    "def square_area(side):\n",
    "    return side ** 2\n",
    "\n",
    "# Function to compute the area of a trapezium\n",
    "def trapezium_area(base1, base2, height):\n",
    "    return 0.5 * (base1 + base2) * height\n",
    "\n",
    "# Function to compute the area of a parallelogram\n",
    "def parallelogram_area(base, height):\n",
    "    return base * height\n",
    "\n",
    "# Get user input to choose a shape\n",
    "shape = input(\"Enter the shape (circle, rectangle, triangle, square, trapezium, parallelogram): \").lower()\n",
    "\n",
    "if shape == \"circle\":\n",
    "    radius = float(input(\"Enter the radius of the circle: \"))\n",
    "    area = circle_area(radius)\n",
    "elif shape == \"rectangle\":\n",
    "    length = float(input(\"Enter the length of the rectangle: \"))\n",
    "    width = float(input(\"Enter the width of the rectangle: \"))\n",
    "    area = rectangle_area(length, width)\n",
    "elif shape == \"triangle\":\n",
    "    base = float(input(\"Enter the base of the triangle: \"))\n",
    "    height = float(input(\"Enter the height of the triangle: \"))\n",
    "    area = triangle_area(base, height)\n",
    "elif shape == \"square\":\n",
    "    side = float(input(\"Enter the side length of the square: \"))\n",
    "    area = square_area(side)\n",
    "elif shape == \"trapezium\":\n",
    "    base1 = float(input(\"Enter the length of the first base of the trapezium: \"))\n",
    "    base2 = float(input(\"Enter the length of the second base of the trapezium: \"))\n",
    "    height = float(input(\"Enter the height of the trapezium: \"))\n",
    "    area = trapezium_area(base1, base2, height)\n",
    "elif shape == \"parallelogram\":\n",
    "    base = float(input(\"Enter the base of the parallelogram: \"))\n",
    "    height = float(input(\"Enter the height of the parallelogram: \"))\n",
    "    area = parallelogram_area(base, height)\n",
    "else:\n",
    "    area = \"Invalid shape entered.\"\n",
    "\n",
    "print(f\"The area of the {shape} is: {area}\")\n"
   ]
  },
  {
   "cell_type": "code",
   "execution_count": 7,
   "id": "0574b749",
   "metadata": {},
   "outputs": [
    {
     "name": "stdout",
     "output_type": "stream",
     "text": [
      "Enter the number of edges: 7\n",
      "Enter edge (u v): 0 1\n",
      "Enter edge (u v): 1 3\n",
      "Enter edge (u v): 1 4\n",
      "Enter edge (u v): 2 5\n",
      "Enter edge (u v): 2 6\n",
      "Enter edge (u v): 3 7\n",
      "Enter edge (u v): 0 2\n",
      "Enter the starting node for BFS: 0\n",
      "BFS Traversal:\n",
      "Visited node: 0\n",
      "Visited node: 1\n",
      "Visited node: 2\n",
      "Visited node: 3\n",
      "Visited node: 4\n",
      "Visited node: 5\n",
      "Visited node: 6\n",
      "Visited node: 7\n"
     ]
    }
   ],
   "source": [
    "from collections import defaultdict\n",
    "\n",
    "class Graph:\n",
    "    def __init__(self):\n",
    "        self.graph = defaultdict(list)\n",
    "\n",
    "    def add_edge(self, u, v):\n",
    "        self.graph[u].append(v)\n",
    "\n",
    "    def bfs(self, start):\n",
    "        visited = set()\n",
    "        queue = [start]\n",
    "        visited.add(start)\n",
    "\n",
    "        while queue:\n",
    "            node = queue.pop(0)\n",
    "            print(f\"Visited node: {node}\")\n",
    "\n",
    "            for neighbor in self.graph[node]:\n",
    "                if neighbor not in visited:\n",
    "                    queue.append(neighbor)\n",
    "                    visited.add(neighbor)\n",
    "\n",
    "if __name__ == \"__main__\":\n",
    "    graph = Graph()\n",
    "\n",
    "    # Input the edges of the graph\n",
    "    edges = int(input(\"Enter the number of edges: \"))\n",
    "    for _ in range(edges):\n",
    "        u, v = map(int, input(\"Enter edge (u v): \").split())\n",
    "        graph.add_edge(u, v)\n",
    "\n",
    "    start_node = int(input(\"Enter the starting node for BFS: \"))\n",
    "\n",
    "    print(\"BFS Traversal:\")\n",
    "    graph.bfs(start_node)\n",
    "\n",
    "    0 1\n",
    "Enter edge (u v): 0 2\n",
    "Enter edge (u v): 1 3\n",
    "Enter edge (u v): 1 4\n",
    "Enter edge (u v): 2 5\n",
    "Enter edge (u v): 2 6\n",
    "Enter edge (u v): 3 7"
   ]
  },
  {
   "cell_type": "code",
   "execution_count": null,
   "id": "4d53f9ef",
   "metadata": {},
   "outputs": [],
   "source": []
  }
 ],
 "metadata": {
  "kernelspec": {
   "display_name": "Python 3 (ipykernel)",
   "language": "python",
   "name": "python3"
  },
  "language_info": {
   "codemirror_mode": {
    "name": "ipython",
    "version": 3
   },
   "file_extension": ".py",
   "mimetype": "text/x-python",
   "name": "python",
   "nbconvert_exporter": "python",
   "pygments_lexer": "ipython3",
   "version": "3.11.4"
  }
 },
 "nbformat": 4,
 "nbformat_minor": 5
}
