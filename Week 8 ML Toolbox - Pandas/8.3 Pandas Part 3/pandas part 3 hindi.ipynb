{
 "cells": [
  {
   "cell_type": "code",
   "execution_count": 49,
   "id": "db6aec57-1649-40b6-b556-1818d97caac9",
   "metadata": {},
   "outputs": [],
   "source": [
    "import pandas as pd "
   ]
  },
  {
   "cell_type": "code",
   "execution_count": 50,
   "id": "42408f99-c0e8-4b6f-9f70-de76246ae62d",
   "metadata": {},
   "outputs": [],
   "source": [
    "df= pd.read_csv(\"https://raw.githubusercontent.com/datasciencedojo/datasets/master/titanic.csv\")"
   ]
  },
  {
   "cell_type": "code",
   "execution_count": 51,
   "id": "b32b578e-75f9-479c-8984-e7eabf42cada",
   "metadata": {},
   "outputs": [
    {
     "data": {
      "text/plain": [
       "Index(['PassengerId', 'Survived', 'Pclass', 'Name', 'Sex', 'Age', 'SibSp',\n",
       "       'Parch', 'Ticket', 'Fare', 'Cabin', 'Embarked'],\n",
       "      dtype='object')"
      ]
     },
     "execution_count": 51,
     "metadata": {},
     "output_type": "execute_result"
    }
   ],
   "source": [
    "df.columns"
   ]
  },
  {
   "cell_type": "code",
   "execution_count": 52,
   "id": "4eee517e-0bd8-4902-9f92-fe172919570a",
   "metadata": {},
   "outputs": [],
   "source": [
    "s = df['Name'][0:10]"
   ]
  },
  {
   "cell_type": "code",
   "execution_count": 53,
   "id": "f7f1719a-ad0d-4473-b748-c6e4857113b1",
   "metadata": {},
   "outputs": [
    {
     "data": {
      "text/plain": [
       "0                              Braund, Mr. Owen Harris\n",
       "1    Cumings, Mrs. John Bradley (Florence Briggs Th...\n",
       "2                               Heikkinen, Miss. Laina\n",
       "3         Futrelle, Mrs. Jacques Heath (Lily May Peel)\n",
       "4                             Allen, Mr. William Henry\n",
       "5                                     Moran, Mr. James\n",
       "6                              McCarthy, Mr. Timothy J\n",
       "7                       Palsson, Master. Gosta Leonard\n",
       "8    Johnson, Mrs. Oscar W (Elisabeth Vilhelmina Berg)\n",
       "9                  Nasser, Mrs. Nicholas (Adele Achem)\n",
       "Name: Name, dtype: object"
      ]
     },
     "execution_count": 53,
     "metadata": {},
     "output_type": "execute_result"
    }
   ],
   "source": [
    "s"
   ]
  },
  {
   "cell_type": "code",
   "execution_count": 54,
   "id": "6cd57910-1e54-4006-8fc0-882b21405132",
   "metadata": {},
   "outputs": [
    {
     "data": {
      "text/plain": [
       "10"
      ]
     },
     "execution_count": 54,
     "metadata": {},
     "output_type": "execute_result"
    }
   ],
   "source": [
    "len(s)"
   ]
  },
  {
   "cell_type": "code",
   "execution_count": 55,
   "id": "cfdf0e3a-b14e-45ce-85cc-d681f65fb8e4",
   "metadata": {},
   "outputs": [
    {
     "data": {
      "text/plain": [
       "pandas.core.series.Series"
      ]
     },
     "execution_count": 55,
     "metadata": {},
     "output_type": "execute_result"
    }
   ],
   "source": [
    "type(s)"
   ]
  },
  {
   "cell_type": "code",
   "execution_count": 56,
   "id": "67632f14-cc4b-4e9d-9074-2e30c7b1eadc",
   "metadata": {},
   "outputs": [
    {
     "data": {
      "text/plain": [
       "0                              Braund, Mr. Owen Harris\n",
       "1    Cumings, Mrs. John Bradley (Florence Briggs Th...\n",
       "2                               Heikkinen, Miss. Laina\n",
       "3         Futrelle, Mrs. Jacques Heath (Lily May Peel)\n",
       "4                             Allen, Mr. William Henry\n",
       "5                                     Moran, Mr. James\n",
       "6                              McCarthy, Mr. Timothy J\n",
       "7                       Palsson, Master. Gosta Leonard\n",
       "8    Johnson, Mrs. Oscar W (Elisabeth Vilhelmina Berg)\n",
       "9                  Nasser, Mrs. Nicholas (Adele Achem)\n",
       "Name: Name, dtype: object"
      ]
     },
     "execution_count": 56,
     "metadata": {},
     "output_type": "execute_result"
    }
   ],
   "source": [
    "s"
   ]
  },
  {
   "cell_type": "code",
   "execution_count": 57,
   "id": "e4ba3096-9c31-40f4-be46-6ca4e30745dd",
   "metadata": {},
   "outputs": [],
   "source": [
    "l = ['sudh','b','c','d','e','f','g','h','i','j']"
   ]
  },
  {
   "cell_type": "code",
   "execution_count": 58,
   "id": "4a0c2c87",
   "metadata": {},
   "outputs": [
    {
     "data": {
      "text/plain": [
       "sudh    NaN\n",
       "b       NaN\n",
       "c       NaN\n",
       "d       NaN\n",
       "e       NaN\n",
       "f       NaN\n",
       "g       NaN\n",
       "h       NaN\n",
       "i       NaN\n",
       "j       NaN\n",
       "Name: Name, dtype: object"
      ]
     },
     "execution_count": 58,
     "metadata": {},
     "output_type": "execute_result"
    }
   ],
   "source": [
    "pd.Series(s,index=l)"
   ]
  },
  {
   "cell_type": "code",
   "execution_count": 59,
   "id": "3c749a6f-cae3-4234-8b86-f1a70b362802",
   "metadata": {},
   "outputs": [],
   "source": [
    "s1 =pd.Series(list(s),index=l)"
   ]
  },
  {
   "cell_type": "code",
   "execution_count": 60,
   "id": "7a6b4e38-2849-4740-82cd-181b6c40f3b5",
   "metadata": {},
   "outputs": [
    {
     "data": {
      "text/plain": [
       "0                              Braund, Mr. Owen Harris\n",
       "1    Cumings, Mrs. John Bradley (Florence Briggs Th...\n",
       "2                               Heikkinen, Miss. Laina\n",
       "3         Futrelle, Mrs. Jacques Heath (Lily May Peel)\n",
       "4                             Allen, Mr. William Henry\n",
       "5                                     Moran, Mr. James\n",
       "6                              McCarthy, Mr. Timothy J\n",
       "7                       Palsson, Master. Gosta Leonard\n",
       "8    Johnson, Mrs. Oscar W (Elisabeth Vilhelmina Berg)\n",
       "9                  Nasser, Mrs. Nicholas (Adele Achem)\n",
       "Name: Name, dtype: object"
      ]
     },
     "execution_count": 60,
     "metadata": {},
     "output_type": "execute_result"
    }
   ],
   "source": [
    "s"
   ]
  },
  {
   "cell_type": "code",
   "execution_count": 61,
   "id": "e5204395-da94-48c6-bb91-8fdec15a93ca",
   "metadata": {},
   "outputs": [
    {
     "data": {
      "text/plain": [
       "sudh                              Braund, Mr. Owen Harris\n",
       "b       Cumings, Mrs. John Bradley (Florence Briggs Th...\n",
       "c                                  Heikkinen, Miss. Laina\n",
       "d            Futrelle, Mrs. Jacques Heath (Lily May Peel)\n",
       "e                                Allen, Mr. William Henry\n",
       "f                                        Moran, Mr. James\n",
       "g                                 McCarthy, Mr. Timothy J\n",
       "h                          Palsson, Master. Gosta Leonard\n",
       "i       Johnson, Mrs. Oscar W (Elisabeth Vilhelmina Berg)\n",
       "j                     Nasser, Mrs. Nicholas (Adele Achem)\n",
       "dtype: object"
      ]
     },
     "execution_count": 61,
     "metadata": {},
     "output_type": "execute_result"
    }
   ],
   "source": [
    "s1"
   ]
  },
  {
   "cell_type": "code",
   "execution_count": 62,
   "id": "9866d92c-57bf-4400-b311-47de81950802",
   "metadata": {},
   "outputs": [
    {
     "data": {
      "text/plain": [
       "'Braund, Mr. Owen Harris'"
      ]
     },
     "execution_count": 62,
     "metadata": {},
     "output_type": "execute_result"
    }
   ],
   "source": [
    "s[0]"
   ]
  },
  {
   "cell_type": "code",
   "execution_count": 80,
   "id": "8a7d81dd-a23b-4419-913f-7b66de60f72f",
   "metadata": {},
   "outputs": [
    {
     "name": "stderr",
     "output_type": "stream",
     "text": [
      "C:\\Users\\singh\\AppData\\Local\\Temp\\ipykernel_10816\\643609873.py:1: FutureWarning: Series.__getitem__ treating keys as positions is deprecated. In a future version, integer keys will always be treated as labels (consistent with DataFrame behavior). To access a value by position, use `ser.iloc[pos]`\n",
      "  s1[0]\n"
     ]
    },
    {
     "data": {
      "text/plain": [
       "'Braund, Mr. Owen Harris'"
      ]
     },
     "execution_count": 80,
     "metadata": {},
     "output_type": "execute_result"
    }
   ],
   "source": [
    "s1[0]"
   ]
  },
  {
   "cell_type": "code",
   "execution_count": 64,
   "id": "e3bb5724-6070-4977-bd77-3ef9a7224630",
   "metadata": {},
   "outputs": [
    {
     "data": {
      "text/plain": [
       "'Braund, Mr. Owen Harris'"
      ]
     },
     "execution_count": 64,
     "metadata": {},
     "output_type": "execute_result"
    }
   ],
   "source": [
    "s1[\"sudh\"]"
   ]
  },
  {
   "cell_type": "code",
   "execution_count": 65,
   "id": "64a260c7-bd7e-40c5-a1cb-43cb827d279a",
   "metadata": {},
   "outputs": [
    {
     "ename": "AttributeError",
     "evalue": "'Series' object has no attribute 'append'",
     "output_type": "error",
     "traceback": [
      "\u001b[1;31m---------------------------------------------------------------------------\u001b[0m",
      "\u001b[1;31mAttributeError\u001b[0m                            Traceback (most recent call last)",
      "\u001b[1;32m~\\AppData\\Local\\Temp\\ipykernel_10816\\2451741888.py\u001b[0m in \u001b[0;36m?\u001b[1;34m()\u001b[0m\n\u001b[1;32m----> 1\u001b[1;33m \u001b[0ms2\u001b[0m \u001b[1;33m=\u001b[0m \u001b[0ms1\u001b[0m\u001b[1;33m.\u001b[0m\u001b[0mappend\u001b[0m\u001b[1;33m(\u001b[0m\u001b[0ms\u001b[0m\u001b[1;33m)\u001b[0m\u001b[1;33m\u001b[0m\u001b[1;33m\u001b[0m\u001b[0m\n\u001b[0m",
      "\u001b[1;32m~\\AppData\\Roaming\\Python\\Python313\\site-packages\\pandas\\core\\generic.py\u001b[0m in \u001b[0;36m?\u001b[1;34m(self, name)\u001b[0m\n\u001b[0;32m   6295\u001b[0m             \u001b[1;32mand\u001b[0m \u001b[0mname\u001b[0m \u001b[1;32mnot\u001b[0m \u001b[1;32min\u001b[0m \u001b[0mself\u001b[0m\u001b[1;33m.\u001b[0m\u001b[0m_accessors\u001b[0m\u001b[1;33m\u001b[0m\u001b[1;33m\u001b[0m\u001b[0m\n\u001b[0;32m   6296\u001b[0m             \u001b[1;32mand\u001b[0m \u001b[0mself\u001b[0m\u001b[1;33m.\u001b[0m\u001b[0m_info_axis\u001b[0m\u001b[1;33m.\u001b[0m\u001b[0m_can_hold_identifiers_and_holds_name\u001b[0m\u001b[1;33m(\u001b[0m\u001b[0mname\u001b[0m\u001b[1;33m)\u001b[0m\u001b[1;33m\u001b[0m\u001b[1;33m\u001b[0m\u001b[0m\n\u001b[0;32m   6297\u001b[0m         \u001b[1;33m)\u001b[0m\u001b[1;33m:\u001b[0m\u001b[1;33m\u001b[0m\u001b[1;33m\u001b[0m\u001b[0m\n\u001b[0;32m   6298\u001b[0m             \u001b[1;32mreturn\u001b[0m \u001b[0mself\u001b[0m\u001b[1;33m[\u001b[0m\u001b[0mname\u001b[0m\u001b[1;33m]\u001b[0m\u001b[1;33m\u001b[0m\u001b[1;33m\u001b[0m\u001b[0m\n\u001b[1;32m-> 6299\u001b[1;33m         \u001b[1;32mreturn\u001b[0m \u001b[0mobject\u001b[0m\u001b[1;33m.\u001b[0m\u001b[0m__getattribute__\u001b[0m\u001b[1;33m(\u001b[0m\u001b[0mself\u001b[0m\u001b[1;33m,\u001b[0m \u001b[0mname\u001b[0m\u001b[1;33m)\u001b[0m\u001b[1;33m\u001b[0m\u001b[1;33m\u001b[0m\u001b[0m\n\u001b[0m",
      "\u001b[1;31mAttributeError\u001b[0m: 'Series' object has no attribute 'append'"
     ]
    }
   ],
   "source": [
    "s2 = s1.append(s)"
   ]
  },
  {
   "cell_type": "markdown",
   "id": "a057bf05",
   "metadata": {},
   "source": [
    "- This will raise the AttributeError in Pandas 2.0+\n",
    "\n",
    "The error indicates that the `append` method is no longer available for a Pandas `Series` object. Starting with **Pandas 2.0**, the `append` method for `Series` and `DataFrame` objects was deprecated and subsequently removed. Instead, you can use the `concat` function to achieve the same result."
   ]
  },
  {
   "cell_type": "markdown",
   "id": "7cb57986",
   "metadata": {},
   "source": [
    "### Reason for the Error:\n",
    "- In **Pandas 1.5.0 and later**, the `append()` method was **removed** for `Series` and `DataFrame` objects.\n",
    "- Instead of `append()`, you should now use the `pd.concat()` function.\n",
    "\n",
    "### Summary:\n",
    "\n",
    "- **Old method (deprecated):** `s1.append(s)`  \n",
    "- **New recommended method:** `pd.concat([s1, s])`"
   ]
  },
  {
   "cell_type": "code",
   "execution_count": 84,
   "id": "0b9618f5",
   "metadata": {},
   "outputs": [],
   "source": [
    "s2 = pd.concat([s1, s])"
   ]
  },
  {
   "cell_type": "code",
   "execution_count": 86,
   "id": "91b46a97-4ef2-4b8c-a500-2abe81ff54ca",
   "metadata": {},
   "outputs": [
    {
     "data": {
      "text/plain": [
       "sudh                              Braund, Mr. Owen Harris\n",
       "b       Cumings, Mrs. John Bradley (Florence Briggs Th...\n",
       "c                                  Heikkinen, Miss. Laina\n",
       "d            Futrelle, Mrs. Jacques Heath (Lily May Peel)\n",
       "e                                Allen, Mr. William Henry\n",
       "f                                        Moran, Mr. James\n",
       "g                                 McCarthy, Mr. Timothy J\n",
       "h                          Palsson, Master. Gosta Leonard\n",
       "i       Johnson, Mrs. Oscar W (Elisabeth Vilhelmina Berg)\n",
       "j                     Nasser, Mrs. Nicholas (Adele Achem)\n",
       "0                                 Braund, Mr. Owen Harris\n",
       "1       Cumings, Mrs. John Bradley (Florence Briggs Th...\n",
       "2                                  Heikkinen, Miss. Laina\n",
       "3            Futrelle, Mrs. Jacques Heath (Lily May Peel)\n",
       "4                                Allen, Mr. William Henry\n",
       "5                                        Moran, Mr. James\n",
       "6                                 McCarthy, Mr. Timothy J\n",
       "7                          Palsson, Master. Gosta Leonard\n",
       "8       Johnson, Mrs. Oscar W (Elisabeth Vilhelmina Berg)\n",
       "9                     Nasser, Mrs. Nicholas (Adele Achem)\n",
       "dtype: object"
      ]
     },
     "execution_count": 86,
     "metadata": {},
     "output_type": "execute_result"
    }
   ],
   "source": [
    "s2"
   ]
  },
  {
   "cell_type": "code",
   "execution_count": 87,
   "id": "eb9ecf96",
   "metadata": {},
   "outputs": [
    {
     "data": {
      "text/plain": [
       "'Braund, Mr. Owen Harris'"
      ]
     },
     "execution_count": 87,
     "metadata": {},
     "output_type": "execute_result"
    }
   ],
   "source": [
    "s2[0]"
   ]
  },
  {
   "cell_type": "code",
   "execution_count": 88,
   "id": "8260fc18-896f-4e28-96a2-8985f96940b5",
   "metadata": {},
   "outputs": [
    {
     "data": {
      "text/plain": [
       "'Allen, Mr. William Henry'"
      ]
     },
     "execution_count": 88,
     "metadata": {},
     "output_type": "execute_result"
    }
   ],
   "source": [
    "s2[4]"
   ]
  },
  {
   "cell_type": "code",
   "execution_count": 89,
   "id": "2b876426-8a6a-449e-8b39-be30ad806ac6",
   "metadata": {},
   "outputs": [],
   "source": [
    "s4 = pd.Series([3,4,5,6,6] , index=[2,4,5,6,1])"
   ]
  },
  {
   "cell_type": "code",
   "execution_count": 90,
   "id": "8bc6b87f-f5dd-4440-9214-3da23c9d30a7",
   "metadata": {},
   "outputs": [],
   "source": [
    "s5 = pd.Series([34,345,45,45,454] , index=[9,4,5,6,7])"
   ]
  },
  {
   "cell_type": "code",
   "execution_count": 91,
   "id": "b8765ce0-b423-4acd-b93c-673e3bf074fb",
   "metadata": {},
   "outputs": [
    {
     "ename": "AttributeError",
     "evalue": "'Series' object has no attribute 'append'",
     "output_type": "error",
     "traceback": [
      "\u001b[1;31m---------------------------------------------------------------------------\u001b[0m",
      "\u001b[1;31mAttributeError\u001b[0m                            Traceback (most recent call last)",
      "\u001b[1;32m~\\AppData\\Local\\Temp\\ipykernel_10816\\937876903.py\u001b[0m in \u001b[0;36m?\u001b[1;34m()\u001b[0m\n\u001b[1;32m----> 1\u001b[1;33m \u001b[0ms6\u001b[0m \u001b[1;33m=\u001b[0m \u001b[0ms4\u001b[0m\u001b[1;33m.\u001b[0m\u001b[0mappend\u001b[0m\u001b[1;33m(\u001b[0m\u001b[0ms5\u001b[0m\u001b[1;33m)\u001b[0m\u001b[1;33m\u001b[0m\u001b[1;33m\u001b[0m\u001b[0m\n\u001b[0m",
      "\u001b[1;32m~\\AppData\\Roaming\\Python\\Python313\\site-packages\\pandas\\core\\generic.py\u001b[0m in \u001b[0;36m?\u001b[1;34m(self, name)\u001b[0m\n\u001b[0;32m   6295\u001b[0m             \u001b[1;32mand\u001b[0m \u001b[0mname\u001b[0m \u001b[1;32mnot\u001b[0m \u001b[1;32min\u001b[0m \u001b[0mself\u001b[0m\u001b[1;33m.\u001b[0m\u001b[0m_accessors\u001b[0m\u001b[1;33m\u001b[0m\u001b[1;33m\u001b[0m\u001b[0m\n\u001b[0;32m   6296\u001b[0m             \u001b[1;32mand\u001b[0m \u001b[0mself\u001b[0m\u001b[1;33m.\u001b[0m\u001b[0m_info_axis\u001b[0m\u001b[1;33m.\u001b[0m\u001b[0m_can_hold_identifiers_and_holds_name\u001b[0m\u001b[1;33m(\u001b[0m\u001b[0mname\u001b[0m\u001b[1;33m)\u001b[0m\u001b[1;33m\u001b[0m\u001b[1;33m\u001b[0m\u001b[0m\n\u001b[0;32m   6297\u001b[0m         \u001b[1;33m)\u001b[0m\u001b[1;33m:\u001b[0m\u001b[1;33m\u001b[0m\u001b[1;33m\u001b[0m\u001b[0m\n\u001b[0;32m   6298\u001b[0m             \u001b[1;32mreturn\u001b[0m \u001b[0mself\u001b[0m\u001b[1;33m[\u001b[0m\u001b[0mname\u001b[0m\u001b[1;33m]\u001b[0m\u001b[1;33m\u001b[0m\u001b[1;33m\u001b[0m\u001b[0m\n\u001b[1;32m-> 6299\u001b[1;33m         \u001b[1;32mreturn\u001b[0m \u001b[0mobject\u001b[0m\u001b[1;33m.\u001b[0m\u001b[0m__getattribute__\u001b[0m\u001b[1;33m(\u001b[0m\u001b[0mself\u001b[0m\u001b[1;33m,\u001b[0m \u001b[0mname\u001b[0m\u001b[1;33m)\u001b[0m\u001b[1;33m\u001b[0m\u001b[1;33m\u001b[0m\u001b[0m\n\u001b[0m",
      "\u001b[1;31mAttributeError\u001b[0m: 'Series' object has no attribute 'append'"
     ]
    }
   ],
   "source": [
    "s6 = s4.append(s5)"
   ]
  },
  {
   "cell_type": "code",
   "execution_count": 92,
   "id": "5b15e2e6",
   "metadata": {},
   "outputs": [],
   "source": [
    "s6 = pd.concat([s5, s4])"
   ]
  },
  {
   "cell_type": "code",
   "execution_count": 93,
   "id": "5e6745e8-ea09-484d-a091-dc8b674bd6c6",
   "metadata": {},
   "outputs": [
    {
     "data": {
      "text/plain": [
       "9     34\n",
       "4    345\n",
       "5     45\n",
       "6     45\n",
       "7    454\n",
       "2      3\n",
       "4      4\n",
       "5      5\n",
       "6      6\n",
       "1      6\n",
       "dtype: int64"
      ]
     },
     "execution_count": 93,
     "metadata": {},
     "output_type": "execute_result"
    }
   ],
   "source": [
    "s6"
   ]
  },
  {
   "cell_type": "code",
   "execution_count": 94,
   "id": "969583af-6be6-4b13-800c-763ad27140b9",
   "metadata": {},
   "outputs": [
    {
     "data": {
      "text/plain": [
       "4    345\n",
       "4      4\n",
       "dtype: int64"
      ]
     },
     "execution_count": 94,
     "metadata": {},
     "output_type": "execute_result"
    }
   ],
   "source": [
    "s6[4]"
   ]
  },
  {
   "cell_type": "code",
   "execution_count": 95,
   "id": "01c2247f-c09d-4594-ab98-d8ee34bca944",
   "metadata": {},
   "outputs": [
    {
     "data": {
      "text/plain": [
       "9     34\n",
       "4    345\n",
       "5     45\n",
       "6     45\n",
       "7    454\n",
       "dtype: int64"
      ]
     },
     "execution_count": 95,
     "metadata": {},
     "output_type": "execute_result"
    }
   ],
   "source": [
    "s6[0:5]"
   ]
  },
  {
   "cell_type": "code",
   "execution_count": 96,
   "id": "55707b1f-5181-4a4f-bc91-560353db137d",
   "metadata": {},
   "outputs": [
    {
     "data": {
      "text/plain": [
       "2    3\n",
       "4    4\n",
       "5    5\n",
       "6    6\n",
       "1    6\n",
       "dtype: int64"
      ]
     },
     "execution_count": 96,
     "metadata": {},
     "output_type": "execute_result"
    }
   ],
   "source": [
    "s4"
   ]
  },
  {
   "cell_type": "code",
   "execution_count": 77,
   "id": "d0fc6ff3-d230-42b2-a0dd-8021680d6f5e",
   "metadata": {},
   "outputs": [
    {
     "data": {
      "text/plain": [
       "9     34\n",
       "4    345\n",
       "5     45\n",
       "6     45\n",
       "7    454\n",
       "dtype: int64"
      ]
     },
     "execution_count": 77,
     "metadata": {},
     "output_type": "execute_result"
    }
   ],
   "source": [
    "s5"
   ]
  },
  {
   "cell_type": "code",
   "execution_count": 78,
   "id": "63f16068-d76e-4407-bc8d-8d7749b4370e",
   "metadata": {},
   "outputs": [
    {
     "data": {
      "text/plain": [
       "1       NaN\n",
       "2       NaN\n",
       "4    1380.0\n",
       "5     225.0\n",
       "6     270.0\n",
       "7       NaN\n",
       "9       NaN\n",
       "dtype: float64"
      ]
     },
     "execution_count": 78,
     "metadata": {},
     "output_type": "execute_result"
    }
   ],
   "source": [
    "s4*s5"
   ]
  },
  {
   "cell_type": "code",
   "execution_count": 79,
   "id": "ee9647e5-ee6f-4ec8-a8ea-06b53c7ddfee",
   "metadata": {},
   "outputs": [
    {
     "data": {
      "text/plain": [
       "1      NaN\n",
       "2      NaN\n",
       "4    349.0\n",
       "5     50.0\n",
       "6     51.0\n",
       "7      NaN\n",
       "9      NaN\n",
       "dtype: float64"
      ]
     },
     "execution_count": 79,
     "metadata": {},
     "output_type": "execute_result"
    }
   ],
   "source": [
    "s4+s5"
   ]
  },
  {
   "cell_type": "code",
   "execution_count": null,
   "id": "be3d415a",
   "metadata": {},
   "outputs": [],
   "source": []
  }
 ],
 "metadata": {
  "kernelspec": {
   "display_name": "Python 3",
   "language": "python",
   "name": "python3"
  },
  "language_info": {
   "codemirror_mode": {
    "name": "ipython",
    "version": 3
   },
   "file_extension": ".py",
   "mimetype": "text/x-python",
   "name": "python",
   "nbconvert_exporter": "python",
   "pygments_lexer": "ipython3",
   "version": "3.13.0"
  }
 },
 "nbformat": 4,
 "nbformat_minor": 5
}
