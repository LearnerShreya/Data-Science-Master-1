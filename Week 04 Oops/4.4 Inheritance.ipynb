{
 "cells": [
  {
   "cell_type": "markdown",
   "id": "e48295be",
   "metadata": {},
   "source": [
    "# Inheritance\n",
    "\n",
    "**Inheritance: The Backbone of Object-Oriented Programming**\n",
    "\n",
    "In the realm of object-oriented programming (OOP), inheritance stands as a fundamental concept that allows classes to inherit the attributes and methods of other classes. This powerful mechanism enables code reuse, facilitates the creation of class hierarchies that mirror real-world relationships, and paves the way for polymorphism, a hallmark of OOP.\n",
    "\n",
    "**Delving into the Essence of Inheritance**\n",
    "\n",
    "Imagine a family tree, a representation of lineage and inheritance. Similarly, in OOP, inheritance establishes a hierarchical structure among classes, where a derived class inherits from a base class. The base class serves as a blueprint, providing the foundation upon which the derived class builds its own unique identity.\n",
    "\n",
    "**Key Concepts in Inheritance**\n",
    "\n",
    "1. **Base Class:** The originator of the inheritance chain, providing the essential properties and methods for its derived classes.\n",
    "\n",
    "2. **Derived Class:** The inheritor of the base class's attributes and methods, extending and customizing them to suit its specific needs.\n",
    "\n",
    "3. **Inheritance Relationship:** The bond between a derived class and its base class, indicating that the derived class gains access to the base class's properties and methods.\n",
    "\n",
    "4. **Inheritance Hierarchy:** A tree-like structure of classes, where each derived class inherits from a base class, forming a chain of inheritance.\n",
    "\n",
    "**Advantages of Inheritance**\n",
    "\n",
    "1. **Code Reuse:** Inheritance eliminates the need to duplicate code, promoting code reusability and reducing development time.\n",
    "\n",
    "2. **Improved Code Organization:** Inheritance encourages a structured and organized approach to code design, enhancing code readability and maintainability.\n",
    "\n",
    "3. **Simplified Code Updates:** Modifications made to a base class automatically propagate to all derived classes, streamlining the update process.\n",
    "\n",
    "4. **Enhanced Polymorphism:** Inheritance lays the groundwork for polymorphism, enabling objects of different classes to respond to the same method call in their own unique ways.\n",
    "\n",
    "**Types of Inheritance**\n",
    "\n",
    "1. **Single Inheritance:** The most common type, where a derived class inherits from a single base class.\n",
    "\n",
    "2. **Multilevel Inheritance:** A cascade of inheritance, where a derived class inherits from another derived class, which itself inherits from a base class.\n",
    "\n",
    "3. **Multiple Inheritance:** A derived class inheriting from two or more base classes, allowing it to access properties and methods from multiple sources.\n",
    "\n",
    "4. **Hierarchical Inheritance:** Multiple derived classes inheriting from a single base class, creating a tree-like structure.\n",
    "\n",
    "5. **Hybrid Inheritance:** A combination of multiple and hierarchical inheritance, leading to complex class hierarchies.\n",
    "\n",
    "**Overriding and Polymorphism: Powering Dynamic Programming**\n",
    "\n",
    "Overriding allows a derived class to redefine a method inherited from its base class. This empowers the derived class to tailor the method's behavior to its specific requirements.\n",
    "\n",
    "Polymorphism, the ability of objects to take on multiple forms, is enabled by inheritance. Objects of different derived classes can respond to the same method call in their own unique ways, leading to dynamic and flexible programming techniques.\n",
    "\n",
    "**Inheritance: A Cornerstone of OOP**\n",
    "\n",
    "Inheritance stands as a cornerstone of OOP, enabling effective code reuse, structured code organization, and dynamic programming approaches. By understanding the key concepts, types, and related aspects like overriding and polymorphism, programmers can harness the power of inheritance to create modular, maintainable, and flexible object-oriented applications."
   ]
  },
  {
   "cell_type": "markdown",
   "id": "f50afa14",
   "metadata": {},
   "source": [
    "# Types of inheritance\n",
    "Yes, there are five main types of inheritance in object-oriented programming (OOP):\n",
    "\n",
    "**1. Single inheritance:** This is the most basic type of inheritance, where a derived class inherits from a single base class. This is the most common type of inheritance used in programming languages like Java, C++, and Python.\n",
    "\n",
    "**2. Multilevel inheritance:** This is a type of inheritance where a derived class inherits from another derived class, which itself inherits from a base class. This creates a chain of inheritance, where each derived class inherits the properties and methods of its parent class.\n",
    "\n",
    "**3. Multiple inheritance:** This is a type of inheritance where a derived class inherits from two or more base classes. This allows the derived class to inherit the properties and methods of all of its base classes.\n",
    "\n",
    "**4. Hierarchical inheritance:** This is a type of inheritance where multiple derived classes inherit from a single base class. This creates a tree-like structure of classes, where the base class is at the root and the derived classes are at the leaves.\n",
    "\n",
    "**5. Hybrid inheritance:** This is a combination of multiple inheritance and hierarchical inheritance. This is a complex type of inheritance that is not as commonly used as the other types.\n",
    "\n",
    "Here is a table summarizing the different types of inheritance:\n",
    "\n",
    "| Type of Inheritance | Description | Example |\n",
    "|---|---|---|\n",
    "| Single inheritance | A derived class inherits from a single base class. | A class `Dog` inherits from a class `Animal`. |\n",
    "| Multilevel inheritance | A derived class inherits from another derived class, which itself inherits from a base class. | A class `German Shepherd` inherits from a class `Dog`, which itself inherits from a class `Animal`. |\n",
    "| Multiple inheritance | A derived class inherits from two or more base classes. | A class `Mammal` inherits from a class `Animal` and a class `Vertebrate`. |\n",
    "| Hierarchical inheritance | Multiple derived classes inherit from a single base class. | Classes `Dog`, `Cat`, and `Horse` all inherit from a class `Animal`. |\n",
    "| Hybrid inheritance | A combination of multiple inheritance and hierarchical inheritance. | A class `DomesticPet` inherits from a class `Dog` and a class `Cat`. |\n",
    "\n",
    "Inheritance is a powerful tool that can be used to organize and reuse code in object-oriented programming. It can help to make code more modular and easier to maintain."
   ]
  },
  {
   "cell_type": "markdown",
   "id": "1bee4faf",
   "metadata": {},
   "source": [
    "## Key terms and concepts related to inheritance:\n",
    "1. **Base Class (Parent Class):** This is the class whose properties and behaviors are inherited by another class. It is also referred to as the superclass or parent class.\n",
    "\n",
    "2. **Derived Class (Child Class):** This is the class that inherits properties and behaviors from another class. It is also known as the subclass or child class.\n",
    "\n",
    "3. **Superclass and Subclass:** These terms are often used interchangeably with base class and derived class, respectively.\n",
    "\n",
    "4. **Single Inheritance:** A class can inherit from only one class. Most programming languages, including Java and Python, support single inheritance.\n",
    "\n",
    "5. **Multiple Inheritance:** A class can inherit from more than one class. While powerful, multiple inheritance can lead to complex code and is not supported by all programming languages.\n",
    "\n",
    "6. **Method Overriding:** The child class can provide a specific implementation for a method that is already defined in its parent class. This is known as method overriding."
   ]
  },
  {
   "cell_type": "code",
   "execution_count": 1,
   "id": "a49110b5",
   "metadata": {},
   "outputs": [],
   "source": [
    "class test:\n",
    "    def test_meth(self):                                        # self is a pointer or a reference to a class\n",
    "        return \"this is my first class\""
   ]
  },
  {
   "cell_type": "code",
   "execution_count": 4,
   "id": "8268396b",
   "metadata": {},
   "outputs": [],
   "source": [
    "class child_test(test):\n",
    "    pass"
   ]
  },
  {
   "cell_type": "code",
   "execution_count": 5,
   "id": "bc90d64d",
   "metadata": {},
   "outputs": [],
   "source": [
    "child_test_obj = child_test()"
   ]
  },
  {
   "cell_type": "code",
   "execution_count": 6,
   "id": "02d5411b",
   "metadata": {},
   "outputs": [
    {
     "data": {
      "text/plain": [
       "'this is my first class'"
      ]
     },
     "execution_count": 6,
     "metadata": {},
     "output_type": "execute_result"
    }
   ],
   "source": [
    "child_test_obj.test_meth()"
   ]
  },
  {
   "cell_type": "markdown",
   "id": "7afafd52",
   "metadata": {},
   "source": [
    "# Multilevel :"
   ]
  },
  {
   "cell_type": "code",
   "execution_count": 7,
   "id": "3596bd00",
   "metadata": {},
   "outputs": [],
   "source": [
    "class class1:\n",
    "    def test_class1(self):\n",
    "        return \"this is a method from class1\""
   ]
  },
  {
   "cell_type": "code",
   "execution_count": 13,
   "id": "79936714",
   "metadata": {},
   "outputs": [],
   "source": [
    "class class2(class1):\n",
    "    def test_class2(self):\n",
    "        return \"this is a method from class2\""
   ]
  },
  {
   "cell_type": "code",
   "execution_count": 14,
   "id": "86145d93",
   "metadata": {},
   "outputs": [],
   "source": [
    "class class3(class2):\n",
    "    pass"
   ]
  },
  {
   "cell_type": "code",
   "execution_count": 15,
   "id": "2776fff0",
   "metadata": {},
   "outputs": [],
   "source": [
    "obj_class3 = class3()"
   ]
  },
  {
   "cell_type": "code",
   "execution_count": 16,
   "id": "9051f9dd",
   "metadata": {},
   "outputs": [
    {
     "data": {
      "text/plain": [
       "'this is a method of class1'"
      ]
     },
     "execution_count": 16,
     "metadata": {},
     "output_type": "execute_result"
    }
   ],
   "source": [
    "obj_class3.test_class1()"
   ]
  },
  {
   "cell_type": "code",
   "execution_count": 17,
   "id": "72c226e2",
   "metadata": {},
   "outputs": [
    {
     "data": {
      "text/plain": [
       "'this is a method from class2'"
      ]
     },
     "execution_count": 17,
     "metadata": {},
     "output_type": "execute_result"
    }
   ],
   "source": [
    "obj_class3.test_class2()"
   ]
  },
  {
   "cell_type": "markdown",
   "id": "b922ebe8",
   "metadata": {},
   "source": [
    "# Multiple :"
   ]
  },
  {
   "cell_type": "code",
   "execution_count": 18,
   "id": "ceb629dd",
   "metadata": {},
   "outputs": [],
   "source": [
    "class class1:\n",
    "    def test_class1(self):\n",
    "        return \"this is a class1\""
   ]
  },
  {
   "cell_type": "code",
   "execution_count": 19,
   "id": "6a402413",
   "metadata": {},
   "outputs": [],
   "source": [
    "class class2:\n",
    "    def test_class2(self):\n",
    "        return \"this is a class2\""
   ]
  },
  {
   "cell_type": "code",
   "execution_count": 20,
   "id": "e6d23622",
   "metadata": {},
   "outputs": [],
   "source": [
    "class class3(class1, class2):\n",
    "    pass"
   ]
  },
  {
   "cell_type": "code",
   "execution_count": 22,
   "id": "41ac50f9",
   "metadata": {},
   "outputs": [],
   "source": [
    "obj_class3 = class3()"
   ]
  },
  {
   "cell_type": "code",
   "execution_count": 23,
   "id": "5dd6cc61",
   "metadata": {},
   "outputs": [
    {
     "data": {
      "text/plain": [
       "'this is a class1'"
      ]
     },
     "execution_count": 23,
     "metadata": {},
     "output_type": "execute_result"
    }
   ],
   "source": [
    "obj_class3.test_class1()"
   ]
  },
  {
   "cell_type": "code",
   "execution_count": 24,
   "id": "331dbf4b",
   "metadata": {},
   "outputs": [
    {
     "data": {
      "text/plain": [
       "'this is a class2'"
      ]
     },
     "execution_count": 24,
     "metadata": {},
     "output_type": "execute_result"
    }
   ],
   "source": [
    "obj_class3.test_class2()"
   ]
  },
  {
   "cell_type": "code",
   "execution_count": null,
   "id": "14af5b3d",
   "metadata": {},
   "outputs": [],
   "source": []
  }
 ],
 "metadata": {
  "kernelspec": {
   "display_name": "Python 3 (ipykernel)",
   "language": "python",
   "name": "python3"
  },
  "language_info": {
   "codemirror_mode": {
    "name": "ipython",
    "version": 3
   },
   "file_extension": ".py",
   "mimetype": "text/x-python",
   "name": "python",
   "nbconvert_exporter": "python",
   "pygments_lexer": "ipython3",
   "version": "3.11.4"
  }
 },
 "nbformat": 4,
 "nbformat_minor": 5
}
