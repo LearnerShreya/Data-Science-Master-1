{
 "cells": [
  {
   "cell_type": "markdown",
   "id": "04e14fe8",
   "metadata": {},
   "source": [
    "A static method is a method that is not bound to any class or object. It is essentially a function that is defined within the class body. Static methods can be called without creating an instance of the class.\n",
    "\n",
    "Static methods are typically used for utility functions that are not related to the specific state of an object. For example, a static method might be used to perform a mathematical operation or to convert between data types.\n",
    "\n",
    "Here is an example of a static method:\n",
    "\n",
    "```python\n",
    "class Person:\n",
    "  @staticmethod\n",
    "  def greet(name):\n",
    "    print(f\"Hello, {name}!\")\n",
    "\n",
    "Person.greet(\"John Doe\")  # Output: Hello, John Doe!\n",
    "```\n",
    "\n",
    "In this example, the `greet()` static method is used to greet someone. The `greet()` static method can be called without creating an instance of the `Person` class.\n",
    "\n",
    "Static methods can also be used to access and modify class variables. For example, the following code shows how to use a static method to get the current number of `Person` objects that have been created:\n",
    "\n",
    "```python\n",
    "class Person:\n",
    "  count = 0\n",
    "\n",
    "  @staticmethod\n",
    "  def get_count():\n",
    "    return Person.count\n",
    "\n",
    "print(Person.get_count())  # Output: 0\n",
    "```\n",
    "\n",
    "In this example, the `get_count()` static method is used to get the current number of `Person` objects that have been created. The `get_count()` static method can be called without creating an instance of the `Person` class.\n",
    "\n",
    "Static methods are a powerful tool that can be used to improve the functionality of your code. If you are not already using static methods, I encourage you to start using them today."
   ]
  },
  {
   "cell_type": "code",
   "execution_count": 34,
   "id": "a23ad12d",
   "metadata": {},
   "outputs": [],
   "source": [
    "class pwskills :\n",
    "    \n",
    "    def student_details(self , name , mail_id , number) :\n",
    "        print(name , mail_id, number)"
   ]
  },
  {
   "cell_type": "code",
   "execution_count": 35,
   "id": "1169c9fc",
   "metadata": {},
   "outputs": [],
   "source": [
    "pw = pwskills()"
   ]
  },
  {
   "cell_type": "code",
   "execution_count": 36,
   "id": "de8608d6",
   "metadata": {},
   "outputs": [
    {
     "name": "stdout",
     "output_type": "stream",
     "text": [
      "sudh sudh@gmail.com 912342342\n"
     ]
    }
   ],
   "source": [
    "pw.student_details(\"sudh\" , \"sudh@gmail.com\" , 912342342)"
   ]
  },
  {
   "cell_type": "code",
   "execution_count": 37,
   "id": "75064533",
   "metadata": {},
   "outputs": [],
   "source": [
    "class pwskills1 :\n",
    "    \n",
    "    def student_details(self , name , mail_id , number) :\n",
    "        print(name , mail_id, number)\n",
    "        \n",
    "    @staticmethod\n",
    "    def mentor_class(list_mentor) :\n",
    "        print(list_mentor)\n",
    "        \n",
    "    def mentor(self ,mentor_list):\n",
    "        print(mentor_list)"
   ]
  },
  {
   "cell_type": "code",
   "execution_count": 38,
   "id": "768a215f",
   "metadata": {},
   "outputs": [
    {
     "name": "stdout",
     "output_type": "stream",
     "text": [
      "['sudh', 'krish']\n"
     ]
    }
   ],
   "source": [
    "pwskills1.mentor_class([\"sudh\" , \"krish\"])"
   ]
  },
  {
   "cell_type": "code",
   "execution_count": 39,
   "id": "7e98f629",
   "metadata": {},
   "outputs": [],
   "source": [
    "stu1 = pwskills1()"
   ]
  },
  {
   "cell_type": "code",
   "execution_count": 40,
   "id": "be1cc143",
   "metadata": {},
   "outputs": [],
   "source": [
    "stu2 = pwskills1()"
   ]
  },
  {
   "cell_type": "code",
   "execution_count": 41,
   "id": "6e673ebf",
   "metadata": {},
   "outputs": [],
   "source": [
    "stu3 = pwskills1()"
   ]
  },
  {
   "cell_type": "code",
   "execution_count": 42,
   "id": "86c60855",
   "metadata": {},
   "outputs": [
    {
     "name": "stdout",
     "output_type": "stream",
     "text": [
      "['sudh', 'krish']\n"
     ]
    }
   ],
   "source": [
    "stu1.mentor([\"sudh\" , \"krish\"])"
   ]
  },
  {
   "cell_type": "code",
   "execution_count": 43,
   "id": "ea1b4bd2",
   "metadata": {},
   "outputs": [],
   "source": [
    "class pwskills2 :\n",
    "    \n",
    "    def student_details(self , name , mail_id , number) :\n",
    "        print(name , mail_id, number)\n",
    "        \n",
    "    @staticmethod\n",
    "    def mentor_mail_id(maild_id_mentor) :\n",
    "        print(maild_id_mentor)    \n",
    "        \n",
    "    @staticmethod\n",
    "    def mentor_class(list_mentor) :\n",
    "        pwskills2.mentor_mail_id([\"sudh@gmail.com\" , \"krish@gmail.com\"])\n",
    "        print(list_mentor)\n",
    "        \n",
    "    @classmethod\n",
    "    def class_name(cls):\n",
    "        cls.mentor_class([\"sudh\" , \"krish\"])\n",
    "        \n",
    "        \n",
    "        \n",
    "    def mentor(self ,mentor_list):\n",
    "        print(mentor_list)\n",
    "        self.mentor_class([\"krish\" , \"sudh\"])"
   ]
  },
  {
   "cell_type": "code",
   "execution_count": 44,
   "id": "c67ec6ca",
   "metadata": {},
   "outputs": [
    {
     "name": "stdout",
     "output_type": "stream",
     "text": [
      "['sudh@gmail.com', 'krish@gmail.com']\n",
      "['krish', 'sudh']\n"
     ]
    }
   ],
   "source": [
    "pwskills2.mentor_class([\"krish\" , \"sudh\"])"
   ]
  },
  {
   "cell_type": "code",
   "execution_count": 48,
   "id": "2fbf7ad1",
   "metadata": {},
   "outputs": [
    {
     "name": "stdout",
     "output_type": "stream",
     "text": [
      "['sudh@gmail.com', 'krish@gmail.com']\n",
      "['sudh', 'krish']\n"
     ]
    }
   ],
   "source": [
    "pwskills2.class_name()"
   ]
  },
  {
   "cell_type": "code",
   "execution_count": null,
   "id": "75ebcee9",
   "metadata": {},
   "outputs": [],
   "source": [
    "pw = pwskills2()"
   ]
  },
  {
   "cell_type": "code",
   "execution_count": null,
   "id": "67def3e6",
   "metadata": {},
   "outputs": [],
   "source": [
    "pw.mentor([\"krish\" , \"sudh\"])"
   ]
  },
  {
   "cell_type": "markdown",
   "id": "941d0848",
   "metadata": {},
   "source": [
    "Choosing between static functions and instance functions in programming often depends on the context of how the functions will be used. Here’s a structured way to approach this decision:\n",
    "\n",
    "### Question:\n",
    "**When should I use a static function instead of an instance function in a class?**\n",
    "\n",
    "### Answer:\n",
    "To decide between using a static function or an instance function, consider the following factors:\n",
    "\n",
    "1. **Context of Usage**:\n",
    "   - **Static Function**: Use a static function when the function does not require access to instance variables (properties) or instance methods of the class. Static functions belong to the class itself, not to any specific instance. They are useful for utility or helper functions that perform actions related to the class but do not operate on specific instances.\n",
    "   - **Instance Function**: Use an instance function when the method needs to operate on the data specific to an instance of the class. Instance functions can access and modify instance variables and invoke other instance methods, making them suitable for behavior that relies on the state of an object.\n",
    "\n",
    "2. **Memory Considerations**:\n",
    "   - **Static Function**: Since static functions do not require an instance of the class to be called, they can be more memory efficient in cases where the function does not rely on object state. They are also easier to call without needing to create an instance of the class.\n",
    "   - **Instance Function**: Instance functions require an object to be created, which can consume more memory if many instances are created solely to call instance functions.\n",
    "\n",
    "3. **Design Intent**:\n",
    "   - **Static Function**: If the function logically belongs to the class as a whole rather than any specific instance, it should be declared static. This can improve the clarity of the design by indicating that the function is intended to be used without the context of an object.\n",
    "   - **Instance Function**: If the behavior of the function is meant to reflect the unique state of an instance, it should be an instance function. This helps maintain encapsulation and allows the function to modify instance-specific data.\n",
    "\n",
    "4. **Polymorphism**:\n",
    "   - **Static Function**: Static methods cannot be overridden in derived classes. If polymorphic behavior (where a method's behavior changes based on the object that calls it) is needed, instance functions are more appropriate.\n",
    "   - **Instance Function**: Instance functions can be overridden in subclasses, allowing for dynamic behavior based on the object's type.\n",
    "\n",
    "### Summary:\n",
    "- **Use a static function** when:\n",
    "  - The function does not need access to instance-specific data.\n",
    "  - The function serves a utility purpose and can be related to the class as a whole.\n",
    "  - You want to avoid creating an instance just to use the function.\n",
    "\n",
    "- **Use an instance function** when:\n",
    "  - The function needs to access or modify instance variables or rely on the object's state.\n",
    "  - You are implementing behavior that is specific to a particular object or class hierarchy.\n",
    "\n",
    "By considering these factors, you can make an informed decision about whether to use a static function or an instance function in your class design."
   ]
  },
  {
   "cell_type": "markdown",
   "id": "8efa7404",
   "metadata": {},
   "source": []
  }
 ],
 "metadata": {
  "kernelspec": {
   "display_name": "Python 3 (ipykernel)",
   "language": "python",
   "name": "python3"
  },
  "language_info": {
   "codemirror_mode": {
    "name": "ipython",
    "version": 3
   },
   "file_extension": ".py",
   "mimetype": "text/x-python",
   "name": "python",
   "nbconvert_exporter": "python",
   "pygments_lexer": "ipython3",
   "version": "3.11.4"
  }
 },
 "nbformat": 4,
 "nbformat_minor": 5
}
