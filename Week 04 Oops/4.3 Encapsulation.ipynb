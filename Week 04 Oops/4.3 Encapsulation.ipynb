{
 "cells": [
  {
   "cell_type": "markdown",
   "id": "f315e1a6",
   "metadata": {},
   "source": [
    "# Encapsulation:\n",
    "Encapsulation is a key concept in object-oriented programming (OOP) that refers to the bundling of data and methods that operate on that data within a single unit, known as an object. It is a way of protecting data from outside interference and ensuring that data is only changed through authorized methods.\n",
    "\n",
    "**Benefits of Encapsulation:**\n",
    "\n",
    "1. **Data Protection:** Encapsulation protects data from unauthorized access and modification. It ensures that data can only be changed through the object's methods, which can be controlled and validated.\n",
    "\n",
    "2. **Information Hiding:** Encapsulation encapsulates data within objects, hiding the implementation details from the outside world. This makes the code more modular and easier to maintain.\n",
    "\n",
    "3. **Code Reusability:** Encapsulated objects can be reused in different parts of an application without exposing their internal implementation details. This promotes code reuse and reduces redundancy.\n",
    "\n",
    "4. **Loose Coupling:** Encapsulation reduces the coupling between different parts of the program. Objects can interact with each other through well-defined interfaces, making the code more flexible and adaptable to changes.\n",
    "\n",
    "5. **Improved Maintainability:** Encapsulated code is easier to understand, modify, and debug. By hiding the internal implementation details, it makes the code more manageable and less prone to errors.\n",
    "\n",
    "**Example of Encapsulation:**\n",
    "\n",
    "Consider a class representing a bank account:\n",
    "\n",
    "```python\n",
    "class BankAccount:\n",
    "    def __init__(self, account_number, balance):\n",
    "        self.__account_number = account_number  # Private attribute\n",
    "        self.__balance = balance  # Private attribute\n",
    "\n",
    "    def get_balance(self):\n",
    "        return self.__balance\n",
    "\n",
    "    def deposit(self, amount):\n",
    "        if amount > 0:\n",
    "            self.__balance += amount\n",
    "\n",
    "    def withdraw(self, amount):\n",
    "        if amount > 0 and amount <= self.__balance:\n",
    "            self.__balance -= amount\n",
    "```\n",
    "\n",
    "In this example, the `BankAccount` class encapsulates the account number and balance data, making them private attributes (`__account_number` and `__balance`). The class provides methods (`get_balance()`, `deposit()`, and `withdraw()`) to access and modify the balance while maintaining data integrity.\n",
    "\n",
    "**Encapsulation in Real-World Applications:**\n",
    "\n",
    "Encapsulation is widely used in various software applications, including:\n",
    "\n",
    "1. **Graphical User Interfaces (GUIs):** Encapsulation is used to separate the visual elements of a GUI from the underlying logic, making the code more modular and maintainable.\n",
    "\n",
    "2. **Database Systems:** Encapsulation is used to protect the integrity of data stored in databases by restricting direct access to the data and enforcing access through well-defined interfaces.\n",
    "\n",
    "3. **Network Communication Protocols:** Encapsulation is used to package data into packets for transmission over networks, ensuring that data remains intact during transmission.\n",
    "\n",
    "4. **Operating Systems:** Encapsulation is used to isolate processes and protect system resources, ensuring that processes cannot interfere with each other's data or operations."
   ]
  },
  {
   "cell_type": "markdown",
   "id": "245d5152",
   "metadata": {},
   "source": [
    "# Encapsulation\n",
    "Encapsulation is one of the four fundamental principles of object-oriented programming (OOP), the others being inheritance, polymorphism, and abstraction. Encapsulation refers to the bundling of data (attributes) and methods (functions) that operate on the data into a single unit known as a class. It also involves restricting access to the internal details of an object and only exposing what is necessary for the outside world to interact with the object.\n",
    "\n",
    "Here are the key concepts associated with encapsulation:\n",
    "\n",
    "1. Class:\n",
    "\n",
    "- A class is a blueprint for creating objects. It defines the properties (attributes) and behaviors (methods) that the objects of the class will have.\n",
    "\n",
    "2. Attributes:\n",
    "\n",
    "- Attributes are the data members or variables that store the state of an object. These attributes are often declared as private or protected to encapsulate the internal state of an object.\n",
    "\n",
    "3. Methods:\n",
    "\n",
    "- Methods are functions defined within a class that operate on the attributes of the class. They encapsulate the behavior associated with the class.\n",
    "\n",
    "4. Access Modifiers:\n",
    "\n",
    "- Access modifiers, such as private, protected, and public, control the visibility of attributes and methods within a class.\n",
    "- Private attributes or methods are accessible only within the class, not from outside.\n",
    "- Protected attributes or methods are accessible within the class and its subclasses.\n",
    "- Public attributes or methods are accessible from outside the class."
   ]
  },
  {
   "cell_type": "code",
   "execution_count": 51,
   "id": "a8fb64ef",
   "metadata": {},
   "outputs": [],
   "source": [
    "class BankAccount:\n",
    "    def __init__(self, balance):\n",
    "        self.__balance = balance  # Private attribute\n",
    "\n",
    "    def deposit(self, amount):\n",
    "        if amount > 0:\n",
    "            self.__balance += amount\n",
    "\n",
    "    def withdraw(self, amount):\n",
    "        if 0 < amount <= self.__balance:\n",
    "            self.__balance -= amount\n",
    "\n",
    "    def get_balance(self):\n",
    "        return self.__balance\n"
   ]
  },
  {
   "cell_type": "markdown",
   "id": "0e84fc0e",
   "metadata": {},
   "source": [
    "In this example:\n",
    "- **'__balance'** is a private attribute, accessible only within the **'BankAccount'** class.\n",
    "- **'deposit'** and **'withdraw'** are public methods that provide controlled access to modify the balance.\n",
    "- **'get_balance'** is a public method that allows external code to retrieve the balance without direct access to the attribute.\n",
    "\n",
    "**Note:**\n",
    "Encapsulation helps in organizing code, preventing accidental data modification, and promoting a clear interface for interacting with objects. It enhances modularity and maintainability by hiding the internal implementation details of a class."
   ]
  },
  {
   "cell_type": "code",
   "execution_count": 9,
   "id": "6410be94",
   "metadata": {},
   "outputs": [],
   "source": [
    "class test:\n",
    "    \n",
    "    def __init__(self, a,b):\n",
    "        self.a = a\n",
    "        self.b = b"
   ]
  },
  {
   "cell_type": "code",
   "execution_count": 10,
   "id": "7f8247bc",
   "metadata": {},
   "outputs": [],
   "source": [
    "t = test(23, 34)"
   ]
  },
  {
   "cell_type": "code",
   "execution_count": 11,
   "id": "73cb60bc",
   "metadata": {},
   "outputs": [
    {
     "data": {
      "text/plain": [
       "23"
      ]
     },
     "execution_count": 11,
     "metadata": {},
     "output_type": "execute_result"
    }
   ],
   "source": [
    "t.a"
   ]
  },
  {
   "cell_type": "code",
   "execution_count": 12,
   "id": "87fdd861",
   "metadata": {},
   "outputs": [],
   "source": [
    "t.a = 2345345"
   ]
  },
  {
   "cell_type": "code",
   "execution_count": 13,
   "id": "31010022",
   "metadata": {},
   "outputs": [
    {
     "data": {
      "text/plain": [
       "2345345"
      ]
     },
     "execution_count": 13,
     "metadata": {},
     "output_type": "execute_result"
    }
   ],
   "source": [
    "t.a"
   ]
  },
  {
   "cell_type": "code",
   "execution_count": 14,
   "id": "aacdbf04",
   "metadata": {},
   "outputs": [],
   "source": [
    "class car:\n",
    "    def __init__(self, year, make, model, speed):\n",
    "        self.__year = year                                         # __ hides data\n",
    "        self.__make = make\n",
    "        self.__model = model\n",
    "        self.__speed = 0"
   ]
  },
  {
   "cell_type": "code",
   "execution_count": 15,
   "id": "b205e42b",
   "metadata": {},
   "outputs": [
    {
     "ename": "TypeError",
     "evalue": "car.__init__() missing 4 required positional arguments: 'year', 'make', 'model', and 'speed'",
     "output_type": "error",
     "traceback": [
      "\u001b[1;31m---------------------------------------------------------------------------\u001b[0m",
      "\u001b[1;31mTypeError\u001b[0m                                 Traceback (most recent call last)",
      "Cell \u001b[1;32mIn[15], line 1\u001b[0m\n\u001b[1;32m----> 1\u001b[0m c \u001b[38;5;241m=\u001b[39m \u001b[43mcar\u001b[49m\u001b[43m(\u001b[49m\u001b[43m)\u001b[49m\n",
      "\u001b[1;31mTypeError\u001b[0m: car.__init__() missing 4 required positional arguments: 'year', 'make', 'model', and 'speed'"
     ]
    }
   ],
   "source": [
    "c = car()"
   ]
  },
  {
   "cell_type": "code",
   "execution_count": 16,
   "id": "3d3a5904",
   "metadata": {},
   "outputs": [],
   "source": [
    "c = car(2021, 'toyata', \"innove\", 12)"
   ]
  },
  {
   "cell_type": "code",
   "execution_count": 17,
   "id": "88f9ad6f",
   "metadata": {},
   "outputs": [
    {
     "ename": "AttributeError",
     "evalue": "'car' object has no attribute 'year'",
     "output_type": "error",
     "traceback": [
      "\u001b[1;31m---------------------------------------------------------------------------\u001b[0m",
      "\u001b[1;31mAttributeError\u001b[0m                            Traceback (most recent call last)",
      "Cell \u001b[1;32mIn[17], line 1\u001b[0m\n\u001b[1;32m----> 1\u001b[0m \u001b[43mc\u001b[49m\u001b[38;5;241;43m.\u001b[39;49m\u001b[43myear\u001b[49m\n",
      "\u001b[1;31mAttributeError\u001b[0m: 'car' object has no attribute 'year'"
     ]
    }
   ],
   "source": [
    "c.year"
   ]
  },
  {
   "cell_type": "code",
   "execution_count": 18,
   "id": "6731ba72",
   "metadata": {},
   "outputs": [
    {
     "ename": "AttributeError",
     "evalue": "'car' object has no attribute '__year'",
     "output_type": "error",
     "traceback": [
      "\u001b[1;31m---------------------------------------------------------------------------\u001b[0m",
      "\u001b[1;31mAttributeError\u001b[0m                            Traceback (most recent call last)",
      "Cell \u001b[1;32mIn[18], line 1\u001b[0m\n\u001b[1;32m----> 1\u001b[0m \u001b[43mc\u001b[49m\u001b[38;5;241;43m.\u001b[39;49m\u001b[43m__year\u001b[49m\n",
      "\u001b[1;31mAttributeError\u001b[0m: 'car' object has no attribute '__year'"
     ]
    }
   ],
   "source": [
    "c.__year"
   ]
  },
  {
   "cell_type": "code",
   "execution_count": 19,
   "id": "73be2ee3",
   "metadata": {},
   "outputs": [
    {
     "data": {
      "text/plain": [
       "2021"
      ]
     },
     "execution_count": 19,
     "metadata": {},
     "output_type": "execute_result"
    }
   ],
   "source": [
    "c._car__year          # _className__obj to access encapsulated object"
   ]
  },
  {
   "cell_type": "code",
   "execution_count": 21,
   "id": "59a023fe",
   "metadata": {},
   "outputs": [],
   "source": [
    "class car:\n",
    "    def __init__(self, year, make, model, speed):\n",
    "        self.__year = year                                         # __ hides data\n",
    "        self.__make = make\n",
    "        self.__model = model\n",
    "        self.__speed = 0\n",
    "        \n",
    "    def set_speed(self,speed):\n",
    "        self.__speed = 0 if speed < 0 else speed\n",
    "        \n",
    "    def get_speed(self):\n",
    "        return self.__speed"
   ]
  },
  {
   "cell_type": "code",
   "execution_count": 22,
   "id": "a75958c7",
   "metadata": {},
   "outputs": [],
   "source": [
    "c = car(2021, 'toyata', \"innove\", 12)"
   ]
  },
  {
   "cell_type": "code",
   "execution_count": 23,
   "id": "2ce478ca",
   "metadata": {},
   "outputs": [],
   "source": [
    "c.set_speed(-3245)"
   ]
  },
  {
   "cell_type": "code",
   "execution_count": 24,
   "id": "7cb90acb",
   "metadata": {},
   "outputs": [
    {
     "data": {
      "text/plain": [
       "0"
      ]
     },
     "execution_count": 24,
     "metadata": {},
     "output_type": "execute_result"
    }
   ],
   "source": [
    "c.get_speed()"
   ]
  },
  {
   "cell_type": "code",
   "execution_count": 25,
   "id": "1cbf0f67",
   "metadata": {},
   "outputs": [],
   "source": [
    "c.set_speed(234)"
   ]
  },
  {
   "cell_type": "code",
   "execution_count": 26,
   "id": "ffe7d04e",
   "metadata": {},
   "outputs": [
    {
     "data": {
      "text/plain": [
       "234"
      ]
     },
     "execution_count": 26,
     "metadata": {},
     "output_type": "execute_result"
    }
   ],
   "source": [
    "c.get_speed()"
   ]
  },
  {
   "cell_type": "code",
   "execution_count": 27,
   "id": "56545617",
   "metadata": {},
   "outputs": [],
   "source": [
    "class bank_account:\n",
    "    def __init__(self, balance):\n",
    "        self.__balance = balance\n",
    "        \n",
    "    def deposit(self, amount):\n",
    "        self.__balance = self.__balance + amount\n",
    "        \n",
    "    def withdraw(self, amount):\n",
    "        if self.__balance >= amount :\n",
    "            self.__balance -= amount\n",
    "            return True\n",
    "        else:\n",
    "            return False\n",
    "        \n",
    "    def get_balance(self):\n",
    "        return self.__balance"
   ]
  },
  {
   "cell_type": "code",
   "execution_count": 28,
   "id": "07df239e",
   "metadata": {},
   "outputs": [],
   "source": [
    "sudh = bank_account(1000)"
   ]
  },
  {
   "cell_type": "code",
   "execution_count": 29,
   "id": "fdfd367e",
   "metadata": {},
   "outputs": [
    {
     "data": {
      "text/plain": [
       "1000"
      ]
     },
     "execution_count": 29,
     "metadata": {},
     "output_type": "execute_result"
    }
   ],
   "source": [
    "sudh.get_balance()"
   ]
  },
  {
   "cell_type": "code",
   "execution_count": 30,
   "id": "e3fe044a",
   "metadata": {},
   "outputs": [],
   "source": [
    "sudh.deposit(5000)"
   ]
  },
  {
   "cell_type": "code",
   "execution_count": 31,
   "id": "57a5b20c",
   "metadata": {},
   "outputs": [
    {
     "data": {
      "text/plain": [
       "6000"
      ]
     },
     "execution_count": 31,
     "metadata": {},
     "output_type": "execute_result"
    }
   ],
   "source": [
    "sudh.get_balance()"
   ]
  },
  {
   "cell_type": "code",
   "execution_count": 32,
   "id": "5a06e61b",
   "metadata": {},
   "outputs": [],
   "source": [
    "sudh.deposit(1000)"
   ]
  },
  {
   "cell_type": "code",
   "execution_count": 67,
   "id": "09802c8e",
   "metadata": {},
   "outputs": [
    {
     "data": {
      "text/plain": [
       "7000"
      ]
     },
     "execution_count": 67,
     "metadata": {},
     "output_type": "execute_result"
    }
   ],
   "source": [
    "sudh.get_balance()"
   ]
  },
  {
   "cell_type": "code",
   "execution_count": 69,
   "id": "5b0f227c",
   "metadata": {},
   "outputs": [
    {
     "data": {
      "text/plain": [
       "False"
      ]
     },
     "execution_count": 69,
     "metadata": {},
     "output_type": "execute_result"
    }
   ],
   "source": [
    "sudh.withdraw(9000)"
   ]
  },
  {
   "cell_type": "code",
   "execution_count": 71,
   "id": "94c06687",
   "metadata": {},
   "outputs": [
    {
     "data": {
      "text/plain": [
       "True"
      ]
     },
     "execution_count": 71,
     "metadata": {},
     "output_type": "execute_result"
    }
   ],
   "source": [
    "sudh.withdraw(2000)"
   ]
  },
  {
   "cell_type": "code",
   "execution_count": 72,
   "id": "aa0d2929",
   "metadata": {},
   "outputs": [
    {
     "data": {
      "text/plain": [
       "5000"
      ]
     },
     "execution_count": 72,
     "metadata": {},
     "output_type": "execute_result"
    }
   ],
   "source": [
    "sudh.get_balance()"
   ]
  },
  {
   "cell_type": "markdown",
   "id": "3af22075",
   "metadata": {},
   "source": [
    "`__init__` method Python mein ek constructor ke roop mein kaam karta hai. Jab bhi koi object class ka banaya jata hai, to `__init__` method ko automatically call kiya jata hai. Is method ka main purpose class ke attributes ko initialize karna hota hai, yani ki values assign karna.\n",
    "\n",
    "Aapke code mein:"
   ]
  },
  {
   "cell_type": "code",
   "execution_count": 2,
   "id": "f737d058",
   "metadata": {},
   "outputs": [],
   "source": [
    "class test:\n",
    "    \n",
    "    def __init__(self, a, b):\n",
    "        self.a = a\n",
    "        self.b = b"
   ]
  },
  {
   "cell_type": "markdown",
   "id": "00b70e3c",
   "metadata": {},
   "source": [
    "Jab test class ka object banate hain, __init__ method ko invoke kiya jata hai aur a aur b ko object ke andar (as self.a and self.b) store kiya jata hai."
   ]
  },
  {
   "cell_type": "code",
   "execution_count": 3,
   "id": "72fed481",
   "metadata": {},
   "outputs": [
    {
     "name": "stdout",
     "output_type": "stream",
     "text": [
      "5\n",
      "10\n"
     ]
    }
   ],
   "source": [
    "obj = test(5, 10)\n",
    "print(obj.a)  # Output: 5\n",
    "print(obj.b)  # Output: 10"
   ]
  },
  {
   "cell_type": "markdown",
   "id": "5b1da25d",
   "metadata": {},
   "source": [
    "Yahaan obj object ke a aur b attributes ko initialize kiya gaya hai with the values 5 and 10."
   ]
  },
  {
   "cell_type": "markdown",
   "id": "ee65d7d8",
   "metadata": {},
   "source": []
  },
  {
   "cell_type": "markdown",
   "id": "5592ef6e",
   "metadata": {},
   "source": []
  }
 ],
 "metadata": {
  "kernelspec": {
   "display_name": "Python 3 (ipykernel)",
   "language": "python",
   "name": "python3"
  },
  "language_info": {
   "codemirror_mode": {
    "name": "ipython",
    "version": 3
   },
   "file_extension": ".py",
   "mimetype": "text/x-python",
   "name": "python",
   "nbconvert_exporter": "python",
   "pygments_lexer": "ipython3",
   "version": "3.12.2"
  }
 },
 "nbformat": 4,
 "nbformat_minor": 5
}
