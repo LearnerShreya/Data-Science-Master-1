{
 "cells": [
  {
   "cell_type": "markdown",
   "id": "bada46f2",
   "metadata": {},
   "source": [
    "A class method is a method that is bound to the class itself, rather than to a specific object instance. This means that class methods can be called without first creating an instance of the class.\n",
    "\n",
    "Class methods are typically used to perform operations that are common to all instances of a class, such as creating new instances of the class or accessing class variables.\n",
    "\n",
    "Here is an example of a class method:\n",
    "\n",
    "```python\n",
    "class Person:\n",
    "  def __init__(self, name, age):\n",
    "    self.name = name\n",
    "    self.age = age\n",
    "\n",
    "  @classmethod\n",
    "  def create_from_string(cls, string):\n",
    "    name, age = string.split(\",\")\n",
    "    return cls(name, int(age))\n",
    "\n",
    "person = Person.create_from_string(\"John Doe,30\")\n",
    "print(person.name)  # Output: John Doe\n",
    "print(person.age)  # Output: 30\n",
    "```\n",
    "\n",
    "In this example, the `create_from_string()` class method is used to create a new `Person` object from a string. The `create_from_string()` class method can be called without first creating an instance of the `Person` class.\n",
    "\n",
    "Class methods can also be used to access and modify class variables. For example, the following code shows how to use a class method to get the number of `Person` objects that have been created:\n",
    "\n",
    "```python\n",
    "class Person:\n",
    "  count = 0\n",
    "\n",
    "  def __init__(self, name, age):\n",
    "    self.name = name\n",
    "    self.age = age\n",
    "    Person.count += 1\n",
    "\n",
    "  @classmethod\n",
    "  def get_count(cls):\n",
    "    return cls.count\n",
    "\n",
    "print(Person.get_count())  # Output: 0\n",
    "```\n",
    "\n",
    "In this example, the `get_count()` class method is used to get the number of `Person` objects that have been created. The `get_count()` class method can be called without first creating an instance of the `Person` class.\n",
    "\n",
    "Class methods are a powerful tool that can be used to improve the functionality of your code. If you are not already using class methods, I encourage you to start using them today."
   ]
  },
  {
   "cell_type": "code",
   "execution_count": 1,
   "id": "d7d1f38c",
   "metadata": {},
   "outputs": [],
   "source": [
    "class pwskills:\n",
    "    \n",
    "    def __init__(self, name, email):\n",
    "        \n",
    "        self.name = name\n",
    "        self.email = email\n",
    "        \n",
    "    def student_details(self):\n",
    "        print(self.name, self.email)"
   ]
  },
  {
   "cell_type": "code",
   "execution_count": 2,
   "id": "6adc0cf1",
   "metadata": {},
   "outputs": [],
   "source": [
    "pw = pwskills(\"mohan\" , \"mohan@gmail.com\")"
   ]
  },
  {
   "cell_type": "code",
   "execution_count": 3,
   "id": "e41af4be",
   "metadata": {},
   "outputs": [
    {
     "data": {
      "text/plain": [
       "'mohan'"
      ]
     },
     "execution_count": 3,
     "metadata": {},
     "output_type": "execute_result"
    }
   ],
   "source": [
    "pw.name"
   ]
  },
  {
   "cell_type": "code",
   "execution_count": 4,
   "id": "9f252585",
   "metadata": {},
   "outputs": [
    {
     "data": {
      "text/plain": [
       "'mohan@gmail.com'"
      ]
     },
     "execution_count": 4,
     "metadata": {},
     "output_type": "execute_result"
    }
   ],
   "source": [
    "pw.email"
   ]
  },
  {
   "cell_type": "code",
   "execution_count": 6,
   "id": "1246d15f",
   "metadata": {},
   "outputs": [
    {
     "name": "stdout",
     "output_type": "stream",
     "text": [
      "mohan mohan@gmail.com\n"
     ]
    }
   ],
   "source": [
    "pw.student_details()"
   ]
  },
  {
   "cell_type": "markdown",
   "id": "c8843cc5",
   "metadata": {},
   "source": [
    "## Class Method"
   ]
  },
  {
   "cell_type": "code",
   "execution_count": 7,
   "id": "1155c1e0",
   "metadata": {},
   "outputs": [],
   "source": [
    "class pwskills1 : \n",
    "    \n",
    "    def __init__(self , name , email) :\n",
    "        \n",
    "        self.name = name \n",
    "        self.email = email\n",
    "    \n",
    "    @classmethod                                                    # default decorator \n",
    "    def details(cls ,name, email ):\n",
    "        return cls(name , email)\n",
    "        \n",
    "    def students_details(self):\n",
    "        print(self.name , self.email)"
   ]
  },
  {
   "cell_type": "code",
   "execution_count": 8,
   "id": "2d1b58f4",
   "metadata": {},
   "outputs": [],
   "source": [
    "pw1 = pwskills1.details(\"sudh\" , \"sudh@gmail.com\")"
   ]
  },
  {
   "cell_type": "code",
   "execution_count": 9,
   "id": "48d1cc53",
   "metadata": {},
   "outputs": [
    {
     "data": {
      "text/plain": [
       "'sudh'"
      ]
     },
     "execution_count": 9,
     "metadata": {},
     "output_type": "execute_result"
    }
   ],
   "source": [
    "pw1.name"
   ]
  },
  {
   "cell_type": "code",
   "execution_count": 10,
   "id": "953238a0",
   "metadata": {},
   "outputs": [
    {
     "data": {
      "text/plain": [
       "'sudh@gmail.com'"
      ]
     },
     "execution_count": 10,
     "metadata": {},
     "output_type": "execute_result"
    }
   ],
   "source": [
    "pw1.email"
   ]
  },
  {
   "cell_type": "code",
   "execution_count": 11,
   "id": "eeb29046",
   "metadata": {},
   "outputs": [
    {
     "name": "stdout",
     "output_type": "stream",
     "text": [
      "sudh sudh@gmail.com\n"
     ]
    }
   ],
   "source": [
    "pw1.students_details()"
   ]
  },
  {
   "cell_type": "code",
   "execution_count": 12,
   "id": "75f878c1",
   "metadata": {},
   "outputs": [],
   "source": [
    "class pwskills2 : \n",
    "    \n",
    "    mobile_num = 912342424\n",
    "    \n",
    "    def __init__(self , name , email) :\n",
    "        \n",
    "        self.name = name \n",
    "        self.email = email\n",
    "    \n",
    "    @classmethod\n",
    "    def change_number(cls, mobile):\n",
    "        pwskills2.mobile_num = mobile\n",
    "    \n",
    "    @classmethod\n",
    "    def details(cls ,name, email ):\n",
    "        return cls(name , email)\n",
    "        \n",
    "    def students_details(self):\n",
    "        print(self.name , self.email,pwskills2.mobile_num)"
   ]
  },
  {
   "cell_type": "code",
   "execution_count": 13,
   "id": "13ad3548",
   "metadata": {},
   "outputs": [
    {
     "data": {
      "text/plain": [
       "912342424"
      ]
     },
     "execution_count": 13,
     "metadata": {},
     "output_type": "execute_result"
    }
   ],
   "source": [
    "pwskills2.mobile_num"
   ]
  },
  {
   "cell_type": "code",
   "execution_count": 14,
   "id": "8cbaf5bd",
   "metadata": {},
   "outputs": [],
   "source": [
    "pwskills2.change_number(924324234)"
   ]
  },
  {
   "cell_type": "code",
   "execution_count": 15,
   "id": "359c7f7e",
   "metadata": {},
   "outputs": [
    {
     "data": {
      "text/plain": [
       "924324234"
      ]
     },
     "execution_count": 15,
     "metadata": {},
     "output_type": "execute_result"
    }
   ],
   "source": [
    "pwskills2.mobile_num"
   ]
  },
  {
   "cell_type": "code",
   "execution_count": 16,
   "id": "73e90e80",
   "metadata": {},
   "outputs": [],
   "source": [
    "pw = pwskills2.details(\"rohan\" , \"rohan@gmail.com\")"
   ]
  },
  {
   "cell_type": "code",
   "execution_count": 17,
   "id": "8e7bcb87",
   "metadata": {},
   "outputs": [
    {
     "name": "stdout",
     "output_type": "stream",
     "text": [
      "rohan rohan@gmail.com 924324234\n"
     ]
    }
   ],
   "source": [
    "pw.students_details()"
   ]
  },
  {
   "cell_type": "code",
   "execution_count": 18,
   "id": "bc49e8e5",
   "metadata": {},
   "outputs": [],
   "source": [
    "pw_obj = pwskills2(\"sudh\" , \"sudh@gmail.com\")"
   ]
  },
  {
   "cell_type": "code",
   "execution_count": 19,
   "id": "bb9aa3cd",
   "metadata": {},
   "outputs": [
    {
     "name": "stdout",
     "output_type": "stream",
     "text": [
      "sudh sudh@gmail.com 924324234\n"
     ]
    }
   ],
   "source": [
    "pw_obj.students_details()"
   ]
  },
  {
   "cell_type": "code",
   "execution_count": 1,
   "id": "5e7dc328",
   "metadata": {},
   "outputs": [],
   "source": [
    "class pwskills3 : \n",
    "    \n",
    "    mobile_num = 912342424\n",
    "    \n",
    "    def __init__(self , name , email) :\n",
    "        \n",
    "        self.name = name \n",
    "        self.email = email\n",
    "    \n",
    "    @classmethod\n",
    "    def change_number(cls, mobile):\n",
    "        pwskills2.mobile_num = mobile\n",
    "    \n",
    "    @classmethod\n",
    "    def details(cls ,name, email ):\n",
    "        return cls(name , email)\n",
    "        \n",
    "    def students_details(self):\n",
    "        print(self.name , self.email,pwskills2.mobile_num)"
   ]
  },
  {
   "cell_type": "code",
   "execution_count": 2,
   "id": "a8874d0b",
   "metadata": {},
   "outputs": [],
   "source": [
    "def course_details(cls,course_name) : \n",
    "    print(\"course name is \" , course_name)"
   ]
  },
  {
   "cell_type": "code",
   "execution_count": 3,
   "id": "9e7b96f3",
   "metadata": {},
   "outputs": [],
   "source": [
    "pwskills3.course_details = classmethod(course_details)"
   ]
  },
  {
   "cell_type": "code",
   "execution_count": 4,
   "id": "4d5f6cc1",
   "metadata": {},
   "outputs": [
    {
     "name": "stdout",
     "output_type": "stream",
     "text": [
      "course name is  data science masters \n"
     ]
    }
   ],
   "source": [
    "pwskills3.course_details(\"data science masters \")"
   ]
  },
  {
   "cell_type": "code",
   "execution_count": 5,
   "id": "855d2c90",
   "metadata": {},
   "outputs": [],
   "source": [
    "def mentor(cls , list_of_mentor) : \n",
    "    print(list_of_mentor)"
   ]
  },
  {
   "cell_type": "code",
   "execution_count": 25,
   "id": "cf87bd8d",
   "metadata": {},
   "outputs": [],
   "source": [
    "pwskills3.mentor = classmethod(mentor)"
   ]
  },
  {
   "cell_type": "code",
   "execution_count": 26,
   "id": "7e303bfd",
   "metadata": {},
   "outputs": [
    {
     "name": "stdout",
     "output_type": "stream",
     "text": [
      "['sudhanshu ', 'krish naik']\n"
     ]
    }
   ],
   "source": [
    "pwskills3.mentor([\"sudhanshu \" , \"krish naik\"])"
   ]
  },
  {
   "cell_type": "code",
   "execution_count": 27,
   "id": "e48e8cfd",
   "metadata": {},
   "outputs": [],
   "source": [
    "class pwskills4 : \n",
    "    \n",
    "    mobile_num = 912342424\n",
    "    \n",
    "    def __init__(self , name , email) :\n",
    "        \n",
    "        self.name = name \n",
    "        self.email = email\n",
    "    \n",
    "    @classmethod\n",
    "    def change_number(cls, mobile):\n",
    "        pwskills2.mobile_num = mobile\n",
    "    \n",
    "    @classmethod\n",
    "    def details(cls ,name, email ):\n",
    "        return cls(name , email)\n",
    "        \n",
    "    def students_details(self):\n",
    "        print(self.name , self.email,pwskills2.mobile_num)"
   ]
  },
  {
   "cell_type": "code",
   "execution_count": 28,
   "id": "acace621",
   "metadata": {},
   "outputs": [],
   "source": [
    "del pwskills4.change_number"
   ]
  },
  {
   "cell_type": "code",
   "execution_count": 29,
   "id": "20bfc6f4",
   "metadata": {},
   "outputs": [],
   "source": [
    "delattr(pwskills4 ,\"details\" )"
   ]
  },
  {
   "cell_type": "code",
   "execution_count": 30,
   "id": "82ed3a6f",
   "metadata": {},
   "outputs": [],
   "source": [
    "delattr(pwskills4 ,\"students_details\")"
   ]
  },
  {
   "cell_type": "code",
   "execution_count": 31,
   "id": "7c15dd90",
   "metadata": {},
   "outputs": [],
   "source": [
    "delattr(pwskills4 , \"mobile_num\")"
   ]
  },
  {
   "cell_type": "code",
   "execution_count": 32,
   "id": "b3d6cd88",
   "metadata": {},
   "outputs": [
    {
     "ename": "SyntaxError",
     "evalue": "invalid syntax (3969922017.py, line 1)",
     "output_type": "error",
     "traceback": [
      "\u001b[1;36m  Cell \u001b[1;32mIn[32], line 1\u001b[1;36m\u001b[0m\n\u001b[1;33m    pwskills4.\u001b[0m\n\u001b[1;37m              ^\u001b[0m\n\u001b[1;31mSyntaxError\u001b[0m\u001b[1;31m:\u001b[0m invalid syntax\n"
     ]
    }
   ],
   "source": [
    "pwskills4."
   ]
  },
  {
   "cell_type": "code",
   "execution_count": 33,
   "id": "5ed609f4",
   "metadata": {},
   "outputs": [
    {
     "ename": "AttributeError",
     "evalue": "type object 'pwskills4' has no attribute 'change_number'",
     "output_type": "error",
     "traceback": [
      "\u001b[1;31m---------------------------------------------------------------------------\u001b[0m",
      "\u001b[1;31mAttributeError\u001b[0m                            Traceback (most recent call last)",
      "Cell \u001b[1;32mIn[33], line 1\u001b[0m\n\u001b[1;32m----> 1\u001b[0m pwskills4\u001b[38;5;241m.\u001b[39mchange_number(\u001b[38;5;241m345345453\u001b[39m)\n",
      "\u001b[1;31mAttributeError\u001b[0m: type object 'pwskills4' has no attribute 'change_number'"
     ]
    }
   ],
   "source": [
    "pwskills4.change_number(345345453)"
   ]
  },
  {
   "cell_type": "code",
   "execution_count": null,
   "id": "a98bc4fe",
   "metadata": {},
   "outputs": [],
   "source": []
  }
 ],
 "metadata": {
  "kernelspec": {
   "display_name": "Python 3 (ipykernel)",
   "language": "python",
   "name": "python3"
  },
  "language_info": {
   "codemirror_mode": {
    "name": "ipython",
    "version": 3
   },
   "file_extension": ".py",
   "mimetype": "text/x-python",
   "name": "python",
   "nbconvert_exporter": "python",
   "pygments_lexer": "ipython3",
   "version": "3.12.2"
  }
 },
 "nbformat": 4,
 "nbformat_minor": 5
}
