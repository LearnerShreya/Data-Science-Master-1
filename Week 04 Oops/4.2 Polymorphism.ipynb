{
 "cells": [
  {
   "cell_type": "markdown",
   "id": "6cefa213",
   "metadata": {},
   "source": [
    "## Polymorphism\n",
    "polymorphism refers to the ability of an object to take on many forms. This means that a single object can be used in different ways, depending on the context. For example, a variable that is declared to be of type \"animal\" could refer to a dog, a cat, or a bird. When the variable is used, the appropriate behavior for the animal type is executed. Polymorphism is a key concept in object-oriented programming, and it allows programmers to write more flexible and reusable code.\n",
    "\n",
    "**Here are some examples of polymorphism in everyday life:**\n",
    "\n",
    "- A person can be a parent, a spouse, and an employee. Each of these roles has different responsibilities and behaviors, but the person can fulfill all of them.\n",
    "- A car can be used to transport people, cargo, or both. The car's behavior will change depending on the type of load it is carrying.\n",
    "- A word can have multiple meanings. For example, the word \"bark\" can refer to the sound a dog makes, the outer covering of a tree, or a type of ship. The meaning of the word is determined by the context in which it is used.\n",
    "\n",
    "There are two main types of polymorphism: **compile-time (or static) polymorphism** and **runtime (or dynamic) polymorphism**.\n",
    "\n",
    "**Compile-time (Static) Polymorphism:**\n",
    "- Also known as **method overloading** or **function overloading**.\n",
    "- Occurs when multiple methods in the same class have the same name but different parameters (number or type).\n",
    "- The appropriate method is chosen by the compiler based on the method signature during compile-time.\n",
    "\n",
    "**Runtime (Dynamic) Polymorphism:**\n",
    "- Also known as **method overriding**.\n",
    "- Occurs when a subclass provides a specific implementation for a method that is already defined in its superclass.\n",
    "- The appropriate method is determined at runtime based on the actual type of the object."
   ]
  },
  {
   "cell_type": "code",
   "execution_count": 46,
   "id": "5f79122f",
   "metadata": {},
   "outputs": [],
   "source": [
    "def test(a , b ) :\n",
    "    return a+b "
   ]
  },
  {
   "cell_type": "code",
   "execution_count": 47,
   "id": "e1b707bf",
   "metadata": {},
   "outputs": [
    {
     "data": {
      "text/plain": [
       "7"
      ]
     },
     "execution_count": 47,
     "metadata": {},
     "output_type": "execute_result"
    }
   ],
   "source": [
    "test(3,4)                  # addition"
   ]
  },
  {
   "cell_type": "code",
   "execution_count": 48,
   "id": "a96950b8",
   "metadata": {},
   "outputs": [
    {
     "data": {
      "text/plain": [
       "'sudh kumar '"
      ]
     },
     "execution_count": 48,
     "metadata": {},
     "output_type": "execute_result"
    }
   ],
   "source": [
    "test(\"sudh \" , \"kumar \" )  # concatenation"
   ]
  },
  {
   "cell_type": "code",
   "execution_count": 49,
   "id": "22a3a93c",
   "metadata": {},
   "outputs": [
    {
     "data": {
      "text/plain": [
       "[3, 4, 5, 6, 45, 767, 67]"
      ]
     },
     "execution_count": 49,
     "metadata": {},
     "output_type": "execute_result"
    }
   ],
   "source": [
    "test([3,4,5,6] , [45,767,67])   # concatenation"
   ]
  },
  {
   "cell_type": "markdown",
   "id": "3c9b6837",
   "metadata": {},
   "source": [
    "yaha base function chane nahi ho raha hai but functon ka behaviour change ho raha hai"
   ]
  },
  {
   "cell_type": "code",
   "execution_count": 50,
   "id": "3888bd46",
   "metadata": {},
   "outputs": [
    {
     "ename": "TypeError",
     "evalue": "can only concatenate list (not \"tuple\") to list",
     "output_type": "error",
     "traceback": [
      "\u001b[1;31m---------------------------------------------------------------------------\u001b[0m",
      "\u001b[1;31mTypeError\u001b[0m                                 Traceback (most recent call last)",
      "Cell \u001b[1;32mIn[50], line 1\u001b[0m\n\u001b[1;32m----> 1\u001b[0m test([\u001b[38;5;241m3\u001b[39m,\u001b[38;5;241m4\u001b[39m,\u001b[38;5;241m5\u001b[39m,\u001b[38;5;241m6\u001b[39m] , (\u001b[38;5;241m45\u001b[39m,\u001b[38;5;241m767\u001b[39m,\u001b[38;5;241m67\u001b[39m))\n",
      "Cell \u001b[1;32mIn[46], line 2\u001b[0m, in \u001b[0;36mtest\u001b[1;34m(a, b)\u001b[0m\n\u001b[0;32m      1\u001b[0m \u001b[38;5;28;01mdef\u001b[39;00m \u001b[38;5;21mtest\u001b[39m(a , b ) :\n\u001b[1;32m----> 2\u001b[0m     \u001b[38;5;28;01mreturn\u001b[39;00m a\u001b[38;5;241m+\u001b[39mb\n",
      "\u001b[1;31mTypeError\u001b[0m: can only concatenate list (not \"tuple\") to list"
     ]
    }
   ],
   "source": [
    "test([3,4,5,6] , (45,767,67))"
   ]
  },
  {
   "cell_type": "code",
   "execution_count": 51,
   "id": "183714e7",
   "metadata": {},
   "outputs": [],
   "source": [
    "class data_science:\n",
    "    \n",
    "    def syllabus(self) : \n",
    "        print(\"this is my syllabus for data science masters \")"
   ]
  },
  {
   "cell_type": "code",
   "execution_count": 52,
   "id": "9f18b9b1",
   "metadata": {},
   "outputs": [],
   "source": [
    "class web_dev:\n",
    "    \n",
    "    def syllabus(self) : \n",
    "        print(\"this is  my subllabus for web dev\" )"
   ]
  },
  {
   "cell_type": "code",
   "execution_count": 53,
   "id": "80a99fa4",
   "metadata": {},
   "outputs": [],
   "source": [
    "def class_parcer(class_obj):\n",
    "    for i in class_obj : \n",
    "        i.syllabus()"
   ]
  },
  {
   "cell_type": "code",
   "execution_count": 54,
   "id": "d6a6b2a1",
   "metadata": {},
   "outputs": [],
   "source": [
    "data_science = data_science()"
   ]
  },
  {
   "cell_type": "code",
   "execution_count": 55,
   "id": "473edeb8",
   "metadata": {},
   "outputs": [],
   "source": [
    "web_dev = web_dev()"
   ]
  },
  {
   "cell_type": "code",
   "execution_count": 58,
   "id": "6adb7326",
   "metadata": {},
   "outputs": [],
   "source": [
    "class_obj = [data_science, web_dev]"
   ]
  },
  {
   "cell_type": "code",
   "execution_count": 59,
   "id": "834a3734",
   "metadata": {},
   "outputs": [
    {
     "name": "stdout",
     "output_type": "stream",
     "text": [
      "this is my syllabus for data science masters \n",
      "this is  my subllabus for web dev\n"
     ]
    }
   ],
   "source": [
    "class_parcer(class_obj)"
   ]
  },
  {
   "cell_type": "code",
   "execution_count": 60,
   "id": "a1a12e2c",
   "metadata": {},
   "outputs": [
    {
     "name": "stdout",
     "output_type": "stream",
     "text": [
      "This is my syllabus for data science masters\n",
      "This is my syllabus for web development\n"
     ]
    }
   ],
   "source": [
    "class data_science:\n",
    "    \n",
    "    def syllabus(self) : \n",
    "        print(\"This is my syllabus for data science masters\")\n",
    "\n",
    "\n",
    "class web_dev:\n",
    "    \n",
    "    def syllabus(self) : \n",
    "        print(\"This is my syllabus for web development\")\n",
    "\n",
    "\n",
    "def class_parser(class_obj):\n",
    "    for i in class_obj : \n",
    "        i.syllabus()\n",
    "\n",
    "\n",
    "data_science = data_science()\n",
    "web_dev = web_dev()\n",
    "class_obj = [data_science, web_dev]\n",
    "\n",
    "class_parser(class_obj)\n"
   ]
  },
  {
   "cell_type": "markdown",
   "id": "26037328",
   "metadata": {},
   "source": [
    "1. **Class Definitions:**\n",
    "\n",
    "- Two classes are defined: data_science and web_dev.\n",
    "- Both classes have a method named syllabus that prints a specific syllabus message for each field.\n",
    "\n",
    "2. **Function Definition:**\n",
    "\n",
    "- There's a function named **'class_parser'** that takes a list of class objects **('class_obj')** as its parameter.\n",
    "- Inside the function, there's a loop that iterates over each object in the list and calls the **'syllabus'** method on each object.\n",
    "\n",
    "3. **Object Instantiation:**\n",
    "\n",
    "- An instance of the **'data_science'** class is created and assigned to the variable **'data_science'**.\n",
    "- An instance of the **'web_dev'** class is created and assigned to the variable **'web_dev'**.\n",
    "\n",
    "4. **List of Objects:**\n",
    "\n",
    "- A list named **'class_obj'** is created, containing the previously instantiated objects of **'data_science'** and **'web_dev'** classes.\n",
    "\n",
    "5. **Function Invocation:**\n",
    "\n",
    "- The **'class_parser'** function is called with the **'class_obj'** list as an argument.\n",
    "\n",
    "6. **Output Explanation:**\n",
    "\n",
    "- When the **'class_parser'** function is executed, it iterates through each object in the **'class_obj'** list and calls the **'syllabus'** method for each.\n",
    "- As a result, it prints the syllabus messages defined in the **syllabus** method of each class.\n",
    "\n",
    "###### So, when you run this code, the output will be:\n",
    "\n",
    "- This is my syllabus for data science masters\n",
    "- This is my syllabus for web development\n",
    "\n",
    "- In summary, this code demonstrates basic concepts of object-oriented programming in Python, including class definition, method creation, object instantiation, and function usage. The function **'class_parser'** is a simple way to iterate through a list of objects and perform a common operation on each object."
   ]
  },
  {
   "cell_type": "markdown",
   "id": "0965c380",
   "metadata": {},
   "source": [
    "Sure, here is a comprehensive explanation of the code above:\n",
    "\n",
    "**Step 1: Defining the Classes**\n",
    "\n",
    "The code starts by defining two classes: `data_science` and `web_dev`. Each class represents a different subject area, namely data science and web development.\n",
    "\n",
    "**Step 2: Implementing the `syllabus()` Method**\n",
    "\n",
    "Both classes define a method named `syllabus()`. This method is responsible for printing the syllabus for the respective subject area. The `syllabus()` method takes the class object itself as an argument, which is referred to as `self` within the method.\n",
    "\n",
    "**Step 3: Defining the `class_parser()` Function**\n",
    "\n",
    "The code then defines a function named `class_parser()`. This function takes a list of class objects as an argument. The function iterates over the list of class objects and calls the `syllabus()` method for each object.\n",
    "\n",
    "**Step 4: Creating Class Instances**\n",
    "\n",
    "Next, two instances of the `data_science` and `web_dev` classes are created using the `data_science()` and `web_dev()` constructors, respectively.\n",
    "\n",
    "**Step 5: Creating a List of Class Objects**\n",
    "\n",
    "A list named `class_obj` is created, and the two class instances, `data_science` and `web_dev`, are added to the list.\n",
    "\n",
    "**Step 6: Calling the `class_parser()` Function**\n",
    "\n",
    "Finally, the `class_parser()` function is called, passing the `class_obj` list as an argument. This causes the `syllabus()` method to be called for both the `data_science` and `web_dev` objects, printing the syllabus for each subject area.\n",
    "\n",
    "**Overall Execution**\n",
    "\n",
    "When the code is executed, the following output is produced:\n",
    "\n",
    "```\n",
    "This is my syllabus for data science masters\n",
    "This is my syllabus for web development\n",
    "```\n",
    "\n",
    "This demonstrates the use of polymorphism, where a common method (`syllabus()`) is implemented differently for different classes (`data_science` and `web_dev`), allowing for flexible and reusable code."
   ]
  }
 ],
 "metadata": {
  "kernelspec": {
   "display_name": "Python 3 (ipykernel)",
   "language": "python",
   "name": "python3"
  },
  "language_info": {
   "codemirror_mode": {
    "name": "ipython",
    "version": 3
   },
   "file_extension": ".py",
   "mimetype": "text/x-python",
   "name": "python",
   "nbconvert_exporter": "python",
   "pygments_lexer": "ipython3",
   "version": "3.11.4"
  }
 },
 "nbformat": 4,
 "nbformat_minor": 5
}
