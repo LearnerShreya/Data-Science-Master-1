{
 "cells": [
  {
   "cell_type": "markdown",
   "id": "a2a096b7",
   "metadata": {},
   "source": [
    "# 4.10 Property Decorators - Getters, Setters, And Deleters"
   ]
  },
  {
   "cell_type": "markdown",
   "id": "a0f5845a",
   "metadata": {},
   "source": [
    "- __ means private\n",
    "- _ means protected"
   ]
  },
  {
   "cell_type": "markdown",
   "id": "ebdf17be",
   "metadata": {},
   "source": [
    "# Bard\n",
    "In object-oriented programming, property decorators are a powerful tool for defining custom attributes that encapsulate data and behavior. They provide a more concise and elegant way to manage data access and perform additional operations when retrieving or modifying attribute values.\n",
    "\n",
    "**Getters, Setters, and Deleters**\n",
    "\n",
    "Property decorators primarily involve three methods: getters, setters, and deleters.\n",
    "\n",
    "1. **Getters:** Getter methods are responsible for retrieving the value of an attribute. They are decorated with the `@property` decorator and typically take no arguments.\n",
    "\n",
    "2. **Setters:** Setter methods are responsible for modifying the value of an attribute. They are also decorated with the `@property` decorator and typically take one argument, representing the new value to be assigned.\n",
    "\n",
    "3. **Deleters:** Deleter methods are responsible for removing or deleting an attribute's value. They are decorated with the `@property.deleter` decorator and take no arguments.\n",
    "\n",
    "**Benefits of Property Decorators**\n",
    "\n",
    "Property decorators offer several advantages over traditional methods of defining attributes:\n",
    "\n",
    "1. **Encapsulation:** They encapsulate data and behavior, making code more organized and maintainable.\n",
    "\n",
    "2. **Data Validation:** Getters and setters can perform validation checks before modifying attribute values, ensuring data integrity.\n",
    "\n",
    "3. **Computed Properties:** Getters can perform computations or retrieve data from external sources before returning the attribute value.\n",
    "\n",
    "4. **Read-Only Properties:** Properties can be defined as read-only by omitting the setter method, preventing direct modification of the attribute.\n",
    "\n",
    "5. **Cleaner Syntax:** Property decorators provide a more concise and readable syntax compared to traditional methods.\n",
    "\n",
    "**Example Usage**\n",
    "\n",
    "Consider a class `Rectangle` that represents a rectangle with length and width attributes.\n",
    "\n",
    "```python\n",
    "class Rectangle:\n",
    "    def __init__(self, length, width):\n",
    "        self.length = length\n",
    "        self.width = width\n",
    "\n",
    "    @property\n",
    "    def area(self):\n",
    "        return self.length * self.width\n",
    "\n",
    "    @area.setter\n",
    "    def area(self, value):\n",
    "        raise AttributeError(\"Cannot set the 'area' attribute directly.\")\n",
    "\n",
    "    @area.deleter\n",
    "    def area(self):\n",
    "        raise AttributeError(\"Cannot delete the 'area' attribute.\")\n",
    "```\n",
    "\n",
    "In this example, the `area` property is defined using decorators. The getter method returns the calculated area of the rectangle. The setter method raises an exception to prevent direct modification of the `area` attribute, forcing users to modify the length and width attributes to indirectly change the area. The deleter method also raises an exception to prevent deletion of the `area` attribute.\n",
    "\n",
    "Property decorators provide a powerful and flexible mechanism for defining attributes in object-oriented programming. They enhance encapsulation, facilitate data validation, enable computed properties, and promote cleaner code."
   ]
  },
  {
   "cell_type": "markdown",
   "id": "32a5d863",
   "metadata": {},
   "source": [
    "# GPT\n",
    "\n",
    "In Python, property decorators are a way to control the access, modification, and deletion of class attributes. They allow you to define getter, setter, and deleter methods for a class attribute, providing a mechanism for encapsulation and allowing you to execute code when an attribute is accessed, modified, or deleted.\n",
    "\n",
    "Here are the main property decorators in Python:\n",
    "\n",
    "1. **`@property`:**\n",
    "   - Marks a method as a getter for a property.\n",
    "   - The method decorated with `@property` is called when the property is accessed.\n",
    "\n",
    "2. **`@<property_name>.setter`:**\n",
    "   - Marks a method as a setter for a property.\n",
    "   - The method decorated with `@<property_name>.setter` is called when the property is assigned a new value.\n",
    "\n",
    "3. **`@<property_name>.deleter`:**\n",
    "   - Marks a method as a deleter for a property.\n",
    "   - The method decorated with `@<property_name>.deleter` is called when the property is deleted using the `del` statement.\n",
    "\n",
    "Here's an example demonstrating the use of property decorators:\n",
    "\n",
    "```python\n",
    "class Temperature:\n",
    "    def __init__(self, celsius):\n",
    "        self._celsius = celsius\n",
    "\n",
    "    @property\n",
    "    def celsius(self):\n",
    "        print(\"Getting temperature in Celsius\")\n",
    "        return self._celsius\n",
    "\n",
    "    @celsius.setter\n",
    "    def celsius(self, value):\n",
    "        print(\"Setting temperature in Celsius\")\n",
    "        if value < -273.15:\n",
    "            raise ValueError(\"Temperature cannot be less than -273.15°C\")\n",
    "        self._celsius = value\n",
    "\n",
    "    @celsius.deleter\n",
    "    def celsius(self):\n",
    "        print(\"Deleting temperature in Celsius\")\n",
    "        del self._celsius\n",
    "\n",
    "    @property\n",
    "    def fahrenheit(self):\n",
    "        print(\"Getting temperature in Fahrenheit\")\n",
    "        return self._celsius * 9/5 + 32\n",
    "\n",
    "    @fahrenheit.setter\n",
    "    def fahrenheit(self, value):\n",
    "        print(\"Setting temperature in Fahrenheit\")\n",
    "        if value < -459.67:\n",
    "            raise ValueError(\"Temperature cannot be less than -459.67°F\")\n",
    "        self._celsius = (value - 32) * 5/9\n",
    "\n",
    "# Usage\n",
    "temp_obj = Temperature(25)\n",
    "\n",
    "# Accessing the property\n",
    "print(\"Celsius Temperature:\", temp_obj.celsius)\n",
    "\n",
    "# Setting the property\n",
    "temp_obj.celsius = 30\n",
    "\n",
    "# Deleting the property\n",
    "del temp_obj.celsius\n",
    "\n",
    "# Accessing another property derived from the first one\n",
    "print(\"Fahrenheit Temperature:\", temp_obj.fahrenheit)\n",
    "\n",
    "# Setting the derived property\n",
    "temp_obj.fahrenheit = 86\n",
    "\n",
    "# Accessing the original property after setting the derived property\n",
    "print(\"Celsius Temperature:\", temp_obj.celsius)\n",
    "```\n",
    "\n",
    "In this example, the `Temperature` class has a property `celsius` with a getter, setter, and deleter. Additionally, there is a derived property `fahrenheit` that depends on the `celsius` property. The decorators help control and execute specific actions when accessing, modifying, or deleting these properties."
   ]
  },
  {
   "cell_type": "code",
   "execution_count": 4,
   "id": "ba4e18a0",
   "metadata": {},
   "outputs": [],
   "source": [
    "class pwskills :\n",
    "    \n",
    "    def __init__(self , course_price , coruse_name):\n",
    "        \n",
    "        self.__course_price = course_price\n",
    "        self.course_name = coruse_name"
   ]
  },
  {
   "cell_type": "code",
   "execution_count": 5,
   "id": "0aa3e9f2",
   "metadata": {},
   "outputs": [],
   "source": [
    "pw = pwskills(3500 , \"data science masters\")"
   ]
  },
  {
   "cell_type": "code",
   "execution_count": 6,
   "id": "f86f0dac",
   "metadata": {},
   "outputs": [
    {
     "ename": "AttributeError",
     "evalue": "'pwskills' object has no attribute '__course_price'",
     "output_type": "error",
     "traceback": [
      "\u001b[1;31m---------------------------------------------------------------------------\u001b[0m",
      "\u001b[1;31mAttributeError\u001b[0m                            Traceback (most recent call last)",
      "Cell \u001b[1;32mIn[6], line 1\u001b[0m\n\u001b[1;32m----> 1\u001b[0m \u001b[43mpw\u001b[49m\u001b[38;5;241;43m.\u001b[39;49m\u001b[43m__course_price\u001b[49m\n",
      "\u001b[1;31mAttributeError\u001b[0m: 'pwskills' object has no attribute '__course_price'"
     ]
    }
   ],
   "source": [
    "pw.__course_price"
   ]
  },
  {
   "cell_type": "code",
   "execution_count": 7,
   "id": "f62af875",
   "metadata": {},
   "outputs": [
    {
     "data": {
      "text/plain": [
       "3500"
      ]
     },
     "execution_count": 7,
     "metadata": {},
     "output_type": "execute_result"
    }
   ],
   "source": [
    "pw._pwskills__course_price"
   ]
  },
  {
   "cell_type": "code",
   "execution_count": 8,
   "id": "19b255de",
   "metadata": {},
   "outputs": [
    {
     "data": {
      "text/plain": [
       "'data science masters'"
      ]
     },
     "execution_count": 8,
     "metadata": {},
     "output_type": "execute_result"
    }
   ],
   "source": [
    "pw.course_name"
   ]
  },
  {
   "cell_type": "code",
   "execution_count": 9,
   "id": "4d4dfa49",
   "metadata": {},
   "outputs": [],
   "source": [
    "class pwskills :\n",
    "    \n",
    "    def __init__(self , course_price , coruse_name):\n",
    "        \n",
    "        self.__course_price = course_price\n",
    "        self.course_name = coruse_name\n",
    "        \n",
    "    @property                                                \n",
    "    def course_price_access(self) : \n",
    "        return self.__course_price"
   ]
  },
  {
   "cell_type": "code",
   "execution_count": 10,
   "id": "4757957f",
   "metadata": {},
   "outputs": [],
   "source": [
    "pw = pwskills(3500 , \"data science masters\")"
   ]
  },
  {
   "cell_type": "code",
   "execution_count": 11,
   "id": "d5e7e737",
   "metadata": {},
   "outputs": [
    {
     "data": {
      "text/plain": [
       "3500"
      ]
     },
     "execution_count": 11,
     "metadata": {},
     "output_type": "execute_result"
    }
   ],
   "source": [
    "pw.course_price_access"
   ]
  },
  {
   "cell_type": "code",
   "execution_count": 18,
   "id": "e6c0279a",
   "metadata": {},
   "outputs": [],
   "source": [
    "class pwskills :\n",
    "    \n",
    "    def __init__(self , course_price , coruse_name):\n",
    "        \n",
    "        self.__course_price = course_price\n",
    "        self.course_name = coruse_name\n",
    "        \n",
    "    @property\n",
    "    def course_price_access(self) : \n",
    "        return self.__course_price\n",
    "    \n",
    "    @course_price_access.setter\n",
    "    def course_price_set(self , price ):\n",
    "        if price <= 3500:\n",
    "            pass\n",
    "        else :\n",
    "            self.__course_price = price\n",
    "            \n",
    "    @course_price_access.deleter\n",
    "    def delete_course_price(self) : \n",
    "        del self.__course_price\n",
    "    \n",
    "    "
   ]
  },
  {
   "cell_type": "code",
   "execution_count": 19,
   "id": "a1b5411a",
   "metadata": {},
   "outputs": [],
   "source": [
    "pw = pwskills(3500 , \"data science masters\")"
   ]
  },
  {
   "cell_type": "code",
   "execution_count": 20,
   "id": "5cfa56b6",
   "metadata": {},
   "outputs": [],
   "source": [
    "pw.course_price_set = 4500"
   ]
  },
  {
   "cell_type": "code",
   "execution_count": 21,
   "id": "d0b74dc7",
   "metadata": {},
   "outputs": [
    {
     "data": {
      "text/plain": [
       "4500"
      ]
     },
     "execution_count": 21,
     "metadata": {},
     "output_type": "execute_result"
    }
   ],
   "source": [
    "pw.course_price_access"
   ]
  },
  {
   "cell_type": "code",
   "execution_count": 22,
   "id": "14b52e2e",
   "metadata": {},
   "outputs": [],
   "source": [
    "del pw.delete_course_price"
   ]
  },
  {
   "cell_type": "code",
   "execution_count": 23,
   "id": "0d342b45",
   "metadata": {},
   "outputs": [
    {
     "ename": "AttributeError",
     "evalue": "'pwskills' object has no attribute '_pwskills__course_price'",
     "output_type": "error",
     "traceback": [
      "\u001b[1;31m---------------------------------------------------------------------------\u001b[0m",
      "\u001b[1;31mAttributeError\u001b[0m                            Traceback (most recent call last)",
      "Cell \u001b[1;32mIn[23], line 1\u001b[0m\n\u001b[1;32m----> 1\u001b[0m pw\u001b[38;5;241m.\u001b[39mcourse_price_access\n",
      "Cell \u001b[1;32mIn[18], line 10\u001b[0m, in \u001b[0;36mpwskills.course_price_access\u001b[1;34m(self)\u001b[0m\n\u001b[0;32m      8\u001b[0m \u001b[38;5;129m@property\u001b[39m\n\u001b[0;32m      9\u001b[0m \u001b[38;5;28;01mdef\u001b[39;00m \u001b[38;5;21mcourse_price_access\u001b[39m(\u001b[38;5;28mself\u001b[39m) : \n\u001b[1;32m---> 10\u001b[0m     \u001b[38;5;28;01mreturn\u001b[39;00m \u001b[38;5;28mself\u001b[39m\u001b[38;5;241m.\u001b[39m__course_price\n",
      "\u001b[1;31mAttributeError\u001b[0m: 'pwskills' object has no attribute '_pwskills__course_price'"
     ]
    }
   ],
   "source": [
    "pw.course_price_access"
   ]
  }
 ],
 "metadata": {
  "kernelspec": {
   "display_name": "Python 3 (ipykernel)",
   "language": "python",
   "name": "python3"
  },
  "language_info": {
   "codemirror_mode": {
    "name": "ipython",
    "version": 3
   },
   "file_extension": ".py",
   "mimetype": "text/x-python",
   "name": "python",
   "nbconvert_exporter": "python",
   "pygments_lexer": "ipython3",
   "version": "3.12.2"
  }
 },
 "nbformat": 4,
 "nbformat_minor": 5
}
