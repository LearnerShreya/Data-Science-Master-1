{
 "cells": [
  {
   "cell_type": "markdown",
   "id": "b4de64ce",
   "metadata": {},
   "source": [
    "- __ means private\n",
    "- _ means protected"
   ]
  },
  {
   "cell_type": "markdown",
   "id": "4dda182f",
   "metadata": {},
   "source": [
    "In object-oriented programming (OOP), a decorator is a design pattern that allows you to modify the behavior of an object or function without changing its structure. Decorators are often used to add functionality to an object or function without modifying its code.\n",
    "\n",
    "**How Decorators Work**\n",
    "\n",
    "Decorators work by wrapping an existing object or function with another object or function. The decorator then adds its own behavior to the object or function, and then returns the modified object or function.\n",
    "\n",
    "Here is an example of how to use a decorator to add logging to a function:\n",
    "\n",
    "```python\n",
    "def log(function):\n",
    "  def wrapper(*args, **kwargs):\n",
    "    print(f\"Calling {function.__name__}...\")\n",
    "    result = function(*args, **kwargs)\n",
    "    print(f\"Done calling {function.__name__}.\")\n",
    "    return result\n",
    "  return wrapper\n",
    "\n",
    "@log\n",
    "def my_function(a, b):\n",
    "  return a + b\n",
    "\n",
    "print(my_function(1, 2))  # Output: Calling my_function...\n",
    "```\n",
    "\n",
    "In this example, the `log` decorator is applied to the `my_function` function. The `log` decorator adds logging to the `my_function` function by wrapping it with a wrapper function. The wrapper function prints a message before and after calling the `my_function` function.\n",
    "\n",
    "**Benefits of Decorators**\n",
    "\n",
    "Decorators have several benefits, including:\n",
    "\n",
    "* **Code reuse:** Decorators allow you to reuse code for adding functionality to objects or functions.\n",
    "* **Improved code modularity:** Decorators can help to improve the modularity of your code by separating the logic for adding functionality from the code for the objects or functions that you are decorating.\n",
    "* **Easier maintenance:** Decorators can make your code easier to maintain by making it easier to add or remove functionality from objects or functions.\n",
    "\n",
    "**Common Uses of Decorators**\n",
    "\n",
    "Decorators are often used for the following:\n",
    "\n",
    "* **Logging:** Decorators can be used to add logging to objects or functions.\n",
    "* **Authorization:** Decorators can be used to check if a user has permission to access an object or function.\n",
    "* **Caching:** Decorators can be used to cache the results of functions.\n",
    "* **Validation:** Decorators can be used to validate the input to objects or functions.\n",
    "\n",
    "**Conclusion**\n",
    "\n",
    "Decorators are a powerful tool that can be used to improve the functionality, modularity, and maintainability of your code. If you are not already using decorators, I encourage you to start using them today."
   ]
  },
  {
   "cell_type": "code",
   "execution_count": 2,
   "id": "4c1c7fea",
   "metadata": {},
   "outputs": [],
   "source": [
    "def test():\n",
    "    print(\"this is the start of my fun\")\n",
    "    print (\"this is my function to test\")\n",
    "    print(4+5)\n",
    "    print(\"this is the last of my fun\")"
   ]
  },
  {
   "cell_type": "code",
   "execution_count": 3,
   "id": "4fc1baea",
   "metadata": {},
   "outputs": [
    {
     "name": "stdout",
     "output_type": "stream",
     "text": [
      "this is the start of my fun\n",
      "this is my function to test\n",
      "9\n",
      "this is the last of my fun\n"
     ]
    }
   ],
   "source": [
    "test()"
   ]
  },
  {
   "cell_type": "markdown",
   "id": "280ae049",
   "metadata": {},
   "source": [
    "# Decorator"
   ]
  },
  {
   "cell_type": "code",
   "execution_count": 4,
   "id": "a79821c5",
   "metadata": {},
   "outputs": [],
   "source": [
    "def deco(func):                                                  # we are using deco as decorator function\n",
    "    def inner_dec():\n",
    "        print(\"this is the start of my fun\")\n",
    "        func()\n",
    "        print(\"this is the last of my fun\")\n",
    "    return inner_dec"
   ]
  },
  {
   "cell_type": "code",
   "execution_count": 5,
   "id": "f19aec2a",
   "metadata": {},
   "outputs": [],
   "source": [
    "def test1():\n",
    "    print(6+7)"
   ]
  },
  {
   "cell_type": "code",
   "execution_count": 6,
   "id": "64419a32",
   "metadata": {},
   "outputs": [
    {
     "name": "stdout",
     "output_type": "stream",
     "text": [
      "13\n"
     ]
    }
   ],
   "source": [
    "test1()"
   ]
  },
  {
   "cell_type": "code",
   "execution_count": 7,
   "id": "205e14c3",
   "metadata": {},
   "outputs": [],
   "source": [
    "@dec\n",
    "def test1():\n",
    "    print(6+7)"
   ]
  },
  {
   "cell_type": "code",
   "execution_count": 8,
   "id": "5a22c2b7",
   "metadata": {},
   "outputs": [
    {
     "name": "stdout",
     "output_type": "stream",
     "text": [
      "this is the start of my fun\n",
      "13\n",
      "this is the last of my fun\n"
     ]
    }
   ],
   "source": [
    "test1()"
   ]
  },
  {
   "cell_type": "code",
   "execution_count": 1,
   "id": "b31fb68a",
   "metadata": {},
   "outputs": [],
   "source": [
    "import time\n",
    "\n",
    "def timer_test(func):                                    # we are using timer_test as decorator function\n",
    "    def timer_test_inner():\n",
    "        start = time.time()\n",
    "        func()\n",
    "        end = time.time()\n",
    "        print(end-start)\n",
    "    return timer_test_inner"
   ]
  },
  {
   "cell_type": "code",
   "execution_count": 2,
   "id": "b00d7e68",
   "metadata": {},
   "outputs": [],
   "source": [
    "def test2():\n",
    "    print(45+78)"
   ]
  },
  {
   "cell_type": "code",
   "execution_count": 3,
   "id": "6270fb8d",
   "metadata": {},
   "outputs": [
    {
     "name": "stdout",
     "output_type": "stream",
     "text": [
      "123\n"
     ]
    }
   ],
   "source": [
    "test2()"
   ]
  },
  {
   "cell_type": "code",
   "execution_count": 4,
   "id": "0a55a2f9",
   "metadata": {},
   "outputs": [],
   "source": [
    "@timer_test\n",
    "def test2():\n",
    "    print(45+78)"
   ]
  },
  {
   "cell_type": "code",
   "execution_count": 5,
   "id": "cc5353eb",
   "metadata": {},
   "outputs": [
    {
     "name": "stdout",
     "output_type": "stream",
     "text": [
      "123\n",
      "0.0\n"
     ]
    }
   ],
   "source": [
    "test2()"
   ]
  },
  {
   "cell_type": "code",
   "execution_count": 6,
   "id": "73ebbb9b",
   "metadata": {},
   "outputs": [],
   "source": [
    "@timer_test\n",
    "def test():\n",
    "    for i in range(100000000):\n",
    "        pass"
   ]
  },
  {
   "cell_type": "code",
   "execution_count": 7,
   "id": "86b99854",
   "metadata": {},
   "outputs": [
    {
     "name": "stdout",
     "output_type": "stream",
     "text": [
      "1.8973612785339355\n"
     ]
    }
   ],
   "source": [
    "test()"
   ]
  },
  {
   "cell_type": "code",
   "execution_count": null,
   "id": "3bef2ded",
   "metadata": {},
   "outputs": [],
   "source": []
  },
  {
   "cell_type": "code",
   "execution_count": null,
   "id": "4f08a308",
   "metadata": {},
   "outputs": [],
   "source": []
  }
 ],
 "metadata": {
  "kernelspec": {
   "display_name": "Python 3 (ipykernel)",
   "language": "python",
   "name": "python3"
  },
  "language_info": {
   "codemirror_mode": {
    "name": "ipython",
    "version": 3
   },
   "file_extension": ".py",
   "mimetype": "text/x-python",
   "name": "python",
   "nbconvert_exporter": "python",
   "pygments_lexer": "ipython3",
   "version": "3.12.2"
  }
 },
 "nbformat": 4,
 "nbformat_minor": 5
}
