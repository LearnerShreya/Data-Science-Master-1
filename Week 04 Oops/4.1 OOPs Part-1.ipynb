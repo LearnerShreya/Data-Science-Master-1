{
 "cells": [
  {
   "cell_type": "markdown",
   "id": "a79984f8",
   "metadata": {},
   "source": [
    "\n",
    "\n",
    "## **OOPs (Object-Oriented Programming System) in Python**\n",
    "\n",
    "---\n",
    "\n",
    "## ✅ What is OOP?\n",
    "\n",
    "> **Object-Oriented Programming (OOP)** is a method of structuring a program by bundling related properties and behaviors into **individual objects**.\n",
    "\n",
    "* Traditional programming (like procedural C-style) focuses on **functions and logic**.\n",
    "* OOP focuses on **real-world entities** like a **car, employee, bank account, animal**, etc., and models them using **classes and objects**.\n",
    "\n",
    "### 💡 Real-life Analogy:\n",
    "\n",
    "Think of a **class as a recipe**, and an **object as the cake** made using that recipe.\n",
    "\n",
    "---\n",
    "\n",
    "## 🧱 Class & Object\n",
    "\n",
    "### 🔷 What is a Class?\n",
    "\n",
    "> A **Class** is a user-defined blueprint or prototype from which objects are created. It defines **attributes (data)** and **methods (functions)**.\n",
    "\n",
    "### ✅ Syntax:\n",
    "\n",
    "```python\n",
    "class ClassName:\n",
    "    # constructor\n",
    "    def __init__(self, attributes):\n",
    "        self.attribute = value\n",
    "\n",
    "    # method\n",
    "    def method(self):\n",
    "        return something\n",
    "```\n",
    "\n",
    "### 🔷 What is an Object?\n",
    "\n",
    "> An **Object** is an instance of a class. It is created using the class and has real data in memory.\n",
    "\n",
    "### ✅ Syntax:\n",
    "\n",
    "```python\n",
    "obj = ClassName(arguments)\n",
    "```\n",
    "\n",
    "### 🎯 Example:\n",
    "\n",
    "```python\n",
    "class Dog:\n",
    "    def __init__(self, name, breed):\n",
    "        self.name = name\n",
    "        self.breed = breed\n",
    "\n",
    "    def bark(self):\n",
    "        return f\"{self.name} says Woof!\"\n",
    "\n",
    "my_dog = Dog(\"Buddy\", \"Labrador\")\n",
    "print(my_dog.bark())  # Output: Buddy says Woof!\n",
    "```\n",
    "\n",
    "---\n",
    "\n",
    "## ⚙️ Constructor (`__init__` Method)\n",
    "\n",
    "* A **special method** in Python classes.\n",
    "* Automatically called **when an object is created**.\n",
    "* Initializes object’s data.\n",
    "\n",
    "```python\n",
    "class Student:\n",
    "    def __init__(self, name, roll):\n",
    "        self.name = name\n",
    "        self.roll = roll\n",
    "```\n",
    "\n",
    "---\n",
    "\n",
    "## 🪜 Access Modifiers\n",
    "\n",
    "Used to control access to class members:\n",
    "\n",
    "| Access Type | Syntax        | Access Level                    |\n",
    "| ----------- | ------------- | ------------------------------- |\n",
    "| Public      | `self.name`   | Accessible everywhere           |\n",
    "| Protected   | `self._name`  | Convention: internal use only   |\n",
    "| Private     | `self.__name` | Strictly hidden (name mangling) |\n",
    "\n",
    "```python\n",
    "class Example:\n",
    "    def __init__(self):\n",
    "        self.name = \"Public\"\n",
    "        self._age = 30\n",
    "        self.__salary = 50000\n",
    "```\n",
    "\n",
    "---\n",
    "\n",
    "## 🔑 4 Major Pillars of OOP\n",
    "\n",
    "---\n",
    "\n",
    "### 1️⃣ Encapsulation\n",
    "\n",
    "> Wrapping up data and functions into one unit, and **hiding internal data** to protect it from unauthorized access.\n",
    "\n",
    "```python\n",
    "class Account:\n",
    "    def __init__(self):\n",
    "        self.__balance = 0\n",
    "\n",
    "    def deposit(self, amount):\n",
    "        self.__balance += amount\n",
    "\n",
    "    def get_balance(self):\n",
    "        return self.__balance\n",
    "```\n",
    "\n",
    "> 🧠 Benefit: Protects data integrity.\n",
    "\n",
    "---\n",
    "\n",
    "### 2️⃣ Abstraction\n",
    "\n",
    "> Hiding complex internal logic and showing only **essential features** to the user.\n",
    "\n",
    "🔧 In Python, abstraction is achieved using the `abc` module.\n",
    "\n",
    "```python\n",
    "from abc import ABC, abstractmethod\n",
    "\n",
    "class Vehicle(ABC):\n",
    "    @abstractmethod\n",
    "    def start(self):\n",
    "        pass\n",
    "\n",
    "class Car(Vehicle):\n",
    "    def start(self):\n",
    "        return \"Car engine started\"\n",
    "\n",
    "c = Car()\n",
    "print(c.start())\n",
    "```\n",
    "\n",
    "> 🧠 Benefit: Simplifies code usability for others.\n",
    "\n",
    "---\n",
    "\n",
    "### 3️⃣ Inheritance\n",
    "\n",
    "> When a **child class** inherits the attributes and methods from a **parent class**.\n",
    "\n",
    "```python\n",
    "class Animal:\n",
    "    def speak(self):\n",
    "        return \"Animal speaks\"\n",
    "\n",
    "class Dog(Animal):\n",
    "    def bark(self):\n",
    "        return \"Dog barks\"\n",
    "\n",
    "d = Dog()\n",
    "print(d.speak())  # Inherited\n",
    "print(d.bark())   # Own\n",
    "```\n",
    "\n",
    "#### Types of Inheritance:\n",
    "\n",
    "| Type         | Structure            |\n",
    "| ------------ | -------------------- |\n",
    "| Single       | A → B                |\n",
    "| Multiple     | A, B → C             |\n",
    "| Multilevel   | A → B → C            |\n",
    "| Hierarchical | A → B, A → C         |\n",
    "| Hybrid       | Combination of above |\n",
    "\n",
    "> 🧠 Benefit: Code reusability.\n",
    "\n",
    "---\n",
    "\n",
    "### 4️⃣ Polymorphism\n",
    "\n",
    "> Same method name behaves differently based on the object or context.\n",
    "\n",
    "#### Example 1: Method Overriding\n",
    "\n",
    "```python\n",
    "class Bird:\n",
    "    def sound(self):\n",
    "        return \"Tweet\"\n",
    "\n",
    "class Cat:\n",
    "    def sound(self):\n",
    "        return \"Meow\"\n",
    "\n",
    "def make_sound(animal):\n",
    "    print(animal.sound())\n",
    "\n",
    "make_sound(Bird())\n",
    "make_sound(Cat())\n",
    "```\n",
    "\n",
    "#### Example 2: Built-in Polymorphism\n",
    "\n",
    "```python\n",
    "print(len(\"Shreya\"))     # 6\n",
    "print(len([1, 2, 3]))     # 3\n",
    "```\n",
    "\n",
    "> 🧠 Benefit: Increases code flexibility.\n",
    "\n",
    "---\n",
    "\n",
    "## 🔁 Class vs Object — Comparison\n",
    "\n",
    "| Feature    | Class                          | Object                           |\n",
    "| ---------- | ------------------------------ | -------------------------------- |\n",
    "| Meaning    | Blueprint/template             | Instance of class                |\n",
    "| Memory     | No memory until object created | Allocated when object is created |\n",
    "| Defined by | `class` keyword                | `object = ClassName()`           |\n",
    "| Contains   | Methods, variables             | Real data and behavior           |\n",
    "\n",
    "---\n",
    "\n",
    "## 🧠 Keywords: `return`, `yield`, `pass`\n",
    "\n",
    "| Keyword  | Purpose                                                |\n",
    "| -------- | ------------------------------------------------------ |\n",
    "| `return` | Ends function & sends back value                       |\n",
    "| `yield`  | Used in generator function; pauses and resumes later   |\n",
    "| `pass`   | Placeholder; does nothing; used to define empty blocks |\n",
    "\n",
    "```python\n",
    "def func(): \n",
    "    return 10\n",
    "\n",
    "def gen(): \n",
    "    yield 1\n",
    "    yield 2\n",
    "\n",
    "def do_nothing(): \n",
    "    pass\n",
    "```\n",
    "\n",
    "---\n",
    "\n",
    "## 🔍 Object Lifecycle in Python\n",
    "\n",
    "1. **Define a class**\n",
    "2. **Create an object**\n",
    "3. **Constructor runs**\n",
    "4. **Object lives in memory**\n",
    "5. **Object is destroyed by Garbage Collector (GC)**\n",
    "\n",
    "---\n",
    "\n",
    "## 📦 Example: Real-World\n",
    "\n",
    "```python\n",
    "class Car:\n",
    "    def __init__(self, brand, year):\n",
    "        self.brand = brand\n",
    "        self.year = year\n",
    "\n",
    "    def start(self):\n",
    "        return f\"{self.brand} car of {self.year} starts...\"\n",
    "\n",
    "# Create objects\n",
    "car1 = Car(\"Toyota\", 2020)\n",
    "car2 = Car(\"Honda\", 2023)\n",
    "\n",
    "print(car1.start())\n",
    "print(car2.start())\n",
    "```\n",
    "\n",
    "---\n",
    "\n",
    "## 🧭 Real-World Analogy Table\n",
    "\n",
    "| OOP Concept   | Real-World Analogy                        |\n",
    "| ------------- | ----------------------------------------- |\n",
    "| Class         | Design of a phone                         |\n",
    "| Object        | Actual phone you buy                      |\n",
    "| Inheritance   | Child inherits parents' traits            |\n",
    "| Encapsulation | You can't access phone hardware directly  |\n",
    "| Abstraction   | You press a button; don't know internals  |\n",
    "| Polymorphism  | “Start” behaves differently in bike & car |\n",
    "\n",
    "---\n",
    "\n",
    "## 🔚 Summary Table\n",
    "\n",
    "| Concept       | Description                        |\n",
    "| ------------- | ---------------------------------- |\n",
    "| Class         | Blueprint to create objects        |\n",
    "| Object        | Real-world instance                |\n",
    "| Constructor   | Initializes values                 |\n",
    "| Encapsulation | Protect internal state             |\n",
    "| Abstraction   | Show only what’s needed            |\n",
    "| Inheritance   | Use code from another class        |\n",
    "| Polymorphism  | Same interface, different behavior |\n",
    "\n",
    "---\n",
    "\n",
    "## 📌 Interview-Level Understanding\n",
    "\n",
    "### ❓ Why use OOP?\n",
    "\n",
    "* Organizes complex code\n",
    "* Makes software **modular**, **reusable**, **scalable**\n",
    "* Closer to real-world modeling\n",
    "\n",
    "### ❓ Difference between Class and Object?\n",
    "\n",
    "* Class is a design; object is a product.\n",
    "\n",
    "### ❓ Can we have multiple constructors?\n",
    "\n",
    "* Not directly in Python; use default values or `@classmethod`.\n",
    "\n",
    "### ❓ Can we make private variables?\n",
    "\n",
    "* Yes, using double underscores (`__var`).\n",
    "\n",
    "---\n"
   ]
  },
  {
   "cell_type": "markdown",
   "id": "588854c9",
   "metadata": {},
   "source": [
    "\n",
    "---\n",
    "\n",
    "## 🛠 Special Keywords in Python (OOPs Context)\n",
    "\n",
    "### 🔸 `return`\n",
    "\n",
    "* **Purpose:** Ends a function and **sends back a value** to the caller.\n",
    "* **Behavior:** After `return`, the function **stops executing**.\n",
    "* **Usage:** In regular functions to give back a result.\n",
    "\n",
    "#### ✅ Syntax:\n",
    "\n",
    "```python\n",
    "def get_name():\n",
    "    return \"Shreya\"\n",
    "\n",
    "name = get_name()  # name = \"Shreya\"\n",
    "```\n",
    "\n",
    "---\n",
    "\n",
    "### 🔸 `yield`\n",
    "\n",
    "* **Purpose:** Used in **generator functions** to **pause** execution and **return a value** without destroying the function’s state.\n",
    "* **Behavior:** Saves the current state and continues from there the next time.\n",
    "* **Usage:** When you want to generate a **sequence** of values lazily (one-by-one).\n",
    "\n",
    "#### ✅ Syntax:\n",
    "\n",
    "```python\n",
    "def countdown():\n",
    "    yield 3\n",
    "    yield 2\n",
    "    yield 1\n",
    "\n",
    "for num in countdown():\n",
    "    print(num)  # Output: 3, 2, 1\n",
    "```\n",
    "\n",
    "#### ✅ Key Point:\n",
    "\n",
    "* Use `yield` instead of `return` when working with **large data** or **continuous streams** to save memory.\n",
    "\n",
    "---\n",
    "\n",
    "### 🔸 `pass`\n",
    "\n",
    "* **Purpose:** Acts as a **placeholder** for code that will be written later.\n",
    "* **Behavior:** Does **nothing**, but avoids syntax errors in empty blocks.\n",
    "* **Usage:** Useful in **class/method stubs**, **loops**, or **conditions** when planning code.\n",
    "\n",
    "#### ✅ Syntax:\n",
    "\n",
    "```python\n",
    "def future_function():\n",
    "    pass  # Will be implemented later\n",
    "\n",
    "class Todo:\n",
    "    pass  # Empty class for now\n",
    "```\n",
    "\n",
    "---\n",
    "\n",
    "### 🧠 Summary Table\n",
    "\n",
    "| Keyword  | Purpose                            | Stops Function? | Use Case Example                   |\n",
    "| -------- | ---------------------------------- | --------------- | ---------------------------------- |\n",
    "| `return` | Ends function and returns value    | ✅ Yes           | Return result from normal function |\n",
    "| `yield`  | Returns one value, pauses function | ❌ No            | Generate data in chunks            |\n",
    "| `pass`   | Placeholder, does nothing          | ❌ No            | Empty class/method for later       |\n",
    "\n",
    "---"
   ]
  },
  {
   "cell_type": "markdown",
   "id": "2cc5350c",
   "metadata": {},
   "source": [
    "## OOPs - Object Oriented Programming System\n",
    "##### Class : BluePrint, Skeleton , class is a classification of real world entity\n",
    "#### Object: real world entity, instance\n",
    "\n",
    "### Class:\n",
    "- A **class** is a blueprint for creating objects, defining attributes and methods.\n",
    "- Syntax: `class ClassName:`.\n",
    "  \n",
    "  **Example:**\n",
    "  ```python\n",
    "  class Dog:\n",
    "      def __init__(self, name, age):\n",
    "          self.name = name\n",
    "          self.age = age\n",
    "\n",
    "      def bark(self):\n",
    "          return f\"{self.name} says woof!\"\n",
    "  ```\n",
    "\n",
    "### Object:\n",
    "- An **object** is an instance of a class, with its own data and behavior.\n",
    "- Created using: `object_name = ClassName()`.\n",
    "\n",
    "  **Example:**\n",
    "  ```python\n",
    "  my_dog = Dog(\"Buddy\", 5)\n",
    "  print(my_dog.bark())  # Output: Buddy says woof!\n",
    "  ```\n",
    "\n",
    "- **Class**: Blueprint.\n",
    "- **Object**: Instance of the class."
   ]
  },
  {
   "cell_type": "code",
   "execution_count": null,
   "id": "786cdb03",
   "metadata": {},
   "outputs": [],
   "source": [
    "a = 1        # a is an object of integer class, a is a variable of class integer, instance of class integer"
   ]
  },
  {
   "cell_type": "code",
   "execution_count": null,
   "id": "d0402554",
   "metadata": {},
   "outputs": [
    {
     "name": "stdout",
     "output_type": "stream",
     "text": [
      "<class 'int'>\n"
     ]
    }
   ],
   "source": [
    "print(type(a))"
   ]
  },
  {
   "cell_type": "code",
   "execution_count": null,
   "id": "fcce3f2f",
   "metadata": {},
   "outputs": [
    {
     "name": "stdout",
     "output_type": "stream",
     "text": [
      "<class 'str'>\n"
     ]
    }
   ],
   "source": [
    "print(type(\"pwskills\"))"
   ]
  },
  {
   "cell_type": "code",
   "execution_count": null,
   "id": "1c2d1948",
   "metadata": {},
   "outputs": [],
   "source": [
    "class test:           # class which is a reserves keywords in Python programming\n",
    "    pass"
   ]
  },
  {
   "cell_type": "code",
   "execution_count": null,
   "id": "02297f6d",
   "metadata": {},
   "outputs": [],
   "source": [
    "a = test()"
   ]
  },
  {
   "cell_type": "code",
   "execution_count": null,
   "id": "f1afbe44",
   "metadata": {},
   "outputs": [
    {
     "data": {
      "text/plain": [
       "__main__.test"
      ]
     },
     "execution_count": 7,
     "metadata": {},
     "output_type": "execute_result"
    }
   ],
   "source": [
    "type(a)"
   ]
  },
  {
   "cell_type": "code",
   "execution_count": null,
   "id": "2093cffe",
   "metadata": {},
   "outputs": [
    {
     "name": "stdout",
     "output_type": "stream",
     "text": [
      "<class '__main__.test'>\n"
     ]
    }
   ],
   "source": [
    "print(type(a))"
   ]
  },
  {
   "cell_type": "code",
   "execution_count": null,
   "id": "80afc949",
   "metadata": {},
   "outputs": [],
   "source": [
    "class pwskills:\n",
    "    \n",
    "    def welcome_msg():\n",
    "        print(\"welcome to pwskills\")"
   ]
  },
  {
   "cell_type": "code",
   "execution_count": null,
   "id": "66876dbf",
   "metadata": {},
   "outputs": [],
   "source": [
    "rohan = pwskills()"
   ]
  },
  {
   "cell_type": "code",
   "execution_count": null,
   "id": "ec8b1f57",
   "metadata": {},
   "outputs": [],
   "source": [
    "rohan.welcome_msg()"
   ]
  },
  {
   "cell_type": "code",
   "execution_count": null,
   "id": "fc0f1918",
   "metadata": {},
   "outputs": [
    {
     "name": "stdout",
     "output_type": "stream",
     "text": [
      "<class '__main__.pwskills'>\n"
     ]
    }
   ],
   "source": [
    "print(type(rohan))"
   ]
  },
  {
   "cell_type": "code",
   "execution_count": null,
   "id": "8cc4f891",
   "metadata": {},
   "outputs": [],
   "source": [
    "class pwskills:\n",
    "    \n",
    "    def welcome_msg(self):\n",
    "        print(\"welcome to pwskills\")"
   ]
  },
  {
   "cell_type": "code",
   "execution_count": null,
   "id": "819f66ed",
   "metadata": {},
   "outputs": [],
   "source": [
    "rohan = pwskills()"
   ]
  },
  {
   "cell_type": "code",
   "execution_count": null,
   "id": "438e1c8f",
   "metadata": {},
   "outputs": [
    {
     "name": "stdout",
     "output_type": "stream",
     "text": [
      "welcome to pwskills\n"
     ]
    }
   ],
   "source": [
    "rohan.welcome_msg()"
   ]
  },
  {
   "cell_type": "code",
   "execution_count": null,
   "id": "141fc678",
   "metadata": {},
   "outputs": [],
   "source": [
    "gaurav = pwskills()"
   ]
  },
  {
   "cell_type": "code",
   "execution_count": null,
   "id": "f68ca81c",
   "metadata": {},
   "outputs": [
    {
     "name": "stdout",
     "output_type": "stream",
     "text": [
      "welcome to pwskills\n"
     ]
    }
   ],
   "source": [
    "gaurav.welcome_msg()"
   ]
  },
  {
   "cell_type": "code",
   "execution_count": null,
   "id": "90327587",
   "metadata": {},
   "outputs": [],
   "source": [
    "class pwskills1:\n",
    "    def __init__(self, phone_number, email_id, student_id):           # self is not a reserved kewwords\n",
    "        self.phone_number = phone_number                              # __ini__ is a constructor\n",
    "        self.email_id = email_id                                      # __ini__ ka kaam hota hai data lena ( object specific data leta hai)\n",
    "        self.student_id = student_id                                 # self.object use hota hai data nikalne ke liye\n",
    "        \n",
    "    def return_student_details(self):\n",
    "        return self.student_id, self.phone_number, self.email_id"
   ]
  },
  {
   "cell_type": "code",
   "execution_count": null,
   "id": "1c2ac908",
   "metadata": {},
   "outputs": [
    {
     "ename": "TypeError",
     "evalue": "pwskills1.__init__() missing 3 required positional arguments: 'phone_number', 'email_id', and 'student_id'",
     "output_type": "error",
     "traceback": [
      "\u001b[1;31m---------------------------------------------------------------------------\u001b[0m",
      "\u001b[1;31mTypeError\u001b[0m                                 Traceback (most recent call last)",
      "Cell \u001b[1;32mIn[18], line 1\u001b[0m\n\u001b[1;32m----> 1\u001b[0m rohan \u001b[38;5;241m=\u001b[39m \u001b[43mpwskills1\u001b[49m\u001b[43m(\u001b[49m\u001b[43m)\u001b[49m\n",
      "\u001b[1;31mTypeError\u001b[0m: pwskills1.__init__() missing 3 required positional arguments: 'phone_number', 'email_id', and 'student_id'"
     ]
    }
   ],
   "source": [
    "rohan = pwskills1()"
   ]
  },
  {
   "cell_type": "code",
   "execution_count": null,
   "id": "4766c361",
   "metadata": {},
   "outputs": [
    {
     "ename": "AttributeError",
     "evalue": "'pwskills' object has no attribute 'phone_number'",
     "output_type": "error",
     "traceback": [
      "\u001b[1;31m---------------------------------------------------------------------------\u001b[0m",
      "\u001b[1;31mAttributeError\u001b[0m                            Traceback (most recent call last)",
      "Cell \u001b[1;32mIn[19], line 1\u001b[0m\n\u001b[1;32m----> 1\u001b[0m \u001b[43mrohan\u001b[49m\u001b[38;5;241;43m.\u001b[39;49m\u001b[43mphone_number\u001b[49m\n",
      "\u001b[1;31mAttributeError\u001b[0m: 'pwskills' object has no attribute 'phone_number'"
     ]
    }
   ],
   "source": [
    "rohan.phone_number"
   ]
  },
  {
   "cell_type": "code",
   "execution_count": null,
   "id": "a12b83b1",
   "metadata": {},
   "outputs": [
    {
     "ename": "AttributeError",
     "evalue": "'pwskills' object has no attribute 'email_id'",
     "output_type": "error",
     "traceback": [
      "\u001b[1;31m---------------------------------------------------------------------------\u001b[0m",
      "\u001b[1;31mAttributeError\u001b[0m                            Traceback (most recent call last)",
      "Cell \u001b[1;32mIn[20], line 1\u001b[0m\n\u001b[1;32m----> 1\u001b[0m \u001b[43mrohan\u001b[49m\u001b[38;5;241;43m.\u001b[39;49m\u001b[43memail_id\u001b[49m\n",
      "\u001b[1;31mAttributeError\u001b[0m: 'pwskills' object has no attribute 'email_id'"
     ]
    }
   ],
   "source": [
    "rohan.email_id"
   ]
  },
  {
   "cell_type": "code",
   "execution_count": null,
   "id": "68604b14",
   "metadata": {},
   "outputs": [],
   "source": [
    "rohan = pwskills1(122232432342, \"rohan@gmail.com\" , 101)          # __ini__ ka kaam hota hai data lena ( object specific data leta hai)"
   ]
  },
  {
   "cell_type": "code",
   "execution_count": null,
   "id": "66abb9b9",
   "metadata": {},
   "outputs": [
    {
     "data": {
      "text/plain": [
       "(101, 122232432342, 'rohan@gmail.com')"
      ]
     },
     "execution_count": 22,
     "metadata": {},
     "output_type": "execute_result"
    }
   ],
   "source": [
    "rohan.return_student_details()"
   ]
  },
  {
   "cell_type": "code",
   "execution_count": null,
   "id": "7778e0c5",
   "metadata": {},
   "outputs": [],
   "source": [
    "gaurav = pwskills1(98797867678, \"gaurav@gmail.com\" , 102)"
   ]
  },
  {
   "cell_type": "code",
   "execution_count": null,
   "id": "12fbd535",
   "metadata": {},
   "outputs": [
    {
     "data": {
      "text/plain": [
       "(102, 98797867678, 'gaurav@gmail.com')"
      ]
     },
     "execution_count": 24,
     "metadata": {},
     "output_type": "execute_result"
    }
   ],
   "source": [
    "gaurav.return_student_details()"
   ]
  },
  {
   "cell_type": "code",
   "execution_count": null,
   "id": "884cfe11",
   "metadata": {},
   "outputs": [],
   "source": [
    "class pwskills2 :\n",
    "    \n",
    "    def __init__(self ,phone_number , email_id , student_id ):\n",
    "        self.phone_number1 = phone_number                                         # self.phone_number1 = phone_number are not same\n",
    "        self.email_id1 = email_id\n",
    "        self.student_id1 = student_id\n",
    "    \n",
    "    def return_student_deetials(self) : \n",
    "        return self.student_id1 ,self.phone_number1 ,self.email_id1               # return jo self ke sath hai na ki joclass ke sath hai"
   ]
  },
  {
   "cell_type": "code",
   "execution_count": null,
   "id": "96905714",
   "metadata": {},
   "outputs": [],
   "source": [
    "sudh = pwskills2(999954355, \"sudh@gmail.com\" , 102)"
   ]
  },
  {
   "cell_type": "code",
   "execution_count": null,
   "id": "f5452322",
   "metadata": {},
   "outputs": [
    {
     "data": {
      "text/plain": [
       "999954355"
      ]
     },
     "execution_count": 27,
     "metadata": {},
     "output_type": "execute_result"
    }
   ],
   "source": [
    "sudh.phone_number1                            # phone_number1 & phone_number same nahi hai\n",
    "                                              # isiliye to return value we have to pass phone_number1 and not phone_number"
   ]
  },
  {
   "cell_type": "code",
   "execution_count": null,
   "id": "126087aa",
   "metadata": {},
   "outputs": [
    {
     "data": {
      "text/plain": [
       "'sudh@gmail.com'"
      ]
     },
     "execution_count": 28,
     "metadata": {},
     "output_type": "execute_result"
    }
   ],
   "source": [
    "sudh.email_id1"
   ]
  },
  {
   "cell_type": "code",
   "execution_count": null,
   "id": "28b1231f",
   "metadata": {},
   "outputs": [
    {
     "data": {
      "text/plain": [
       "(102, 999954355, 'sudh@gmail.com')"
      ]
     },
     "execution_count": 29,
     "metadata": {},
     "output_type": "execute_result"
    }
   ],
   "source": [
    "sudh.return_student_deetials()"
   ]
  },
  {
   "cell_type": "code",
   "execution_count": null,
   "id": "4ead257e",
   "metadata": {},
   "outputs": [],
   "source": [
    "class pwskills2 :          # self is not a reserved kewwords, hume ek argument asisa dena hota hai jo behave kare as a pointer\n",
    "    \n",
    "    def __init__(sudh ,phone_number , email_id , student_id ):  \n",
    "        sudh.phone_number1 = phone_number\n",
    "        sudh.email_id1 = email_id\n",
    "        sudh.student_id1 = student_id\n",
    "    \n",
    "    def return_student_deetials(sudh) : \n",
    "        return sudh.student_id1 ,sudh.phone_number1 ,sudh.email_id1"
   ]
  },
  {
   "cell_type": "code",
   "execution_count": null,
   "id": "b49a4a52",
   "metadata": {},
   "outputs": [],
   "source": [
    "rohan = pwskills2(345365, \"rohan@gmail.com\" , 324)"
   ]
  },
  {
   "cell_type": "code",
   "execution_count": null,
   "id": "fa9db96c",
   "metadata": {},
   "outputs": [
    {
     "data": {
      "text/plain": [
       "345365"
      ]
     },
     "execution_count": 32,
     "metadata": {},
     "output_type": "execute_result"
    }
   ],
   "source": [
    "rohan.phone_number1"
   ]
  },
  {
   "cell_type": "markdown",
   "id": "816f1ba8",
   "metadata": {},
   "source": [
    "In Python, the `return`, `yield`, and `pass` keywords serve different purposes within functions and control flow:\n",
    "\n",
    "### 1. `return` Keyword:\n",
    "- **Purpose:** It is used to exit a function and send a value back to the caller. Once a `return` statement is executed, the function terminates and returns the specified value.\n",
    "- **Syntax:**\n",
    "  ```python\n",
    "  def my_function():\n",
    "      return 42\n",
    "  result = my_function()  # result will be 42\n",
    "  ```\n",
    "- **Use case:** You use `return` when you want to return a value and end the function's execution.\n",
    "\n",
    "### 2. `yield` Keyword:\n",
    "- **Purpose:** It is used in a **generator function** to produce a sequence of values. Unlike `return`, which exits the function, `yield` pauses the function and saves its state, so it can resume from where it left off when called again.\n",
    "- **Syntax:**\n",
    "  ```python\n",
    "  def my_generator():\n",
    "      yield 1\n",
    "      yield 2\n",
    "      yield 3\n",
    "  gen = my_generator()  # Creates a generator object\n",
    "  for value in gen:\n",
    "      print(value)  # Prints: 1, 2, 3\n",
    "  ```\n",
    "- **Use case:** Use `yield` when you want to return multiple values over time, especially when working with large datasets to save memory.\n",
    "\n",
    "### 3. `pass` Keyword:\n",
    "- **Purpose:** It is a placeholder statement that does nothing. It's useful when you need to write a block of code but don't have any code to execute at that moment.\n",
    "- **Syntax:**\n",
    "  ```python\n",
    "  def my_function():\n",
    "      pass  # Function does nothing, it's just a placeholder\n",
    "  ```\n",
    "- **Use case:** You use `pass` when you are working on a function or loop but don't want to implement it right away, such as when stubbing out parts of your code.\n",
    "\n",
    "### Summary:\n",
    "- `return` sends a value and ends a function.\n",
    "- `yield` pauses a generator function and returns a value, allowing it to resume later.\n",
    "- `pass` does nothing, acting as a placeholder in empty code blocks."
   ]
  },
  {
   "cell_type": "markdown",
   "id": "28def996",
   "metadata": {},
   "source": [
    "In Python, the `return`, `yield`, and `pass` keywords serve different purposes within functions and control flow:\n",
    "\n",
    "### 1. `return` Keyword:\n",
    "- **Purpose:** It is used to exit a function and send a value back to the caller. Once a `return` statement is executed, the function terminates and returns the specified value.\n",
    "- **Syntax:**\n",
    "\n",
    "def my_function():\n",
    "    return 42\n",
    "result = my_function()  # result will be 42\n",
    "\n",
    "- **Use case:** You use `return` when you want to return a value and end the function's execution.\n",
    "\n",
    "### 2. `yield` Keyword:\n",
    "- **Purpose:** It is used in a **generator function** to produce a sequence of values. Unlike `return`, which exits the function, `yield` pauses the function and saves its state, so it can resume from where it left off when called again.\n",
    "- **Syntax:**\n",
    "\n",
    "def my_generator():\n",
    "    yield 1\n",
    "    yield 2\n",
    "    yield 3\n",
    "gen = my_generator()  # Creates a generator object\n",
    "for value in gen:\n",
    "    print(value)  # Prints: 1, 2, 3\n",
    "\n",
    "- **Use case:** Use `yield` when you want to return multiple values over time, especially when working with large datasets to save memory.\n",
    "\n",
    "### 3. `pass` Keyword:\n",
    "- **Purpose:** It is a placeholder statement that does nothing. It's useful when you need to write a block of code but don't have any code to execute at that moment.\n",
    "- **Syntax:**\n",
    "\n",
    "def my_function():\n",
    "    pass  # Function does nothing, it's just a placeholder\n",
    "\n",
    "- **Use case:** You use `pass` when you are working on a function or loop but don't want to implement it right away, such as when stubbing out parts of your code.\n",
    "\n",
    "### Summary:\n",
    "- `return` sends a value and ends a function.\n",
    "- `yield` pauses a generator function and returns a value, allowing it to resume later.\n",
    "- `pass` does nothing, acting as a placeholder in empty code blocks.\n",
    "\n",
    "\n",
    "In Python, **classes** and **objects** are fundamental concepts in Object-Oriented Programming (OOP). Here's a breakdown:\n",
    "\n",
    "### 1. **Class**:\n",
    "- **Definition:** A class is a blueprint or template for creating objects. It defines a set of attributes (data) and methods (functions) that the objects created from the class will have.\n",
    "- **Syntax:** In Python, you define a class using the `class` keyword.\n",
    "  \n",
    "  **Example:**\n",
    "  ```python\n",
    "  class Dog:\n",
    "      # Class attribute\n",
    "      species = \"Canine\"\n",
    "\n",
    "      # Constructor method (initializes an object)\n",
    "      def __init__(self, name, age):\n",
    "          self.name = name  # Instance attribute\n",
    "          self.age = age    # Instance attribute\n",
    "\n",
    "      # Method (behavior)\n",
    "      def bark(self):\n",
    "          return f\"{self.name} says woof!\"\n",
    "  ```\n",
    "\n",
    "  - `Dog` is a class that defines two attributes (`name` and `age`) and one method (`bark()`).\n",
    "  - The `__init__` method is a special method called the **constructor**, which is executed when an object is created from the class. It initializes the object's attributes.\n",
    "\n",
    "### 2. **Object**:\n",
    "- **Definition:** An object is an instance of a class. When a class is defined, no memory is allocated until an object (an instance) of that class is created. An object represents a specific instance of the class, with its own unique data.\n",
    "  \n",
    "  **Example:**\n",
    "  ```python\n",
    "  my_dog = Dog(\"Buddy\", 5)  # Create an object (instance) of the Dog class\n",
    "  print(my_dog.name)        # Output: Buddy\n",
    "  print(my_dog.bark())      # Output: Buddy says woof!\n",
    "  ```\n",
    "\n",
    "  - `my_dog` is an **object** (or instance) of the class `Dog`.\n",
    "  - The object `my_dog` has its own attributes (`name` and `age`) and can call the method `bark()` defined in the class.\n",
    "\n",
    "### Key Points:\n",
    "- **Class**: A blueprint or template for creating objects.\n",
    "  - Defines attributes and methods.\n",
    "  - Syntax: `class ClassName:`.\n",
    "- **Object**: A specific instance of a class.\n",
    "  - Has its own unique data (attributes) and can use the methods of the class.\n",
    "  - Created by calling the class like a function: `object_name = ClassName()`.\n",
    "\n",
    "### Example with Explanation:\n",
    "\n",
    "```python\n",
    "class Car:\n",
    "    def __init__(self, make, model, year):\n",
    "        self.make = make  # Instance attribute\n",
    "        self.model = model  # Instance attribute\n",
    "        self.year = year  # Instance attribute\n",
    "\n",
    "    def start_engine(self):\n",
    "        return f\"The {self.year} {self.make} {self.model} engine starts!\"\n",
    "\n",
    "# Creating objects (instances) of the Car class\n",
    "car1 = Car(\"Toyota\", \"Corolla\", 2020)\n",
    "car2 = Car(\"Honda\", \"Civic\", 2021)\n",
    "\n",
    "print(car1.start_engine())  # Output: The 2020 Toyota Corolla engine starts!\n",
    "print(car2.start_engine())  # Output: The 2021 Honda Civic engine starts!\n",
    "```\n",
    "\n",
    "Here:\n",
    "- `Car` is the **class**.\n",
    "- `car1` and `car2` are **objects** of the `Car` class. Each object has its own set of data (attributes like `make`, `model`, `year`)."
   ]
  }
 ],
 "metadata": {
  "kernelspec": {
   "display_name": "Python 3",
   "language": "python",
   "name": "python3"
  },
  "language_info": {
   "codemirror_mode": {
    "name": "ipython",
    "version": 3
   },
   "file_extension": ".py",
   "mimetype": "text/x-python",
   "name": "python",
   "nbconvert_exporter": "python",
   "pygments_lexer": "ipython3",
   "version": "3.13.0"
  }
 },
 "nbformat": 4,
 "nbformat_minor": 5
}
