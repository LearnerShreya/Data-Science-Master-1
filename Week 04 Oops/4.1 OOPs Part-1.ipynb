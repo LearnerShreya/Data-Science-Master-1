{
 "cells": [
  {
   "cell_type": "markdown",
   "id": "2cc5350c",
   "metadata": {},
   "source": [
    "## OOPs - Object Oriented Programming System\n",
    "##### Class : BluePrint, Skeleton , class is a classification of real world entity\n",
    "#### Object: real world entity, instance\n",
    "\n",
    "### Class:\n",
    "- A **class** is a blueprint for creating objects, defining attributes and methods.\n",
    "- Syntax: `class ClassName:`.\n",
    "  \n",
    "  **Example:**\n",
    "  ```python\n",
    "  class Dog:\n",
    "      def __init__(self, name, age):\n",
    "          self.name = name\n",
    "          self.age = age\n",
    "\n",
    "      def bark(self):\n",
    "          return f\"{self.name} says woof!\"\n",
    "  ```\n",
    "\n",
    "### Object:\n",
    "- An **object** is an instance of a class, with its own data and behavior.\n",
    "- Created using: `object_name = ClassName()`.\n",
    "\n",
    "  **Example:**\n",
    "  ```python\n",
    "  my_dog = Dog(\"Buddy\", 5)\n",
    "  print(my_dog.bark())  # Output: Buddy says woof!\n",
    "  ```\n",
    "\n",
    "- **Class**: Blueprint.\n",
    "- **Object**: Instance of the class."
   ]
  },
  {
   "cell_type": "code",
   "execution_count": null,
   "id": "786cdb03",
   "metadata": {},
   "outputs": [],
   "source": [
    "a = 1        # a is an object of integer class, a is a variable of class integer, instance of class integer"
   ]
  },
  {
   "cell_type": "code",
   "execution_count": 3,
   "id": "d0402554",
   "metadata": {},
   "outputs": [
    {
     "name": "stdout",
     "output_type": "stream",
     "text": [
      "<class 'int'>\n"
     ]
    }
   ],
   "source": [
    "print(type(a))"
   ]
  },
  {
   "cell_type": "code",
   "execution_count": 4,
   "id": "fcce3f2f",
   "metadata": {},
   "outputs": [
    {
     "name": "stdout",
     "output_type": "stream",
     "text": [
      "<class 'str'>\n"
     ]
    }
   ],
   "source": [
    "print(type(\"pwskills\"))"
   ]
  },
  {
   "cell_type": "code",
   "execution_count": 5,
   "id": "1c2d1948",
   "metadata": {},
   "outputs": [],
   "source": [
    "class test:           # class which is a reserves keywords in Python programming\n",
    "    pass"
   ]
  },
  {
   "cell_type": "code",
   "execution_count": 6,
   "id": "02297f6d",
   "metadata": {},
   "outputs": [],
   "source": [
    "a = test()"
   ]
  },
  {
   "cell_type": "code",
   "execution_count": 7,
   "id": "f1afbe44",
   "metadata": {},
   "outputs": [
    {
     "data": {
      "text/plain": [
       "__main__.test"
      ]
     },
     "execution_count": 7,
     "metadata": {},
     "output_type": "execute_result"
    }
   ],
   "source": [
    "type(a)"
   ]
  },
  {
   "cell_type": "code",
   "execution_count": 8,
   "id": "2093cffe",
   "metadata": {},
   "outputs": [
    {
     "name": "stdout",
     "output_type": "stream",
     "text": [
      "<class '__main__.test'>\n"
     ]
    }
   ],
   "source": [
    "print(type(a))"
   ]
  },
  {
   "cell_type": "code",
   "execution_count": 9,
   "id": "80afc949",
   "metadata": {},
   "outputs": [],
   "source": [
    "class pwskills:\n",
    "    \n",
    "    def welcome_msg():\n",
    "        print(\"welcome to pwskills\")"
   ]
  },
  {
   "cell_type": "code",
   "execution_count": 10,
   "id": "66876dbf",
   "metadata": {},
   "outputs": [],
   "source": [
    "rohan = pwskills()"
   ]
  },
  {
   "cell_type": "code",
   "execution_count": null,
   "id": "ec8b1f57",
   "metadata": {},
   "outputs": [],
   "source": [
    "rohan.welcome_msg()"
   ]
  },
  {
   "cell_type": "code",
   "execution_count": 11,
   "id": "fc0f1918",
   "metadata": {},
   "outputs": [
    {
     "name": "stdout",
     "output_type": "stream",
     "text": [
      "<class '__main__.pwskills'>\n"
     ]
    }
   ],
   "source": [
    "print(type(rohan))"
   ]
  },
  {
   "cell_type": "code",
   "execution_count": 12,
   "id": "8cc4f891",
   "metadata": {},
   "outputs": [],
   "source": [
    "class pwskills:\n",
    "    \n",
    "    def welcome_msg(self):\n",
    "        print(\"welcome to pwskills\")"
   ]
  },
  {
   "cell_type": "code",
   "execution_count": 13,
   "id": "819f66ed",
   "metadata": {},
   "outputs": [],
   "source": [
    "rohan = pwskills()"
   ]
  },
  {
   "cell_type": "code",
   "execution_count": 14,
   "id": "438e1c8f",
   "metadata": {},
   "outputs": [
    {
     "name": "stdout",
     "output_type": "stream",
     "text": [
      "welcome to pwskills\n"
     ]
    }
   ],
   "source": [
    "rohan.welcome_msg()"
   ]
  },
  {
   "cell_type": "code",
   "execution_count": 15,
   "id": "141fc678",
   "metadata": {},
   "outputs": [],
   "source": [
    "gaurav = pwskills()"
   ]
  },
  {
   "cell_type": "code",
   "execution_count": 16,
   "id": "f68ca81c",
   "metadata": {},
   "outputs": [
    {
     "name": "stdout",
     "output_type": "stream",
     "text": [
      "welcome to pwskills\n"
     ]
    }
   ],
   "source": [
    "gaurav.welcome_msg()"
   ]
  },
  {
   "cell_type": "code",
   "execution_count": 17,
   "id": "90327587",
   "metadata": {},
   "outputs": [],
   "source": [
    "class pwskills1:\n",
    "    def __init__(self, phone_number, email_id, student_id):           # self is not a reserved kewwords\n",
    "        self.phone_number = phone_number                              # __ini__ is a constructor\n",
    "        self.email_id = email_id                                      # __ini__ ka kaam hota hai data lena ( object specific data leta hai)\n",
    "        self.student_id = student_id                                 # self.object use hota hai data nikalne ke liye\n",
    "        \n",
    "    def return_student_details(self):\n",
    "        return self.student_id, self.phone_number, self.email_id"
   ]
  },
  {
   "cell_type": "code",
   "execution_count": 18,
   "id": "1c2ac908",
   "metadata": {},
   "outputs": [
    {
     "ename": "TypeError",
     "evalue": "pwskills1.__init__() missing 3 required positional arguments: 'phone_number', 'email_id', and 'student_id'",
     "output_type": "error",
     "traceback": [
      "\u001b[1;31m---------------------------------------------------------------------------\u001b[0m",
      "\u001b[1;31mTypeError\u001b[0m                                 Traceback (most recent call last)",
      "Cell \u001b[1;32mIn[18], line 1\u001b[0m\n\u001b[1;32m----> 1\u001b[0m rohan \u001b[38;5;241m=\u001b[39m \u001b[43mpwskills1\u001b[49m\u001b[43m(\u001b[49m\u001b[43m)\u001b[49m\n",
      "\u001b[1;31mTypeError\u001b[0m: pwskills1.__init__() missing 3 required positional arguments: 'phone_number', 'email_id', and 'student_id'"
     ]
    }
   ],
   "source": [
    "rohan = pwskills1()"
   ]
  },
  {
   "cell_type": "code",
   "execution_count": 19,
   "id": "4766c361",
   "metadata": {},
   "outputs": [
    {
     "ename": "AttributeError",
     "evalue": "'pwskills' object has no attribute 'phone_number'",
     "output_type": "error",
     "traceback": [
      "\u001b[1;31m---------------------------------------------------------------------------\u001b[0m",
      "\u001b[1;31mAttributeError\u001b[0m                            Traceback (most recent call last)",
      "Cell \u001b[1;32mIn[19], line 1\u001b[0m\n\u001b[1;32m----> 1\u001b[0m \u001b[43mrohan\u001b[49m\u001b[38;5;241;43m.\u001b[39;49m\u001b[43mphone_number\u001b[49m\n",
      "\u001b[1;31mAttributeError\u001b[0m: 'pwskills' object has no attribute 'phone_number'"
     ]
    }
   ],
   "source": [
    "rohan.phone_number"
   ]
  },
  {
   "cell_type": "code",
   "execution_count": 20,
   "id": "a12b83b1",
   "metadata": {},
   "outputs": [
    {
     "ename": "AttributeError",
     "evalue": "'pwskills' object has no attribute 'email_id'",
     "output_type": "error",
     "traceback": [
      "\u001b[1;31m---------------------------------------------------------------------------\u001b[0m",
      "\u001b[1;31mAttributeError\u001b[0m                            Traceback (most recent call last)",
      "Cell \u001b[1;32mIn[20], line 1\u001b[0m\n\u001b[1;32m----> 1\u001b[0m \u001b[43mrohan\u001b[49m\u001b[38;5;241;43m.\u001b[39;49m\u001b[43memail_id\u001b[49m\n",
      "\u001b[1;31mAttributeError\u001b[0m: 'pwskills' object has no attribute 'email_id'"
     ]
    }
   ],
   "source": [
    "rohan.email_id"
   ]
  },
  {
   "cell_type": "code",
   "execution_count": 21,
   "id": "68604b14",
   "metadata": {},
   "outputs": [],
   "source": [
    "rohan = pwskills1(122232432342, \"rohan@gmail.com\" , 101)          # __ini__ ka kaam hota hai data lena ( object specific data leta hai)"
   ]
  },
  {
   "cell_type": "code",
   "execution_count": 22,
   "id": "66abb9b9",
   "metadata": {},
   "outputs": [
    {
     "data": {
      "text/plain": [
       "(101, 122232432342, 'rohan@gmail.com')"
      ]
     },
     "execution_count": 22,
     "metadata": {},
     "output_type": "execute_result"
    }
   ],
   "source": [
    "rohan.return_student_details()"
   ]
  },
  {
   "cell_type": "code",
   "execution_count": 23,
   "id": "7778e0c5",
   "metadata": {},
   "outputs": [],
   "source": [
    "gaurav = pwskills1(98797867678, \"gaurav@gmail.com\" , 102)"
   ]
  },
  {
   "cell_type": "code",
   "execution_count": 24,
   "id": "12fbd535",
   "metadata": {},
   "outputs": [
    {
     "data": {
      "text/plain": [
       "(102, 98797867678, 'gaurav@gmail.com')"
      ]
     },
     "execution_count": 24,
     "metadata": {},
     "output_type": "execute_result"
    }
   ],
   "source": [
    "gaurav.return_student_details()"
   ]
  },
  {
   "cell_type": "code",
   "execution_count": 25,
   "id": "884cfe11",
   "metadata": {},
   "outputs": [],
   "source": [
    "class pwskills2 :\n",
    "    \n",
    "    def __init__(self ,phone_number , email_id , student_id ):\n",
    "        self.phone_number1 = phone_number                                         # self.phone_number1 = phone_number are not same\n",
    "        self.email_id1 = email_id\n",
    "        self.student_id1 = student_id\n",
    "    \n",
    "    def return_student_deetials(self) : \n",
    "        return self.student_id1 ,self.phone_number1 ,self.email_id1               # return jo self ke sath hai na ki joclass ke sath hai"
   ]
  },
  {
   "cell_type": "code",
   "execution_count": 26,
   "id": "96905714",
   "metadata": {},
   "outputs": [],
   "source": [
    "sudh = pwskills2(999954355, \"sudh@gmail.com\" , 102)"
   ]
  },
  {
   "cell_type": "code",
   "execution_count": 27,
   "id": "f5452322",
   "metadata": {},
   "outputs": [
    {
     "data": {
      "text/plain": [
       "999954355"
      ]
     },
     "execution_count": 27,
     "metadata": {},
     "output_type": "execute_result"
    }
   ],
   "source": [
    "sudh.phone_number1                            # phone_number1 & phone_number same nahi hai\n",
    "                                              # isiliye to return value we have to pass phone_number1 and not phone_number"
   ]
  },
  {
   "cell_type": "code",
   "execution_count": 28,
   "id": "126087aa",
   "metadata": {},
   "outputs": [
    {
     "data": {
      "text/plain": [
       "'sudh@gmail.com'"
      ]
     },
     "execution_count": 28,
     "metadata": {},
     "output_type": "execute_result"
    }
   ],
   "source": [
    "sudh.email_id1"
   ]
  },
  {
   "cell_type": "code",
   "execution_count": 29,
   "id": "28b1231f",
   "metadata": {},
   "outputs": [
    {
     "data": {
      "text/plain": [
       "(102, 999954355, 'sudh@gmail.com')"
      ]
     },
     "execution_count": 29,
     "metadata": {},
     "output_type": "execute_result"
    }
   ],
   "source": [
    "sudh.return_student_deetials()"
   ]
  },
  {
   "cell_type": "code",
   "execution_count": 30,
   "id": "4ead257e",
   "metadata": {},
   "outputs": [],
   "source": [
    "class pwskills2 :          # self is not a reserved kewwords, hume ek argument asisa dena hota hai jo behave kare as a pointer\n",
    "    \n",
    "    def __init__(sudh ,phone_number , email_id , student_id ):  \n",
    "        sudh.phone_number1 = phone_number\n",
    "        sudh.email_id1 = email_id\n",
    "        sudh.student_id1 = student_id\n",
    "    \n",
    "    def return_student_deetials(sudh) : \n",
    "        return sudh.student_id1 ,sudh.phone_number1 ,sudh.email_id1"
   ]
  },
  {
   "cell_type": "code",
   "execution_count": 31,
   "id": "b49a4a52",
   "metadata": {},
   "outputs": [],
   "source": [
    "rohan = pwskills2(345365, \"rohan@gmail.com\" , 324)"
   ]
  },
  {
   "cell_type": "code",
   "execution_count": 32,
   "id": "fa9db96c",
   "metadata": {},
   "outputs": [
    {
     "data": {
      "text/plain": [
       "345365"
      ]
     },
     "execution_count": 32,
     "metadata": {},
     "output_type": "execute_result"
    }
   ],
   "source": [
    "rohan.phone_number1"
   ]
  },
  {
   "cell_type": "markdown",
   "id": "816f1ba8",
   "metadata": {},
   "source": [
    "In Python, the `return`, `yield`, and `pass` keywords serve different purposes within functions and control flow:\n",
    "\n",
    "### 1. `return` Keyword:\n",
    "- **Purpose:** It is used to exit a function and send a value back to the caller. Once a `return` statement is executed, the function terminates and returns the specified value.\n",
    "- **Syntax:**\n",
    "  ```python\n",
    "  def my_function():\n",
    "      return 42\n",
    "  result = my_function()  # result will be 42\n",
    "  ```\n",
    "- **Use case:** You use `return` when you want to return a value and end the function's execution.\n",
    "\n",
    "### 2. `yield` Keyword:\n",
    "- **Purpose:** It is used in a **generator function** to produce a sequence of values. Unlike `return`, which exits the function, `yield` pauses the function and saves its state, so it can resume from where it left off when called again.\n",
    "- **Syntax:**\n",
    "  ```python\n",
    "  def my_generator():\n",
    "      yield 1\n",
    "      yield 2\n",
    "      yield 3\n",
    "  gen = my_generator()  # Creates a generator object\n",
    "  for value in gen:\n",
    "      print(value)  # Prints: 1, 2, 3\n",
    "  ```\n",
    "- **Use case:** Use `yield` when you want to return multiple values over time, especially when working with large datasets to save memory.\n",
    "\n",
    "### 3. `pass` Keyword:\n",
    "- **Purpose:** It is a placeholder statement that does nothing. It's useful when you need to write a block of code but don't have any code to execute at that moment.\n",
    "- **Syntax:**\n",
    "  ```python\n",
    "  def my_function():\n",
    "      pass  # Function does nothing, it's just a placeholder\n",
    "  ```\n",
    "- **Use case:** You use `pass` when you are working on a function or loop but don't want to implement it right away, such as when stubbing out parts of your code.\n",
    "\n",
    "### Summary:\n",
    "- `return` sends a value and ends a function.\n",
    "- `yield` pauses a generator function and returns a value, allowing it to resume later.\n",
    "- `pass` does nothing, acting as a placeholder in empty code blocks."
   ]
  },
  {
   "cell_type": "markdown",
   "id": "28def996",
   "metadata": {},
   "source": [
    "In Python, the `return`, `yield`, and `pass` keywords serve different purposes within functions and control flow:\n",
    "\n",
    "### 1. `return` Keyword:\n",
    "- **Purpose:** It is used to exit a function and send a value back to the caller. Once a `return` statement is executed, the function terminates and returns the specified value.\n",
    "- **Syntax:**"
   ]
  },
  {
   "cell_type": "code",
   "execution_count": 33,
   "id": "3445921b",
   "metadata": {},
   "outputs": [],
   "source": [
    "def my_function():\n",
    "    return 42\n",
    "result = my_function()  # result will be 42\n"
   ]
  },
  {
   "cell_type": "markdown",
   "id": "ac9a76db",
   "metadata": {},
   "source": [
    "- **Use case:** You use `return` when you want to return a value and end the function's execution.\n",
    "\n",
    "### 2. `yield` Keyword:\n",
    "- **Purpose:** It is used in a **generator function** to produce a sequence of values. Unlike `return`, which exits the function, `yield` pauses the function and saves its state, so it can resume from where it left off when called again.\n",
    "- **Syntax:**"
   ]
  },
  {
   "cell_type": "code",
   "execution_count": 2,
   "id": "59f304f8",
   "metadata": {},
   "outputs": [
    {
     "name": "stdout",
     "output_type": "stream",
     "text": [
      "1\n",
      "2\n",
      "3\n"
     ]
    }
   ],
   "source": [
    "def my_generator():\n",
    "    yield 1\n",
    "    yield 2\n",
    "    yield 3\n",
    "gen = my_generator()  # Creates a generator object\n",
    "for value in gen:\n",
    "    print(value)  # Prints: 1, 2, 3\n"
   ]
  },
  {
   "cell_type": "markdown",
   "id": "2a7f02c6",
   "metadata": {},
   "source": [
    "- **Use case:** Use `yield` when you want to return multiple values over time, especially when working with large datasets to save memory.\n",
    "\n",
    "### 3. `pass` Keyword:\n",
    "- **Purpose:** It is a placeholder statement that does nothing. It's useful when you need to write a block of code but don't have any code to execute at that moment.\n",
    "- **Syntax:**"
   ]
  },
  {
   "cell_type": "code",
   "execution_count": 3,
   "id": "0221e0e2",
   "metadata": {},
   "outputs": [],
   "source": [
    "def my_function():\n",
    "    pass  # Function does nothing, it's just a placeholder\n"
   ]
  },
  {
   "cell_type": "markdown",
   "id": "9bd2ba67",
   "metadata": {},
   "source": [
    "- **Use case:** You use `pass` when you are working on a function or loop but don't want to implement it right away, such as when stubbing out parts of your code.\n",
    "\n",
    "### Summary:\n",
    "- `return` sends a value and ends a function.\n",
    "- `yield` pauses a generator function and returns a value, allowing it to resume later.\n",
    "- `pass` does nothing, acting as a placeholder in empty code blocks."
   ]
  },
  {
   "cell_type": "markdown",
   "id": "69be5a85",
   "metadata": {},
   "source": [
    "In Python, **classes** and **objects** are fundamental concepts in Object-Oriented Programming (OOP). Here's a breakdown:\n",
    "\n",
    "### 1. **Class**:\n",
    "- **Definition:** A class is a blueprint or template for creating objects. It defines a set of attributes (data) and methods (functions) that the objects created from the class will have.\n",
    "- **Syntax:** In Python, you define a class using the `class` keyword.\n",
    "  \n",
    "  **Example:**\n",
    "  ```python\n",
    "  class Dog:\n",
    "      # Class attribute\n",
    "      species = \"Canine\"\n",
    "\n",
    "      # Constructor method (initializes an object)\n",
    "      def __init__(self, name, age):\n",
    "          self.name = name  # Instance attribute\n",
    "          self.age = age    # Instance attribute\n",
    "\n",
    "      # Method (behavior)\n",
    "      def bark(self):\n",
    "          return f\"{self.name} says woof!\"\n",
    "  ```\n",
    "\n",
    "  - `Dog` is a class that defines two attributes (`name` and `age`) and one method (`bark()`).\n",
    "  - The `__init__` method is a special method called the **constructor**, which is executed when an object is created from the class. It initializes the object's attributes.\n",
    "\n",
    "### 2. **Object**:\n",
    "- **Definition:** An object is an instance of a class. When a class is defined, no memory is allocated until an object (an instance) of that class is created. An object represents a specific instance of the class, with its own unique data.\n",
    "  \n",
    "  **Example:**\n",
    "  ```python\n",
    "  my_dog = Dog(\"Buddy\", 5)  # Create an object (instance) of the Dog class\n",
    "  print(my_dog.name)        # Output: Buddy\n",
    "  print(my_dog.bark())      # Output: Buddy says woof!\n",
    "  ```\n",
    "\n",
    "  - `my_dog` is an **object** (or instance) of the class `Dog`.\n",
    "  - The object `my_dog` has its own attributes (`name` and `age`) and can call the method `bark()` defined in the class.\n",
    "\n",
    "### Key Points:\n",
    "- **Class**: A blueprint or template for creating objects.\n",
    "  - Defines attributes and methods.\n",
    "  - Syntax: `class ClassName:`.\n",
    "- **Object**: A specific instance of a class.\n",
    "  - Has its own unique data (attributes) and can use the methods of the class.\n",
    "  - Created by calling the class like a function: `object_name = ClassName()`.\n",
    "\n",
    "### Example with Explanation:\n",
    "\n",
    "```python\n",
    "class Car:\n",
    "    def __init__(self, make, model, year):\n",
    "        self.make = make  # Instance attribute\n",
    "        self.model = model  # Instance attribute\n",
    "        self.year = year  # Instance attribute\n",
    "\n",
    "    def start_engine(self):\n",
    "        return f\"The {self.year} {self.make} {self.model} engine starts!\"\n",
    "\n",
    "# Creating objects (instances) of the Car class\n",
    "car1 = Car(\"Toyota\", \"Corolla\", 2020)\n",
    "car2 = Car(\"Honda\", \"Civic\", 2021)\n",
    "\n",
    "print(car1.start_engine())  # Output: The 2020 Toyota Corolla engine starts!\n",
    "print(car2.start_engine())  # Output: The 2021 Honda Civic engine starts!\n",
    "```\n",
    "\n",
    "Here:\n",
    "- `Car` is the **class**.\n",
    "- `car1` and `car2` are **objects** of the `Car` class. Each object has its own set of data (attributes like `make`, `model`, `year`)."
   ]
  }
 ],
 "metadata": {
  "kernelspec": {
   "display_name": "Python 3 (ipykernel)",
   "language": "python",
   "name": "python3"
  },
  "language_info": {
   "codemirror_mode": {
    "name": "ipython",
    "version": 3
   },
   "file_extension": ".py",
   "mimetype": "text/x-python",
   "name": "python",
   "nbconvert_exporter": "python",
   "pygments_lexer": "ipython3",
   "version": "3.12.2"
  }
 },
 "nbformat": 4,
 "nbformat_minor": 5
}
