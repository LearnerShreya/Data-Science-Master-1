{
 "cells": [
  {
   "cell_type": "markdown",
   "metadata": {},
   "source": [
    "# Quiz : OOPS quiz-2"
   ]
  },
  {
   "cell_type": "markdown",
   "metadata": {},
   "source": [
    "## Question 1:  \n",
    "**Which among the following best defines abstraction?**  \n",
    "- A) Hiding the implementation  \n",
    "- B) Showing the important data  \n",
    "- C) Hiding the important data  \n",
    "- D) Hiding the implementation and showing only the features  \n",
    "\n",
    "**Correct Answer:** A) Hiding the implementation  \n",
    "**Explanation:** Abstraction involves hiding the implementation details and showing only the necessary data and features to the user. It simplifies complexity and provides a clear interface.\n",
    "\n",
    "---\n",
    "\n",
    "## Question 2:  \n",
    "**Class is ___ abstraction.**  \n",
    "- A) Object  \n",
    "- B) Logical  \n",
    "- C) Real  \n",
    "- D) Hypothetical  \n",
    "\n",
    "**Correct Answer:** B) Logical  \n",
    "**Explanation:** A class is a logical abstraction as it provides a structured overview of its objects, representing the features logically.\n",
    "\n",
    "---\n",
    "\n",
    "## Question 3:  \n",
    "**Which among the following can be viewed as a combination of abstraction of data and code?**  \n",
    "- A) Class  \n",
    "- B) Object  \n",
    "- C) Inheritance  \n",
    "- D) Interfaces  \n",
    "\n",
    "**Correct Answer:** A) Class  \n",
    "**Explanation:** A class in object-oriented programming acts as a blueprint for creating objects. It combines abstraction of data (attributes) and code (methods) into a single logical unit.\n",
    "\n",
    "---\n",
    "\n",
    "## Question 4:  \n",
    "**Encapsulation and abstraction differ as:**  \n",
    "- A) Can be used any way  \n",
    "- B) Hiding and Binding respectively  \n",
    "- C) Binding and Hiding respectively  \n",
    "- D) Hiding and Hiding respectively  \n",
    "\n",
    "**Correct Answer:** C) Binding and Hiding respectively  \n",
    "**Explanation:** Encapsulation involves binding data and methods together, while abstraction hides the complex code and implementation details.\n",
    "\n",
    "---\n",
    "\n",
    "## Question 5:  \n",
    "**Hiding the implementation complexity can:**  \n",
    "- A) Provide better features  \n",
    "- B) Make the programming complex  \n",
    "- C) Provide more number of features  \n",
    "- D) Make the programming easy  \n",
    "\n",
    "**Correct Answer:** D) Make the programming easy  \n",
    "**Explanation:** Hiding implementation complexity simplifies programming by allowing developers to use complex functions without knowing their internal workings.\n",
    "\n",
    "---\n",
    "\n",
    "## Question 6:  \n",
    "**Data abstraction is nothing but the combination of ………..**  \n",
    "- A) Hiding and Showing  \n",
    "- B) Abstract Class and Interface  \n",
    "- C) Unnecessary Information  \n",
    "- D) None of the above  \n",
    "\n",
    "**Correct Answer:** B) Abstract Class and Interface  \n",
    "**Explanation:** Data abstraction is achieved by using abstract classes and interfaces, which do not allow object creation but define structure and behavior for derived classes.\n"
   ]
  },
  {
   "cell_type": "markdown",
   "metadata": {},
   "source": []
  }
 ],
 "metadata": {
  "language_info": {
   "name": "python"
  }
 },
 "nbformat": 4,
 "nbformat_minor": 2
}
