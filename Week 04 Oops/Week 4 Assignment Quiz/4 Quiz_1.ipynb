{
 "cells": [
  {
   "cell_type": "markdown",
   "metadata": {},
   "source": [
    "# Quiz : OOPS quiz"
   ]
  },
  {
   "cell_type": "markdown",
   "metadata": {},
   "source": [
    "## Question 1:  \n",
    "**OOP’s stands for:**  \n",
    "- A) Object Oriented Programming  \n",
    "- B) Object Oriented Programming Pillar  \n",
    "- C) Object Oriented Programming System  \n",
    "- D) Object Oriented Programming Principles  \n",
    "\n",
    "**Correct Answer:** C) Object Oriented Programming System  \n",
    "**Explanation:** OOP is a programming pattern built around objects or entities, hence called Object-Oriented Programming System.\n",
    "\n",
    "---\n",
    "\n",
    "## Question 2:  \n",
    "**How many basic pillars are there in OOPs?**  \n",
    "- A) 3  \n",
    "- B) 4  \n",
    "- C) 2  \n",
    "- D) 5  \n",
    "\n",
    "**Correct Answer:** B) 4  \n",
    "**Explanation:** There are four major pillars in OOPs:  \n",
    "1. Inheritance  \n",
    "2. Polymorphism  \n",
    "3. Encapsulation  \n",
    "4. Abstraction\n",
    "\n",
    "---\n",
    "\n",
    "## Question 3:  \n",
    "**Class is a …………. which defines some properties and behaviours.**  \n",
    "- A) Instance  \n",
    "- B) Member  \n",
    "- C) Function  \n",
    "- D) Blueprint  \n",
    "\n",
    "**Correct Answer:** D) Blueprint  \n",
    "**Explanation:** A class is a blueprint that defines some properties and behaviours.\n",
    "\n",
    "---\n",
    "\n",
    "## Question 4:  \n",
    "**How many types of inheritance are there in Python?**  \n",
    "- A) 5  \n",
    "- B) 3  \n",
    "- C) 7  \n",
    "- D) 4  \n",
    "\n",
    "**Correct Answer:** A) 5  \n",
    "**Explanation:** Python supports five types of inheritance:  \n",
    "1. Single Inheritance  \n",
    "2. Multiple Inheritance  \n",
    "3. Multilevel Inheritance  \n",
    "4. Hierarchical Inheritance  \n",
    "5. Hybrid Inheritance\n",
    "\n",
    "---\n",
    "\n",
    "## Question 5:  \n",
    "**What is the advantage of inheritance?**  \n",
    "- A) Multiple form  \n",
    "- B) Inherit property  \n",
    "- C) Code reusability  \n",
    "- D) Function reusability  \n",
    "\n",
    "**Correct Answer:** C) Code reusability  \n",
    "**Explanation:** When a derived class inherits the base class, it can access the base class's functionality, enabling code reuse.\n"
   ]
  },
  {
   "cell_type": "markdown",
   "metadata": {},
   "source": []
  }
 ],
 "metadata": {
  "language_info": {
   "name": "python"
  }
 },
 "nbformat": 4,
 "nbformat_minor": 2
}
