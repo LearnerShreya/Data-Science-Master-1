{
 "cells": [
  {
   "cell_type": "markdown",
   "id": "2ea09bba",
   "metadata": {},
   "source": [
    "## Q1, Create a vehicle class with an init method having instance variables as name_of_vehicle, max_speed and average_of_vehicle.\n",
    "### Ans:"
   ]
  },
  {
   "cell_type": "code",
   "execution_count": 8,
   "id": "74c8feaa",
   "metadata": {},
   "outputs": [
    {
     "name": "stdout",
     "output_type": "stream",
     "text": [
      "Toyota Camry\n",
      "120\n",
      "65\n",
      "Honda Accord\n",
      "130\n",
      "70\n"
     ]
    }
   ],
   "source": [
    "class Vehicle:\n",
    "  def __init__(self, name_of_vehicle, max_speed, average_speed_of_vehicle):\n",
    "    self.name_of_vehicle = name_of_vehicle\n",
    "    self.max_speed = max_speed\n",
    "    self.average_speed_of_vehicle = average_speed_of_vehicle\n",
    "\n",
    "  def get_name_of_vehicle(self):\n",
    "    return self.name_of_vehicle\n",
    "\n",
    "  def set_name_of_vehicle(self, new_name_of_vehicle):\n",
    "    self.name_of_vehicle = new_name_of_vehicle\n",
    "\n",
    "  def get_max_speed(self):\n",
    "    return self.max_speed\n",
    "\n",
    "  def set_max_speed(self, new_max_speed):\n",
    "    self.max_speed = new_max_speed\n",
    "\n",
    "  def get_average_speed_of_vehicle(self):\n",
    "    return self.average_speed_of_vehicle\n",
    "\n",
    "  def set_average_speed_of_vehicle(self, new_average_speed_of_vehicle):\n",
    "    self.average_speed_of_vehicle = new_average_speed_of_vehicle\n",
    "\n",
    "car = Vehicle(\"Toyota Camry\", 120, 65)\n",
    "print(car.get_name_of_vehicle())  # Output: Toyota Camry\n",
    "print(car.get_max_speed())  # Output: 120\n",
    "print(car.get_average_speed_of_vehicle())  # Output: 65\n",
    "\n",
    "car.set_name_of_vehicle(\"Honda Accord\")\n",
    "car.set_max_speed(130)\n",
    "car.set_average_speed_of_vehicle(70)\n",
    "print(car.get_name_of_vehicle())  # Output: Honda Accord\n",
    "print(car.get_max_speed())  # Output: 130\n",
    "print(car.get_average_speed_of_vehicle())  # Output: 70\n"
   ]
  },
  {
   "cell_type": "markdown",
   "id": "176eafa1",
   "metadata": {},
   "source": [
    "## Q2. Create a child class car from the vehicle class created in Que 1, which will inherit the vehicle class.\n",
    "## Create a method named seating_capacity which takes capacity as an argument and returns the name of the vehicle and its seating capacity.\n",
    "### Ans:"
   ]
  },
  {
   "cell_type": "code",
   "execution_count": 9,
   "id": "56cdd601",
   "metadata": {},
   "outputs": [
    {
     "name": "stdout",
     "output_type": "stream",
     "text": [
      "The seating capacity of a Toyota Camry is 5 passengers.\n"
     ]
    }
   ],
   "source": [
    "class Vehicle:\n",
    "  def __init__(self, name_of_vehicle, max_speed, average_speed_of_vehicle):\n",
    "    self.name_of_vehicle = name_of_vehicle\n",
    "    self.max_speed = max_speed\n",
    "    self.average_speed_of_vehicle = average_speed_of_vehicle\n",
    "\n",
    "  def get_name_of_vehicle(self):\n",
    "    return self.name_of_vehicle\n",
    "\n",
    "  def set_name_of_vehicle(self, new_name_of_vehicle):\n",
    "    self.name_of_vehicle = new_name_of_vehicle\n",
    "\n",
    "  def get_max_speed(self):\n",
    "    return self.max_speed\n",
    "\n",
    "  def set_max_speed(self, new_max_speed):\n",
    "    self.max_speed = new_max_speed\n",
    "\n",
    "  def get_average_speed_of_vehicle(self):\n",
    "    return self.average_speed_of_vehicle\n",
    "\n",
    "  def set_average_speed_of_vehicle(self, new_average_speed_of_vehicle):\n",
    "    self.average_speed_of_vehicle = new_average_speed_of_vehicle\n",
    "\n",
    "class Car(Vehicle):\n",
    "  def seating_capacity(self, capacity):\n",
    "    return f\"The seating capacity of a {self.name_of_vehicle} is {capacity} passengers.\"\n",
    "\n",
    "toyota_camry = Car(\"Toyota Camry\", 120, 65)\n",
    "print(toyota_camry.seating_capacity(5))  # Output: The seating capacity of a Toyota Camry is 5 passengers.\n"
   ]
  },
  {
   "cell_type": "markdown",
   "id": "b4223595",
   "metadata": {},
   "source": [
    "## Q3. What is multiple inheritance? Write a python code to demonstrate multiple inheritance.\n",
    "### Ans:"
   ]
  },
  {
   "cell_type": "markdown",
   "id": "69e85606",
   "metadata": {},
   "source": [
    "**`Multiple inheritance`** is a feature of object-oriented programming that allows a class to inherit from more than one base class. This can be useful for modeling complex relationships between classes.\n",
    "\n",
    "**Example:**"
   ]
  },
  {
   "cell_type": "code",
   "execution_count": 7,
   "id": "cd909ce0",
   "metadata": {},
   "outputs": [
    {
     "name": "stdout",
     "output_type": "stream",
     "text": [
      "I am flying!\n",
      "I am walking!\n"
     ]
    }
   ],
   "source": [
    "class Bird:\n",
    "  def fly(self):\n",
    "    print(\"I am flying!\")\n",
    "\n",
    "class Mammal:\n",
    "  def walk(self):\n",
    "    print(\"I am walking!\")\n",
    "\n",
    "class Bat(Bird, Mammal):\n",
    "  pass\n",
    "\n",
    "bat = Bat()\n",
    "bat.fly()  # Output: I am flying!\n",
    "bat.walk()  # Output: I am walking!\n",
    "\n",
    "# In this example, the `Bat` class inherits from both the `Bird` and `Mammal` classes. \n",
    "# This means that `Bat` objects have all the methods and attributes of both `Bird` and `Mammal` objects. \n",
    "# As a result, `bat` can both fly and walk."
   ]
  },
  {
   "cell_type": "markdown",
   "id": "25ae0e08",
   "metadata": {},
   "source": [
    "## Q4. What are getter and setter in python? Create a class and create a getter and a setter method in this class.\n",
    "### Ans:"
   ]
  },
  {
   "cell_type": "markdown",
   "id": "76358818",
   "metadata": {},
   "source": []
  },
  {
   "cell_type": "markdown",
   "id": "60d5f60d",
   "metadata": {},
   "source": [
    "**Getters** and **setters** are methods that allow us to **access and modify** the attributes of a class. Getters are methods that return the value of an attribute, while setters are methods that set the value of an attribute.\n",
    "\n",
    "###### Example :"
   ]
  },
  {
   "cell_type": "code",
   "execution_count": 5,
   "id": "46c6c922",
   "metadata": {},
   "outputs": [
    {
     "name": "stdout",
     "output_type": "stream",
     "text": [
      "John Doe\n",
      "30\n",
      "Jane Doe\n",
      "25\n"
     ]
    }
   ],
   "source": [
    "class Person:\n",
    "  def __init__(self, name, age):\n",
    "    self.name = name\n",
    "    self.age = age\n",
    "\n",
    "  def get_name(self):\n",
    "    return self.name\n",
    "\n",
    "  def set_name(self, new_name):\n",
    "    self.name = new_name\n",
    "\n",
    "  def get_age(self):\n",
    "    return self.age\n",
    "\n",
    "  def set_age(self, new_age):\n",
    "    self.age = new_age\n",
    "\n",
    "person = Person(\"John Doe\", 30)\n",
    "print(person.get_name())  # Output: John Doe\n",
    "print(person.get_age())  # Output: 30\n",
    "\n",
    "person.set_name(\"Jane Doe\")\n",
    "person.set_age(25)\n",
    "print(person.get_name())  # Output: Jane Doe\n",
    "print(person.get_age())  # Output: 25\n"
   ]
  },
  {
   "cell_type": "markdown",
   "id": "d14eb7ea",
   "metadata": {},
   "source": [
    "In this example, the `Person` class has four methods:\n",
    "\n",
    "* `__init__`: The constructor for the `Person` class. It initializes the `name` and `age` attributes of the object.\n",
    "* `get_name`: A getter method that returns the value of the `name` attribute of the object.\n",
    "* `set_name`: A setter method that sets the value of the `name` attribute of the object.\n",
    "* `get_age`: A getter method that returns the value of the `age` attribute of the object.\n",
    "* `set_age`: A setter method that sets the value of the `age` attribute of the object.\n",
    "\n",
    "Getters and setters are a useful tool for controlling access to the attributes of a class. They can be used to prevent unauthorized access to attributes, to perform validation on attribute values, and to provide a consistent interface for accessing and modifying attributes."
   ]
  },
  {
   "cell_type": "markdown",
   "id": "10218b86",
   "metadata": {},
   "source": [
    "## Q5.What is method overriding in python? Write a python code to demonstrate method overriding.\n",
    "### Ans:"
   ]
  },
  {
   "cell_type": "markdown",
   "id": "6d15a606",
   "metadata": {},
   "source": [
    "**Method overriding** is a feature of object-oriented programming that allows a subclass to provide a specific implementation of a method already provided by one of its superclasses. In other words, it allows a subclass to change the behavior of a method that is already defined in its parent class."
   ]
  },
  {
   "cell_type": "code",
   "execution_count": 2,
   "id": "163f183f",
   "metadata": {},
   "outputs": [
    {
     "name": "stdout",
     "output_type": "stream",
     "text": [
      "Generic animal sound\n",
      "Woof!\n",
      "Meow!\n"
     ]
    }
   ],
   "source": [
    "class Animal:\n",
    "  def make_sound(self):\n",
    "    print(\"Generic animal sound\")\n",
    "\n",
    "class Dog(Animal):\n",
    "  def make_sound(self):\n",
    "    print(\"Woof!\")\n",
    "\n",
    "class Cat(Animal):\n",
    "  def make_sound(self):\n",
    "    print(\"Meow!\")\n",
    "\n",
    "animal = Animal()\n",
    "animal.make_sound()  # Output: Generic animal sound\n",
    "\n",
    "dog = Dog()\n",
    "dog.make_sound()  # Output: Woof!\n",
    "\n",
    "cat = Cat()\n",
    "cat.make_sound()  # Output: Meow!\n"
   ]
  },
  {
   "cell_type": "markdown",
   "id": "a05016f4",
   "metadata": {},
   "source": [
    "In this example, the `make_sound()` method is defined in the `Animal` class. However, the `Dog` and `Cat` classes both override the `make_sound()` method to provide their own specific implementations. This allows the `Dog` and `Cat` classes to make different sounds than the generic animal sound.\n",
    "\n",
    "Method overriding is a powerful tool that can be used to extend the functionality of a class without modifying the original class. It is often used to implement polymorphism, which is the ability of objects of different classes to respond to the same method call in different ways."
   ]
  }
 ],
 "metadata": {
  "kernelspec": {
   "display_name": "Python 3 (ipykernel)",
   "language": "python",
   "name": "python3"
  },
  "language_info": {
   "codemirror_mode": {
    "name": "ipython",
    "version": 3
   },
   "file_extension": ".py",
   "mimetype": "text/x-python",
   "name": "python",
   "nbconvert_exporter": "python",
   "pygments_lexer": "ipython3",
   "version": "3.11.4"
  }
 },
 "nbformat": 4,
 "nbformat_minor": 5
}
