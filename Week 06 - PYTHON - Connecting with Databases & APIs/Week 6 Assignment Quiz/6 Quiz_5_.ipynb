{
 "cells": [
  {
   "cell_type": "markdown",
   "metadata": {},
   "source": [
    "# Flask Quiz - 2\n",
    "\n",
    "---\n",
    "\n",
    "### 1. What is the difference between a microweb framework and a full-stack framework?\n",
    "- Microweb frameworks offer a complete solution, while full-stack frameworks provide limited functionality\n",
    "- ✅ **Microweb frameworks provide limited functionality, while full-stack frameworks offer a complete solution**\n",
    "- Microweb frameworks are faster, while full-stack frameworks are slower\n",
    "- Microweb frameworks are harder to use, while full-stack frameworks are easier to use\n",
    "\n",
    "**Explanation:** Microweb frameworks, like Flask, provide a minimal set of tools, focusing on simplicity and flexibility. Full-stack frameworks include all the tools and libraries needed to build, deploy, and manage a web application.\n",
    "\n",
    "---\n",
    "\n",
    "### 2. What are blueprints in Flask?\n",
    "- ✅ **A way to create reusable code in Flask**\n",
    "- A way to organize application routes in Flask\n",
    "- A way to manage database connections in Flask\n",
    "- A way to handle user authentication in Flask\n",
    "\n",
    "**Explanation:** Blueprints in Flask are used to organize an application into smaller, reusable components, such as routes, templates, and static files. They help in managing and maintaining the code.\n",
    "\n",
    "---\n",
    "\n",
    "### 3. What is Postman?\n",
    "- A tool for managing database connections\n",
    "- A tool for designing APIs\n",
    "- ✅ **A tool for testing web applications**\n",
    "- A tool for automating API tests\n",
    "\n",
    "**Explanation:** Postman is primarily used for testing web applications and APIs. It provides an interface for sending HTTP requests, testing various HTTP methods, and inspecting responses.\n",
    "\n",
    "---\n",
    "\n",
    "### 4. Why is Postman used with Flask?\n",
    "- ✅ **To test the functionality of the Flask application**\n",
    "- To design the Flask application\n",
    "- To manage the database connections in Flask\n",
    "- To handle user authentication in Flask\n",
    "\n",
    "**Explanation:** Postman is used to test the functionality of Flask applications by sending HTTP requests and verifying the responses, helping developers validate their application behavior.\n",
    "\n",
    "---\n",
    "\n",
    "### 5. What are some of the features of Postman?\n",
    "- Automated testing\n",
    "- Request and response history\n",
    "- Environment variables\n",
    "- ✅ **All of the above**\n",
    "\n",
    "**Explanation:** Postman offers features such as automated testing, maintaining request and response history, and the use of environment variables, making it a comprehensive tool for API testing.\n"
   ]
  },
  {
   "cell_type": "markdown",
   "metadata": {},
   "source": []
  }
 ],
 "metadata": {
  "language_info": {
   "name": "python"
  }
 },
 "nbformat": 4,
 "nbformat_minor": 2
}
