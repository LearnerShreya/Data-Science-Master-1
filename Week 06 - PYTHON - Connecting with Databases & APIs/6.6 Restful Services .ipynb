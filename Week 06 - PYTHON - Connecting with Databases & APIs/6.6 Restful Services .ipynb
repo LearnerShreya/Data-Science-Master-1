{
 "cells": [
  {
   "cell_type": "markdown",
   "metadata": {},
   "source": [
    "# RESTful Services\n",
    "\n",
    "RESTful services, also known as RESTful APIs, are web services that adhere to the REST architectural style. REST stands for **Representational State Transfer**, a set of principles for designing web services that utilize **HTTP (Hypertext Transfer Protocol)** as the communication protocol.\n",
    "\n",
    "## Principles of RESTful Services\n",
    "\n",
    "1. **Client-Server Architecture**  \n",
    "   The client and server are separated, enabling them to evolve independently.\n",
    "\n",
    "2. **Stateless**  \n",
    "   Each request sent to the server contains all the information required to process the request. The server does not maintain any client context between requests.\n",
    "\n",
    "3. **Cacheable**  \n",
    "   Server responses can be cached to enhance performance.\n",
    "\n",
    "4. **Uniform Interface**  \n",
    "   RESTful services provide a consistent interface that includes:  \n",
    "   - **Resources:** Represented by URLs.  \n",
    "   - **HTTP Verbs:** Common operations like `GET`, `POST`, `PUT`, and `DELETE`.  \n",
    "   - **Hypermedia Links:** Used for navigation between resources.\n",
    "\n",
    "5. **Layered System**  \n",
    "   RESTful services can be structured in multiple layers to achieve scalability, flexibility, and security.\n"
   ]
  }
 ],
 "metadata": {
  "language_info": {
   "name": "python"
  }
 },
 "nbformat": 4,
 "nbformat_minor": 2
}
