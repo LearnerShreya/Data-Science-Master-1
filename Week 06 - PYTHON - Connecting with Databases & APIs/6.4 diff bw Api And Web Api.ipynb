{
 "cells": [
  {
   "cell_type": "markdown",
   "metadata": {},
   "source": [
    "### API (Application Programming Interface)\n",
    "- **Definition**: An API is a set of rules and protocols that allows different software applications to communicate with each other. It defines the methods and data formats that programs can use to request and exchange information.\n",
    "- **Purpose**: Facilitates interaction between different software systems, enabling them to share data or services.\n",
    "- **Types**:\n",
    "  - **REST APIs**: Use HTTP protocols and are widely used for web services.\n",
    "  - **SOAP APIs**: Rely on XML-based messaging.\n",
    "  - **GraphQL APIs**: Allow clients to query specific data.\n",
    "  - **Local APIs**: Used within an application or on the same device.\n",
    "- **Examples**:\n",
    "  - Payment APIs (e.g., PayPal, Stripe).\n",
    "  - Social media APIs (e.g., Facebook Graph API, Twitter API).\n",
    "\n",
    "---\n",
    "\n",
    "### Web API\n",
    "- **Definition**: A subset of APIs specifically designed to interact with web-based systems and services. They allow applications to access web services using HTTP protocols.\n",
    "- **Purpose**: Enable web applications or mobile apps to communicate with servers or other web-based applications over the internet.\n",
    "- **Features**:\n",
    "  - Usually built on REST (Representational State Transfer) principles.\n",
    "  - Supports common HTTP methods like GET, POST, PUT, DELETE.\n",
    "  - Data exchange often in JSON or XML format.\n",
    "- **Examples**:\n",
    "  - Google Maps API: Integrate maps into web or mobile applications.\n",
    "  - OpenWeatherMap API: Fetch weather data for a location.\n",
    "  - GitHub API: Access repositories, commits, and other GitHub data.\n",
    "\n",
    "---\n",
    "\n",
    "### Key Differences\n",
    "| Aspect              | API                          | Web API                      |\n",
    "|---------------------|------------------------------|------------------------------|\n",
    "| Scope               | General, includes all APIs. | Specifically for web-based systems. |\n",
    "| Communication       | Can be local or remote.      | Over the internet using HTTP. |\n",
    "| Data Format         | Varies (JSON, XML, etc.).    | Primarily JSON or XML.       |\n",
    "| Example             | Database API (SQL API).     | Google Maps API, Twitter API.|\n",
    "\n",
    "Let me know if you'd like more details! 😊"
   ]
  },
  {
   "cell_type": "markdown",
   "metadata": {},
   "source": []
  }
 ],
 "metadata": {
  "language_info": {
   "name": "python"
  }
 },
 "nbformat": 4,
 "nbformat_minor": 2
}
