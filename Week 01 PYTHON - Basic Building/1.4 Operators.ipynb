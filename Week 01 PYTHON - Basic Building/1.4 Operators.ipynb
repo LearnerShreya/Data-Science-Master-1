{
 "cells": [
  {
   "cell_type": "markdown",
   "id": "f1895408",
   "metadata": {},
   "source": [
    "\n",
    "# **Operators**\n",
    "\n",
    "An **operator** is a **symbol** or **keyword** that performs a specific **operation or computation** on one or more values (called operands).\n",
    "\n",
    "Operators are fundamental to programming. They are used to:\n",
    "\n",
    "* Manipulate data\n",
    "* Perform calculations\n",
    "* Compare values\n",
    "* Control program flow\n",
    "\n",
    "---\n",
    "\n",
    "### ✅ **Operator Categories**\n",
    "\n",
    "Operators can be grouped based on their purpose:\n",
    "\n",
    "* **Arithmetic Operators** – Perform basic math operations\n",
    "* **Comparison (Relational) Operators** – Compare values\n",
    "* **Logical Operators** – Combine or invert Boolean values\n",
    "* **Assignment Operators** – Assign values to variables\n",
    "* **Bitwise Operators** – Perform operations at the bit level\n",
    "* **Unary Operators** – Operate on a single operand\n",
    "* **Ternary Operator** – Conditional expressions (`condition ? true : false`)\n",
    "* **Other Special Operators** – Like `sizeof`, `typeid`, etc. in some languages\n",
    "\n",
    "---\n",
    "\n",
    "### 🔹 **Binary Operations (Bitwise)**\n",
    "\n",
    "We can perform operations **bit by bit** on binary numbers using bitwise operators:\n",
    "\n",
    "#### 1. **Bitwise AND (`&`)**\n",
    "\n",
    "* Compares each bit of two numbers.\n",
    "* Returns `1` only if **both bits are 1**, else returns `0`.\n",
    "\n",
    "#### 2. **Bitwise OR (`|`)**\n",
    "\n",
    "* Compares each bit of two numbers.\n",
    "* Returns `1` if **at least one bit is 1**, else returns `0`.\n",
    "\n",
    "#### 3. **Bitwise XOR (`^`)**\n",
    "\n",
    "* Compares each bit of two numbers.\n",
    "* Returns `1` if the **bits are different**, else returns `0`.\n",
    "\n",
    "#### 4. **Bitwise NOT (`~`)**\n",
    "\n",
    "* Inverts the bits of the number.\n",
    "* Changes `0` to `1` and `1` to `0`.\n",
    "\n",
    "#### 5. **Bitwise Left Shift (`<<`)**\n",
    "\n",
    "* Shifts bits to the **left** by a given count.\n",
    "* Equivalent to **multiplying** the number by $2^n$.\n",
    "\n",
    "#### 6. **Bitwise Right Shift (`>>`)**\n",
    "\n",
    "* Shifts bits to the **right** by a given count.\n",
    "* Equivalent to **dividing** the number by $2^n$.\n",
    "\n",
    "---\n",
    "\n",
    "### 📊 **Bit Positions (8-bit Example)**\n",
    "\n",
    "| Power   | $2^7$ | $2^6$ | $2^5$ | $2^4$ | $2^3$ | $2^2$ | $2^1$ | $2^0$ |\n",
    "| ------- | ----- | ----- | ----- | ----- | ----- | ----- | ----- | ----- |\n",
    "| Value   | 128   | 64    | 32    | 16    | 8     | 4     | 2     | 1     |\n",
    "| Example | 1     | 0     | 1     | 0     | 1     | 1     | 0     | 0     |\n",
    "\n",
    "---"
   ]
  },
  {
   "cell_type": "markdown",
   "id": "c4e9470b",
   "metadata": {},
   "source": [
    "## 1. Arithmetic Operator :\n",
    "1. Addition (+)\n",
    "2. Subtraction (-)\n",
    "3. Multiplication (*)\n",
    "4. Division (/)\n",
    "5. Floor Division (//)\n",
    "6. Modulus (%)\n",
    "7. Exponentiation (**)"
   ]
  },
  {
   "cell_type": "code",
   "execution_count": 1,
   "id": "edcc27dd",
   "metadata": {},
   "outputs": [
    {
     "data": {
      "text/plain": [
       "3"
      ]
     },
     "execution_count": 1,
     "metadata": {},
     "output_type": "execute_result"
    }
   ],
   "source": [
    "1+2"
   ]
  },
  {
   "cell_type": "code",
   "execution_count": 2,
   "id": "c6716147",
   "metadata": {},
   "outputs": [
    {
     "data": {
      "text/plain": [
       "-1"
      ]
     },
     "execution_count": 2,
     "metadata": {},
     "output_type": "execute_result"
    }
   ],
   "source": [
    "1-2"
   ]
  },
  {
   "cell_type": "code",
   "execution_count": 3,
   "id": "728931e5",
   "metadata": {},
   "outputs": [
    {
     "data": {
      "text/plain": [
       "2"
      ]
     },
     "execution_count": 3,
     "metadata": {},
     "output_type": "execute_result"
    }
   ],
   "source": [
    "1*2"
   ]
  },
  {
   "cell_type": "code",
   "execution_count": 4,
   "id": "1549eeba",
   "metadata": {},
   "outputs": [
    {
     "data": {
      "text/plain": [
       "0.5"
      ]
     },
     "execution_count": 4,
     "metadata": {},
     "output_type": "execute_result"
    }
   ],
   "source": [
    "1/2"
   ]
  },
  {
   "cell_type": "code",
   "execution_count": 7,
   "id": "d918f588",
   "metadata": {},
   "outputs": [
    {
     "data": {
      "text/plain": [
       "0"
      ]
     },
     "execution_count": 7,
     "metadata": {},
     "output_type": "execute_result"
    }
   ],
   "source": [
    "1//2      # // division floor"
   ]
  },
  {
   "cell_type": "code",
   "execution_count": 5,
   "id": "3ceb98c2",
   "metadata": {},
   "outputs": [
    {
     "data": {
      "text/plain": [
       "1"
      ]
     },
     "execution_count": 5,
     "metadata": {},
     "output_type": "execute_result"
    }
   ],
   "source": [
    "1%2        # % remainder     "
   ]
  },
  {
   "cell_type": "code",
   "execution_count": 8,
   "id": "4ca7a0cc",
   "metadata": {},
   "outputs": [
    {
     "data": {
      "text/plain": [
       "8"
      ]
     },
     "execution_count": 8,
     "metadata": {},
     "output_type": "execute_result"
    }
   ],
   "source": [
    "2**3      # ** power or exponent operator"
   ]
  },
  {
   "cell_type": "markdown",
   "id": "2899689c",
   "metadata": {},
   "source": [
    "## 2. Comparison Operators (Relational Operators):\n",
    "1. Equal to (==)\n",
    "2. Not equal to (!=)\n",
    "3. Greater than (>)\n",
    "4. Less than (<)\n",
    "5. Greater than or equal to (>=)\n",
    "6. Less than or equal to (<=)"
   ]
  },
  {
   "cell_type": "code",
   "execution_count": 11,
   "id": "2f6f81e3",
   "metadata": {},
   "outputs": [
    {
     "data": {
      "text/plain": [
       "False"
      ]
     },
     "execution_count": 11,
     "metadata": {},
     "output_type": "execute_result"
    }
   ],
   "source": [
    "1==2"
   ]
  },
  {
   "cell_type": "code",
   "execution_count": 12,
   "id": "fd0e807e",
   "metadata": {},
   "outputs": [
    {
     "data": {
      "text/plain": [
       "True"
      ]
     },
     "execution_count": 12,
     "metadata": {},
     "output_type": "execute_result"
    }
   ],
   "source": [
    "1!=2"
   ]
  },
  {
   "cell_type": "code",
   "execution_count": 9,
   "id": "5e5839d9",
   "metadata": {},
   "outputs": [
    {
     "data": {
      "text/plain": [
       "False"
      ]
     },
     "execution_count": 9,
     "metadata": {},
     "output_type": "execute_result"
    }
   ],
   "source": [
    "1>2"
   ]
  },
  {
   "cell_type": "code",
   "execution_count": 10,
   "id": "73f3ee1a",
   "metadata": {},
   "outputs": [
    {
     "data": {
      "text/plain": [
       "True"
      ]
     },
     "execution_count": 10,
     "metadata": {},
     "output_type": "execute_result"
    }
   ],
   "source": [
    "1<2"
   ]
  },
  {
   "cell_type": "code",
   "execution_count": 13,
   "id": "1cdf51ad",
   "metadata": {},
   "outputs": [
    {
     "data": {
      "text/plain": [
       "True"
      ]
     },
     "execution_count": 13,
     "metadata": {},
     "output_type": "execute_result"
    }
   ],
   "source": [
    "1>=1"
   ]
  },
  {
   "cell_type": "code",
   "execution_count": 14,
   "id": "9bef364c",
   "metadata": {},
   "outputs": [
    {
     "data": {
      "text/plain": [
       "True"
      ]
     },
     "execution_count": 14,
     "metadata": {},
     "output_type": "execute_result"
    }
   ],
   "source": [
    "1<=2"
   ]
  },
  {
   "cell_type": "markdown",
   "id": "352869f9",
   "metadata": {},
   "source": [
    "## 3. Logical Operators:\n",
    "\n",
    "1. Logical AND (and)\n",
    "2. Logical OR (or)\n",
    "3. Logical NOT (not)"
   ]
  },
  {
   "cell_type": "markdown",
   "id": "d00cfc76",
   "metadata": {},
   "source": [
    "### Logic Gate\n",
    "#### AND\n",
    "- True and True (1 and 1)  implies True  i.e. 1\n",
    "- True and False (1 and 0)  implies False i.e. 0\n",
    "- False and True (0 and 1) implies False i.e. 0\n",
    "- False and False (0 and 0) implies False i.e. 0\n",
    "### OR\n",
    "- True and True (1 and 1)  implies True  i.e. 1\n",
    "- True and False (1 and 0)  implies True i.e. 1\n",
    "- False and True (0 and 1) implies True i.e. 1\n",
    "- False and False (0 and 0) implies False i.e. 0\n",
    "### NOT\n",
    "- not True : False\n",
    "- not False : True"
   ]
  },
  {
   "cell_type": "markdown",
   "id": "6f7c7e59",
   "metadata": {},
   "source": [
    "##### NOT"
   ]
  },
  {
   "cell_type": "code",
   "execution_count": 15,
   "id": "bfc26877",
   "metadata": {},
   "outputs": [
    {
     "data": {
      "text/plain": [
       "False"
      ]
     },
     "execution_count": 15,
     "metadata": {},
     "output_type": "execute_result"
    }
   ],
   "source": [
    "not 1"
   ]
  },
  {
   "cell_type": "code",
   "execution_count": 17,
   "id": "80f0afff",
   "metadata": {},
   "outputs": [
    {
     "data": {
      "text/plain": [
       "True"
      ]
     },
     "execution_count": 17,
     "metadata": {},
     "output_type": "execute_result"
    }
   ],
   "source": [
    "not 0"
   ]
  },
  {
   "cell_type": "code",
   "execution_count": 19,
   "id": "3e894fc8",
   "metadata": {},
   "outputs": [
    {
     "data": {
      "text/plain": [
       "False"
      ]
     },
     "execution_count": 19,
     "metadata": {},
     "output_type": "execute_result"
    }
   ],
   "source": [
    "not True"
   ]
  },
  {
   "cell_type": "code",
   "execution_count": 21,
   "id": "e457e8c3",
   "metadata": {},
   "outputs": [
    {
     "data": {
      "text/plain": [
       "True"
      ]
     },
     "execution_count": 21,
     "metadata": {},
     "output_type": "execute_result"
    }
   ],
   "source": [
    "not False"
   ]
  },
  {
   "cell_type": "code",
   "execution_count": 22,
   "id": "fcbdb09e",
   "metadata": {},
   "outputs": [
    {
     "ename": "NameError",
     "evalue": "name 'true' is not defined",
     "output_type": "error",
     "traceback": [
      "\u001b[1;31m---------------------------------------------------------------------------\u001b[0m",
      "\u001b[1;31mNameError\u001b[0m                                 Traceback (most recent call last)",
      "Cell \u001b[1;32mIn[22], line 1\u001b[0m\n\u001b[1;32m----> 1\u001b[0m \u001b[38;5;129;01mnot\u001b[39;00m true\n",
      "\u001b[1;31mNameError\u001b[0m: name 'true' is not defined"
     ]
    }
   ],
   "source": [
    "not true"
   ]
  },
  {
   "cell_type": "code",
   "execution_count": 23,
   "id": "5f5e6cde",
   "metadata": {},
   "outputs": [
    {
     "ename": "NameError",
     "evalue": "name 'false' is not defined",
     "output_type": "error",
     "traceback": [
      "\u001b[1;31m---------------------------------------------------------------------------\u001b[0m",
      "\u001b[1;31mNameError\u001b[0m                                 Traceback (most recent call last)",
      "Cell \u001b[1;32mIn[23], line 1\u001b[0m\n\u001b[1;32m----> 1\u001b[0m \u001b[38;5;129;01mnot\u001b[39;00m false\n",
      "\u001b[1;31mNameError\u001b[0m: name 'false' is not defined"
     ]
    }
   ],
   "source": [
    "not false"
   ]
  },
  {
   "cell_type": "markdown",
   "id": "fa370901",
   "metadata": {},
   "source": [
    "#### Note\n",
    "Python is case sensetive : It does not support true and false"
   ]
  },
  {
   "cell_type": "code",
   "execution_count": 25,
   "id": "3a42bad2",
   "metadata": {},
   "outputs": [
    {
     "data": {
      "text/plain": [
       "False"
      ]
     },
     "execution_count": 25,
     "metadata": {},
     "output_type": "execute_result"
    }
   ],
   "source": [
    "not True and not False"
   ]
  },
  {
   "cell_type": "code",
   "execution_count": 26,
   "id": "5a568913",
   "metadata": {},
   "outputs": [
    {
     "data": {
      "text/plain": [
       "False"
      ]
     },
     "execution_count": 26,
     "metadata": {},
     "output_type": "execute_result"
    }
   ],
   "source": [
    "not False and not True"
   ]
  },
  {
   "cell_type": "markdown",
   "id": "e6c0de5c",
   "metadata": {},
   "source": [
    "#### AND"
   ]
  },
  {
   "cell_type": "code",
   "execution_count": 27,
   "id": "a093671b",
   "metadata": {},
   "outputs": [
    {
     "data": {
      "text/plain": [
       "False"
      ]
     },
     "execution_count": 27,
     "metadata": {},
     "output_type": "execute_result"
    }
   ],
   "source": [
    "True and False"
   ]
  },
  {
   "cell_type": "code",
   "execution_count": 29,
   "id": "e23d3cea",
   "metadata": {},
   "outputs": [
    {
     "data": {
      "text/plain": [
       "0"
      ]
     },
     "execution_count": 29,
     "metadata": {},
     "output_type": "execute_result"
    }
   ],
   "source": [
    "1 and 0"
   ]
  },
  {
   "cell_type": "markdown",
   "id": "6193a014",
   "metadata": {},
   "source": [
    "#### OR"
   ]
  },
  {
   "cell_type": "code",
   "execution_count": 30,
   "id": "650d8bef",
   "metadata": {},
   "outputs": [
    {
     "data": {
      "text/plain": [
       "True"
      ]
     },
     "execution_count": 30,
     "metadata": {},
     "output_type": "execute_result"
    }
   ],
   "source": [
    "True or False"
   ]
  },
  {
   "cell_type": "code",
   "execution_count": 31,
   "id": "3639c168",
   "metadata": {},
   "outputs": [
    {
     "data": {
      "text/plain": [
       "1"
      ]
     },
     "execution_count": 31,
     "metadata": {},
     "output_type": "execute_result"
    }
   ],
   "source": [
    "1 or 0"
   ]
  },
  {
   "cell_type": "code",
   "execution_count": 32,
   "id": "4431446a",
   "metadata": {},
   "outputs": [
    {
     "data": {
      "text/plain": [
       "0"
      ]
     },
     "execution_count": 32,
     "metadata": {},
     "output_type": "execute_result"
    }
   ],
   "source": [
    "0 or 0"
   ]
  },
  {
   "cell_type": "markdown",
   "id": "f7b79a4b",
   "metadata": {},
   "source": [
    "## 4. Bitwise Operators:\n",
    "\n",
    "1. Bitwise AND (&)\n",
    "2. Bitwise OR (|)\n",
    "3. Bitwise XOR (^)\n",
    "4. Bitwise NOT (~)\n",
    "5. Left shift (<<)\n",
    "6. Right shift (>>)"
   ]
  },
  {
   "cell_type": "markdown",
   "id": "fb0bac84",
   "metadata": {},
   "source": [
    "#### 1. Bitwise AND (&):\n",
    "- Takes two binary numbers and returns a new number where each bit is 1 only if both corresponding bits are 1. Otherwise, the result bit is 0.\n",
    "- Example: **5 & 3** results in **1** because in binary, **101 & 011** gives **001**.\n",
    "\n",
    "#### 2. Bitwise OR (|):\n",
    "\n",
    "-Takes two binary numbers and returns a new number where each bit is 1 if at least one corresponding bit is 1. If both bits are 0, the result bit is 0.\n",
    "-Example: **5 | 3** results in **7** because in binary, **101 | 011** gives **111**.\n",
    "\n",
    "#### 3. Bitwise XOR (^):\n",
    "\n",
    "-Takes two binary numbers and returns a new number where each bit is 1 if the corresponding bits are different (one is 0, and the other is 1). If both bits are the same, the result bit is 0.\n",
    "- Example: **5 ^ 3** results in **6** because in binary, **101 ^ 011** gives **110**.\n",
    "\n",
    "#### 4. Bitwise NOT (~):\n",
    "\n",
    "- Takes a binary number and inverts all its bits. 0s become 1s, and 1s become 0s.\n",
    "- Example: **~5** results in **-6** because in binary, **~101** gives **1010**, which is **-6** in **two's complement**\n",
    "\n",
    "#### 5. Left shift (<<):\n",
    "\n",
    "- Shifts the bits of a binary number to the left by a specified number of positions, effectively multiplying the number by 2 raised to that power.\n",
    "- Example: **5 << 2** results in **20** because it shifts **101** two positions to the left, giving **10100**.\n",
    "\n",
    "#### 6. Right shift (>>):\n",
    "\n",
    "- Shifts the bits of a binary number to the right by a specified number of positions, effectively dividing the number by 2 raised to that power.\n",
    "- Example: **20 >> 2** results in **5** because it shifts **10100** two positions to the right, giving **101**.\n",
    "\n",
    "> These operators are used for low-level bit manipulation and can be handy for tasks like setting or clearing specific bits, encoding and decoding data, and optimizing algorithms when working with binary data."
   ]
  },
  {
   "cell_type": "markdown",
   "id": "6ff73f7f",
   "metadata": {},
   "source": [
    "#### Bitwise AND (&)\n",
    "###### 10 & 4\n",
    "- 1 & 0 = 0\n",
    "- 0 & 1 = 0\n",
    "- 1 & 0 = 0\n",
    "- 0 & 0 = 0\n",
    "- i.e. 0000 = 0"
   ]
  },
  {
   "cell_type": "code",
   "execution_count": 33,
   "id": "4d339795",
   "metadata": {},
   "outputs": [
    {
     "data": {
      "text/plain": [
       "0"
      ]
     },
     "execution_count": 33,
     "metadata": {},
     "output_type": "execute_result"
    }
   ],
   "source": [
    "10 & 4"
   ]
  },
  {
   "cell_type": "code",
   "execution_count": 34,
   "id": "48ee8e39",
   "metadata": {},
   "outputs": [
    {
     "data": {
      "text/plain": [
       "'0b1010'"
      ]
     },
     "execution_count": 34,
     "metadata": {},
     "output_type": "execute_result"
    }
   ],
   "source": [
    "bin(10)"
   ]
  },
  {
   "cell_type": "code",
   "execution_count": 35,
   "id": "cf846395",
   "metadata": {},
   "outputs": [
    {
     "data": {
      "text/plain": [
       "'0b100'"
      ]
     },
     "execution_count": 35,
     "metadata": {},
     "output_type": "execute_result"
    }
   ],
   "source": [
    "bin(4)"
   ]
  },
  {
   "cell_type": "code",
   "execution_count": 37,
   "id": "a32a3830",
   "metadata": {},
   "outputs": [
    {
     "data": {
      "text/plain": [
       "0"
      ]
     },
     "execution_count": 37,
     "metadata": {},
     "output_type": "execute_result"
    }
   ],
   "source": [
    "0b1010 & 0b100"
   ]
  },
  {
   "cell_type": "code",
   "execution_count": 1,
   "id": "1ea0ea0e",
   "metadata": {},
   "outputs": [
    {
     "data": {
      "text/plain": [
       "20"
      ]
     },
     "execution_count": 1,
     "metadata": {},
     "output_type": "execute_result"
    }
   ],
   "source": [
    "23 & 20 "
   ]
  },
  {
   "cell_type": "code",
   "execution_count": 2,
   "id": "c5e8be78",
   "metadata": {},
   "outputs": [
    {
     "data": {
      "text/plain": [
       "'0b10111'"
      ]
     },
     "execution_count": 2,
     "metadata": {},
     "output_type": "execute_result"
    }
   ],
   "source": [
    "bin(23)"
   ]
  },
  {
   "cell_type": "code",
   "execution_count": 3,
   "id": "4f173655",
   "metadata": {},
   "outputs": [
    {
     "data": {
      "text/plain": [
       "'0b10100'"
      ]
     },
     "execution_count": 3,
     "metadata": {},
     "output_type": "execute_result"
    }
   ],
   "source": [
    "bin(20)"
   ]
  },
  {
   "cell_type": "code",
   "execution_count": 4,
   "id": "4d012ec5",
   "metadata": {},
   "outputs": [
    {
     "data": {
      "text/plain": [
       "20"
      ]
     },
     "execution_count": 4,
     "metadata": {},
     "output_type": "execute_result"
    }
   ],
   "source": [
    "0b10111 & 0b10100"
   ]
  },
  {
   "cell_type": "markdown",
   "id": "2068d170",
   "metadata": {},
   "source": [
    "#### Bitwise AND (&)\n",
    "###### 23 & 20\n",
    "- 1 & 1 = 1\n",
    "- 0 & 0 = 0\n",
    "- 1 & 1 = 1\n",
    "- 1 & 0 = 0\n",
    "- 1 & 0 = 0\n",
    "- i.e. 10100 = 16+4 = 20"
   ]
  },
  {
   "cell_type": "code",
   "execution_count": 5,
   "id": "6ac5caff",
   "metadata": {},
   "outputs": [
    {
     "data": {
      "text/plain": [
       "15"
      ]
     },
     "execution_count": 5,
     "metadata": {},
     "output_type": "execute_result"
    }
   ],
   "source": [
    "11 | 6"
   ]
  },
  {
   "cell_type": "markdown",
   "id": "34231182",
   "metadata": {},
   "source": [
    "#### Bitwise OR (|)\n",
    "###### 11 | 6\n",
    "- 1 | 0 = 1\n",
    "- 0 | 1 = 1\n",
    "- 1 | 1 = 1\n",
    "- 1 | 0 = 1\n",
    "- i.e 8+4+2+1 = 15"
   ]
  },
  {
   "cell_type": "markdown",
   "id": "cfaae243",
   "metadata": {},
   "source": [
    "### Bitwise NOT (~)"
   ]
  },
  {
   "cell_type": "markdown",
   "id": "049289d7",
   "metadata": {},
   "source": [
    "#### 4. Bitwise NOT (~):\n",
    "\n",
    "- Takes a binary number and inverts all its bits. 0s become 1s, and 1s become 0s.\n",
    "- Example: **~5** results in **-6** because in binary, **~101** gives **1010**, which is **-6** in **two's complement**"
   ]
  },
  {
   "cell_type": "markdown",
   "id": "d8f4c32f",
   "metadata": {},
   "source": [
    "###### -6\n",
    "- 6 = 110\n",
    "- 1001 in one's complement\n",
    "- 1010 in two's complement\n",
    "- because 1 means -ve and 0 means +ve in LSB"
   ]
  },
  {
   "cell_type": "code",
   "execution_count": 1,
   "id": "ee8e6964",
   "metadata": {},
   "outputs": [
    {
     "data": {
      "text/plain": [
       "-13"
      ]
     },
     "execution_count": 1,
     "metadata": {},
     "output_type": "execute_result"
    }
   ],
   "source": [
    "~12"
   ]
  },
  {
   "cell_type": "code",
   "execution_count": 2,
   "id": "2aaad731",
   "metadata": {},
   "outputs": [
    {
     "data": {
      "text/plain": [
       "'0b1100'"
      ]
     },
     "execution_count": 2,
     "metadata": {},
     "output_type": "execute_result"
    }
   ],
   "source": [
    "bin(12)"
   ]
  },
  {
   "cell_type": "code",
   "execution_count": 4,
   "id": "309a880b",
   "metadata": {},
   "outputs": [
    {
     "data": {
      "text/plain": [
       "'-0b1101'"
      ]
     },
     "execution_count": 4,
     "metadata": {},
     "output_type": "execute_result"
    }
   ],
   "source": [
    "bin(-13)"
   ]
  },
  {
   "cell_type": "code",
   "execution_count": 1,
   "id": "f3bf21c1",
   "metadata": {},
   "outputs": [
    {
     "data": {
      "text/plain": [
       "'0b1101'"
      ]
     },
     "execution_count": 1,
     "metadata": {},
     "output_type": "execute_result"
    }
   ],
   "source": [
    "bin(13)"
   ]
  },
  {
   "cell_type": "code",
   "execution_count": 5,
   "id": "6b25ad45",
   "metadata": {},
   "outputs": [
    {
     "data": {
      "text/plain": [
       "-6"
      ]
     },
     "execution_count": 5,
     "metadata": {},
     "output_type": "execute_result"
    }
   ],
   "source": [
    "~5"
   ]
  },
  {
   "cell_type": "code",
   "execution_count": 4,
   "id": "3e2a4628",
   "metadata": {},
   "outputs": [
    {
     "data": {
      "text/plain": [
       "9"
      ]
     },
     "execution_count": 4,
     "metadata": {},
     "output_type": "execute_result"
    }
   ],
   "source": [
    "~-10"
   ]
  },
  {
   "cell_type": "code",
   "execution_count": 5,
   "id": "264bfe4f",
   "metadata": {},
   "outputs": [
    {
     "data": {
      "text/plain": [
       "-11"
      ]
     },
     "execution_count": 5,
     "metadata": {},
     "output_type": "execute_result"
    }
   ],
   "source": [
    "~10"
   ]
  },
  {
   "cell_type": "code",
   "execution_count": 1,
   "id": "fba6843a",
   "metadata": {},
   "outputs": [
    {
     "data": {
      "text/plain": [
       "5"
      ]
     },
     "execution_count": 1,
     "metadata": {},
     "output_type": "execute_result"
    }
   ],
   "source": [
    "~-6"
   ]
  },
  {
   "cell_type": "code",
   "execution_count": 2,
   "id": "5dd0dcd8",
   "metadata": {},
   "outputs": [
    {
     "data": {
      "text/plain": [
       "7"
      ]
     },
     "execution_count": 2,
     "metadata": {},
     "output_type": "execute_result"
    }
   ],
   "source": [
    "~-8"
   ]
  },
  {
   "cell_type": "code",
   "execution_count": 6,
   "id": "fed3c7f2",
   "metadata": {},
   "outputs": [
    {
     "data": {
      "text/plain": [
       "'0b101'"
      ]
     },
     "execution_count": 6,
     "metadata": {},
     "output_type": "execute_result"
    }
   ],
   "source": [
    "bin(5)"
   ]
  },
  {
   "cell_type": "code",
   "execution_count": 8,
   "id": "f3f6234a",
   "metadata": {},
   "outputs": [
    {
     "data": {
      "text/plain": [
       "'-0b110'"
      ]
     },
     "execution_count": 8,
     "metadata": {},
     "output_type": "execute_result"
    }
   ],
   "source": [
    "bin(-6)"
   ]
  },
  {
   "cell_type": "markdown",
   "id": "bdda33a5",
   "metadata": {},
   "source": [
    "#### Bitwise NOT (~)\n",
    "###### ~12\n",
    "- Step 1. ~(1100) = 0011  # 1's complement\n",
    "- Step 2 (0011 + 1) = "
   ]
  },
  {
   "cell_type": "code",
   "execution_count": 10,
   "id": "1f149d6f",
   "metadata": {},
   "outputs": [
    {
     "data": {
      "text/plain": [
       "-14"
      ]
     },
     "execution_count": 10,
     "metadata": {},
     "output_type": "execute_result"
    }
   ],
   "source": [
    "~13"
   ]
  },
  {
   "cell_type": "code",
   "execution_count": 1,
   "id": "6802c355",
   "metadata": {},
   "outputs": [
    {
     "data": {
      "text/plain": [
       "-21"
      ]
     },
     "execution_count": 1,
     "metadata": {},
     "output_type": "execute_result"
    }
   ],
   "source": [
    "~20"
   ]
  },
  {
   "cell_type": "code",
   "execution_count": 2,
   "id": "3b26dc62",
   "metadata": {},
   "outputs": [
    {
     "data": {
      "text/plain": [
       "'0b10100'"
      ]
     },
     "execution_count": 2,
     "metadata": {},
     "output_type": "execute_result"
    }
   ],
   "source": [
    "bin(20)"
   ]
  },
  {
   "cell_type": "code",
   "execution_count": 3,
   "id": "f845c882",
   "metadata": {},
   "outputs": [
    {
     "data": {
      "text/plain": [
       "'-0b10101'"
      ]
     },
     "execution_count": 3,
     "metadata": {},
     "output_type": "execute_result"
    }
   ],
   "source": [
    "bin(-21)"
   ]
  },
  {
   "cell_type": "markdown",
   "id": "dedd6758",
   "metadata": {},
   "source": [
    "#### 5. Right shift (>>)\n",
    "- Shifts the bits of a binary number to the right by a specified number of positions, effectively dividing the number by 2 raised to that power.\n",
    "- Example: **20 >> 2** results in **5** because it shifts **10100** two positions to the right, giving **101**."
   ]
  },
  {
   "cell_type": "code",
   "execution_count": 8,
   "id": "53663674",
   "metadata": {},
   "outputs": [],
   "source": [
    "a = 8"
   ]
  },
  {
   "cell_type": "code",
   "execution_count": 9,
   "id": "b50840ce",
   "metadata": {},
   "outputs": [
    {
     "data": {
      "text/plain": [
       "'0b1000'"
      ]
     },
     "execution_count": 9,
     "metadata": {},
     "output_type": "execute_result"
    }
   ],
   "source": [
    "bin(a)"
   ]
  },
  {
   "cell_type": "code",
   "execution_count": 5,
   "id": "f9e8adac",
   "metadata": {},
   "outputs": [
    {
     "data": {
      "text/plain": [
       "2"
      ]
     },
     "execution_count": 5,
     "metadata": {},
     "output_type": "execute_result"
    }
   ],
   "source": [
    "a >> 2"
   ]
  },
  {
   "cell_type": "code",
   "execution_count": 6,
   "id": "fbcb1ee4",
   "metadata": {},
   "outputs": [
    {
     "data": {
      "text/plain": [
       "1"
      ]
     },
     "execution_count": 6,
     "metadata": {},
     "output_type": "execute_result"
    }
   ],
   "source": [
    "a >> 3"
   ]
  },
  {
   "cell_type": "code",
   "execution_count": 7,
   "id": "ac82e55b",
   "metadata": {},
   "outputs": [
    {
     "data": {
      "text/plain": [
       "0"
      ]
     },
     "execution_count": 7,
     "metadata": {},
     "output_type": "execute_result"
    }
   ],
   "source": [
    "a >> 4"
   ]
  },
  {
   "cell_type": "markdown",
   "id": "8b9e69ac",
   "metadata": {},
   "source": [
    "- a >> 2\n",
    "- 1000 = 10\n",
    "\n",
    "- a >> 3\n",
    "- 1000 = 1\n",
    "\n",
    "- a >> 4\n",
    "- 10000 = 0"
   ]
  },
  {
   "cell_type": "markdown",
   "id": "e4fdf1f9",
   "metadata": {},
   "source": [
    "#### 5. Left shift (<<):\n",
    "\n",
    "- Shifts the bits of a binary number to the left by a specified number of positions, effectively multiplying the number by 2 raised to that power.\n",
    "- Example: **5 << 2** results in **20** because it shifts **101** two positions to the left, giving **10100**."
   ]
  },
  {
   "cell_type": "code",
   "execution_count": 10,
   "id": "b4f94f41",
   "metadata": {},
   "outputs": [],
   "source": [
    "b = 20"
   ]
  },
  {
   "cell_type": "code",
   "execution_count": 11,
   "id": "16dba05a",
   "metadata": {},
   "outputs": [
    {
     "data": {
      "text/plain": [
       "'0b10100'"
      ]
     },
     "execution_count": 11,
     "metadata": {},
     "output_type": "execute_result"
    }
   ],
   "source": [
    "bin (20)"
   ]
  },
  {
   "cell_type": "code",
   "execution_count": 13,
   "id": "30117fd5",
   "metadata": {},
   "outputs": [
    {
     "data": {
      "text/plain": [
       "80"
      ]
     },
     "execution_count": 13,
     "metadata": {},
     "output_type": "execute_result"
    }
   ],
   "source": [
    "b << 2"
   ]
  },
  {
   "cell_type": "code",
   "execution_count": 14,
   "id": "f62ef1f8",
   "metadata": {},
   "outputs": [
    {
     "data": {
      "text/plain": [
       "'0b1010000'"
      ]
     },
     "execution_count": 14,
     "metadata": {},
     "output_type": "execute_result"
    }
   ],
   "source": [
    "bin(80)"
   ]
  },
  {
   "cell_type": "code",
   "execution_count": 15,
   "id": "b3975232",
   "metadata": {},
   "outputs": [
    {
     "data": {
      "text/plain": [
       "160"
      ]
     },
     "execution_count": 15,
     "metadata": {},
     "output_type": "execute_result"
    }
   ],
   "source": [
    "b << 3"
   ]
  },
  {
   "cell_type": "code",
   "execution_count": 16,
   "id": "c72e901d",
   "metadata": {},
   "outputs": [
    {
     "data": {
      "text/plain": [
       "'0b10100000'"
      ]
     },
     "execution_count": 16,
     "metadata": {},
     "output_type": "execute_result"
    }
   ],
   "source": [
    "bin(160)"
   ]
  },
  {
   "cell_type": "markdown",
   "id": "66e754ed",
   "metadata": {},
   "source": [
    "- b = 10100\n",
    "- b<<2 = 1010000\n",
    "- b<<3 = 10100000\n",
    "- b<<4 - 101000000"
   ]
  },
  {
   "cell_type": "markdown",
   "id": "a1413474",
   "metadata": {},
   "source": [
    "## 5. Assignment Operators:\n",
    "\n",
    "1. Assignment (=)\n",
    "2. Addition assignment (+=)\n",
    "3. Subtraction assignment (-=)\n",
    "4. Multiplication assignment (*=)\n",
    "5. Division assignment (/=)\n",
    "6. Floor Division assignment (//=)\n",
    "7. Modulus assignment (%=)\n",
    "8. Exponentiation assignment (**=)"
   ]
  },
  {
   "cell_type": "code",
   "execution_count": 23,
   "id": "cd56fb83",
   "metadata": {},
   "outputs": [],
   "source": [
    "a=10"
   ]
  },
  {
   "cell_type": "code",
   "execution_count": 31,
   "id": "583d463f",
   "metadata": {},
   "outputs": [],
   "source": [
    "a+=1"
   ]
  },
  {
   "cell_type": "code",
   "execution_count": 27,
   "id": "a67525d4",
   "metadata": {},
   "outputs": [],
   "source": [
    " a-=1"
   ]
  },
  {
   "cell_type": "code",
   "execution_count": 28,
   "id": "afeccbb8",
   "metadata": {},
   "outputs": [],
   "source": [
    "a = a+1"
   ]
  },
  {
   "cell_type": "markdown",
   "id": "bd914293",
   "metadata": {},
   "source": [
    "Operators in Python can be categorized into several types based on their functions and operations. Here's a comprehensive list of the types of operators in Python:\n",
    "\n",
    "# 1. Arithmetic Operators:\n",
    "\n",
    "1. Addition (+)\n",
    "2. Subtraction (-)\n",
    "3. Multiplication (*)\n",
    "4. Division (/)\n",
    "5. Floor Division (//)\n",
    "6. Modulus (%)\n",
    "7. Exponentiation (**)\n",
    "\n",
    "# 2. Comparison Operators (Relational Operators):\n",
    "\n",
    "1. Equal to (==)\n",
    "2. Not equal to (!=)\n",
    "3. Greater than (>)\n",
    "4. Less than (<)\n",
    "5. Greater than or equal to (>=)\n",
    "6. Less than or equal to (<=)\n",
    "\n",
    "# 3. Logical Operators:\n",
    "\n",
    "1. Logical AND (and)\n",
    "2. Logical OR (or)\n",
    "3. Logical NOT (not)\n",
    "\n",
    "# 4. Assignment Operators:\n",
    "\n",
    "1. Assignment (=)\n",
    "2. Addition assignment (+=)\n",
    "3. Subtraction assignment (-=)\n",
    "4. Multiplication assignment (*=)\n",
    "5. Division assignment (/=)\n",
    "6. Floor Division assignment (//=)\n",
    "7. Modulus assignment (%=)\n",
    "8. Exponentiation assignment (**=)\n",
    "\n",
    "# 5. Bitwise Operators:\n",
    "\n",
    "1. Bitwise AND (&)\n",
    "2. Bitwise OR (|)\n",
    "3. Bitwise XOR (^)\n",
    "4. Bitwise NOT (~)\n",
    "5. Left shift (<<)\n",
    "6. Right shift (>>)\n",
    "\n",
    "# 6. Membership Operators:\n",
    "\n",
    "1. Membership test (in)\n",
    "2. Membership test (not in)\n",
    "\n",
    "# 7. Identity Operators:\n",
    "\n",
    "1. Identity test (is)\n",
    "2. Identity test (is not)\n",
    "\n",
    "# 8. Ternary Conditional Operator:\n",
    "\n",
    "1. Conditional expression (x if condition else y)\n",
    "\n",
    "# 9. Bitwise Operators (Advanced):\n",
    "\n",
    "1. Bitwise AND assignment: &=\n",
    "2. Bitwise OR assignment: |=\n",
    "3. Bitwise XOR assignment: ^=\n",
    "4. Left shift assignment: <<=\n",
    "5. Right shift assignment: >>="
   ]
  },
  {
   "cell_type": "markdown",
   "id": "3dee3883",
   "metadata": {},
   "source": [
    "# Note"
   ]
  },
  {
   "cell_type": "markdown",
   "id": "11e5ae8e",
   "metadata": {},
   "source": [
    "Python does not have built-in increment (++) and decrement (--) operators like some other programming languages (e.g., C, C++, Java). In Python, you typically use assignment operators to increment or decrement variables. Here's how you can achieve this in Python:\n",
    "\n",
    "# Incrementing a variable:\n",
    "- x = 5\n",
    "- **'x += 1'**  # Increment x by 1\n",
    "- print(x)  # Output: 6\n",
    "# Decrementing a variable:\n",
    "- y = 10\n",
    "- **'y -= 1'**  # Decrement y by 1\n",
    "- print(y)  # Output: 9"
   ]
  },
  {
   "cell_type": "markdown",
   "id": "56d0147b",
   "metadata": {},
   "source": [
    "In Python, the '+=' operator is used to increment a variable, and the '-=' operator is used to decrement a variable. These operators are more explicit and avoid potential confusion that can arise from the use of '++' and '--' in some other programming languages."
   ]
  }
 ],
 "metadata": {
  "kernelspec": {
   "display_name": "Python 3 (ipykernel)",
   "language": "python",
   "name": "python3"
  },
  "language_info": {
   "codemirror_mode": {
    "name": "ipython",
    "version": 3
   },
   "file_extension": ".py",
   "mimetype": "text/x-python",
   "name": "python",
   "nbconvert_exporter": "python",
   "pygments_lexer": "ipython3",
   "version": "3.11.4"
  }
 },
 "nbformat": 4,
 "nbformat_minor": 5
}
