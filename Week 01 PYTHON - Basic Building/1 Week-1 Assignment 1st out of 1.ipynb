{
 "cells": [
  {
   "cell_type": "markdown",
   "id": "529663b6",
   "metadata": {},
   "source": [
    "# Assignment 1\n",
    "## Week - 1"
   ]
  },
  {
   "cell_type": "markdown",
   "id": "daf84077",
   "metadata": {},
   "source": [
    "## 1. Create one variable containing following type of data:\n",
    "- (i) string\n",
    "- (ii) list\n",
    "- (iii) float\n",
    "- (iv) tuple\n",
    "### Ans:"
   ]
  },
  {
   "cell_type": "code",
   "execution_count": 1,
   "id": "7e8f0290",
   "metadata": {},
   "outputs": [
    {
     "name": "stdout",
     "output_type": "stream",
     "text": [
      "String: This is a string\n",
      "List: [1, 2, 3, 4]\n",
      "Float: 3.14\n",
      "Tuple: (5, 6, 7)\n"
     ]
    }
   ],
   "source": [
    "# Variable containing a string, list, float, and tuple\n",
    "data = (\"This is a string\", [1, 2, 3, 4], 3.14, (5, 6, 7))\n",
    "\n",
    "# Accessing each element\n",
    "print(\"String:\", data[0])  # Accessing string\n",
    "print(\"List:\", data[1])    # Accessing list\n",
    "print(\"Float:\", data[2])   # Accessing float\n",
    "print(\"Tuple:\", data[3])   # Accessing tuple"
   ]
  },
  {
   "cell_type": "markdown",
   "id": "c40d34bc",
   "metadata": {},
   "source": [
    "###### (i) string"
   ]
  },
  {
   "cell_type": "markdown",
   "id": "48675ce7",
   "metadata": {},
   "source": [
    "## 2. Given are some following variables containing data:\n",
    "- (i) var1 = ‘ ‘\n",
    "- (ii) var2 = ‘[ DS , ML , Python]’\n",
    "- (iii) var3 = [ ‘DS’ , ’ML’ , ‘Python’ ]\n",
    "- (iv) var4 = 1.\n",
    "- What will be the data type of the above given variable.\n",
    "### Ans:"
   ]
  },
  {
   "cell_type": "code",
   "execution_count": 12,
   "id": "fe73bba6",
   "metadata": {},
   "outputs": [
    {
     "name": "stdout",
     "output_type": "stream",
     "text": [
      "<class 'str'>\n",
      "<class 'str'>\n",
      "<class 'list'>\n",
      "<class 'float'>\n"
     ]
    }
   ],
   "source": [
    "var1 = ' '                      # A string containing a space\n",
    "var2 = '[ DS , ML , Python]'    # A string representing a list\n",
    "var3 = ['DS', 'ML', 'Python']    # A list containing strings\n",
    "var4 = 1.                        # A float\n",
    "\n",
    "print(type(var1)) \n",
    "print(type(var2)) \n",
    "print(type(var3)) \n",
    "print(type(var4))  \n"
   ]
  },
  {
   "cell_type": "markdown",
   "id": "6b4d3174",
   "metadata": {},
   "source": [
    "## 3. Explain the use of the following operators using an example:\n",
    "- (i) /\n",
    "- (ii) %\n",
    "- (iii) //\n",
    "- (iv) **"
   ]
  },
  {
   "cell_type": "markdown",
   "id": "7d420db7",
   "metadata": {},
   "source": [
    "#### Ans:\n",
    "- `/` : performs division. Returns the quotient as a float.\n",
    "- `%` : Returns the remainder of the division.\n",
    "- `//` : Returns the largest integer less than or equal to the quotient (floor division).\n",
    "- `**` : Raises a number to the power of another number."
   ]
  },
  {
   "cell_type": "code",
   "execution_count": 13,
   "id": "46117fa3",
   "metadata": {},
   "outputs": [
    {
     "name": "stdout",
     "output_type": "stream",
     "text": [
      "Division: 10 / 3 = 3.3333333333333335\n",
      "Modulus: 10 % 3 = 1\n",
      "Floor Division: 10 // 3 = 3\n",
      "Exponentiation: 2 ** 3 = 8\n"
     ]
    }
   ],
   "source": [
    "# Variables\n",
    "a = 10\n",
    "b = 3\n",
    "\n",
    "# (i) Division Operator (/)\n",
    "division_result = a / b\n",
    "print(f\"Division: {a} / {b} = {division_result}\")  # Output: 3.3333333333333335\n",
    "\n",
    "# (ii) Modulus Operator (%)\n",
    "modulus_result = a % b\n",
    "print(f\"Modulus: {a} % {b} = {modulus_result}\")    # Output: 1\n",
    "\n",
    "# (iii) Floor Division Operator (//)\n",
    "floor_division_result = a // b\n",
    "print(f\"Floor Division: {a} // {b} = {floor_division_result}\")  # Output: 3\n",
    "\n",
    "# (iv) Exponentiation Operator (**)\n",
    "exponentiation_result = 2 ** 3  # Example using different variables\n",
    "print(f\"Exponentiation: 2 ** 3 = {exponentiation_result}\")  # Output: 8\n"
   ]
  },
  {
   "cell_type": "markdown",
   "id": "3979fb1b",
   "metadata": {},
   "source": [
    "## 4. Create a list of length 10 of your choice containing multiple types of data. Using for loop print the element and its data type."
   ]
  },
  {
   "cell_type": "code",
   "execution_count": 6,
   "id": "4392ac11",
   "metadata": {},
   "outputs": [
    {
     "name": "stdout",
     "output_type": "stream",
     "text": [
      "Element: 42, Data Type: <class 'int'>\n",
      "Element: 3.14, Data Type: <class 'float'>\n",
      "Element: Hello, World!, Data Type: <class 'str'>\n",
      "Element: True, Data Type: <class 'bool'>\n",
      "Element: None, Data Type: <class 'NoneType'>\n",
      "Element: [1, 2, 3], Data Type: <class 'list'>\n",
      "Element: (4, 5), Data Type: <class 'tuple'>\n",
      "Element: {'key': 'value'}, Data Type: <class 'dict'>\n",
      "Element: (1+2j), Data Type: <class 'complex'>\n",
      "Element: bytearray(b'hello'), Data Type: <class 'bytearray'>\n"
     ]
    }
   ],
   "source": [
    "data_list = [42, 3.14, \"Hello, World!\", True, None, [1, 2, 3], (4, 5), {'key': 'value'}, complex(1, 2), bytearray(b'hello')]\n",
    "for element in data_list:\n",
    "    print(f\"Element: {element}, Data Type: {type(element)}\")\n"
   ]
  },
  {
   "cell_type": "markdown",
   "id": "164a6c64",
   "metadata": {},
   "source": [
    "## 5. Using a while loop, verify if the number A is purely divisible by number B and if so then how many times it can be divisible."
   ]
  },
  {
   "cell_type": "code",
   "execution_count": 41,
   "id": "cb580ee7",
   "metadata": {},
   "outputs": [
    {
     "name": "stdout",
     "output_type": "stream",
     "text": [
      "27\n",
      "3\n",
      "Entered number A: 27\n",
      "Entered number B: 3\n",
      "Yes, 'A' is divisible by 'B' 9 times\n"
     ]
    }
   ],
   "source": [
    "A = int(input())\n",
    "B = int(input())\n",
    "print(\"Entered number A:\",A)\n",
    "print(\"Entered number B:\",B)\n",
    "while A%B==0:\n",
    "    print(\"Yes, 'A' is divisible by 'B'\", A//B, \"times\")\n",
    "    break\n",
    "else:\n",
    "    print(\"No, 'A' is not divisible by 'B'\")"
   ]
  },
  {
   "cell_type": "markdown",
   "id": "e1480196",
   "metadata": {},
   "source": [
    "## 6. Create a list containing 25 int type data. Using for loop and if-else condition print if the element is divisible by 3 or not."
   ]
  },
  {
   "cell_type": "code",
   "execution_count": 1,
   "id": "9b80a252",
   "metadata": {},
   "outputs": [
    {
     "name": "stdout",
     "output_type": "stream",
     "text": [
      "1 is not divisible by 3\n",
      "2 is not divisible by 3\n",
      "3 is divisible by3\n",
      "4 is not divisible by 3\n",
      "5 is not divisible by 3\n",
      "6 is divisible by3\n",
      "7 is not divisible by 3\n",
      "8 is not divisible by 3\n",
      "9 is divisible by3\n",
      "10 is not divisible by 3\n",
      "11 is not divisible by 3\n",
      "12 is divisible by3\n",
      "13 is not divisible by 3\n",
      "14 is not divisible by 3\n",
      "15 is divisible by3\n",
      "16 is not divisible by 3\n",
      "17 is not divisible by 3\n",
      "18 is divisible by3\n",
      "19 is not divisible by 3\n",
      "20 is not divisible by 3\n",
      "21 is divisible by3\n",
      "22 is not divisible by 3\n",
      "23 is not divisible by 3\n",
      "24 is divisible by3\n",
      "25 is not divisible by 3\n"
     ]
    }
   ],
   "source": [
    "# l = []\n",
    "# for i in range(25):\n",
    "#     l.append(i)\n",
    "# for i in l:\n",
    "#     if i % 3 == 0:\n",
    "#         print(i, \"is divisible by 3.\")\n",
    "#     else:\n",
    "#         print(i, \"is not divisible by 3.\")\n",
    "\n",
    "\n",
    "l = [1,2,3,4,5,6,7,8,9,10,11,12,13,14,15,16,17,18,19,20,21,22,23,24,25]\n",
    "for i in l:\n",
    "    if i%3==0:\n",
    "        print(i,\"is divisible by3\")\n",
    "    else:\n",
    "        print(i,\"is not divisible by 3\")"
   ]
  },
  {
   "cell_type": "markdown",
   "id": "28e8f2d7",
   "metadata": {},
   "source": [
    "## 7. What do you understand about mutable and immutable data types? Give examples for both showing this property.\n",
    "### Ans:"
   ]
  },
  {
   "cell_type": "markdown",
   "id": "0621b655",
   "metadata": {},
   "source": [
    "#### Mutable Objects:\n",
    "Mutable objects are objects whose state can be modified after creation. When we modify a mutable object, we are actually changing its contents in memory. \n",
    "- **Common examples of mutable objects in Python include:**\n",
    "\n",
    "1. Lists\n",
    "2. Dictionaries\n",
    "3. Sets\n",
    "4. User-defined classes (if designed to be mutable\n",
    "- **Note**: When we modify these objects (e.g., add or remove elements in a list), the original object's content is changed, and any references to that object will reflect the changes.\n",
    "#### Immutable Objects:\n",
    "Objects whose state cannot be modified after creation. Any operation that appears to \"modify\" an immutable object actually creates a new object with the modified state. \n",
    "- **Common examples of immutable objects in Python include:**\n",
    "\n",
    "1. Integers\n",
    "2. Floats\n",
    "3. Strings\n",
    "4. Tuples\n",
    "5. Booleans (True and False are immutable)\n",
    "- **Note**: If we try to modify an immutable object, a new object is created, and the original object remains unchanged."
   ]
  },
  {
   "cell_type": "markdown",
   "id": "591cd55d",
   "metadata": {},
   "source": [
    "**Example Mutable**"
   ]
  },
  {
   "cell_type": "code",
   "execution_count": 44,
   "id": "e9a496d2",
   "metadata": {},
   "outputs": [],
   "source": [
    "u = ['shreya', 2,3,4,5, (2j+11), 24.11, False ]"
   ]
  },
  {
   "cell_type": "code",
   "execution_count": 45,
   "id": "8cc4cb75",
   "metadata": {},
   "outputs": [
    {
     "data": {
      "text/plain": [
       "list"
      ]
     },
     "execution_count": 45,
     "metadata": {},
     "output_type": "execute_result"
    }
   ],
   "source": [
    "type(u)"
   ]
  },
  {
   "cell_type": "code",
   "execution_count": 46,
   "id": "cfae19cf",
   "metadata": {},
   "outputs": [],
   "source": [
    "u[0]=2"
   ]
  },
  {
   "cell_type": "code",
   "execution_count": 47,
   "id": "b1c3e028",
   "metadata": {},
   "outputs": [
    {
     "data": {
      "text/plain": [
       "[2, 2, 3, 4, 5, (11+2j), 24.11, False]"
      ]
     },
     "execution_count": 47,
     "metadata": {},
     "output_type": "execute_result"
    }
   ],
   "source": [
    "u"
   ]
  },
  {
   "cell_type": "code",
   "execution_count": 48,
   "id": "b49bab22",
   "metadata": {},
   "outputs": [],
   "source": [
    "u[0]=8"
   ]
  },
  {
   "cell_type": "code",
   "execution_count": 49,
   "id": "f0b02770",
   "metadata": {},
   "outputs": [
    {
     "data": {
      "text/plain": [
       "[8, 2, 3, 4, 5, (11+2j), 24.11, False]"
      ]
     },
     "execution_count": 49,
     "metadata": {},
     "output_type": "execute_result"
    }
   ],
   "source": [
    "u"
   ]
  },
  {
   "cell_type": "code",
   "execution_count": 50,
   "id": "1bb01c71",
   "metadata": {},
   "outputs": [],
   "source": [
    "u[0]='Cool'"
   ]
  },
  {
   "cell_type": "code",
   "execution_count": 51,
   "id": "3628be1d",
   "metadata": {},
   "outputs": [
    {
     "data": {
      "text/plain": [
       "['Cool', 2, 3, 4, 5, (11+2j), 24.11, False]"
      ]
     },
     "execution_count": 51,
     "metadata": {},
     "output_type": "execute_result"
    }
   ],
   "source": [
    "u"
   ]
  },
  {
   "cell_type": "code",
   "execution_count": 52,
   "id": "b93ac432",
   "metadata": {},
   "outputs": [],
   "source": [
    "u[3]=50"
   ]
  },
  {
   "cell_type": "code",
   "execution_count": 53,
   "id": "78b3ed9a",
   "metadata": {},
   "outputs": [
    {
     "data": {
      "text/plain": [
       "['Cool', 2, 3, 50, 5, (11+2j), 24.11, False]"
      ]
     },
     "execution_count": 53,
     "metadata": {},
     "output_type": "execute_result"
    }
   ],
   "source": [
    "u"
   ]
  },
  {
   "cell_type": "code",
   "execution_count": 54,
   "id": "e9684832",
   "metadata": {},
   "outputs": [],
   "source": [
    "u[5]='Learner'"
   ]
  },
  {
   "cell_type": "code",
   "execution_count": 55,
   "id": "f6f2b967",
   "metadata": {},
   "outputs": [
    {
     "data": {
      "text/plain": [
       "['Cool', 2, 3, 50, 5, 'Learner', 24.11, False]"
      ]
     },
     "execution_count": 55,
     "metadata": {},
     "output_type": "execute_result"
    }
   ],
   "source": [
    "u"
   ]
  },
  {
   "cell_type": "code",
   "execution_count": 56,
   "id": "4699ff2b",
   "metadata": {},
   "outputs": [],
   "source": [
    "u[-1]='25'"
   ]
  },
  {
   "cell_type": "code",
   "execution_count": 57,
   "id": "deecb180",
   "metadata": {},
   "outputs": [
    {
     "data": {
      "text/plain": [
       "['Cool', 2, 3, 50, 5, 'Learner', 24.11, '25']"
      ]
     },
     "execution_count": 57,
     "metadata": {},
     "output_type": "execute_result"
    }
   ],
   "source": [
    "u"
   ]
  },
  {
   "cell_type": "markdown",
   "id": "be0b927e",
   "metadata": {},
   "source": [
    "**Example Immutable**"
   ]
  },
  {
   "cell_type": "code",
   "execution_count": 3,
   "id": "a096c5de",
   "metadata": {},
   "outputs": [],
   "source": [
    "text = \"Hello\"\n",
    "new_text = text + \", World\"  # Creates a new string, \"Hello, World\""
   ]
  },
  {
   "cell_type": "code",
   "execution_count": 4,
   "id": "2ae1467f",
   "metadata": {},
   "outputs": [
    {
     "data": {
      "text/plain": [
       "'Hello, World'"
      ]
     },
     "execution_count": 4,
     "metadata": {},
     "output_type": "execute_result"
    }
   ],
   "source": [
    "new_text"
   ]
  },
  {
   "cell_type": "code",
   "execution_count": 5,
   "id": "4b34fd1a",
   "metadata": {},
   "outputs": [
    {
     "data": {
      "text/plain": [
       "'Hello'"
      ]
     },
     "execution_count": 5,
     "metadata": {},
     "output_type": "execute_result"
    }
   ],
   "source": [
    "text"
   ]
  },
  {
   "cell_type": "code",
   "execution_count": 6,
   "id": "65f7f663",
   "metadata": {},
   "outputs": [],
   "source": [
    "x = 5\n",
    "y = x  # y now holds the value 5\n",
    "x = 10  # x now holds the value 10, but y remains 5"
   ]
  },
  {
   "cell_type": "code",
   "execution_count": 7,
   "id": "663cf22c",
   "metadata": {},
   "outputs": [
    {
     "data": {
      "text/plain": [
       "10"
      ]
     },
     "execution_count": 7,
     "metadata": {},
     "output_type": "execute_result"
    }
   ],
   "source": [
    "x"
   ]
  },
  {
   "cell_type": "code",
   "execution_count": 8,
   "id": "da06e968",
   "metadata": {},
   "outputs": [
    {
     "data": {
      "text/plain": [
       "5"
      ]
     },
     "execution_count": 8,
     "metadata": {},
     "output_type": "execute_result"
    }
   ],
   "source": [
    "y"
   ]
  },
  {
   "cell_type": "markdown",
   "id": "7670a9ac",
   "metadata": {},
   "source": [
    "### Difference Between Mutable and Immutable Data Types\n",
    "\n",
    "| **Aspect**           | **Mutable**                                 | **Immutable**                              |\n",
    "|-----------------------|---------------------------------------------|--------------------------------------------|\n",
    "| **Definition**        | Objects whose values can be altered after creation. | Objects whose values cannot be changed after creation. |\n",
    "| **Examples**          | Lists, Dictionaries, Sets                  | Strings, Tuples, Integers, Floats, Booleans |\n",
    "| **Modification**      | Allows in-place changes without creating a new object. | Modification creates a new object instead of altering the original. |\n",
    "| **Identity (ID)**     | Remains the same after modification.        | Changes because a new object is created.   |\n",
    "| **Mutability Scope**  | Individual elements or properties can be updated directly. | Any change requires the creation of a completely new object. |\n",
    "| **Storage Efficiency**| Less efficient if data is frequently altered, as state management incurs overhead. | More efficient for fixed data since the object is static and can be cached. |\n",
    "| **Concurrency Safety**| Not inherently thread-safe, as concurrent modifications can lead to unexpected results. | Naturally thread-safe since values cannot be changed. |\n",
    "| **Performance**       | Slower for operations that involve frequent writes or changes. | Faster for read-heavy operations due to immutability and better caching. |\n",
    "| **Use Cases**         | Suitable when data needs frequent updates, like building dynamic structures. | Ideal for fixed, constant, or hashable data such as keys in dictionaries. |\n",
    "| **Hashability**       | Mutable objects like lists and dictionaries are not hashable. | Immutable objects like tuples and strings are hashable and can be used as dictionary keys. |\n",
    "| **Examples in Code**  | Lists (`[1, 2, 3]`), Sets (`{1, 2, 3}`)     | Strings (`\"hello\"`), Tuples (`(1, 2, 3)`)  |\n",
    "\n",
    "---\n",
    "\n",
    "### Examples:\n",
    "\n",
    "#### **Mutable Example (List):**\n",
    "```python\n",
    "my_list = [1, 2, 3]\n",
    "print(\"Before:\", my_list, id(my_list))  # Original ID\n",
    "\n",
    "my_list.append(4)  # Modify the list in place\n",
    "print(\"After:\", my_list, id(my_list))  # ID remains the same\n",
    "```\n",
    "\n",
    "**Output:**\n",
    "```\n",
    "Before: [1, 2, 3] <same_id>\n",
    "After: [1, 2, 3, 4] <same_id>\n",
    "```\n",
    "\n",
    "---\n",
    "\n",
    "#### **Immutable Example (String):**\n",
    "```python\n",
    "my_string = \"hello\"\n",
    "print(\"Before:\", my_string, id(my_string))  # Original ID\n",
    "\n",
    "my_string = my_string + \" world\"  # Creates a new object\n",
    "print(\"After:\", my_string, id(my_string))  # ID changes\n",
    "```\n",
    "\n",
    "**Output:**\n",
    "```\n",
    "Before: hello <old_id>\n",
    "After: hello world <new_id>\n",
    "```\n",
    "\n",
    "---\n",
    "\n",
    "#### **Hashability and Use in Data Structures:**\n",
    "- **Mutable:**\n",
    "  ```python\n",
    "  # Mutable types like lists are not hashable\n",
    "  my_list = [1, 2, 3]\n",
    "  my_dict = {my_list: \"value\"}  # Raises TypeError\n",
    "  ```\n",
    "- **Immutable:**\n",
    "  ```python\n",
    "  # Immutable types like tuples are hashable\n",
    "  my_tuple = (1, 2, 3)\n",
    "  my_dict = {my_tuple: \"value\"}  # Works fine\n",
    "  print(my_dict)\n",
    "  ```"
   ]
  },
  {
   "cell_type": "code",
   "execution_count": 9,
   "id": "6b3312f4",
   "metadata": {},
   "outputs": [
    {
     "name": "stdout",
     "output_type": "stream",
     "text": [
      "Before: [1, 2, 3] 1706144495808\n",
      "After: [1, 2, 3, 4] 1706144495808\n"
     ]
    }
   ],
   "source": [
    "my_list = [1, 2, 3]\n",
    "print(\"Before:\", my_list, id(my_list))  # Original ID\n",
    "\n",
    "my_list.append(4)  # Modify the list in place\n",
    "print(\"After:\", my_list, id(my_list))  # ID remains the same\n"
   ]
  },
  {
   "cell_type": "code",
   "execution_count": 10,
   "id": "f2869336",
   "metadata": {},
   "outputs": [
    {
     "name": "stdout",
     "output_type": "stream",
     "text": [
      "Before: hello 1706140250784\n",
      "After: hello world 1706150981296\n"
     ]
    }
   ],
   "source": [
    "my_string = \"hello\"\n",
    "print(\"Before:\", my_string, id(my_string))  # Original ID\n",
    "\n",
    "my_string = my_string + \" world\"  # Creates a new object\n",
    "print(\"After:\", my_string, id(my_string))  # ID changes\n"
   ]
  },
  {
   "cell_type": "code",
   "execution_count": 11,
   "id": "1c014b48",
   "metadata": {},
   "outputs": [
    {
     "ename": "TypeError",
     "evalue": "unhashable type: 'list'",
     "output_type": "error",
     "traceback": [
      "\u001b[1;31m---------------------------------------------------------------------------\u001b[0m",
      "\u001b[1;31mTypeError\u001b[0m                                 Traceback (most recent call last)",
      "Cell \u001b[1;32mIn[11], line 3\u001b[0m\n\u001b[0;32m      1\u001b[0m \u001b[38;5;66;03m# Mutable types like lists are not hashable\u001b[39;00m\n\u001b[0;32m      2\u001b[0m my_list \u001b[38;5;241m=\u001b[39m [\u001b[38;5;241m1\u001b[39m, \u001b[38;5;241m2\u001b[39m, \u001b[38;5;241m3\u001b[39m]\n\u001b[1;32m----> 3\u001b[0m my_dict \u001b[38;5;241m=\u001b[39m {my_list: \u001b[38;5;124m\"\u001b[39m\u001b[38;5;124mvalue\u001b[39m\u001b[38;5;124m\"\u001b[39m}  \u001b[38;5;66;03m# Raises TypeError\u001b[39;00m\n",
      "\u001b[1;31mTypeError\u001b[0m: unhashable type: 'list'"
     ]
    }
   ],
   "source": [
    "# Mutable types like lists are not hashable\n",
    "my_list = [1, 2, 3]\n",
    "my_dict = {my_list: \"value\"}  # Raises TypeError\n"
   ]
  },
  {
   "cell_type": "code",
   "execution_count": 12,
   "id": "4ee8d239",
   "metadata": {},
   "outputs": [
    {
     "name": "stdout",
     "output_type": "stream",
     "text": [
      "{(1, 2, 3): 'value'}\n"
     ]
    }
   ],
   "source": [
    "# Immutable types like tuples are hashable\n",
    "my_tuple = (1, 2, 3)\n",
    "my_dict = {my_tuple: \"value\"}  # Works fine\n",
    "print(my_dict)\n"
   ]
  },
  {
   "cell_type": "code",
   "execution_count": null,
   "id": "31fffe5c",
   "metadata": {},
   "outputs": [],
   "source": []
  }
 ],
 "metadata": {
  "kernelspec": {
   "display_name": "Python 3",
   "language": "python",
   "name": "python3"
  },
  "language_info": {
   "codemirror_mode": {
    "name": "ipython",
    "version": 3
   },
   "file_extension": ".py",
   "mimetype": "text/x-python",
   "name": "python",
   "nbconvert_exporter": "python",
   "pygments_lexer": "ipython3",
   "version": "3.13.0"
  }
 },
 "nbformat": 4,
 "nbformat_minor": 5
}
