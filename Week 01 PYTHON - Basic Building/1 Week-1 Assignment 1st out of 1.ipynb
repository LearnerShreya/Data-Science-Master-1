{
 "cells": [
  {
   "cell_type": "markdown",
   "id": "529663b6",
   "metadata": {},
   "source": [
    "# Assignment 1\n",
    "## Week - 1"
   ]
  },
  {
   "cell_type": "markdown",
   "id": "daf84077",
   "metadata": {},
   "source": [
    "## 1. Create one variable containing following type of data:\n",
    "- (i) string\n",
    "- (ii) list\n",
    "- (iii) float\n",
    "- (iv) tuple\n",
    "### Ans:"
   ]
  },
  {
   "cell_type": "code",
   "execution_count": 9,
   "id": "7e8f0290",
   "metadata": {},
   "outputs": [
    {
     "name": "stdout",
     "output_type": "stream",
     "text": [
      "('Hello, Shreya', [1, 2, 3], 3.14, (4, 5, 6))\n",
      "Hello, Shreya\n",
      "[1, 2, 3]\n",
      "3.14\n",
      "(4, 5, 6)\n"
     ]
    }
   ],
   "source": [
    "# Creating a variable containing a string, list, float, and tuple\n",
    "mixed_data = (\"Hello, Shreya\", [1, 2, 3], 3.14, (4, 5, 6))\n",
    "\n",
    "# Accessing the elements\n",
    "print(mixed_data)\n",
    "\n",
    "print(mixed_data[0])  # String\n",
    "print(mixed_data[1])  # List\n",
    "print(mixed_data[2])  # Float\n",
    "print(mixed_data[3])  # Tuple\n"
   ]
  },
  {
   "cell_type": "markdown",
   "id": "c40d34bc",
   "metadata": {},
   "source": [
    "###### (i) string"
   ]
  },
  {
   "cell_type": "markdown",
   "id": "48675ce7",
   "metadata": {},
   "source": [
    "## 2. Given are some following variables containing data:\n",
    "- (i) var1 = ‘ ‘\n",
    "- (ii) var2 = ‘[ DS , ML , Python]’\n",
    "- (iii) var3 = [ ‘DS’ , ’ML’ , ‘Python’ ]\n",
    "- (iv) var4 = 1.\n",
    "- What will be the data type of the above given variable.\n",
    "### Ans:"
   ]
  },
  {
   "cell_type": "code",
   "execution_count": 12,
   "id": "fe73bba6",
   "metadata": {},
   "outputs": [
    {
     "name": "stdout",
     "output_type": "stream",
     "text": [
      "<class 'str'>\n",
      "<class 'str'>\n",
      "<class 'list'>\n",
      "<class 'float'>\n"
     ]
    }
   ],
   "source": [
    "var1 = ' '                      # A string containing a space\n",
    "var2 = '[ DS , ML , Python]'    # A string representing a list\n",
    "var3 = ['DS', 'ML', 'Python']    # A list containing strings\n",
    "var4 = 1.                        # A float\n",
    "\n",
    "print(type(var1)) \n",
    "print(type(var2)) \n",
    "print(type(var3)) \n",
    "print(type(var4))  \n"
   ]
  },
  {
   "cell_type": "markdown",
   "id": "6b4d3174",
   "metadata": {},
   "source": [
    "## 3. Explain the use of the following operators using an example:\n",
    "- (i) /\n",
    "- (ii) %\n",
    "- (iii) //\n",
    "- (iv) **"
   ]
  },
  {
   "cell_type": "markdown",
   "id": "7d420db7",
   "metadata": {},
   "source": [
    "#### Ans:\n",
    "- `/` : performs division. Returns the quotient as a float.\n",
    "- `%` : Returns the remainder of the division.\n",
    "- `//` : Returns the largest integer less than or equal to the quotient (floor division).\n",
    "- `**` : Raises a number to the power of another number."
   ]
  },
  {
   "cell_type": "markdown",
   "id": "3dbed826",
   "metadata": {},
   "source": [
    "###### (i) /"
   ]
  },
  {
   "cell_type": "code",
   "execution_count": 13,
   "id": "46117fa3",
   "metadata": {},
   "outputs": [
    {
     "name": "stdout",
     "output_type": "stream",
     "text": [
      "Division: 10 / 3 = 3.3333333333333335\n",
      "Modulus: 10 % 3 = 1\n",
      "Floor Division: 10 // 3 = 3\n",
      "Exponentiation: 2 ** 3 = 8\n"
     ]
    }
   ],
   "source": [
    "# Variables\n",
    "a = 10\n",
    "b = 3\n",
    "\n",
    "# (i) Division Operator (/)\n",
    "division_result = a / b\n",
    "print(f\"Division: {a} / {b} = {division_result}\")  # Output: 3.3333333333333335\n",
    "\n",
    "# (ii) Modulus Operator (%)\n",
    "modulus_result = a % b\n",
    "print(f\"Modulus: {a} % {b} = {modulus_result}\")    # Output: 1\n",
    "\n",
    "# (iii) Floor Division Operator (//)\n",
    "floor_division_result = a // b\n",
    "print(f\"Floor Division: {a} // {b} = {floor_division_result}\")  # Output: 3\n",
    "\n",
    "# (iv) Exponentiation Operator (**)\n",
    "exponentiation_result = 2 ** 3  # Example using different variables\n",
    "print(f\"Exponentiation: 2 ** 3 = {exponentiation_result}\")  # Output: 8\n"
   ]
  },
  {
   "cell_type": "markdown",
   "id": "3979fb1b",
   "metadata": {},
   "source": [
    "## 4. Create a list of length 10 of your choice containing multiple types of data. Using for loop print the element and its data type."
   ]
  },
  {
   "cell_type": "code",
   "execution_count": 6,
   "id": "4392ac11",
   "metadata": {},
   "outputs": [
    {
     "name": "stdout",
     "output_type": "stream",
     "text": [
      "Element: 42, Data Type: <class 'int'>\n",
      "Element: 3.14, Data Type: <class 'float'>\n",
      "Element: Hello, World!, Data Type: <class 'str'>\n",
      "Element: True, Data Type: <class 'bool'>\n",
      "Element: None, Data Type: <class 'NoneType'>\n",
      "Element: [1, 2, 3], Data Type: <class 'list'>\n",
      "Element: (4, 5), Data Type: <class 'tuple'>\n",
      "Element: {'key': 'value'}, Data Type: <class 'dict'>\n",
      "Element: (1+2j), Data Type: <class 'complex'>\n",
      "Element: bytearray(b'hello'), Data Type: <class 'bytearray'>\n"
     ]
    }
   ],
   "source": [
    "data_list = [42, 3.14, \"Hello, World!\", True, None, [1, 2, 3], (4, 5), {'key': 'value'}, complex(1, 2), bytearray(b'hello')]\n",
    "for element in data_list:\n",
    "    print(f\"Element: {element}, Data Type: {type(element)}\")\n"
   ]
  },
  {
   "cell_type": "markdown",
   "id": "164a6c64",
   "metadata": {},
   "source": [
    "## 5. Using a while loop, verify if the number A is purely divisible by number B and if so then how many times it can be divisible."
   ]
  },
  {
   "cell_type": "code",
   "execution_count": 41,
   "id": "cb580ee7",
   "metadata": {},
   "outputs": [
    {
     "name": "stdout",
     "output_type": "stream",
     "text": [
      "27\n",
      "3\n",
      "Entered number A: 27\n",
      "Entered number B: 3\n",
      "Yes, 'A' is divisible by 'B' 9 times\n"
     ]
    }
   ],
   "source": [
    "A = int(input())\n",
    "B = int(input())\n",
    "print(\"Entered number A:\",A)\n",
    "print(\"Entered number B:\",B)\n",
    "while A%B==0:\n",
    "    print(\"Yes, 'A' is divisible by 'B'\", A//B, \"times\")\n",
    "    break\n",
    "else:\n",
    "    print(\"No, 'A' is not divisible by 'B'\")"
   ]
  },
  {
   "cell_type": "markdown",
   "id": "e1480196",
   "metadata": {},
   "source": [
    "## 6. Create a list containing 25 int type data. Using for loop and if-else condition print if the element is divisible by 3 or not."
   ]
  },
  {
   "cell_type": "code",
   "execution_count": 42,
   "id": "9b80a252",
   "metadata": {},
   "outputs": [
    {
     "name": "stdout",
     "output_type": "stream",
     "text": [
      "1 is not divisible by 3\n",
      "2 is not divisible by 3\n",
      "3 is divisible by3\n",
      "4 is not divisible by 3\n",
      "5 is not divisible by 3\n",
      "6 is divisible by3\n",
      "7 is not divisible by 3\n",
      "8 is not divisible by 3\n",
      "9 is divisible by3\n",
      "10 is not divisible by 3\n",
      "11 is not divisible by 3\n",
      "12 is divisible by3\n",
      "13 is not divisible by 3\n",
      "14 is not divisible by 3\n",
      "15 is divisible by3\n",
      "16 is not divisible by 3\n",
      "17 is not divisible by 3\n",
      "18 is divisible by3\n",
      "19 is not divisible by 3\n",
      "20 is not divisible by 3\n",
      "21 is divisible by3\n",
      "22 is not divisible by 3\n",
      "23 is not divisible by 3\n",
      "24 is divisible by3\n",
      "25 is not divisible by 3\n"
     ]
    }
   ],
   "source": [
    "l = [1,2,3,4,5,6,7,8,9,10,11,12,13,14,15,16,17,18,19,20,21,22,23,24,25]\n",
    "for i in l:\n",
    "    if i%3==0:\n",
    "        print(i,\"is divisible by3\")\n",
    "    else:\n",
    "        print(i,\"is not divisible by 3\")"
   ]
  },
  {
   "cell_type": "code",
   "execution_count": 43,
   "id": "a8d8f563",
   "metadata": {},
   "outputs": [
    {
     "name": "stdout",
     "output_type": "stream",
     "text": [
      "0 is divisible by 3.\n",
      "1 is not divisible by 3.\n",
      "2 is not divisible by 3.\n",
      "3 is divisible by 3.\n",
      "4 is not divisible by 3.\n",
      "5 is not divisible by 3.\n",
      "6 is divisible by 3.\n",
      "7 is not divisible by 3.\n",
      "8 is not divisible by 3.\n",
      "9 is divisible by 3.\n",
      "10 is not divisible by 3.\n",
      "11 is not divisible by 3.\n",
      "12 is divisible by 3.\n",
      "13 is not divisible by 3.\n",
      "14 is not divisible by 3.\n",
      "15 is divisible by 3.\n",
      "16 is not divisible by 3.\n",
      "17 is not divisible by 3.\n",
      "18 is divisible by 3.\n",
      "19 is not divisible by 3.\n",
      "20 is not divisible by 3.\n",
      "21 is divisible by 3.\n",
      "22 is not divisible by 3.\n",
      "23 is not divisible by 3.\n",
      "24 is divisible by 3.\n"
     ]
    }
   ],
   "source": [
    "l = []\n",
    "for i in range(25):\n",
    "    l.append(i)\n",
    "for i in l:\n",
    "    if i % 3 == 0:\n",
    "        print(i, \"is divisible by 3.\")\n",
    "    else:\n",
    "        print(i, \"is not divisible by 3.\")\n"
   ]
  },
  {
   "cell_type": "markdown",
   "id": "28e8f2d7",
   "metadata": {},
   "source": [
    "## 7. What do you understand about mutable and immutable data types? Give examples for both showing this property.\n",
    "### Ans:"
   ]
  },
  {
   "cell_type": "markdown",
   "id": "0621b655",
   "metadata": {},
   "source": [
    "#### Mutable Objects:\n",
    "Mutable objects are objects whose state can be modified after creation. When we modify a mutable object, we are actually changing its contents in memory. \n",
    "###### Common examples of mutable objects in Python include:\n",
    "\n",
    "1. Lists\n",
    "2. Dictionaries\n",
    "3. Sets\n",
    "4. User-defined classes (if designed to be mutable\n",
    "- **Note**: When we modify these objects (e.g., add or remove elements in a list), the original object's content is changed, and any references to that object will reflect the changes.\n",
    "#### Immutable Objects:\n",
    "Objects whose state cannot be modified after creation. Any operation that appears to \"modify\" an immutable object actually creates a new object with the modified state. \n",
    "###### Common examples of immutable objects in Python include:\n",
    "\n",
    "1. Integers\n",
    "2. Floats\n",
    "3. Strings\n",
    "4. Tuples\n",
    "5. Booleans (True and False are immutable)\n",
    "- **Note**: If we try to modify an immutable object, a new object is created, and the original object remains unchanged."
   ]
  },
  {
   "cell_type": "markdown",
   "id": "591cd55d",
   "metadata": {},
   "source": [
    "###### Example Mutable"
   ]
  },
  {
   "cell_type": "code",
   "execution_count": 44,
   "id": "e9a496d2",
   "metadata": {},
   "outputs": [],
   "source": [
    "u = ['shreya', 2,3,4,5, (2j+11), 24.11, False ]"
   ]
  },
  {
   "cell_type": "code",
   "execution_count": 45,
   "id": "8cc4cb75",
   "metadata": {},
   "outputs": [
    {
     "data": {
      "text/plain": [
       "list"
      ]
     },
     "execution_count": 45,
     "metadata": {},
     "output_type": "execute_result"
    }
   ],
   "source": [
    "type(u)"
   ]
  },
  {
   "cell_type": "code",
   "execution_count": 46,
   "id": "cfae19cf",
   "metadata": {},
   "outputs": [],
   "source": [
    "u[0]=2"
   ]
  },
  {
   "cell_type": "code",
   "execution_count": 47,
   "id": "b1c3e028",
   "metadata": {},
   "outputs": [
    {
     "data": {
      "text/plain": [
       "[2, 2, 3, 4, 5, (11+2j), 24.11, False]"
      ]
     },
     "execution_count": 47,
     "metadata": {},
     "output_type": "execute_result"
    }
   ],
   "source": [
    "u"
   ]
  },
  {
   "cell_type": "code",
   "execution_count": 48,
   "id": "b49bab22",
   "metadata": {},
   "outputs": [],
   "source": [
    "u[0]=8"
   ]
  },
  {
   "cell_type": "code",
   "execution_count": 49,
   "id": "f0b02770",
   "metadata": {},
   "outputs": [
    {
     "data": {
      "text/plain": [
       "[8, 2, 3, 4, 5, (11+2j), 24.11, False]"
      ]
     },
     "execution_count": 49,
     "metadata": {},
     "output_type": "execute_result"
    }
   ],
   "source": [
    "u"
   ]
  },
  {
   "cell_type": "code",
   "execution_count": 50,
   "id": "1bb01c71",
   "metadata": {},
   "outputs": [],
   "source": [
    "u[0]='Cool'"
   ]
  },
  {
   "cell_type": "code",
   "execution_count": 51,
   "id": "3628be1d",
   "metadata": {},
   "outputs": [
    {
     "data": {
      "text/plain": [
       "['Cool', 2, 3, 4, 5, (11+2j), 24.11, False]"
      ]
     },
     "execution_count": 51,
     "metadata": {},
     "output_type": "execute_result"
    }
   ],
   "source": [
    "u"
   ]
  },
  {
   "cell_type": "code",
   "execution_count": 52,
   "id": "b93ac432",
   "metadata": {},
   "outputs": [],
   "source": [
    "u[3]=50"
   ]
  },
  {
   "cell_type": "code",
   "execution_count": 53,
   "id": "78b3ed9a",
   "metadata": {},
   "outputs": [
    {
     "data": {
      "text/plain": [
       "['Cool', 2, 3, 50, 5, (11+2j), 24.11, False]"
      ]
     },
     "execution_count": 53,
     "metadata": {},
     "output_type": "execute_result"
    }
   ],
   "source": [
    "u"
   ]
  },
  {
   "cell_type": "code",
   "execution_count": 54,
   "id": "e9684832",
   "metadata": {},
   "outputs": [],
   "source": [
    "u[5]='Learner'"
   ]
  },
  {
   "cell_type": "code",
   "execution_count": 55,
   "id": "f6f2b967",
   "metadata": {},
   "outputs": [
    {
     "data": {
      "text/plain": [
       "['Cool', 2, 3, 50, 5, 'Learner', 24.11, False]"
      ]
     },
     "execution_count": 55,
     "metadata": {},
     "output_type": "execute_result"
    }
   ],
   "source": [
    "u"
   ]
  },
  {
   "cell_type": "code",
   "execution_count": 56,
   "id": "4699ff2b",
   "metadata": {},
   "outputs": [],
   "source": [
    "u[-1]='25'"
   ]
  },
  {
   "cell_type": "code",
   "execution_count": 57,
   "id": "deecb180",
   "metadata": {},
   "outputs": [
    {
     "data": {
      "text/plain": [
       "['Cool', 2, 3, 50, 5, 'Learner', 24.11, '25']"
      ]
     },
     "execution_count": 57,
     "metadata": {},
     "output_type": "execute_result"
    }
   ],
   "source": [
    "u"
   ]
  },
  {
   "cell_type": "markdown",
   "id": "be0b927e",
   "metadata": {},
   "source": [
    "###### Example Immutable"
   ]
  },
  {
   "cell_type": "code",
   "execution_count": 58,
   "id": "a096c5de",
   "metadata": {},
   "outputs": [],
   "source": [
    "text = \"Hello\"\n",
    "new_text = text + \", World\"  # Creates a new string, \"Hello, World\""
   ]
  },
  {
   "cell_type": "code",
   "execution_count": 59,
   "id": "2ae1467f",
   "metadata": {},
   "outputs": [
    {
     "data": {
      "text/plain": [
       "'Hello, World'"
      ]
     },
     "execution_count": 59,
     "metadata": {},
     "output_type": "execute_result"
    }
   ],
   "source": [
    "new_text"
   ]
  },
  {
   "cell_type": "code",
   "execution_count": 60,
   "id": "4b34fd1a",
   "metadata": {},
   "outputs": [
    {
     "data": {
      "text/plain": [
       "'Hello'"
      ]
     },
     "execution_count": 60,
     "metadata": {},
     "output_type": "execute_result"
    }
   ],
   "source": [
    "text"
   ]
  },
  {
   "cell_type": "code",
   "execution_count": 61,
   "id": "65f7f663",
   "metadata": {},
   "outputs": [],
   "source": [
    "x = 5\n",
    "y = x  # y now holds the value 5\n",
    "x = 10  # x now holds the value 10, but y remains 5"
   ]
  },
  {
   "cell_type": "code",
   "execution_count": 62,
   "id": "663cf22c",
   "metadata": {},
   "outputs": [
    {
     "data": {
      "text/plain": [
       "10"
      ]
     },
     "execution_count": 62,
     "metadata": {},
     "output_type": "execute_result"
    }
   ],
   "source": [
    "x"
   ]
  },
  {
   "cell_type": "code",
   "execution_count": 63,
   "id": "da06e968",
   "metadata": {},
   "outputs": [
    {
     "data": {
      "text/plain": [
       "5"
      ]
     },
     "execution_count": 63,
     "metadata": {},
     "output_type": "execute_result"
    }
   ],
   "source": [
    "y"
   ]
  }
 ],
 "metadata": {
  "kernelspec": {
   "display_name": "Python 3 (ipykernel)",
   "language": "python",
   "name": "python3"
  },
  "language_info": {
   "codemirror_mode": {
    "name": "ipython",
    "version": 3
   },
   "file_extension": ".py",
   "mimetype": "text/x-python",
   "name": "python",
   "nbconvert_exporter": "python",
   "pygments_lexer": "ipython3",
   "version": "3.12.2"
  }
 },
 "nbformat": 4,
 "nbformat_minor": 5
}
