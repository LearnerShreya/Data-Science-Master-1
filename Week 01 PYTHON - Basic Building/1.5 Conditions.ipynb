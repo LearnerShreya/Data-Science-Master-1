{
 "cells": [
  {
   "cell_type": "markdown",
   "id": "2dba0959",
   "metadata": {},
   "source": [
    "\n",
    "# 📘 Python Conditions (Decision Making)\n",
    "\n",
    "## 🔹 What are Conditions?\n",
    "\n",
    "In Python, **conditions** are used to make decisions in the code. They help the program choose **which block of code to run** based on **whether a certain condition is True or False**.\n",
    "\n",
    "---\n",
    "\n",
    "## 🔹 Types of Conditional Statements\n",
    "\n",
    "### 1. `if` Statement\n",
    "\n",
    "* The `if` statement checks a condition.\n",
    "* If the condition is **True**, it runs the code inside it.\n",
    "* If it is **False**, it skips that block.\n",
    "\n",
    "```python\n",
    "x = 10\n",
    "if x > 5:\n",
    "    print(\"x is greater than 5\")\n",
    "```\n",
    "\n",
    "**Output:**\n",
    "\n",
    "```\n",
    "x is greater than 5\n",
    "```\n",
    "\n",
    "---\n",
    "\n",
    "### 2. `if-else` Statement\n",
    "\n",
    "* It provides two paths.\n",
    "* If the `if` condition is **True**, the first block runs.\n",
    "* If it is **False**, the `else` block runs.\n",
    "\n",
    "```python\n",
    "x = 3\n",
    "if x > 5:\n",
    "    print(\"x is greater than 5\")\n",
    "else:\n",
    "    print(\"x is not greater than 5\")\n",
    "```\n",
    "\n",
    "**Output:**\n",
    "\n",
    "```\n",
    "x is not greater than 5\n",
    "```\n",
    "\n",
    "---\n",
    "\n",
    "### 3. `if-elif-else` Statement\n",
    "\n",
    "* Used to check **multiple conditions one after another**.\n",
    "* `elif` stands for “else if”.\n",
    "* If none of the `if` or `elif` conditions are True, the `else` block runs (if present).\n",
    "\n",
    "```python\n",
    "x = 0\n",
    "if x > 0:\n",
    "    print(\"Positive\")\n",
    "elif x == 0:\n",
    "    print(\"Zero\")\n",
    "else:\n",
    "    print(\"Negative\")\n",
    "```\n",
    "\n",
    "**Output:**\n",
    "\n",
    "```\n",
    "Zero\n",
    "```\n",
    "\n",
    "---\n",
    "\n",
    "### 4. Nested `if` Statements\n",
    "\n",
    "* An `if` statement inside another `if` statement.\n",
    "* Useful for checking more than one level of condition.\n",
    "\n",
    "```python\n",
    "x = 10\n",
    "if x > 5:\n",
    "    if x < 15:\n",
    "        print(\"x is between 5 and 15\")\n",
    "```\n",
    "\n",
    "**Output:**\n",
    "\n",
    "```\n",
    "x is between 5 and 15\n",
    "```\n",
    "\n",
    "---\n",
    "\n",
    "## 🔹 Python Indentation\n",
    "\n",
    "* Python uses **indentation** (usually 4 spaces or a tab) to **define code blocks**.\n",
    "* Indentation is **mandatory** and not just for readability.\n",
    "\n",
    "---\n",
    "\n",
    "## 🔹 Comparison Operators (Used in Conditions)\n",
    "\n",
    "| Operator | Meaning                  |\n",
    "| -------- | ------------------------ |\n",
    "| `==`     | Equal to                 |\n",
    "| `!=`     | Not equal to             |\n",
    "| `>`      | Greater than             |\n",
    "| `<`      | Less than                |\n",
    "| `>=`     | Greater than or equal to |\n",
    "| `<=`     | Less than or equal to    |\n",
    "\n",
    "---\n",
    "\n",
    "## 🔹 Logical Operators (Used to Combine Conditions)\n",
    "\n",
    "```python\n",
    "x = 5\n",
    "if x > 0 and x < 10:\n",
    "    print(\"x is a positive single-digit number\")\n",
    "```\n",
    "\n",
    "**Output:**\n",
    "\n",
    "```\n",
    "x is a positive single-digit number\n",
    "```\n",
    "\n",
    "| Operator | Meaning                                                         |\n",
    "| -------- | --------------------------------------------------------------- |\n",
    "| `and`    | Returns True if **both** conditions are True                    |\n",
    "| `or`     | Returns True if **at least one** condition is True              |\n",
    "| `not`    | Reverses the result: True becomes False, and False becomes True |\n",
    "\n",
    "---\n",
    "\n",
    "## 🔹 Short-Hand Conditional (Ternary) Expression\n",
    "\n",
    "* A one-line if-else statement.\n",
    "* Used for simple decisions in a single line.\n",
    "* Syntax:\n",
    "  `value_if_true if condition else value_if_false`\n",
    "\n",
    "```python\n",
    "x = 5\n",
    "print(\"Even\") if x % 2 == 0 else print(\"Odd\")\n",
    "```\n",
    "\n",
    "**Output:**\n",
    "\n",
    "```\n",
    "Odd\n",
    "```\n",
    "\n",
    "---\n",
    "\n",
    "## 🔹 Flow of if-elif-else\n",
    "\n",
    "* Python checks the conditions **from top to bottom**:\n",
    "\n",
    "  1. If the first condition is True, it runs that block and **skips the rest**.\n",
    "  2. If not, it checks the next `elif`, and so on.\n",
    "  3. If none match, the `else` block is executed.\n",
    "\n",
    "---\n",
    "\n",
    "## 🔹 Common Errors\n",
    "\n",
    "1. **Using `=` instead of `==`**:\n",
    "   `=` is assignment, `==` is comparison.\n",
    "\n",
    "2. **Forgetting `:`** after `if`, `elif`, `else`.\n",
    "\n",
    "3. **Not indenting** the code block properly.\n",
    "\n",
    "4. **Using `elif` or `else` without a prior `if`**.\n",
    "\n",
    "---\n",
    "\n",
    "## 🔹 When to Use Conditions\n",
    "\n",
    "* Validating user input.\n",
    "* Checking eligibility (e.g., voting, discounts).\n",
    "* Deciding between multiple paths in logic.\n",
    "* Grading systems, decision trees, etc.\n",
    "\n",
    "---\n",
    "\n",
    "## 🔹 Importance of Conditions\n",
    "\n",
    "* **Core to programming logic**.\n",
    "* Helps create **dynamic, interactive, and intelligent** programs.\n",
    "* Enables programs to **respond differently** based on different inputs or situations.\n",
    "\n",
    "---\n"
   ]
  },
  {
   "cell_type": "code",
   "execution_count": 1,
   "id": "871871d5",
   "metadata": {},
   "outputs": [],
   "source": [
    "a=10\n",
    "if a>10:\n",
    "    print(\"Yes, 'a' is greater than 10\")"
   ]
  },
  {
   "cell_type": "code",
   "execution_count": 2,
   "id": "41b42998",
   "metadata": {},
   "outputs": [
    {
     "data": {
      "text/plain": [
       "False"
      ]
     },
     "execution_count": 2,
     "metadata": {},
     "output_type": "execute_result"
    }
   ],
   "source": [
    "a>10"
   ]
  },
  {
   "cell_type": "code",
   "execution_count": 3,
   "id": "ec099a51",
   "metadata": {},
   "outputs": [
    {
     "name": "stdout",
     "output_type": "stream",
     "text": [
      "Yes, 'a' is greater than 10\n"
     ]
    }
   ],
   "source": [
    "a=10\n",
    "if a>=10:\n",
    "    print(\"Yes, 'a' is greater than 10\")"
   ]
  },
  {
   "cell_type": "code",
   "execution_count": 4,
   "id": "6427030b",
   "metadata": {},
   "outputs": [
    {
     "data": {
      "text/plain": [
       "False"
      ]
     },
     "execution_count": 4,
     "metadata": {},
     "output_type": "execute_result"
    }
   ],
   "source": [
    "a>10"
   ]
  },
  {
   "cell_type": "code",
   "execution_count": 5,
   "id": "e9ba3fb4",
   "metadata": {},
   "outputs": [
    {
     "data": {
      "text/plain": [
       "True"
      ]
     },
     "execution_count": 5,
     "metadata": {},
     "output_type": "execute_result"
    }
   ],
   "source": [
    "a>=10"
   ]
  },
  {
   "cell_type": "code",
   "execution_count": 6,
   "id": "6494c0ef",
   "metadata": {},
   "outputs": [
    {
     "name": "stdout",
     "output_type": "stream",
     "text": [
      "this is my defalut\n"
     ]
    }
   ],
   "source": [
    "b = 20 \n",
    "if b > 30 :\n",
    "    print(\"yes b is greater than 30\")\n",
    "elif b  > 40 : \n",
    "    print(\"yes b is leser than 40 \")\n",
    "elif b > 100 : \n",
    "    print(\"yes b is greater than 100\")\n",
    "else :\n",
    "    print(\"this is my defalut\")"
   ]
  },
  {
   "cell_type": "code",
   "execution_count": 7,
   "id": "f64366cb",
   "metadata": {},
   "outputs": [
    {
     "data": {
      "text/plain": [
       "False"
      ]
     },
     "execution_count": 7,
     "metadata": {},
     "output_type": "execute_result"
    }
   ],
   "source": [
    "b>30"
   ]
  },
  {
   "cell_type": "code",
   "execution_count": 8,
   "id": "9995902e",
   "metadata": {},
   "outputs": [
    {
     "data": {
      "text/plain": [
       "False"
      ]
     },
     "execution_count": 8,
     "metadata": {},
     "output_type": "execute_result"
    }
   ],
   "source": [
    "b>40"
   ]
  },
  {
   "cell_type": "code",
   "execution_count": 9,
   "id": "951d0f1c",
   "metadata": {},
   "outputs": [
    {
     "data": {
      "text/plain": [
       "False"
      ]
     },
     "execution_count": 9,
     "metadata": {},
     "output_type": "execute_result"
    }
   ],
   "source": [
    "b>100"
   ]
  },
  {
   "cell_type": "code",
   "execution_count": 10,
   "id": "19db95bc",
   "metadata": {},
   "outputs": [
    {
     "data": {
      "text/plain": [
       "True"
      ]
     },
     "execution_count": 10,
     "metadata": {},
     "output_type": "execute_result"
    }
   ],
   "source": [
    "b<40"
   ]
  },
  {
   "cell_type": "markdown",
   "id": "63331808",
   "metadata": {},
   "source": [
    "**Syntax** : int(input())  **In case we want to take input from user**"
   ]
  },
  {
   "cell_type": "code",
   "execution_count": 11,
   "id": "5627fe37",
   "metadata": {},
   "outputs": [
    {
     "name": "stdout",
     "output_type": "stream",
     "text": [
      "this is my defalut\n"
     ]
    }
   ],
   "source": [
    "b = int(input())\n",
    "if b > 30 :\n",
    "    print(\"yes b is greater than 30\")\n",
    "elif b  > 40 : \n",
    "    print(\"yes b is leser than 40 \")\n",
    "elif b > 100 : \n",
    "    print(\"yes b is greater than 100\")\n",
    "else :\n",
    "    print(\"this is my defalut\")"
   ]
  },
  {
   "cell_type": "code",
   "execution_count": 12,
   "id": "bc7326fa",
   "metadata": {},
   "outputs": [],
   "source": [
    "b = int(input())"
   ]
  },
  {
   "cell_type": "code",
   "execution_count": 13,
   "id": "daef5f80",
   "metadata": {},
   "outputs": [],
   "source": [
    "c = int('34')"
   ]
  },
  {
   "cell_type": "code",
   "execution_count": 14,
   "id": "fbbfae2f",
   "metadata": {},
   "outputs": [
    {
     "data": {
      "text/plain": [
       "int"
      ]
     },
     "execution_count": 14,
     "metadata": {},
     "output_type": "execute_result"
    }
   ],
   "source": [
    "type(c)"
   ]
  },
  {
   "cell_type": "code",
   "execution_count": 15,
   "id": "84bbd461",
   "metadata": {},
   "outputs": [
    {
     "data": {
      "text/plain": [
       "6"
      ]
     },
     "execution_count": 15,
     "metadata": {},
     "output_type": "execute_result"
    }
   ],
   "source": [
    "b"
   ]
  },
  {
   "cell_type": "code",
   "execution_count": 16,
   "id": "f15e655e",
   "metadata": {},
   "outputs": [
    {
     "data": {
      "text/plain": [
       "int"
      ]
     },
     "execution_count": 16,
     "metadata": {},
     "output_type": "execute_result"
    }
   ],
   "source": [
    "type(b)"
   ]
  },
  {
   "cell_type": "code",
   "execution_count": 17,
   "id": "b9ec7209",
   "metadata": {},
   "outputs": [
    {
     "data": {
      "text/plain": [
       "34"
      ]
     },
     "execution_count": 17,
     "metadata": {},
     "output_type": "execute_result"
    }
   ],
   "source": [
    "c"
   ]
  },
  {
   "cell_type": "code",
   "execution_count": 18,
   "id": "b810db42",
   "metadata": {},
   "outputs": [],
   "source": [
    "d=input(input())"
   ]
  },
  {
   "cell_type": "code",
   "execution_count": 19,
   "id": "2f45b870",
   "metadata": {},
   "outputs": [
    {
     "data": {
      "text/plain": [
       "str"
      ]
     },
     "execution_count": 19,
     "metadata": {},
     "output_type": "execute_result"
    }
   ],
   "source": [
    "type(d)"
   ]
  },
  {
   "cell_type": "code",
   "execution_count": 20,
   "id": "b78e22e9",
   "metadata": {},
   "outputs": [],
   "source": [
    "e = int(input())"
   ]
  },
  {
   "cell_type": "code",
   "execution_count": 21,
   "id": "28fa22ae",
   "metadata": {},
   "outputs": [
    {
     "ename": "NameError",
     "evalue": "name 'char' is not defined",
     "output_type": "error",
     "traceback": [
      "\u001b[1;31m---------------------------------------------------------------------------\u001b[0m",
      "\u001b[1;31mNameError\u001b[0m                                 Traceback (most recent call last)",
      "Cell \u001b[1;32mIn[21], line 1\u001b[0m\n\u001b[1;32m----> 1\u001b[0m f\u001b[38;5;241m=\u001b[39m\u001b[43mchar\u001b[49m(\u001b[38;5;28minput\u001b[39m())\n",
      "\u001b[1;31mNameError\u001b[0m: name 'char' is not defined"
     ]
    }
   ],
   "source": [
    "f=char(input())"
   ]
  },
  {
   "cell_type": "code",
   "execution_count": 5,
   "id": "068dbe78",
   "metadata": {},
   "outputs": [
    {
     "data": {
      "text/plain": [
       "'8'"
      ]
     },
     "execution_count": 5,
     "metadata": {},
     "output_type": "execute_result"
    }
   ],
   "source": [
    "prompt = input(\"Enter prompt text: \")\n",
    "d = input(prompt)\n",
    "d"
   ]
  },
  {
   "cell_type": "markdown",
   "id": "75ab4002",
   "metadata": {},
   "source": [
    "\n",
    "\n",
    "---\n",
    "\n",
    "# 📘 Python Loops \n",
    "\n",
    "## 🔹 What is a Loop?\n",
    "\n",
    "A **loop** is used to **repeat a block of code multiple times**.\n",
    "\n",
    "Python provides two main types of loops:\n",
    "\n",
    "1. `for` loop – Used for **fixed iterations** (when you know how many times to loop).\n",
    "2. `while` loop – Used for **conditional iterations** (when you loop until a condition becomes false).\n",
    "\n",
    "---\n",
    "\n",
    "## 🔸 1. `for` Loop\n",
    "\n",
    "### 🧠 Definition:\n",
    "\n",
    "* The `for` loop is used to **iterate over a sequence** (like list, tuple, string, range, etc.).\n",
    "* It repeats the block of code **for each item** in the sequence.\n",
    "\n",
    "### 📌 Syntax:\n",
    "\n",
    "```python\n",
    "for variable in sequence:\n",
    "    # block of code\n",
    "```\n",
    "\n",
    "### 🔹 Common Use: `range()`\n",
    "\n",
    "* `range(n)` generates numbers from `0` to `n-1`.\n",
    "\n",
    "```python\n",
    "for i in range(5):\n",
    "    print(i)\n",
    "```\n",
    "\n",
    "🔸 This will print:\n",
    "\n",
    "```\n",
    "0\n",
    "1\n",
    "2\n",
    "3\n",
    "4\n",
    "```\n",
    "\n",
    "---\n",
    "\n",
    "## 🔸 2. `while` Loop\n",
    "\n",
    "### 🧠 Definition:\n",
    "\n",
    "* A `while` loop keeps running **as long as the condition is True**.\n",
    "* It is useful when **you don’t know beforehand how many times to repeat**.\n",
    "\n",
    "### 📌 Syntax:\n",
    "\n",
    "```python\n",
    "while condition:\n",
    "    # block of code\n",
    "```\n",
    "\n",
    "### Example:\n",
    "\n",
    "```python\n",
    "x = 1\n",
    "while x <= 5:\n",
    "    print(x)\n",
    "    x += 1\n",
    "```\n",
    "\n",
    "---\n",
    "\n",
    "## 🔹 Loop Control Statements\n",
    "\n",
    "These are used to **control the flow inside loops**:\n",
    "\n",
    "### 1. `break`\n",
    "\n",
    "* **Stops** the loop **immediately**, even if the condition is still True.\n",
    "* Often used with `if`.\n",
    "\n",
    "```python\n",
    "for i in range(10):\n",
    "    if i == 5:\n",
    "        break\n",
    "    print(i)\n",
    "```\n",
    "\n",
    "### 2. `continue`\n",
    "\n",
    "* **Skips** the current iteration and moves to the **next** one.\n",
    "\n",
    "```python\n",
    "for i in range(5):\n",
    "    if i == 2:\n",
    "        continue\n",
    "    print(i)\n",
    "```\n",
    "\n",
    "### 3. `pass`\n",
    "\n",
    "* A **placeholder**; it does nothing.\n",
    "* Used when the loop is required syntactically, but you don’t want any action yet.\n",
    "\n",
    "```python\n",
    "for i in range(3):\n",
    "    pass  # Later you might add logic here\n",
    "```\n",
    "\n",
    "---\n",
    "\n",
    "## 🔹 Nested Loops\n",
    "\n",
    "A **loop inside another loop**.\n",
    "\n",
    "Example:\n",
    "\n",
    "```python\n",
    "for i in range(3):\n",
    "    for j in range(2):\n",
    "        print(i, j)\n",
    "```\n",
    "\n",
    "---\n",
    "\n",
    "## 🔹 Loop with `else` Block\n",
    "\n",
    "* Python allows `else` after loops.\n",
    "* It runs only if the loop **completes naturally** (i.e., not interrupted by `break`).\n",
    "\n",
    "```python\n",
    "for i in range(3):\n",
    "    print(i)\n",
    "else:\n",
    "    print(\"Loop finished normally\")\n",
    "```\n",
    "\n",
    "---\n",
    "\n",
    "## 🔹 Differences: `for` vs `while`\n",
    "\n",
    "| Feature   | `for` Loop                                  | `while` Loop                 |\n",
    "| --------- | ------------------------------------------- | ---------------------------- |\n",
    "| Use case  | Known number of iterations                  | Unknown / based on condition |\n",
    "| Sequence  | Iterates over sequences (list, range, etc.) | Needs condition to stop      |\n",
    "| Structure | Compact and easy                            | Can be more flexible         |\n",
    "\n",
    "---\n",
    "\n",
    "## 🔹 Infinite Loop\n",
    "\n",
    "A loop that **never ends** unless `break` is used or the program is stopped.\n",
    "\n",
    "Example:\n",
    "\n",
    "```python\n",
    "while True:\n",
    "    print(\"This will run forever unless you break it\")\n",
    "```\n",
    "\n",
    "---\n",
    "\n",
    "## 🔹 Common Mistakes in Loops\n",
    "\n",
    "1. Forgetting to update the variable in `while` loop → Infinite loop.\n",
    "2. Using `=` instead of `==` in conditions.\n",
    "3. Wrong indentation → Logic errors or syntax error.\n",
    "4. Off-by-one errors in `range()`.\n",
    "\n",
    "---\n",
    "\n",
    "## 🔹 Real-Life Use Cases of Loops\n",
    "\n",
    "* Printing sequences, patterns, tables.\n",
    "* Traversing arrays or strings.\n",
    "* Repeating user input prompts.\n",
    "* Automating repetitive tasks.\n",
    "* Performing repeated calculations or checks.\n",
    "\n",
    "---"
   ]
  },
  {
   "cell_type": "code",
   "execution_count": 6,
   "id": "b5e182e9",
   "metadata": {},
   "outputs": [
    {
     "ename": "_IncompleteInputError",
     "evalue": "incomplete input (2454651112.py, line 2)",
     "output_type": "error",
     "traceback": [
      "\u001b[1;36m  Cell \u001b[1;32mIn[6], line 2\u001b[1;36m\u001b[0m\n\u001b[1;33m    # Code to execute for each item in the sequence\u001b[0m\n\u001b[1;37m                                                   ^\u001b[0m\n\u001b[1;31m_IncompleteInputError\u001b[0m\u001b[1;31m:\u001b[0m incomplete input\n"
     ]
    }
   ],
   "source": [
    "for item in sequence:\n",
    "    # Code to execute for each item in the sequence"
   ]
  },
  {
   "cell_type": "code",
   "execution_count": null,
   "id": "83da62f4",
   "metadata": {},
   "outputs": [
    {
     "ename": "SyntaxError",
     "evalue": "incomplete input (3606105216.py, line 2)",
     "output_type": "error",
     "traceback": [
      "\u001b[1;36m  Cell \u001b[1;32mIn[28], line 2\u001b[1;36m\u001b[0m\n\u001b[1;33m    # Code to execute as long as the condition is true\u001b[0m\n\u001b[1;37m                                                      ^\u001b[0m\n\u001b[1;31mSyntaxError\u001b[0m\u001b[1;31m:\u001b[0m incomplete input\n"
     ]
    }
   ],
   "source": [
    "while condition:\n",
    "    # Code to execute as long as the condition is true"
   ]
  },
  {
   "cell_type": "markdown",
   "id": "b396b73c",
   "metadata": {},
   "source": [
    "### While loop"
   ]
  },
  {
   "cell_type": "code",
   "execution_count": null,
   "id": "f901edc5",
   "metadata": {},
   "outputs": [
    {
     "name": "stdout",
     "output_type": "stream",
     "text": [
      "1\n",
      "2\n",
      "3\n"
     ]
    }
   ],
   "source": [
    "n = 4\n",
    "i = 1\n",
    "while i < n :\n",
    "    print(i)\n",
    "    i = i+1"
   ]
  },
  {
   "cell_type": "code",
   "execution_count": null,
   "id": "a0dc8a0e",
   "metadata": {},
   "outputs": [
    {
     "name": "stdout",
     "output_type": "stream",
     "text": [
      "1\n",
      "3\n"
     ]
    }
   ],
   "source": [
    "n = 4\n",
    "i = 1\n",
    "while i < n :\n",
    "    print(i)\n",
    "    i = i+2"
   ]
  },
  {
   "cell_type": "code",
   "execution_count": null,
   "id": "5d194103",
   "metadata": {},
   "outputs": [
    {
     "name": "stdout",
     "output_type": "stream",
     "text": [
      "2\n",
      "3\n"
     ]
    }
   ],
   "source": [
    "n = 4\n",
    "i = 2\n",
    "while i < n :\n",
    "    print(i)\n",
    "    i = i+1"
   ]
  },
  {
   "cell_type": "code",
   "execution_count": null,
   "id": "830ce4b6",
   "metadata": {},
   "outputs": [
    {
     "name": "stdout",
     "output_type": "stream",
     "text": [
      "1\n",
      "2\n",
      "3\n",
      "this is my else\n"
     ]
    }
   ],
   "source": [
    "n = 4\n",
    "i = 1\n",
    "while i < n :\n",
    "    print(i)\n",
    "    i = i+1\n",
    "else :\n",
    "    print(\"this is my else\")"
   ]
  },
  {
   "cell_type": "code",
   "execution_count": null,
   "id": "ea536926",
   "metadata": {},
   "outputs": [
    {
     "name": "stdout",
     "output_type": "stream",
     "text": [
      "1\n",
      "2\n"
     ]
    }
   ],
   "source": [
    "n = 4\n",
    "i = 1\n",
    "while i < n :\n",
    "    print(i)\n",
    "    i = i+1\n",
    "    if i == 3 :\n",
    "        break \n",
    "else :\n",
    "    print(\"this is my else\")"
   ]
  },
  {
   "cell_type": "code",
   "execution_count": null,
   "id": "48e6aec9",
   "metadata": {},
   "outputs": [
    {
     "name": "stdout",
     "output_type": "stream",
     "text": [
      "1\n",
      "2\n",
      "3\n",
      "this is my else\n"
     ]
    }
   ],
   "source": [
    "n = 4\n",
    "i = 1\n",
    "while i < n :\n",
    "    print(i)\n",
    "    i = i+1\n",
    "    if i == 5 :\n",
    "        break \n",
    "else :\n",
    "    print(\"this is my else\")"
   ]
  },
  {
   "cell_type": "code",
   "execution_count": null,
   "id": "416d9aa1",
   "metadata": {},
   "outputs": [
    {
     "name": "stdout",
     "output_type": "stream",
     "text": [
      "s\n",
      "u\n",
      "d\n",
      "h\n"
     ]
    }
   ],
   "source": [
    "s = \"sudh\"\n",
    "for i in s :\n",
    "    print(i)"
   ]
  },
  {
   "cell_type": "code",
   "execution_count": null,
   "id": "969e6fbd",
   "metadata": {},
   "outputs": [],
   "source": [
    "l = [2,3,4,5,6,\"sudh\" , \"pwskills\" , 23.45, True]"
   ]
  },
  {
   "cell_type": "code",
   "execution_count": null,
   "id": "4a689846",
   "metadata": {},
   "outputs": [
    {
     "name": "stdout",
     "output_type": "stream",
     "text": [
      "<class 'int'>\n",
      "<class 'int'>\n",
      "<class 'int'>\n",
      "<class 'int'>\n",
      "<class 'int'>\n",
      "<class 'str'>\n",
      "<class 'str'>\n",
      "<class 'float'>\n",
      "<class 'bool'>\n"
     ]
    }
   ],
   "source": [
    "for i in l :\n",
    "    print(type(i))"
   ]
  },
  {
   "cell_type": "code",
   "execution_count": null,
   "id": "57570322",
   "metadata": {},
   "outputs": [
    {
     "name": "stdout",
     "output_type": "stream",
     "text": [
      "<class 'int'>\n",
      "<class 'int'>\n",
      "<class 'int'>\n",
      "<class 'int'>\n",
      "<class 'int'>\n",
      "<class 'str'>\n",
      "<class 'str'>\n",
      "<class 'float'>\n",
      "<class 'bool'>\n",
      "this will be executed once for loop will comoplete itself succefully\n"
     ]
    }
   ],
   "source": [
    "for i in l : \n",
    "    print(type(i))\n",
    "else :\n",
    "    print(\"this will be executed once for loop will comoplete itself succefully\")"
   ]
  },
  {
   "cell_type": "code",
   "execution_count": null,
   "id": "f57ea669",
   "metadata": {},
   "outputs": [
    {
     "name": "stdout",
     "output_type": "stream",
     "text": [
      "<class 'int'>\n",
      "<class 'int'>\n",
      "<class 'int'>\n",
      "<class 'int'>\n",
      "<class 'int'>\n"
     ]
    }
   ],
   "source": [
    "for i in l : \n",
    "    print(type(i))\n",
    "    if i == 6 :\n",
    "        break\n",
    "else :\n",
    "    print(\"this will be executed once for loop will comoplete itself succefully\")"
   ]
  },
  {
   "cell_type": "code",
   "execution_count": null,
   "id": "39def5bc",
   "metadata": {},
   "outputs": [
    {
     "name": "stdout",
     "output_type": "stream",
     "text": [
      "<class 'int'>\n",
      "<class 'int'>\n",
      "<class 'int'>\n",
      "<class 'int'>\n",
      "<class 'int'>\n",
      "<class 'str'>\n",
      "<class 'str'>\n",
      "<class 'float'>\n",
      "<class 'bool'>\n",
      "this will be executed once for loop will comoplete itself succefully\n"
     ]
    }
   ],
   "source": [
    "for i in l : \n",
    "    print(type(i))\n",
    "    if i == 6 :\n",
    "        continue\n",
    "else :\n",
    "    print(\"this will be executed once for loop will comoplete itself succefully\")"
   ]
  },
  {
   "cell_type": "code",
   "execution_count": null,
   "id": "001cf329",
   "metadata": {},
   "outputs": [
    {
     "data": {
      "text/plain": [
       "[2, 3, 4, 5, 6, 'sudh', 'pwskills', 23.45, True]"
      ]
     },
     "execution_count": 48,
     "metadata": {},
     "output_type": "execute_result"
    }
   ],
   "source": [
    "l"
   ]
  },
  {
   "cell_type": "code",
   "execution_count": null,
   "id": "a549b976",
   "metadata": {},
   "outputs": [
    {
     "name": "stdout",
     "output_type": "stream",
     "text": [
      "<class 'int'>\n",
      "2\n",
      "<class 'int'>\n",
      "3\n",
      "<class 'int'>\n",
      "4\n",
      "<class 'int'>\n",
      "5\n",
      "<class 'int'>\n",
      "<class 'str'>\n",
      "sudh\n",
      "<class 'str'>\n",
      "pwskills\n",
      "<class 'float'>\n",
      "23.45\n",
      "<class 'bool'>\n",
      "True\n",
      "this will be executed once for loop will comoplete itself succefully\n"
     ]
    }
   ],
   "source": [
    "for i in l : \n",
    "    print(type(i))\n",
    "    if i == 6 :\n",
    "        continue\n",
    "    print(i)\n",
    "else :\n",
    "    print(\"this will be executed once for loop will comoplete itself succefully\")"
   ]
  },
  {
   "cell_type": "code",
   "execution_count": null,
   "id": "4e65b6b9",
   "metadata": {},
   "outputs": [
    {
     "data": {
      "text/plain": [
       "range(0, -10)"
      ]
     },
     "execution_count": 43,
     "metadata": {},
     "output_type": "execute_result"
    }
   ],
   "source": [
    "range(0-10)"
   ]
  },
  {
   "cell_type": "code",
   "execution_count": null,
   "id": "d8764209",
   "metadata": {},
   "outputs": [
    {
     "data": {
      "text/plain": [
       "[0, 1, 2, 3, 4, 5, 6, 7, 8, 9]"
      ]
     },
     "execution_count": 51,
     "metadata": {},
     "output_type": "execute_result"
    }
   ],
   "source": [
    "list(range(10))"
   ]
  }
 ],
 "metadata": {
  "kernelspec": {
   "display_name": "Python 3",
   "language": "python",
   "name": "python3"
  },
  "language_info": {
   "codemirror_mode": {
    "name": "ipython",
    "version": 3
   },
   "file_extension": ".py",
   "mimetype": "text/x-python",
   "name": "python",
   "nbconvert_exporter": "python",
   "pygments_lexer": "ipython3",
   "version": "3.13.0"
  }
 },
 "nbformat": 4,
 "nbformat_minor": 5
}
