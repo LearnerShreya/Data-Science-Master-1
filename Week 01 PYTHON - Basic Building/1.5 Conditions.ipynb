{
 "cells": [
  {
   "cell_type": "markdown",
   "id": "c83e79b1",
   "metadata": {},
   "source": [
    "# Conditions"
   ]
  },
  {
   "cell_type": "markdown",
   "id": "65da7f99",
   "metadata": {},
   "source": [
    "conditions are used to make decisions and control the flow of your program. Conditions are typically implemented using if statements, elif (short for \"else if\") statements, and else statements. These control structures allow you to execute different blocks of code depending on whether certain conditions are true or false.\n",
    "- Conditions are fundamental to controlling the logic and behavior of your Python programs. You can also combine conditions using logical operators like and, or, and not to create more complex conditions."
   ]
  },
  {
   "cell_type": "markdown",
   "id": "d4d95cec",
   "metadata": {},
   "source": [
    "## Note : Indentation\n",
    "Indentation in Python refers to the use of spaces or tabs at the beginning of lines of code to define the structure and nesting of code blocks. It is a fundamental part of Python's syntax and determines the scope of statements within control structures and functions. Indentation helps make Python code readable and is used to denote blocks of code, such as those within loops, conditionals, and functions.\n",
    "###### \" When 2nd line is subsiquent of 1st line then in Python automatically start 2nd line after space known as indentation.\"\n",
    "Below print line started after indentation"
   ]
  },
  {
   "cell_type": "code",
   "execution_count": 22,
   "id": "c7cba669",
   "metadata": {},
   "outputs": [],
   "source": [
    "a=10\n",
    "if a>10:\n",
    "    print(\"Yes, 'a' is greater than 10\")"
   ]
  },
  {
   "cell_type": "markdown",
   "id": "2cc71ebf",
   "metadata": {},
   "source": [
    "### 1. **if Statement**: \n",
    "-The **'if'** statement is used to test a condition. If the condition is true, the code inside the **'if'** block is executed. If the condition is false, the code inside the **'if'** block is skipped.\n",
    "  - if condition:\n",
    "    - ###### Code to execute if the condition is true\n",
    "### 2. **elif Statement**: \n",
    "-The **'elif'** statement is used to test additional conditions if the initial **'if'** condition is false. You can have multiple **'elif'** statements after an **'if'** statement. If an **'elif'** condition is true, the code inside that **'elif'** block is executed.\n",
    "- if condition1:\n",
    "    - ###### Code to execute if condition1 is true\n",
    "- elif condition2:\n",
    "    - ###### Code to execute if condition2 is true\n",
    "- elif condition3:\n",
    "    - ###### Code to execute if condition3 is true\n",
    "    \n",
    "### 3. else Statement: \n",
    "-The **'else'** statement is used as a catch-all condition. If none of the previous conditions (if and elif) are true, the code inside the **'else'** block is executed.\n",
    "### if condition:\n",
    "    # Code to execute if the condition is true\n",
    "### else:\n",
    "    # Code to execute if the condition is false\n",
    "\n"
   ]
  },
  {
   "cell_type": "code",
   "execution_count": 23,
   "id": "871871d5",
   "metadata": {},
   "outputs": [],
   "source": [
    "a=10\n",
    "if a>10:\n",
    "    print(\"Yes, 'a' is greater than 10\")"
   ]
  },
  {
   "cell_type": "code",
   "execution_count": 24,
   "id": "41b42998",
   "metadata": {},
   "outputs": [
    {
     "data": {
      "text/plain": [
       "False"
      ]
     },
     "execution_count": 24,
     "metadata": {},
     "output_type": "execute_result"
    }
   ],
   "source": [
    "a>10"
   ]
  },
  {
   "cell_type": "code",
   "execution_count": 25,
   "id": "ec099a51",
   "metadata": {},
   "outputs": [
    {
     "name": "stdout",
     "output_type": "stream",
     "text": [
      "Yes, 'a' is greater than 10\n"
     ]
    }
   ],
   "source": [
    "a=10\n",
    "if a>=10:\n",
    "    print(\"Yes, 'a' is greater than 10\")"
   ]
  },
  {
   "cell_type": "code",
   "execution_count": 26,
   "id": "6427030b",
   "metadata": {},
   "outputs": [
    {
     "data": {
      "text/plain": [
       "False"
      ]
     },
     "execution_count": 26,
     "metadata": {},
     "output_type": "execute_result"
    }
   ],
   "source": [
    "a>10"
   ]
  },
  {
   "cell_type": "code",
   "execution_count": 27,
   "id": "e9ba3fb4",
   "metadata": {},
   "outputs": [
    {
     "data": {
      "text/plain": [
       "True"
      ]
     },
     "execution_count": 27,
     "metadata": {},
     "output_type": "execute_result"
    }
   ],
   "source": [
    "a>=10"
   ]
  },
  {
   "cell_type": "code",
   "execution_count": 28,
   "id": "6494c0ef",
   "metadata": {},
   "outputs": [
    {
     "name": "stdout",
     "output_type": "stream",
     "text": [
      "this is my defalut\n"
     ]
    }
   ],
   "source": [
    "b = 20 \n",
    "if b > 30 :\n",
    "    print(\"yes b is greater than 30\")\n",
    "elif b  > 40 : \n",
    "    print(\"yes b is leser than 40 \")\n",
    "elif b > 100 : \n",
    "    print(\"yes b is greater than 100\")\n",
    "else :\n",
    "    print(\"this is my defalut\")"
   ]
  },
  {
   "cell_type": "code",
   "execution_count": 29,
   "id": "f64366cb",
   "metadata": {},
   "outputs": [
    {
     "data": {
      "text/plain": [
       "False"
      ]
     },
     "execution_count": 29,
     "metadata": {},
     "output_type": "execute_result"
    }
   ],
   "source": [
    "b>30"
   ]
  },
  {
   "cell_type": "code",
   "execution_count": 30,
   "id": "9995902e",
   "metadata": {},
   "outputs": [
    {
     "data": {
      "text/plain": [
       "False"
      ]
     },
     "execution_count": 30,
     "metadata": {},
     "output_type": "execute_result"
    }
   ],
   "source": [
    "b>40"
   ]
  },
  {
   "cell_type": "code",
   "execution_count": 31,
   "id": "951d0f1c",
   "metadata": {},
   "outputs": [
    {
     "data": {
      "text/plain": [
       "False"
      ]
     },
     "execution_count": 31,
     "metadata": {},
     "output_type": "execute_result"
    }
   ],
   "source": [
    "b>100"
   ]
  },
  {
   "cell_type": "code",
   "execution_count": 32,
   "id": "19db95bc",
   "metadata": {},
   "outputs": [
    {
     "data": {
      "text/plain": [
       "True"
      ]
     },
     "execution_count": 32,
     "metadata": {},
     "output_type": "execute_result"
    }
   ],
   "source": [
    "b<40"
   ]
  },
  {
   "cell_type": "markdown",
   "id": "63331808",
   "metadata": {},
   "source": [
    "**Syntax** :int(input())  **In case we want to take input from user**"
   ]
  },
  {
   "cell_type": "code",
   "execution_count": 33,
   "id": "5627fe37",
   "metadata": {},
   "outputs": [
    {
     "name": "stdout",
     "output_type": "stream",
     "text": [
      "111\n",
      "yes b is greater than 30\n"
     ]
    }
   ],
   "source": [
    "b = int(input())\n",
    "if b > 30 :\n",
    "    print(\"yes b is greater than 30\")\n",
    "elif b  > 40 : \n",
    "    print(\"yes b is leser than 40 \")\n",
    "elif b > 100 : \n",
    "    print(\"yes b is greater than 100\")\n",
    "else :\n",
    "    print(\"this is my defalut\")"
   ]
  },
  {
   "cell_type": "code",
   "execution_count": 35,
   "id": "bc7326fa",
   "metadata": {},
   "outputs": [
    {
     "name": "stdout",
     "output_type": "stream",
     "text": [
      "20\n"
     ]
    }
   ],
   "source": [
    "b = int(input())"
   ]
  },
  {
   "cell_type": "code",
   "execution_count": 16,
   "id": "daef5f80",
   "metadata": {},
   "outputs": [],
   "source": [
    "c = int('34')"
   ]
  },
  {
   "cell_type": "code",
   "execution_count": 17,
   "id": "fbbfae2f",
   "metadata": {},
   "outputs": [
    {
     "data": {
      "text/plain": [
       "int"
      ]
     },
     "execution_count": 17,
     "metadata": {},
     "output_type": "execute_result"
    }
   ],
   "source": [
    "type(c)"
   ]
  },
  {
   "cell_type": "code",
   "execution_count": 36,
   "id": "84bbd461",
   "metadata": {},
   "outputs": [
    {
     "data": {
      "text/plain": [
       "20"
      ]
     },
     "execution_count": 36,
     "metadata": {},
     "output_type": "execute_result"
    }
   ],
   "source": [
    "b"
   ]
  },
  {
   "cell_type": "code",
   "execution_count": 19,
   "id": "f15e655e",
   "metadata": {},
   "outputs": [
    {
     "data": {
      "text/plain": [
       "int"
      ]
     },
     "execution_count": 19,
     "metadata": {},
     "output_type": "execute_result"
    }
   ],
   "source": [
    "type(b)"
   ]
  },
  {
   "cell_type": "code",
   "execution_count": 20,
   "id": "b9ec7209",
   "metadata": {},
   "outputs": [
    {
     "data": {
      "text/plain": [
       "34"
      ]
     },
     "execution_count": 20,
     "metadata": {},
     "output_type": "execute_result"
    }
   ],
   "source": [
    "c"
   ]
  },
  {
   "cell_type": "code",
   "execution_count": 38,
   "id": "b810db42",
   "metadata": {},
   "outputs": [
    {
     "name": "stdout",
     "output_type": "stream",
     "text": [
      "S\n",
      "S Shhh\n"
     ]
    }
   ],
   "source": [
    "d=input(input())"
   ]
  },
  {
   "cell_type": "code",
   "execution_count": 39,
   "id": "2f45b870",
   "metadata": {},
   "outputs": [
    {
     "data": {
      "text/plain": [
       "str"
      ]
     },
     "execution_count": 39,
     "metadata": {},
     "output_type": "execute_result"
    }
   ],
   "source": [
    "type(d)"
   ]
  },
  {
   "cell_type": "code",
   "execution_count": 40,
   "id": "b78e22e9",
   "metadata": {},
   "outputs": [
    {
     "name": "stdout",
     "output_type": "stream",
     "text": [
      "s\n"
     ]
    },
    {
     "ename": "ValueError",
     "evalue": "invalid literal for int() with base 10: 's'",
     "output_type": "error",
     "traceback": [
      "\u001b[1;31m---------------------------------------------------------------------------\u001b[0m",
      "\u001b[1;31mValueError\u001b[0m                                Traceback (most recent call last)",
      "Cell \u001b[1;32mIn[40], line 1\u001b[0m\n\u001b[1;32m----> 1\u001b[0m e \u001b[38;5;241m=\u001b[39m \u001b[38;5;28mint\u001b[39m(\u001b[38;5;28minput\u001b[39m())\n",
      "\u001b[1;31mValueError\u001b[0m: invalid literal for int() with base 10: 's'"
     ]
    }
   ],
   "source": [
    "e = int(input())"
   ]
  },
  {
   "cell_type": "code",
   "execution_count": 42,
   "id": "28fa22ae",
   "metadata": {},
   "outputs": [
    {
     "ename": "NameError",
     "evalue": "name 'char' is not defined",
     "output_type": "error",
     "traceback": [
      "\u001b[1;31m---------------------------------------------------------------------------\u001b[0m",
      "\u001b[1;31mNameError\u001b[0m                                 Traceback (most recent call last)",
      "Cell \u001b[1;32mIn[42], line 1\u001b[0m\n\u001b[1;32m----> 1\u001b[0m f\u001b[38;5;241m=\u001b[39mchar(\u001b[38;5;28minput\u001b[39m())\n",
      "\u001b[1;31mNameError\u001b[0m: name 'char' is not defined"
     ]
    }
   ],
   "source": [
    "f=char(input())"
   ]
  },
  {
   "cell_type": "markdown",
   "id": "cd18eb0b",
   "metadata": {},
   "source": [
    "# Loop: \n",
    "A loop in programming is a control structure that allows you to repeat a block of code either for a specified number of times or until a certain condition becomes false, facilitating the automation of repetitive tasks and iteration over data."
   ]
  },
  {
   "cell_type": "markdown",
   "id": "2ee8b503",
   "metadata": {},
   "source": [
    "## For Loop: \n",
    "A **'for'** loop is used to iterate over a sequence (such as a list, tuple, string, or range) or any iterable object. It executes a set of statements for each item in the sequence."
   ]
  },
  {
   "cell_type": "code",
   "execution_count": 21,
   "id": "b5e182e9",
   "metadata": {},
   "outputs": [
    {
     "ename": "SyntaxError",
     "evalue": "incomplete input (2454651112.py, line 2)",
     "output_type": "error",
     "traceback": [
      "\u001b[1;36m  Cell \u001b[1;32mIn[21], line 2\u001b[1;36m\u001b[0m\n\u001b[1;33m    # Code to execute for each item in the sequence\u001b[0m\n\u001b[1;37m                                                   ^\u001b[0m\n\u001b[1;31mSyntaxError\u001b[0m\u001b[1;31m:\u001b[0m incomplete input\n"
     ]
    }
   ],
   "source": [
    "for item in sequence:\n",
    "    # Code to execute for each item in the sequence"
   ]
  },
  {
   "cell_type": "markdown",
   "id": "620a7721",
   "metadata": {},
   "source": [
    "## While Loop: \n",
    "A **'while'** loop repeatedly executes a block of code as long as a specified condition is true. It's used when you don't know in advance how many iterations are needed."
   ]
  },
  {
   "cell_type": "code",
   "execution_count": 28,
   "id": "83da62f4",
   "metadata": {},
   "outputs": [
    {
     "ename": "SyntaxError",
     "evalue": "incomplete input (3606105216.py, line 2)",
     "output_type": "error",
     "traceback": [
      "\u001b[1;36m  Cell \u001b[1;32mIn[28], line 2\u001b[1;36m\u001b[0m\n\u001b[1;33m    # Code to execute as long as the condition is true\u001b[0m\n\u001b[1;37m                                                      ^\u001b[0m\n\u001b[1;31mSyntaxError\u001b[0m\u001b[1;31m:\u001b[0m incomplete input\n"
     ]
    }
   ],
   "source": [
    "while condition:\n",
    "    # Code to execute as long as the condition is true"
   ]
  },
  {
   "cell_type": "markdown",
   "id": "b396b73c",
   "metadata": {},
   "source": [
    "### While loop"
   ]
  },
  {
   "cell_type": "code",
   "execution_count": 29,
   "id": "f901edc5",
   "metadata": {},
   "outputs": [
    {
     "name": "stdout",
     "output_type": "stream",
     "text": [
      "1\n",
      "2\n",
      "3\n"
     ]
    }
   ],
   "source": [
    "n = 4\n",
    "i = 1\n",
    "while i < n :\n",
    "    print(i)\n",
    "    i = i+1"
   ]
  },
  {
   "cell_type": "code",
   "execution_count": 30,
   "id": "a0dc8a0e",
   "metadata": {},
   "outputs": [
    {
     "name": "stdout",
     "output_type": "stream",
     "text": [
      "1\n",
      "3\n"
     ]
    }
   ],
   "source": [
    "n = 4\n",
    "i = 1\n",
    "while i < n :\n",
    "    print(i)\n",
    "    i = i+2"
   ]
  },
  {
   "cell_type": "code",
   "execution_count": 31,
   "id": "5d194103",
   "metadata": {},
   "outputs": [
    {
     "name": "stdout",
     "output_type": "stream",
     "text": [
      "2\n",
      "3\n"
     ]
    }
   ],
   "source": [
    "n = 4\n",
    "i = 2\n",
    "while i < n :\n",
    "    print(i)\n",
    "    i = i+1"
   ]
  },
  {
   "cell_type": "code",
   "execution_count": 32,
   "id": "830ce4b6",
   "metadata": {},
   "outputs": [
    {
     "name": "stdout",
     "output_type": "stream",
     "text": [
      "1\n",
      "2\n",
      "3\n",
      "this is my else\n"
     ]
    }
   ],
   "source": [
    "n = 4\n",
    "i = 1\n",
    "while i < n :\n",
    "    print(i)\n",
    "    i = i+1\n",
    "else :\n",
    "    print(\"this is my else\")"
   ]
  },
  {
   "cell_type": "code",
   "execution_count": 33,
   "id": "ea536926",
   "metadata": {},
   "outputs": [
    {
     "name": "stdout",
     "output_type": "stream",
     "text": [
      "1\n",
      "2\n"
     ]
    }
   ],
   "source": [
    "n = 4\n",
    "i = 1\n",
    "while i < n :\n",
    "    print(i)\n",
    "    i = i+1\n",
    "    if i == 3 :\n",
    "        break \n",
    "else :\n",
    "    print(\"this is my else\")"
   ]
  },
  {
   "cell_type": "code",
   "execution_count": 34,
   "id": "48e6aec9",
   "metadata": {},
   "outputs": [
    {
     "name": "stdout",
     "output_type": "stream",
     "text": [
      "1\n",
      "2\n",
      "3\n",
      "this is my else\n"
     ]
    }
   ],
   "source": [
    "n = 4\n",
    "i = 1\n",
    "while i < n :\n",
    "    print(i)\n",
    "    i = i+1\n",
    "    if i == 5 :\n",
    "        break \n",
    "else :\n",
    "    print(\"this is my else\")"
   ]
  },
  {
   "cell_type": "code",
   "execution_count": 35,
   "id": "416d9aa1",
   "metadata": {},
   "outputs": [
    {
     "name": "stdout",
     "output_type": "stream",
     "text": [
      "s\n",
      "u\n",
      "d\n",
      "h\n"
     ]
    }
   ],
   "source": [
    "s = \"sudh\"\n",
    "for i in s :\n",
    "    print(i)"
   ]
  },
  {
   "cell_type": "code",
   "execution_count": 36,
   "id": "969e6fbd",
   "metadata": {},
   "outputs": [],
   "source": [
    "l = [2,3,4,5,6,\"sudh\" , \"pwskills\" , 23.45, True]"
   ]
  },
  {
   "cell_type": "code",
   "execution_count": 37,
   "id": "4a689846",
   "metadata": {},
   "outputs": [
    {
     "name": "stdout",
     "output_type": "stream",
     "text": [
      "<class 'int'>\n",
      "<class 'int'>\n",
      "<class 'int'>\n",
      "<class 'int'>\n",
      "<class 'int'>\n",
      "<class 'str'>\n",
      "<class 'str'>\n",
      "<class 'float'>\n",
      "<class 'bool'>\n"
     ]
    }
   ],
   "source": [
    "for i in l :\n",
    "    print(type(i))"
   ]
  },
  {
   "cell_type": "code",
   "execution_count": 45,
   "id": "57570322",
   "metadata": {},
   "outputs": [
    {
     "name": "stdout",
     "output_type": "stream",
     "text": [
      "<class 'int'>\n",
      "<class 'int'>\n",
      "<class 'int'>\n",
      "<class 'int'>\n",
      "<class 'int'>\n",
      "<class 'str'>\n",
      "<class 'str'>\n",
      "<class 'float'>\n",
      "<class 'bool'>\n",
      "this will be executed once for loop will comoplete itself succefully\n"
     ]
    }
   ],
   "source": [
    "for i in l : \n",
    "    print(type(i))\n",
    "else :\n",
    "    print(\"this will be executed once for loop will comoplete itself succefully\")"
   ]
  },
  {
   "cell_type": "code",
   "execution_count": 47,
   "id": "f57ea669",
   "metadata": {},
   "outputs": [
    {
     "name": "stdout",
     "output_type": "stream",
     "text": [
      "<class 'int'>\n",
      "<class 'int'>\n",
      "<class 'int'>\n",
      "<class 'int'>\n",
      "<class 'int'>\n"
     ]
    }
   ],
   "source": [
    "for i in l : \n",
    "    print(type(i))\n",
    "    if i == 6 :\n",
    "        break\n",
    "else :\n",
    "    print(\"this will be executed once for loop will comoplete itself succefully\")"
   ]
  },
  {
   "cell_type": "code",
   "execution_count": 46,
   "id": "39def5bc",
   "metadata": {},
   "outputs": [
    {
     "name": "stdout",
     "output_type": "stream",
     "text": [
      "<class 'int'>\n",
      "<class 'int'>\n",
      "<class 'int'>\n",
      "<class 'int'>\n",
      "<class 'int'>\n",
      "<class 'str'>\n",
      "<class 'str'>\n",
      "<class 'float'>\n",
      "<class 'bool'>\n",
      "this will be executed once for loop will comoplete itself succefully\n"
     ]
    }
   ],
   "source": [
    "for i in l : \n",
    "    print(type(i))\n",
    "    if i == 6 :\n",
    "        continue\n",
    "else :\n",
    "    print(\"this will be executed once for loop will comoplete itself succefully\")"
   ]
  },
  {
   "cell_type": "code",
   "execution_count": 48,
   "id": "001cf329",
   "metadata": {},
   "outputs": [
    {
     "data": {
      "text/plain": [
       "[2, 3, 4, 5, 6, 'sudh', 'pwskills', 23.45, True]"
      ]
     },
     "execution_count": 48,
     "metadata": {},
     "output_type": "execute_result"
    }
   ],
   "source": [
    "l"
   ]
  },
  {
   "cell_type": "code",
   "execution_count": 49,
   "id": "a549b976",
   "metadata": {},
   "outputs": [
    {
     "name": "stdout",
     "output_type": "stream",
     "text": [
      "<class 'int'>\n",
      "2\n",
      "<class 'int'>\n",
      "3\n",
      "<class 'int'>\n",
      "4\n",
      "<class 'int'>\n",
      "5\n",
      "<class 'int'>\n",
      "<class 'str'>\n",
      "sudh\n",
      "<class 'str'>\n",
      "pwskills\n",
      "<class 'float'>\n",
      "23.45\n",
      "<class 'bool'>\n",
      "True\n",
      "this will be executed once for loop will comoplete itself succefully\n"
     ]
    }
   ],
   "source": [
    "for i in l : \n",
    "    print(type(i))\n",
    "    if i == 6 :\n",
    "        continue\n",
    "    print(i)\n",
    "else :\n",
    "    print(\"this will be executed once for loop will comoplete itself succefully\")"
   ]
  },
  {
   "cell_type": "code",
   "execution_count": 43,
   "id": "4e65b6b9",
   "metadata": {},
   "outputs": [
    {
     "data": {
      "text/plain": [
       "range(0, -10)"
      ]
     },
     "execution_count": 43,
     "metadata": {},
     "output_type": "execute_result"
    }
   ],
   "source": [
    "range(0-10)"
   ]
  },
  {
   "cell_type": "code",
   "execution_count": 51,
   "id": "d8764209",
   "metadata": {},
   "outputs": [
    {
     "data": {
      "text/plain": [
       "[0, 1, 2, 3, 4, 5, 6, 7, 8, 9]"
      ]
     },
     "execution_count": 51,
     "metadata": {},
     "output_type": "execute_result"
    }
   ],
   "source": [
    "list(range(10))"
   ]
  }
 ],
 "metadata": {
  "kernelspec": {
   "display_name": "Python 3 (ipykernel)",
   "language": "python",
   "name": "python3"
  },
  "language_info": {
   "codemirror_mode": {
    "name": "ipython",
    "version": 3
   },
   "file_extension": ".py",
   "mimetype": "text/x-python",
   "name": "python",
   "nbconvert_exporter": "python",
   "pygments_lexer": "ipython3",
   "version": "3.11.4"
  }
 },
 "nbformat": 4,
 "nbformat_minor": 5
}
