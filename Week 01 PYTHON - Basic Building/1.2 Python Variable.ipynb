{
 "cells": [
  {
   "cell_type": "markdown",
   "id": "00d9e8aa",
   "metadata": {},
   "source": [
    "# Variables in C\n",
    "\n",
    "- A **variable** is a name of a memory location used to store data. \n",
    "- The value stored in a variable can be changed during program execution, and the same variable can be reused multiple times. \n",
    "- Variables allow us to reference memory locations through symbols, making the program easier to understand and work with.\n",
    "\n",
    "## Declaring a Variable\n",
    "\n",
    "In Python, variables do not require an explicit type declaration like in some other programming languages. We can declare a variable by simply assigning a value.\n",
    "\n",
    "### Syntax:\n",
    "```python\n",
    "variable_name = value"
   ]
  },
  {
   "cell_type": "code",
   "execution_count": 5,
   "id": "e4d0fee6",
   "metadata": {},
   "outputs": [],
   "source": [
    "# Declaring variables in Python\n",
    "a = 10         # Integer\n",
    "b = 20.5       # Float\n",
    "c = 'A'        # Character (String)"
   ]
  },
  {
   "cell_type": "markdown",
   "id": "cfaf5dfa",
   "metadata": {},
   "source": [
    "## Rules for Defining Variables\n",
    "\n",
    "- A variable name can include **alphabets, digits, and underscores (`_`)**.\n",
    "- A variable name **must start with an alphabet or an underscore (`_`)**. It **cannot** start with a digit.\n",
    "- **No spaces** are allowed in variable names.\n",
    "- A variable name **cannot be a reserved word** (e.g., `int`, `float`, `return`, etc.).\n",
    "- **Case sensitivity**: Variable names are case-sensitive, meaning `var`, `Var`, and `VAR` are treated as different variables.\n",
    "\n",
    "### Examples of Valid Variable Names:\n",
    "```c\n",
    "int a;        // valid\n",
    "int _ab;      // valid\n",
    "int a30;      // valid"
   ]
  },
  {
   "cell_type": "markdown",
   "id": "88b7e2be",
   "metadata": {},
   "source": [
    "### Examples of Invalid Variable Names:\n",
    "```c\n",
    "int 2;        // invalid: cannot start with a digit\n",
    "int a b;      // invalid: no spaces allowed in variable names\n",
    "int long;     // invalid: 'long' is a reserved keyword"
   ]
  },
  {
   "cell_type": "markdown",
   "id": "d76436b6",
   "metadata": {},
   "source": [
    "# Variable Scope in Python\n",
    "\n",
    "In Python, the **scope** of a variable refers to the portion of the program where the variable can be accessed or modified. Python has various types of variable scopes, which determine the lifespan and accessibility of variables in different parts of the program.\n",
    "\n",
    "## Types of Variable Scope\n",
    "\n",
    "### 1. **Local Scope**\n",
    "A variable defined inside a function has a local scope, meaning it is only accessible within that function.\n",
    "\n",
    "```python\n",
    "def my_function():\n",
    "    x = 10  # x has local scope\n",
    "    print(x)\n",
    "\n",
    "my_function()\n",
    "# Output: 10\n",
    "\n",
    "print(x)  # This will raise a NameError because x is not defined outside the function\n"
   ]
  },
  {
   "cell_type": "markdown",
   "id": "17c47fdc",
   "metadata": {},
   "source": [
    "### 2. **Global Scope**\n",
    "A variable defined outside all functions has a global scope, meaning it can be accessed anywhere in the program.\n",
    "\n",
    "```python\n",
    "x = 20  # x has global scope\n",
    "\n",
    "def my_function():\n",
    "    print(x)\n",
    "\n",
    "my_function()  # Output: 20\n",
    "print(x)  # Output: 20\n"
   ]
  },
  {
   "cell_type": "markdown",
   "id": "c6d2bccb",
   "metadata": {},
   "source": [
    "### 3. **Enclosing (Nonlocal) Scope**\n",
    "This refers to variables in the enclosing function of a nested function. These variables are neither local nor global but can be accessed by the inner function using the `nonlocal` keyword.\n",
    "\n",
    "```python\n",
    "def outer_function():\n",
    "    x = 30  # Enclosing variable\n",
    "    \n",
    "    def inner_function():\n",
    "        nonlocal x  # Accessing the enclosing scope variable\n",
    "        x = 40\n",
    "        print(\"Inner x:\", x)\n",
    "    \n",
    "    inner_function()\n",
    "    print(\"Outer x:\", x)\n",
    "\n",
    "outer_function()\n",
    "# Output:\n",
    "# Inner x: 40\n",
    "# Outer x: 40\n"
   ]
  },
  {
   "cell_type": "markdown",
   "id": "591bf6a2",
   "metadata": {},
   "source": [
    "### 4. **Built-in Scope**\n",
    "This is the scope of special reserved keywords or functions in Python. These are part of the standard Python library and are available globally.\n",
    "\n",
    "```python\n",
    "print(len([1, 2, 3]))  # len is a built-in function\n"
   ]
  },
  {
   "cell_type": "markdown",
   "id": "c6a92996",
   "metadata": {},
   "source": [
    "## Scope Lookup: LEGB Rule\n",
    "Python follows the **LEGB Rule** to determine the order in which variables are looked up in different scopes:\n",
    "\n",
    "1. **L**: Local — Inside the current function.\n",
    "2. **E**: Enclosing — In the enclosing functions' scope (for nested functions).\n",
    "3. **G**: Global — At the top level of the module.\n",
    "4. **B**: Built-in — Python’s built-in names.\n"
   ]
  },
  {
   "cell_type": "code",
   "execution_count": 7,
   "id": "2fabb895",
   "metadata": {},
   "outputs": [
    {
     "name": "stdout",
     "output_type": "stream",
     "text": [
      "30\n",
      "50\n"
     ]
    }
   ],
   "source": [
    "x = 50  # Global\n",
    "\n",
    "def outer_function():\n",
    "    x = 40  # Enclosing\n",
    "    \n",
    "    def inner_function():\n",
    "        x = 30  # Local\n",
    "        print(x)\n",
    "    \n",
    "    inner_function()\n",
    "\n",
    "outer_function()  # Output: 30 (Local x is printed)\n",
    "print(x)  # Output: 50 (Global x is printed)\n"
   ]
  },
  {
   "cell_type": "markdown",
   "id": "985a84d5",
   "metadata": {},
   "source": [
    "### Conclusion\n",
    "Understanding variable scope is essential to controlling the behavior of variables and functions in Python. Correct use of scopes helps avoid naming conflicts and improves the readability and maintainability of your code.\n"
   ]
  },
  {
   "cell_type": "code",
   "execution_count": 8,
   "id": "30279c8f",
   "metadata": {},
   "outputs": [],
   "source": [
    "a = 1"
   ]
  },
  {
   "cell_type": "code",
   "execution_count": 9,
   "id": "2aa9bcfb",
   "metadata": {},
   "outputs": [
    {
     "data": {
      "text/plain": [
       "1"
      ]
     },
     "execution_count": 9,
     "metadata": {},
     "output_type": "execute_result"
    }
   ],
   "source": [
    "a"
   ]
  },
  {
   "cell_type": "code",
   "execution_count": 10,
   "id": "bd98abaa",
   "metadata": {},
   "outputs": [
    {
     "data": {
      "text/plain": [
       "int"
      ]
     },
     "execution_count": 10,
     "metadata": {},
     "output_type": "execute_result"
    }
   ],
   "source": [
    "type(a)"
   ]
  },
  {
   "cell_type": "code",
   "execution_count": 11,
   "id": "c1f296d7",
   "metadata": {},
   "outputs": [],
   "source": [
    "b = 'Shreya'"
   ]
  },
  {
   "cell_type": "code",
   "execution_count": 12,
   "id": "56cbce1b",
   "metadata": {},
   "outputs": [
    {
     "data": {
      "text/plain": [
       "'Shreya'"
      ]
     },
     "execution_count": 12,
     "metadata": {},
     "output_type": "execute_result"
    }
   ],
   "source": [
    "b"
   ]
  },
  {
   "cell_type": "code",
   "execution_count": 13,
   "id": "4c2d2693",
   "metadata": {},
   "outputs": [
    {
     "data": {
      "text/plain": [
       "str"
      ]
     },
     "execution_count": 13,
     "metadata": {},
     "output_type": "execute_result"
    }
   ],
   "source": [
    "type(b)"
   ]
  },
  {
   "cell_type": "code",
   "execution_count": 14,
   "id": "94cbdfee",
   "metadata": {},
   "outputs": [],
   "source": [
    "c = \"Shrey\""
   ]
  },
  {
   "cell_type": "code",
   "execution_count": 15,
   "id": "b41aec24",
   "metadata": {},
   "outputs": [
    {
     "data": {
      "text/plain": [
       "'Shrey'"
      ]
     },
     "execution_count": 15,
     "metadata": {},
     "output_type": "execute_result"
    }
   ],
   "source": [
    "c"
   ]
  },
  {
   "cell_type": "code",
   "execution_count": 16,
   "id": "08ad8c52",
   "metadata": {},
   "outputs": [
    {
     "data": {
      "text/plain": [
       "str"
      ]
     },
     "execution_count": 16,
     "metadata": {},
     "output_type": "execute_result"
    }
   ],
   "source": [
    "type(c)"
   ]
  },
  {
   "cell_type": "code",
   "execution_count": 17,
   "id": "1c1099ec",
   "metadata": {},
   "outputs": [],
   "source": [
    "d = 24.11"
   ]
  },
  {
   "cell_type": "code",
   "execution_count": 18,
   "id": "4701f2d3",
   "metadata": {},
   "outputs": [
    {
     "data": {
      "text/plain": [
       "24.11"
      ]
     },
     "execution_count": 18,
     "metadata": {},
     "output_type": "execute_result"
    }
   ],
   "source": [
    "d"
   ]
  },
  {
   "cell_type": "code",
   "execution_count": 19,
   "id": "6c47dff5",
   "metadata": {},
   "outputs": [
    {
     "data": {
      "text/plain": [
       "float"
      ]
     },
     "execution_count": 19,
     "metadata": {},
     "output_type": "execute_result"
    }
   ],
   "source": [
    "type(d)"
   ]
  },
  {
   "cell_type": "code",
   "execution_count": 20,
   "id": "5814babd",
   "metadata": {},
   "outputs": [],
   "source": [
    "shrey = 2415"
   ]
  },
  {
   "cell_type": "code",
   "execution_count": 21,
   "id": "a5850477",
   "metadata": {},
   "outputs": [
    {
     "data": {
      "text/plain": [
       "2415"
      ]
     },
     "execution_count": 21,
     "metadata": {},
     "output_type": "execute_result"
    }
   ],
   "source": [
    "shrey"
   ]
  },
  {
   "cell_type": "code",
   "execution_count": 22,
   "id": "d517e234",
   "metadata": {},
   "outputs": [
    {
     "data": {
      "text/plain": [
       "int"
      ]
     },
     "execution_count": 22,
     "metadata": {},
     "output_type": "execute_result"
    }
   ],
   "source": [
    "type(shrey)"
   ]
  },
  {
   "cell_type": "markdown",
   "id": "92202aa4",
   "metadata": {},
   "source": [
    "# Boolean "
   ]
  },
  {
   "cell_type": "code",
   "execution_count": 23,
   "id": "cf6a28ae",
   "metadata": {},
   "outputs": [],
   "source": [
    "e = True"
   ]
  },
  {
   "cell_type": "code",
   "execution_count": 24,
   "id": "3bbbab62",
   "metadata": {},
   "outputs": [
    {
     "data": {
      "text/plain": [
       "True"
      ]
     },
     "execution_count": 24,
     "metadata": {},
     "output_type": "execute_result"
    }
   ],
   "source": [
    "e"
   ]
  },
  {
   "cell_type": "code",
   "execution_count": 25,
   "id": "ad242482",
   "metadata": {},
   "outputs": [
    {
     "data": {
      "text/plain": [
       "bool"
      ]
     },
     "execution_count": 25,
     "metadata": {},
     "output_type": "execute_result"
    }
   ],
   "source": [
    "type(e)"
   ]
  },
  {
   "cell_type": "code",
   "execution_count": 26,
   "id": "c1ba6a5d",
   "metadata": {},
   "outputs": [],
   "source": [
    "f = False"
   ]
  },
  {
   "cell_type": "code",
   "execution_count": 27,
   "id": "f6d1459f",
   "metadata": {},
   "outputs": [
    {
     "data": {
      "text/plain": [
       "False"
      ]
     },
     "execution_count": 27,
     "metadata": {},
     "output_type": "execute_result"
    }
   ],
   "source": [
    "f"
   ]
  },
  {
   "cell_type": "code",
   "execution_count": 28,
   "id": "f962c249",
   "metadata": {},
   "outputs": [
    {
     "data": {
      "text/plain": [
       "bool"
      ]
     },
     "execution_count": 28,
     "metadata": {},
     "output_type": "execute_result"
    }
   ],
   "source": [
    "type(f)"
   ]
  },
  {
   "cell_type": "code",
   "execution_count": 29,
   "id": "5785b1f5",
   "metadata": {},
   "outputs": [
    {
     "data": {
      "text/plain": [
       "1"
      ]
     },
     "execution_count": 29,
     "metadata": {},
     "output_type": "execute_result"
    }
   ],
   "source": [
    "True - False"
   ]
  },
  {
   "cell_type": "code",
   "execution_count": 30,
   "id": "fa18c61b",
   "metadata": {},
   "outputs": [
    {
     "data": {
      "text/plain": [
       "0"
      ]
     },
     "execution_count": 30,
     "metadata": {},
     "output_type": "execute_result"
    }
   ],
   "source": [
    "True * False"
   ]
  },
  {
   "cell_type": "code",
   "execution_count": 32,
   "id": "2bf1a4c4",
   "metadata": {},
   "outputs": [
    {
     "ename": "ZeroDivisionError",
     "evalue": "division by zero",
     "output_type": "error",
     "traceback": [
      "\u001b[1;31m---------------------------------------------------------------------------\u001b[0m",
      "\u001b[1;31mZeroDivisionError\u001b[0m                         Traceback (most recent call last)",
      "Cell \u001b[1;32mIn[32], line 1\u001b[0m\n\u001b[1;32m----> 1\u001b[0m \u001b[38;5;28;01mTrue\u001b[39;00m \u001b[38;5;241m/\u001b[39m \u001b[38;5;28;01mFalse\u001b[39;00m\n",
      "\u001b[1;31mZeroDivisionError\u001b[0m: division by zero"
     ]
    }
   ],
   "source": [
    "True / False"
   ]
  },
  {
   "cell_type": "markdown",
   "id": "99b53d34",
   "metadata": {},
   "source": [
    "1. True - False\n",
    "- 1 - 0 = 1\n",
    "- i.e. True"
   ]
  },
  {
   "cell_type": "markdown",
   "id": "9e3d09f5",
   "metadata": {},
   "source": [
    "2. True * False\n",
    "- 1*0 = 0\n",
    "- i.e. False"
   ]
  },
  {
   "cell_type": "markdown",
   "id": "9b32e3e6",
   "metadata": {},
   "source": [
    "3. True / False\n",
    "- 1/0\n",
    "- Infinite\n",
    "- Not supported by system ( supported in NumPy )\n",
    "- i.e showing error"
   ]
  },
  {
   "cell_type": "code",
   "execution_count": 34,
   "id": "fcd43678",
   "metadata": {},
   "outputs": [],
   "source": [
    "g = 5 + 4j"
   ]
  },
  {
   "cell_type": "code",
   "execution_count": 35,
   "id": "553dec59",
   "metadata": {},
   "outputs": [
    {
     "data": {
      "text/plain": [
       "(5+4j)"
      ]
     },
     "execution_count": 35,
     "metadata": {},
     "output_type": "execute_result"
    }
   ],
   "source": [
    "g"
   ]
  },
  {
   "cell_type": "code",
   "execution_count": 36,
   "id": "4871089f",
   "metadata": {},
   "outputs": [
    {
     "data": {
      "text/plain": [
       "complex"
      ]
     },
     "execution_count": 36,
     "metadata": {},
     "output_type": "execute_result"
    }
   ],
   "source": [
    "type(g)"
   ]
  },
  {
   "cell_type": "code",
   "execution_count": 37,
   "id": "a39d8f1d",
   "metadata": {},
   "outputs": [
    {
     "ename": "SyntaxError",
     "evalue": "invalid decimal literal (1941790698.py, line 1)",
     "output_type": "error",
     "traceback": [
      "\u001b[1;36m  Cell \u001b[1;32mIn[37], line 1\u001b[1;36m\u001b[0m\n\u001b[1;33m    h = 5 + 4i\u001b[0m\n\u001b[1;37m            ^\u001b[0m\n\u001b[1;31mSyntaxError\u001b[0m\u001b[1;31m:\u001b[0m invalid decimal literal\n"
     ]
    }
   ],
   "source": [
    "h = 5 + 4i"
   ]
  },
  {
   "cell_type": "markdown",
   "id": "b18e18fc",
   "metadata": {},
   "source": [
    "# Complex or imaginary part is support only in case of \"j\" other then \"j\" are not supported\n",
    "In mathemathics it's common to use i as imaginary or complex"
   ]
  },
  {
   "cell_type": "code",
   "execution_count": 38,
   "id": "f80512df",
   "metadata": {},
   "outputs": [
    {
     "ename": "SyntaxError",
     "evalue": "cannot assign to literal here. Maybe you meant '==' instead of '='? (217617900.py, line 1)",
     "output_type": "error",
     "traceback": [
      "\u001b[1;36m  Cell \u001b[1;32mIn[38], line 1\u001b[1;36m\u001b[0m\n\u001b[1;33m    345 = 5\u001b[0m\n\u001b[1;37m    ^\u001b[0m\n\u001b[1;31mSyntaxError\u001b[0m\u001b[1;31m:\u001b[0m cannot assign to literal here. Maybe you meant '==' instead of '='?\n"
     ]
    }
   ],
   "source": [
    "345 = 5"
   ]
  },
  {
   "cell_type": "markdown",
   "id": "02ce0185",
   "metadata": {},
   "source": [
    "Numeric variable name is not possible"
   ]
  },
  {
   "cell_type": "code",
   "execution_count": 39,
   "id": "49d3a188",
   "metadata": {},
   "outputs": [
    {
     "ename": "SyntaxError",
     "evalue": "invalid decimal literal (3445766998.py, line 1)",
     "output_type": "error",
     "traceback": [
      "\u001b[1;36m  Cell \u001b[1;32mIn[39], line 1\u001b[1;36m\u001b[0m\n\u001b[1;33m    45gh = 234\u001b[0m\n\u001b[1;37m     ^\u001b[0m\n\u001b[1;31mSyntaxError\u001b[0m\u001b[1;31m:\u001b[0m invalid decimal literal\n"
     ]
    }
   ],
   "source": [
    "45gh = 234"
   ]
  },
  {
   "cell_type": "markdown",
   "id": "289236a9",
   "metadata": {},
   "source": [
    "Alphanumeric i.e. Alphabet + Numeric is not possible as variable name"
   ]
  },
  {
   "cell_type": "code",
   "execution_count": 41,
   "id": "e63054a9",
   "metadata": {},
   "outputs": [],
   "source": [
    "#45 = 25"
   ]
  },
  {
   "cell_type": "code",
   "execution_count": 42,
   "id": "64bf3248",
   "metadata": {},
   "outputs": [
    {
     "ename": "SyntaxError",
     "evalue": "invalid syntax (2612490610.py, line 1)",
     "output_type": "error",
     "traceback": [
      "\u001b[1;36m  Cell \u001b[1;32mIn[42], line 1\u001b[1;36m\u001b[0m\n\u001b[1;33m    $45 = 25\u001b[0m\n\u001b[1;37m    ^\u001b[0m\n\u001b[1;31mSyntaxError\u001b[0m\u001b[1;31m:\u001b[0m invalid syntax\n"
     ]
    }
   ],
   "source": [
    "$45 = 25"
   ]
  },
  {
   "cell_type": "markdown",
   "id": "69dacc91",
   "metadata": {},
   "source": [
    "- Hash means comment\n",
    "- Underscore is supported\n",
    "- Other Special symbols are not supported "
   ]
  },
  {
   "cell_type": "markdown",
   "id": "883343e9",
   "metadata": {},
   "source": [
    "# Extraction of real and imaginary part from complex number"
   ]
  },
  {
   "cell_type": "code",
   "execution_count": 44,
   "id": "5dead92c",
   "metadata": {},
   "outputs": [
    {
     "data": {
      "text/plain": [
       "(5+4j)"
      ]
     },
     "execution_count": 44,
     "metadata": {},
     "output_type": "execute_result"
    }
   ],
   "source": [
    "g"
   ]
  },
  {
   "cell_type": "code",
   "execution_count": 45,
   "id": "6947f208",
   "metadata": {},
   "outputs": [
    {
     "data": {
      "text/plain": [
       "5.0"
      ]
     },
     "execution_count": 45,
     "metadata": {},
     "output_type": "execute_result"
    }
   ],
   "source": [
    "g.real"
   ]
  },
  {
   "cell_type": "code",
   "execution_count": 47,
   "id": "51d69028",
   "metadata": {},
   "outputs": [
    {
     "data": {
      "text/plain": [
       "4.0"
      ]
     },
     "execution_count": 47,
     "metadata": {},
     "output_type": "execute_result"
    }
   ],
   "source": [
    "g.imag"
   ]
  }
 ],
 "metadata": {
  "kernelspec": {
   "display_name": "Python 3 (ipykernel)",
   "language": "python",
   "name": "python3"
  },
  "language_info": {
   "codemirror_mode": {
    "name": "ipython",
    "version": 3
   },
   "file_extension": ".py",
   "mimetype": "text/x-python",
   "name": "python",
   "nbconvert_exporter": "python",
   "pygments_lexer": "ipython3",
   "version": "3.12.2"
  }
 },
 "nbformat": 4,
 "nbformat_minor": 5
}
