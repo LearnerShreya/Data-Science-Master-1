{
 "cells": [
  {
   "cell_type": "markdown",
   "id": "00d9e8aa",
   "metadata": {},
   "source": [
    "# Variables\n",
    "\n",
    "* A **variable** is a name given to a specific memory location where data is stored.\n",
    "* You can **change the value** stored in a variable at any time while the program is running.\n",
    "* The **same variable name** can be used again and again to store different values as needed.\n",
    "* Instead of using complex memory addresses, we use **variable names (symbols)** to access data, which makes the program easier to read, write, and understand."
   ]
  },
  {
   "cell_type": "markdown",
   "id": "b311b54d",
   "metadata": {},
   "source": [
    "\n",
    "\n",
    "## 🔸 Declaring a Variable\n",
    "\n",
    "* In **Python**, **there is no need to specify the data type** (like `int`, `float`, etc.) when creating a variable.\n",
    "* A value is assigned directly, and Python automatically determines the type based on the value.\n",
    "\n",
    "> **Syntax:**\n",
    ">\n",
    "> ```python\n",
    "> variable_name = value\n",
    "> ```\n",
    "\n",
    "> Python handles the type automatically — this feature is called **dynamic typing**.\n",
    "\n",
    "---\n",
    "\n",
    "### Example of declaring variables in Python:\n",
    "\n",
    "```python\n",
    "age = 21        # Python recognizes this as an integer\n",
    "name = \"Shreya\" # Python recognizes this as a string\n",
    "price = 19.99   # Python recognizes this as a float\n",
    "```\n"
   ]
  },
  {
   "cell_type": "markdown",
   "id": "cfaf5dfa",
   "metadata": {},
   "source": [
    "\n",
    "## 🔸 Rules for Defining Variables\n",
    "\n",
    "* A variable name can include **letters (a–z, A–Z)**, **digits (0–9)**, and **underscores (`_`)**.\n",
    "* A variable name **must begin with a letter or an underscore (`_`)**, **not a digit**.\n",
    "* **Spaces are not allowed** in variable names.\n",
    "* A variable name **cannot be a reserved keyword** (e.g., `int`, `float`, `return`, etc.).\n",
    "* **Variable names are case-sensitive**, so `var`, `Var`, and `VAR` are considered different.\n",
    "\n",
    "#### ✅ Examples of Valid Variable Names:\n",
    "\n",
    "```c\n",
    "int a;       // valid\n",
    "int _ab;     // valid\n",
    "int a30;     // valid\n",
    "```\n",
    "\n",
    "#### ❌ Examples of Invalid Variable Names:\n",
    "\n",
    "```c\n",
    "int 1a;      // invalid – starts with a digit\n",
    "int a b;     // invalid – contains space\n",
    "int int;     // invalid – uses a reserved keyword\n",
    "```\n"
   ]
  },
  {
   "cell_type": "markdown",
   "id": "d851ec7f",
   "metadata": {},
   "source": [
    "## 🔸 **Namespaces and Variable Scopes in Python**\n",
    "\n",
    "Python uses namespaces and scopes to organize variables and control where they can be accessed or modified in your code.\n",
    "\n",
    "| Term            | Meaning                                                              |\n",
    "| --------------- | -------------------------------------------------------------------- |\n",
    "| **Namespace**   | A space where names (variables, functions) are stored                |\n",
    "| **Scope**       | The area of code where a variable is accessible (local/global)       |\n",
    "| **Stack Frame** | A temporary memory block created for a function during its execution |\n",
    "| **Call Stack**  | Keeps track of which functions are running and where to return       |\n"
   ]
  },
  {
   "cell_type": "markdown",
   "id": "ebac9111",
   "metadata": {},
   "source": [
    "\n",
    "## 1. What is a Namespace?\n",
    "\n",
    "* A **namespace** is like a **container or mapping** that holds **variable names** and their associated **objects (values)**.\n",
    "* Think of it as a **dictionary:**\n",
    "\n",
    "  * **Keys:** variable names (e.g., `x`, `print`)\n",
    "  * **Values:** the objects or values those variables point to\n",
    "\n",
    "### Types of Namespaces in Python\n",
    "\n",
    "| Namespace    | Description                                    | Examples                            |\n",
    "| ------------ | ---------------------------------------------- | ----------------------------------- |\n",
    "| **Built-in** | Holds built-in Python functions and keywords   | `print()`, `len()`, `int()`, `list` |\n",
    "| **Global**   | Variables defined at the top-level of a module | `x = 10` outside any function       |\n",
    "| **Local**    | Variables defined inside a function            | `x = 5` inside `def func():`        |\n",
    "\n",
    "---\n",
    "\n",
    "## 2. What is Scope?\n",
    "\n",
    "* **Scope** is the **region of the program** where a variable is **accessible**.\n",
    "* It controls the **visibility and lifetime** of variables.\n",
    "* Python uses the **LEGB Rule** to determine the order it looks for variables:\n",
    "\n",
    "| Letter | Scope Type | Description                                       | Location Example                        |\n",
    "| ------ | ---------- | ------------------------------------------------- | --------------------------------------- |\n",
    "| **L**  | Local      | Inside the current function                       | Variables inside `def my_function():`   |\n",
    "| **E**  | Enclosing  | Variables in outer functions for nested functions | Outer function variables in nested defs |\n",
    "| **G**  | Global     | Variables defined at the top-level of a module    | Outside all functions                   |\n",
    "| **B**  | Built-in   | Python built-in functions and keywords            | `print()`, `len()`                      |\n"
   ]
  },
  {
   "cell_type": "markdown",
   "id": "d76436b6",
   "metadata": {},
   "source": [
    "## 3. Types of Variable Scope\n",
    "\n",
    "### 3.1. **Local Scope**\n",
    "- Variables declared inside a function.\n",
    "- Accessible only within that function.\n",
    "- Created when the function runs and destroyed after it finishes.\n",
    "\n",
    "> Key point: Statements inside a function run only when the function is called."
   ]
  },
  {
   "cell_type": "code",
   "execution_count": 690,
   "id": "aedca95c",
   "metadata": {},
   "outputs": [
    {
     "name": "stdout",
     "output_type": "stream",
     "text": [
      "10\n",
      "50\n"
     ]
    }
   ],
   "source": [
    "def my_function():\n",
    "    x = 10  # x has local scope\n",
    "    print(x)\n",
    "my_function() # Output: 10\n",
    "print(x)  # This will raise a NameError because x is not defined outside the function"
   ]
  },
  {
   "cell_type": "markdown",
   "id": "785e3493",
   "metadata": {},
   "source": [
    "\n",
    "| **Line of Code**       | **What Python Does**                                                                    | **What You See / What Happens**                   |\n",
    "| ---------------------- | --------------------------------------------------------------------------------------- | ------------------------------------------------- |\n",
    "| `def my_function():`   | Python **creates** a function named `my_function` but doesn’t run it yet                | Function is saved in memory (no output)           |\n",
    "| `x = 10` (inside func) | When the function is called, Python creates a **local** variable `x = 10`               | This variable exists **only inside** the function |\n",
    "| `print(x)` (inside)    | Python prints the value of `x` inside the function                                      | 🖨️ `10` is printed                               |\n",
    "| `my_function()`        | You’re **calling** the function now                                                     | The function runs: sets `x = 10`, prints `10`     |\n",
    "| `print(x)` (outside)   | Python **can’t find** `x` in the global space, because `x` was only inside the function | ❌ Error: `NameError: name 'x' is not defined`     |\n",
    "\n",
    "#### Key Point:\n",
    "\n",
    "* `print(x)` **won’t run on its own** — it's inside the function.\n",
    "* `my_function()` **runs the function**, so `print(x)` happens.\n",
    "\n",
    "🧠 Think of it like a **recipe**:\n",
    "\n",
    "* `def my_function()` → Recipe is written.\n",
    "* `print(x)` → A step in the recipe.\n",
    "* `my_function()` → You **follow** the recipe — now things happen.\n"
   ]
  },
  {
   "cell_type": "markdown",
   "id": "17c47fdc",
   "metadata": {},
   "source": [
    "\n",
    "### **3.2. Global Scope**\n",
    "\n",
    "- Variables declared outside all functions.\n",
    "\n",
    "- Accessible anywhere in the module, including inside functions (read-only by default).\n",
    "\n",
    "- To modify a global variable inside a function, use the `global` keyword."
   ]
  },
  {
   "cell_type": "code",
   "execution_count": 691,
   "id": "57aff608",
   "metadata": {},
   "outputs": [
    {
     "name": "stdout",
     "output_type": "stream",
     "text": [
      "20\n",
      "20\n",
      "20\n"
     ]
    }
   ],
   "source": [
    "x = 20  # x has global scope\n",
    "\n",
    "def my_function():\n",
    "    print(x)\n",
    "\n",
    "my_function()  # Output: 20\n",
    "my_function()  # Output: 20\n",
    "print(x)  # Output: 20"
   ]
  },
  {
   "cell_type": "markdown",
   "id": "fe2ddf21",
   "metadata": {},
   "source": [
    "\n",
    "#### **Global Keyword**\n",
    "\n",
    "* The `global` keyword lets a function **use and change a variable** that is defined **outside all functions** (in the global scope).\n",
    "* Without `global`, assigning a value to a variable inside a function creates a new **local** variable.\n",
    "* Use `global` when you want to **modify the global variable** inside a function."
   ]
  },
  {
   "cell_type": "code",
   "execution_count": 692,
   "id": "566cdc76",
   "metadata": {},
   "outputs": [
    {
     "name": "stdout",
     "output_type": "stream",
     "text": [
      "20\n"
     ]
    }
   ],
   "source": [
    "x = 10  # Global variable\n",
    "\n",
    "def change():\n",
    "    global x # tell Python to use the global x\n",
    "    x = 20  # Changes the global x\n",
    "\n",
    "change()\n",
    "print(x)  # Output: 20"
   ]
  },
  {
   "cell_type": "markdown",
   "id": "c6d2bccb",
   "metadata": {},
   "source": [
    "### 3. **Enclosing (Nonlocal) Scope**\n",
    "\n",
    "This means using a variable from the **outer function** inside an **inner function**.\n",
    "\n",
    "* When you create a **function inside another function**, the variables in the **outer function** are called **enclosing variables**.\n",
    "* These variables are **not local** (because they don’t belong to the inner function), and they are **not global** either.\n",
    "* If the **inner function wants to change** the value of an outer function's variable, we use the **`nonlocal`** keyword.\n",
    "\n",
    "It tells Python:\n",
    "“Hey! I don’t want to create a new variable — I want to use and change the one from the outer function!”\n",
    "\n",
    "> What’s Happening:\n",
    "\n",
    "* `x = 30` is defined **only once** in `outer_function()`.\n",
    "* `nonlocal x` tells Python: “Use that same `x`.”\n",
    "* Then we update it to `40` inside `inner_function()` — but it’s still the **same `x`**.\n",
    "\n",
    "> If you **don’t** use `nonlocal`, and write just `x = 40` inside the inner function, then Python will **create a new local variable** (a different `x`), and the outer one will **stay unchanged**.\n"
   ]
  },
  {
   "cell_type": "code",
   "execution_count": 693,
   "id": "251681bf",
   "metadata": {},
   "outputs": [
    {
     "name": "stdout",
     "output_type": "stream",
     "text": [
      "Inner x: 40\n",
      "Outer x: 40\n"
     ]
    }
   ],
   "source": [
    "def outer_function():\n",
    "    x = 30  # Enclosing variable (belongs to outer_function)\n",
    "    \n",
    "    def inner_function():\n",
    "        nonlocal x  # Tell Python: use x from the outer_function\n",
    "        x = 40      # Change it\n",
    "        print(\"Inner x:\", x)  # Prints 40\n",
    "    \n",
    "    inner_function()\n",
    "    print(\"Outer x:\", x)  # Also prints 40, because it was changed by inner_function\n",
    "\n",
    "outer_function()"
   ]
  },
  {
   "cell_type": "markdown",
   "id": "591bf6a2",
   "metadata": {},
   "source": [
    "\n",
    "### 3.4. **Built-in Scope**\n",
    "\n",
    "- This is the scope that contains all the **built-in functions and keywords** provided by Python — like `print()`, `len()`, `type()`, etc.\n",
    "\n",
    "- These are always **available everywhere** in your program.\n",
    "You **don’t need to define them** — Python gives them to you by default!\n",
    "\n",
    "- You cannot change these built-in names."
   ]
  },
  {
   "cell_type": "code",
   "execution_count": 694,
   "id": "34648867",
   "metadata": {},
   "outputs": [
    {
     "name": "stdout",
     "output_type": "stream",
     "text": [
      "3\n",
      "5\n"
     ]
    }
   ],
   "source": [
    "print(len([1, 2, 3]))   # len() is a built-in function to count items in a list\n",
    "print(len(\"hello\"))     # Works on strings too — counts character"
   ]
  },
  {
   "cell_type": "markdown",
   "id": "46b3ff9e",
   "metadata": {},
   "source": [
    "## 4. LEGB Rule Recap — How Python Resolves Variables\n",
    "\n",
    "When Python encounters a variable name, it searches for it in this order:\n",
    "\n",
    "1. **L**ocal: Inside the current function\n",
    "2. **E**nclosing: In the nearest outer function(s) (if nested)\n",
    "3. **G**lobal: At the top-level of the module\n",
    "4. **B**uilt-in: Python built-ins"
   ]
  },
  {
   "cell_type": "code",
   "execution_count": 695,
   "id": "c20d4980",
   "metadata": {},
   "outputs": [
    {
     "name": "stdout",
     "output_type": "stream",
     "text": [
      "Inner (Local x): 30\n",
      "Outer (Enclosing x): 40\n",
      "Global x: 50\n"
     ]
    }
   ],
   "source": [
    "x = 50  # Global\n",
    "\n",
    "def outer_function():\n",
    "    x = 40  # Enclosing\n",
    "\n",
    "    def inner_function():\n",
    "        x = 30  # Local\n",
    "        print(\"Inner (Local x):\", x)  # Local x = 30\n",
    "\n",
    "    inner_function()\n",
    "    print(\"Outer (Enclosing x):\", x)  # Enclosing x = 40\n",
    "\n",
    "outer_function()\n",
    "print(\"Global x:\", x)  # Global x = 50"
   ]
  },
  {
   "cell_type": "code",
   "execution_count": 696,
   "id": "0981868f",
   "metadata": {},
   "outputs": [
    {
     "name": "stdout",
     "output_type": "stream",
     "text": [
      "Inner: 30\n",
      "Outer: 30\n",
      "Global: 50\n"
     ]
    }
   ],
   "source": [
    "x = 50  # Global\n",
    "\n",
    "def outer():\n",
    "    x = 40  # Enclosing\n",
    "    \n",
    "    def inner():\n",
    "        nonlocal x  # Refers to outer x\n",
    "        x = 30      # Modify enclosing x\n",
    "        print(\"Inner:\", x)  # 30\n",
    "    \n",
    "    inner()\n",
    "    print(\"Outer:\", x)  # 30\n",
    "\n",
    "outer()\n",
    "print(\"Global:\", x)  # 50"
   ]
  },
  {
   "cell_type": "markdown",
   "id": "12c4139d",
   "metadata": {},
   "source": [
    "## 5. Summary Table of Variable Scopes\n",
    "\n",
    "| Scope Type | Location                             | Keyword to Modify | Accessibility                  |\n",
    "| ---------- | ------------------------------------ | ----------------- | ------------------------------ |\n",
    "| Local      | Inside the current function          | None              | Only inside the function       |\n",
    "| Enclosing  | Outer function(s) of nested funcs    | `nonlocal`        | Accessible inside nested funcs |\n",
    "| Global     | Outside all functions (module-level) | `global`          | Anywhere in the module         |\n",
    "| Built-in   | Python interpreter built-ins         | Not modifiable    | Everywhere                "
   ]
  },
  {
   "cell_type": "markdown",
   "id": "c7c9eb4d",
   "metadata": {},
   "source": [
    "## 6. Why Understanding Scope is Important?\n",
    "\n",
    "* **Avoid naming conflicts:** Same name can be used in different scopes without interference.\n",
    "* **Control variable lifetime:** Local variables exist only during function execution.\n",
    "* **Make code cleaner and easier to debug.**\n",
    "* **Helps write modular, reusable, and maintainable code.**"
   ]
  },
  {
   "cell_type": "markdown",
   "id": "23d1dc75",
   "metadata": {},
   "source": [
    "## 7. Real-Life Analogy for `global` vs `nonlocal`\n",
    "\n",
    "* `global` is like changing a **government rule** that affects everyone in the country (all functions).\n",
    "* `nonlocal` is like changing a **house rule** inside a nested room — only people inside that house (nested function) are affected."
   ]
  },
  {
   "cell_type": "markdown",
   "id": "a66836e4",
   "metadata": {},
   "source": [
    "\n",
    "\n",
    "```\n",
    "\n",
    "# Final Notes\n",
    "\n",
    "* Use **local variables** to keep functions independent.\n",
    "* Use **global variables** sparingly; prefer passing parameters.\n",
    "* Use **`nonlocal`** to modify variables in nested functions carefully.\n",
    "* Remember the **LEGB Rule** to understand variable lookup order.\n"
   ]
  },
  {
   "cell_type": "markdown",
   "id": "985a84d5",
   "metadata": {},
   "source": [
    "### Conclusion\n",
    "Understanding variable scope is essential to controlling the behavior of variables and functions in Python. Correct use of scopes helps avoid naming conflicts and improves the readability and maintainability of your code.\n",
    "\n",
    "* **reuse logic** → don’t repeat yourself\n",
    "* **isolate behavior** → break into tasks\n",
    "* **organize code** → readable and scalable"
   ]
  },
  {
   "cell_type": "code",
   "execution_count": 697,
   "id": "30279c8f",
   "metadata": {},
   "outputs": [],
   "source": [
    "a = 1"
   ]
  },
  {
   "cell_type": "code",
   "execution_count": 698,
   "id": "2aa9bcfb",
   "metadata": {},
   "outputs": [
    {
     "data": {
      "text/plain": [
       "1"
      ]
     },
     "execution_count": 698,
     "metadata": {},
     "output_type": "execute_result"
    }
   ],
   "source": [
    "a"
   ]
  },
  {
   "cell_type": "code",
   "execution_count": 699,
   "id": "bd98abaa",
   "metadata": {},
   "outputs": [
    {
     "data": {
      "text/plain": [
       "int"
      ]
     },
     "execution_count": 699,
     "metadata": {},
     "output_type": "execute_result"
    }
   ],
   "source": [
    "type(a)"
   ]
  },
  {
   "cell_type": "code",
   "execution_count": 700,
   "id": "c1f296d7",
   "metadata": {},
   "outputs": [],
   "source": [
    "b = 'Shreya'"
   ]
  },
  {
   "cell_type": "code",
   "execution_count": 701,
   "id": "56cbce1b",
   "metadata": {},
   "outputs": [
    {
     "data": {
      "text/plain": [
       "'Shreya'"
      ]
     },
     "execution_count": 701,
     "metadata": {},
     "output_type": "execute_result"
    }
   ],
   "source": [
    "b"
   ]
  },
  {
   "cell_type": "code",
   "execution_count": 702,
   "id": "4c2d2693",
   "metadata": {},
   "outputs": [
    {
     "data": {
      "text/plain": [
       "str"
      ]
     },
     "execution_count": 702,
     "metadata": {},
     "output_type": "execute_result"
    }
   ],
   "source": [
    "type(b)"
   ]
  },
  {
   "cell_type": "code",
   "execution_count": 703,
   "id": "94cbdfee",
   "metadata": {},
   "outputs": [],
   "source": [
    "c = \"Shrey\""
   ]
  },
  {
   "cell_type": "code",
   "execution_count": 704,
   "id": "b41aec24",
   "metadata": {},
   "outputs": [
    {
     "data": {
      "text/plain": [
       "'Shrey'"
      ]
     },
     "execution_count": 704,
     "metadata": {},
     "output_type": "execute_result"
    }
   ],
   "source": [
    "c"
   ]
  },
  {
   "cell_type": "code",
   "execution_count": 705,
   "id": "08ad8c52",
   "metadata": {},
   "outputs": [
    {
     "data": {
      "text/plain": [
       "str"
      ]
     },
     "execution_count": 705,
     "metadata": {},
     "output_type": "execute_result"
    }
   ],
   "source": [
    "type(c)"
   ]
  },
  {
   "cell_type": "code",
   "execution_count": 706,
   "id": "1c1099ec",
   "metadata": {},
   "outputs": [],
   "source": [
    "d = 24.11"
   ]
  },
  {
   "cell_type": "code",
   "execution_count": 707,
   "id": "4701f2d3",
   "metadata": {},
   "outputs": [
    {
     "data": {
      "text/plain": [
       "24.11"
      ]
     },
     "execution_count": 707,
     "metadata": {},
     "output_type": "execute_result"
    }
   ],
   "source": [
    "d"
   ]
  },
  {
   "cell_type": "code",
   "execution_count": 708,
   "id": "6c47dff5",
   "metadata": {},
   "outputs": [
    {
     "data": {
      "text/plain": [
       "float"
      ]
     },
     "execution_count": 708,
     "metadata": {},
     "output_type": "execute_result"
    }
   ],
   "source": [
    "type(d)"
   ]
  },
  {
   "cell_type": "code",
   "execution_count": 709,
   "id": "5814babd",
   "metadata": {},
   "outputs": [],
   "source": [
    "shrey = 2415"
   ]
  },
  {
   "cell_type": "code",
   "execution_count": 710,
   "id": "a5850477",
   "metadata": {},
   "outputs": [
    {
     "data": {
      "text/plain": [
       "2415"
      ]
     },
     "execution_count": 710,
     "metadata": {},
     "output_type": "execute_result"
    }
   ],
   "source": [
    "shrey"
   ]
  },
  {
   "cell_type": "code",
   "execution_count": 711,
   "id": "d517e234",
   "metadata": {},
   "outputs": [
    {
     "data": {
      "text/plain": [
       "int"
      ]
     },
     "execution_count": 711,
     "metadata": {},
     "output_type": "execute_result"
    }
   ],
   "source": [
    "type(shrey)"
   ]
  },
  {
   "cell_type": "markdown",
   "id": "92202aa4",
   "metadata": {},
   "source": [
    "# Boolean "
   ]
  },
  {
   "cell_type": "code",
   "execution_count": 712,
   "id": "cf6a28ae",
   "metadata": {},
   "outputs": [],
   "source": [
    "e = True"
   ]
  },
  {
   "cell_type": "code",
   "execution_count": 713,
   "id": "3bbbab62",
   "metadata": {},
   "outputs": [
    {
     "data": {
      "text/plain": [
       "True"
      ]
     },
     "execution_count": 713,
     "metadata": {},
     "output_type": "execute_result"
    }
   ],
   "source": [
    "e"
   ]
  },
  {
   "cell_type": "code",
   "execution_count": 714,
   "id": "ad242482",
   "metadata": {},
   "outputs": [
    {
     "data": {
      "text/plain": [
       "bool"
      ]
     },
     "execution_count": 714,
     "metadata": {},
     "output_type": "execute_result"
    }
   ],
   "source": [
    "type(e)"
   ]
  },
  {
   "cell_type": "code",
   "execution_count": 715,
   "id": "c1ba6a5d",
   "metadata": {},
   "outputs": [],
   "source": [
    "f = False"
   ]
  },
  {
   "cell_type": "code",
   "execution_count": 716,
   "id": "f6d1459f",
   "metadata": {},
   "outputs": [
    {
     "data": {
      "text/plain": [
       "False"
      ]
     },
     "execution_count": 716,
     "metadata": {},
     "output_type": "execute_result"
    }
   ],
   "source": [
    "f"
   ]
  },
  {
   "cell_type": "code",
   "execution_count": 717,
   "id": "f962c249",
   "metadata": {},
   "outputs": [
    {
     "data": {
      "text/plain": [
       "bool"
      ]
     },
     "execution_count": 717,
     "metadata": {},
     "output_type": "execute_result"
    }
   ],
   "source": [
    "type(f)"
   ]
  },
  {
   "cell_type": "code",
   "execution_count": 718,
   "id": "5785b1f5",
   "metadata": {},
   "outputs": [
    {
     "data": {
      "text/plain": [
       "1"
      ]
     },
     "execution_count": 718,
     "metadata": {},
     "output_type": "execute_result"
    }
   ],
   "source": [
    "True - False"
   ]
  },
  {
   "cell_type": "code",
   "execution_count": 719,
   "id": "fa18c61b",
   "metadata": {},
   "outputs": [
    {
     "data": {
      "text/plain": [
       "0"
      ]
     },
     "execution_count": 719,
     "metadata": {},
     "output_type": "execute_result"
    }
   ],
   "source": [
    "True * False"
   ]
  },
  {
   "cell_type": "code",
   "execution_count": 720,
   "id": "2bf1a4c4",
   "metadata": {},
   "outputs": [
    {
     "ename": "ZeroDivisionError",
     "evalue": "division by zero",
     "output_type": "error",
     "traceback": [
      "\u001b[1;31m---------------------------------------------------------------------------\u001b[0m",
      "\u001b[1;31mZeroDivisionError\u001b[0m                         Traceback (most recent call last)",
      "Cell \u001b[1;32mIn[720], line 1\u001b[0m\n\u001b[1;32m----> 1\u001b[0m \u001b[38;5;28;43;01mTrue\u001b[39;49;00m\u001b[43m \u001b[49m\u001b[38;5;241;43m/\u001b[39;49m\u001b[43m \u001b[49m\u001b[38;5;28;43;01mFalse\u001b[39;49;00m\n",
      "\u001b[1;31mZeroDivisionError\u001b[0m: division by zero"
     ]
    }
   ],
   "source": [
    "True / False"
   ]
  },
  {
   "cell_type": "markdown",
   "id": "99b53d34",
   "metadata": {},
   "source": [
    "1. True - False\n",
    "- 1 - 0 = 1\n",
    "- i.e. True"
   ]
  },
  {
   "cell_type": "markdown",
   "id": "9e3d09f5",
   "metadata": {},
   "source": [
    "2. True * False\n",
    "- 1*0 = 0\n",
    "- i.e. False"
   ]
  },
  {
   "cell_type": "markdown",
   "id": "9b32e3e6",
   "metadata": {},
   "source": [
    "3. True / False\n",
    "- 1/0\n",
    "- Infinite\n",
    "- Not supported by system ( supported in NumPy )\n",
    "- i.e showing error"
   ]
  },
  {
   "cell_type": "code",
   "execution_count": null,
   "id": "fcd43678",
   "metadata": {},
   "outputs": [],
   "source": [
    "g = 5 + 4j"
   ]
  },
  {
   "cell_type": "code",
   "execution_count": null,
   "id": "553dec59",
   "metadata": {},
   "outputs": [],
   "source": [
    "g"
   ]
  },
  {
   "cell_type": "code",
   "execution_count": null,
   "id": "4871089f",
   "metadata": {},
   "outputs": [],
   "source": [
    "type(g)"
   ]
  },
  {
   "cell_type": "code",
   "execution_count": null,
   "id": "a39d8f1d",
   "metadata": {},
   "outputs": [],
   "source": [
    "h = 5 + 4i"
   ]
  },
  {
   "cell_type": "markdown",
   "id": "b18e18fc",
   "metadata": {},
   "source": [
    "#### Complex or imaginary part is support only in case of \"j\" other then \"j\" are not supported\n",
    "In mathemathics it's common to use i as imaginary or complex"
   ]
  },
  {
   "cell_type": "code",
   "execution_count": null,
   "id": "f80512df",
   "metadata": {},
   "outputs": [],
   "source": [
    "345 = 5"
   ]
  },
  {
   "cell_type": "markdown",
   "id": "02ce0185",
   "metadata": {},
   "source": [
    "Numeric variable name is not possible"
   ]
  },
  {
   "cell_type": "code",
   "execution_count": null,
   "id": "49d3a188",
   "metadata": {},
   "outputs": [],
   "source": [
    "45gh = 234"
   ]
  },
  {
   "cell_type": "code",
   "execution_count": null,
   "id": "1b063a96",
   "metadata": {},
   "outputs": [],
   "source": [
    "gh45 = 234\n",
    "gh45"
   ]
  },
  {
   "cell_type": "markdown",
   "id": "289236a9",
   "metadata": {},
   "source": [
    "An alphanumeric name (i.e., alphabets + numbers) can be used as a variable name\n",
    "\n",
    "\n",
    "but it cannot start with a digit."
   ]
  },
  {
   "cell_type": "code",
   "execution_count": null,
   "id": "e63054a9",
   "metadata": {},
   "outputs": [],
   "source": [
    "#45 = 25"
   ]
  },
  {
   "cell_type": "code",
   "execution_count": null,
   "id": "64bf3248",
   "metadata": {},
   "outputs": [],
   "source": [
    "$45 = 25"
   ]
  },
  {
   "cell_type": "markdown",
   "id": "69dacc91",
   "metadata": {},
   "source": [
    "- Hash means comment\n",
    "- Underscore is supported\n",
    "- Other Special symbols are not supported "
   ]
  },
  {
   "cell_type": "markdown",
   "id": "883343e9",
   "metadata": {},
   "source": [
    "# Extraction of real and imaginary part from complex number"
   ]
  },
  {
   "cell_type": "code",
   "execution_count": null,
   "id": "5dead92c",
   "metadata": {},
   "outputs": [],
   "source": [
    "g"
   ]
  },
  {
   "cell_type": "code",
   "execution_count": null,
   "id": "6947f208",
   "metadata": {},
   "outputs": [],
   "source": [
    "g.real"
   ]
  },
  {
   "cell_type": "code",
   "execution_count": null,
   "id": "51d69028",
   "metadata": {},
   "outputs": [],
   "source": [
    "g.imag"
   ]
  }
 ],
 "metadata": {
  "kernelspec": {
   "display_name": "Python 3",
   "language": "python",
   "name": "python3"
  },
  "language_info": {
   "codemirror_mode": {
    "name": "ipython",
    "version": 3
   },
   "file_extension": ".py",
   "mimetype": "text/x-python",
   "name": "python",
   "nbconvert_exporter": "python",
   "pygments_lexer": "ipython3",
   "version": "3.13.0"
  }
 },
 "nbformat": 4,
 "nbformat_minor": 5
}
