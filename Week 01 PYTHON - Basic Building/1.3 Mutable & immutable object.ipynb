{
 "cells": [
  {
   "cell_type": "markdown",
   "id": "e7e07c00",
   "metadata": {},
   "source": [
    "# Mutable & immutable object\n",
    "\n",
    "* In Python, there is a special category of data types called **collections**.\n",
    "\n",
    "* **Collections** are used to store **multiple items** in a single variable.\n",
    "\n",
    "* One of the most commonly used collection types is a **list**, which is defined using **square brackets `[]`**.\n",
    "\n",
    "* Other collection types include **tuples**, **sets**, and **dictionaries**.\n",
    "\n",
    "* **Lists**, **strings**, and **tuples** support **indexing**, which allows you to access individual elements by their **position (starting from index 0)**.\n",
    "\n",
    "* Example of indexing:"
   ]
  },
  {
   "cell_type": "code",
   "execution_count": 1,
   "id": "086d85b8",
   "metadata": {},
   "outputs": [
    {
     "name": "stdout",
     "output_type": "stream",
     "text": [
      "10\n"
     ]
    }
   ],
   "source": [
    "my_list = [10, 20, 30]\n",
    "print(my_list[0])  # Output: 10"
   ]
  },
  {
   "cell_type": "markdown",
   "id": "a823e1be",
   "metadata": {},
   "source": [
    "\n",
    "\n",
    "### ✅ **Mutable vs Immutable Objects in Python**\n",
    "\n",
    "| **Feature**                        | **Mutable Objects**                                    | **Immutable Objects**                                        |\n",
    "| ---------------------------------- | ------------------------------------------------------ | ------------------------------------------------------------ |\n",
    "| **Definition**                     | Objects whose **values can be changed** after creation | Objects whose **values cannot be changed** once created      |\n",
    "| **Memory Behavior**                | Changes occur in the **same memory location**          | Any change creates a **new memory location**                 |\n",
    "| **Modification**                   | Can be **updated, modified, or deleted**               | Cannot be changed; new object is created                     |\n",
    "| **Examples**                       | `list`, `dict`, `set`, `bytearray`                     | `int`, `float`, `bool`, `str`, `tuple`, `frozenset`, `bytes` |\n",
    "| **Index Assignment**               | Allowed (e.g., `my_list[0] = 5`)                       | Not allowed (e.g., `my_str[0] = 'H'` → ❌ Error)              |\n",
    "| **Use Case** | - Dynamic data structures where values can change  <br> - Frequent modifications needed | - Static or fixed data structures  <br> - When data should remain unchanged or constant |\n",
    "| **Hashable (can be key in dict)?** | ❌ No (usually not hashable)                            | ✅ Yes (immutable objects are hashable)                       |\n"
   ]
  },
  {
   "cell_type": "markdown",
   "id": "aadced53",
   "metadata": {},
   "source": [
    "### Mutable Data Types\n",
    "- **List**: A collection that can be modified (e.g., add, remove, change elements).\n",
    "- **Dictionary (dict)**: A collection of key-value pairs that can be modified.\n",
    "- **Set**: An unordered collection of unique elements that can be modified.\n",
    "- **Bytearray**: A mutable sequence of bytes.\n",
    "\n",
    "### Immutable Data Types\n",
    "- **Integer (int)**: Represents whole numbers; cannot be changed once created.\n",
    "- **Float**: Represents decimal numbers; cannot be changed once created.\n",
    "- **Complex**: Represents complex numbers; cannot be changed once created.\n",
    "- **String (str)**: A sequence of characters; cannot be modified after creation.\n",
    "- **Tuple**: An ordered collection of elements; cannot be modified after creation.\n",
    "- **Frozenset**: An immutable version of a set; cannot be modified after creation.\n",
    "- **Boolean (bool)**: Represents True or False values; cannot be changed once created.\n",
    "- **NoneType**: Represents the absence of a value; cannot be modified. "
   ]
  },
  {
   "cell_type": "code",
   "execution_count": null,
   "id": "affe8518",
   "metadata": {},
   "outputs": [
    {
     "name": "stdout",
     "output_type": "stream",
     "text": [
      "[10, 2, 3]\n",
      "Hello\n"
     ]
    }
   ],
   "source": [
    "# Mutable Example\n",
    "a = [1, 2, 3]\n",
    "a[0] = 10\n",
    "print(a)  # Output: [10, 2, 3]\n",
    "\n",
    "# Immutable Example\n",
    "s = \"hello\"\n",
    "# s[0] = \"H\"  → ❌ Error\n",
    "s = \"H\" + s[1:]\n",
    "print(s)  # Output: \"Hello\""
   ]
  },
  {
   "cell_type": "code",
   "execution_count": 30,
   "id": "334e026d",
   "metadata": {},
   "outputs": [],
   "source": [
    "l = [2,3,4,5,6,\"shrey\", 2+1j,True,24.11]"
   ]
  },
  {
   "cell_type": "code",
   "execution_count": 31,
   "id": "30ede9ba",
   "metadata": {},
   "outputs": [
    {
     "data": {
      "text/plain": [
       "[2, 3, 4, 5, 6, 'shrey', (2+1j), True, 24.11]"
      ]
     },
     "execution_count": 31,
     "metadata": {},
     "output_type": "execute_result"
    }
   ],
   "source": [
    "l"
   ]
  },
  {
   "cell_type": "code",
   "execution_count": 32,
   "id": "cf54f651",
   "metadata": {},
   "outputs": [
    {
     "data": {
      "text/plain": [
       "list"
      ]
     },
     "execution_count": 32,
     "metadata": {},
     "output_type": "execute_result"
    }
   ],
   "source": [
    "type(l)"
   ]
  },
  {
   "cell_type": "markdown",
   "id": "32d85e9e",
   "metadata": {},
   "source": [
    "# indexing in forward direction\n",
    "s = \"shrey\"\n",
    "- s holds 0\n",
    "- h holds 1\n",
    "- r holds 2\n",
    "- e holds 3\n",
    "- y holds 4"
   ]
  },
  {
   "cell_type": "markdown",
   "id": "f7519374",
   "metadata": {},
   "source": [
    "# indexing in backward direction\n",
    "s = \"shrey\"\n",
    "- y holds -1\n",
    "- e holds -2\n",
    "- r holds -3\n",
    "- h holds -4\n",
    "- s holds -5"
   ]
  },
  {
   "cell_type": "code",
   "execution_count": 33,
   "id": "bb70cd9f",
   "metadata": {},
   "outputs": [],
   "source": [
    "s = \"shrey\""
   ]
  },
  {
   "cell_type": "code",
   "execution_count": 34,
   "id": "92bb6f25",
   "metadata": {},
   "outputs": [
    {
     "data": {
      "text/plain": [
       "'s'"
      ]
     },
     "execution_count": 34,
     "metadata": {},
     "output_type": "execute_result"
    }
   ],
   "source": [
    "s[0]"
   ]
  },
  {
   "cell_type": "code",
   "execution_count": 35,
   "id": "2ce3e8ad",
   "metadata": {},
   "outputs": [
    {
     "data": {
      "text/plain": [
       "'y'"
      ]
     },
     "execution_count": 35,
     "metadata": {},
     "output_type": "execute_result"
    }
   ],
   "source": [
    "s[4]"
   ]
  },
  {
   "cell_type": "code",
   "execution_count": 36,
   "id": "8dc236af",
   "metadata": {},
   "outputs": [
    {
     "data": {
      "text/plain": [
       "'y'"
      ]
     },
     "execution_count": 36,
     "metadata": {},
     "output_type": "execute_result"
    }
   ],
   "source": [
    "s[-1]"
   ]
  },
  {
   "cell_type": "code",
   "execution_count": 37,
   "id": "3f7c5e3b",
   "metadata": {},
   "outputs": [
    {
     "data": {
      "text/plain": [
       "'s'"
      ]
     },
     "execution_count": 37,
     "metadata": {},
     "output_type": "execute_result"
    }
   ],
   "source": [
    "s[-5]"
   ]
  },
  {
   "cell_type": "markdown",
   "id": "fa225550",
   "metadata": {},
   "source": [
    "# list"
   ]
  },
  {
   "cell_type": "code",
   "execution_count": 38,
   "id": "323238de",
   "metadata": {},
   "outputs": [
    {
     "data": {
      "text/plain": [
       "[2, 3, 4, 5, 6, 'shrey', (2+1j), True, 24.11]"
      ]
     },
     "execution_count": 38,
     "metadata": {},
     "output_type": "execute_result"
    }
   ],
   "source": [
    "l"
   ]
  },
  {
   "cell_type": "code",
   "execution_count": 39,
   "id": "2e663ce0",
   "metadata": {
    "scrolled": true
   },
   "outputs": [
    {
     "data": {
      "text/plain": [
       "list"
      ]
     },
     "execution_count": 39,
     "metadata": {},
     "output_type": "execute_result"
    }
   ],
   "source": [
    "type(l)"
   ]
  },
  {
   "cell_type": "code",
   "execution_count": 40,
   "id": "7fd44b42",
   "metadata": {},
   "outputs": [
    {
     "data": {
      "text/plain": [
       "2"
      ]
     },
     "execution_count": 40,
     "metadata": {},
     "output_type": "execute_result"
    }
   ],
   "source": [
    "l[0]"
   ]
  },
  {
   "cell_type": "code",
   "execution_count": 41,
   "id": "147a5f8d",
   "metadata": {},
   "outputs": [
    {
     "data": {
      "text/plain": [
       "24.11"
      ]
     },
     "execution_count": 41,
     "metadata": {},
     "output_type": "execute_result"
    }
   ],
   "source": [
    "l[-1]"
   ]
  },
  {
   "cell_type": "code",
   "execution_count": 42,
   "id": "44729c8c",
   "metadata": {},
   "outputs": [
    {
     "data": {
      "text/plain": [
       "3"
      ]
     },
     "execution_count": 42,
     "metadata": {},
     "output_type": "execute_result"
    }
   ],
   "source": [
    "l[1]"
   ]
  },
  {
   "cell_type": "code",
   "execution_count": 43,
   "id": "49422bf7",
   "metadata": {},
   "outputs": [
    {
     "data": {
      "text/plain": [
       "[2, 3, 4, 5, 6, 'shrey', (2+1j), True, 24.11]"
      ]
     },
     "execution_count": 43,
     "metadata": {},
     "output_type": "execute_result"
    }
   ],
   "source": [
    "l"
   ]
  },
  {
   "cell_type": "code",
   "execution_count": 44,
   "id": "63cddebd",
   "metadata": {},
   "outputs": [],
   "source": [
    "l[1] = 300"
   ]
  },
  {
   "cell_type": "code",
   "execution_count": 45,
   "id": "4ac3b193",
   "metadata": {},
   "outputs": [
    {
     "data": {
      "text/plain": [
       "[2, 300, 4, 5, 6, 'shrey', (2+1j), True, 24.11]"
      ]
     },
     "execution_count": 45,
     "metadata": {},
     "output_type": "execute_result"
    }
   ],
   "source": [
    "l"
   ]
  },
  {
   "cell_type": "code",
   "execution_count": 46,
   "id": "b88e15cc",
   "metadata": {},
   "outputs": [
    {
     "data": {
      "text/plain": [
       "'shrey'"
      ]
     },
     "execution_count": 46,
     "metadata": {},
     "output_type": "execute_result"
    }
   ],
   "source": [
    "l[5]"
   ]
  },
  {
   "cell_type": "code",
   "execution_count": 47,
   "id": "df936c1a",
   "metadata": {},
   "outputs": [
    {
     "data": {
      "text/plain": [
       "300"
      ]
     },
     "execution_count": 47,
     "metadata": {},
     "output_type": "execute_result"
    }
   ],
   "source": [
    "l[1]"
   ]
  },
  {
   "cell_type": "code",
   "execution_count": 48,
   "id": "7fb223a9",
   "metadata": {},
   "outputs": [],
   "source": [
    "l[4] = \"Shreya\""
   ]
  },
  {
   "cell_type": "code",
   "execution_count": 49,
   "id": "c0780fed",
   "metadata": {},
   "outputs": [
    {
     "data": {
      "text/plain": [
       "[2, 300, 4, 5, 'Shreya', 'shrey', (2+1j), True, 24.11]"
      ]
     },
     "execution_count": 49,
     "metadata": {},
     "output_type": "execute_result"
    }
   ],
   "source": [
    "l"
   ]
  },
  {
   "cell_type": "markdown",
   "id": "9e48888d",
   "metadata": {},
   "source": [
    "# Overwriting is possible"
   ]
  },
  {
   "cell_type": "code",
   "execution_count": 50,
   "id": "879a88ae",
   "metadata": {},
   "outputs": [
    {
     "data": {
      "text/plain": [
       "'shrey'"
      ]
     },
     "execution_count": 50,
     "metadata": {},
     "output_type": "execute_result"
    }
   ],
   "source": [
    "s"
   ]
  },
  {
   "cell_type": "code",
   "execution_count": 51,
   "id": "c3768201",
   "metadata": {},
   "outputs": [],
   "source": [
    "s = \"sorey\""
   ]
  },
  {
   "cell_type": "code",
   "execution_count": 52,
   "id": "26566383",
   "metadata": {},
   "outputs": [
    {
     "data": {
      "text/plain": [
       "'sorey'"
      ]
     },
     "execution_count": 52,
     "metadata": {},
     "output_type": "execute_result"
    }
   ],
   "source": [
    "s"
   ]
  },
  {
   "cell_type": "markdown",
   "id": "66ccae5d",
   "metadata": {},
   "source": [
    "Here \"s\" is overwritten we can't say that index 1 of string \"s\" is mutable"
   ]
  },
  {
   "cell_type": "markdown",
   "id": "2e8a458e",
   "metadata": {},
   "source": [
    "> String object dosen't support mutability for a perticular indexes while list is mutable at perticular indexes\n",
    "\n",
    "> i.e list is mutable while string is immutable"
   ]
  },
  {
   "cell_type": "markdown",
   "id": "0bd5b5c8",
   "metadata": {},
   "source": [
    "# Mutable Objects:\n",
    "Mutable objects are objects whose state can be modified after creation. When you modify a mutable object, you are actually changing its contents in memory. Common examples of mutable objects in Python include lists, dictionaries, sets, and user-defined classes (if they are designed to be mutable).\n",
    "\n",
    "Examples of mutable objects"
   ]
  },
  {
   "cell_type": "code",
   "execution_count": 53,
   "id": "91325e03",
   "metadata": {},
   "outputs": [],
   "source": [
    "my_list = [1, 2, 3]\n",
    "my_dict = {'key': 'value'}\n",
    "my_set = {1, 2, 3}"
   ]
  },
  {
   "cell_type": "markdown",
   "id": "b55e6d78",
   "metadata": {},
   "source": [
    "When you modify these objects (e.g., add or remove elements in a list), the original object's content is changed, and any references to that object will reflect the changes."
   ]
  },
  {
   "cell_type": "markdown",
   "id": "ab7e873b",
   "metadata": {},
   "source": [
    "# Immutable Objects:\n",
    "objects whose state cannot be modified after creation. Any operation that appears to \"modify\" an immutable object actually creates a new object with the modified state. Common examples of immutable objects in Python include integers, floats, strings, tuples, and frozen sets.\n",
    "\n",
    "Examples of immutable objects:"
   ]
  },
  {
   "cell_type": "code",
   "execution_count": 54,
   "id": "b85b9224",
   "metadata": {},
   "outputs": [],
   "source": [
    "my_integer = 42\n",
    "my_float = 3.14\n",
    "my_string = \"Hello, world!\"\n",
    "my_tuple = (1, 2, 3)"
   ]
  },
  {
   "cell_type": "markdown",
   "id": "c893c696",
   "metadata": {},
   "source": [
    "If you try to modify an immutable object, a new object is created, and the original object remains unchanged."
   ]
  },
  {
   "cell_type": "markdown",
   "id": "89d1e5b5",
   "metadata": {},
   "source": [
    "# Here's an example to illustrate the difference between mutable and immutable objects:\n",
    "# Mutable object (list)\n",
    "- my_list = [1, 2, 3]\n",
    "- another_list = my_list  # Create a reference to the same object\n",
    "- my_list.append(4)\n",
    "\n",
    "- print(my_list)       # Output: [1, 2, 3, 4]\n",
    "- print(another_list)  # Output: [1, 2, 3, 4]\n",
    "\n",
    "# Immutable object (integer)\n",
    "- my_integer = 42\n",
    "- another_integer = my_integer  # Create a reference to the same object\n",
    "- my_integer += 1\n",
    "\n",
    "- print(my_integer)       # Output: 43\n",
    "- print(another_integer)  # Output: 42\n"
   ]
  },
  {
   "cell_type": "markdown",
   "id": "2e05ca4c",
   "metadata": {},
   "source": [
    "Immutable objects provide guarantees of data integrity and can be used safely in multi-threaded or multi-process environments, while mutable objects require more careful handling to avoid unintended side effects."
   ]
  },
  {
   "cell_type": "markdown",
   "id": "00af3d02",
   "metadata": {},
   "source": [
    "# Mutable Objects:\n",
    "\n",
    "1. Lists\n",
    "2. Dictionaries\n",
    "3. Sets\n",
    "4. User-defined classes (if designed to be mutable)\n",
    "\n",
    "# Immutable Objects:\n",
    "\n",
    "1. Integers\n",
    "2. Floats\n",
    "3. Strings\n",
    "4. Tuples\n",
    "5. Frozen sets (immutable sets)\n",
    "6. Booleans (True and False are immutable)\n",
    "7. NoneType (the None object)"
   ]
  },
  {
   "cell_type": "code",
   "execution_count": 55,
   "id": "35f19cf5",
   "metadata": {},
   "outputs": [
    {
     "data": {
      "text/plain": [
       "[2, 300, 4, 5, 'Shreya', 'shrey', (2+1j), True, 24.11]"
      ]
     },
     "execution_count": 55,
     "metadata": {},
     "output_type": "execute_result"
    }
   ],
   "source": [
    "l"
   ]
  },
  {
   "cell_type": "code",
   "execution_count": 56,
   "id": "ab485896",
   "metadata": {},
   "outputs": [
    {
     "data": {
      "text/plain": [
       "list"
      ]
     },
     "execution_count": 56,
     "metadata": {},
     "output_type": "execute_result"
    }
   ],
   "source": [
    "type(l)"
   ]
  }
 ],
 "metadata": {
  "kernelspec": {
   "display_name": "Python 3",
   "language": "python",
   "name": "python3"
  },
  "language_info": {
   "codemirror_mode": {
    "name": "ipython",
    "version": 3
   },
   "file_extension": ".py",
   "mimetype": "text/x-python",
   "name": "python",
   "nbconvert_exporter": "python",
   "pygments_lexer": "ipython3",
   "version": "3.13.0"
  }
 },
 "nbformat": 4,
 "nbformat_minor": 5
}
