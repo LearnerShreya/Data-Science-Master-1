{
 "cells": [
  {
   "cell_type": "markdown",
   "metadata": {},
   "source": [
    "## Week 5: Files & Exceptional Handling & Memory Management\n",
    "- Lecture 1 : Working With Files\n",
    "- Lecture 2 : Reading And Writing Files\n",
    "- Lecture 3 : Buffered Read And Write & Other File Methods\n",
    "- Lecture 4 : Logging & Debugger\n",
    "- Lecture 5 : Modules And Import Statements\n",
    "- Lecture 6 : Exceptions Handling With Try-Except\n",
    "- Lecture 7 : Custom Exception Handling\n",
    "- Lecture 8 : List Of General Use Exceptions\n",
    "- Lecture 9 : Best Practice Exception Handling\n",
    "- Lecture 10 : Multithreading\n",
    "- Lecture 11 : Multiprocessing"
   ]
  },
  {
   "cell_type": "markdown",
   "metadata": {},
   "source": [
    "## Week 7.1 Web Scrapping Introduction\n",
    "- Lecture 1 : Web Scrapping Introduction\n",
    "\n"
   ]
  },
  {
   "cell_type": "markdown",
   "metadata": {},
   "source": [
    "## Week 10: Statistics - Statistics Basic\n",
    "- Lecture 1 : Introduction to Statistics\n",
    "- Lecture 2 : Types Of Statistics\n",
    "- Lecture 3 : Types Of Data\n",
    "- Assignment 1 : Statistics Assignment\n",
    "- Quiz 1 : Statistics Basic-1\n",
    "- Lecture 4 : Measures of Central Tendency\n",
    "- Lecture 5 : Measures of Central Tendency Part 2\n",
    "- Lecture 6 : Levels of Measurement\n",
    "- Lecture 7 : Measures of Dispersion\n",
    "- Lecture 8 : Measures of Dispersion Part 2\n",
    "- Lecture 9 : Random Variables\n",
    "- Lecture 10 : Sets\n",
    "- Lecture 11 : Histogram & Skewness\n",
    "- Lecture 12 : Covariance & Correlation\n",
    "- Lecture 13 : Covariance & Correlation Part 2\n",
    "- Assignment 2 : Statistics Assignment\n",
    "- Quiz 2 : Statistics Basic-2"
   ]
  },
  {
   "cell_type": "markdown",
   "metadata": {},
   "source": [
    "## Week 11: Statistics Advance - 1\n",
    "- Lecture 1 : Probability Density/Distribution Function\n",
    "- Lecture 2 : PDF, PMF & CDF\n",
    "- Lecture 3 : Types of Probability Distribution\n",
    "- Lecture 4 : Bernoulli Distribution\n",
    "- Lecture 5 : Binomial Distribution\n",
    "- Lecture 6 : Poisson Distribution\n",
    "- Lecture 7 : Normal or Gaussian Distribution\n",
    "- Lecture 8 : Uniform Distribution\n",
    "- Lecture 9 : Z Stats & Z Table\n",
    "- Lecture 10 : Central Limit Theorem\n",
    "- Lecture 11 : Estimate\n",
    "- Lecture 12 : Hypothesis Testing & Mechanism\n",
    "- Lecture 13 : P value\n",
    "- Lecture 14 : Z Test with Examples\n",
    "- Lecture 15 : Student T Distribution\n",
    "- Lecture 16 : T Stats & T Test\n",
    "- Assignment 1 : Statistics Advance Assignment\n",
    "- Assignment 2 : Statistics Advance Assignment - 2\n",
    "- Assignment 3 : Statistics Advance Assignment - 3\n",
    "- Quiz 1 : Statistics Advance Quiz - 1\n",
    "- Quiz 2 : Statistics Advance Quiz - 2\n",
    "- Quiz 3 : Statistics Advance Quiz - 3"
   ]
  },
  {
   "cell_type": "markdown",
   "metadata": {},
   "source": [
    "## Week 12: Statistics Advance - 2\n",
    "- Lecture 1 : When to use T test vs Z test?\n",
    "- Lecture 2 : Type 1 & Type 2 Error\n",
    "- Lecture 3 : Confidence Interval & Margin of Error\n",
    "- Lecture 4 : Bayes Theorem\n",
    "- Lecture 5 : What is Chi Square Test?\n",
    "- Lecture 6 : Chi Square for Goodness of Fit\n",
    "- Lecture 7 : Chi Square Test with Python\n",
    "- Lecture 8 : F Distribution\n",
    "- Lecture 9 : Variance Ratio Test ( F test )\n",
    "- Lecture 10 : F test with Python\n",
    "- Lecture 11 : Anova\n",
    "- Lecture 12 : Assumptions in Anova\n",
    "- Lecture 13 : Types of Anova\n",
    "- Lecture 14 : Partition of variance in Anova\n",
    "- Assignment 1 : Statistics Advance Assignment - 4\n",
    "- Assignment 2 : Statistics Advance Assignment - 5\n",
    "- Assignment 3 : Statistics Advance Assignment - 6\n",
    "- Assignment 4 : Statistics Advance Assignment - 7\n",
    "- Quiz 1 : Statistics Advance quiz - 4\n",
    "- Quiz 2 : Statistics Advance quiz - 5\n",
    "- Quiz 3 : Statistics Advance quiz - 6\n",
    "- Quiz 4 : Statistics Advance quiz - 7"
   ]
  },
  {
   "cell_type": "markdown",
   "metadata": {},
   "source": [
    "## Week 13: Machine Learning - Part 1\n",
    "- Lecture 1 : AI vs ML vs DL vs DS\n",
    "- Lecture 2 : Supervised, Unsupervised & Reinforcement Learning\n",
    "- Lecture 3 : Train, Test & Validation\n",
    "- Assignment 1 : Machine Learning Assignment - 1\n",
    "- Lecture 4 : Variance, Bias, Overfitting & Underfitting\n",
    "- Assignment 2 : Machine Learning Assignment - 2\n",
    "- Lecture 5 : Handling Missing Values\n",
    "- Lecture 6 : Handling Imbalanced Dataset\n",
    "- Lecture 7 : SMOTE\n",
    "- Lecture 8 : Data Interpolation\n",
    "- Lecture 9 : Handling Outliers\n",
    "- Lecture 10 : Feature Selection Update\n",
    "- Assignment 3 : Feature Engineering - 1\n",
    "- Lecture 11 : Feature Extraction\n",
    "- Lecture 12 : Feature Scaling Normalization\n",
    "- Lecture 13 : Normalization Min Max Scaling\n",
    "- Lecture 14 : Unit Vectors Feature Scaling\n",
    "- Lecture 15 : PCA\n",
    "- Assignment 4 : Feature Engineering Assignment - 2\n",
    "- Lecture 16 : Data Encoding\n",
    "- Lecture 17 : Nominal or One Hot Encoding\n",
    "- Assignment 5 : Feature Engineering Assignment - 3\n",
    "- Lecture 18 : Label & Ordinal Encoder\n",
    "- Lecture 19 : Target Guided Ordinal Encoding\n",
    "- Assignment 6 : Feature Engineering Assignment - 4\n",
    "- Lecture 20 : Covariance And Correlation\n",
    "- Assignment 7 : Feature Engineering Assignment - 5\n",
    "- Quiz 1 : Machine Learning Quiz - 1\n",
    "- Quiz 2 : Machine Learning Quiz - 2\n",
    "- Quiz 3 : Feature Engineering quiz - 1\n",
    "- Quiz 4 : Feature Engineering quiz - 2\n",
    "- Quiz 5 : Feature Engineering quiz - 3\n",
    "- Quiz 6 : Feature Engineering quiz - 4\n",
    "- Quiz 7 : Feature Engineering quiz - 5\n",
    "- Quiz 8 : Feature Engineering quiz - 6"
   ]
  },
  {
   "cell_type": "markdown",
   "metadata": {},
   "source": [
    "## Week 14: Exploratory Data Analysis - ML Part - 2\n",
    "- Lecture 1: EDA With Red Wine Data\n",
    "- Lecture 2: EDA Student Performance Indicator\n",
    "- Lecture 3: EDA Forest Fires\n",
    "- Lecture 4: EDA Flight Price\n",
    "- Lecture 5: EDA Google Playstore\n",
    "- Assignment 1 : EDA Assignment - 1\n",
    "- Assignment 2 : EDA Assignment - 2\n",
    "- Quiz 1 : EDA Quiz - 1\n",
    "- Quiz 2 : EDA Quiz - 2"
   ]
  }
 ],
 "metadata": {
  "language_info": {
   "name": "python"
  }
 },
 "nbformat": 4,
 "nbformat_minor": 2
}
