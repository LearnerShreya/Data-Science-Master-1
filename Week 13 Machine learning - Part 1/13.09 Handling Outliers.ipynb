{
 "cells": [
  {
   "cell_type": "markdown",
   "id": "9a0268f0-ef24-4a91-829d-a349856a40bf",
   "metadata": {
    "id": "9a0268f0-ef24-4a91-829d-a349856a40bf"
   },
   "source": [
    "## 5 number Summary And Box Plot"
   ]
  },
  {
   "cell_type": "markdown",
   "id": "8ebede9f",
   "metadata": {},
   "source": [
    "1. Minimum Value\n",
    "2. Q1-25 percentile\n",
    "3. Median\n",
    "4. Q3-75 percentile\n",
    "5. MAximum"
   ]
  },
  {
   "cell_type": "code",
   "execution_count": 216,
   "id": "8b07cdf2-c8ee-4078-b906-89735d4d2789",
   "metadata": {
    "id": "8b07cdf2-c8ee-4078-b906-89735d4d2789"
   },
   "outputs": [],
   "source": [
    "## Minimum, MAximum, Median, Q1, Q3, IQR"
   ]
  },
  {
   "cell_type": "code",
   "execution_count": 217,
   "id": "ec419cc5-7f01-448a-b140-5bb57b463336",
   "metadata": {
    "id": "ec419cc5-7f01-448a-b140-5bb57b463336"
   },
   "outputs": [],
   "source": [
    "import numpy as np\n",
    "lst_marks=[45,32,56,75,89,54,32,89,90,87,67,54,45,98,99,67,74,1000,1100]"
   ]
  },
  {
   "cell_type": "code",
   "execution_count": 218,
   "id": "c5321a4b",
   "metadata": {},
   "outputs": [
    {
     "data": {
      "text/plain": [
       "array([32.])"
      ]
     },
     "execution_count": 218,
     "metadata": {},
     "output_type": "execute_result"
    }
   ],
   "source": [
    "np.percentile(lst_marks, [0])"
   ]
  },
  {
   "cell_type": "code",
   "execution_count": 219,
   "id": "b21a94ad",
   "metadata": {},
   "outputs": [
    {
     "data": {
      "text/plain": [
       "array([54.])"
      ]
     },
     "execution_count": 219,
     "metadata": {},
     "output_type": "execute_result"
    }
   ],
   "source": [
    "np.percentile(lst_marks, [25])"
   ]
  },
  {
   "cell_type": "code",
   "execution_count": 220,
   "id": "a85bd1b6",
   "metadata": {},
   "outputs": [
    {
     "data": {
      "text/plain": [
       "array([1100.])"
      ]
     },
     "execution_count": 220,
     "metadata": {},
     "output_type": "execute_result"
    }
   ],
   "source": [
    "np.percentile(lst_marks, [100])"
   ]
  },
  {
   "cell_type": "code",
   "execution_count": 221,
   "id": "3474ec97",
   "metadata": {},
   "outputs": [
    {
     "name": "stdout",
     "output_type": "stream",
     "text": [
      "[54.]\n"
     ]
    }
   ],
   "source": [
    "# [Lower Fence<----> Higher Fence]\n",
    "Q1 = np.percentile(lst_marks, [25])\n",
    "print(Q1)"
   ]
  },
  {
   "cell_type": "code",
   "execution_count": 222,
   "id": "f5ad4dc0-f110-44fc-acd7-0e70e6feece7",
   "metadata": {
    "id": "f5ad4dc0-f110-44fc-acd7-0e70e6feece7"
   },
   "outputs": [],
   "source": [
    "minimum,Q1,median,Q3,maximum = np.quantile(lst_marks,[0,0.25,0.50,0.75,1.0])"
   ]
  },
  {
   "cell_type": "code",
   "execution_count": 223,
   "id": "0dbbfee2-dfae-458d-a2ab-e1eb3e4cffed",
   "metadata": {
    "colab": {
     "base_uri": "https://localhost:8080/"
    },
    "executionInfo": {
     "elapsed": 548,
     "status": "ok",
     "timestamp": 1693221200712,
     "user": {
      "displayName": "Manish Jha",
      "userId": "06967118728045164726"
     },
     "user_tz": -330
    },
    "id": "0dbbfee2-dfae-458d-a2ab-e1eb3e4cffed",
    "outputId": "5412608b-04fc-4800-b9db-feb907701842"
   },
   "outputs": [
    {
     "data": {
      "text/plain": [
       "(np.float64(32.0),\n",
       " np.float64(54.0),\n",
       " np.float64(74.0),\n",
       " np.float64(89.5),\n",
       " np.float64(1100.0))"
      ]
     },
     "execution_count": 223,
     "metadata": {},
     "output_type": "execute_result"
    }
   ],
   "source": [
    "minimum,Q1,median,Q3,maximum"
   ]
  },
  {
   "cell_type": "code",
   "execution_count": 224,
   "id": "dc9f9703-3fe8-419c-ba76-28fa48cf5d17",
   "metadata": {
    "colab": {
     "base_uri": "https://localhost:8080/"
    },
    "executionInfo": {
     "elapsed": 4,
     "status": "ok",
     "timestamp": 1693221201501,
     "user": {
      "displayName": "Manish Jha",
      "userId": "06967118728045164726"
     },
     "user_tz": -330
    },
    "id": "dc9f9703-3fe8-419c-ba76-28fa48cf5d17",
    "outputId": "dc44beea-1842-4f9f-cf9b-dc197adf75ea"
   },
   "outputs": [
    {
     "name": "stdout",
     "output_type": "stream",
     "text": [
      "35.5\n"
     ]
    }
   ],
   "source": [
    "IQR = Q3-Q1\n",
    "print(IQR)"
   ]
  },
  {
   "cell_type": "code",
   "execution_count": 225,
   "id": "e9a4c199-8a0c-4ff0-aa5d-43e8c39ef9ec",
   "metadata": {
    "id": "e9a4c199-8a0c-4ff0-aa5d-43e8c39ef9ec"
   },
   "outputs": [],
   "source": [
    "lower_fence = Q1-1.5*(IQR)\n",
    "higher_fence = Q3+1.5*(IQR)\n"
   ]
  },
  {
   "cell_type": "code",
   "execution_count": 226,
   "id": "14b431fb-70e0-4b64-8c30-03cc62e223d6",
   "metadata": {
    "colab": {
     "base_uri": "https://localhost:8080/"
    },
    "executionInfo": {
     "elapsed": 10,
     "status": "ok",
     "timestamp": 1693221202121,
     "user": {
      "displayName": "Manish Jha",
      "userId": "06967118728045164726"
     },
     "user_tz": -330
    },
    "id": "14b431fb-70e0-4b64-8c30-03cc62e223d6",
    "outputId": "7b309fae-937b-4f12-c1d9-7059ae811cff"
   },
   "outputs": [
    {
     "data": {
      "text/plain": [
       "np.float64(0.75)"
      ]
     },
     "execution_count": 226,
     "metadata": {},
     "output_type": "execute_result"
    }
   ],
   "source": [
    "lower_fence"
   ]
  },
  {
   "cell_type": "code",
   "execution_count": 227,
   "id": "a1e02d6e-4c55-4244-a86a-896d90d30f60",
   "metadata": {
    "colab": {
     "base_uri": "https://localhost:8080/"
    },
    "executionInfo": {
     "elapsed": 8,
     "status": "ok",
     "timestamp": 1693221202644,
     "user": {
      "displayName": "Manish Jha",
      "userId": "06967118728045164726"
     },
     "user_tz": -330
    },
    "id": "a1e02d6e-4c55-4244-a86a-896d90d30f60",
    "outputId": "bc4c9893-46e8-4b93-82a9-e0073315d467"
   },
   "outputs": [
    {
     "data": {
      "text/plain": [
       "np.float64(142.75)"
      ]
     },
     "execution_count": 227,
     "metadata": {},
     "output_type": "execute_result"
    }
   ],
   "source": [
    "higher_fence"
   ]
  },
  {
   "cell_type": "code",
   "execution_count": 228,
   "id": "03bc2313",
   "metadata": {},
   "outputs": [
    {
     "data": {
      "text/plain": [
       "(np.float64(0.75), np.float64(142.75))"
      ]
     },
     "execution_count": 228,
     "metadata": {},
     "output_type": "execute_result"
    }
   ],
   "source": [
    "lower_fence, higher_fence"
   ]
  },
  {
   "cell_type": "code",
   "execution_count": 229,
   "id": "0ad982e6",
   "metadata": {},
   "outputs": [
    {
     "name": "stdout",
     "output_type": "stream",
     "text": [
      "The element is not an outlier\n",
      "The element is not an outlier\n",
      "The element is not an outlier\n",
      "The element is not an outlier\n",
      "The element is not an outlier\n",
      "The element is not an outlier\n",
      "The element is not an outlier\n",
      "The element is not an outlier\n",
      "The element is not an outlier\n",
      "The element is not an outlier\n",
      "The element is not an outlier\n",
      "The element is not an outlier\n",
      "The element is not an outlier\n",
      "The element is not an outlier\n",
      "The element is not an outlier\n",
      "The element is not an outlier\n",
      "The element is not an outlier\n"
     ]
    }
   ],
   "source": [
    "outliers = []\n",
    "for i in lst_marks:\n",
    "    if i >= 0.75 and i <= 142.75:\n",
    "        print(\"The element is not an outlier\")\n",
    "    else:\n",
    "        outliers.append(i)"
   ]
  },
  {
   "cell_type": "code",
   "execution_count": 230,
   "id": "4fc8314e",
   "metadata": {},
   "outputs": [
    {
     "data": {
      "text/plain": [
       "[1000, 1100]"
      ]
     },
     "execution_count": 230,
     "metadata": {},
     "output_type": "execute_result"
    }
   ],
   "source": [
    "outliers"
   ]
  },
  {
   "cell_type": "code",
   "execution_count": 231,
   "id": "73c5492b-2fff-47b6-9c59-369db982a50f",
   "metadata": {
    "id": "73c5492b-2fff-47b6-9c59-369db982a50f"
   },
   "outputs": [],
   "source": [
    "import seaborn as sns"
   ]
  },
  {
   "cell_type": "code",
   "execution_count": 232,
   "id": "dd5c627a-2867-4467-82d7-6c272c279d1b",
   "metadata": {
    "colab": {
     "base_uri": "https://localhost:8080/",
     "height": 447
    },
    "executionInfo": {
     "elapsed": 13,
     "status": "ok",
     "timestamp": 1693221205335,
     "user": {
      "displayName": "Manish Jha",
      "userId": "06967118728045164726"
     },
     "user_tz": -330
    },
    "id": "dd5c627a-2867-4467-82d7-6c272c279d1b",
    "outputId": "5f1ad2ed-5de3-4b81-85dd-775691d40d5e"
   },
   "outputs": [
    {
     "data": {
      "text/plain": [
       "<Axes: >"
      ]
     },
     "execution_count": 232,
     "metadata": {},
     "output_type": "execute_result"
    },
    {
     "data": {
      "image/png": "[encoded data removed]",
      "text/plain": [
       "<Figure size 640x480 with 1 Axes>"
      ]
     },
     "metadata": {},
     "output_type": "display_data"
    }
   ],
   "source": [
    "sns.boxplot(lst_marks)"
   ]
  },
  {
   "cell_type": "code",
   "execution_count": 233,
   "id": "a63d270c",
   "metadata": {},
   "outputs": [
    {
     "data": {
      "text/plain": [
       "<Axes: >"
      ]
     },
     "execution_count": 233,
     "metadata": {},
     "output_type": "execute_result"
    },
    {
     "data": {
      "image/png": "[encoded data removed]",
      "text/plain": [
       "<Figure size 640x480 with 1 Axes>"
      ]
     },
     "metadata": {},
     "output_type": "display_data"
    }
   ],
   "source": [
    "lst_marks=[45,32,56,75,89,54,32,89,90,87,67,54,45,98,99,67,74]\n",
    "sns.boxplot(lst_marks)"
   ]
  },
  {
   "cell_type": "code",
   "execution_count": 234,
   "id": "f2973d0b-ae24-45e7-86d0-fd8163e93185",
   "metadata": {
    "id": "f2973d0b-ae24-45e7-86d0-fd8163e93185"
   },
   "outputs": [
    {
     "data": {
      "text/plain": [
       "<Axes: >"
      ]
     },
     "execution_count": 234,
     "metadata": {},
     "output_type": "execute_result"
    },
    {
     "data": {
      "image/png": "[encoded data removed]",
      "text/plain": [
       "<Figure size 640x480 with 1 Axes>"
      ]
     },
     "metadata": {},
     "output_type": "display_data"
    }
   ],
   "source": [
    "lst_marks=[-100,-200,45,32,56,75,89,54,32,89,90,87,67,54,45,98,99,67,74,150,170,180]\n",
    "sns.boxplot(lst_marks)"
   ]
  }
 ],
 "metadata": {
  "colab": {
   "provenance": []
  },
  "kernelspec": {
   "display_name": "Python 3",
   "language": "python",
   "name": "python3"
  },
  "language_info": {
   "codemirror_mode": {
    "name": "ipython",
    "version": 3
   },
   "file_extension": ".py",
   "mimetype": "text/x-python",
   "name": "python",
   "nbconvert_exporter": "python",
   "pygments_lexer": "ipython3",
   "version": "3.13.0"
  }
 },
 "nbformat": 4,
 "nbformat_minor": 5
}
