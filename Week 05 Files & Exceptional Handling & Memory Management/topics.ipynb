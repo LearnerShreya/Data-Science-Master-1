{
 "cells": [
  {
   "cell_type": "markdown",
   "metadata": {},
   "source": [
    "# Week 5: Files & Exceptional Handling & Memory Management\n",
    "- Lecture 1 : Working With Files\n",
    "- Lecture 2 : Reading And Writing Files\n",
    "- Lecture 3 : Buffered Read And Write & Other File Methods\n",
    "- Lecture 4 : Logging & Debugger\n",
    "- Lecture 5 : Modules And Import Statements\n",
    "- Lecture 6 : Exceptions Handling With Try-Except\n",
    "- Lecture 7 : Custom Exception Handling\n",
    "- Lecture 8 : List Of General Use Exceptions\n",
    "- Lecture 9 : Best Practice Exception Handling\n",
    "- Lecture 10 : Multithreading\n",
    "- Lecture 11 : Multiprocessing\n",
    "\n",
    "\n",
    "\n",
    "\n"
   ]
  },
  {
   "cell_type": "markdown",
   "metadata": {},
   "source": []
  }
 ],
 "metadata": {
  "language_info": {
   "name": "python"
  }
 },
 "nbformat": 4,
 "nbformat_minor": 2
}
