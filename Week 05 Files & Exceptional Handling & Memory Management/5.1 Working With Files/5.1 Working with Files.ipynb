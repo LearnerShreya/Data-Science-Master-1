{
 "cells": [
  {
   "cell_type": "code",
   "execution_count": 26,
   "id": "a24189d0",
   "metadata": {},
   "outputs": [],
   "source": [
    "f = open(\"test.txt\" , 'w')"
   ]
  },
  {
   "cell_type": "code",
   "execution_count": 27,
   "id": "cf146bbb",
   "metadata": {},
   "outputs": [
    {
     "data": {
      "text/plain": [
       "'d:\\\\(0 to A)\\\\Data-Science-Master\\\\Week 05 Files & Exceptional Handling & Memory Management\\\\5.1 Working With Files\\\\work'"
      ]
     },
     "execution_count": 27,
     "metadata": {},
     "output_type": "execute_result"
    }
   ],
   "source": [
    "%pwd"
   ]
  },
  {
   "cell_type": "code",
   "execution_count": 28,
   "id": "f47c7cdc",
   "metadata": {},
   "outputs": [
    {
     "name": "stdout",
     "output_type": "stream",
     "text": [
      "[WinError 2] The system cannot find the file specified: 'work'\n",
      "d:\\(0 to A)\\Data-Science-Master\\Week 05 Files & Exceptional Handling & Memory Management\\5.1 Working With Files\\work\n"
     ]
    }
   ],
   "source": [
    "# %cd Week 05 Files & Exceptional Handling & Memory Management\\\\5.1 Working With Files\\work\n",
    "%cd work"
   ]
  },
  {
   "cell_type": "code",
   "execution_count": 30,
   "id": "852b4078",
   "metadata": {},
   "outputs": [
    {
     "name": "stdout",
     "output_type": "stream",
     "text": [
      " Volume in drive D is New Volume\n",
      " Volume Serial Number is F4DA-5382\n",
      "\n",
      " Directory of d:\\(0 to A)\\Data-Science-Master\\Week 05 Files & Exceptional Handling & Memory Management\\5.1 Working With Files\\work\n",
      "\n",
      "14-12-2024  00:44    <DIR>          .\n",
      "14-12-2024  00:39    <DIR>          ..\n",
      "14-12-2024  00:44                 0 test.txt\n",
      "               1 File(s)              0 bytes\n",
      "               2 Dir(s)  278,782,586,880 bytes free\n"
     ]
    }
   ],
   "source": [
    "%ls"
   ]
  },
  {
   "cell_type": "code",
   "execution_count": 31,
   "id": "e2ec686d",
   "metadata": {},
   "outputs": [
    {
     "data": {
      "text/plain": [
       "30"
      ]
     },
     "execution_count": 31,
     "metadata": {},
     "output_type": "execute_result"
    }
   ],
   "source": [
    "f.write(\"this is my first file to write\")"
   ]
  },
  {
   "cell_type": "code",
   "execution_count": 32,
   "id": "c4f1c690",
   "metadata": {},
   "outputs": [],
   "source": [
    "f.close()"
   ]
  },
  {
   "cell_type": "code",
   "execution_count": 33,
   "id": "d5f0b5b0",
   "metadata": {},
   "outputs": [],
   "source": [
    "f = open(\"txt.txt\" , 'w')"
   ]
  },
  {
   "cell_type": "code",
   "execution_count": 34,
   "id": "de6bf5cb",
   "metadata": {},
   "outputs": [
    {
     "data": {
      "text/plain": [
       "15"
      ]
     },
     "execution_count": 34,
     "metadata": {},
     "output_type": "execute_result"
    }
   ],
   "source": [
    "f.write(\"this is my file\")"
   ]
  },
  {
   "cell_type": "code",
   "execution_count": 35,
   "id": "5a0e9c8d",
   "metadata": {},
   "outputs": [],
   "source": [
    "f.close()"
   ]
  },
  {
   "cell_type": "code",
   "execution_count": 36,
   "id": "1c28e535",
   "metadata": {},
   "outputs": [],
   "source": [
    "f = open(\"txt.txt\" , 'w')"
   ]
  },
  {
   "cell_type": "code",
   "execution_count": 37,
   "id": "63caeb3a",
   "metadata": {},
   "outputs": [
    {
     "data": {
      "text/plain": [
       "29"
      ]
     },
     "execution_count": 37,
     "metadata": {},
     "output_type": "execute_result"
    }
   ],
   "source": [
    "f.write(\"'w' will create or truncate. \")"
   ]
  },
  {
   "cell_type": "code",
   "execution_count": 38,
   "id": "723cdfa7",
   "metadata": {},
   "outputs": [],
   "source": [
    "f.close()"
   ]
  },
  {
   "cell_type": "code",
   "execution_count": 39,
   "id": "950512fb",
   "metadata": {},
   "outputs": [],
   "source": [
    "f = open(\"txt.txt\", 'a')"
   ]
  },
  {
   "cell_type": "code",
   "execution_count": 40,
   "id": "ecaf9bed",
   "metadata": {},
   "outputs": [
    {
     "data": {
      "text/plain": [
       "780"
      ]
     },
     "execution_count": 40,
     "metadata": {},
     "output_type": "execute_result"
    }
   ],
   "source": [
    "f.write(\"a will append; Data Science Masters course is highly curated and uniquely designed according to the latest industry standards. This program instills students the skills essential to knowledge discovery efforts to identify standard, novel, and truly differentiated solutions and decision-making, including skills in managing, querying, analyzing, visualizing, and extracting meaning from extremely large data sets. This trending program provides students with the statistical, mathematical and computational skills needed to meet the large-scale data science challenges of today's professional world. You will learn all the stack required to work in data science industry including cloud infrastructure and real-time industry projects. This course will be taught in Hindi language.\")"
   ]
  },
  {
   "cell_type": "code",
   "execution_count": 41,
   "id": "845dc544",
   "metadata": {},
   "outputs": [],
   "source": [
    "f.close()"
   ]
  },
  {
   "cell_type": "code",
   "execution_count": 42,
   "id": "99e4a118",
   "metadata": {},
   "outputs": [],
   "source": [
    "data = open(\"txt.txt\", 'r')"
   ]
  },
  {
   "cell_type": "code",
   "execution_count": 43,
   "id": "15bd062d",
   "metadata": {},
   "outputs": [
    {
     "data": {
      "text/plain": [
       "\"'w' will create or truncate. a will append; Data Science Masters course is highly curated and uniquely designed according to the latest industry standards. This program instills students the skills essential to knowledge discovery efforts to identify standard, novel, and truly differentiated solutions and decision-making, including skills in managing, querying, analyzing, visualizing, and extracting meaning from extremely large data sets. This trending program provides students with the statistical, mathematical and computational skills needed to meet the large-scale data science challenges of today's professional world. You will learn all the stack required to work in data science industry including cloud infrastructure and real-time industry projects. This course will be taught in Hindi language.\""
      ]
     },
     "execution_count": 43,
     "metadata": {},
     "output_type": "execute_result"
    }
   ],
   "source": [
    "data.read()"
   ]
  },
  {
   "cell_type": "code",
   "execution_count": 44,
   "id": "96d8b1d8",
   "metadata": {},
   "outputs": [
    {
     "data": {
      "text/plain": [
       "''"
      ]
     },
     "execution_count": 44,
     "metadata": {},
     "output_type": "execute_result"
    }
   ],
   "source": [
    "data.readline()"
   ]
  },
  {
   "cell_type": "code",
   "execution_count": 45,
   "id": "3d854354",
   "metadata": {},
   "outputs": [
    {
     "data": {
      "text/plain": [
       "0"
      ]
     },
     "execution_count": 45,
     "metadata": {},
     "output_type": "execute_result"
    }
   ],
   "source": [
    "data.seek(0)"
   ]
  },
  {
   "cell_type": "code",
   "execution_count": 46,
   "id": "6c4d91a5",
   "metadata": {},
   "outputs": [
    {
     "data": {
      "text/plain": [
       "\"'w' will create or truncate. a will append; Data Science Masters course is highly curated and uniquely designed according to the latest industry standards. This program instills students the skills essential to knowledge discovery efforts to identify standard, novel, and truly differentiated solutions and decision-making, including skills in managing, querying, analyzing, visualizing, and extracting meaning from extremely large data sets. This trending program provides students with the statistical, mathematical and computational skills needed to meet the large-scale data science challenges of today's professional world. You will learn all the stack required to work in data science industry including cloud infrastructure and real-time industry projects. This course will be taught in Hindi language.\""
      ]
     },
     "execution_count": 46,
     "metadata": {},
     "output_type": "execute_result"
    }
   ],
   "source": [
    "data.readline()"
   ]
  },
  {
   "cell_type": "code",
   "execution_count": 47,
   "id": "27311b4a",
   "metadata": {},
   "outputs": [
    {
     "data": {
      "text/plain": [
       "''"
      ]
     },
     "execution_count": 47,
     "metadata": {},
     "output_type": "execute_result"
    }
   ],
   "source": [
    "data.readline()"
   ]
  },
  {
   "cell_type": "code",
   "execution_count": 48,
   "id": "a6d96d77",
   "metadata": {},
   "outputs": [
    {
     "data": {
      "text/plain": [
       "[]"
      ]
     },
     "execution_count": 48,
     "metadata": {},
     "output_type": "execute_result"
    }
   ],
   "source": [
    "data.readlines()"
   ]
  },
  {
   "cell_type": "code",
   "execution_count": 49,
   "id": "2b2e347c",
   "metadata": {},
   "outputs": [
    {
     "data": {
      "text/plain": [
       "0"
      ]
     },
     "execution_count": 49,
     "metadata": {},
     "output_type": "execute_result"
    }
   ],
   "source": [
    "data.seek(0)"
   ]
  },
  {
   "cell_type": "code",
   "execution_count": 50,
   "id": "65b97024",
   "metadata": {},
   "outputs": [
    {
     "data": {
      "text/plain": [
       "\"'w' will create or truncate. a will append; Data Science Masters course is highly curated and uniquely designed according to the latest industry standards. This program instills students the skills essential to knowledge discovery efforts to identify standard, novel, and truly differentiated solutions and decision-making, including skills in managing, querying, analyzing, visualizing, and extracting meaning from extremely large data sets. This trending program provides students with the statistical, mathematical and computational skills needed to meet the large-scale data science challenges of today's professional world. You will learn all the stack required to work in data science industry including cloud infrastructure and real-time industry projects. This course will be taught in Hindi language.\""
      ]
     },
     "execution_count": 50,
     "metadata": {},
     "output_type": "execute_result"
    }
   ],
   "source": [
    "data.read()"
   ]
  },
  {
   "cell_type": "code",
   "execution_count": 51,
   "id": "7119d505",
   "metadata": {},
   "outputs": [
    {
     "data": {
      "text/plain": [
       "10"
      ]
     },
     "execution_count": 51,
     "metadata": {},
     "output_type": "execute_result"
    }
   ],
   "source": [
    "data.seek(10)"
   ]
  },
  {
   "cell_type": "code",
   "execution_count": 52,
   "id": "a9e64ffd",
   "metadata": {},
   "outputs": [
    {
     "data": {
      "text/plain": [
       "\"reate or truncate. a will append; Data Science Masters course is highly curated and uniquely designed according to the latest industry standards. This program instills students the skills essential to knowledge discovery efforts to identify standard, novel, and truly differentiated solutions and decision-making, including skills in managing, querying, analyzing, visualizing, and extracting meaning from extremely large data sets. This trending program provides students with the statistical, mathematical and computational skills needed to meet the large-scale data science challenges of today's professional world. You will learn all the stack required to work in data science industry including cloud infrastructure and real-time industry projects. This course will be taught in Hindi language.\""
      ]
     },
     "execution_count": 52,
     "metadata": {},
     "output_type": "execute_result"
    }
   ],
   "source": [
    "data.readline()\n",
    "# or\n",
    "# data.read()"
   ]
  },
  {
   "cell_type": "code",
   "execution_count": 53,
   "id": "c2928606",
   "metadata": {},
   "outputs": [],
   "source": [
    "data1 = open(\"txt.txt\" , 'r')"
   ]
  },
  {
   "cell_type": "code",
   "execution_count": 54,
   "id": "4809dab3",
   "metadata": {},
   "outputs": [
    {
     "name": "stdout",
     "output_type": "stream",
     "text": [
      "'w' will create or truncate. a will append; Data Science Masters course is highly curated and uniquely designed according to the latest industry standards. This program instills students the skills essential to knowledge discovery efforts to identify standard, novel, and truly differentiated solutions and decision-making, including skills in managing, querying, analyzing, visualizing, and extracting meaning from extremely large data sets. This trending program provides students with the statistical, mathematical and computational skills needed to meet the large-scale data science challenges of today's professional world. You will learn all the stack required to work in data science industry including cloud infrastructure and real-time industry projects. This course will be taught in Hindi language.\n"
     ]
    }
   ],
   "source": [
    "for i in data1:\n",
    "    print(i)"
   ]
  },
  {
   "cell_type": "code",
   "execution_count": 55,
   "id": "dce7c441",
   "metadata": {},
   "outputs": [],
   "source": [
    "import os"
   ]
  },
  {
   "cell_type": "code",
   "execution_count": 56,
   "id": "cced9912",
   "metadata": {},
   "outputs": [
    {
     "data": {
      "text/plain": [
       "809"
      ]
     },
     "execution_count": 56,
     "metadata": {},
     "output_type": "execute_result"
    }
   ],
   "source": [
    "os.path.getsize(\"txt.txt\")"
   ]
  },
  {
   "cell_type": "code",
   "execution_count": 58,
   "id": "04d652a4",
   "metadata": {},
   "outputs": [],
   "source": [
    "os.remove(\"test.txt\")"
   ]
  },
  {
   "cell_type": "code",
   "execution_count": 60,
   "id": "804e83bc",
   "metadata": {},
   "outputs": [],
   "source": [
    "f = open(\"test\", 'w')"
   ]
  },
  {
   "cell_type": "code",
   "execution_count": 61,
   "id": "da32edc1",
   "metadata": {},
   "outputs": [
    {
     "data": {
      "text/plain": [
       "780"
      ]
     },
     "execution_count": 61,
     "metadata": {},
     "output_type": "execute_result"
    }
   ],
   "source": [
    "f.write(\"this is my fileData Science Masters course is highly curated and uniquely designed according to the latest industry standards. This program instills students the skills essential to knowledge discovery efforts to identify standard, novel, and truly differentiated solutions and decision-making, including skills in managing, querying, analyzing, visualizing, and extracting meaning from extremely large data sets. This trending program provides students with the statistical, mathematical and computational skills needed to meet the large-scale data science challenges of today's professional world. You will learn all the stack required to work in data science industry including cloud infrastructure and real-time industry projects. This course will be taught in Hindi language.\")"
   ]
  },
  {
   "cell_type": "code",
   "execution_count": 62,
   "id": "13b370d1",
   "metadata": {},
   "outputs": [],
   "source": [
    "f.close()"
   ]
  },
  {
   "cell_type": "code",
   "execution_count": 63,
   "id": "7ce0c897",
   "metadata": {},
   "outputs": [],
   "source": [
    "os.rename(\"test\" , \"new.txt\")"
   ]
  },
  {
   "cell_type": "code",
   "execution_count": 64,
   "id": "fd7004f8",
   "metadata": {},
   "outputs": [],
   "source": [
    "import shutil"
   ]
  },
  {
   "cell_type": "code",
   "execution_count": 65,
   "id": "a0630c5f",
   "metadata": {},
   "outputs": [
    {
     "data": {
      "text/plain": [
       "'copy_new.txt'"
      ]
     },
     "execution_count": 65,
     "metadata": {},
     "output_type": "execute_result"
    }
   ],
   "source": [
    "shutil.copy(\"new.txt\" , \"copy_new.txt\")"
   ]
  },
  {
   "cell_type": "code",
   "execution_count": 66,
   "id": "66c71da8",
   "metadata": {},
   "outputs": [
    {
     "name": "stdout",
     "output_type": "stream",
     "text": [
      "this is my fileData Science Masters course is highly curated and uniquely designed according to the latest industry standards. This program instills students the skills essential to knowledge discovery efforts to identify standard, novel, and truly differentiated solutions and decision-making, including skills in managing, querying, analyzing, visualizing, and extracting meaning from extremely large data sets. This trending program provides students with the statistical, mathematical and computational skills needed to meet the large-scale data science challenges of today's professional world. You will learn all the stack required to work in data science industry including cloud infrastructure and real-time industry projects. This course will be taught in Hindi language.\n"
     ]
    }
   ],
   "source": [
    "with open(\"new.txt\" , \"r\") as f :\n",
    "    print(f.read())"
   ]
  },
  {
   "cell_type": "code",
   "execution_count": 67,
   "id": "464af706",
   "metadata": {},
   "outputs": [],
   "source": [
    "import shutil"
   ]
  },
  {
   "cell_type": "code",
   "execution_count": 68,
   "id": "e5f97411",
   "metadata": {},
   "outputs": [
    {
     "data": {
      "text/plain": [
       "'copy_1_new.txt'"
      ]
     },
     "execution_count": 68,
     "metadata": {},
     "output_type": "execute_result"
    }
   ],
   "source": [
    "shutil.copy(\"new.txt\", \"copy_1_new.txt\")"
   ]
  },
  {
   "cell_type": "code",
   "execution_count": 69,
   "id": "0ec7e044",
   "metadata": {},
   "outputs": [
    {
     "name": "stdout",
     "output_type": "stream",
     "text": [
      "this is my fileData Science Masters course is highly curated and uniquely designed according to the latest industry standards. This program instills students the skills essential to knowledge discovery efforts to identify standard, novel, and truly differentiated solutions and decision-making, including skills in managing, querying, analyzing, visualizing, and extracting meaning from extremely large data sets. This trending program provides students with the statistical, mathematical and computational skills needed to meet the large-scale data science challenges of today's professional world. You will learn all the stack required to work in data science industry including cloud infrastructure and real-time industry projects. This course will be taught in Hindi language.\n"
     ]
    }
   ],
   "source": [
    "with open(\"new.txt\", 'r') as f:\n",
    "    print(f.read())"
   ]
  },
  {
   "cell_type": "markdown",
   "id": "46369dfd",
   "metadata": {},
   "source": [
    "# Operations\n",
    "\n",
    "### File handling in Python supports a variety of operations to interact with files. Here’s a comprehensive guide to the most common file operations:\n",
    "\n",
    "---\n",
    "\n",
    "### **1. Create a File**\n",
    "```python\n",
    "# Using 'w' or 'x' mode\n",
    "with open(\"example.txt\", \"w\") as file:\n",
    "    file.write(\"This is a new file.\")\n",
    "```\n",
    "\n",
    "---\n",
    "\n",
    "### **2. Open a File**\n",
    "- **Text Mode**:\n",
    "  ```python\n",
    "  with open(\"example.txt\", \"r\") as file:\n",
    "      content = file.read()\n",
    "  print(content)\n",
    "  ```\n",
    "- **Binary Mode**:\n",
    "  ```python\n",
    "  with open(\"example.jpg\", \"rb\") as file:\n",
    "      data = file.read()\n",
    "  ```\n",
    "\n",
    "---\n",
    "\n",
    "### **3. Read from a File**\n",
    "- **Entire File**:\n",
    "  ```python\n",
    "  with open(\"example.txt\", \"r\") as file:\n",
    "      content = file.read()\n",
    "      print(content)\n",
    "  ```\n",
    "- **Line by Line**:\n",
    "  ```python\n",
    "  with open(\"example.txt\", \"r\") as file:\n",
    "      for line in file:\n",
    "          print(line.strip())  # Removes trailing newline\n",
    "  ```\n",
    "- **Specific Number of Characters**:\n",
    "  ```python\n",
    "  with open(\"example.txt\", \"r\") as file:\n",
    "      partial = file.read(10)  # Reads first 10 characters\n",
    "  ```\n",
    "\n",
    "---\n",
    "\n",
    "### **4. Write to a File**\n",
    "- **Overwrite Content**:\n",
    "  ```python\n",
    "  with open(\"example.txt\", \"w\") as file:\n",
    "      file.write(\"This overwrites existing content.\")\n",
    "  ```\n",
    "- **Append Content**:\n",
    "  ```python\n",
    "  with open(\"example.txt\", \"a\") as file:\n",
    "      file.write(\"\\nThis is an appended line.\")\n",
    "  ```\n",
    "\n",
    "---\n",
    "\n",
    "### **5. File Positioning**\n",
    "- **Get Current Position**:\n",
    "  ```python\n",
    "  with open(\"example.txt\", \"r\") as file:\n",
    "      print(file.tell())  # Returns current position in the file\n",
    "  ```\n",
    "- **Move Cursor**:\n",
    "  ```python\n",
    "  with open(\"example.txt\", \"r\") as file:\n",
    "      file.seek(5)  # Move to the 5th byte in the file\n",
    "      content = file.read()\n",
    "      print(content)\n",
    "  ```\n",
    "\n",
    "---\n",
    "\n",
    "### **6. Check if File Exists**\n",
    "```python\n",
    "import os\n",
    "\n",
    "if os.path.exists(\"example.txt\"):\n",
    "    print(\"File exists.\")\n",
    "else:\n",
    "    print(\"File does not exist.\")\n",
    "```\n",
    "\n",
    "---\n",
    "\n",
    "### **7. Delete a File**\n",
    "```python\n",
    "import os\n",
    "\n",
    "if os.path.exists(\"example.txt\"):\n",
    "    os.remove(\"example.txt\")\n",
    "    print(\"File deleted.\")\n",
    "else:\n",
    "    print(\"File not found.\")\n",
    "```\n",
    "\n",
    "---\n",
    "\n",
    "### **8. Rename or Move a File**\n",
    "```python\n",
    "import os\n",
    "\n",
    "# Rename a file\n",
    "os.rename(\"example.txt\", \"renamed_example.txt\")\n",
    "\n",
    "# Move a file\n",
    "os.rename(\"renamed_example.txt\", \"new_folder/renamed_example.txt\")\n",
    "```\n",
    "\n",
    "---\n",
    "\n",
    "### **9. Read and Write Together**\n",
    "```python\n",
    "with open(\"example.txt\", \"r+\") as file:  # Read and write mode\n",
    "    content = file.read()\n",
    "    file.write(\"\\nAdding new content at the end.\")\n",
    "```\n",
    "\n",
    "---\n",
    "\n",
    "### **10. Copy a File**\n",
    "```python\n",
    "import shutil\n",
    "\n",
    "shutil.copy(\"source.txt\", \"destination.txt\")\n",
    "```\n",
    "\n",
    "---\n",
    "\n",
    "### **11. Close a File Manually**\n",
    "Though not recommended (use `with` instead), you can close files manually:\n",
    "```python\n",
    "file = open(\"example.txt\", \"r\")\n",
    "content = file.read()\n",
    "file.close()\n",
    "```\n",
    "\n",
    "---\n",
    "\n",
    "### **12. Binary File Operations**\n",
    "- **Write Binary Data**:\n",
    "  ```python\n",
    "  with open(\"binary_file.bin\", \"wb\") as file:\n",
    "      file.write(b\"Binary data here\")\n",
    "  ```\n",
    "- **Read Binary Data**:\n",
    "  ```python\n",
    "  with open(\"binary_file.bin\", \"rb\") as file:\n",
    "      data = file.read()\n",
    "      print(data)\n",
    "  ```\n",
    "\n",
    "---\n",
    "\n",
    "Would you like further clarification or examples of any specific operation?"
   ]
  },
  {
   "cell_type": "markdown",
   "id": "d56241fe",
   "metadata": {},
   "source": [
    "# Modes\n",
    "\n",
    "### There are several modes for working with files in Python, depending on the type of operations you want to perform. Here is an overview:\n",
    "\n",
    "---\n",
    "\n",
    "### **Modes for File Operations**\n",
    "| Mode  | Description                                                                 |\n",
    "|-------|-----------------------------------------------------------------------------|\n",
    "| `r`   | Read mode (default). Opens the file for reading. Fails if the file doesn't exist. |\n",
    "| `w`   | Write mode. Creates a new file or truncates an existing file to zero length. |\n",
    "| `x`   | Exclusive creation. Fails if the file already exists.                       |\n",
    "| `a`   | Append mode. Opens the file for appending data at the end. Creates the file if it doesn’t exist. |\n",
    "| `b`   | Binary mode. Used with other modes for reading/writing binary files.        |\n",
    "| `t`   | Text mode (default). Used with other modes for text operations.             |\n",
    "| `+`   | Read and write mode. Combines `r+`, `w+`, or `a+`.                          |\n",
    "\n",
    "---\n",
    "\n",
    "### **Common Combinations**\n",
    "1. **`r`**: Read text file.\n",
    "   ```python\n",
    "   with open('example.txt', 'r') as file:\n",
    "       content = file.read()\n",
    "       print(content)\n",
    "   ```\n",
    "\n",
    "2. **`w`**: Write text file (overwrites existing data).\n",
    "   ```python\n",
    "   with open('example.txt', 'w') as file:\n",
    "       file.write(\"Hello, World!\")\n",
    "   ```\n",
    "\n",
    "3. **`a`**: Append text to file.\n",
    "   ```python\n",
    "   with open('example.txt', 'a') as file:\n",
    "       file.write(\"\\nAppending a new line.\")\n",
    "   ```\n",
    "\n",
    "4. **`rb`/`wb`**: Read/Write binary files.\n",
    "   ```python\n",
    "   with open('image.jpg', 'rb') as file:\n",
    "       data = file.read()\n",
    "   with open('copy.jpg', 'wb') as file:\n",
    "       file.write(data)\n",
    "   ```\n",
    "\n",
    "5. **`r+`**: Read and write to a file.\n",
    "   ```python\n",
    "   with open('example.txt', 'r+') as file:\n",
    "       content = file.read()\n",
    "       file.write(\"\\nNew content added.\")\n",
    "   ```\n",
    "\n",
    "---\n",
    "\n",
    "### **Handling Files Safely**\n",
    "Always use the `with` statement to handle files. It ensures that the file is properly closed after operations, even if an error occurs during processing.\n",
    "\n",
    "```python\n",
    "with open('example.txt', 'r') as file:\n",
    "    data = file.read()\n",
    "```\n",
    "\n",
    "---\n",
    "Would you like examples of specific operations like reading line-by-line, checking for existence, or binary file handling?\n",
    "\n",
    "---\n",
    "---"
   ]
  },
  {
   "cell_type": "markdown",
   "id": "e30d1e47",
   "metadata": {},
   "source": [
    "# Note: Commands in Windows & Jupyter Notebook  \n",
    "\n",
    "#### **For Windows (Shell Commands)**  \n",
    "1. **Print Current Directory (`pwd` equivalent)**:  \n",
    "   ```python\n",
    "   !cd\n",
    "   ```  \n",
    "\n",
    "2. **List Directory Contents (`ls` equivalent)**:  \n",
    "   ```python\n",
    "   !dir\n",
    "   ```  \n",
    "\n",
    "3. **Change Directory (`cd work` equivalent)**:  \n",
    "   - **Verify Directory Exists**:  \n",
    "     ```python\n",
    "     !dir\n",
    "     ```  \n",
    "   - **Change Directory**:  \n",
    "     ```python\n",
    "     !cd work\n",
    "     ```  \n",
    "   *(Ensure the `work` directory exists before changing into it.)*  \n",
    "\n",
    "---\n",
    "\n",
    "#### **For Jupyter Notebook (Magic Commands)**  \n",
    "1. **Print Current Directory**:  \n",
    "   ```python\n",
    "   %pwd\n",
    "   ```  \n",
    "\n",
    "2. **List Directory Contents**:  \n",
    "   ```python\n",
    "   %ls\n",
    "   ```  \n",
    "\n",
    "3. **Change Directory**:  \n",
    "   ```python\n",
    "   %cd work\n",
    "   ```  \n",
    "   - If the directory doesn’t exist:  \n",
    "     ```python\n",
    "     !mkdir work\n",
    "     %cd work\n",
    "     ```\n",
    "\n",
    "---\n",
    "\n",
    "#### **Key Points**:\n",
    "- **Windows Commands** (`!`): Use `!cd`, `!dir` for shell-based operations.  \n",
    "- **Jupyter Magic Commands** (`%`): Use `%pwd`, `%ls`, `%cd` for cross-platform compatibility.  \n",
    "- Magic commands are easier and more reliable in Jupyter.  "
   ]
  },
  {
   "cell_type": "markdown",
   "id": "96f4e012",
   "metadata": {},
   "source": []
  }
 ],
 "metadata": {
  "kernelspec": {
   "display_name": "Python 3",
   "language": "python",
   "name": "python3"
  },
  "language_info": {
   "codemirror_mode": {
    "name": "ipython",
    "version": 3
   },
   "file_extension": ".py",
   "mimetype": "text/x-python",
   "name": "python",
   "nbconvert_exporter": "python",
   "pygments_lexer": "ipython3",
   "version": "3.13.0"
  }
 },
 "nbformat": 4,
 "nbformat_minor": 5
}
