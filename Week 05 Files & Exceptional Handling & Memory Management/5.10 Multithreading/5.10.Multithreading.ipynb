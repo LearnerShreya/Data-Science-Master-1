{
 "cells": [
  {
   "cell_type": "markdown",
   "metadata": {},
   "source": [
    "# Lecture 10 : Multithreading"
   ]
  },
  {
   "cell_type": "code",
   "execution_count": 29,
   "metadata": {},
   "outputs": [],
   "source": [
    "import threading"
   ]
  },
  {
   "cell_type": "code",
   "execution_count": 30,
   "metadata": {},
   "outputs": [],
   "source": [
    "def test(id):\n",
    "    print(\"prog start %d\" %id)"
   ]
  },
  {
   "cell_type": "code",
   "execution_count": 31,
   "metadata": {},
   "outputs": [
    {
     "name": "stdout",
     "output_type": "stream",
     "text": [
      "prog start 45\n"
     ]
    }
   ],
   "source": [
    "test(45)"
   ]
  },
  {
   "cell_type": "code",
   "execution_count": 32,
   "metadata": {},
   "outputs": [],
   "source": [
    "thread = [threading.Thread(target=test, args=(i,)) for i in range(10)]"
   ]
  },
  {
   "cell_type": "code",
   "execution_count": 33,
   "metadata": {},
   "outputs": [
    {
     "name": "stdout",
     "output_type": "stream",
     "text": [
      "prog start 0\n",
      "prog start 1\n",
      "prog start 2\n",
      "prog start 3\n",
      "prog start 4\n",
      "prog start 5\n",
      "prog start 6\n",
      "prog start 7\n",
      "prog start 8\n",
      "prog start 9\n"
     ]
    }
   ],
   "source": [
    "for t in thread:\n",
    "    t.start()"
   ]
  },
  {
   "cell_type": "code",
   "execution_count": 34,
   "metadata": {},
   "outputs": [
    {
     "data": {
      "text/plain": [
       "[0, 1, 2, 3, 4, 5, 6, 7, 8, 9]"
      ]
     },
     "execution_count": 34,
     "metadata": {},
     "output_type": "execute_result"
    }
   ],
   "source": [
    "list(range(10))"
   ]
  },
  {
   "cell_type": "code",
   "execution_count": 35,
   "metadata": {},
   "outputs": [
    {
     "data": {
      "text/plain": [
       "[<Thread(Thread-106 (test), stopped 6284)>,\n",
       " <Thread(Thread-107 (test), stopped 5388)>,\n",
       " <Thread(Thread-108 (test), stopped 7380)>,\n",
       " <Thread(Thread-109 (test), stopped 4336)>,\n",
       " <Thread(Thread-110 (test), stopped 1044)>,\n",
       " <Thread(Thread-111 (test), stopped 16616)>,\n",
       " <Thread(Thread-112 (test), stopped 4740)>,\n",
       " <Thread(Thread-113 (test), stopped 15772)>,\n",
       " <Thread(Thread-114 (test), stopped 7528)>,\n",
       " <Thread(Thread-115 (test), stopped 15488)>]"
      ]
     },
     "execution_count": 35,
     "metadata": {},
     "output_type": "execute_result"
    }
   ],
   "source": [
    "thread"
   ]
  },
  {
   "cell_type": "code",
   "execution_count": 36,
   "metadata": {},
   "outputs": [
    {
     "data": {
      "text/plain": [
       "2383966048576"
      ]
     },
     "execution_count": 36,
     "metadata": {},
     "output_type": "execute_result"
    }
   ],
   "source": [
    "id(thread)"
   ]
  },
  {
   "cell_type": "code",
   "execution_count": 37,
   "metadata": {},
   "outputs": [],
   "source": [
    "import threading\n",
    "import urllib.request\n",
    "\n",
    "def file_download(url, filename):\n",
    "    urllib.request.urlretrieve(url, filename)"
   ]
  },
  {
   "cell_type": "code",
   "execution_count": 40,
   "metadata": {},
   "outputs": [],
   "source": [
    "file_download('https://raw.githubusercontent.com/itsfoss/text-files/master/agatha.txt', \"test.txt\")"
   ]
  },
  {
   "cell_type": "code",
   "execution_count": 41,
   "metadata": {},
   "outputs": [],
   "source": [
    "url_list = ['https://raw.githubusercontent.com/itsfoss/text-files/master/agatha.txt', 'https://raw.githubusercontent.com/itsfoss/text-files/master/sherlock.txt', 'https://raw.githubusercontent.com/itsfoss/text-files/master/sample_log_file.txt']"
   ]
  },
  {
   "cell_type": "code",
   "execution_count": 42,
   "metadata": {},
   "outputs": [
    {
     "data": {
      "text/plain": [
       "['https://raw.githubusercontent.com/itsfoss/text-files/master/agatha.txt',\n",
       " 'https://raw.githubusercontent.com/itsfoss/text-files/master/sherlock.txt',\n",
       " 'https://raw.githubusercontent.com/itsfoss/text-files/master/sample_log_file.txt']"
      ]
     },
     "execution_count": 42,
     "metadata": {},
     "output_type": "execute_result"
    }
   ],
   "source": [
    "url_list"
   ]
  },
  {
   "cell_type": "code",
   "execution_count": 43,
   "metadata": {},
   "outputs": [],
   "source": [
    "file_name_list = ['data1.txt', 'data2.txt', 'data3.txt']"
   ]
  },
  {
   "cell_type": "code",
   "execution_count": 45,
   "metadata": {},
   "outputs": [],
   "source": [
    "ther = [threading.Thread(target=file_download, args = (url_list[i], file_name_list[i])) for i in range(len(url_list))]"
   ]
  },
  {
   "cell_type": "code",
   "execution_count": 46,
   "metadata": {},
   "outputs": [
    {
     "data": {
      "text/plain": [
       "[<Thread(Thread-170 (file_download), initial)>,\n",
       " <Thread(Thread-171 (file_download), initial)>,\n",
       " <Thread(Thread-172 (file_download), initial)>]"
      ]
     },
     "execution_count": 46,
     "metadata": {},
     "output_type": "execute_result"
    }
   ],
   "source": [
    "ther"
   ]
  },
  {
   "cell_type": "code",
   "execution_count": 47,
   "metadata": {},
   "outputs": [],
   "source": [
    "for t in ther:\n",
    "    t.start()"
   ]
  },
  {
   "cell_type": "code",
   "execution_count": 48,
   "metadata": {},
   "outputs": [
    {
     "data": {
      "text/plain": [
       "[<Thread(Thread-170 (file_download), stopped 1576)>,\n",
       " <Thread(Thread-171 (file_download), stopped 16496)>,\n",
       " <Thread(Thread-172 (file_download), stopped 17188)>]"
      ]
     },
     "execution_count": 48,
     "metadata": {},
     "output_type": "execute_result"
    }
   ],
   "source": [
    "ther"
   ]
  },
  {
   "cell_type": "code",
   "execution_count": 49,
   "metadata": {},
   "outputs": [],
   "source": [
    "import time"
   ]
  },
  {
   "cell_type": "code",
   "execution_count": 83,
   "metadata": {},
   "outputs": [],
   "source": [
    "def test1(id):\n",
    "    for i in range(10):\n",
    "        # print(\"test1 %d printing %d\" %(id, i))\n",
    "        print(\"test1 %d printing %d %s\" %(id, i, time.ctime()))\n",
    "        time.sleep(1)\n",
    "        # time.sleep(2)"
   ]
  },
  {
   "cell_type": "code",
   "execution_count": 84,
   "metadata": {},
   "outputs": [
    {
     "name": "stdout",
     "output_type": "stream",
     "text": [
      "test1 0 printing 0 Thu Dec 26 19:24:08 2024\n",
      "test1 0 printing 1 Thu Dec 26 19:24:09 2024\n",
      "test1 0 printing 2 Thu Dec 26 19:24:10 2024\n",
      "test1 0 printing 3 Thu Dec 26 19:24:11 2024\n",
      "test1 0 printing 4 Thu Dec 26 19:24:12 2024\n",
      "test1 0 printing 5 Thu Dec 26 19:24:13 2024\n",
      "test1 0 printing 6 Thu Dec 26 19:24:14 2024\n",
      "test1 0 printing 7 Thu Dec 26 19:24:15 2024\n",
      "test1 0 printing 8 Thu Dec 26 19:24:16 2024\n",
      "test1 0 printing 9 Thu Dec 26 19:24:17 2024\n"
     ]
    }
   ],
   "source": [
    "# test1(1)\n",
    "test1(0)"
   ]
  },
  {
   "cell_type": "code",
   "execution_count": 85,
   "metadata": {},
   "outputs": [],
   "source": [
    "thread1 = [threading.Thread(target=test1, args=(i,)) for i in range(3 )]"
   ]
  },
  {
   "cell_type": "markdown",
   "metadata": {},
   "source": [
    "Above : under utilization of time\n",
    "Below : efficient utilization of time"
   ]
  },
  {
   "cell_type": "code",
   "execution_count": 86,
   "metadata": {},
   "outputs": [
    {
     "name": "stdout",
     "output_type": "stream",
     "text": [
      "test1 0 printing 0 Thu Dec 26 19:24:18 2024\n",
      "test1 1 printing 0 Thu Dec 26 19:24:18 2024\n",
      "test1 2 printing 0 Thu Dec 26 19:24:18 2024\n"
     ]
    },
    {
     "name": "stdout",
     "output_type": "stream",
     "text": [
      "test1 0 printing 1 Thu Dec 26 19:24:19 2024\n",
      "test1 1 printing 1 Thu Dec 26 19:24:19 2024\n",
      "test1 2 printing 1 Thu Dec 26 19:24:19 2024\n",
      "test1 0 printing 2 Thu Dec 26 19:24:20 2024\n",
      "test1 2 printing 2 Thu Dec 26 19:24:20 2024\n",
      "test1 1 printing 2 Thu Dec 26 19:24:20 2024\n",
      "test1 1 printing 3 Thu Dec 26 19:24:21 2024test1 2 printing 3 Thu Dec 26 19:24:21 2024\n",
      "test1 0 printing 3 Thu Dec 26 19:24:21 2024\n",
      "\n",
      "test1 2 printing 4 Thu Dec 26 19:24:22 2024test1 0 printing 4 Thu Dec 26 19:24:22 2024\n",
      "test1 1 printing 4 Thu Dec 26 19:24:22 2024\n",
      "\n",
      "test1 1 printing 5 Thu Dec 26 19:24:23 2024test1 0 printing 5 Thu Dec 26 19:24:23 2024\n",
      "test1 2 printing 5 Thu Dec 26 19:24:23 2024\n",
      "\n",
      "test1 0 printing 6 Thu Dec 26 19:24:24 2024\n",
      "test1 2 printing 6 Thu Dec 26 19:24:24 2024\n",
      "test1 1 printing 6 Thu Dec 26 19:24:24 2024\n",
      "test1 1 printing 7 Thu Dec 26 19:24:25 2024test1 2 printing 7 Thu Dec 26 19:24:25 2024\n",
      "test1 0 printing 7 Thu Dec 26 19:24:25 2024\n",
      "\n",
      "test1 2 printing 8 Thu Dec 26 19:24:26 2024test1 0 printing 8 Thu Dec 26 19:24:26 2024\n",
      "test1 1 printing 8 Thu Dec 26 19:24:26 2024\n",
      "\n",
      "test1 0 printing 9 Thu Dec 26 19:24:27 2024\n",
      "test1 1 printing 9 Thu Dec 26 19:24:27 2024\n",
      "test1 2 printing 9 Thu Dec 26 19:24:27 2024\n"
     ]
    }
   ],
   "source": [
    "for t in thread1:\n",
    "    t.start()"
   ]
  },
  {
   "cell_type": "code",
   "execution_count": 108,
   "metadata": {},
   "outputs": [],
   "source": [
    "shared_var = 0\n",
    "lock_var = threading.Lock()"
   ]
  },
  {
   "cell_type": "code",
   "execution_count": 109,
   "metadata": {},
   "outputs": [],
   "source": [
    "def test2(id):\n",
    "    global shared_var\n",
    "    with lock_var:\n",
    "        shared_var = shared_var+1\n",
    "        print(\"test2 id is %d has increased the shared variable by %d\" %(id, shared_var))"
   ]
  },
  {
   "cell_type": "code",
   "execution_count": 110,
   "metadata": {},
   "outputs": [],
   "source": [
    "thre3 = [threading.Thread(target=test2, args = (i,)) for i in range(3)]"
   ]
  },
  {
   "cell_type": "code",
   "execution_count": 111,
   "metadata": {},
   "outputs": [],
   "source": [
    "# thre3"
   ]
  },
  {
   "cell_type": "code",
   "execution_count": 112,
   "metadata": {},
   "outputs": [
    {
     "name": "stdout",
     "output_type": "stream",
     "text": [
      "test2 id is 0 has increased the shared variable by 1\n",
      "test2 id is 1 has increased the shared variable by 2\n",
      "test2 id is 2 has increased the shared variable by 3\n"
     ]
    }
   ],
   "source": [
    "for t in thre3:\n",
    "    t.start()"
   ]
  },
  {
   "cell_type": "markdown",
   "metadata": {},
   "source": []
  },
  {
   "cell_type": "markdown",
   "metadata": {},
   "source": [
    "---\n",
    "---\n",
    "Python in multithreading is an important concept to understand, even though the operating system often handles threading for certain tasks. While Python's Global Interpreter Lock (GIL) limits true parallelism for CPU-bound tasks, multithreading is still useful for I/O-bound operations such as file handling, web scraping, and network requests.\n",
    "\n",
    "Here's a detailed explanation of how multithreading works in Python and how to implement it:\n",
    "\n",
    "---\n",
    "\n",
    "## How Multithreading Works in Python\n",
    "\n",
    "1. **Global Interpreter Lock (GIL)**:  \n",
    "   - Python uses GIL, which allows only one thread to execute Python bytecode at a time in a single process.  \n",
    "   - This means CPU-bound tasks (e.g., computations) don't benefit from multithreading.  \n",
    "   - However, I/O-bound tasks (e.g., file I/O, database queries, or API calls) can benefit from multithreading as GIL is released during I/O operations.\n",
    "\n",
    "2. **Use Cases for Multithreading**:  \n",
    "   - Ideal for I/O-bound tasks like network operations, file downloads, or user interface responsiveness.  \n",
    "   - Not suitable for CPU-intensive tasks (use `multiprocessing` for such tasks).\n",
    "\n",
    "---\n",
    "\n",
    "## Implementing Multithreading in Python\n",
    "\n",
    "### Example 1: Basic Multithreading\n",
    "\n",
    "```python\n",
    "import threading\n",
    "import time\n",
    "\n",
    "def download_file(file_name):\n",
    "    print(f\"Starting download: {file_name}\")\n",
    "    time.sleep(2)  # Simulating file download time\n",
    "    print(f\"Download complete: {file_name}\")\n",
    "\n",
    "# Creating threads\n",
    "thread1 = threading.Thread(target=download_file, args=(\"file1.txt\",))\n",
    "thread2 = threading.Thread(target=download_file, args=(\"file2.txt\",))\n",
    "\n",
    "# Starting threads\n",
    "thread1.start()\n",
    "thread2.start()\n",
    "\n",
    "# Waiting for threads to complete\n",
    "thread1.join()\n",
    "thread2.join()\n",
    "\n",
    "print(\"All downloads completed!\")\n",
    "```\n",
    "\n",
    "**Output:**\n",
    "```\n",
    "Starting download: file1.txt\n",
    "Starting download: file2.txt\n",
    "Download complete: file1.txt\n",
    "Download complete: file2.txt\n",
    "All downloads completed!\n",
    "```\n",
    "\n",
    "---\n",
    "\n",
    "### Handling Shared Data and Race Conditions\n",
    "\n",
    "When multiple threads access shared resources, race conditions can occur. To handle this, you can use `threading.Lock`.\n",
    "\n",
    "```python\n",
    "import threading\n",
    "\n",
    "balance = 0\n",
    "lock = threading.Lock()\n",
    "\n",
    "def deposit(amount):\n",
    "    global balance\n",
    "    with lock:  # Ensures only one thread accesses this block at a time\n",
    "        temp = balance\n",
    "        temp += amount\n",
    "        balance = temp\n",
    "\n",
    "threads = []\n",
    "for _ in range(5):\n",
    "    thread = threading.Thread(target=deposit, args=(100,))\n",
    "    threads.append(thread)\n",
    "    thread.start()\n",
    "\n",
    "for thread in threads:\n",
    "    thread.join()\n",
    "\n",
    "print(f\"Final Balance: {balance}\")\n",
    "```\n",
    "\n",
    "---\n",
    "\n",
    "### When to Use Multithreading?\n",
    "\n",
    "1. **I/O-Bound Tasks**:  \n",
    "   - File operations, web scraping, database queries, etc.  \n",
    "   - Improves responsiveness and reduces latency.\n",
    "\n",
    "2. **CPU-Bound Tasks**:  \n",
    "   - For tasks like mathematical computations or data processing, use the `multiprocessing` module instead of `threading`.\n",
    "\n",
    "---\n",
    "\n",
    "### Key Points to Remember:\n",
    "- **GIL and Multithreading**: Python threads don't run in true parallelism due to GIL but can still be effective for I/O-bound operations.  \n",
    "- **Concurrency**: Focus on improving concurrency for tasks that involve waiting (like I/O).  \n",
    "- **Thread Safety**: Use locks (`threading.Lock`) or higher-level synchronization mechanisms when accessing shared resources.  \n",
    "\n",
    "### Conclusion:\n",
    "Python's multithreading is primarily beneficial for I/O-bound operations. For true parallelism in CPU-bound tasks, consider using the `multiprocessing` module. Understanding how to work with threads, locks, and synchronization is crucial for writing efficient and safe concurrent programs."
   ]
  },
  {
   "cell_type": "markdown",
   "metadata": {},
   "source": [
    "---\n",
    "\n",
    "---\n",
    "To understand how to run multiple codes (or threads) on a single core, and how bottlenecks arise, we need to delve into **concurrency**, **multithreading**, and the **limitations of hardware and software**. Here's a structured explanation:\n",
    "\n",
    "---\n",
    "\n",
    "## **How Multithreading Works on a Single Core**\n",
    "\n",
    "When we talk about running multiple threads on a single core, the process is managed by the **operating system's scheduler**. Here's how it happens:\n",
    "\n",
    "1. **Time-Slicing**:  \n",
    "   The single core divides its processing time into small slices and allocates each slice to a thread. This gives the illusion of parallelism, but at any given moment, only one thread is running on the core.\n",
    "\n",
    "2. **Context Switching**:  \n",
    "   When the operating system switches between threads, it saves the current thread's state and loads the next thread's state. This is known as a **context switch**.\n",
    "\n",
    "3. **Shared Resources**:  \n",
    "   Multiple threads may need access to the same resources (e.g., memory, disk I/O). The OS manages this sharing to ensure safe execution.\n",
    "\n",
    "---\n",
    "\n",
    "### **How to Run Multiple Threads on a Single Core**\n",
    "\n",
    "Here’s an example of how you can implement multithreading in Python to run multiple tasks:\n",
    "\n",
    "```python\n",
    "import threading\n",
    "import time\n",
    "\n",
    "def task(name):\n",
    "    for i in range(5):\n",
    "        print(f\"Task {name} is running iteration {i}\")\n",
    "        time.sleep(1)  # Simulates work\n",
    "\n",
    "# Creating multiple threads\n",
    "thread1 = threading.Thread(target=task, args=(\"1\",))\n",
    "thread2 = threading.Thread(target=task, args=(\"2\",))\n",
    "\n",
    "# Starting threads\n",
    "thread1.start()\n",
    "thread2.start()\n",
    "\n",
    "# Wait for threads to finish\n",
    "thread1.join()\n",
    "thread2.join()\n",
    "\n",
    "print(\"All tasks completed!\")\n",
    "```\n",
    "\n",
    "In a **quad-core processor**, this code may run on a single core if other cores are busy or under load balancing by the OS.\n",
    "\n",
    "---\n",
    "\n",
    "## **Bottlenecks in Multithreading on a Single Core**\n",
    "\n",
    "### 1. **Context Switching Overhead**  \n",
    "   - When multiple threads compete for CPU time, the frequent saving and loading of thread states (context switching) adds overhead.  \n",
    "   - If context switching is too frequent, it can degrade performance significantly.\n",
    "\n",
    "### 2. **Synchronization Issues**  \n",
    "   - Threads accessing shared resources (e.g., a variable) may cause race conditions or deadlocks. To prevent this, locks or synchronization mechanisms are used, which can slow down execution.\n",
    "\n",
    "### 3. **I/O Wait**  \n",
    "   - If a thread is waiting for I/O (e.g., file read/write), the core remains idle for that thread, wasting potential CPU cycles.\n",
    "\n",
    "### 4. **Cache Misses**  \n",
    "   - Each thread may require different data, leading to frequent cache invalidation and reloads, which slow down performance.\n",
    "\n",
    "---\n",
    "\n",
    "## **Visualization of Core and Thread Execution**\n",
    "\n",
    "Let’s take the example of a **quad-core processor (c1, c2, c3, c4)**:\n",
    "\n",
    "- **Normal Scenario**:  \n",
    "  Each core runs one task:\n",
    "  - c1 → Task 1  \n",
    "  - c2 → Task 2  \n",
    "  - c3 → Task 3  \n",
    "  - c4 → Task 4  \n",
    "\n",
    "- **Single Core with Multithreading**:  \n",
    "  If **c1** has to run multiple threads (e.g., T1, T2, T3), the core executes them in time slices:\n",
    "  - Time 0-1ms: T1  \n",
    "  - Time 1-2ms: T2  \n",
    "  - Time 2-3ms: T3  \n",
    "\n",
    "---\n",
    "\n",
    "### **How to Optimize Multithreading on a Single Core**\n",
    "\n",
    "1. **Minimize Context Switching**:\n",
    "   - Reduce the number of threads if possible.\n",
    "   - Group related tasks together.\n",
    "\n",
    "2. **Use Asynchronous Programming for I/O**:\n",
    "   - Instead of multithreading, use asynchronous methods (e.g., `asyncio` in Python) for I/O-bound tasks.\n",
    "\n",
    "3. **Efficient Locking**:\n",
    "   - Use minimal locking to avoid unnecessary blocking of threads.\n",
    "\n",
    "4. **Thread Pooling**:\n",
    "   - Use a thread pool to reuse threads and reduce the overhead of creating and destroying threads.\n",
    "\n",
    "---\n",
    "\n",
    "### **Conclusion**\n",
    "\n",
    "- **Multithreading** on a single core involves concurrency, not true parallelism.\n",
    "- It is managed through time-slicing and context switching.\n",
    "- Bottlenecks occur due to synchronization, overheads, or resource contention.\n",
    "- By optimizing thread management and understanding system constraints, multithreading can be efficiently implemented even on single-core systems."
   ]
  },
  {
   "cell_type": "markdown",
   "metadata": {},
   "source": []
  },
  {
   "cell_type": "markdown",
   "metadata": {},
   "source": []
  }
 ],
 "metadata": {
  "kernelspec": {
   "display_name": "Python 3",
   "language": "python",
   "name": "python3"
  },
  "language_info": {
   "codemirror_mode": {
    "name": "ipython",
    "version": 3
   },
   "file_extension": ".py",
   "mimetype": "text/x-python",
   "name": "python",
   "nbconvert_exporter": "python",
   "pygments_lexer": "ipython3",
   "version": "3.13.0"
  }
 },
 "nbformat": 4,
 "nbformat_minor": 2
}
